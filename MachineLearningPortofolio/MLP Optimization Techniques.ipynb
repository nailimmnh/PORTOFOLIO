{
  "cells": [
    {
      "cell_type": "markdown",
      "metadata": {
        "id": "view-in-github",
        "colab_type": "text"
      },
      "source": [
        "<a href=\"https://colab.research.google.com/github/nailimmnh/PORTOFOLIO/blob/main/MachineLearningPortofolio/MLP%20Activation%20Techniques.ipynb\" target=\"_parent\"><img src=\"https://colab.research.google.com/assets/colab-badge.svg\" alt=\"Open In Colab\"/></a>"
      ]
    },
    {
      "cell_type": "markdown",
      "source": [
        "Nailiyatul Mamnunah - 2016722801"
      ],
      "metadata": {
        "id": "CnMFX8IBfC8_"
      },
      "id": "CnMFX8IBfC8_"
    },
    {
      "cell_type": "code",
      "execution_count": null,
      "id": "270c2008",
      "metadata": {
        "id": "270c2008",
        "outputId": "bbe78681-08ba-4ff0-f4d5-0635169edb4d",
        "colab": {
          "base_uri": "https://localhost:8080/",
          "height": 1000
        }
      },
      "outputs": [
        {
          "output_type": "stream",
          "name": "stdout",
          "text": [
            "Collecting d2l==1.0.3\n",
            "  Downloading d2l-1.0.3-py3-none-any.whl.metadata (556 bytes)\n",
            "Collecting jupyter==1.0.0 (from d2l==1.0.3)\n",
            "  Downloading jupyter-1.0.0-py2.py3-none-any.whl.metadata (995 bytes)\n",
            "Collecting numpy==1.23.5 (from d2l==1.0.3)\n",
            "  Downloading numpy-1.23.5-cp310-cp310-manylinux_2_17_x86_64.manylinux2014_x86_64.whl.metadata (2.3 kB)\n",
            "Collecting matplotlib==3.7.2 (from d2l==1.0.3)\n",
            "  Downloading matplotlib-3.7.2-cp310-cp310-manylinux_2_17_x86_64.manylinux2014_x86_64.whl.metadata (5.6 kB)\n",
            "Collecting matplotlib-inline==0.1.6 (from d2l==1.0.3)\n",
            "  Downloading matplotlib_inline-0.1.6-py3-none-any.whl.metadata (2.8 kB)\n",
            "Collecting requests==2.31.0 (from d2l==1.0.3)\n",
            "  Downloading requests-2.31.0-py3-none-any.whl.metadata (4.6 kB)\n",
            "Collecting pandas==2.0.3 (from d2l==1.0.3)\n",
            "  Downloading pandas-2.0.3-cp310-cp310-manylinux_2_17_x86_64.manylinux2014_x86_64.whl.metadata (18 kB)\n",
            "Collecting scipy==1.10.1 (from d2l==1.0.3)\n",
            "  Downloading scipy-1.10.1-cp310-cp310-manylinux_2_17_x86_64.manylinux2014_x86_64.whl.metadata (58 kB)\n",
            "\u001b[2K     \u001b[90m━━━━━━━━━━━━━━━━━━━━━━━━━━━━━━━━━━━━━━━━\u001b[0m \u001b[32m58.9/58.9 kB\u001b[0m \u001b[31m5.4 MB/s\u001b[0m eta \u001b[36m0:00:00\u001b[0m\n",
            "\u001b[?25hRequirement already satisfied: notebook in /usr/local/lib/python3.10/dist-packages (from jupyter==1.0.0->d2l==1.0.3) (6.5.5)\n",
            "Collecting qtconsole (from jupyter==1.0.0->d2l==1.0.3)\n",
            "  Downloading qtconsole-5.6.0-py3-none-any.whl.metadata (5.0 kB)\n",
            "Requirement already satisfied: jupyter-console in /usr/local/lib/python3.10/dist-packages (from jupyter==1.0.0->d2l==1.0.3) (6.1.0)\n",
            "Requirement already satisfied: nbconvert in /usr/local/lib/python3.10/dist-packages (from jupyter==1.0.0->d2l==1.0.3) (6.5.4)\n",
            "Requirement already satisfied: ipykernel in /usr/local/lib/python3.10/dist-packages (from jupyter==1.0.0->d2l==1.0.3) (5.5.6)\n",
            "Requirement already satisfied: ipywidgets in /usr/local/lib/python3.10/dist-packages (from jupyter==1.0.0->d2l==1.0.3) (7.7.1)\n",
            "Requirement already satisfied: contourpy>=1.0.1 in /usr/local/lib/python3.10/dist-packages (from matplotlib==3.7.2->d2l==1.0.3) (1.3.0)\n",
            "Requirement already satisfied: cycler>=0.10 in /usr/local/lib/python3.10/dist-packages (from matplotlib==3.7.2->d2l==1.0.3) (0.12.1)\n",
            "Requirement already satisfied: fonttools>=4.22.0 in /usr/local/lib/python3.10/dist-packages (from matplotlib==3.7.2->d2l==1.0.3) (4.54.1)\n",
            "Requirement already satisfied: kiwisolver>=1.0.1 in /usr/local/lib/python3.10/dist-packages (from matplotlib==3.7.2->d2l==1.0.3) (1.4.7)\n",
            "Requirement already satisfied: packaging>=20.0 in /usr/local/lib/python3.10/dist-packages (from matplotlib==3.7.2->d2l==1.0.3) (24.1)\n",
            "Requirement already satisfied: pillow>=6.2.0 in /usr/local/lib/python3.10/dist-packages (from matplotlib==3.7.2->d2l==1.0.3) (10.4.0)\n",
            "Collecting pyparsing<3.1,>=2.3.1 (from matplotlib==3.7.2->d2l==1.0.3)\n",
            "  Downloading pyparsing-3.0.9-py3-none-any.whl.metadata (4.2 kB)\n",
            "Requirement already satisfied: python-dateutil>=2.7 in /usr/local/lib/python3.10/dist-packages (from matplotlib==3.7.2->d2l==1.0.3) (2.8.2)\n",
            "Requirement already satisfied: traitlets in /usr/local/lib/python3.10/dist-packages (from matplotlib-inline==0.1.6->d2l==1.0.3) (5.7.1)\n",
            "Requirement already satisfied: pytz>=2020.1 in /usr/local/lib/python3.10/dist-packages (from pandas==2.0.3->d2l==1.0.3) (2024.2)\n",
            "Requirement already satisfied: tzdata>=2022.1 in /usr/local/lib/python3.10/dist-packages (from pandas==2.0.3->d2l==1.0.3) (2024.2)\n",
            "Requirement already satisfied: charset-normalizer<4,>=2 in /usr/local/lib/python3.10/dist-packages (from requests==2.31.0->d2l==1.0.3) (3.3.2)\n",
            "Requirement already satisfied: idna<4,>=2.5 in /usr/local/lib/python3.10/dist-packages (from requests==2.31.0->d2l==1.0.3) (3.10)\n",
            "Requirement already satisfied: urllib3<3,>=1.21.1 in /usr/local/lib/python3.10/dist-packages (from requests==2.31.0->d2l==1.0.3) (2.2.3)\n",
            "Requirement already satisfied: certifi>=2017.4.17 in /usr/local/lib/python3.10/dist-packages (from requests==2.31.0->d2l==1.0.3) (2024.8.30)\n",
            "Requirement already satisfied: six>=1.5 in /usr/local/lib/python3.10/dist-packages (from python-dateutil>=2.7->matplotlib==3.7.2->d2l==1.0.3) (1.16.0)\n",
            "Requirement already satisfied: ipython-genutils in /usr/local/lib/python3.10/dist-packages (from ipykernel->jupyter==1.0.0->d2l==1.0.3) (0.2.0)\n",
            "Requirement already satisfied: ipython>=5.0.0 in /usr/local/lib/python3.10/dist-packages (from ipykernel->jupyter==1.0.0->d2l==1.0.3) (7.34.0)\n",
            "Requirement already satisfied: jupyter-client in /usr/local/lib/python3.10/dist-packages (from ipykernel->jupyter==1.0.0->d2l==1.0.3) (6.1.12)\n",
            "Requirement already satisfied: tornado>=4.2 in /usr/local/lib/python3.10/dist-packages (from ipykernel->jupyter==1.0.0->d2l==1.0.3) (6.3.3)\n",
            "Requirement already satisfied: widgetsnbextension~=3.6.0 in /usr/local/lib/python3.10/dist-packages (from ipywidgets->jupyter==1.0.0->d2l==1.0.3) (3.6.9)\n",
            "Requirement already satisfied: jupyterlab-widgets>=1.0.0 in /usr/local/lib/python3.10/dist-packages (from ipywidgets->jupyter==1.0.0->d2l==1.0.3) (3.0.13)\n",
            "Requirement already satisfied: prompt-toolkit!=3.0.0,!=3.0.1,<3.1.0,>=2.0.0 in /usr/local/lib/python3.10/dist-packages (from jupyter-console->jupyter==1.0.0->d2l==1.0.3) (3.0.48)\n",
            "Requirement already satisfied: pygments in /usr/local/lib/python3.10/dist-packages (from jupyter-console->jupyter==1.0.0->d2l==1.0.3) (2.18.0)\n",
            "Requirement already satisfied: lxml in /usr/local/lib/python3.10/dist-packages (from nbconvert->jupyter==1.0.0->d2l==1.0.3) (4.9.4)\n",
            "Requirement already satisfied: beautifulsoup4 in /usr/local/lib/python3.10/dist-packages (from nbconvert->jupyter==1.0.0->d2l==1.0.3) (4.12.3)\n",
            "Requirement already satisfied: bleach in /usr/local/lib/python3.10/dist-packages (from nbconvert->jupyter==1.0.0->d2l==1.0.3) (6.1.0)\n",
            "Requirement already satisfied: defusedxml in /usr/local/lib/python3.10/dist-packages (from nbconvert->jupyter==1.0.0->d2l==1.0.3) (0.7.1)\n",
            "Requirement already satisfied: entrypoints>=0.2.2 in /usr/local/lib/python3.10/dist-packages (from nbconvert->jupyter==1.0.0->d2l==1.0.3) (0.4)\n",
            "Requirement already satisfied: jinja2>=3.0 in /usr/local/lib/python3.10/dist-packages (from nbconvert->jupyter==1.0.0->d2l==1.0.3) (3.1.4)\n",
            "Requirement already satisfied: jupyter-core>=4.7 in /usr/local/lib/python3.10/dist-packages (from nbconvert->jupyter==1.0.0->d2l==1.0.3) (5.7.2)\n",
            "Requirement already satisfied: jupyterlab-pygments in /usr/local/lib/python3.10/dist-packages (from nbconvert->jupyter==1.0.0->d2l==1.0.3) (0.3.0)\n",
            "Requirement already satisfied: MarkupSafe>=2.0 in /usr/local/lib/python3.10/dist-packages (from nbconvert->jupyter==1.0.0->d2l==1.0.3) (2.1.5)\n",
            "Requirement already satisfied: mistune<2,>=0.8.1 in /usr/local/lib/python3.10/dist-packages (from nbconvert->jupyter==1.0.0->d2l==1.0.3) (0.8.4)\n",
            "Requirement already satisfied: nbclient>=0.5.0 in /usr/local/lib/python3.10/dist-packages (from nbconvert->jupyter==1.0.0->d2l==1.0.3) (0.10.0)\n",
            "Requirement already satisfied: nbformat>=5.1 in /usr/local/lib/python3.10/dist-packages (from nbconvert->jupyter==1.0.0->d2l==1.0.3) (5.10.4)\n",
            "Requirement already satisfied: pandocfilters>=1.4.1 in /usr/local/lib/python3.10/dist-packages (from nbconvert->jupyter==1.0.0->d2l==1.0.3) (1.5.1)\n",
            "Requirement already satisfied: tinycss2 in /usr/local/lib/python3.10/dist-packages (from nbconvert->jupyter==1.0.0->d2l==1.0.3) (1.3.0)\n",
            "Requirement already satisfied: pyzmq<25,>=17 in /usr/local/lib/python3.10/dist-packages (from notebook->jupyter==1.0.0->d2l==1.0.3) (24.0.1)\n",
            "Requirement already satisfied: argon2-cffi in /usr/local/lib/python3.10/dist-packages (from notebook->jupyter==1.0.0->d2l==1.0.3) (23.1.0)\n",
            "Requirement already satisfied: nest-asyncio>=1.5 in /usr/local/lib/python3.10/dist-packages (from notebook->jupyter==1.0.0->d2l==1.0.3) (1.6.0)\n",
            "Requirement already satisfied: Send2Trash>=1.8.0 in /usr/local/lib/python3.10/dist-packages (from notebook->jupyter==1.0.0->d2l==1.0.3) (1.8.3)\n",
            "Requirement already satisfied: terminado>=0.8.3 in /usr/local/lib/python3.10/dist-packages (from notebook->jupyter==1.0.0->d2l==1.0.3) (0.18.1)\n",
            "Requirement already satisfied: prometheus-client in /usr/local/lib/python3.10/dist-packages (from notebook->jupyter==1.0.0->d2l==1.0.3) (0.21.0)\n",
            "Requirement already satisfied: nbclassic>=0.4.7 in /usr/local/lib/python3.10/dist-packages (from notebook->jupyter==1.0.0->d2l==1.0.3) (1.1.0)\n",
            "Collecting qtpy>=2.4.0 (from qtconsole->jupyter==1.0.0->d2l==1.0.3)\n",
            "  Downloading QtPy-2.4.1-py3-none-any.whl.metadata (12 kB)\n",
            "Requirement already satisfied: setuptools>=18.5 in /usr/local/lib/python3.10/dist-packages (from ipython>=5.0.0->ipykernel->jupyter==1.0.0->d2l==1.0.3) (71.0.4)\n",
            "Collecting jedi>=0.16 (from ipython>=5.0.0->ipykernel->jupyter==1.0.0->d2l==1.0.3)\n",
            "  Using cached jedi-0.19.1-py2.py3-none-any.whl.metadata (22 kB)\n",
            "Requirement already satisfied: decorator in /usr/local/lib/python3.10/dist-packages (from ipython>=5.0.0->ipykernel->jupyter==1.0.0->d2l==1.0.3) (4.4.2)\n",
            "Requirement already satisfied: pickleshare in /usr/local/lib/python3.10/dist-packages (from ipython>=5.0.0->ipykernel->jupyter==1.0.0->d2l==1.0.3) (0.7.5)\n",
            "Requirement already satisfied: backcall in /usr/local/lib/python3.10/dist-packages (from ipython>=5.0.0->ipykernel->jupyter==1.0.0->d2l==1.0.3) (0.2.0)\n",
            "Requirement already satisfied: pexpect>4.3 in /usr/local/lib/python3.10/dist-packages (from ipython>=5.0.0->ipykernel->jupyter==1.0.0->d2l==1.0.3) (4.9.0)\n",
            "Requirement already satisfied: platformdirs>=2.5 in /usr/local/lib/python3.10/dist-packages (from jupyter-core>=4.7->nbconvert->jupyter==1.0.0->d2l==1.0.3) (4.3.6)\n",
            "Requirement already satisfied: notebook-shim>=0.2.3 in /usr/local/lib/python3.10/dist-packages (from nbclassic>=0.4.7->notebook->jupyter==1.0.0->d2l==1.0.3) (0.2.4)\n",
            "Requirement already satisfied: fastjsonschema>=2.15 in /usr/local/lib/python3.10/dist-packages (from nbformat>=5.1->nbconvert->jupyter==1.0.0->d2l==1.0.3) (2.20.0)\n",
            "Requirement already satisfied: jsonschema>=2.6 in /usr/local/lib/python3.10/dist-packages (from nbformat>=5.1->nbconvert->jupyter==1.0.0->d2l==1.0.3) (4.23.0)\n",
            "Requirement already satisfied: wcwidth in /usr/local/lib/python3.10/dist-packages (from prompt-toolkit!=3.0.0,!=3.0.1,<3.1.0,>=2.0.0->jupyter-console->jupyter==1.0.0->d2l==1.0.3) (0.2.13)\n",
            "Requirement already satisfied: ptyprocess in /usr/local/lib/python3.10/dist-packages (from terminado>=0.8.3->notebook->jupyter==1.0.0->d2l==1.0.3) (0.7.0)\n",
            "Requirement already satisfied: argon2-cffi-bindings in /usr/local/lib/python3.10/dist-packages (from argon2-cffi->notebook->jupyter==1.0.0->d2l==1.0.3) (21.2.0)\n",
            "Requirement already satisfied: soupsieve>1.2 in /usr/local/lib/python3.10/dist-packages (from beautifulsoup4->nbconvert->jupyter==1.0.0->d2l==1.0.3) (2.6)\n",
            "Requirement already satisfied: webencodings in /usr/local/lib/python3.10/dist-packages (from bleach->nbconvert->jupyter==1.0.0->d2l==1.0.3) (0.5.1)\n",
            "Requirement already satisfied: parso<0.9.0,>=0.8.3 in /usr/local/lib/python3.10/dist-packages (from jedi>=0.16->ipython>=5.0.0->ipykernel->jupyter==1.0.0->d2l==1.0.3) (0.8.4)\n",
            "Requirement already satisfied: attrs>=22.2.0 in /usr/local/lib/python3.10/dist-packages (from jsonschema>=2.6->nbformat>=5.1->nbconvert->jupyter==1.0.0->d2l==1.0.3) (24.2.0)\n",
            "Requirement already satisfied: jsonschema-specifications>=2023.03.6 in /usr/local/lib/python3.10/dist-packages (from jsonschema>=2.6->nbformat>=5.1->nbconvert->jupyter==1.0.0->d2l==1.0.3) (2023.12.1)\n",
            "Requirement already satisfied: referencing>=0.28.4 in /usr/local/lib/python3.10/dist-packages (from jsonschema>=2.6->nbformat>=5.1->nbconvert->jupyter==1.0.0->d2l==1.0.3) (0.35.1)\n",
            "Requirement already satisfied: rpds-py>=0.7.1 in /usr/local/lib/python3.10/dist-packages (from jsonschema>=2.6->nbformat>=5.1->nbconvert->jupyter==1.0.0->d2l==1.0.3) (0.20.0)\n",
            "Requirement already satisfied: jupyter-server<3,>=1.8 in /usr/local/lib/python3.10/dist-packages (from notebook-shim>=0.2.3->nbclassic>=0.4.7->notebook->jupyter==1.0.0->d2l==1.0.3) (1.24.0)\n",
            "Requirement already satisfied: cffi>=1.0.1 in /usr/local/lib/python3.10/dist-packages (from argon2-cffi-bindings->argon2-cffi->notebook->jupyter==1.0.0->d2l==1.0.3) (1.17.1)\n",
            "Requirement already satisfied: pycparser in /usr/local/lib/python3.10/dist-packages (from cffi>=1.0.1->argon2-cffi-bindings->argon2-cffi->notebook->jupyter==1.0.0->d2l==1.0.3) (2.22)\n",
            "Requirement already satisfied: anyio<4,>=3.1.0 in /usr/local/lib/python3.10/dist-packages (from jupyter-server<3,>=1.8->notebook-shim>=0.2.3->nbclassic>=0.4.7->notebook->jupyter==1.0.0->d2l==1.0.3) (3.7.1)\n",
            "Requirement already satisfied: websocket-client in /usr/local/lib/python3.10/dist-packages (from jupyter-server<3,>=1.8->notebook-shim>=0.2.3->nbclassic>=0.4.7->notebook->jupyter==1.0.0->d2l==1.0.3) (1.8.0)\n",
            "Requirement already satisfied: sniffio>=1.1 in /usr/local/lib/python3.10/dist-packages (from anyio<4,>=3.1.0->jupyter-server<3,>=1.8->notebook-shim>=0.2.3->nbclassic>=0.4.7->notebook->jupyter==1.0.0->d2l==1.0.3) (1.3.1)\n",
            "Requirement already satisfied: exceptiongroup in /usr/local/lib/python3.10/dist-packages (from anyio<4,>=3.1.0->jupyter-server<3,>=1.8->notebook-shim>=0.2.3->nbclassic>=0.4.7->notebook->jupyter==1.0.0->d2l==1.0.3) (1.2.2)\n",
            "Downloading d2l-1.0.3-py3-none-any.whl (111 kB)\n",
            "\u001b[2K   \u001b[90m━━━━━━━━━━━━━━━━━━━━━━━━━━━━━━━━━━━━━━━━\u001b[0m \u001b[32m111.7/111.7 kB\u001b[0m \u001b[31m10.7 MB/s\u001b[0m eta \u001b[36m0:00:00\u001b[0m\n",
            "\u001b[?25hDownloading jupyter-1.0.0-py2.py3-none-any.whl (2.7 kB)\n",
            "Downloading matplotlib-3.7.2-cp310-cp310-manylinux_2_17_x86_64.manylinux2014_x86_64.whl (11.6 MB)\n",
            "\u001b[2K   \u001b[90m━━━━━━━━━━━━━━━━━━━━━━━━━━━━━━━━━━━━━━━━\u001b[0m \u001b[32m11.6/11.6 MB\u001b[0m \u001b[31m98.9 MB/s\u001b[0m eta \u001b[36m0:00:00\u001b[0m\n",
            "\u001b[?25hDownloading matplotlib_inline-0.1.6-py3-none-any.whl (9.4 kB)\n",
            "Downloading numpy-1.23.5-cp310-cp310-manylinux_2_17_x86_64.manylinux2014_x86_64.whl (17.1 MB)\n",
            "\u001b[2K   \u001b[90m━━━━━━━━━━━━━━━━━━━━━━━━━━━━━━━━━━━━━━━━\u001b[0m \u001b[32m17.1/17.1 MB\u001b[0m \u001b[31m97.1 MB/s\u001b[0m eta \u001b[36m0:00:00\u001b[0m\n",
            "\u001b[?25hDownloading pandas-2.0.3-cp310-cp310-manylinux_2_17_x86_64.manylinux2014_x86_64.whl (12.3 MB)\n",
            "\u001b[2K   \u001b[90m━━━━━━━━━━━━━━━━━━━━━━━━━━━━━━━━━━━━━━━━\u001b[0m \u001b[32m12.3/12.3 MB\u001b[0m \u001b[31m76.1 MB/s\u001b[0m eta \u001b[36m0:00:00\u001b[0m\n",
            "\u001b[?25hDownloading requests-2.31.0-py3-none-any.whl (62 kB)\n",
            "\u001b[2K   \u001b[90m━━━━━━━━━━━━━━━━━━━━━━━━━━━━━━━━━━━━━━━━\u001b[0m \u001b[32m62.6/62.6 kB\u001b[0m \u001b[31m5.8 MB/s\u001b[0m eta \u001b[36m0:00:00\u001b[0m\n",
            "\u001b[?25hDownloading scipy-1.10.1-cp310-cp310-manylinux_2_17_x86_64.manylinux2014_x86_64.whl (34.4 MB)\n",
            "\u001b[2K   \u001b[90m━━━━━━━━━━━━━━━━━━━━━━━━━━━━━━━━━━━━━━━━\u001b[0m \u001b[32m34.4/34.4 MB\u001b[0m \u001b[31m18.9 MB/s\u001b[0m eta \u001b[36m0:00:00\u001b[0m\n",
            "\u001b[?25hDownloading pyparsing-3.0.9-py3-none-any.whl (98 kB)\n",
            "\u001b[2K   \u001b[90m━━━━━━━━━━━━━━━━━━━━━━━━━━━━━━━━━━━━━━━━\u001b[0m \u001b[32m98.3/98.3 kB\u001b[0m \u001b[31m9.3 MB/s\u001b[0m eta \u001b[36m0:00:00\u001b[0m\n",
            "\u001b[?25hDownloading qtconsole-5.6.0-py3-none-any.whl (124 kB)\n",
            "\u001b[2K   \u001b[90m━━━━━━━━━━━━━━━━━━━━━━━━━━━━━━━━━━━━━━━━\u001b[0m \u001b[32m124.7/124.7 kB\u001b[0m \u001b[31m12.7 MB/s\u001b[0m eta \u001b[36m0:00:00\u001b[0m\n",
            "\u001b[?25hDownloading QtPy-2.4.1-py3-none-any.whl (93 kB)\n",
            "\u001b[2K   \u001b[90m━━━━━━━━━━━━━━━━━━━━━━━━━━━━━━━━━━━━━━━━\u001b[0m \u001b[32m93.5/93.5 kB\u001b[0m \u001b[31m8.6 MB/s\u001b[0m eta \u001b[36m0:00:00\u001b[0m\n",
            "\u001b[?25hUsing cached jedi-0.19.1-py2.py3-none-any.whl (1.6 MB)\n",
            "Installing collected packages: requests, qtpy, pyparsing, numpy, matplotlib-inline, jedi, scipy, pandas, matplotlib, qtconsole, jupyter, d2l\n",
            "  Attempting uninstall: requests\n",
            "    Found existing installation: requests 2.32.3\n",
            "    Uninstalling requests-2.32.3:\n",
            "      Successfully uninstalled requests-2.32.3\n",
            "  Attempting uninstall: pyparsing\n",
            "    Found existing installation: pyparsing 3.1.4\n",
            "    Uninstalling pyparsing-3.1.4:\n",
            "      Successfully uninstalled pyparsing-3.1.4\n",
            "  Attempting uninstall: numpy\n",
            "    Found existing installation: numpy 1.26.4\n",
            "    Uninstalling numpy-1.26.4:\n",
            "      Successfully uninstalled numpy-1.26.4\n",
            "  Attempting uninstall: matplotlib-inline\n",
            "    Found existing installation: matplotlib-inline 0.1.7\n",
            "    Uninstalling matplotlib-inline-0.1.7:\n",
            "      Successfully uninstalled matplotlib-inline-0.1.7\n",
            "  Attempting uninstall: scipy\n",
            "    Found existing installation: scipy 1.13.1\n",
            "    Uninstalling scipy-1.13.1:\n",
            "      Successfully uninstalled scipy-1.13.1\n",
            "  Attempting uninstall: pandas\n",
            "    Found existing installation: pandas 2.2.2\n",
            "    Uninstalling pandas-2.2.2:\n",
            "      Successfully uninstalled pandas-2.2.2\n",
            "  Attempting uninstall: matplotlib\n",
            "    Found existing installation: matplotlib 3.7.1\n",
            "    Uninstalling matplotlib-3.7.1:\n",
            "      Successfully uninstalled matplotlib-3.7.1\n",
            "\u001b[31mERROR: pip's dependency resolver does not currently take into account all the packages that are installed. This behaviour is the source of the following dependency conflicts.\n",
            "albucore 0.0.16 requires numpy>=1.24, but you have numpy 1.23.5 which is incompatible.\n",
            "albumentations 1.4.15 requires numpy>=1.24.4, but you have numpy 1.23.5 which is incompatible.\n",
            "bigframes 1.19.0 requires numpy>=1.24.0, but you have numpy 1.23.5 which is incompatible.\n",
            "chex 0.1.87 requires numpy>=1.24.1, but you have numpy 1.23.5 which is incompatible.\n",
            "google-colab 1.0.0 requires pandas==2.2.2, but you have pandas 2.0.3 which is incompatible.\n",
            "google-colab 1.0.0 requires requests==2.32.3, but you have requests 2.31.0 which is incompatible.\n",
            "jax 0.4.33 requires numpy>=1.24, but you have numpy 1.23.5 which is incompatible.\n",
            "jaxlib 0.4.33 requires numpy>=1.24, but you have numpy 1.23.5 which is incompatible.\n",
            "mizani 0.11.4 requires pandas>=2.1.0, but you have pandas 2.0.3 which is incompatible.\n",
            "plotnine 0.13.6 requires pandas<3.0.0,>=2.1.0, but you have pandas 2.0.3 which is incompatible.\n",
            "xarray 2024.9.0 requires numpy>=1.24, but you have numpy 1.23.5 which is incompatible.\n",
            "xarray 2024.9.0 requires pandas>=2.1, but you have pandas 2.0.3 which is incompatible.\u001b[0m\u001b[31m\n",
            "\u001b[0mSuccessfully installed d2l-1.0.3 jedi-0.19.1 jupyter-1.0.0 matplotlib-3.7.2 matplotlib-inline-0.1.6 numpy-1.23.5 pandas-2.0.3 pyparsing-3.0.9 qtconsole-5.6.0 qtpy-2.4.1 requests-2.31.0 scipy-1.10.1\n"
          ]
        },
        {
          "output_type": "display_data",
          "data": {
            "application/vnd.colab-display-data+json": {
              "pip_warning": {
                "packages": [
                  "matplotlib",
                  "matplotlib_inline",
                  "mpl_toolkits",
                  "numpy"
                ]
              },
              "id": "51d1c6c3899148aa83e5f25e2385b929"
            }
          },
          "metadata": {}
        }
      ],
      "source": [
        "!pip install d2l==1.0.3\n"
      ]
    },
    {
      "cell_type": "markdown",
      "source": [
        "# 8.1 - Deep Convolutional Neural Networks (AlexNet)"
      ],
      "metadata": {
        "id": "Jtj-lqBCfITS"
      },
      "id": "Jtj-lqBCfITS"
    },
    {
      "cell_type": "code",
      "execution_count": null,
      "id": "07938be6",
      "metadata": {
        "attributes": {
          "classes": [],
          "id": "",
          "n": "3"
        },
        "execution": {
          "iopub.execute_input": "2023-08-18T19:43:33.339125Z",
          "iopub.status.busy": "2023-08-18T19:43:33.338612Z",
          "iopub.status.idle": "2023-08-18T19:43:36.248351Z",
          "shell.execute_reply": "2023-08-18T19:43:36.247404Z"
        },
        "origin_pos": 3,
        "tab": [
          "pytorch"
        ],
        "id": "07938be6"
      },
      "outputs": [],
      "source": [
        "import torch\n",
        "from torch import nn\n",
        "from d2l import torch as d2l"
      ]
    },
    {
      "cell_type": "markdown",
      "source": [
        "## 8.1.2 AlexNet"
      ],
      "metadata": {
        "id": "b7vW5m01fYuR"
      },
      "id": "b7vW5m01fYuR"
    },
    {
      "cell_type": "markdown",
      "source": [
        "### 8.1.2.3 Capacity Control and Preprocessing"
      ],
      "metadata": {
        "id": "3q7D3UP7fZmu"
      },
      "id": "3q7D3UP7fZmu"
    },
    {
      "cell_type": "code",
      "execution_count": null,
      "id": "29feac8e",
      "metadata": {
        "attributes": {
          "classes": [],
          "id": "",
          "n": "5"
        },
        "execution": {
          "iopub.execute_input": "2023-08-18T19:43:36.252627Z",
          "iopub.status.busy": "2023-08-18T19:43:36.251926Z",
          "iopub.status.idle": "2023-08-18T19:43:36.259662Z",
          "shell.execute_reply": "2023-08-18T19:43:36.258841Z"
        },
        "origin_pos": 7,
        "tab": [
          "pytorch"
        ],
        "id": "29feac8e"
      },
      "outputs": [],
      "source": [
        "class AlexNet(d2l.Classifier):\n",
        "    def __init__(self, lr=0.1, num_classes=10):\n",
        "        super().__init__()\n",
        "        self.save_hyperparameters()\n",
        "        self.net = nn.Sequential(\n",
        "            nn.LazyConv2d(96, kernel_size=11, stride=4, padding=1),\n",
        "            nn.ReLU(), nn.MaxPool2d(kernel_size=3, stride=2),\n",
        "            nn.LazyConv2d(256, kernel_size=5, padding=2), nn.ReLU(),\n",
        "            nn.MaxPool2d(kernel_size=3, stride=2),\n",
        "            nn.LazyConv2d(384, kernel_size=3, padding=1), nn.ReLU(),\n",
        "            nn.LazyConv2d(384, kernel_size=3, padding=1), nn.ReLU(),\n",
        "            nn.LazyConv2d(256, kernel_size=3, padding=1), nn.ReLU(),\n",
        "            nn.MaxPool2d(kernel_size=3, stride=2), nn.Flatten(),\n",
        "            nn.LazyLinear(4096), nn.ReLU(), nn.Dropout(p=0.5),\n",
        "            nn.LazyLinear(4096), nn.ReLU(),nn.Dropout(p=0.5),\n",
        "            nn.LazyLinear(num_classes))\n",
        "        self.net.apply(d2l.init_cnn)"
      ]
    },
    {
      "cell_type": "code",
      "execution_count": null,
      "id": "3d5c2c0a",
      "metadata": {
        "attributes": {
          "classes": [],
          "id": "",
          "n": "6"
        },
        "execution": {
          "iopub.execute_input": "2023-08-18T19:43:36.262984Z",
          "iopub.status.busy": "2023-08-18T19:43:36.262447Z",
          "iopub.status.idle": "2023-08-18T19:43:36.786362Z",
          "shell.execute_reply": "2023-08-18T19:43:36.785437Z"
        },
        "origin_pos": 10,
        "tab": [
          "pytorch"
        ],
        "id": "3d5c2c0a",
        "outputId": "0c547f53-8e1e-4e7a-89f4-da746a9f090d",
        "colab": {
          "base_uri": "https://localhost:8080/"
        }
      },
      "outputs": [
        {
          "output_type": "stream",
          "name": "stdout",
          "text": [
            "Conv2d output shape:\t torch.Size([1, 96, 54, 54])\n",
            "ReLU output shape:\t torch.Size([1, 96, 54, 54])\n",
            "MaxPool2d output shape:\t torch.Size([1, 96, 26, 26])\n",
            "Conv2d output shape:\t torch.Size([1, 256, 26, 26])\n",
            "ReLU output shape:\t torch.Size([1, 256, 26, 26])\n",
            "MaxPool2d output shape:\t torch.Size([1, 256, 12, 12])\n",
            "Conv2d output shape:\t torch.Size([1, 384, 12, 12])\n",
            "ReLU output shape:\t torch.Size([1, 384, 12, 12])\n",
            "Conv2d output shape:\t torch.Size([1, 384, 12, 12])\n",
            "ReLU output shape:\t torch.Size([1, 384, 12, 12])\n",
            "Conv2d output shape:\t torch.Size([1, 256, 12, 12])\n",
            "ReLU output shape:\t torch.Size([1, 256, 12, 12])\n",
            "MaxPool2d output shape:\t torch.Size([1, 256, 5, 5])\n",
            "Flatten output shape:\t torch.Size([1, 6400])\n",
            "Linear output shape:\t torch.Size([1, 4096])\n",
            "ReLU output shape:\t torch.Size([1, 4096])\n",
            "Dropout output shape:\t torch.Size([1, 4096])\n",
            "Linear output shape:\t torch.Size([1, 4096])\n",
            "ReLU output shape:\t torch.Size([1, 4096])\n",
            "Dropout output shape:\t torch.Size([1, 4096])\n",
            "Linear output shape:\t torch.Size([1, 10])\n"
          ]
        }
      ],
      "source": [
        "AlexNet().layer_summary((1, 1, 224, 224))"
      ]
    },
    {
      "cell_type": "markdown",
      "source": [
        "## 8.1.3 Training"
      ],
      "metadata": {
        "id": "F2UjUW8qfmOC"
      },
      "id": "F2UjUW8qfmOC"
    },
    {
      "cell_type": "code",
      "execution_count": null,
      "id": "acd6a3e0",
      "metadata": {
        "attributes": {
          "classes": [],
          "id": "",
          "n": "8"
        },
        "execution": {
          "iopub.execute_input": "2023-08-18T19:43:36.789914Z",
          "iopub.status.busy": "2023-08-18T19:43:36.789357Z",
          "iopub.status.idle": "2023-08-18T19:46:37.458518Z",
          "shell.execute_reply": "2023-08-18T19:46:37.457483Z"
        },
        "origin_pos": 14,
        "tab": [
          "pytorch"
        ],
        "id": "acd6a3e0",
        "outputId": "71b6e5f1-aca9-47e6-a3ea-27e13bad54cb",
        "colab": {
          "base_uri": "https://localhost:8080/",
          "height": 265
        }
      },
      "outputs": [
        {
          "output_type": "display_data",
          "data": {
            "text/plain": [
              "<Figure size 350x250 with 1 Axes>"
            ],
            "image/svg+xml": "<?xml version=\"1.0\" encoding=\"utf-8\" standalone=\"no\"?>\n<!DOCTYPE svg PUBLIC \"-//W3C//DTD SVG 1.1//EN\"\n  \"http://www.w3.org/Graphics/SVG/1.1/DTD/svg11.dtd\">\n<svg xmlns:xlink=\"http://www.w3.org/1999/xlink\" width=\"238.965625pt\" height=\"183.35625pt\" viewBox=\"0 0 238.965625 183.35625\" xmlns=\"http://www.w3.org/2000/svg\" version=\"1.1\">\n <metadata>\n  <rdf:RDF xmlns:dc=\"http://purl.org/dc/elements/1.1/\" xmlns:cc=\"http://creativecommons.org/ns#\" xmlns:rdf=\"http://www.w3.org/1999/02/22-rdf-syntax-ns#\">\n   <cc:Work>\n    <dc:type rdf:resource=\"http://purl.org/dc/dcmitype/StillImage\"/>\n    <dc:date>2024-10-04T13:21:40.861694</dc:date>\n    <dc:format>image/svg+xml</dc:format>\n    <dc:creator>\n     <cc:Agent>\n      <dc:title>Matplotlib v3.7.2, https://matplotlib.org/</dc:title>\n     </cc:Agent>\n    </dc:creator>\n   </cc:Work>\n  </rdf:RDF>\n </metadata>\n <defs>\n  <style type=\"text/css\">*{stroke-linejoin: round; stroke-linecap: butt}</style>\n </defs>\n <g id=\"figure_1\">\n  <g id=\"patch_1\">\n   <path d=\"M 0 183.35625 \nL 238.965625 183.35625 \nL 238.965625 0 \nL 0 0 \nz\n\" style=\"fill: #ffffff\"/>\n  </g>\n  <g id=\"axes_1\">\n   <g id=\"patch_2\">\n    <path d=\"M 30.103125 145.8 \nL 225.403125 145.8 \nL 225.403125 7.2 \nL 30.103125 7.2 \nz\n\" style=\"fill: #ffffff\"/>\n   </g>\n   <g id=\"matplotlib.axis_1\">\n    <g id=\"xtick_1\">\n     <g id=\"line2d_1\">\n      <defs>\n       <path id=\"m97ff4ce582\" d=\"M 0 0 \nL 0 3.5 \n\" style=\"stroke: #000000; stroke-width: 0.8\"/>\n      </defs>\n      <g>\n       <use xlink:href=\"#m97ff4ce582\" x=\"30.103125\" y=\"145.8\" style=\"stroke: #000000; stroke-width: 0.8\"/>\n      </g>\n     </g>\n     <g id=\"text_1\">\n      <!-- 0 -->\n      <g transform=\"translate(26.921875 160.398438) scale(0.1 -0.1)\">\n       <defs>\n        <path id=\"DejaVuSans-30\" d=\"M 2034 4250 \nQ 1547 4250 1301 3770 \nQ 1056 3291 1056 2328 \nQ 1056 1369 1301 889 \nQ 1547 409 2034 409 \nQ 2525 409 2770 889 \nQ 3016 1369 3016 2328 \nQ 3016 3291 2770 3770 \nQ 2525 4250 2034 4250 \nz\nM 2034 4750 \nQ 2819 4750 3233 4129 \nQ 3647 3509 3647 2328 \nQ 3647 1150 3233 529 \nQ 2819 -91 2034 -91 \nQ 1250 -91 836 529 \nQ 422 1150 422 2328 \nQ 422 3509 836 4129 \nQ 1250 4750 2034 4750 \nz\n\" transform=\"scale(0.015625)\"/>\n       </defs>\n       <use xlink:href=\"#DejaVuSans-30\"/>\n      </g>\n     </g>\n    </g>\n    <g id=\"xtick_2\">\n     <g id=\"line2d_2\">\n      <g>\n       <use xlink:href=\"#m97ff4ce582\" x=\"69.163125\" y=\"145.8\" style=\"stroke: #000000; stroke-width: 0.8\"/>\n      </g>\n     </g>\n     <g id=\"text_2\">\n      <!-- 2 -->\n      <g transform=\"translate(65.981875 160.398438) scale(0.1 -0.1)\">\n       <defs>\n        <path id=\"DejaVuSans-32\" d=\"M 1228 531 \nL 3431 531 \nL 3431 0 \nL 469 0 \nL 469 531 \nQ 828 903 1448 1529 \nQ 2069 2156 2228 2338 \nQ 2531 2678 2651 2914 \nQ 2772 3150 2772 3378 \nQ 2772 3750 2511 3984 \nQ 2250 4219 1831 4219 \nQ 1534 4219 1204 4116 \nQ 875 4013 500 3803 \nL 500 4441 \nQ 881 4594 1212 4672 \nQ 1544 4750 1819 4750 \nQ 2544 4750 2975 4387 \nQ 3406 4025 3406 3419 \nQ 3406 3131 3298 2873 \nQ 3191 2616 2906 2266 \nQ 2828 2175 2409 1742 \nQ 1991 1309 1228 531 \nz\n\" transform=\"scale(0.015625)\"/>\n       </defs>\n       <use xlink:href=\"#DejaVuSans-32\"/>\n      </g>\n     </g>\n    </g>\n    <g id=\"xtick_3\">\n     <g id=\"line2d_3\">\n      <g>\n       <use xlink:href=\"#m97ff4ce582\" x=\"108.223125\" y=\"145.8\" style=\"stroke: #000000; stroke-width: 0.8\"/>\n      </g>\n     </g>\n     <g id=\"text_3\">\n      <!-- 4 -->\n      <g transform=\"translate(105.041875 160.398438) scale(0.1 -0.1)\">\n       <defs>\n        <path id=\"DejaVuSans-34\" d=\"M 2419 4116 \nL 825 1625 \nL 2419 1625 \nL 2419 4116 \nz\nM 2253 4666 \nL 3047 4666 \nL 3047 1625 \nL 3713 1625 \nL 3713 1100 \nL 3047 1100 \nL 3047 0 \nL 2419 0 \nL 2419 1100 \nL 313 1100 \nL 313 1709 \nL 2253 4666 \nz\n\" transform=\"scale(0.015625)\"/>\n       </defs>\n       <use xlink:href=\"#DejaVuSans-34\"/>\n      </g>\n     </g>\n    </g>\n    <g id=\"xtick_4\">\n     <g id=\"line2d_4\">\n      <g>\n       <use xlink:href=\"#m97ff4ce582\" x=\"147.283125\" y=\"145.8\" style=\"stroke: #000000; stroke-width: 0.8\"/>\n      </g>\n     </g>\n     <g id=\"text_4\">\n      <!-- 6 -->\n      <g transform=\"translate(144.101875 160.398438) scale(0.1 -0.1)\">\n       <defs>\n        <path id=\"DejaVuSans-36\" d=\"M 2113 2584 \nQ 1688 2584 1439 2293 \nQ 1191 2003 1191 1497 \nQ 1191 994 1439 701 \nQ 1688 409 2113 409 \nQ 2538 409 2786 701 \nQ 3034 994 3034 1497 \nQ 3034 2003 2786 2293 \nQ 2538 2584 2113 2584 \nz\nM 3366 4563 \nL 3366 3988 \nQ 3128 4100 2886 4159 \nQ 2644 4219 2406 4219 \nQ 1781 4219 1451 3797 \nQ 1122 3375 1075 2522 \nQ 1259 2794 1537 2939 \nQ 1816 3084 2150 3084 \nQ 2853 3084 3261 2657 \nQ 3669 2231 3669 1497 \nQ 3669 778 3244 343 \nQ 2819 -91 2113 -91 \nQ 1303 -91 875 529 \nQ 447 1150 447 2328 \nQ 447 3434 972 4092 \nQ 1497 4750 2381 4750 \nQ 2619 4750 2861 4703 \nQ 3103 4656 3366 4563 \nz\n\" transform=\"scale(0.015625)\"/>\n       </defs>\n       <use xlink:href=\"#DejaVuSans-36\"/>\n      </g>\n     </g>\n    </g>\n    <g id=\"xtick_5\">\n     <g id=\"line2d_5\">\n      <g>\n       <use xlink:href=\"#m97ff4ce582\" x=\"186.343125\" y=\"145.8\" style=\"stroke: #000000; stroke-width: 0.8\"/>\n      </g>\n     </g>\n     <g id=\"text_5\">\n      <!-- 8 -->\n      <g transform=\"translate(183.161875 160.398438) scale(0.1 -0.1)\">\n       <defs>\n        <path id=\"DejaVuSans-38\" d=\"M 2034 2216 \nQ 1584 2216 1326 1975 \nQ 1069 1734 1069 1313 \nQ 1069 891 1326 650 \nQ 1584 409 2034 409 \nQ 2484 409 2743 651 \nQ 3003 894 3003 1313 \nQ 3003 1734 2745 1975 \nQ 2488 2216 2034 2216 \nz\nM 1403 2484 \nQ 997 2584 770 2862 \nQ 544 3141 544 3541 \nQ 544 4100 942 4425 \nQ 1341 4750 2034 4750 \nQ 2731 4750 3128 4425 \nQ 3525 4100 3525 3541 \nQ 3525 3141 3298 2862 \nQ 3072 2584 2669 2484 \nQ 3125 2378 3379 2068 \nQ 3634 1759 3634 1313 \nQ 3634 634 3220 271 \nQ 2806 -91 2034 -91 \nQ 1263 -91 848 271 \nQ 434 634 434 1313 \nQ 434 1759 690 2068 \nQ 947 2378 1403 2484 \nz\nM 1172 3481 \nQ 1172 3119 1398 2916 \nQ 1625 2713 2034 2713 \nQ 2441 2713 2670 2916 \nQ 2900 3119 2900 3481 \nQ 2900 3844 2670 4047 \nQ 2441 4250 2034 4250 \nQ 1625 4250 1398 4047 \nQ 1172 3844 1172 3481 \nz\n\" transform=\"scale(0.015625)\"/>\n       </defs>\n       <use xlink:href=\"#DejaVuSans-38\"/>\n      </g>\n     </g>\n    </g>\n    <g id=\"xtick_6\">\n     <g id=\"line2d_6\">\n      <g>\n       <use xlink:href=\"#m97ff4ce582\" x=\"225.403125\" y=\"145.8\" style=\"stroke: #000000; stroke-width: 0.8\"/>\n      </g>\n     </g>\n     <g id=\"text_6\">\n      <!-- 10 -->\n      <g transform=\"translate(219.040625 160.398438) scale(0.1 -0.1)\">\n       <defs>\n        <path id=\"DejaVuSans-31\" d=\"M 794 531 \nL 1825 531 \nL 1825 4091 \nL 703 3866 \nL 703 4441 \nL 1819 4666 \nL 2450 4666 \nL 2450 531 \nL 3481 531 \nL 3481 0 \nL 794 0 \nL 794 531 \nz\n\" transform=\"scale(0.015625)\"/>\n       </defs>\n       <use xlink:href=\"#DejaVuSans-31\"/>\n       <use xlink:href=\"#DejaVuSans-30\" x=\"63.623047\"/>\n      </g>\n     </g>\n    </g>\n    <g id=\"text_7\">\n     <!-- epoch -->\n     <g transform=\"translate(112.525 174.076563) scale(0.1 -0.1)\">\n      <defs>\n       <path id=\"DejaVuSans-65\" d=\"M 3597 1894 \nL 3597 1613 \nL 953 1613 \nQ 991 1019 1311 708 \nQ 1631 397 2203 397 \nQ 2534 397 2845 478 \nQ 3156 559 3463 722 \nL 3463 178 \nQ 3153 47 2828 -22 \nQ 2503 -91 2169 -91 \nQ 1331 -91 842 396 \nQ 353 884 353 1716 \nQ 353 2575 817 3079 \nQ 1281 3584 2069 3584 \nQ 2775 3584 3186 3129 \nQ 3597 2675 3597 1894 \nz\nM 3022 2063 \nQ 3016 2534 2758 2815 \nQ 2500 3097 2075 3097 \nQ 1594 3097 1305 2825 \nQ 1016 2553 972 2059 \nL 3022 2063 \nz\n\" transform=\"scale(0.015625)\"/>\n       <path id=\"DejaVuSans-70\" d=\"M 1159 525 \nL 1159 -1331 \nL 581 -1331 \nL 581 3500 \nL 1159 3500 \nL 1159 2969 \nQ 1341 3281 1617 3432 \nQ 1894 3584 2278 3584 \nQ 2916 3584 3314 3078 \nQ 3713 2572 3713 1747 \nQ 3713 922 3314 415 \nQ 2916 -91 2278 -91 \nQ 1894 -91 1617 61 \nQ 1341 213 1159 525 \nz\nM 3116 1747 \nQ 3116 2381 2855 2742 \nQ 2594 3103 2138 3103 \nQ 1681 3103 1420 2742 \nQ 1159 2381 1159 1747 \nQ 1159 1113 1420 752 \nQ 1681 391 2138 391 \nQ 2594 391 2855 752 \nQ 3116 1113 3116 1747 \nz\n\" transform=\"scale(0.015625)\"/>\n       <path id=\"DejaVuSans-6f\" d=\"M 1959 3097 \nQ 1497 3097 1228 2736 \nQ 959 2375 959 1747 \nQ 959 1119 1226 758 \nQ 1494 397 1959 397 \nQ 2419 397 2687 759 \nQ 2956 1122 2956 1747 \nQ 2956 2369 2687 2733 \nQ 2419 3097 1959 3097 \nz\nM 1959 3584 \nQ 2709 3584 3137 3096 \nQ 3566 2609 3566 1747 \nQ 3566 888 3137 398 \nQ 2709 -91 1959 -91 \nQ 1206 -91 779 398 \nQ 353 888 353 1747 \nQ 353 2609 779 3096 \nQ 1206 3584 1959 3584 \nz\n\" transform=\"scale(0.015625)\"/>\n       <path id=\"DejaVuSans-63\" d=\"M 3122 3366 \nL 3122 2828 \nQ 2878 2963 2633 3030 \nQ 2388 3097 2138 3097 \nQ 1578 3097 1268 2742 \nQ 959 2388 959 1747 \nQ 959 1106 1268 751 \nQ 1578 397 2138 397 \nQ 2388 397 2633 464 \nQ 2878 531 3122 666 \nL 3122 134 \nQ 2881 22 2623 -34 \nQ 2366 -91 2075 -91 \nQ 1284 -91 818 406 \nQ 353 903 353 1747 \nQ 353 2603 823 3093 \nQ 1294 3584 2113 3584 \nQ 2378 3584 2631 3529 \nQ 2884 3475 3122 3366 \nz\n\" transform=\"scale(0.015625)\"/>\n       <path id=\"DejaVuSans-68\" d=\"M 3513 2113 \nL 3513 0 \nL 2938 0 \nL 2938 2094 \nQ 2938 2591 2744 2837 \nQ 2550 3084 2163 3084 \nQ 1697 3084 1428 2787 \nQ 1159 2491 1159 1978 \nL 1159 0 \nL 581 0 \nL 581 4863 \nL 1159 4863 \nL 1159 2956 \nQ 1366 3272 1645 3428 \nQ 1925 3584 2291 3584 \nQ 2894 3584 3203 3211 \nQ 3513 2838 3513 2113 \nz\n\" transform=\"scale(0.015625)\"/>\n      </defs>\n      <use xlink:href=\"#DejaVuSans-65\"/>\n      <use xlink:href=\"#DejaVuSans-70\" x=\"61.523438\"/>\n      <use xlink:href=\"#DejaVuSans-6f\" x=\"125\"/>\n      <use xlink:href=\"#DejaVuSans-63\" x=\"186.181641\"/>\n      <use xlink:href=\"#DejaVuSans-68\" x=\"241.162109\"/>\n     </g>\n    </g>\n   </g>\n   <g id=\"matplotlib.axis_2\">\n    <g id=\"ytick_1\">\n     <g id=\"line2d_7\">\n      <defs>\n       <path id=\"mcfafdddbfb\" d=\"M 0 0 \nL -3.5 0 \n\" style=\"stroke: #000000; stroke-width: 0.8\"/>\n      </defs>\n      <g>\n       <use xlink:href=\"#mcfafdddbfb\" x=\"30.103125\" y=\"119.52074\" style=\"stroke: #000000; stroke-width: 0.8\"/>\n      </g>\n     </g>\n     <g id=\"text_8\">\n      <!-- 0.5 -->\n      <g transform=\"translate(7.2 123.319958) scale(0.1 -0.1)\">\n       <defs>\n        <path id=\"DejaVuSans-2e\" d=\"M 684 794 \nL 1344 794 \nL 1344 0 \nL 684 0 \nL 684 794 \nz\n\" transform=\"scale(0.015625)\"/>\n        <path id=\"DejaVuSans-35\" d=\"M 691 4666 \nL 3169 4666 \nL 3169 4134 \nL 1269 4134 \nL 1269 2991 \nQ 1406 3038 1543 3061 \nQ 1681 3084 1819 3084 \nQ 2600 3084 3056 2656 \nQ 3513 2228 3513 1497 \nQ 3513 744 3044 326 \nQ 2575 -91 1722 -91 \nQ 1428 -91 1123 -41 \nQ 819 9 494 109 \nL 494 744 \nQ 775 591 1075 516 \nQ 1375 441 1709 441 \nQ 2250 441 2565 725 \nQ 2881 1009 2881 1497 \nQ 2881 1984 2565 2268 \nQ 2250 2553 1709 2553 \nQ 1456 2553 1204 2497 \nQ 953 2441 691 2322 \nL 691 4666 \nz\n\" transform=\"scale(0.015625)\"/>\n       </defs>\n       <use xlink:href=\"#DejaVuSans-30\"/>\n       <use xlink:href=\"#DejaVuSans-2e\" x=\"63.623047\"/>\n       <use xlink:href=\"#DejaVuSans-35\" x=\"95.410156\"/>\n      </g>\n     </g>\n    </g>\n    <g id=\"ytick_2\">\n     <g id=\"line2d_8\">\n      <g>\n       <use xlink:href=\"#mcfafdddbfb\" x=\"30.103125\" y=\"90.104566\" style=\"stroke: #000000; stroke-width: 0.8\"/>\n      </g>\n     </g>\n     <g id=\"text_9\">\n      <!-- 1.0 -->\n      <g transform=\"translate(7.2 93.903784) scale(0.1 -0.1)\">\n       <use xlink:href=\"#DejaVuSans-31\"/>\n       <use xlink:href=\"#DejaVuSans-2e\" x=\"63.623047\"/>\n       <use xlink:href=\"#DejaVuSans-30\" x=\"95.410156\"/>\n      </g>\n     </g>\n    </g>\n    <g id=\"ytick_3\">\n     <g id=\"line2d_9\">\n      <g>\n       <use xlink:href=\"#mcfafdddbfb\" x=\"30.103125\" y=\"60.688392\" style=\"stroke: #000000; stroke-width: 0.8\"/>\n      </g>\n     </g>\n     <g id=\"text_10\">\n      <!-- 1.5 -->\n      <g transform=\"translate(7.2 64.487611) scale(0.1 -0.1)\">\n       <use xlink:href=\"#DejaVuSans-31\"/>\n       <use xlink:href=\"#DejaVuSans-2e\" x=\"63.623047\"/>\n       <use xlink:href=\"#DejaVuSans-35\" x=\"95.410156\"/>\n      </g>\n     </g>\n    </g>\n    <g id=\"ytick_4\">\n     <g id=\"line2d_10\">\n      <g>\n       <use xlink:href=\"#mcfafdddbfb\" x=\"30.103125\" y=\"31.272218\" style=\"stroke: #000000; stroke-width: 0.8\"/>\n      </g>\n     </g>\n     <g id=\"text_11\">\n      <!-- 2.0 -->\n      <g transform=\"translate(7.2 35.071437) scale(0.1 -0.1)\">\n       <use xlink:href=\"#DejaVuSans-32\"/>\n       <use xlink:href=\"#DejaVuSans-2e\" x=\"63.623047\"/>\n       <use xlink:href=\"#DejaVuSans-30\" x=\"95.410156\"/>\n      </g>\n     </g>\n    </g>\n   </g>\n   <g id=\"line2d_11\">\n    <path d=\"M 34.954394 13.5 \n\" clip-path=\"url(#pa9c434205b)\" style=\"fill: none; stroke: #1f77b4; stroke-width: 1.5; stroke-linecap: square\"/>\n   </g>\n   <g id=\"line2d_12\">\n    <path d=\"M 34.954394 13.5 \nL 44.698573 13.577039 \n\" clip-path=\"url(#pa9c434205b)\" style=\"fill: none; stroke: #1f77b4; stroke-width: 1.5; stroke-linecap: square\"/>\n   </g>\n   <g id=\"line2d_13\">\n    <path d=\"M 34.954394 13.5 \nL 44.698573 13.577039 \n\" clip-path=\"url(#pa9c434205b)\" style=\"fill: none; stroke: #1f77b4; stroke-width: 1.5; stroke-linecap: square\"/>\n   </g>\n   <g id=\"line2d_14\">\n    <path d=\"M 49.633125 13.664467 \n\" clip-path=\"url(#pa9c434205b)\" style=\"fill: none; stroke-dasharray: 5.55,2.4; stroke-dashoffset: 0; stroke: #ff7f0e; stroke-width: 1.5\"/>\n   </g>\n   <g id=\"line2d_15\"/>\n   <g id=\"line2d_16\">\n    <path d=\"M 34.954394 13.5 \nL 44.698573 13.577039 \n\" clip-path=\"url(#pa9c434205b)\" style=\"fill: none; stroke: #1f77b4; stroke-width: 1.5; stroke-linecap: square\"/>\n   </g>\n   <g id=\"line2d_17\">\n    <path d=\"M 49.633125 13.664467 \n\" clip-path=\"url(#pa9c434205b)\" style=\"fill: none; stroke-dasharray: 5.55,2.4; stroke-dashoffset: 0; stroke: #ff7f0e; stroke-width: 1.5\"/>\n   </g>\n   <g id=\"line2d_18\">\n    <path d=\"M 49.633125 139.5 \n\" clip-path=\"url(#pa9c434205b)\" style=\"fill: none; stroke-dasharray: 9.6,2.4,1.5,2.4; stroke-dashoffset: 0; stroke: #2ca02c; stroke-width: 1.5\"/>\n   </g>\n   <g id=\"line2d_19\">\n    <path d=\"M 34.954394 13.5 \nL 44.698573 13.577039 \nL 54.442752 13.802934 \n\" clip-path=\"url(#pa9c434205b)\" style=\"fill: none; stroke: #1f77b4; stroke-width: 1.5; stroke-linecap: square\"/>\n   </g>\n   <g id=\"line2d_20\">\n    <path d=\"M 49.633125 13.664467 \n\" clip-path=\"url(#pa9c434205b)\" style=\"fill: none; stroke-dasharray: 5.55,2.4; stroke-dashoffset: 0; stroke: #ff7f0e; stroke-width: 1.5\"/>\n   </g>\n   <g id=\"line2d_21\">\n    <path d=\"M 49.633125 139.5 \n\" clip-path=\"url(#pa9c434205b)\" style=\"fill: none; stroke-dasharray: 9.6,2.4,1.5,2.4; stroke-dashoffset: 0; stroke: #2ca02c; stroke-width: 1.5\"/>\n   </g>\n   <g id=\"line2d_22\">\n    <path d=\"M 34.954394 13.5 \nL 44.698573 13.577039 \nL 54.442752 13.802934 \nL 64.186931 27.528346 \n\" clip-path=\"url(#pa9c434205b)\" style=\"fill: none; stroke: #1f77b4; stroke-width: 1.5; stroke-linecap: square\"/>\n   </g>\n   <g id=\"line2d_23\">\n    <path d=\"M 49.633125 13.664467 \n\" clip-path=\"url(#pa9c434205b)\" style=\"fill: none; stroke-dasharray: 5.55,2.4; stroke-dashoffset: 0; stroke: #ff7f0e; stroke-width: 1.5\"/>\n   </g>\n   <g id=\"line2d_24\">\n    <path d=\"M 49.633125 139.5 \n\" clip-path=\"url(#pa9c434205b)\" style=\"fill: none; stroke-dasharray: 9.6,2.4,1.5,2.4; stroke-dashoffset: 0; stroke: #2ca02c; stroke-width: 1.5\"/>\n   </g>\n   <g id=\"line2d_25\">\n    <path d=\"M 34.954394 13.5 \nL 44.698573 13.577039 \nL 54.442752 13.802934 \nL 64.186931 27.528346 \n\" clip-path=\"url(#pa9c434205b)\" style=\"fill: none; stroke: #1f77b4; stroke-width: 1.5; stroke-linecap: square\"/>\n   </g>\n   <g id=\"line2d_26\">\n    <path d=\"M 49.633125 13.664467 \nL 69.163125 74.786081 \n\" clip-path=\"url(#pa9c434205b)\" style=\"fill: none; stroke-dasharray: 5.55,2.4; stroke-dashoffset: 0; stroke: #ff7f0e; stroke-width: 1.5\"/>\n   </g>\n   <g id=\"line2d_27\">\n    <path d=\"M 49.633125 139.5 \n\" clip-path=\"url(#pa9c434205b)\" style=\"fill: none; stroke-dasharray: 9.6,2.4,1.5,2.4; stroke-dashoffset: 0; stroke: #2ca02c; stroke-width: 1.5\"/>\n   </g>\n   <g id=\"line2d_28\">\n    <path d=\"M 34.954394 13.5 \nL 44.698573 13.577039 \nL 54.442752 13.802934 \nL 64.186931 27.528346 \n\" clip-path=\"url(#pa9c434205b)\" style=\"fill: none; stroke: #1f77b4; stroke-width: 1.5; stroke-linecap: square\"/>\n   </g>\n   <g id=\"line2d_29\">\n    <path d=\"M 49.633125 13.664467 \nL 69.163125 74.786081 \n\" clip-path=\"url(#pa9c434205b)\" style=\"fill: none; stroke-dasharray: 5.55,2.4; stroke-dashoffset: 0; stroke: #ff7f0e; stroke-width: 1.5\"/>\n   </g>\n   <g id=\"line2d_30\">\n    <path d=\"M 49.633125 139.5 \nL 69.163125 119.85237 \n\" clip-path=\"url(#pa9c434205b)\" style=\"fill: none; stroke-dasharray: 9.6,2.4,1.5,2.4; stroke-dashoffset: 0; stroke: #2ca02c; stroke-width: 1.5\"/>\n   </g>\n   <g id=\"line2d_31\">\n    <path d=\"M 34.954394 13.5 \nL 44.698573 13.577039 \nL 54.442752 13.802934 \nL 64.186931 27.528346 \nL 73.93111 82.486928 \n\" clip-path=\"url(#pa9c434205b)\" style=\"fill: none; stroke: #1f77b4; stroke-width: 1.5; stroke-linecap: square\"/>\n   </g>\n   <g id=\"line2d_32\">\n    <path d=\"M 49.633125 13.664467 \nL 69.163125 74.786081 \n\" clip-path=\"url(#pa9c434205b)\" style=\"fill: none; stroke-dasharray: 5.55,2.4; stroke-dashoffset: 0; stroke: #ff7f0e; stroke-width: 1.5\"/>\n   </g>\n   <g id=\"line2d_33\">\n    <path d=\"M 49.633125 139.5 \nL 69.163125 119.85237 \n\" clip-path=\"url(#pa9c434205b)\" style=\"fill: none; stroke-dasharray: 9.6,2.4,1.5,2.4; stroke-dashoffset: 0; stroke: #2ca02c; stroke-width: 1.5\"/>\n   </g>\n   <g id=\"line2d_34\">\n    <path d=\"M 34.954394 13.5 \nL 44.698573 13.577039 \nL 54.442752 13.802934 \nL 64.186931 27.528346 \nL 73.93111 82.486928 \nL 83.675289 92.989438 \n\" clip-path=\"url(#pa9c434205b)\" style=\"fill: none; stroke: #1f77b4; stroke-width: 1.5; stroke-linecap: square\"/>\n   </g>\n   <g id=\"line2d_35\">\n    <path d=\"M 49.633125 13.664467 \nL 69.163125 74.786081 \n\" clip-path=\"url(#pa9c434205b)\" style=\"fill: none; stroke-dasharray: 5.55,2.4; stroke-dashoffset: 0; stroke: #ff7f0e; stroke-width: 1.5\"/>\n   </g>\n   <g id=\"line2d_36\">\n    <path d=\"M 49.633125 139.5 \nL 69.163125 119.85237 \n\" clip-path=\"url(#pa9c434205b)\" style=\"fill: none; stroke-dasharray: 9.6,2.4,1.5,2.4; stroke-dashoffset: 0; stroke: #2ca02c; stroke-width: 1.5\"/>\n   </g>\n   <g id=\"line2d_37\">\n    <path d=\"M 34.954394 13.5 \nL 44.698573 13.577039 \nL 54.442752 13.802934 \nL 64.186931 27.528346 \nL 73.93111 82.486928 \nL 83.675289 92.989438 \n\" clip-path=\"url(#pa9c434205b)\" style=\"fill: none; stroke: #1f77b4; stroke-width: 1.5; stroke-linecap: square\"/>\n   </g>\n   <g id=\"line2d_38\">\n    <path d=\"M 49.633125 13.664467 \nL 69.163125 74.786081 \nL 88.693125 97.775914 \n\" clip-path=\"url(#pa9c434205b)\" style=\"fill: none; stroke-dasharray: 5.55,2.4; stroke-dashoffset: 0; stroke: #ff7f0e; stroke-width: 1.5\"/>\n   </g>\n   <g id=\"line2d_39\">\n    <path d=\"M 49.633125 139.5 \nL 69.163125 119.85237 \n\" clip-path=\"url(#pa9c434205b)\" style=\"fill: none; stroke-dasharray: 9.6,2.4,1.5,2.4; stroke-dashoffset: 0; stroke: #2ca02c; stroke-width: 1.5\"/>\n   </g>\n   <g id=\"line2d_40\">\n    <path d=\"M 34.954394 13.5 \nL 44.698573 13.577039 \nL 54.442752 13.802934 \nL 64.186931 27.528346 \nL 73.93111 82.486928 \nL 83.675289 92.989438 \n\" clip-path=\"url(#pa9c434205b)\" style=\"fill: none; stroke: #1f77b4; stroke-width: 1.5; stroke-linecap: square\"/>\n   </g>\n   <g id=\"line2d_41\">\n    <path d=\"M 49.633125 13.664467 \nL 69.163125 74.786081 \nL 88.693125 97.775914 \n\" clip-path=\"url(#pa9c434205b)\" style=\"fill: none; stroke-dasharray: 5.55,2.4; stroke-dashoffset: 0; stroke: #ff7f0e; stroke-width: 1.5\"/>\n   </g>\n   <g id=\"line2d_42\">\n    <path d=\"M 49.633125 139.5 \nL 69.163125 119.85237 \nL 88.693125 108.80385 \n\" clip-path=\"url(#pa9c434205b)\" style=\"fill: none; stroke-dasharray: 9.6,2.4,1.5,2.4; stroke-dashoffset: 0; stroke: #2ca02c; stroke-width: 1.5\"/>\n   </g>\n   <g id=\"line2d_43\">\n    <path d=\"M 34.954394 13.5 \nL 44.698573 13.577039 \nL 54.442752 13.802934 \nL 64.186931 27.528346 \nL 73.93111 82.486928 \nL 83.675289 92.989438 \nL 93.419468 98.141932 \n\" clip-path=\"url(#pa9c434205b)\" style=\"fill: none; stroke: #1f77b4; stroke-width: 1.5; stroke-linecap: square\"/>\n   </g>\n   <g id=\"line2d_44\">\n    <path d=\"M 49.633125 13.664467 \nL 69.163125 74.786081 \nL 88.693125 97.775914 \n\" clip-path=\"url(#pa9c434205b)\" style=\"fill: none; stroke-dasharray: 5.55,2.4; stroke-dashoffset: 0; stroke: #ff7f0e; stroke-width: 1.5\"/>\n   </g>\n   <g id=\"line2d_45\">\n    <path d=\"M 49.633125 139.5 \nL 69.163125 119.85237 \nL 88.693125 108.80385 \n\" clip-path=\"url(#pa9c434205b)\" style=\"fill: none; stroke-dasharray: 9.6,2.4,1.5,2.4; stroke-dashoffset: 0; stroke: #2ca02c; stroke-width: 1.5\"/>\n   </g>\n   <g id=\"line2d_46\">\n    <path d=\"M 34.954394 13.5 \nL 44.698573 13.577039 \nL 54.442752 13.802934 \nL 64.186931 27.528346 \nL 73.93111 82.486928 \nL 83.675289 92.989438 \nL 93.419468 98.141932 \nL 103.163647 102.486446 \n\" clip-path=\"url(#pa9c434205b)\" style=\"fill: none; stroke: #1f77b4; stroke-width: 1.5; stroke-linecap: square\"/>\n   </g>\n   <g id=\"line2d_47\">\n    <path d=\"M 49.633125 13.664467 \nL 69.163125 74.786081 \nL 88.693125 97.775914 \n\" clip-path=\"url(#pa9c434205b)\" style=\"fill: none; stroke-dasharray: 5.55,2.4; stroke-dashoffset: 0; stroke: #ff7f0e; stroke-width: 1.5\"/>\n   </g>\n   <g id=\"line2d_48\">\n    <path d=\"M 49.633125 139.5 \nL 69.163125 119.85237 \nL 88.693125 108.80385 \n\" clip-path=\"url(#pa9c434205b)\" style=\"fill: none; stroke-dasharray: 9.6,2.4,1.5,2.4; stroke-dashoffset: 0; stroke: #2ca02c; stroke-width: 1.5\"/>\n   </g>\n   <g id=\"line2d_49\">\n    <path d=\"M 34.954394 13.5 \nL 44.698573 13.577039 \nL 54.442752 13.802934 \nL 64.186931 27.528346 \nL 73.93111 82.486928 \nL 83.675289 92.989438 \nL 93.419468 98.141932 \nL 103.163647 102.486446 \n\" clip-path=\"url(#pa9c434205b)\" style=\"fill: none; stroke: #1f77b4; stroke-width: 1.5; stroke-linecap: square\"/>\n   </g>\n   <g id=\"line2d_50\">\n    <path d=\"M 49.633125 13.664467 \nL 69.163125 74.786081 \nL 88.693125 97.775914 \nL 108.223125 103.831432 \n\" clip-path=\"url(#pa9c434205b)\" style=\"fill: none; stroke-dasharray: 5.55,2.4; stroke-dashoffset: 0; stroke: #ff7f0e; stroke-width: 1.5\"/>\n   </g>\n   <g id=\"line2d_51\">\n    <path d=\"M 49.633125 139.5 \nL 69.163125 119.85237 \nL 88.693125 108.80385 \n\" clip-path=\"url(#pa9c434205b)\" style=\"fill: none; stroke-dasharray: 9.6,2.4,1.5,2.4; stroke-dashoffset: 0; stroke: #2ca02c; stroke-width: 1.5\"/>\n   </g>\n   <g id=\"line2d_52\">\n    <path d=\"M 34.954394 13.5 \nL 44.698573 13.577039 \nL 54.442752 13.802934 \nL 64.186931 27.528346 \nL 73.93111 82.486928 \nL 83.675289 92.989438 \nL 93.419468 98.141932 \nL 103.163647 102.486446 \n\" clip-path=\"url(#pa9c434205b)\" style=\"fill: none; stroke: #1f77b4; stroke-width: 1.5; stroke-linecap: square\"/>\n   </g>\n   <g id=\"line2d_53\">\n    <path d=\"M 49.633125 13.664467 \nL 69.163125 74.786081 \nL 88.693125 97.775914 \nL 108.223125 103.831432 \n\" clip-path=\"url(#pa9c434205b)\" style=\"fill: none; stroke-dasharray: 5.55,2.4; stroke-dashoffset: 0; stroke: #ff7f0e; stroke-width: 1.5\"/>\n   </g>\n   <g id=\"line2d_54\">\n    <path d=\"M 49.633125 139.5 \nL 69.163125 119.85237 \nL 88.693125 108.80385 \nL 108.223125 107.32606 \n\" clip-path=\"url(#pa9c434205b)\" style=\"fill: none; stroke-dasharray: 9.6,2.4,1.5,2.4; stroke-dashoffset: 0; stroke: #2ca02c; stroke-width: 1.5\"/>\n   </g>\n   <g id=\"line2d_55\">\n    <path d=\"M 34.954394 13.5 \nL 44.698573 13.577039 \nL 54.442752 13.802934 \nL 64.186931 27.528346 \nL 73.93111 82.486928 \nL 83.675289 92.989438 \nL 93.419468 98.141932 \nL 103.163647 102.486446 \nL 112.907826 105.543903 \n\" clip-path=\"url(#pa9c434205b)\" style=\"fill: none; stroke: #1f77b4; stroke-width: 1.5; stroke-linecap: square\"/>\n   </g>\n   <g id=\"line2d_56\">\n    <path d=\"M 49.633125 13.664467 \nL 69.163125 74.786081 \nL 88.693125 97.775914 \nL 108.223125 103.831432 \n\" clip-path=\"url(#pa9c434205b)\" style=\"fill: none; stroke-dasharray: 5.55,2.4; stroke-dashoffset: 0; stroke: #ff7f0e; stroke-width: 1.5\"/>\n   </g>\n   <g id=\"line2d_57\">\n    <path d=\"M 49.633125 139.5 \nL 69.163125 119.85237 \nL 88.693125 108.80385 \nL 108.223125 107.32606 \n\" clip-path=\"url(#pa9c434205b)\" style=\"fill: none; stroke-dasharray: 9.6,2.4,1.5,2.4; stroke-dashoffset: 0; stroke: #2ca02c; stroke-width: 1.5\"/>\n   </g>\n   <g id=\"line2d_58\">\n    <path d=\"M 34.954394 13.5 \nL 44.698573 13.577039 \nL 54.442752 13.802934 \nL 64.186931 27.528346 \nL 73.93111 82.486928 \nL 83.675289 92.989438 \nL 93.419468 98.141932 \nL 103.163647 102.486446 \nL 112.907826 105.543903 \nL 122.652006 109.127021 \n\" clip-path=\"url(#pa9c434205b)\" style=\"fill: none; stroke: #1f77b4; stroke-width: 1.5; stroke-linecap: square\"/>\n   </g>\n   <g id=\"line2d_59\">\n    <path d=\"M 49.633125 13.664467 \nL 69.163125 74.786081 \nL 88.693125 97.775914 \nL 108.223125 103.831432 \n\" clip-path=\"url(#pa9c434205b)\" style=\"fill: none; stroke-dasharray: 5.55,2.4; stroke-dashoffset: 0; stroke: #ff7f0e; stroke-width: 1.5\"/>\n   </g>\n   <g id=\"line2d_60\">\n    <path d=\"M 49.633125 139.5 \nL 69.163125 119.85237 \nL 88.693125 108.80385 \nL 108.223125 107.32606 \n\" clip-path=\"url(#pa9c434205b)\" style=\"fill: none; stroke-dasharray: 9.6,2.4,1.5,2.4; stroke-dashoffset: 0; stroke: #2ca02c; stroke-width: 1.5\"/>\n   </g>\n   <g id=\"line2d_61\">\n    <path d=\"M 34.954394 13.5 \nL 44.698573 13.577039 \nL 54.442752 13.802934 \nL 64.186931 27.528346 \nL 73.93111 82.486928 \nL 83.675289 92.989438 \nL 93.419468 98.141932 \nL 103.163647 102.486446 \nL 112.907826 105.543903 \nL 122.652006 109.127021 \n\" clip-path=\"url(#pa9c434205b)\" style=\"fill: none; stroke: #1f77b4; stroke-width: 1.5; stroke-linecap: square\"/>\n   </g>\n   <g id=\"line2d_62\">\n    <path d=\"M 49.633125 13.664467 \nL 69.163125 74.786081 \nL 88.693125 97.775914 \nL 108.223125 103.831432 \nL 127.753125 110.568841 \n\" clip-path=\"url(#pa9c434205b)\" style=\"fill: none; stroke-dasharray: 5.55,2.4; stroke-dashoffset: 0; stroke: #ff7f0e; stroke-width: 1.5\"/>\n   </g>\n   <g id=\"line2d_63\">\n    <path d=\"M 49.633125 139.5 \nL 69.163125 119.85237 \nL 88.693125 108.80385 \nL 108.223125 107.32606 \n\" clip-path=\"url(#pa9c434205b)\" style=\"fill: none; stroke-dasharray: 9.6,2.4,1.5,2.4; stroke-dashoffset: 0; stroke: #2ca02c; stroke-width: 1.5\"/>\n   </g>\n   <g id=\"line2d_64\">\n    <path d=\"M 34.954394 13.5 \nL 44.698573 13.577039 \nL 54.442752 13.802934 \nL 64.186931 27.528346 \nL 73.93111 82.486928 \nL 83.675289 92.989438 \nL 93.419468 98.141932 \nL 103.163647 102.486446 \nL 112.907826 105.543903 \nL 122.652006 109.127021 \n\" clip-path=\"url(#pa9c434205b)\" style=\"fill: none; stroke: #1f77b4; stroke-width: 1.5; stroke-linecap: square\"/>\n   </g>\n   <g id=\"line2d_65\">\n    <path d=\"M 49.633125 13.664467 \nL 69.163125 74.786081 \nL 88.693125 97.775914 \nL 108.223125 103.831432 \nL 127.753125 110.568841 \n\" clip-path=\"url(#pa9c434205b)\" style=\"fill: none; stroke-dasharray: 5.55,2.4; stroke-dashoffset: 0; stroke: #ff7f0e; stroke-width: 1.5\"/>\n   </g>\n   <g id=\"line2d_66\">\n    <path d=\"M 49.633125 139.5 \nL 69.163125 119.85237 \nL 88.693125 108.80385 \nL 108.223125 107.32606 \nL 127.753125 104.574112 \n\" clip-path=\"url(#pa9c434205b)\" style=\"fill: none; stroke-dasharray: 9.6,2.4,1.5,2.4; stroke-dashoffset: 0; stroke: #2ca02c; stroke-width: 1.5\"/>\n   </g>\n   <g id=\"line2d_67\">\n    <path d=\"M 34.954394 13.5 \nL 44.698573 13.577039 \nL 54.442752 13.802934 \nL 64.186931 27.528346 \nL 73.93111 82.486928 \nL 83.675289 92.989438 \nL 93.419468 98.141932 \nL 103.163647 102.486446 \nL 112.907826 105.543903 \nL 122.652006 109.127021 \nL 132.396185 111.387292 \n\" clip-path=\"url(#pa9c434205b)\" style=\"fill: none; stroke: #1f77b4; stroke-width: 1.5; stroke-linecap: square\"/>\n   </g>\n   <g id=\"line2d_68\">\n    <path d=\"M 49.633125 13.664467 \nL 69.163125 74.786081 \nL 88.693125 97.775914 \nL 108.223125 103.831432 \nL 127.753125 110.568841 \n\" clip-path=\"url(#pa9c434205b)\" style=\"fill: none; stroke-dasharray: 5.55,2.4; stroke-dashoffset: 0; stroke: #ff7f0e; stroke-width: 1.5\"/>\n   </g>\n   <g id=\"line2d_69\">\n    <path d=\"M 49.633125 139.5 \nL 69.163125 119.85237 \nL 88.693125 108.80385 \nL 108.223125 107.32606 \nL 127.753125 104.574112 \n\" clip-path=\"url(#pa9c434205b)\" style=\"fill: none; stroke-dasharray: 9.6,2.4,1.5,2.4; stroke-dashoffset: 0; stroke: #2ca02c; stroke-width: 1.5\"/>\n   </g>\n   <g id=\"line2d_70\">\n    <path d=\"M 34.954394 13.5 \nL 44.698573 13.577039 \nL 54.442752 13.802934 \nL 64.186931 27.528346 \nL 73.93111 82.486928 \nL 83.675289 92.989438 \nL 93.419468 98.141932 \nL 103.163647 102.486446 \nL 112.907826 105.543903 \nL 122.652006 109.127021 \nL 132.396185 111.387292 \nL 142.140364 113.615244 \n\" clip-path=\"url(#pa9c434205b)\" style=\"fill: none; stroke: #1f77b4; stroke-width: 1.5; stroke-linecap: square\"/>\n   </g>\n   <g id=\"line2d_71\">\n    <path d=\"M 49.633125 13.664467 \nL 69.163125 74.786081 \nL 88.693125 97.775914 \nL 108.223125 103.831432 \nL 127.753125 110.568841 \n\" clip-path=\"url(#pa9c434205b)\" style=\"fill: none; stroke-dasharray: 5.55,2.4; stroke-dashoffset: 0; stroke: #ff7f0e; stroke-width: 1.5\"/>\n   </g>\n   <g id=\"line2d_72\">\n    <path d=\"M 49.633125 139.5 \nL 69.163125 119.85237 \nL 88.693125 108.80385 \nL 108.223125 107.32606 \nL 127.753125 104.574112 \n\" clip-path=\"url(#pa9c434205b)\" style=\"fill: none; stroke-dasharray: 9.6,2.4,1.5,2.4; stroke-dashoffset: 0; stroke: #2ca02c; stroke-width: 1.5\"/>\n   </g>\n   <g id=\"line2d_73\">\n    <path d=\"M 34.954394 13.5 \nL 44.698573 13.577039 \nL 54.442752 13.802934 \nL 64.186931 27.528346 \nL 73.93111 82.486928 \nL 83.675289 92.989438 \nL 93.419468 98.141932 \nL 103.163647 102.486446 \nL 112.907826 105.543903 \nL 122.652006 109.127021 \nL 132.396185 111.387292 \nL 142.140364 113.615244 \n\" clip-path=\"url(#pa9c434205b)\" style=\"fill: none; stroke: #1f77b4; stroke-width: 1.5; stroke-linecap: square\"/>\n   </g>\n   <g id=\"line2d_74\">\n    <path d=\"M 49.633125 13.664467 \nL 69.163125 74.786081 \nL 88.693125 97.775914 \nL 108.223125 103.831432 \nL 127.753125 110.568841 \nL 147.283125 114.79187 \n\" clip-path=\"url(#pa9c434205b)\" style=\"fill: none; stroke-dasharray: 5.55,2.4; stroke-dashoffset: 0; stroke: #ff7f0e; stroke-width: 1.5\"/>\n   </g>\n   <g id=\"line2d_75\">\n    <path d=\"M 49.633125 139.5 \nL 69.163125 119.85237 \nL 88.693125 108.80385 \nL 108.223125 107.32606 \nL 127.753125 104.574112 \n\" clip-path=\"url(#pa9c434205b)\" style=\"fill: none; stroke-dasharray: 9.6,2.4,1.5,2.4; stroke-dashoffset: 0; stroke: #2ca02c; stroke-width: 1.5\"/>\n   </g>\n   <g id=\"line2d_76\">\n    <path d=\"M 34.954394 13.5 \nL 44.698573 13.577039 \nL 54.442752 13.802934 \nL 64.186931 27.528346 \nL 73.93111 82.486928 \nL 83.675289 92.989438 \nL 93.419468 98.141932 \nL 103.163647 102.486446 \nL 112.907826 105.543903 \nL 122.652006 109.127021 \nL 132.396185 111.387292 \nL 142.140364 113.615244 \n\" clip-path=\"url(#pa9c434205b)\" style=\"fill: none; stroke: #1f77b4; stroke-width: 1.5; stroke-linecap: square\"/>\n   </g>\n   <g id=\"line2d_77\">\n    <path d=\"M 49.633125 13.664467 \nL 69.163125 74.786081 \nL 88.693125 97.775914 \nL 108.223125 103.831432 \nL 127.753125 110.568841 \nL 147.283125 114.79187 \n\" clip-path=\"url(#pa9c434205b)\" style=\"fill: none; stroke-dasharray: 5.55,2.4; stroke-dashoffset: 0; stroke: #ff7f0e; stroke-width: 1.5\"/>\n   </g>\n   <g id=\"line2d_78\">\n    <path d=\"M 49.633125 139.5 \nL 69.163125 119.85237 \nL 88.693125 108.80385 \nL 108.223125 107.32606 \nL 127.753125 104.574112 \nL 147.283125 102.97996 \n\" clip-path=\"url(#pa9c434205b)\" style=\"fill: none; stroke-dasharray: 9.6,2.4,1.5,2.4; stroke-dashoffset: 0; stroke: #2ca02c; stroke-width: 1.5\"/>\n   </g>\n   <g id=\"line2d_79\">\n    <path d=\"M 34.954394 13.5 \nL 44.698573 13.577039 \nL 54.442752 13.802934 \nL 64.186931 27.528346 \nL 73.93111 82.486928 \nL 83.675289 92.989438 \nL 93.419468 98.141932 \nL 103.163647 102.486446 \nL 112.907826 105.543903 \nL 122.652006 109.127021 \nL 132.396185 111.387292 \nL 142.140364 113.615244 \nL 151.884543 115.579116 \n\" clip-path=\"url(#pa9c434205b)\" style=\"fill: none; stroke: #1f77b4; stroke-width: 1.5; stroke-linecap: square\"/>\n   </g>\n   <g id=\"line2d_80\">\n    <path d=\"M 49.633125 13.664467 \nL 69.163125 74.786081 \nL 88.693125 97.775914 \nL 108.223125 103.831432 \nL 127.753125 110.568841 \nL 147.283125 114.79187 \n\" clip-path=\"url(#pa9c434205b)\" style=\"fill: none; stroke-dasharray: 5.55,2.4; stroke-dashoffset: 0; stroke: #ff7f0e; stroke-width: 1.5\"/>\n   </g>\n   <g id=\"line2d_81\">\n    <path d=\"M 49.633125 139.5 \nL 69.163125 119.85237 \nL 88.693125 108.80385 \nL 108.223125 107.32606 \nL 127.753125 104.574112 \nL 147.283125 102.97996 \n\" clip-path=\"url(#pa9c434205b)\" style=\"fill: none; stroke-dasharray: 9.6,2.4,1.5,2.4; stroke-dashoffset: 0; stroke: #2ca02c; stroke-width: 1.5\"/>\n   </g>\n   <g id=\"line2d_82\">\n    <path d=\"M 34.954394 13.5 \nL 44.698573 13.577039 \nL 54.442752 13.802934 \nL 64.186931 27.528346 \nL 73.93111 82.486928 \nL 83.675289 92.989438 \nL 93.419468 98.141932 \nL 103.163647 102.486446 \nL 112.907826 105.543903 \nL 122.652006 109.127021 \nL 132.396185 111.387292 \nL 142.140364 113.615244 \nL 151.884543 115.579116 \nL 161.628722 116.596976 \n\" clip-path=\"url(#pa9c434205b)\" style=\"fill: none; stroke: #1f77b4; stroke-width: 1.5; stroke-linecap: square\"/>\n   </g>\n   <g id=\"line2d_83\">\n    <path d=\"M 49.633125 13.664467 \nL 69.163125 74.786081 \nL 88.693125 97.775914 \nL 108.223125 103.831432 \nL 127.753125 110.568841 \nL 147.283125 114.79187 \n\" clip-path=\"url(#pa9c434205b)\" style=\"fill: none; stroke-dasharray: 5.55,2.4; stroke-dashoffset: 0; stroke: #ff7f0e; stroke-width: 1.5\"/>\n   </g>\n   <g id=\"line2d_84\">\n    <path d=\"M 49.633125 139.5 \nL 69.163125 119.85237 \nL 88.693125 108.80385 \nL 108.223125 107.32606 \nL 127.753125 104.574112 \nL 147.283125 102.97996 \n\" clip-path=\"url(#pa9c434205b)\" style=\"fill: none; stroke-dasharray: 9.6,2.4,1.5,2.4; stroke-dashoffset: 0; stroke: #2ca02c; stroke-width: 1.5\"/>\n   </g>\n   <g id=\"line2d_85\">\n    <path d=\"M 34.954394 13.5 \nL 44.698573 13.577039 \nL 54.442752 13.802934 \nL 64.186931 27.528346 \nL 73.93111 82.486928 \nL 83.675289 92.989438 \nL 93.419468 98.141932 \nL 103.163647 102.486446 \nL 112.907826 105.543903 \nL 122.652006 109.127021 \nL 132.396185 111.387292 \nL 142.140364 113.615244 \nL 151.884543 115.579116 \nL 161.628722 116.596976 \n\" clip-path=\"url(#pa9c434205b)\" style=\"fill: none; stroke: #1f77b4; stroke-width: 1.5; stroke-linecap: square\"/>\n   </g>\n   <g id=\"line2d_86\">\n    <path d=\"M 49.633125 13.664467 \nL 69.163125 74.786081 \nL 88.693125 97.775914 \nL 108.223125 103.831432 \nL 127.753125 110.568841 \nL 147.283125 114.79187 \nL 166.813125 117.778768 \n\" clip-path=\"url(#pa9c434205b)\" style=\"fill: none; stroke-dasharray: 5.55,2.4; stroke-dashoffset: 0; stroke: #ff7f0e; stroke-width: 1.5\"/>\n   </g>\n   <g id=\"line2d_87\">\n    <path d=\"M 49.633125 139.5 \nL 69.163125 119.85237 \nL 88.693125 108.80385 \nL 108.223125 107.32606 \nL 127.753125 104.574112 \nL 147.283125 102.97996 \n\" clip-path=\"url(#pa9c434205b)\" style=\"fill: none; stroke-dasharray: 9.6,2.4,1.5,2.4; stroke-dashoffset: 0; stroke: #2ca02c; stroke-width: 1.5\"/>\n   </g>\n   <g id=\"line2d_88\">\n    <path d=\"M 34.954394 13.5 \nL 44.698573 13.577039 \nL 54.442752 13.802934 \nL 64.186931 27.528346 \nL 73.93111 82.486928 \nL 83.675289 92.989438 \nL 93.419468 98.141932 \nL 103.163647 102.486446 \nL 112.907826 105.543903 \nL 122.652006 109.127021 \nL 132.396185 111.387292 \nL 142.140364 113.615244 \nL 151.884543 115.579116 \nL 161.628722 116.596976 \n\" clip-path=\"url(#pa9c434205b)\" style=\"fill: none; stroke: #1f77b4; stroke-width: 1.5; stroke-linecap: square\"/>\n   </g>\n   <g id=\"line2d_89\">\n    <path d=\"M 49.633125 13.664467 \nL 69.163125 74.786081 \nL 88.693125 97.775914 \nL 108.223125 103.831432 \nL 127.753125 110.568841 \nL 147.283125 114.79187 \nL 166.813125 117.778768 \n\" clip-path=\"url(#pa9c434205b)\" style=\"fill: none; stroke-dasharray: 5.55,2.4; stroke-dashoffset: 0; stroke: #ff7f0e; stroke-width: 1.5\"/>\n   </g>\n   <g id=\"line2d_90\">\n    <path d=\"M 49.633125 139.5 \nL 69.163125 119.85237 \nL 88.693125 108.80385 \nL 108.223125 107.32606 \nL 127.753125 104.574112 \nL 147.283125 102.97996 \nL 166.813125 101.909434 \n\" clip-path=\"url(#pa9c434205b)\" style=\"fill: none; stroke-dasharray: 9.6,2.4,1.5,2.4; stroke-dashoffset: 0; stroke: #2ca02c; stroke-width: 1.5\"/>\n   </g>\n   <g id=\"line2d_91\">\n    <path d=\"M 34.954394 13.5 \nL 44.698573 13.577039 \nL 54.442752 13.802934 \nL 64.186931 27.528346 \nL 73.93111 82.486928 \nL 83.675289 92.989438 \nL 93.419468 98.141932 \nL 103.163647 102.486446 \nL 112.907826 105.543903 \nL 122.652006 109.127021 \nL 132.396185 111.387292 \nL 142.140364 113.615244 \nL 151.884543 115.579116 \nL 161.628722 116.596976 \nL 171.372901 118.333852 \n\" clip-path=\"url(#pa9c434205b)\" style=\"fill: none; stroke: #1f77b4; stroke-width: 1.5; stroke-linecap: square\"/>\n   </g>\n   <g id=\"line2d_92\">\n    <path d=\"M 49.633125 13.664467 \nL 69.163125 74.786081 \nL 88.693125 97.775914 \nL 108.223125 103.831432 \nL 127.753125 110.568841 \nL 147.283125 114.79187 \nL 166.813125 117.778768 \n\" clip-path=\"url(#pa9c434205b)\" style=\"fill: none; stroke-dasharray: 5.55,2.4; stroke-dashoffset: 0; stroke: #ff7f0e; stroke-width: 1.5\"/>\n   </g>\n   <g id=\"line2d_93\">\n    <path d=\"M 49.633125 139.5 \nL 69.163125 119.85237 \nL 88.693125 108.80385 \nL 108.223125 107.32606 \nL 127.753125 104.574112 \nL 147.283125 102.97996 \nL 166.813125 101.909434 \n\" clip-path=\"url(#pa9c434205b)\" style=\"fill: none; stroke-dasharray: 9.6,2.4,1.5,2.4; stroke-dashoffset: 0; stroke: #2ca02c; stroke-width: 1.5\"/>\n   </g>\n   <g id=\"line2d_94\">\n    <path d=\"M 34.954394 13.5 \nL 44.698573 13.577039 \nL 54.442752 13.802934 \nL 64.186931 27.528346 \nL 73.93111 82.486928 \nL 83.675289 92.989438 \nL 93.419468 98.141932 \nL 103.163647 102.486446 \nL 112.907826 105.543903 \nL 122.652006 109.127021 \nL 132.396185 111.387292 \nL 142.140364 113.615244 \nL 151.884543 115.579116 \nL 161.628722 116.596976 \nL 171.372901 118.333852 \nL 181.11708 119.319633 \n\" clip-path=\"url(#pa9c434205b)\" style=\"fill: none; stroke: #1f77b4; stroke-width: 1.5; stroke-linecap: square\"/>\n   </g>\n   <g id=\"line2d_95\">\n    <path d=\"M 49.633125 13.664467 \nL 69.163125 74.786081 \nL 88.693125 97.775914 \nL 108.223125 103.831432 \nL 127.753125 110.568841 \nL 147.283125 114.79187 \nL 166.813125 117.778768 \n\" clip-path=\"url(#pa9c434205b)\" style=\"fill: none; stroke-dasharray: 5.55,2.4; stroke-dashoffset: 0; stroke: #ff7f0e; stroke-width: 1.5\"/>\n   </g>\n   <g id=\"line2d_96\">\n    <path d=\"M 49.633125 139.5 \nL 69.163125 119.85237 \nL 88.693125 108.80385 \nL 108.223125 107.32606 \nL 127.753125 104.574112 \nL 147.283125 102.97996 \nL 166.813125 101.909434 \n\" clip-path=\"url(#pa9c434205b)\" style=\"fill: none; stroke-dasharray: 9.6,2.4,1.5,2.4; stroke-dashoffset: 0; stroke: #2ca02c; stroke-width: 1.5\"/>\n   </g>\n   <g id=\"line2d_97\">\n    <path d=\"M 34.954394 13.5 \nL 44.698573 13.577039 \nL 54.442752 13.802934 \nL 64.186931 27.528346 \nL 73.93111 82.486928 \nL 83.675289 92.989438 \nL 93.419468 98.141932 \nL 103.163647 102.486446 \nL 112.907826 105.543903 \nL 122.652006 109.127021 \nL 132.396185 111.387292 \nL 142.140364 113.615244 \nL 151.884543 115.579116 \nL 161.628722 116.596976 \nL 171.372901 118.333852 \nL 181.11708 119.319633 \n\" clip-path=\"url(#pa9c434205b)\" style=\"fill: none; stroke: #1f77b4; stroke-width: 1.5; stroke-linecap: square\"/>\n   </g>\n   <g id=\"line2d_98\">\n    <path d=\"M 49.633125 13.664467 \nL 69.163125 74.786081 \nL 88.693125 97.775914 \nL 108.223125 103.831432 \nL 127.753125 110.568841 \nL 147.283125 114.79187 \nL 166.813125 117.778768 \nL 186.343125 119.546881 \n\" clip-path=\"url(#pa9c434205b)\" style=\"fill: none; stroke-dasharray: 5.55,2.4; stroke-dashoffset: 0; stroke: #ff7f0e; stroke-width: 1.5\"/>\n   </g>\n   <g id=\"line2d_99\">\n    <path d=\"M 49.633125 139.5 \nL 69.163125 119.85237 \nL 88.693125 108.80385 \nL 108.223125 107.32606 \nL 127.753125 104.574112 \nL 147.283125 102.97996 \nL 166.813125 101.909434 \n\" clip-path=\"url(#pa9c434205b)\" style=\"fill: none; stroke-dasharray: 9.6,2.4,1.5,2.4; stroke-dashoffset: 0; stroke: #2ca02c; stroke-width: 1.5\"/>\n   </g>\n   <g id=\"line2d_100\">\n    <path d=\"M 34.954394 13.5 \nL 44.698573 13.577039 \nL 54.442752 13.802934 \nL 64.186931 27.528346 \nL 73.93111 82.486928 \nL 83.675289 92.989438 \nL 93.419468 98.141932 \nL 103.163647 102.486446 \nL 112.907826 105.543903 \nL 122.652006 109.127021 \nL 132.396185 111.387292 \nL 142.140364 113.615244 \nL 151.884543 115.579116 \nL 161.628722 116.596976 \nL 171.372901 118.333852 \nL 181.11708 119.319633 \n\" clip-path=\"url(#pa9c434205b)\" style=\"fill: none; stroke: #1f77b4; stroke-width: 1.5; stroke-linecap: square\"/>\n   </g>\n   <g id=\"line2d_101\">\n    <path d=\"M 49.633125 13.664467 \nL 69.163125 74.786081 \nL 88.693125 97.775914 \nL 108.223125 103.831432 \nL 127.753125 110.568841 \nL 147.283125 114.79187 \nL 166.813125 117.778768 \nL 186.343125 119.546881 \n\" clip-path=\"url(#pa9c434205b)\" style=\"fill: none; stroke-dasharray: 5.55,2.4; stroke-dashoffset: 0; stroke: #ff7f0e; stroke-width: 1.5\"/>\n   </g>\n   <g id=\"line2d_102\">\n    <path d=\"M 49.633125 139.5 \nL 69.163125 119.85237 \nL 88.693125 108.80385 \nL 108.223125 107.32606 \nL 127.753125 104.574112 \nL 147.283125 102.97996 \nL 166.813125 101.909434 \nL 186.343125 101.129813 \n\" clip-path=\"url(#pa9c434205b)\" style=\"fill: none; stroke-dasharray: 9.6,2.4,1.5,2.4; stroke-dashoffset: 0; stroke: #2ca02c; stroke-width: 1.5\"/>\n   </g>\n   <g id=\"line2d_103\">\n    <path d=\"M 34.954394 13.5 \nL 44.698573 13.577039 \nL 54.442752 13.802934 \nL 64.186931 27.528346 \nL 73.93111 82.486928 \nL 83.675289 92.989438 \nL 93.419468 98.141932 \nL 103.163647 102.486446 \nL 112.907826 105.543903 \nL 122.652006 109.127021 \nL 132.396185 111.387292 \nL 142.140364 113.615244 \nL 151.884543 115.579116 \nL 161.628722 116.596976 \nL 171.372901 118.333852 \nL 181.11708 119.319633 \nL 190.861259 120.395738 \n\" clip-path=\"url(#pa9c434205b)\" style=\"fill: none; stroke: #1f77b4; stroke-width: 1.5; stroke-linecap: square\"/>\n   </g>\n   <g id=\"line2d_104\">\n    <path d=\"M 49.633125 13.664467 \nL 69.163125 74.786081 \nL 88.693125 97.775914 \nL 108.223125 103.831432 \nL 127.753125 110.568841 \nL 147.283125 114.79187 \nL 166.813125 117.778768 \nL 186.343125 119.546881 \n\" clip-path=\"url(#pa9c434205b)\" style=\"fill: none; stroke-dasharray: 5.55,2.4; stroke-dashoffset: 0; stroke: #ff7f0e; stroke-width: 1.5\"/>\n   </g>\n   <g id=\"line2d_105\">\n    <path d=\"M 49.633125 139.5 \nL 69.163125 119.85237 \nL 88.693125 108.80385 \nL 108.223125 107.32606 \nL 127.753125 104.574112 \nL 147.283125 102.97996 \nL 166.813125 101.909434 \nL 186.343125 101.129813 \n\" clip-path=\"url(#pa9c434205b)\" style=\"fill: none; stroke-dasharray: 9.6,2.4,1.5,2.4; stroke-dashoffset: 0; stroke: #2ca02c; stroke-width: 1.5\"/>\n   </g>\n   <g id=\"line2d_106\">\n    <path d=\"M 34.954394 13.5 \nL 44.698573 13.577039 \nL 54.442752 13.802934 \nL 64.186931 27.528346 \nL 73.93111 82.486928 \nL 83.675289 92.989438 \nL 93.419468 98.141932 \nL 103.163647 102.486446 \nL 112.907826 105.543903 \nL 122.652006 109.127021 \nL 132.396185 111.387292 \nL 142.140364 113.615244 \nL 151.884543 115.579116 \nL 161.628722 116.596976 \nL 171.372901 118.333852 \nL 181.11708 119.319633 \nL 190.861259 120.395738 \nL 200.605438 121.175729 \n\" clip-path=\"url(#pa9c434205b)\" style=\"fill: none; stroke: #1f77b4; stroke-width: 1.5; stroke-linecap: square\"/>\n   </g>\n   <g id=\"line2d_107\">\n    <path d=\"M 49.633125 13.664467 \nL 69.163125 74.786081 \nL 88.693125 97.775914 \nL 108.223125 103.831432 \nL 127.753125 110.568841 \nL 147.283125 114.79187 \nL 166.813125 117.778768 \nL 186.343125 119.546881 \n\" clip-path=\"url(#pa9c434205b)\" style=\"fill: none; stroke-dasharray: 5.55,2.4; stroke-dashoffset: 0; stroke: #ff7f0e; stroke-width: 1.5\"/>\n   </g>\n   <g id=\"line2d_108\">\n    <path d=\"M 49.633125 139.5 \nL 69.163125 119.85237 \nL 88.693125 108.80385 \nL 108.223125 107.32606 \nL 127.753125 104.574112 \nL 147.283125 102.97996 \nL 166.813125 101.909434 \nL 186.343125 101.129813 \n\" clip-path=\"url(#pa9c434205b)\" style=\"fill: none; stroke-dasharray: 9.6,2.4,1.5,2.4; stroke-dashoffset: 0; stroke: #2ca02c; stroke-width: 1.5\"/>\n   </g>\n   <g id=\"line2d_109\">\n    <path d=\"M 34.954394 13.5 \nL 44.698573 13.577039 \nL 54.442752 13.802934 \nL 64.186931 27.528346 \nL 73.93111 82.486928 \nL 83.675289 92.989438 \nL 93.419468 98.141932 \nL 103.163647 102.486446 \nL 112.907826 105.543903 \nL 122.652006 109.127021 \nL 132.396185 111.387292 \nL 142.140364 113.615244 \nL 151.884543 115.579116 \nL 161.628722 116.596976 \nL 171.372901 118.333852 \nL 181.11708 119.319633 \nL 190.861259 120.395738 \nL 200.605438 121.175729 \n\" clip-path=\"url(#pa9c434205b)\" style=\"fill: none; stroke: #1f77b4; stroke-width: 1.5; stroke-linecap: square\"/>\n   </g>\n   <g id=\"line2d_110\">\n    <path d=\"M 49.633125 13.664467 \nL 69.163125 74.786081 \nL 88.693125 97.775914 \nL 108.223125 103.831432 \nL 127.753125 110.568841 \nL 147.283125 114.79187 \nL 166.813125 117.778768 \nL 186.343125 119.546881 \nL 205.873125 121.936344 \n\" clip-path=\"url(#pa9c434205b)\" style=\"fill: none; stroke-dasharray: 5.55,2.4; stroke-dashoffset: 0; stroke: #ff7f0e; stroke-width: 1.5\"/>\n   </g>\n   <g id=\"line2d_111\">\n    <path d=\"M 49.633125 139.5 \nL 69.163125 119.85237 \nL 88.693125 108.80385 \nL 108.223125 107.32606 \nL 127.753125 104.574112 \nL 147.283125 102.97996 \nL 166.813125 101.909434 \nL 186.343125 101.129813 \n\" clip-path=\"url(#pa9c434205b)\" style=\"fill: none; stroke-dasharray: 9.6,2.4,1.5,2.4; stroke-dashoffset: 0; stroke: #2ca02c; stroke-width: 1.5\"/>\n   </g>\n   <g id=\"line2d_112\">\n    <path d=\"M 34.954394 13.5 \nL 44.698573 13.577039 \nL 54.442752 13.802934 \nL 64.186931 27.528346 \nL 73.93111 82.486928 \nL 83.675289 92.989438 \nL 93.419468 98.141932 \nL 103.163647 102.486446 \nL 112.907826 105.543903 \nL 122.652006 109.127021 \nL 132.396185 111.387292 \nL 142.140364 113.615244 \nL 151.884543 115.579116 \nL 161.628722 116.596976 \nL 171.372901 118.333852 \nL 181.11708 119.319633 \nL 190.861259 120.395738 \nL 200.605438 121.175729 \n\" clip-path=\"url(#pa9c434205b)\" style=\"fill: none; stroke: #1f77b4; stroke-width: 1.5; stroke-linecap: square\"/>\n   </g>\n   <g id=\"line2d_113\">\n    <path d=\"M 49.633125 13.664467 \nL 69.163125 74.786081 \nL 88.693125 97.775914 \nL 108.223125 103.831432 \nL 127.753125 110.568841 \nL 147.283125 114.79187 \nL 166.813125 117.778768 \nL 186.343125 119.546881 \nL 205.873125 121.936344 \n\" clip-path=\"url(#pa9c434205b)\" style=\"fill: none; stroke-dasharray: 5.55,2.4; stroke-dashoffset: 0; stroke: #ff7f0e; stroke-width: 1.5\"/>\n   </g>\n   <g id=\"line2d_114\">\n    <path d=\"M 49.633125 139.5 \nL 69.163125 119.85237 \nL 88.693125 108.80385 \nL 108.223125 107.32606 \nL 127.753125 104.574112 \nL 147.283125 102.97996 \nL 166.813125 101.909434 \nL 186.343125 101.129813 \nL 205.873125 100.053469 \n\" clip-path=\"url(#pa9c434205b)\" style=\"fill: none; stroke-dasharray: 9.6,2.4,1.5,2.4; stroke-dashoffset: 0; stroke: #2ca02c; stroke-width: 1.5\"/>\n   </g>\n   <g id=\"line2d_115\">\n    <path d=\"M 34.954394 13.5 \nL 44.698573 13.577039 \nL 54.442752 13.802934 \nL 64.186931 27.528346 \nL 73.93111 82.486928 \nL 83.675289 92.989438 \nL 93.419468 98.141932 \nL 103.163647 102.486446 \nL 112.907826 105.543903 \nL 122.652006 109.127021 \nL 132.396185 111.387292 \nL 142.140364 113.615244 \nL 151.884543 115.579116 \nL 161.628722 116.596976 \nL 171.372901 118.333852 \nL 181.11708 119.319633 \nL 190.861259 120.395738 \nL 200.605438 121.175729 \nL 210.349618 122.434698 \n\" clip-path=\"url(#pa9c434205b)\" style=\"fill: none; stroke: #1f77b4; stroke-width: 1.5; stroke-linecap: square\"/>\n   </g>\n   <g id=\"line2d_116\">\n    <path d=\"M 49.633125 13.664467 \nL 69.163125 74.786081 \nL 88.693125 97.775914 \nL 108.223125 103.831432 \nL 127.753125 110.568841 \nL 147.283125 114.79187 \nL 166.813125 117.778768 \nL 186.343125 119.546881 \nL 205.873125 121.936344 \n\" clip-path=\"url(#pa9c434205b)\" style=\"fill: none; stroke-dasharray: 5.55,2.4; stroke-dashoffset: 0; stroke: #ff7f0e; stroke-width: 1.5\"/>\n   </g>\n   <g id=\"line2d_117\">\n    <path d=\"M 49.633125 139.5 \nL 69.163125 119.85237 \nL 88.693125 108.80385 \nL 108.223125 107.32606 \nL 127.753125 104.574112 \nL 147.283125 102.97996 \nL 166.813125 101.909434 \nL 186.343125 101.129813 \nL 205.873125 100.053469 \n\" clip-path=\"url(#pa9c434205b)\" style=\"fill: none; stroke-dasharray: 9.6,2.4,1.5,2.4; stroke-dashoffset: 0; stroke: #2ca02c; stroke-width: 1.5\"/>\n   </g>\n   <g id=\"line2d_118\">\n    <path d=\"M 34.954394 13.5 \nL 44.698573 13.577039 \nL 54.442752 13.802934 \nL 64.186931 27.528346 \nL 73.93111 82.486928 \nL 83.675289 92.989438 \nL 93.419468 98.141932 \nL 103.163647 102.486446 \nL 112.907826 105.543903 \nL 122.652006 109.127021 \nL 132.396185 111.387292 \nL 142.140364 113.615244 \nL 151.884543 115.579116 \nL 161.628722 116.596976 \nL 171.372901 118.333852 \nL 181.11708 119.319633 \nL 190.861259 120.395738 \nL 200.605438 121.175729 \nL 210.349618 122.434698 \nL 220.093797 122.533073 \n\" clip-path=\"url(#pa9c434205b)\" style=\"fill: none; stroke: #1f77b4; stroke-width: 1.5; stroke-linecap: square\"/>\n   </g>\n   <g id=\"line2d_119\">\n    <path d=\"M 49.633125 13.664467 \nL 69.163125 74.786081 \nL 88.693125 97.775914 \nL 108.223125 103.831432 \nL 127.753125 110.568841 \nL 147.283125 114.79187 \nL 166.813125 117.778768 \nL 186.343125 119.546881 \nL 205.873125 121.936344 \n\" clip-path=\"url(#pa9c434205b)\" style=\"fill: none; stroke-dasharray: 5.55,2.4; stroke-dashoffset: 0; stroke: #ff7f0e; stroke-width: 1.5\"/>\n   </g>\n   <g id=\"line2d_120\">\n    <path d=\"M 49.633125 139.5 \nL 69.163125 119.85237 \nL 88.693125 108.80385 \nL 108.223125 107.32606 \nL 127.753125 104.574112 \nL 147.283125 102.97996 \nL 166.813125 101.909434 \nL 186.343125 101.129813 \nL 205.873125 100.053469 \n\" clip-path=\"url(#pa9c434205b)\" style=\"fill: none; stroke-dasharray: 9.6,2.4,1.5,2.4; stroke-dashoffset: 0; stroke: #2ca02c; stroke-width: 1.5\"/>\n   </g>\n   <g id=\"line2d_121\">\n    <path d=\"M 34.954394 13.5 \nL 44.698573 13.577039 \nL 54.442752 13.802934 \nL 64.186931 27.528346 \nL 73.93111 82.486928 \nL 83.675289 92.989438 \nL 93.419468 98.141932 \nL 103.163647 102.486446 \nL 112.907826 105.543903 \nL 122.652006 109.127021 \nL 132.396185 111.387292 \nL 142.140364 113.615244 \nL 151.884543 115.579116 \nL 161.628722 116.596976 \nL 171.372901 118.333852 \nL 181.11708 119.319633 \nL 190.861259 120.395738 \nL 200.605438 121.175729 \nL 210.349618 122.434698 \nL 220.093797 122.533073 \n\" clip-path=\"url(#pa9c434205b)\" style=\"fill: none; stroke: #1f77b4; stroke-width: 1.5; stroke-linecap: square\"/>\n   </g>\n   <g id=\"line2d_122\">\n    <path d=\"M 49.633125 13.664467 \nL 69.163125 74.786081 \nL 88.693125 97.775914 \nL 108.223125 103.831432 \nL 127.753125 110.568841 \nL 147.283125 114.79187 \nL 166.813125 117.778768 \nL 186.343125 119.546881 \nL 205.873125 121.936344 \nL 225.403125 123.647559 \n\" clip-path=\"url(#pa9c434205b)\" style=\"fill: none; stroke-dasharray: 5.55,2.4; stroke-dashoffset: 0; stroke: #ff7f0e; stroke-width: 1.5\"/>\n   </g>\n   <g id=\"line2d_123\">\n    <path d=\"M 49.633125 139.5 \nL 69.163125 119.85237 \nL 88.693125 108.80385 \nL 108.223125 107.32606 \nL 127.753125 104.574112 \nL 147.283125 102.97996 \nL 166.813125 101.909434 \nL 186.343125 101.129813 \nL 205.873125 100.053469 \n\" clip-path=\"url(#pa9c434205b)\" style=\"fill: none; stroke-dasharray: 9.6,2.4,1.5,2.4; stroke-dashoffset: 0; stroke: #2ca02c; stroke-width: 1.5\"/>\n   </g>\n   <g id=\"line2d_124\">\n    <path d=\"M 34.954394 13.5 \nL 44.698573 13.577039 \nL 54.442752 13.802934 \nL 64.186931 27.528346 \nL 73.93111 82.486928 \nL 83.675289 92.989438 \nL 93.419468 98.141932 \nL 103.163647 102.486446 \nL 112.907826 105.543903 \nL 122.652006 109.127021 \nL 132.396185 111.387292 \nL 142.140364 113.615244 \nL 151.884543 115.579116 \nL 161.628722 116.596976 \nL 171.372901 118.333852 \nL 181.11708 119.319633 \nL 190.861259 120.395738 \nL 200.605438 121.175729 \nL 210.349618 122.434698 \nL 220.093797 122.533073 \n\" clip-path=\"url(#pa9c434205b)\" style=\"fill: none; stroke: #1f77b4; stroke-width: 1.5; stroke-linecap: square\"/>\n   </g>\n   <g id=\"line2d_125\">\n    <path d=\"M 49.633125 13.664467 \nL 69.163125 74.786081 \nL 88.693125 97.775914 \nL 108.223125 103.831432 \nL 127.753125 110.568841 \nL 147.283125 114.79187 \nL 166.813125 117.778768 \nL 186.343125 119.546881 \nL 205.873125 121.936344 \nL 225.403125 123.647559 \n\" clip-path=\"url(#pa9c434205b)\" style=\"fill: none; stroke-dasharray: 5.55,2.4; stroke-dashoffset: 0; stroke: #ff7f0e; stroke-width: 1.5\"/>\n   </g>\n   <g id=\"line2d_126\">\n    <path d=\"M 49.633125 139.5 \nL 69.163125 119.85237 \nL 88.693125 108.80385 \nL 108.223125 107.32606 \nL 127.753125 104.574112 \nL 147.283125 102.97996 \nL 166.813125 101.909434 \nL 186.343125 101.129813 \nL 205.873125 100.053469 \nL 225.403125 99.262212 \n\" clip-path=\"url(#pa9c434205b)\" style=\"fill: none; stroke-dasharray: 9.6,2.4,1.5,2.4; stroke-dashoffset: 0; stroke: #2ca02c; stroke-width: 1.5\"/>\n   </g>\n   <g id=\"patch_3\">\n    <path d=\"M 30.103125 145.8 \nL 30.103125 7.2 \n\" style=\"fill: none; stroke: #000000; stroke-width: 0.8; stroke-linejoin: miter; stroke-linecap: square\"/>\n   </g>\n   <g id=\"patch_4\">\n    <path d=\"M 225.403125 145.8 \nL 225.403125 7.2 \n\" style=\"fill: none; stroke: #000000; stroke-width: 0.8; stroke-linejoin: miter; stroke-linecap: square\"/>\n   </g>\n   <g id=\"patch_5\">\n    <path d=\"M 30.103125 145.8 \nL 225.403125 145.8 \n\" style=\"fill: none; stroke: #000000; stroke-width: 0.8; stroke-linejoin: miter; stroke-linecap: square\"/>\n   </g>\n   <g id=\"patch_6\">\n    <path d=\"M 30.103125 7.2 \nL 225.403125 7.2 \n\" style=\"fill: none; stroke: #000000; stroke-width: 0.8; stroke-linejoin: miter; stroke-linecap: square\"/>\n   </g>\n   <g id=\"legend_1\">\n    <g id=\"patch_7\">\n     <path d=\"M 138.8125 60.06875 \nL 218.403125 60.06875 \nQ 220.403125 60.06875 220.403125 58.06875 \nL 220.403125 14.2 \nQ 220.403125 12.2 218.403125 12.2 \nL 138.8125 12.2 \nQ 136.8125 12.2 136.8125 14.2 \nL 136.8125 58.06875 \nQ 136.8125 60.06875 138.8125 60.06875 \nz\n\" style=\"fill: #ffffff; opacity: 0.8; stroke: #cccccc; stroke-linejoin: miter\"/>\n    </g>\n    <g id=\"line2d_127\">\n     <path d=\"M 140.8125 20.298438 \nL 150.8125 20.298438 \nL 160.8125 20.298438 \n\" style=\"fill: none; stroke: #1f77b4; stroke-width: 1.5; stroke-linecap: square\"/>\n    </g>\n    <g id=\"text_12\">\n     <!-- train_loss -->\n     <g transform=\"translate(168.8125 23.798438) scale(0.1 -0.1)\">\n      <defs>\n       <path id=\"DejaVuSans-74\" d=\"M 1172 4494 \nL 1172 3500 \nL 2356 3500 \nL 2356 3053 \nL 1172 3053 \nL 1172 1153 \nQ 1172 725 1289 603 \nQ 1406 481 1766 481 \nL 2356 481 \nL 2356 0 \nL 1766 0 \nQ 1100 0 847 248 \nQ 594 497 594 1153 \nL 594 3053 \nL 172 3053 \nL 172 3500 \nL 594 3500 \nL 594 4494 \nL 1172 4494 \nz\n\" transform=\"scale(0.015625)\"/>\n       <path id=\"DejaVuSans-72\" d=\"M 2631 2963 \nQ 2534 3019 2420 3045 \nQ 2306 3072 2169 3072 \nQ 1681 3072 1420 2755 \nQ 1159 2438 1159 1844 \nL 1159 0 \nL 581 0 \nL 581 3500 \nL 1159 3500 \nL 1159 2956 \nQ 1341 3275 1631 3429 \nQ 1922 3584 2338 3584 \nQ 2397 3584 2469 3576 \nQ 2541 3569 2628 3553 \nL 2631 2963 \nz\n\" transform=\"scale(0.015625)\"/>\n       <path id=\"DejaVuSans-61\" d=\"M 2194 1759 \nQ 1497 1759 1228 1600 \nQ 959 1441 959 1056 \nQ 959 750 1161 570 \nQ 1363 391 1709 391 \nQ 2188 391 2477 730 \nQ 2766 1069 2766 1631 \nL 2766 1759 \nL 2194 1759 \nz\nM 3341 1997 \nL 3341 0 \nL 2766 0 \nL 2766 531 \nQ 2569 213 2275 61 \nQ 1981 -91 1556 -91 \nQ 1019 -91 701 211 \nQ 384 513 384 1019 \nQ 384 1609 779 1909 \nQ 1175 2209 1959 2209 \nL 2766 2209 \nL 2766 2266 \nQ 2766 2663 2505 2880 \nQ 2244 3097 1772 3097 \nQ 1472 3097 1187 3025 \nQ 903 2953 641 2809 \nL 641 3341 \nQ 956 3463 1253 3523 \nQ 1550 3584 1831 3584 \nQ 2591 3584 2966 3190 \nQ 3341 2797 3341 1997 \nz\n\" transform=\"scale(0.015625)\"/>\n       <path id=\"DejaVuSans-69\" d=\"M 603 3500 \nL 1178 3500 \nL 1178 0 \nL 603 0 \nL 603 3500 \nz\nM 603 4863 \nL 1178 4863 \nL 1178 4134 \nL 603 4134 \nL 603 4863 \nz\n\" transform=\"scale(0.015625)\"/>\n       <path id=\"DejaVuSans-6e\" d=\"M 3513 2113 \nL 3513 0 \nL 2938 0 \nL 2938 2094 \nQ 2938 2591 2744 2837 \nQ 2550 3084 2163 3084 \nQ 1697 3084 1428 2787 \nQ 1159 2491 1159 1978 \nL 1159 0 \nL 581 0 \nL 581 3500 \nL 1159 3500 \nL 1159 2956 \nQ 1366 3272 1645 3428 \nQ 1925 3584 2291 3584 \nQ 2894 3584 3203 3211 \nQ 3513 2838 3513 2113 \nz\n\" transform=\"scale(0.015625)\"/>\n       <path id=\"DejaVuSans-5f\" d=\"M 3263 -1063 \nL 3263 -1509 \nL -63 -1509 \nL -63 -1063 \nL 3263 -1063 \nz\n\" transform=\"scale(0.015625)\"/>\n       <path id=\"DejaVuSans-6c\" d=\"M 603 4863 \nL 1178 4863 \nL 1178 0 \nL 603 0 \nL 603 4863 \nz\n\" transform=\"scale(0.015625)\"/>\n       <path id=\"DejaVuSans-73\" d=\"M 2834 3397 \nL 2834 2853 \nQ 2591 2978 2328 3040 \nQ 2066 3103 1784 3103 \nQ 1356 3103 1142 2972 \nQ 928 2841 928 2578 \nQ 928 2378 1081 2264 \nQ 1234 2150 1697 2047 \nL 1894 2003 \nQ 2506 1872 2764 1633 \nQ 3022 1394 3022 966 \nQ 3022 478 2636 193 \nQ 2250 -91 1575 -91 \nQ 1294 -91 989 -36 \nQ 684 19 347 128 \nL 347 722 \nQ 666 556 975 473 \nQ 1284 391 1588 391 \nQ 1994 391 2212 530 \nQ 2431 669 2431 922 \nQ 2431 1156 2273 1281 \nQ 2116 1406 1581 1522 \nL 1381 1569 \nQ 847 1681 609 1914 \nQ 372 2147 372 2553 \nQ 372 3047 722 3315 \nQ 1072 3584 1716 3584 \nQ 2034 3584 2315 3537 \nQ 2597 3491 2834 3397 \nz\n\" transform=\"scale(0.015625)\"/>\n      </defs>\n      <use xlink:href=\"#DejaVuSans-74\"/>\n      <use xlink:href=\"#DejaVuSans-72\" x=\"39.208984\"/>\n      <use xlink:href=\"#DejaVuSans-61\" x=\"80.322266\"/>\n      <use xlink:href=\"#DejaVuSans-69\" x=\"141.601562\"/>\n      <use xlink:href=\"#DejaVuSans-6e\" x=\"169.384766\"/>\n      <use xlink:href=\"#DejaVuSans-5f\" x=\"232.763672\"/>\n      <use xlink:href=\"#DejaVuSans-6c\" x=\"282.763672\"/>\n      <use xlink:href=\"#DejaVuSans-6f\" x=\"310.546875\"/>\n      <use xlink:href=\"#DejaVuSans-73\" x=\"371.728516\"/>\n      <use xlink:href=\"#DejaVuSans-73\" x=\"423.828125\"/>\n     </g>\n    </g>\n    <g id=\"line2d_128\">\n     <path d=\"M 140.8125 35.254688 \nL 150.8125 35.254688 \nL 160.8125 35.254688 \n\" style=\"fill: none; stroke-dasharray: 5.55,2.4; stroke-dashoffset: 0; stroke: #ff7f0e; stroke-width: 1.5\"/>\n    </g>\n    <g id=\"text_13\">\n     <!-- val_loss -->\n     <g transform=\"translate(168.8125 38.754688) scale(0.1 -0.1)\">\n      <defs>\n       <path id=\"DejaVuSans-76\" d=\"M 191 3500 \nL 800 3500 \nL 1894 563 \nL 2988 3500 \nL 3597 3500 \nL 2284 0 \nL 1503 0 \nL 191 3500 \nz\n\" transform=\"scale(0.015625)\"/>\n      </defs>\n      <use xlink:href=\"#DejaVuSans-76\"/>\n      <use xlink:href=\"#DejaVuSans-61\" x=\"59.179688\"/>\n      <use xlink:href=\"#DejaVuSans-6c\" x=\"120.458984\"/>\n      <use xlink:href=\"#DejaVuSans-5f\" x=\"148.242188\"/>\n      <use xlink:href=\"#DejaVuSans-6c\" x=\"198.242188\"/>\n      <use xlink:href=\"#DejaVuSans-6f\" x=\"226.025391\"/>\n      <use xlink:href=\"#DejaVuSans-73\" x=\"287.207031\"/>\n      <use xlink:href=\"#DejaVuSans-73\" x=\"339.306641\"/>\n     </g>\n    </g>\n    <g id=\"line2d_129\">\n     <path d=\"M 140.8125 50.210938 \nL 150.8125 50.210938 \nL 160.8125 50.210938 \n\" style=\"fill: none; stroke-dasharray: 9.6,2.4,1.5,2.4; stroke-dashoffset: 0; stroke: #2ca02c; stroke-width: 1.5\"/>\n    </g>\n    <g id=\"text_14\">\n     <!-- val_acc -->\n     <g transform=\"translate(168.8125 53.710938) scale(0.1 -0.1)\">\n      <use xlink:href=\"#DejaVuSans-76\"/>\n      <use xlink:href=\"#DejaVuSans-61\" x=\"59.179688\"/>\n      <use xlink:href=\"#DejaVuSans-6c\" x=\"120.458984\"/>\n      <use xlink:href=\"#DejaVuSans-5f\" x=\"148.242188\"/>\n      <use xlink:href=\"#DejaVuSans-61\" x=\"198.242188\"/>\n      <use xlink:href=\"#DejaVuSans-63\" x=\"259.521484\"/>\n      <use xlink:href=\"#DejaVuSans-63\" x=\"314.501953\"/>\n     </g>\n    </g>\n   </g>\n  </g>\n </g>\n <defs>\n  <clipPath id=\"pa9c434205b\">\n   <rect x=\"30.103125\" y=\"7.2\" width=\"195.3\" height=\"138.6\"/>\n  </clipPath>\n </defs>\n</svg>\n"
          },
          "metadata": {}
        }
      ],
      "source": [
        "model = AlexNet(lr=0.01)\n",
        "data = d2l.FashionMNIST(batch_size=128, resize=(224, 224))\n",
        "trainer = d2l.Trainer(max_epochs=10, num_gpus=1)\n",
        "trainer.fit(model, data)"
      ]
    },
    {
      "cell_type": "markdown",
      "id": "f9c33357",
      "metadata": {
        "origin_pos": 16,
        "id": "f9c33357"
      },
      "source": [
        "\n",
        "## Exercises 8.1\n",
        "\n",
        "1. Following up on the discussion above, analyze the computational properties of AlexNet.\n",
        "    1. Compute the memory footprint for convolutions and fully connected layers, respectively. Which one dominates?\n",
        "    1. Calculate the computational cost for the convolutions and the fully connected layers.\n",
        "    1. How does the memory (read and write bandwidth, latency, size) affect computation? Is there any difference in its effects for training and inference?\n",
        "1. You are a chip designer and need to trade off computation and memory bandwidth. For example, a faster chip requires more power and possibly a larger chip area. More memory bandwidth requires more pins and control logic, thus also more area. How do you optimize?\n",
        "1. Why do engineers no longer report performance benchmarks on AlexNet?\n",
        "1. Try increasing the number of epochs when training AlexNet. Compared with LeNet, how do the results differ? Why?\n",
        "1. AlexNet may be too complex for the Fashion-MNIST dataset, in particular due to the low resolution of the initial images.\n",
        "    1. Try simplifying the model to make the training faster, while ensuring that the accuracy does not drop significantly.\n",
        "    1. Design a better model that works directly on $28 \\times 28$ images.\n",
        "1. Modify the batch size, and observe the changes in throughput (images/s), accuracy, and GPU memory.\n",
        "1. Apply dropout and ReLU to LeNet-5. Does it improve? Can you improve things further by preprocessing to take advantage of the invariances inherent in the images?\n",
        "1. Can you make AlexNet overfit? Which feature do you need to remove or change to break training?\n"
      ]
    },
    {
      "cell_type": "markdown",
      "source": [
        "\n",
        "## Jawaban\n",
        "---\n",
        "\n",
        "**1. Analyze the Computational Properties of AlexNet**\n",
        "\n",
        "**1a. Compute the Memory Footprint for Convolutions and Fully Connected Layers**\n",
        "\n",
        "untuk menghitung memoryfootprint untuk convolutional dan fully connected layers, berikut kode nya:"
      ],
      "metadata": {
        "id": "yKMK6U5TiiTH"
      },
      "id": "yKMK6U5TiiTH"
    },
    {
      "cell_type": "code",
      "source": [
        "# Fungsi menghitung jumlah parameter\n",
        "def conv_layer_params(input_channels, output_channels, kernel_size):\n",
        "    return (input_channels * output_channels * kernel_size ** 2) + output_channels\n",
        "\n",
        "def fc_layer_params(input_size, output_size):\n",
        "    return input_size * output_size + output_size\n",
        "\n",
        "# Parameter pada AlexNet\n",
        "conv1 = conv_layer_params(3, 96, 11)\n",
        "conv2 = conv_layer_params(96, 256, 5)\n",
        "conv3 = conv_layer_params(256, 384, 3)\n",
        "conv4 = conv_layer_params(384, 384, 3)\n",
        "conv5 = conv_layer_params(384, 256, 3)\n",
        "\n",
        "fc1 = fc_layer_params(256 * 6 * 6, 4096)\n",
        "fc2 = fc_layer_params(4096, 4096)\n",
        "fc3 = fc_layer_params(4096, 1000)\n",
        "\n",
        "total_conv_params = conv1 + conv2 + conv3 + conv4 + conv5\n",
        "total_fc_params = fc1 + fc2 + fc3\n",
        "\n",
        "print(f\"Total parameters for convolutional layers: {total_conv_params:,}\")\n",
        "print(f\"Total parameters for fully connected layers: {total_fc_params:,}\")\n"
      ],
      "metadata": {
        "colab": {
          "base_uri": "https://localhost:8080/"
        },
        "id": "G1ksgNGrhzap",
        "outputId": "e2da2d88-c012-411e-975d-3dc0971effb7"
      },
      "id": "G1ksgNGrhzap",
      "execution_count": null,
      "outputs": [
        {
          "output_type": "stream",
          "name": "stdout",
          "text": [
            "Total parameters for convolutional layers: 3,747,200\n",
            "Total parameters for fully connected layers: 58,631,144\n"
          ]
        }
      ]
    },
    {
      "cell_type": "markdown",
      "source": [
        "**Penjelasan :** Fully connected layers memiliki lebih banyak parameter dibandingkan convolutional layers karena koneksi penuh ke setiap neuron. Oleh karena itu, memory footprint lebih didominasi oleh fully connected layers."
      ],
      "metadata": {
        "id": "BC-qFQ1qld53"
      },
      "id": "BC-qFQ1qld53"
    },
    {
      "cell_type": "markdown",
      "source": [
        "**1b. Calculate the Computational Cost for Convolutions and Fully Connected Layers**\n",
        "\n",
        "Untuk menghitung computational cost, kita dapat menggunakan jumlah operasi yang dilakukan dalam floating-point operations (FLOPs):\n",
        "\n"
      ],
      "metadata": {
        "id": "4T439LRVlkhi"
      },
      "id": "4T439LRVlkhi"
    },
    {
      "cell_type": "code",
      "source": [
        "# Fungsi menghitung computational cost\n",
        "def conv_computational_cost(input_height, input_width, input_channels, output_channels, kernel_size, stride=1, padding=0):\n",
        "    output_height = (input_height - kernel_size + 2 * padding) // stride + 1\n",
        "    output_width = (input_width - kernel_size + 2 * padding) // stride + 1\n",
        "    return output_height * output_width * input_channels * output_channels * kernel_size ** 2\n",
        "\n",
        "conv1_cost = conv_computational_cost(224, 224, 3, 96, 11, stride=4)\n",
        "conv2_cost = conv_computational_cost(27, 27, 96, 256, 5)\n",
        "conv3_cost = conv_computational_cost(13, 13, 256, 384, 3)\n",
        "conv4_cost = conv_computational_cost(13, 13, 384, 384, 3)\n",
        "conv5_cost = conv_computational_cost(13, 13, 384, 256, 3)\n",
        "\n",
        "total_conv_cost = conv1_cost + conv2_cost + conv3_cost + conv4_cost + conv5_cost\n",
        "\n",
        "print(f\"Total computational cost for convolutional layers: {total_conv_cost:,} FLOPs\")\n"
      ],
      "metadata": {
        "colab": {
          "base_uri": "https://localhost:8080/"
        },
        "id": "VBvlpASXh3gc",
        "outputId": "1b7d1c6d-8a72-46fb-a7d9-8fb4387ce062"
      },
      "id": "VBvlpASXh3gc",
      "execution_count": null,
      "outputs": [
        {
          "output_type": "stream",
          "name": "stdout",
          "text": [
            "Total computational cost for convolutional layers: 801,320,064 FLOPs\n"
          ]
        }
      ]
    },
    {
      "cell_type": "markdown",
      "source": [
        "**Penjelasan:** Convolutional layers memiliki computational cost yang lebih tinggi karena harus melakukan operasi konvolusi pada seluruh area input.\n",
        "\n"
      ],
      "metadata": {
        "id": "XWg-UzIklwI4"
      },
      "id": "XWg-UzIklwI4"
    },
    {
      "cell_type": "markdown",
      "source": [
        "**1c. How Does Memory Affect Computation?**\n",
        "\n",
        "Memory berperan penting dalam:\n",
        "\n",
        "* Bandwidth: Mempengaruhi seberapa cepat data bisa diambil dari memori.\n",
        "* Latency: Menentukan seberapa cepat CPU/GPU dapat mengakses data dari memori.\n",
        "* Size: Penting untuk menentukan kapasitas penyimpanan model.\n",
        "\n",
        "Saat training, bandwidth penting untuk memperbarui parameter, sementara pada inference, ukuran memory lebih penting karena hanya butuh menyimpan bobot."
      ],
      "metadata": {
        "id": "dRbI9ToJl2Mw"
      },
      "id": "dRbI9ToJl2Mw"
    },
    {
      "cell_type": "markdown",
      "source": [
        "**2. Chip Design Trade-Offs**\n",
        "\n",
        "Sebagai desainer chip:\n",
        "\n",
        "* Kurangi ukuran fully connected layers untuk mengurangi konsumsi memori.\n",
        "* Manfaatkan reuse data untuk mengurangi transfer data berulang.\n",
        "* Paralelisasi dan pipelining dapat mempercepat komputasi tanpa terlalu banyak meningkatkan ukuran fisik chip."
      ],
      "metadata": {
        "id": "k941aWO_mDvb"
      },
      "id": "k941aWO_mDvb"
    },
    {
      "cell_type": "markdown",
      "source": [
        "**3. Mengapa Tidak Lagi Menggunakan AlexNet untuk Benchmark?**\n",
        "\n",
        "AlexNet sudah dianggap tidak efisien dibandingkan dengan model seperti ResNet dan MobileNet yang menggunakan teknik modern seperti skip connections dan depthwise separable convolutions yang jauh lebih efisien dalam performa dan penggunaan sumber daya.\n",
        "\n"
      ],
      "metadata": {
        "id": "FUmha0nXmqUy"
      },
      "id": "FUmha0nXmqUy"
    },
    {
      "cell_type": "markdown",
      "source": [
        "**4. Increasing Number of Epochs**\n",
        "\n",
        "Menambah jumlah epoch pada AlexNet dibandingkan LeNet akan menghasilkan **overfitting**, terutama karena jumlah parameter AlexNet yang jauh lebih besar dibandingkan LeNet, sehingga ia cenderung belajar terlalu mendetail pada dataset yang lebih sederhana seperti MNIST."
      ],
      "metadata": {
        "id": "pDk0uGs6mx_r"
      },
      "id": "pDk0uGs6mx_r"
    },
    {
      "cell_type": "markdown",
      "source": [
        "**5. Simplify AlexNet for Fashion-MNIST**\n",
        "\n",
        "**5a. Simplify the Model**\n",
        "\n",
        "Berikut adalah contoh model yang disederhanakan untuk dataset Fashion-MNIST:"
      ],
      "metadata": {
        "id": "wGidPf0Zm7WI"
      },
      "id": "wGidPf0Zm7WI"
    },
    {
      "cell_type": "code",
      "source": [
        "import torch\n",
        "import torch.nn as nn\n",
        "\n",
        "# AlexNet Simplified Version for Fashion-MNIST\n",
        "class SimplifiedAlexNet(nn.Module):\n",
        "    def __init__(self):\n",
        "        super(SimplifiedAlexNet, self).__init__()\n",
        "        self.features = nn.Sequential(\n",
        "            nn.Conv2d(1, 32, kernel_size=5, stride=1, padding=2),  # Mengurangi filter dan input channels untuk grayscale\n",
        "            nn.ReLU(inplace=True),\n",
        "            nn.MaxPool2d(kernel_size=2, stride=2),\n",
        "            nn.Conv2d(32, 64, kernel_size=5, stride=1, padding=2),\n",
        "            nn.ReLU(inplace=True),\n",
        "            nn.MaxPool2d(kernel_size=2, stride=2)\n",
        "        )\n",
        "        self.classifier = nn.Sequential(\n",
        "            nn.Linear(64 * 7 * 7, 256),  # Fully connected layer disederhanakan\n",
        "            nn.ReLU(inplace=True),\n",
        "            nn.Dropout(),\n",
        "            nn.Linear(256, 128),\n",
        "            nn.ReLU(inplace=True),\n",
        "            nn.Linear(128, 10)\n",
        "        )\n",
        "\n",
        "    def forward(self, x):\n",
        "        x = self.features(x)\n",
        "        x = x.view(x.size(0), -1)\n",
        "        x = self.classifier(x)\n",
        "        return x\n",
        "\n",
        "model = SimplifiedAlexNet()\n",
        "print(model)\n"
      ],
      "metadata": {
        "colab": {
          "base_uri": "https://localhost:8080/"
        },
        "id": "NWus0gvIh4D6",
        "outputId": "14b8be79-5dcf-4e8f-afb5-1f683b7ae2d5"
      },
      "id": "NWus0gvIh4D6",
      "execution_count": null,
      "outputs": [
        {
          "output_type": "stream",
          "name": "stdout",
          "text": [
            "SimplifiedAlexNet(\n",
            "  (features): Sequential(\n",
            "    (0): Conv2d(1, 32, kernel_size=(5, 5), stride=(1, 1), padding=(2, 2))\n",
            "    (1): ReLU(inplace=True)\n",
            "    (2): MaxPool2d(kernel_size=2, stride=2, padding=0, dilation=1, ceil_mode=False)\n",
            "    (3): Conv2d(32, 64, kernel_size=(5, 5), stride=(1, 1), padding=(2, 2))\n",
            "    (4): ReLU(inplace=True)\n",
            "    (5): MaxPool2d(kernel_size=2, stride=2, padding=0, dilation=1, ceil_mode=False)\n",
            "  )\n",
            "  (classifier): Sequential(\n",
            "    (0): Linear(in_features=3136, out_features=256, bias=True)\n",
            "    (1): ReLU(inplace=True)\n",
            "    (2): Dropout(p=0.5, inplace=False)\n",
            "    (3): Linear(in_features=256, out_features=128, bias=True)\n",
            "    (4): ReLU(inplace=True)\n",
            "    (5): Linear(in_features=128, out_features=10, bias=True)\n",
            "  )\n",
            ")\n"
          ]
        }
      ]
    },
    {
      "cell_type": "markdown",
      "source": [
        "**Penjelasan:** Mengurangi jumlah filter dan layer fully connected untuk membuat model lebih ringan dan cepat dalam pelatihan pada dataset dengan resolusi rendah seperti Fashion-MNIST."
      ],
      "metadata": {
        "id": "DOk8J0IOnCxQ"
      },
      "id": "DOk8J0IOnCxQ"
    },
    {
      "cell_type": "markdown",
      "source": [
        "**6. Modify Batch Size**\n"
      ],
      "metadata": {
        "id": "znqz_lfCnLoE"
      },
      "id": "znqz_lfCnLoE"
    },
    {
      "cell_type": "markdown",
      "source": [
        "**Penjelasan:** Batch size besar meningkatkan throughput tetapi bisa menurunkan akurasi karena berkurangnya variasi antar batch."
      ],
      "metadata": {
        "id": "TZNZt4o2nROD"
      },
      "id": "TZNZt4o2nROD"
    },
    {
      "cell_type": "code",
      "source": [
        "from torch.utils.data import DataLoader\n",
        "from torchvision import datasets, transforms\n",
        "\n",
        "# Transformasi untuk dataset\n",
        "transform = transforms.Compose([transforms.ToTensor(), transforms.Normalize((0.5,), (0.5,))])\n",
        "\n",
        "# Dataset Fashion-MNIST\n",
        "train_dataset = datasets.FashionMNIST(root='./data', train=True, download=True, transform=transform)\n",
        "\n",
        "# Menggunakan batch size yang berbeda\n",
        "batch_sizes = [16, 32, 64, 128]\n",
        "\n",
        "for batch_size in batch_sizes:\n",
        "    train_loader = DataLoader(dataset=train_dataset, batch_size=batch_size, shuffle=True)\n",
        "    print(f\"Batch Size: {batch_size}, Number of Batches: {len(train_loader)}\")\n"
      ],
      "metadata": {
        "colab": {
          "base_uri": "https://localhost:8080/"
        },
        "id": "WBoZbv94iNF6",
        "outputId": "8ecfc52e-7e40-4aca-e76e-b22cf7276d14"
      },
      "id": "WBoZbv94iNF6",
      "execution_count": null,
      "outputs": [
        {
          "output_type": "stream",
          "name": "stdout",
          "text": [
            "Downloading http://fashion-mnist.s3-website.eu-central-1.amazonaws.com/train-images-idx3-ubyte.gz\n",
            "Downloading http://fashion-mnist.s3-website.eu-central-1.amazonaws.com/train-images-idx3-ubyte.gz to ./data/FashionMNIST/raw/train-images-idx3-ubyte.gz\n"
          ]
        },
        {
          "output_type": "stream",
          "name": "stderr",
          "text": [
            "100%|██████████| 26421880/26421880 [00:02<00:00, 11212263.62it/s]\n"
          ]
        },
        {
          "output_type": "stream",
          "name": "stdout",
          "text": [
            "Extracting ./data/FashionMNIST/raw/train-images-idx3-ubyte.gz to ./data/FashionMNIST/raw\n",
            "\n",
            "Downloading http://fashion-mnist.s3-website.eu-central-1.amazonaws.com/train-labels-idx1-ubyte.gz\n",
            "Downloading http://fashion-mnist.s3-website.eu-central-1.amazonaws.com/train-labels-idx1-ubyte.gz to ./data/FashionMNIST/raw/train-labels-idx1-ubyte.gz\n"
          ]
        },
        {
          "output_type": "stream",
          "name": "stderr",
          "text": [
            "100%|██████████| 29515/29515 [00:00<00:00, 191652.53it/s]\n"
          ]
        },
        {
          "output_type": "stream",
          "name": "stdout",
          "text": [
            "Extracting ./data/FashionMNIST/raw/train-labels-idx1-ubyte.gz to ./data/FashionMNIST/raw\n",
            "\n",
            "Downloading http://fashion-mnist.s3-website.eu-central-1.amazonaws.com/t10k-images-idx3-ubyte.gz\n",
            "Downloading http://fashion-mnist.s3-website.eu-central-1.amazonaws.com/t10k-images-idx3-ubyte.gz to ./data/FashionMNIST/raw/t10k-images-idx3-ubyte.gz\n"
          ]
        },
        {
          "output_type": "stream",
          "name": "stderr",
          "text": [
            "100%|██████████| 4422102/4422102 [00:01<00:00, 3508927.55it/s]\n"
          ]
        },
        {
          "output_type": "stream",
          "name": "stdout",
          "text": [
            "Extracting ./data/FashionMNIST/raw/t10k-images-idx3-ubyte.gz to ./data/FashionMNIST/raw\n",
            "\n",
            "Downloading http://fashion-mnist.s3-website.eu-central-1.amazonaws.com/t10k-labels-idx1-ubyte.gz\n",
            "Downloading http://fashion-mnist.s3-website.eu-central-1.amazonaws.com/t10k-labels-idx1-ubyte.gz to ./data/FashionMNIST/raw/t10k-labels-idx1-ubyte.gz\n"
          ]
        },
        {
          "output_type": "stream",
          "name": "stderr",
          "text": [
            "100%|██████████| 5148/5148 [00:00<00:00, 23469866.30it/s]"
          ]
        },
        {
          "output_type": "stream",
          "name": "stdout",
          "text": [
            "Extracting ./data/FashionMNIST/raw/t10k-labels-idx1-ubyte.gz to ./data/FashionMNIST/raw\n",
            "\n",
            "Batch Size: 16, Number of Batches: 3750\n",
            "Batch Size: 32, Number of Batches: 1875\n",
            "Batch Size: 64, Number of Batches: 938\n",
            "Batch Size: 128, Number of Batches: 469\n"
          ]
        },
        {
          "output_type": "stream",
          "name": "stderr",
          "text": [
            "\n"
          ]
        }
      ]
    },
    {
      "cell_type": "markdown",
      "source": [
        "**7. Apply Dropout and ReLU to LeNet-5**"
      ],
      "metadata": {
        "id": "lZNlG47MnU99"
      },
      "id": "lZNlG47MnU99"
    },
    {
      "cell_type": "markdown",
      "source": [
        "**Penjelasan:** Dropout mengurangi overfitting, sedangkan ReLU menambah kemampuan jaringan untuk belajar fitur non-linear."
      ],
      "metadata": {
        "id": "3M9mwk5JnZpS"
      },
      "id": "3M9mwk5JnZpS"
    },
    {
      "cell_type": "code",
      "source": [
        "class ModifiedLeNet5(nn.Module):\n",
        "    def __init__(self):\n",
        "        super(ModifiedLeNet5, self).__init__()\n",
        "        self.features = nn.Sequential(\n",
        "            nn.Conv2d(1, 6, kernel_size=5),\n",
        "            nn.ReLU(inplace=True),\n",
        "            nn.MaxPool2d(kernel_size=2, stride=2),\n",
        "            nn.Conv2d(6, 16, kernel_size=5),\n",
        "            nn.ReLU(inplace=True),\n",
        "            nn.MaxPool2d(kernel_size=2, stride=2)\n",
        "        )\n",
        "        self.classifier = nn.Sequential(\n",
        "            nn.Linear(16 * 4 * 4, 120),\n",
        "            nn.ReLU(inplace=True),\n",
        "            nn.Dropout(0.5),\n",
        "            nn.Linear(120, 84),\n",
        "            nn.ReLU(inplace=True),\n",
        "            nn.Linear(84, 10)\n",
        "        )\n",
        "\n",
        "    def forward(self, x):\n",
        "        x = self.features(x)\n",
        "        x = x.view(x.size(0), -1)\n",
        "        x = self.classifier(x)\n",
        "        return x\n",
        "\n",
        "modified_lenet5 = ModifiedLeNet5()\n",
        "print(modified_lenet5)\n"
      ],
      "metadata": {
        "colab": {
          "base_uri": "https://localhost:8080/"
        },
        "id": "sCaxW5OHiSpw",
        "outputId": "58f56705-e7e4-4107-e0a5-1e68dbfae6c8"
      },
      "id": "sCaxW5OHiSpw",
      "execution_count": null,
      "outputs": [
        {
          "output_type": "stream",
          "name": "stdout",
          "text": [
            "ModifiedLeNet5(\n",
            "  (features): Sequential(\n",
            "    (0): Conv2d(1, 6, kernel_size=(5, 5), stride=(1, 1))\n",
            "    (1): ReLU(inplace=True)\n",
            "    (2): MaxPool2d(kernel_size=2, stride=2, padding=0, dilation=1, ceil_mode=False)\n",
            "    (3): Conv2d(6, 16, kernel_size=(5, 5), stride=(1, 1))\n",
            "    (4): ReLU(inplace=True)\n",
            "    (5): MaxPool2d(kernel_size=2, stride=2, padding=0, dilation=1, ceil_mode=False)\n",
            "  )\n",
            "  (classifier): Sequential(\n",
            "    (0): Linear(in_features=256, out_features=120, bias=True)\n",
            "    (1): ReLU(inplace=True)\n",
            "    (2): Dropout(p=0.5, inplace=False)\n",
            "    (3): Linear(in_features=120, out_features=84, bias=True)\n",
            "    (4): ReLU(inplace=True)\n",
            "    (5): Linear(in_features=84, out_features=10, bias=True)\n",
            "  )\n",
            ")\n"
          ]
        }
      ]
    },
    {
      "cell_type": "markdown",
      "source": [
        "**8. Make AlexNet Overfit**\n",
        "\n",
        "Untuk membuat AlexNet overfit, kita dapat mengurangi ukuran dataset:\n",
        "\n"
      ],
      "metadata": {
        "id": "dHKsjECknbS0"
      },
      "id": "dHKsjECknbS0"
    },
    {
      "cell_type": "code",
      "source": [
        "# Menggunakan subset kecil dari dataset untuk overfitting\n",
        "subset_size = 100  # Mengurangi dataset agar lebih mudah overfit\n",
        "train_subset = torch.utils.data.Subset(train_dataset, range(subset_size))\n",
        "\n",
        "train_loader = DataLoader(dataset=train_subset, batch_size=16, shuffle=True)\n"
      ],
      "metadata": {
        "id": "i_A7F7xaiWkl"
      },
      "id": "i_A7F7xaiWkl",
      "execution_count": null,
      "outputs": []
    },
    {
      "cell_type": "markdown",
      "source": [
        "**Penjelasan:** Menggunakan dataset yang sangat kecil akan membuat model belajar terlalu spesifik pada data yang tersedia, menyebabkan overfitting."
      ],
      "metadata": {
        "id": "dhJAU383nxXv"
      },
      "id": "dhJAU383nxXv"
    },
    {
      "cell_type": "markdown",
      "source": [
        "# 8.2 Networks Using Blocks (VCG)"
      ],
      "metadata": {
        "id": "XzVtCcR0n4UV"
      },
      "id": "XzVtCcR0n4UV"
    },
    {
      "cell_type": "code",
      "source": [
        "import torch\n",
        "from torch import nn\n",
        "from d2l import torch as d2l"
      ],
      "metadata": {
        "id": "SZjwRy2Yn4DE"
      },
      "id": "SZjwRy2Yn4DE",
      "execution_count": null,
      "outputs": []
    },
    {
      "cell_type": "markdown",
      "source": [
        "## 8.2.1 VCG Blocks"
      ],
      "metadata": {
        "id": "_by-bEVaoT83"
      },
      "id": "_by-bEVaoT83"
    },
    {
      "cell_type": "code",
      "source": [
        "def vgg_block(num_convs, out_channels):\n",
        "    layers = []\n",
        "    for _ in range(num_convs):\n",
        "        layers.append(nn.LazyConv2d(out_channels, kernel_size=3, padding=1))\n",
        "        layers.append(nn.ReLU())\n",
        "    layers.append(nn.MaxPool2d(kernel_size=2,stride=2))\n",
        "    return nn.Sequential(*layers)"
      ],
      "metadata": {
        "id": "a5SHIlbtn-dR"
      },
      "id": "a5SHIlbtn-dR",
      "execution_count": null,
      "outputs": []
    },
    {
      "cell_type": "markdown",
      "source": [
        "## 8.2.2 VGG Network"
      ],
      "metadata": {
        "id": "xBwy_EUqocPQ"
      },
      "id": "xBwy_EUqocPQ"
    },
    {
      "cell_type": "code",
      "source": [
        "class VGG(d2l.Classifier):\n",
        "    def __init__(self, arch, lr=0.1, num_classes=10):\n",
        "        super().__init__()\n",
        "        self.save_hyperparameters()\n",
        "        conv_blks = []\n",
        "        for (num_convs, out_channels) in arch:\n",
        "            conv_blks.append(vgg_block(num_convs, out_channels))\n",
        "        self.net = nn.Sequential(\n",
        "            *conv_blks, nn.Flatten(),\n",
        "            nn.LazyLinear(4096), nn.ReLU(), nn.Dropout(0.5),\n",
        "            nn.LazyLinear(4096), nn.ReLU(), nn.Dropout(0.5),\n",
        "            nn.LazyLinear(num_classes))\n",
        "        self.net.apply(d2l.init_cnn)"
      ],
      "metadata": {
        "id": "4LUsVcl-oXZJ"
      },
      "id": "4LUsVcl-oXZJ",
      "execution_count": null,
      "outputs": []
    },
    {
      "cell_type": "code",
      "source": [
        "VGG(arch=((1, 64), (1, 128), (2, 256), (2, 512), (2, 512))).layer_summary(\n",
        "    (1, 1, 224, 224))"
      ],
      "metadata": {
        "colab": {
          "base_uri": "https://localhost:8080/"
        },
        "id": "HWdhBq1jogiw",
        "outputId": "81ecf00d-f44d-45d1-b4fd-6e390e1cdb20"
      },
      "id": "HWdhBq1jogiw",
      "execution_count": null,
      "outputs": [
        {
          "output_type": "stream",
          "name": "stdout",
          "text": [
            "Sequential output shape:\t torch.Size([1, 64, 112, 112])\n",
            "Sequential output shape:\t torch.Size([1, 128, 56, 56])\n",
            "Sequential output shape:\t torch.Size([1, 256, 28, 28])\n",
            "Sequential output shape:\t torch.Size([1, 512, 14, 14])\n",
            "Sequential output shape:\t torch.Size([1, 512, 7, 7])\n",
            "Flatten output shape:\t torch.Size([1, 25088])\n",
            "Linear output shape:\t torch.Size([1, 4096])\n",
            "ReLU output shape:\t torch.Size([1, 4096])\n",
            "Dropout output shape:\t torch.Size([1, 4096])\n",
            "Linear output shape:\t torch.Size([1, 4096])\n",
            "ReLU output shape:\t torch.Size([1, 4096])\n",
            "Dropout output shape:\t torch.Size([1, 4096])\n",
            "Linear output shape:\t torch.Size([1, 10])\n"
          ]
        }
      ]
    },
    {
      "cell_type": "markdown",
      "source": [
        "## 8.2.3 Training"
      ],
      "metadata": {
        "id": "kag1g6-6olxI"
      },
      "id": "kag1g6-6olxI"
    },
    {
      "cell_type": "code",
      "source": [
        "model = VGG(arch=((1, 16), (1, 32), (2, 64), (2, 128), (2, 128)), lr=0.01)\n",
        "trainer = d2l.Trainer(max_epochs=10, num_gpus=1)\n",
        "data = d2l.FashionMNIST(batch_size=128, resize=(224, 224))\n",
        "model.apply_init([next(iter(data.get_dataloader(True)))[0]], d2l.init_cnn)\n",
        "trainer.fit(model, data)"
      ],
      "metadata": {
        "colab": {
          "base_uri": "https://localhost:8080/",
          "height": 265
        },
        "id": "NL5ljYSvoiaB",
        "outputId": "5afb359e-0679-452a-864e-cbc6a7c75b08"
      },
      "id": "NL5ljYSvoiaB",
      "execution_count": null,
      "outputs": [
        {
          "output_type": "display_data",
          "data": {
            "text/plain": [
              "<Figure size 350x250 with 1 Axes>"
            ],
            "image/svg+xml": "<?xml version=\"1.0\" encoding=\"utf-8\" standalone=\"no\"?>\n<!DOCTYPE svg PUBLIC \"-//W3C//DTD SVG 1.1//EN\"\n  \"http://www.w3.org/Graphics/SVG/1.1/DTD/svg11.dtd\">\n<svg xmlns:xlink=\"http://www.w3.org/1999/xlink\" width=\"238.965625pt\" height=\"183.35625pt\" viewBox=\"0 0 238.965625 183.35625\" xmlns=\"http://www.w3.org/2000/svg\" version=\"1.1\">\n <metadata>\n  <rdf:RDF xmlns:dc=\"http://purl.org/dc/elements/1.1/\" xmlns:cc=\"http://creativecommons.org/ns#\" xmlns:rdf=\"http://www.w3.org/1999/02/22-rdf-syntax-ns#\">\n   <cc:Work>\n    <dc:type rdf:resource=\"http://purl.org/dc/dcmitype/StillImage\"/>\n    <dc:date>2024-10-04T13:36:44.119362</dc:date>\n    <dc:format>image/svg+xml</dc:format>\n    <dc:creator>\n     <cc:Agent>\n      <dc:title>Matplotlib v3.7.2, https://matplotlib.org/</dc:title>\n     </cc:Agent>\n    </dc:creator>\n   </cc:Work>\n  </rdf:RDF>\n </metadata>\n <defs>\n  <style type=\"text/css\">*{stroke-linejoin: round; stroke-linecap: butt}</style>\n </defs>\n <g id=\"figure_1\">\n  <g id=\"patch_1\">\n   <path d=\"M 0 183.35625 \nL 238.965625 183.35625 \nL 238.965625 0 \nL 0 0 \nz\n\" style=\"fill: #ffffff\"/>\n  </g>\n  <g id=\"axes_1\">\n   <g id=\"patch_2\">\n    <path d=\"M 30.103125 145.8 \nL 225.403125 145.8 \nL 225.403125 7.2 \nL 30.103125 7.2 \nz\n\" style=\"fill: #ffffff\"/>\n   </g>\n   <g id=\"matplotlib.axis_1\">\n    <g id=\"xtick_1\">\n     <g id=\"line2d_1\">\n      <defs>\n       <path id=\"mc659abb200\" d=\"M 0 0 \nL 0 3.5 \n\" style=\"stroke: #000000; stroke-width: 0.8\"/>\n      </defs>\n      <g>\n       <use xlink:href=\"#mc659abb200\" x=\"30.103125\" y=\"145.8\" style=\"stroke: #000000; stroke-width: 0.8\"/>\n      </g>\n     </g>\n     <g id=\"text_1\">\n      <!-- 0 -->\n      <g transform=\"translate(26.921875 160.398438) scale(0.1 -0.1)\">\n       <defs>\n        <path id=\"DejaVuSans-30\" d=\"M 2034 4250 \nQ 1547 4250 1301 3770 \nQ 1056 3291 1056 2328 \nQ 1056 1369 1301 889 \nQ 1547 409 2034 409 \nQ 2525 409 2770 889 \nQ 3016 1369 3016 2328 \nQ 3016 3291 2770 3770 \nQ 2525 4250 2034 4250 \nz\nM 2034 4750 \nQ 2819 4750 3233 4129 \nQ 3647 3509 3647 2328 \nQ 3647 1150 3233 529 \nQ 2819 -91 2034 -91 \nQ 1250 -91 836 529 \nQ 422 1150 422 2328 \nQ 422 3509 836 4129 \nQ 1250 4750 2034 4750 \nz\n\" transform=\"scale(0.015625)\"/>\n       </defs>\n       <use xlink:href=\"#DejaVuSans-30\"/>\n      </g>\n     </g>\n    </g>\n    <g id=\"xtick_2\">\n     <g id=\"line2d_2\">\n      <g>\n       <use xlink:href=\"#mc659abb200\" x=\"69.163125\" y=\"145.8\" style=\"stroke: #000000; stroke-width: 0.8\"/>\n      </g>\n     </g>\n     <g id=\"text_2\">\n      <!-- 2 -->\n      <g transform=\"translate(65.981875 160.398438) scale(0.1 -0.1)\">\n       <defs>\n        <path id=\"DejaVuSans-32\" d=\"M 1228 531 \nL 3431 531 \nL 3431 0 \nL 469 0 \nL 469 531 \nQ 828 903 1448 1529 \nQ 2069 2156 2228 2338 \nQ 2531 2678 2651 2914 \nQ 2772 3150 2772 3378 \nQ 2772 3750 2511 3984 \nQ 2250 4219 1831 4219 \nQ 1534 4219 1204 4116 \nQ 875 4013 500 3803 \nL 500 4441 \nQ 881 4594 1212 4672 \nQ 1544 4750 1819 4750 \nQ 2544 4750 2975 4387 \nQ 3406 4025 3406 3419 \nQ 3406 3131 3298 2873 \nQ 3191 2616 2906 2266 \nQ 2828 2175 2409 1742 \nQ 1991 1309 1228 531 \nz\n\" transform=\"scale(0.015625)\"/>\n       </defs>\n       <use xlink:href=\"#DejaVuSans-32\"/>\n      </g>\n     </g>\n    </g>\n    <g id=\"xtick_3\">\n     <g id=\"line2d_3\">\n      <g>\n       <use xlink:href=\"#mc659abb200\" x=\"108.223125\" y=\"145.8\" style=\"stroke: #000000; stroke-width: 0.8\"/>\n      </g>\n     </g>\n     <g id=\"text_3\">\n      <!-- 4 -->\n      <g transform=\"translate(105.041875 160.398438) scale(0.1 -0.1)\">\n       <defs>\n        <path id=\"DejaVuSans-34\" d=\"M 2419 4116 \nL 825 1625 \nL 2419 1625 \nL 2419 4116 \nz\nM 2253 4666 \nL 3047 4666 \nL 3047 1625 \nL 3713 1625 \nL 3713 1100 \nL 3047 1100 \nL 3047 0 \nL 2419 0 \nL 2419 1100 \nL 313 1100 \nL 313 1709 \nL 2253 4666 \nz\n\" transform=\"scale(0.015625)\"/>\n       </defs>\n       <use xlink:href=\"#DejaVuSans-34\"/>\n      </g>\n     </g>\n    </g>\n    <g id=\"xtick_4\">\n     <g id=\"line2d_4\">\n      <g>\n       <use xlink:href=\"#mc659abb200\" x=\"147.283125\" y=\"145.8\" style=\"stroke: #000000; stroke-width: 0.8\"/>\n      </g>\n     </g>\n     <g id=\"text_4\">\n      <!-- 6 -->\n      <g transform=\"translate(144.101875 160.398438) scale(0.1 -0.1)\">\n       <defs>\n        <path id=\"DejaVuSans-36\" d=\"M 2113 2584 \nQ 1688 2584 1439 2293 \nQ 1191 2003 1191 1497 \nQ 1191 994 1439 701 \nQ 1688 409 2113 409 \nQ 2538 409 2786 701 \nQ 3034 994 3034 1497 \nQ 3034 2003 2786 2293 \nQ 2538 2584 2113 2584 \nz\nM 3366 4563 \nL 3366 3988 \nQ 3128 4100 2886 4159 \nQ 2644 4219 2406 4219 \nQ 1781 4219 1451 3797 \nQ 1122 3375 1075 2522 \nQ 1259 2794 1537 2939 \nQ 1816 3084 2150 3084 \nQ 2853 3084 3261 2657 \nQ 3669 2231 3669 1497 \nQ 3669 778 3244 343 \nQ 2819 -91 2113 -91 \nQ 1303 -91 875 529 \nQ 447 1150 447 2328 \nQ 447 3434 972 4092 \nQ 1497 4750 2381 4750 \nQ 2619 4750 2861 4703 \nQ 3103 4656 3366 4563 \nz\n\" transform=\"scale(0.015625)\"/>\n       </defs>\n       <use xlink:href=\"#DejaVuSans-36\"/>\n      </g>\n     </g>\n    </g>\n    <g id=\"xtick_5\">\n     <g id=\"line2d_5\">\n      <g>\n       <use xlink:href=\"#mc659abb200\" x=\"186.343125\" y=\"145.8\" style=\"stroke: #000000; stroke-width: 0.8\"/>\n      </g>\n     </g>\n     <g id=\"text_5\">\n      <!-- 8 -->\n      <g transform=\"translate(183.161875 160.398438) scale(0.1 -0.1)\">\n       <defs>\n        <path id=\"DejaVuSans-38\" d=\"M 2034 2216 \nQ 1584 2216 1326 1975 \nQ 1069 1734 1069 1313 \nQ 1069 891 1326 650 \nQ 1584 409 2034 409 \nQ 2484 409 2743 651 \nQ 3003 894 3003 1313 \nQ 3003 1734 2745 1975 \nQ 2488 2216 2034 2216 \nz\nM 1403 2484 \nQ 997 2584 770 2862 \nQ 544 3141 544 3541 \nQ 544 4100 942 4425 \nQ 1341 4750 2034 4750 \nQ 2731 4750 3128 4425 \nQ 3525 4100 3525 3541 \nQ 3525 3141 3298 2862 \nQ 3072 2584 2669 2484 \nQ 3125 2378 3379 2068 \nQ 3634 1759 3634 1313 \nQ 3634 634 3220 271 \nQ 2806 -91 2034 -91 \nQ 1263 -91 848 271 \nQ 434 634 434 1313 \nQ 434 1759 690 2068 \nQ 947 2378 1403 2484 \nz\nM 1172 3481 \nQ 1172 3119 1398 2916 \nQ 1625 2713 2034 2713 \nQ 2441 2713 2670 2916 \nQ 2900 3119 2900 3481 \nQ 2900 3844 2670 4047 \nQ 2441 4250 2034 4250 \nQ 1625 4250 1398 4047 \nQ 1172 3844 1172 3481 \nz\n\" transform=\"scale(0.015625)\"/>\n       </defs>\n       <use xlink:href=\"#DejaVuSans-38\"/>\n      </g>\n     </g>\n    </g>\n    <g id=\"xtick_6\">\n     <g id=\"line2d_6\">\n      <g>\n       <use xlink:href=\"#mc659abb200\" x=\"225.403125\" y=\"145.8\" style=\"stroke: #000000; stroke-width: 0.8\"/>\n      </g>\n     </g>\n     <g id=\"text_6\">\n      <!-- 10 -->\n      <g transform=\"translate(219.040625 160.398438) scale(0.1 -0.1)\">\n       <defs>\n        <path id=\"DejaVuSans-31\" d=\"M 794 531 \nL 1825 531 \nL 1825 4091 \nL 703 3866 \nL 703 4441 \nL 1819 4666 \nL 2450 4666 \nL 2450 531 \nL 3481 531 \nL 3481 0 \nL 794 0 \nL 794 531 \nz\n\" transform=\"scale(0.015625)\"/>\n       </defs>\n       <use xlink:href=\"#DejaVuSans-31\"/>\n       <use xlink:href=\"#DejaVuSans-30\" x=\"63.623047\"/>\n      </g>\n     </g>\n    </g>\n    <g id=\"text_7\">\n     <!-- epoch -->\n     <g transform=\"translate(112.525 174.076563) scale(0.1 -0.1)\">\n      <defs>\n       <path id=\"DejaVuSans-65\" d=\"M 3597 1894 \nL 3597 1613 \nL 953 1613 \nQ 991 1019 1311 708 \nQ 1631 397 2203 397 \nQ 2534 397 2845 478 \nQ 3156 559 3463 722 \nL 3463 178 \nQ 3153 47 2828 -22 \nQ 2503 -91 2169 -91 \nQ 1331 -91 842 396 \nQ 353 884 353 1716 \nQ 353 2575 817 3079 \nQ 1281 3584 2069 3584 \nQ 2775 3584 3186 3129 \nQ 3597 2675 3597 1894 \nz\nM 3022 2063 \nQ 3016 2534 2758 2815 \nQ 2500 3097 2075 3097 \nQ 1594 3097 1305 2825 \nQ 1016 2553 972 2059 \nL 3022 2063 \nz\n\" transform=\"scale(0.015625)\"/>\n       <path id=\"DejaVuSans-70\" d=\"M 1159 525 \nL 1159 -1331 \nL 581 -1331 \nL 581 3500 \nL 1159 3500 \nL 1159 2969 \nQ 1341 3281 1617 3432 \nQ 1894 3584 2278 3584 \nQ 2916 3584 3314 3078 \nQ 3713 2572 3713 1747 \nQ 3713 922 3314 415 \nQ 2916 -91 2278 -91 \nQ 1894 -91 1617 61 \nQ 1341 213 1159 525 \nz\nM 3116 1747 \nQ 3116 2381 2855 2742 \nQ 2594 3103 2138 3103 \nQ 1681 3103 1420 2742 \nQ 1159 2381 1159 1747 \nQ 1159 1113 1420 752 \nQ 1681 391 2138 391 \nQ 2594 391 2855 752 \nQ 3116 1113 3116 1747 \nz\n\" transform=\"scale(0.015625)\"/>\n       <path id=\"DejaVuSans-6f\" d=\"M 1959 3097 \nQ 1497 3097 1228 2736 \nQ 959 2375 959 1747 \nQ 959 1119 1226 758 \nQ 1494 397 1959 397 \nQ 2419 397 2687 759 \nQ 2956 1122 2956 1747 \nQ 2956 2369 2687 2733 \nQ 2419 3097 1959 3097 \nz\nM 1959 3584 \nQ 2709 3584 3137 3096 \nQ 3566 2609 3566 1747 \nQ 3566 888 3137 398 \nQ 2709 -91 1959 -91 \nQ 1206 -91 779 398 \nQ 353 888 353 1747 \nQ 353 2609 779 3096 \nQ 1206 3584 1959 3584 \nz\n\" transform=\"scale(0.015625)\"/>\n       <path id=\"DejaVuSans-63\" d=\"M 3122 3366 \nL 3122 2828 \nQ 2878 2963 2633 3030 \nQ 2388 3097 2138 3097 \nQ 1578 3097 1268 2742 \nQ 959 2388 959 1747 \nQ 959 1106 1268 751 \nQ 1578 397 2138 397 \nQ 2388 397 2633 464 \nQ 2878 531 3122 666 \nL 3122 134 \nQ 2881 22 2623 -34 \nQ 2366 -91 2075 -91 \nQ 1284 -91 818 406 \nQ 353 903 353 1747 \nQ 353 2603 823 3093 \nQ 1294 3584 2113 3584 \nQ 2378 3584 2631 3529 \nQ 2884 3475 3122 3366 \nz\n\" transform=\"scale(0.015625)\"/>\n       <path id=\"DejaVuSans-68\" d=\"M 3513 2113 \nL 3513 0 \nL 2938 0 \nL 2938 2094 \nQ 2938 2591 2744 2837 \nQ 2550 3084 2163 3084 \nQ 1697 3084 1428 2787 \nQ 1159 2491 1159 1978 \nL 1159 0 \nL 581 0 \nL 581 4863 \nL 1159 4863 \nL 1159 2956 \nQ 1366 3272 1645 3428 \nQ 1925 3584 2291 3584 \nQ 2894 3584 3203 3211 \nQ 3513 2838 3513 2113 \nz\n\" transform=\"scale(0.015625)\"/>\n      </defs>\n      <use xlink:href=\"#DejaVuSans-65\"/>\n      <use xlink:href=\"#DejaVuSans-70\" x=\"61.523438\"/>\n      <use xlink:href=\"#DejaVuSans-6f\" x=\"125\"/>\n      <use xlink:href=\"#DejaVuSans-63\" x=\"186.181641\"/>\n      <use xlink:href=\"#DejaVuSans-68\" x=\"241.162109\"/>\n     </g>\n    </g>\n   </g>\n   <g id=\"matplotlib.axis_2\">\n    <g id=\"ytick_1\">\n     <g id=\"line2d_7\">\n      <defs>\n       <path id=\"md9352065d9\" d=\"M 0 0 \nL -3.5 0 \n\" style=\"stroke: #000000; stroke-width: 0.8\"/>\n      </defs>\n      <g>\n       <use xlink:href=\"#md9352065d9\" x=\"30.103125\" y=\"126.7654\" style=\"stroke: #000000; stroke-width: 0.8\"/>\n      </g>\n     </g>\n     <g id=\"text_8\">\n      <!-- 0.5 -->\n      <g transform=\"translate(7.2 130.564619) scale(0.1 -0.1)\">\n       <defs>\n        <path id=\"DejaVuSans-2e\" d=\"M 684 794 \nL 1344 794 \nL 1344 0 \nL 684 0 \nL 684 794 \nz\n\" transform=\"scale(0.015625)\"/>\n        <path id=\"DejaVuSans-35\" d=\"M 691 4666 \nL 3169 4666 \nL 3169 4134 \nL 1269 4134 \nL 1269 2991 \nQ 1406 3038 1543 3061 \nQ 1681 3084 1819 3084 \nQ 2600 3084 3056 2656 \nQ 3513 2228 3513 1497 \nQ 3513 744 3044 326 \nQ 2575 -91 1722 -91 \nQ 1428 -91 1123 -41 \nQ 819 9 494 109 \nL 494 744 \nQ 775 591 1075 516 \nQ 1375 441 1709 441 \nQ 2250 441 2565 725 \nQ 2881 1009 2881 1497 \nQ 2881 1984 2565 2268 \nQ 2250 2553 1709 2553 \nQ 1456 2553 1204 2497 \nQ 953 2441 691 2322 \nL 691 4666 \nz\n\" transform=\"scale(0.015625)\"/>\n       </defs>\n       <use xlink:href=\"#DejaVuSans-30\"/>\n       <use xlink:href=\"#DejaVuSans-2e\" x=\"63.623047\"/>\n       <use xlink:href=\"#DejaVuSans-35\" x=\"95.410156\"/>\n      </g>\n     </g>\n    </g>\n    <g id=\"ytick_2\">\n     <g id=\"line2d_8\">\n      <g>\n       <use xlink:href=\"#md9352065d9\" x=\"30.103125\" y=\"95.237729\" style=\"stroke: #000000; stroke-width: 0.8\"/>\n      </g>\n     </g>\n     <g id=\"text_9\">\n      <!-- 1.0 -->\n      <g transform=\"translate(7.2 99.036947) scale(0.1 -0.1)\">\n       <use xlink:href=\"#DejaVuSans-31\"/>\n       <use xlink:href=\"#DejaVuSans-2e\" x=\"63.623047\"/>\n       <use xlink:href=\"#DejaVuSans-30\" x=\"95.410156\"/>\n      </g>\n     </g>\n    </g>\n    <g id=\"ytick_3\">\n     <g id=\"line2d_9\">\n      <g>\n       <use xlink:href=\"#md9352065d9\" x=\"30.103125\" y=\"63.710057\" style=\"stroke: #000000; stroke-width: 0.8\"/>\n      </g>\n     </g>\n     <g id=\"text_10\">\n      <!-- 1.5 -->\n      <g transform=\"translate(7.2 67.509276) scale(0.1 -0.1)\">\n       <use xlink:href=\"#DejaVuSans-31\"/>\n       <use xlink:href=\"#DejaVuSans-2e\" x=\"63.623047\"/>\n       <use xlink:href=\"#DejaVuSans-35\" x=\"95.410156\"/>\n      </g>\n     </g>\n    </g>\n    <g id=\"ytick_4\">\n     <g id=\"line2d_10\">\n      <g>\n       <use xlink:href=\"#md9352065d9\" x=\"30.103125\" y=\"32.182386\" style=\"stroke: #000000; stroke-width: 0.8\"/>\n      </g>\n     </g>\n     <g id=\"text_11\">\n      <!-- 2.0 -->\n      <g transform=\"translate(7.2 35.981605) scale(0.1 -0.1)\">\n       <use xlink:href=\"#DejaVuSans-32\"/>\n       <use xlink:href=\"#DejaVuSans-2e\" x=\"63.623047\"/>\n       <use xlink:href=\"#DejaVuSans-30\" x=\"95.410156\"/>\n      </g>\n     </g>\n    </g>\n   </g>\n   <g id=\"line2d_11\">\n    <path d=\"M 34.954394 13.5 \n\" clip-path=\"url(#pb65d7759b2)\" style=\"fill: none; stroke: #1f77b4; stroke-width: 1.5; stroke-linecap: square\"/>\n   </g>\n   <g id=\"line2d_12\">\n    <path d=\"M 34.954394 13.5 \nL 44.698573 53.351372 \n\" clip-path=\"url(#pb65d7759b2)\" style=\"fill: none; stroke: #1f77b4; stroke-width: 1.5; stroke-linecap: square\"/>\n   </g>\n   <g id=\"line2d_13\">\n    <path d=\"M 34.954394 13.5 \nL 44.698573 53.351372 \n\" clip-path=\"url(#pb65d7759b2)\" style=\"fill: none; stroke: #1f77b4; stroke-width: 1.5; stroke-linecap: square\"/>\n   </g>\n   <g id=\"line2d_14\">\n    <path d=\"M 49.633125 105.717044 \n\" clip-path=\"url(#pb65d7759b2)\" style=\"fill: none; stroke-dasharray: 5.55,2.4; stroke-dashoffset: 0; stroke: #ff7f0e; stroke-width: 1.5\"/>\n   </g>\n   <g id=\"line2d_15\"/>\n   <g id=\"line2d_16\">\n    <path d=\"M 34.954394 13.5 \nL 44.698573 53.351372 \n\" clip-path=\"url(#pb65d7759b2)\" style=\"fill: none; stroke: #1f77b4; stroke-width: 1.5; stroke-linecap: square\"/>\n   </g>\n   <g id=\"line2d_17\">\n    <path d=\"M 49.633125 105.717044 \n\" clip-path=\"url(#pb65d7759b2)\" style=\"fill: none; stroke-dasharray: 5.55,2.4; stroke-dashoffset: 0; stroke: #ff7f0e; stroke-width: 1.5\"/>\n   </g>\n   <g id=\"line2d_18\">\n    <path d=\"M 49.633125 115.104651 \n\" clip-path=\"url(#pb65d7759b2)\" style=\"fill: none; stroke-dasharray: 9.6,2.4,1.5,2.4; stroke-dashoffset: 0; stroke: #2ca02c; stroke-width: 1.5\"/>\n   </g>\n   <g id=\"line2d_19\">\n    <path d=\"M 34.954394 13.5 \nL 44.698573 53.351372 \nL 54.442752 109.758081 \n\" clip-path=\"url(#pb65d7759b2)\" style=\"fill: none; stroke: #1f77b4; stroke-width: 1.5; stroke-linecap: square\"/>\n   </g>\n   <g id=\"line2d_20\">\n    <path d=\"M 49.633125 105.717044 \n\" clip-path=\"url(#pb65d7759b2)\" style=\"fill: none; stroke-dasharray: 5.55,2.4; stroke-dashoffset: 0; stroke: #ff7f0e; stroke-width: 1.5\"/>\n   </g>\n   <g id=\"line2d_21\">\n    <path d=\"M 49.633125 115.104651 \n\" clip-path=\"url(#pb65d7759b2)\" style=\"fill: none; stroke-dasharray: 9.6,2.4,1.5,2.4; stroke-dashoffset: 0; stroke: #2ca02c; stroke-width: 1.5\"/>\n   </g>\n   <g id=\"line2d_22\">\n    <path d=\"M 34.954394 13.5 \nL 44.698573 53.351372 \nL 54.442752 109.758081 \nL 64.186931 118.579344 \n\" clip-path=\"url(#pb65d7759b2)\" style=\"fill: none; stroke: #1f77b4; stroke-width: 1.5; stroke-linecap: square\"/>\n   </g>\n   <g id=\"line2d_23\">\n    <path d=\"M 49.633125 105.717044 \n\" clip-path=\"url(#pb65d7759b2)\" style=\"fill: none; stroke-dasharray: 5.55,2.4; stroke-dashoffset: 0; stroke: #ff7f0e; stroke-width: 1.5\"/>\n   </g>\n   <g id=\"line2d_24\">\n    <path d=\"M 49.633125 115.104651 \n\" clip-path=\"url(#pb65d7759b2)\" style=\"fill: none; stroke-dasharray: 9.6,2.4,1.5,2.4; stroke-dashoffset: 0; stroke: #2ca02c; stroke-width: 1.5\"/>\n   </g>\n   <g id=\"line2d_25\">\n    <path d=\"M 34.954394 13.5 \nL 44.698573 53.351372 \nL 54.442752 109.758081 \nL 64.186931 118.579344 \n\" clip-path=\"url(#pb65d7759b2)\" style=\"fill: none; stroke: #1f77b4; stroke-width: 1.5; stroke-linecap: square\"/>\n   </g>\n   <g id=\"line2d_26\">\n    <path d=\"M 49.633125 105.717044 \nL 69.163125 125.832935 \n\" clip-path=\"url(#pb65d7759b2)\" style=\"fill: none; stroke-dasharray: 5.55,2.4; stroke-dashoffset: 0; stroke: #ff7f0e; stroke-width: 1.5\"/>\n   </g>\n   <g id=\"line2d_27\">\n    <path d=\"M 49.633125 115.104651 \n\" clip-path=\"url(#pb65d7759b2)\" style=\"fill: none; stroke-dasharray: 9.6,2.4,1.5,2.4; stroke-dashoffset: 0; stroke: #2ca02c; stroke-width: 1.5\"/>\n   </g>\n   <g id=\"line2d_28\">\n    <path d=\"M 34.954394 13.5 \nL 44.698573 53.351372 \nL 54.442752 109.758081 \nL 64.186931 118.579344 \n\" clip-path=\"url(#pb65d7759b2)\" style=\"fill: none; stroke: #1f77b4; stroke-width: 1.5; stroke-linecap: square\"/>\n   </g>\n   <g id=\"line2d_29\">\n    <path d=\"M 49.633125 105.717044 \nL 69.163125 125.832935 \n\" clip-path=\"url(#pb65d7759b2)\" style=\"fill: none; stroke-dasharray: 5.55,2.4; stroke-dashoffset: 0; stroke: #ff7f0e; stroke-width: 1.5\"/>\n   </g>\n   <g id=\"line2d_30\">\n    <path d=\"M 49.633125 115.104651 \nL 69.163125 106.935891 \n\" clip-path=\"url(#pb65d7759b2)\" style=\"fill: none; stroke-dasharray: 9.6,2.4,1.5,2.4; stroke-dashoffset: 0; stroke: #2ca02c; stroke-width: 1.5\"/>\n   </g>\n   <g id=\"line2d_31\">\n    <path d=\"M 34.954394 13.5 \nL 44.698573 53.351372 \nL 54.442752 109.758081 \nL 64.186931 118.579344 \nL 73.93111 123.851494 \n\" clip-path=\"url(#pb65d7759b2)\" style=\"fill: none; stroke: #1f77b4; stroke-width: 1.5; stroke-linecap: square\"/>\n   </g>\n   <g id=\"line2d_32\">\n    <path d=\"M 49.633125 105.717044 \nL 69.163125 125.832935 \n\" clip-path=\"url(#pb65d7759b2)\" style=\"fill: none; stroke-dasharray: 5.55,2.4; stroke-dashoffset: 0; stroke: #ff7f0e; stroke-width: 1.5\"/>\n   </g>\n   <g id=\"line2d_33\">\n    <path d=\"M 49.633125 115.104651 \nL 69.163125 106.935891 \n\" clip-path=\"url(#pb65d7759b2)\" style=\"fill: none; stroke-dasharray: 9.6,2.4,1.5,2.4; stroke-dashoffset: 0; stroke: #2ca02c; stroke-width: 1.5\"/>\n   </g>\n   <g id=\"line2d_34\">\n    <path d=\"M 34.954394 13.5 \nL 44.698573 53.351372 \nL 54.442752 109.758081 \nL 64.186931 118.579344 \nL 73.93111 123.851494 \nL 83.675289 127.236416 \n\" clip-path=\"url(#pb65d7759b2)\" style=\"fill: none; stroke: #1f77b4; stroke-width: 1.5; stroke-linecap: square\"/>\n   </g>\n   <g id=\"line2d_35\">\n    <path d=\"M 49.633125 105.717044 \nL 69.163125 125.832935 \n\" clip-path=\"url(#pb65d7759b2)\" style=\"fill: none; stroke-dasharray: 5.55,2.4; stroke-dashoffset: 0; stroke: #ff7f0e; stroke-width: 1.5\"/>\n   </g>\n   <g id=\"line2d_36\">\n    <path d=\"M 49.633125 115.104651 \nL 69.163125 106.935891 \n\" clip-path=\"url(#pb65d7759b2)\" style=\"fill: none; stroke-dasharray: 9.6,2.4,1.5,2.4; stroke-dashoffset: 0; stroke: #2ca02c; stroke-width: 1.5\"/>\n   </g>\n   <g id=\"line2d_37\">\n    <path d=\"M 34.954394 13.5 \nL 44.698573 53.351372 \nL 54.442752 109.758081 \nL 64.186931 118.579344 \nL 73.93111 123.851494 \nL 83.675289 127.236416 \n\" clip-path=\"url(#pb65d7759b2)\" style=\"fill: none; stroke: #1f77b4; stroke-width: 1.5; stroke-linecap: square\"/>\n   </g>\n   <g id=\"line2d_38\">\n    <path d=\"M 49.633125 105.717044 \nL 69.163125 125.832935 \nL 88.693125 130.574893 \n\" clip-path=\"url(#pb65d7759b2)\" style=\"fill: none; stroke-dasharray: 5.55,2.4; stroke-dashoffset: 0; stroke: #ff7f0e; stroke-width: 1.5\"/>\n   </g>\n   <g id=\"line2d_39\">\n    <path d=\"M 49.633125 115.104651 \nL 69.163125 106.935891 \n\" clip-path=\"url(#pb65d7759b2)\" style=\"fill: none; stroke-dasharray: 9.6,2.4,1.5,2.4; stroke-dashoffset: 0; stroke: #2ca02c; stroke-width: 1.5\"/>\n   </g>\n   <g id=\"line2d_40\">\n    <path d=\"M 34.954394 13.5 \nL 44.698573 53.351372 \nL 54.442752 109.758081 \nL 64.186931 118.579344 \nL 73.93111 123.851494 \nL 83.675289 127.236416 \n\" clip-path=\"url(#pb65d7759b2)\" style=\"fill: none; stroke: #1f77b4; stroke-width: 1.5; stroke-linecap: square\"/>\n   </g>\n   <g id=\"line2d_41\">\n    <path d=\"M 49.633125 105.717044 \nL 69.163125 125.832935 \nL 88.693125 130.574893 \n\" clip-path=\"url(#pb65d7759b2)\" style=\"fill: none; stroke-dasharray: 5.55,2.4; stroke-dashoffset: 0; stroke: #ff7f0e; stroke-width: 1.5\"/>\n   </g>\n   <g id=\"line2d_42\">\n    <path d=\"M 49.633125 115.104651 \nL 69.163125 106.935891 \nL 88.693125 105.482975 \n\" clip-path=\"url(#pb65d7759b2)\" style=\"fill: none; stroke-dasharray: 9.6,2.4,1.5,2.4; stroke-dashoffset: 0; stroke: #2ca02c; stroke-width: 1.5\"/>\n   </g>\n   <g id=\"line2d_43\">\n    <path d=\"M 34.954394 13.5 \nL 44.698573 53.351372 \nL 54.442752 109.758081 \nL 64.186931 118.579344 \nL 73.93111 123.851494 \nL 83.675289 127.236416 \nL 93.419468 129.49584 \n\" clip-path=\"url(#pb65d7759b2)\" style=\"fill: none; stroke: #1f77b4; stroke-width: 1.5; stroke-linecap: square\"/>\n   </g>\n   <g id=\"line2d_44\">\n    <path d=\"M 49.633125 105.717044 \nL 69.163125 125.832935 \nL 88.693125 130.574893 \n\" clip-path=\"url(#pb65d7759b2)\" style=\"fill: none; stroke-dasharray: 5.55,2.4; stroke-dashoffset: 0; stroke: #ff7f0e; stroke-width: 1.5\"/>\n   </g>\n   <g id=\"line2d_45\">\n    <path d=\"M 49.633125 115.104651 \nL 69.163125 106.935891 \nL 88.693125 105.482975 \n\" clip-path=\"url(#pb65d7759b2)\" style=\"fill: none; stroke-dasharray: 9.6,2.4,1.5,2.4; stroke-dashoffset: 0; stroke: #2ca02c; stroke-width: 1.5\"/>\n   </g>\n   <g id=\"line2d_46\">\n    <path d=\"M 34.954394 13.5 \nL 44.698573 53.351372 \nL 54.442752 109.758081 \nL 64.186931 118.579344 \nL 73.93111 123.851494 \nL 83.675289 127.236416 \nL 93.419468 129.49584 \nL 103.163647 130.742618 \n\" clip-path=\"url(#pb65d7759b2)\" style=\"fill: none; stroke: #1f77b4; stroke-width: 1.5; stroke-linecap: square\"/>\n   </g>\n   <g id=\"line2d_47\">\n    <path d=\"M 49.633125 105.717044 \nL 69.163125 125.832935 \nL 88.693125 130.574893 \n\" clip-path=\"url(#pb65d7759b2)\" style=\"fill: none; stroke-dasharray: 5.55,2.4; stroke-dashoffset: 0; stroke: #ff7f0e; stroke-width: 1.5\"/>\n   </g>\n   <g id=\"line2d_48\">\n    <path d=\"M 49.633125 115.104651 \nL 69.163125 106.935891 \nL 88.693125 105.482975 \n\" clip-path=\"url(#pb65d7759b2)\" style=\"fill: none; stroke-dasharray: 9.6,2.4,1.5,2.4; stroke-dashoffset: 0; stroke: #2ca02c; stroke-width: 1.5\"/>\n   </g>\n   <g id=\"line2d_49\">\n    <path d=\"M 34.954394 13.5 \nL 44.698573 53.351372 \nL 54.442752 109.758081 \nL 64.186931 118.579344 \nL 73.93111 123.851494 \nL 83.675289 127.236416 \nL 93.419468 129.49584 \nL 103.163647 130.742618 \n\" clip-path=\"url(#pb65d7759b2)\" style=\"fill: none; stroke: #1f77b4; stroke-width: 1.5; stroke-linecap: square\"/>\n   </g>\n   <g id=\"line2d_50\">\n    <path d=\"M 49.633125 105.717044 \nL 69.163125 125.832935 \nL 88.693125 130.574893 \nL 108.223125 131.735347 \n\" clip-path=\"url(#pb65d7759b2)\" style=\"fill: none; stroke-dasharray: 5.55,2.4; stroke-dashoffset: 0; stroke: #ff7f0e; stroke-width: 1.5\"/>\n   </g>\n   <g id=\"line2d_51\">\n    <path d=\"M 49.633125 115.104651 \nL 69.163125 106.935891 \nL 88.693125 105.482975 \n\" clip-path=\"url(#pb65d7759b2)\" style=\"fill: none; stroke-dasharray: 9.6,2.4,1.5,2.4; stroke-dashoffset: 0; stroke: #2ca02c; stroke-width: 1.5\"/>\n   </g>\n   <g id=\"line2d_52\">\n    <path d=\"M 34.954394 13.5 \nL 44.698573 53.351372 \nL 54.442752 109.758081 \nL 64.186931 118.579344 \nL 73.93111 123.851494 \nL 83.675289 127.236416 \nL 93.419468 129.49584 \nL 103.163647 130.742618 \n\" clip-path=\"url(#pb65d7759b2)\" style=\"fill: none; stroke: #1f77b4; stroke-width: 1.5; stroke-linecap: square\"/>\n   </g>\n   <g id=\"line2d_53\">\n    <path d=\"M 49.633125 105.717044 \nL 69.163125 125.832935 \nL 88.693125 130.574893 \nL 108.223125 131.735347 \n\" clip-path=\"url(#pb65d7759b2)\" style=\"fill: none; stroke-dasharray: 5.55,2.4; stroke-dashoffset: 0; stroke: #ff7f0e; stroke-width: 1.5\"/>\n   </g>\n   <g id=\"line2d_54\">\n    <path d=\"M 49.633125 115.104651 \nL 69.163125 106.935891 \nL 88.693125 105.482975 \nL 108.223125 104.934233 \n\" clip-path=\"url(#pb65d7759b2)\" style=\"fill: none; stroke-dasharray: 9.6,2.4,1.5,2.4; stroke-dashoffset: 0; stroke: #2ca02c; stroke-width: 1.5\"/>\n   </g>\n   <g id=\"line2d_55\">\n    <path d=\"M 34.954394 13.5 \nL 44.698573 53.351372 \nL 54.442752 109.758081 \nL 64.186931 118.579344 \nL 73.93111 123.851494 \nL 83.675289 127.236416 \nL 93.419468 129.49584 \nL 103.163647 130.742618 \nL 112.907826 132.261116 \n\" clip-path=\"url(#pb65d7759b2)\" style=\"fill: none; stroke: #1f77b4; stroke-width: 1.5; stroke-linecap: square\"/>\n   </g>\n   <g id=\"line2d_56\">\n    <path d=\"M 49.633125 105.717044 \nL 69.163125 125.832935 \nL 88.693125 130.574893 \nL 108.223125 131.735347 \n\" clip-path=\"url(#pb65d7759b2)\" style=\"fill: none; stroke-dasharray: 5.55,2.4; stroke-dashoffset: 0; stroke: #ff7f0e; stroke-width: 1.5\"/>\n   </g>\n   <g id=\"line2d_57\">\n    <path d=\"M 49.633125 115.104651 \nL 69.163125 106.935891 \nL 88.693125 105.482975 \nL 108.223125 104.934233 \n\" clip-path=\"url(#pb65d7759b2)\" style=\"fill: none; stroke-dasharray: 9.6,2.4,1.5,2.4; stroke-dashoffset: 0; stroke: #2ca02c; stroke-width: 1.5\"/>\n   </g>\n   <g id=\"line2d_58\">\n    <path d=\"M 34.954394 13.5 \nL 44.698573 53.351372 \nL 54.442752 109.758081 \nL 64.186931 118.579344 \nL 73.93111 123.851494 \nL 83.675289 127.236416 \nL 93.419468 129.49584 \nL 103.163647 130.742618 \nL 112.907826 132.261116 \nL 122.652006 133.533243 \n\" clip-path=\"url(#pb65d7759b2)\" style=\"fill: none; stroke: #1f77b4; stroke-width: 1.5; stroke-linecap: square\"/>\n   </g>\n   <g id=\"line2d_59\">\n    <path d=\"M 49.633125 105.717044 \nL 69.163125 125.832935 \nL 88.693125 130.574893 \nL 108.223125 131.735347 \n\" clip-path=\"url(#pb65d7759b2)\" style=\"fill: none; stroke-dasharray: 5.55,2.4; stroke-dashoffset: 0; stroke: #ff7f0e; stroke-width: 1.5\"/>\n   </g>\n   <g id=\"line2d_60\">\n    <path d=\"M 49.633125 115.104651 \nL 69.163125 106.935891 \nL 88.693125 105.482975 \nL 108.223125 104.934233 \n\" clip-path=\"url(#pb65d7759b2)\" style=\"fill: none; stroke-dasharray: 9.6,2.4,1.5,2.4; stroke-dashoffset: 0; stroke: #2ca02c; stroke-width: 1.5\"/>\n   </g>\n   <g id=\"line2d_61\">\n    <path d=\"M 34.954394 13.5 \nL 44.698573 53.351372 \nL 54.442752 109.758081 \nL 64.186931 118.579344 \nL 73.93111 123.851494 \nL 83.675289 127.236416 \nL 93.419468 129.49584 \nL 103.163647 130.742618 \nL 112.907826 132.261116 \nL 122.652006 133.533243 \n\" clip-path=\"url(#pb65d7759b2)\" style=\"fill: none; stroke: #1f77b4; stroke-width: 1.5; stroke-linecap: square\"/>\n   </g>\n   <g id=\"line2d_62\">\n    <path d=\"M 49.633125 105.717044 \nL 69.163125 125.832935 \nL 88.693125 130.574893 \nL 108.223125 131.735347 \nL 127.753125 134.884039 \n\" clip-path=\"url(#pb65d7759b2)\" style=\"fill: none; stroke-dasharray: 5.55,2.4; stroke-dashoffset: 0; stroke: #ff7f0e; stroke-width: 1.5\"/>\n   </g>\n   <g id=\"line2d_63\">\n    <path d=\"M 49.633125 115.104651 \nL 69.163125 106.935891 \nL 88.693125 105.482975 \nL 108.223125 104.934233 \n\" clip-path=\"url(#pb65d7759b2)\" style=\"fill: none; stroke-dasharray: 9.6,2.4,1.5,2.4; stroke-dashoffset: 0; stroke: #2ca02c; stroke-width: 1.5\"/>\n   </g>\n   <g id=\"line2d_64\">\n    <path d=\"M 34.954394 13.5 \nL 44.698573 53.351372 \nL 54.442752 109.758081 \nL 64.186931 118.579344 \nL 73.93111 123.851494 \nL 83.675289 127.236416 \nL 93.419468 129.49584 \nL 103.163647 130.742618 \nL 112.907826 132.261116 \nL 122.652006 133.533243 \n\" clip-path=\"url(#pb65d7759b2)\" style=\"fill: none; stroke: #1f77b4; stroke-width: 1.5; stroke-linecap: square\"/>\n   </g>\n   <g id=\"line2d_65\">\n    <path d=\"M 49.633125 105.717044 \nL 69.163125 125.832935 \nL 88.693125 130.574893 \nL 108.223125 131.735347 \nL 127.753125 134.884039 \n\" clip-path=\"url(#pb65d7759b2)\" style=\"fill: none; stroke-dasharray: 5.55,2.4; stroke-dashoffset: 0; stroke: #ff7f0e; stroke-width: 1.5\"/>\n   </g>\n   <g id=\"line2d_66\">\n    <path d=\"M 49.633125 115.104651 \nL 69.163125 106.935891 \nL 88.693125 105.482975 \nL 108.223125 104.934233 \nL 127.753125 103.630973 \n\" clip-path=\"url(#pb65d7759b2)\" style=\"fill: none; stroke-dasharray: 9.6,2.4,1.5,2.4; stroke-dashoffset: 0; stroke: #2ca02c; stroke-width: 1.5\"/>\n   </g>\n   <g id=\"line2d_67\">\n    <path d=\"M 34.954394 13.5 \nL 44.698573 53.351372 \nL 54.442752 109.758081 \nL 64.186931 118.579344 \nL 73.93111 123.851494 \nL 83.675289 127.236416 \nL 93.419468 129.49584 \nL 103.163647 130.742618 \nL 112.907826 132.261116 \nL 122.652006 133.533243 \nL 132.396185 134.330527 \n\" clip-path=\"url(#pb65d7759b2)\" style=\"fill: none; stroke: #1f77b4; stroke-width: 1.5; stroke-linecap: square\"/>\n   </g>\n   <g id=\"line2d_68\">\n    <path d=\"M 49.633125 105.717044 \nL 69.163125 125.832935 \nL 88.693125 130.574893 \nL 108.223125 131.735347 \nL 127.753125 134.884039 \n\" clip-path=\"url(#pb65d7759b2)\" style=\"fill: none; stroke-dasharray: 5.55,2.4; stroke-dashoffset: 0; stroke: #ff7f0e; stroke-width: 1.5\"/>\n   </g>\n   <g id=\"line2d_69\">\n    <path d=\"M 49.633125 115.104651 \nL 69.163125 106.935891 \nL 88.693125 105.482975 \nL 108.223125 104.934233 \nL 127.753125 103.630973 \n\" clip-path=\"url(#pb65d7759b2)\" style=\"fill: none; stroke-dasharray: 9.6,2.4,1.5,2.4; stroke-dashoffset: 0; stroke: #2ca02c; stroke-width: 1.5\"/>\n   </g>\n   <g id=\"line2d_70\">\n    <path d=\"M 34.954394 13.5 \nL 44.698573 53.351372 \nL 54.442752 109.758081 \nL 64.186931 118.579344 \nL 73.93111 123.851494 \nL 83.675289 127.236416 \nL 93.419468 129.49584 \nL 103.163647 130.742618 \nL 112.907826 132.261116 \nL 122.652006 133.533243 \nL 132.396185 134.330527 \nL 142.140364 135.045326 \n\" clip-path=\"url(#pb65d7759b2)\" style=\"fill: none; stroke: #1f77b4; stroke-width: 1.5; stroke-linecap: square\"/>\n   </g>\n   <g id=\"line2d_71\">\n    <path d=\"M 49.633125 105.717044 \nL 69.163125 125.832935 \nL 88.693125 130.574893 \nL 108.223125 131.735347 \nL 127.753125 134.884039 \n\" clip-path=\"url(#pb65d7759b2)\" style=\"fill: none; stroke-dasharray: 5.55,2.4; stroke-dashoffset: 0; stroke: #ff7f0e; stroke-width: 1.5\"/>\n   </g>\n   <g id=\"line2d_72\">\n    <path d=\"M 49.633125 115.104651 \nL 69.163125 106.935891 \nL 88.693125 105.482975 \nL 108.223125 104.934233 \nL 127.753125 103.630973 \n\" clip-path=\"url(#pb65d7759b2)\" style=\"fill: none; stroke-dasharray: 9.6,2.4,1.5,2.4; stroke-dashoffset: 0; stroke: #2ca02c; stroke-width: 1.5\"/>\n   </g>\n   <g id=\"line2d_73\">\n    <path d=\"M 34.954394 13.5 \nL 44.698573 53.351372 \nL 54.442752 109.758081 \nL 64.186931 118.579344 \nL 73.93111 123.851494 \nL 83.675289 127.236416 \nL 93.419468 129.49584 \nL 103.163647 130.742618 \nL 112.907826 132.261116 \nL 122.652006 133.533243 \nL 132.396185 134.330527 \nL 142.140364 135.045326 \n\" clip-path=\"url(#pb65d7759b2)\" style=\"fill: none; stroke: #1f77b4; stroke-width: 1.5; stroke-linecap: square\"/>\n   </g>\n   <g id=\"line2d_74\">\n    <path d=\"M 49.633125 105.717044 \nL 69.163125 125.832935 \nL 88.693125 130.574893 \nL 108.223125 131.735347 \nL 127.753125 134.884039 \nL 147.283125 135.934204 \n\" clip-path=\"url(#pb65d7759b2)\" style=\"fill: none; stroke-dasharray: 5.55,2.4; stroke-dashoffset: 0; stroke: #ff7f0e; stroke-width: 1.5\"/>\n   </g>\n   <g id=\"line2d_75\">\n    <path d=\"M 49.633125 115.104651 \nL 69.163125 106.935891 \nL 88.693125 105.482975 \nL 108.223125 104.934233 \nL 127.753125 103.630973 \n\" clip-path=\"url(#pb65d7759b2)\" style=\"fill: none; stroke-dasharray: 9.6,2.4,1.5,2.4; stroke-dashoffset: 0; stroke: #2ca02c; stroke-width: 1.5\"/>\n   </g>\n   <g id=\"line2d_76\">\n    <path d=\"M 34.954394 13.5 \nL 44.698573 53.351372 \nL 54.442752 109.758081 \nL 64.186931 118.579344 \nL 73.93111 123.851494 \nL 83.675289 127.236416 \nL 93.419468 129.49584 \nL 103.163647 130.742618 \nL 112.907826 132.261116 \nL 122.652006 133.533243 \nL 132.396185 134.330527 \nL 142.140364 135.045326 \n\" clip-path=\"url(#pb65d7759b2)\" style=\"fill: none; stroke: #1f77b4; stroke-width: 1.5; stroke-linecap: square\"/>\n   </g>\n   <g id=\"line2d_77\">\n    <path d=\"M 49.633125 105.717044 \nL 69.163125 125.832935 \nL 88.693125 130.574893 \nL 108.223125 131.735347 \nL 127.753125 134.884039 \nL 147.283125 135.934204 \n\" clip-path=\"url(#pb65d7759b2)\" style=\"fill: none; stroke-dasharray: 5.55,2.4; stroke-dashoffset: 0; stroke: #ff7f0e; stroke-width: 1.5\"/>\n   </g>\n   <g id=\"line2d_78\">\n    <path d=\"M 49.633125 115.104651 \nL 69.163125 106.935891 \nL 88.693125 105.482975 \nL 108.223125 104.934233 \nL 127.753125 103.630973 \nL 147.283125 103.37531 \n\" clip-path=\"url(#pb65d7759b2)\" style=\"fill: none; stroke-dasharray: 9.6,2.4,1.5,2.4; stroke-dashoffset: 0; stroke: #2ca02c; stroke-width: 1.5\"/>\n   </g>\n   <g id=\"line2d_79\">\n    <path d=\"M 34.954394 13.5 \nL 44.698573 53.351372 \nL 54.442752 109.758081 \nL 64.186931 118.579344 \nL 73.93111 123.851494 \nL 83.675289 127.236416 \nL 93.419468 129.49584 \nL 103.163647 130.742618 \nL 112.907826 132.261116 \nL 122.652006 133.533243 \nL 132.396185 134.330527 \nL 142.140364 135.045326 \nL 151.884543 136.236636 \n\" clip-path=\"url(#pb65d7759b2)\" style=\"fill: none; stroke: #1f77b4; stroke-width: 1.5; stroke-linecap: square\"/>\n   </g>\n   <g id=\"line2d_80\">\n    <path d=\"M 49.633125 105.717044 \nL 69.163125 125.832935 \nL 88.693125 130.574893 \nL 108.223125 131.735347 \nL 127.753125 134.884039 \nL 147.283125 135.934204 \n\" clip-path=\"url(#pb65d7759b2)\" style=\"fill: none; stroke-dasharray: 5.55,2.4; stroke-dashoffset: 0; stroke: #ff7f0e; stroke-width: 1.5\"/>\n   </g>\n   <g id=\"line2d_81\">\n    <path d=\"M 49.633125 115.104651 \nL 69.163125 106.935891 \nL 88.693125 105.482975 \nL 108.223125 104.934233 \nL 127.753125 103.630973 \nL 147.283125 103.37531 \n\" clip-path=\"url(#pb65d7759b2)\" style=\"fill: none; stroke-dasharray: 9.6,2.4,1.5,2.4; stroke-dashoffset: 0; stroke: #2ca02c; stroke-width: 1.5\"/>\n   </g>\n   <g id=\"line2d_82\">\n    <path d=\"M 34.954394 13.5 \nL 44.698573 53.351372 \nL 54.442752 109.758081 \nL 64.186931 118.579344 \nL 73.93111 123.851494 \nL 83.675289 127.236416 \nL 93.419468 129.49584 \nL 103.163647 130.742618 \nL 112.907826 132.261116 \nL 122.652006 133.533243 \nL 132.396185 134.330527 \nL 142.140364 135.045326 \nL 151.884543 136.236636 \nL 161.628722 136.37277 \n\" clip-path=\"url(#pb65d7759b2)\" style=\"fill: none; stroke: #1f77b4; stroke-width: 1.5; stroke-linecap: square\"/>\n   </g>\n   <g id=\"line2d_83\">\n    <path d=\"M 49.633125 105.717044 \nL 69.163125 125.832935 \nL 88.693125 130.574893 \nL 108.223125 131.735347 \nL 127.753125 134.884039 \nL 147.283125 135.934204 \n\" clip-path=\"url(#pb65d7759b2)\" style=\"fill: none; stroke-dasharray: 5.55,2.4; stroke-dashoffset: 0; stroke: #ff7f0e; stroke-width: 1.5\"/>\n   </g>\n   <g id=\"line2d_84\">\n    <path d=\"M 49.633125 115.104651 \nL 69.163125 106.935891 \nL 88.693125 105.482975 \nL 108.223125 104.934233 \nL 127.753125 103.630973 \nL 147.283125 103.37531 \n\" clip-path=\"url(#pb65d7759b2)\" style=\"fill: none; stroke-dasharray: 9.6,2.4,1.5,2.4; stroke-dashoffset: 0; stroke: #2ca02c; stroke-width: 1.5\"/>\n   </g>\n   <g id=\"line2d_85\">\n    <path d=\"M 34.954394 13.5 \nL 44.698573 53.351372 \nL 54.442752 109.758081 \nL 64.186931 118.579344 \nL 73.93111 123.851494 \nL 83.675289 127.236416 \nL 93.419468 129.49584 \nL 103.163647 130.742618 \nL 112.907826 132.261116 \nL 122.652006 133.533243 \nL 132.396185 134.330527 \nL 142.140364 135.045326 \nL 151.884543 136.236636 \nL 161.628722 136.37277 \n\" clip-path=\"url(#pb65d7759b2)\" style=\"fill: none; stroke: #1f77b4; stroke-width: 1.5; stroke-linecap: square\"/>\n   </g>\n   <g id=\"line2d_86\">\n    <path d=\"M 49.633125 105.717044 \nL 69.163125 125.832935 \nL 88.693125 130.574893 \nL 108.223125 131.735347 \nL 127.753125 134.884039 \nL 147.283125 135.934204 \nL 166.813125 137.561361 \n\" clip-path=\"url(#pb65d7759b2)\" style=\"fill: none; stroke-dasharray: 5.55,2.4; stroke-dashoffset: 0; stroke: #ff7f0e; stroke-width: 1.5\"/>\n   </g>\n   <g id=\"line2d_87\">\n    <path d=\"M 49.633125 115.104651 \nL 69.163125 106.935891 \nL 88.693125 105.482975 \nL 108.223125 104.934233 \nL 127.753125 103.630973 \nL 147.283125 103.37531 \n\" clip-path=\"url(#pb65d7759b2)\" style=\"fill: none; stroke-dasharray: 9.6,2.4,1.5,2.4; stroke-dashoffset: 0; stroke: #2ca02c; stroke-width: 1.5\"/>\n   </g>\n   <g id=\"line2d_88\">\n    <path d=\"M 34.954394 13.5 \nL 44.698573 53.351372 \nL 54.442752 109.758081 \nL 64.186931 118.579344 \nL 73.93111 123.851494 \nL 83.675289 127.236416 \nL 93.419468 129.49584 \nL 103.163647 130.742618 \nL 112.907826 132.261116 \nL 122.652006 133.533243 \nL 132.396185 134.330527 \nL 142.140364 135.045326 \nL 151.884543 136.236636 \nL 161.628722 136.37277 \n\" clip-path=\"url(#pb65d7759b2)\" style=\"fill: none; stroke: #1f77b4; stroke-width: 1.5; stroke-linecap: square\"/>\n   </g>\n   <g id=\"line2d_89\">\n    <path d=\"M 49.633125 105.717044 \nL 69.163125 125.832935 \nL 88.693125 130.574893 \nL 108.223125 131.735347 \nL 127.753125 134.884039 \nL 147.283125 135.934204 \nL 166.813125 137.561361 \n\" clip-path=\"url(#pb65d7759b2)\" style=\"fill: none; stroke-dasharray: 5.55,2.4; stroke-dashoffset: 0; stroke: #ff7f0e; stroke-width: 1.5\"/>\n   </g>\n   <g id=\"line2d_90\">\n    <path d=\"M 49.633125 115.104651 \nL 69.163125 106.935891 \nL 88.693125 105.482975 \nL 108.223125 104.934233 \nL 127.753125 103.630973 \nL 147.283125 103.37531 \nL 166.813125 102.639498 \n\" clip-path=\"url(#pb65d7759b2)\" style=\"fill: none; stroke-dasharray: 9.6,2.4,1.5,2.4; stroke-dashoffset: 0; stroke: #2ca02c; stroke-width: 1.5\"/>\n   </g>\n   <g id=\"line2d_91\">\n    <path d=\"M 34.954394 13.5 \nL 44.698573 53.351372 \nL 54.442752 109.758081 \nL 64.186931 118.579344 \nL 73.93111 123.851494 \nL 83.675289 127.236416 \nL 93.419468 129.49584 \nL 103.163647 130.742618 \nL 112.907826 132.261116 \nL 122.652006 133.533243 \nL 132.396185 134.330527 \nL 142.140364 135.045326 \nL 151.884543 136.236636 \nL 161.628722 136.37277 \nL 171.372901 137.189425 \n\" clip-path=\"url(#pb65d7759b2)\" style=\"fill: none; stroke: #1f77b4; stroke-width: 1.5; stroke-linecap: square\"/>\n   </g>\n   <g id=\"line2d_92\">\n    <path d=\"M 49.633125 105.717044 \nL 69.163125 125.832935 \nL 88.693125 130.574893 \nL 108.223125 131.735347 \nL 127.753125 134.884039 \nL 147.283125 135.934204 \nL 166.813125 137.561361 \n\" clip-path=\"url(#pb65d7759b2)\" style=\"fill: none; stroke-dasharray: 5.55,2.4; stroke-dashoffset: 0; stroke: #ff7f0e; stroke-width: 1.5\"/>\n   </g>\n   <g id=\"line2d_93\">\n    <path d=\"M 49.633125 115.104651 \nL 69.163125 106.935891 \nL 88.693125 105.482975 \nL 108.223125 104.934233 \nL 127.753125 103.630973 \nL 147.283125 103.37531 \nL 166.813125 102.639498 \n\" clip-path=\"url(#pb65d7759b2)\" style=\"fill: none; stroke-dasharray: 9.6,2.4,1.5,2.4; stroke-dashoffset: 0; stroke: #2ca02c; stroke-width: 1.5\"/>\n   </g>\n   <g id=\"line2d_94\">\n    <path d=\"M 34.954394 13.5 \nL 44.698573 53.351372 \nL 54.442752 109.758081 \nL 64.186931 118.579344 \nL 73.93111 123.851494 \nL 83.675289 127.236416 \nL 93.419468 129.49584 \nL 103.163647 130.742618 \nL 112.907826 132.261116 \nL 122.652006 133.533243 \nL 132.396185 134.330527 \nL 142.140364 135.045326 \nL 151.884543 136.236636 \nL 161.628722 136.37277 \nL 171.372901 137.189425 \nL 181.11708 137.503825 \n\" clip-path=\"url(#pb65d7759b2)\" style=\"fill: none; stroke: #1f77b4; stroke-width: 1.5; stroke-linecap: square\"/>\n   </g>\n   <g id=\"line2d_95\">\n    <path d=\"M 49.633125 105.717044 \nL 69.163125 125.832935 \nL 88.693125 130.574893 \nL 108.223125 131.735347 \nL 127.753125 134.884039 \nL 147.283125 135.934204 \nL 166.813125 137.561361 \n\" clip-path=\"url(#pb65d7759b2)\" style=\"fill: none; stroke-dasharray: 5.55,2.4; stroke-dashoffset: 0; stroke: #ff7f0e; stroke-width: 1.5\"/>\n   </g>\n   <g id=\"line2d_96\">\n    <path d=\"M 49.633125 115.104651 \nL 69.163125 106.935891 \nL 88.693125 105.482975 \nL 108.223125 104.934233 \nL 127.753125 103.630973 \nL 147.283125 103.37531 \nL 166.813125 102.639498 \n\" clip-path=\"url(#pb65d7759b2)\" style=\"fill: none; stroke-dasharray: 9.6,2.4,1.5,2.4; stroke-dashoffset: 0; stroke: #2ca02c; stroke-width: 1.5\"/>\n   </g>\n   <g id=\"line2d_97\">\n    <path d=\"M 34.954394 13.5 \nL 44.698573 53.351372 \nL 54.442752 109.758081 \nL 64.186931 118.579344 \nL 73.93111 123.851494 \nL 83.675289 127.236416 \nL 93.419468 129.49584 \nL 103.163647 130.742618 \nL 112.907826 132.261116 \nL 122.652006 133.533243 \nL 132.396185 134.330527 \nL 142.140364 135.045326 \nL 151.884543 136.236636 \nL 161.628722 136.37277 \nL 171.372901 137.189425 \nL 181.11708 137.503825 \n\" clip-path=\"url(#pb65d7759b2)\" style=\"fill: none; stroke: #1f77b4; stroke-width: 1.5; stroke-linecap: square\"/>\n   </g>\n   <g id=\"line2d_98\">\n    <path d=\"M 49.633125 105.717044 \nL 69.163125 125.832935 \nL 88.693125 130.574893 \nL 108.223125 131.735347 \nL 127.753125 134.884039 \nL 147.283125 135.934204 \nL 166.813125 137.561361 \nL 186.343125 138.504765 \n\" clip-path=\"url(#pb65d7759b2)\" style=\"fill: none; stroke-dasharray: 5.55,2.4; stroke-dashoffset: 0; stroke: #ff7f0e; stroke-width: 1.5\"/>\n   </g>\n   <g id=\"line2d_99\">\n    <path d=\"M 49.633125 115.104651 \nL 69.163125 106.935891 \nL 88.693125 105.482975 \nL 108.223125 104.934233 \nL 127.753125 103.630973 \nL 147.283125 103.37531 \nL 166.813125 102.639498 \n\" clip-path=\"url(#pb65d7759b2)\" style=\"fill: none; stroke-dasharray: 9.6,2.4,1.5,2.4; stroke-dashoffset: 0; stroke: #2ca02c; stroke-width: 1.5\"/>\n   </g>\n   <g id=\"line2d_100\">\n    <path d=\"M 34.954394 13.5 \nL 44.698573 53.351372 \nL 54.442752 109.758081 \nL 64.186931 118.579344 \nL 73.93111 123.851494 \nL 83.675289 127.236416 \nL 93.419468 129.49584 \nL 103.163647 130.742618 \nL 112.907826 132.261116 \nL 122.652006 133.533243 \nL 132.396185 134.330527 \nL 142.140364 135.045326 \nL 151.884543 136.236636 \nL 161.628722 136.37277 \nL 171.372901 137.189425 \nL 181.11708 137.503825 \n\" clip-path=\"url(#pb65d7759b2)\" style=\"fill: none; stroke: #1f77b4; stroke-width: 1.5; stroke-linecap: square\"/>\n   </g>\n   <g id=\"line2d_101\">\n    <path d=\"M 49.633125 105.717044 \nL 69.163125 125.832935 \nL 88.693125 130.574893 \nL 108.223125 131.735347 \nL 127.753125 134.884039 \nL 147.283125 135.934204 \nL 166.813125 137.561361 \nL 186.343125 138.504765 \n\" clip-path=\"url(#pb65d7759b2)\" style=\"fill: none; stroke-dasharray: 5.55,2.4; stroke-dashoffset: 0; stroke: #ff7f0e; stroke-width: 1.5\"/>\n   </g>\n   <g id=\"line2d_102\">\n    <path d=\"M 49.633125 115.104651 \nL 69.163125 106.935891 \nL 88.693125 105.482975 \nL 108.223125 104.934233 \nL 127.753125 103.630973 \nL 147.283125 103.37531 \nL 166.813125 102.639498 \nL 186.343125 102.458663 \n\" clip-path=\"url(#pb65d7759b2)\" style=\"fill: none; stroke-dasharray: 9.6,2.4,1.5,2.4; stroke-dashoffset: 0; stroke: #2ca02c; stroke-width: 1.5\"/>\n   </g>\n   <g id=\"line2d_103\">\n    <path d=\"M 34.954394 13.5 \nL 44.698573 53.351372 \nL 54.442752 109.758081 \nL 64.186931 118.579344 \nL 73.93111 123.851494 \nL 83.675289 127.236416 \nL 93.419468 129.49584 \nL 103.163647 130.742618 \nL 112.907826 132.261116 \nL 122.652006 133.533243 \nL 132.396185 134.330527 \nL 142.140364 135.045326 \nL 151.884543 136.236636 \nL 161.628722 136.37277 \nL 171.372901 137.189425 \nL 181.11708 137.503825 \nL 190.861259 138.362928 \n\" clip-path=\"url(#pb65d7759b2)\" style=\"fill: none; stroke: #1f77b4; stroke-width: 1.5; stroke-linecap: square\"/>\n   </g>\n   <g id=\"line2d_104\">\n    <path d=\"M 49.633125 105.717044 \nL 69.163125 125.832935 \nL 88.693125 130.574893 \nL 108.223125 131.735347 \nL 127.753125 134.884039 \nL 147.283125 135.934204 \nL 166.813125 137.561361 \nL 186.343125 138.504765 \n\" clip-path=\"url(#pb65d7759b2)\" style=\"fill: none; stroke-dasharray: 5.55,2.4; stroke-dashoffset: 0; stroke: #ff7f0e; stroke-width: 1.5\"/>\n   </g>\n   <g id=\"line2d_105\">\n    <path d=\"M 49.633125 115.104651 \nL 69.163125 106.935891 \nL 88.693125 105.482975 \nL 108.223125 104.934233 \nL 127.753125 103.630973 \nL 147.283125 103.37531 \nL 166.813125 102.639498 \nL 186.343125 102.458663 \n\" clip-path=\"url(#pb65d7759b2)\" style=\"fill: none; stroke-dasharray: 9.6,2.4,1.5,2.4; stroke-dashoffset: 0; stroke: #2ca02c; stroke-width: 1.5\"/>\n   </g>\n   <g id=\"line2d_106\">\n    <path d=\"M 34.954394 13.5 \nL 44.698573 53.351372 \nL 54.442752 109.758081 \nL 64.186931 118.579344 \nL 73.93111 123.851494 \nL 83.675289 127.236416 \nL 93.419468 129.49584 \nL 103.163647 130.742618 \nL 112.907826 132.261116 \nL 122.652006 133.533243 \nL 132.396185 134.330527 \nL 142.140364 135.045326 \nL 151.884543 136.236636 \nL 161.628722 136.37277 \nL 171.372901 137.189425 \nL 181.11708 137.503825 \nL 190.861259 138.362928 \nL 200.605438 138.451468 \n\" clip-path=\"url(#pb65d7759b2)\" style=\"fill: none; stroke: #1f77b4; stroke-width: 1.5; stroke-linecap: square\"/>\n   </g>\n   <g id=\"line2d_107\">\n    <path d=\"M 49.633125 105.717044 \nL 69.163125 125.832935 \nL 88.693125 130.574893 \nL 108.223125 131.735347 \nL 127.753125 134.884039 \nL 147.283125 135.934204 \nL 166.813125 137.561361 \nL 186.343125 138.504765 \n\" clip-path=\"url(#pb65d7759b2)\" style=\"fill: none; stroke-dasharray: 5.55,2.4; stroke-dashoffset: 0; stroke: #ff7f0e; stroke-width: 1.5\"/>\n   </g>\n   <g id=\"line2d_108\">\n    <path d=\"M 49.633125 115.104651 \nL 69.163125 106.935891 \nL 88.693125 105.482975 \nL 108.223125 104.934233 \nL 127.753125 103.630973 \nL 147.283125 103.37531 \nL 166.813125 102.639498 \nL 186.343125 102.458663 \n\" clip-path=\"url(#pb65d7759b2)\" style=\"fill: none; stroke-dasharray: 9.6,2.4,1.5,2.4; stroke-dashoffset: 0; stroke: #2ca02c; stroke-width: 1.5\"/>\n   </g>\n   <g id=\"line2d_109\">\n    <path d=\"M 34.954394 13.5 \nL 44.698573 53.351372 \nL 54.442752 109.758081 \nL 64.186931 118.579344 \nL 73.93111 123.851494 \nL 83.675289 127.236416 \nL 93.419468 129.49584 \nL 103.163647 130.742618 \nL 112.907826 132.261116 \nL 122.652006 133.533243 \nL 132.396185 134.330527 \nL 142.140364 135.045326 \nL 151.884543 136.236636 \nL 161.628722 136.37277 \nL 171.372901 137.189425 \nL 181.11708 137.503825 \nL 190.861259 138.362928 \nL 200.605438 138.451468 \n\" clip-path=\"url(#pb65d7759b2)\" style=\"fill: none; stroke: #1f77b4; stroke-width: 1.5; stroke-linecap: square\"/>\n   </g>\n   <g id=\"line2d_110\">\n    <path d=\"M 49.633125 105.717044 \nL 69.163125 125.832935 \nL 88.693125 130.574893 \nL 108.223125 131.735347 \nL 127.753125 134.884039 \nL 147.283125 135.934204 \nL 166.813125 137.561361 \nL 186.343125 138.504765 \nL 205.873125 139.041829 \n\" clip-path=\"url(#pb65d7759b2)\" style=\"fill: none; stroke-dasharray: 5.55,2.4; stroke-dashoffset: 0; stroke: #ff7f0e; stroke-width: 1.5\"/>\n   </g>\n   <g id=\"line2d_111\">\n    <path d=\"M 49.633125 115.104651 \nL 69.163125 106.935891 \nL 88.693125 105.482975 \nL 108.223125 104.934233 \nL 127.753125 103.630973 \nL 147.283125 103.37531 \nL 166.813125 102.639498 \nL 186.343125 102.458663 \n\" clip-path=\"url(#pb65d7759b2)\" style=\"fill: none; stroke-dasharray: 9.6,2.4,1.5,2.4; stroke-dashoffset: 0; stroke: #2ca02c; stroke-width: 1.5\"/>\n   </g>\n   <g id=\"line2d_112\">\n    <path d=\"M 34.954394 13.5 \nL 44.698573 53.351372 \nL 54.442752 109.758081 \nL 64.186931 118.579344 \nL 73.93111 123.851494 \nL 83.675289 127.236416 \nL 93.419468 129.49584 \nL 103.163647 130.742618 \nL 112.907826 132.261116 \nL 122.652006 133.533243 \nL 132.396185 134.330527 \nL 142.140364 135.045326 \nL 151.884543 136.236636 \nL 161.628722 136.37277 \nL 171.372901 137.189425 \nL 181.11708 137.503825 \nL 190.861259 138.362928 \nL 200.605438 138.451468 \n\" clip-path=\"url(#pb65d7759b2)\" style=\"fill: none; stroke: #1f77b4; stroke-width: 1.5; stroke-linecap: square\"/>\n   </g>\n   <g id=\"line2d_113\">\n    <path d=\"M 49.633125 105.717044 \nL 69.163125 125.832935 \nL 88.693125 130.574893 \nL 108.223125 131.735347 \nL 127.753125 134.884039 \nL 147.283125 135.934204 \nL 166.813125 137.561361 \nL 186.343125 138.504765 \nL 205.873125 139.041829 \n\" clip-path=\"url(#pb65d7759b2)\" style=\"fill: none; stroke-dasharray: 5.55,2.4; stroke-dashoffset: 0; stroke: #ff7f0e; stroke-width: 1.5\"/>\n   </g>\n   <g id=\"line2d_114\">\n    <path d=\"M 49.633125 115.104651 \nL 69.163125 106.935891 \nL 88.693125 105.482975 \nL 108.223125 104.934233 \nL 127.753125 103.630973 \nL 147.283125 103.37531 \nL 166.813125 102.639498 \nL 186.343125 102.458663 \nL 205.873125 102.065814 \n\" clip-path=\"url(#pb65d7759b2)\" style=\"fill: none; stroke-dasharray: 9.6,2.4,1.5,2.4; stroke-dashoffset: 0; stroke: #2ca02c; stroke-width: 1.5\"/>\n   </g>\n   <g id=\"line2d_115\">\n    <path d=\"M 34.954394 13.5 \nL 44.698573 53.351372 \nL 54.442752 109.758081 \nL 64.186931 118.579344 \nL 73.93111 123.851494 \nL 83.675289 127.236416 \nL 93.419468 129.49584 \nL 103.163647 130.742618 \nL 112.907826 132.261116 \nL 122.652006 133.533243 \nL 132.396185 134.330527 \nL 142.140364 135.045326 \nL 151.884543 136.236636 \nL 161.628722 136.37277 \nL 171.372901 137.189425 \nL 181.11708 137.503825 \nL 190.861259 138.362928 \nL 200.605438 138.451468 \nL 210.349618 139.231692 \n\" clip-path=\"url(#pb65d7759b2)\" style=\"fill: none; stroke: #1f77b4; stroke-width: 1.5; stroke-linecap: square\"/>\n   </g>\n   <g id=\"line2d_116\">\n    <path d=\"M 49.633125 105.717044 \nL 69.163125 125.832935 \nL 88.693125 130.574893 \nL 108.223125 131.735347 \nL 127.753125 134.884039 \nL 147.283125 135.934204 \nL 166.813125 137.561361 \nL 186.343125 138.504765 \nL 205.873125 139.041829 \n\" clip-path=\"url(#pb65d7759b2)\" style=\"fill: none; stroke-dasharray: 5.55,2.4; stroke-dashoffset: 0; stroke: #ff7f0e; stroke-width: 1.5\"/>\n   </g>\n   <g id=\"line2d_117\">\n    <path d=\"M 49.633125 115.104651 \nL 69.163125 106.935891 \nL 88.693125 105.482975 \nL 108.223125 104.934233 \nL 127.753125 103.630973 \nL 147.283125 103.37531 \nL 166.813125 102.639498 \nL 186.343125 102.458663 \nL 205.873125 102.065814 \n\" clip-path=\"url(#pb65d7759b2)\" style=\"fill: none; stroke-dasharray: 9.6,2.4,1.5,2.4; stroke-dashoffset: 0; stroke: #2ca02c; stroke-width: 1.5\"/>\n   </g>\n   <g id=\"line2d_118\">\n    <path d=\"M 34.954394 13.5 \nL 44.698573 53.351372 \nL 54.442752 109.758081 \nL 64.186931 118.579344 \nL 73.93111 123.851494 \nL 83.675289 127.236416 \nL 93.419468 129.49584 \nL 103.163647 130.742618 \nL 112.907826 132.261116 \nL 122.652006 133.533243 \nL 132.396185 134.330527 \nL 142.140364 135.045326 \nL 151.884543 136.236636 \nL 161.628722 136.37277 \nL 171.372901 137.189425 \nL 181.11708 137.503825 \nL 190.861259 138.362928 \nL 200.605438 138.451468 \nL 210.349618 139.231692 \nL 220.093797 139.5 \n\" clip-path=\"url(#pb65d7759b2)\" style=\"fill: none; stroke: #1f77b4; stroke-width: 1.5; stroke-linecap: square\"/>\n   </g>\n   <g id=\"line2d_119\">\n    <path d=\"M 49.633125 105.717044 \nL 69.163125 125.832935 \nL 88.693125 130.574893 \nL 108.223125 131.735347 \nL 127.753125 134.884039 \nL 147.283125 135.934204 \nL 166.813125 137.561361 \nL 186.343125 138.504765 \nL 205.873125 139.041829 \n\" clip-path=\"url(#pb65d7759b2)\" style=\"fill: none; stroke-dasharray: 5.55,2.4; stroke-dashoffset: 0; stroke: #ff7f0e; stroke-width: 1.5\"/>\n   </g>\n   <g id=\"line2d_120\">\n    <path d=\"M 49.633125 115.104651 \nL 69.163125 106.935891 \nL 88.693125 105.482975 \nL 108.223125 104.934233 \nL 127.753125 103.630973 \nL 147.283125 103.37531 \nL 166.813125 102.639498 \nL 186.343125 102.458663 \nL 205.873125 102.065814 \n\" clip-path=\"url(#pb65d7759b2)\" style=\"fill: none; stroke-dasharray: 9.6,2.4,1.5,2.4; stroke-dashoffset: 0; stroke: #2ca02c; stroke-width: 1.5\"/>\n   </g>\n   <g id=\"line2d_121\">\n    <path d=\"M 34.954394 13.5 \nL 44.698573 53.351372 \nL 54.442752 109.758081 \nL 64.186931 118.579344 \nL 73.93111 123.851494 \nL 83.675289 127.236416 \nL 93.419468 129.49584 \nL 103.163647 130.742618 \nL 112.907826 132.261116 \nL 122.652006 133.533243 \nL 132.396185 134.330527 \nL 142.140364 135.045326 \nL 151.884543 136.236636 \nL 161.628722 136.37277 \nL 171.372901 137.189425 \nL 181.11708 137.503825 \nL 190.861259 138.362928 \nL 200.605438 138.451468 \nL 210.349618 139.231692 \nL 220.093797 139.5 \n\" clip-path=\"url(#pb65d7759b2)\" style=\"fill: none; stroke: #1f77b4; stroke-width: 1.5; stroke-linecap: square\"/>\n   </g>\n   <g id=\"line2d_122\">\n    <path d=\"M 49.633125 105.717044 \nL 69.163125 125.832935 \nL 88.693125 130.574893 \nL 108.223125 131.735347 \nL 127.753125 134.884039 \nL 147.283125 135.934204 \nL 166.813125 137.561361 \nL 186.343125 138.504765 \nL 205.873125 139.041829 \nL 225.403125 139.071402 \n\" clip-path=\"url(#pb65d7759b2)\" style=\"fill: none; stroke-dasharray: 5.55,2.4; stroke-dashoffset: 0; stroke: #ff7f0e; stroke-width: 1.5\"/>\n   </g>\n   <g id=\"line2d_123\">\n    <path d=\"M 49.633125 115.104651 \nL 69.163125 106.935891 \nL 88.693125 105.482975 \nL 108.223125 104.934233 \nL 127.753125 103.630973 \nL 147.283125 103.37531 \nL 166.813125 102.639498 \nL 186.343125 102.458663 \nL 205.873125 102.065814 \n\" clip-path=\"url(#pb65d7759b2)\" style=\"fill: none; stroke-dasharray: 9.6,2.4,1.5,2.4; stroke-dashoffset: 0; stroke: #2ca02c; stroke-width: 1.5\"/>\n   </g>\n   <g id=\"line2d_124\">\n    <path d=\"M 34.954394 13.5 \nL 44.698573 53.351372 \nL 54.442752 109.758081 \nL 64.186931 118.579344 \nL 73.93111 123.851494 \nL 83.675289 127.236416 \nL 93.419468 129.49584 \nL 103.163647 130.742618 \nL 112.907826 132.261116 \nL 122.652006 133.533243 \nL 132.396185 134.330527 \nL 142.140364 135.045326 \nL 151.884543 136.236636 \nL 161.628722 136.37277 \nL 171.372901 137.189425 \nL 181.11708 137.503825 \nL 190.861259 138.362928 \nL 200.605438 138.451468 \nL 210.349618 139.231692 \nL 220.093797 139.5 \n\" clip-path=\"url(#pb65d7759b2)\" style=\"fill: none; stroke: #1f77b4; stroke-width: 1.5; stroke-linecap: square\"/>\n   </g>\n   <g id=\"line2d_125\">\n    <path d=\"M 49.633125 105.717044 \nL 69.163125 125.832935 \nL 88.693125 130.574893 \nL 108.223125 131.735347 \nL 127.753125 134.884039 \nL 147.283125 135.934204 \nL 166.813125 137.561361 \nL 186.343125 138.504765 \nL 205.873125 139.041829 \nL 225.403125 139.071402 \n\" clip-path=\"url(#pb65d7759b2)\" style=\"fill: none; stroke-dasharray: 5.55,2.4; stroke-dashoffset: 0; stroke: #ff7f0e; stroke-width: 1.5\"/>\n   </g>\n   <g id=\"line2d_126\">\n    <path d=\"M 49.633125 115.104651 \nL 69.163125 106.935891 \nL 88.693125 105.482975 \nL 108.223125 104.934233 \nL 127.753125 103.630973 \nL 147.283125 103.37531 \nL 166.813125 102.639498 \nL 186.343125 102.458663 \nL 205.873125 102.065814 \nL 225.403125 102.159349 \n\" clip-path=\"url(#pb65d7759b2)\" style=\"fill: none; stroke-dasharray: 9.6,2.4,1.5,2.4; stroke-dashoffset: 0; stroke: #2ca02c; stroke-width: 1.5\"/>\n   </g>\n   <g id=\"patch_3\">\n    <path d=\"M 30.103125 145.8 \nL 30.103125 7.2 \n\" style=\"fill: none; stroke: #000000; stroke-width: 0.8; stroke-linejoin: miter; stroke-linecap: square\"/>\n   </g>\n   <g id=\"patch_4\">\n    <path d=\"M 225.403125 145.8 \nL 225.403125 7.2 \n\" style=\"fill: none; stroke: #000000; stroke-width: 0.8; stroke-linejoin: miter; stroke-linecap: square\"/>\n   </g>\n   <g id=\"patch_5\">\n    <path d=\"M 30.103125 145.8 \nL 225.403125 145.8 \n\" style=\"fill: none; stroke: #000000; stroke-width: 0.8; stroke-linejoin: miter; stroke-linecap: square\"/>\n   </g>\n   <g id=\"patch_6\">\n    <path d=\"M 30.103125 7.2 \nL 225.403125 7.2 \n\" style=\"fill: none; stroke: #000000; stroke-width: 0.8; stroke-linejoin: miter; stroke-linecap: square\"/>\n   </g>\n   <g id=\"legend_1\">\n    <g id=\"patch_7\">\n     <path d=\"M 138.8125 60.06875 \nL 218.403125 60.06875 \nQ 220.403125 60.06875 220.403125 58.06875 \nL 220.403125 14.2 \nQ 220.403125 12.2 218.403125 12.2 \nL 138.8125 12.2 \nQ 136.8125 12.2 136.8125 14.2 \nL 136.8125 58.06875 \nQ 136.8125 60.06875 138.8125 60.06875 \nz\n\" style=\"fill: #ffffff; opacity: 0.8; stroke: #cccccc; stroke-linejoin: miter\"/>\n    </g>\n    <g id=\"line2d_127\">\n     <path d=\"M 140.8125 20.298438 \nL 150.8125 20.298438 \nL 160.8125 20.298438 \n\" style=\"fill: none; stroke: #1f77b4; stroke-width: 1.5; stroke-linecap: square\"/>\n    </g>\n    <g id=\"text_12\">\n     <!-- train_loss -->\n     <g transform=\"translate(168.8125 23.798438) scale(0.1 -0.1)\">\n      <defs>\n       <path id=\"DejaVuSans-74\" d=\"M 1172 4494 \nL 1172 3500 \nL 2356 3500 \nL 2356 3053 \nL 1172 3053 \nL 1172 1153 \nQ 1172 725 1289 603 \nQ 1406 481 1766 481 \nL 2356 481 \nL 2356 0 \nL 1766 0 \nQ 1100 0 847 248 \nQ 594 497 594 1153 \nL 594 3053 \nL 172 3053 \nL 172 3500 \nL 594 3500 \nL 594 4494 \nL 1172 4494 \nz\n\" transform=\"scale(0.015625)\"/>\n       <path id=\"DejaVuSans-72\" d=\"M 2631 2963 \nQ 2534 3019 2420 3045 \nQ 2306 3072 2169 3072 \nQ 1681 3072 1420 2755 \nQ 1159 2438 1159 1844 \nL 1159 0 \nL 581 0 \nL 581 3500 \nL 1159 3500 \nL 1159 2956 \nQ 1341 3275 1631 3429 \nQ 1922 3584 2338 3584 \nQ 2397 3584 2469 3576 \nQ 2541 3569 2628 3553 \nL 2631 2963 \nz\n\" transform=\"scale(0.015625)\"/>\n       <path id=\"DejaVuSans-61\" d=\"M 2194 1759 \nQ 1497 1759 1228 1600 \nQ 959 1441 959 1056 \nQ 959 750 1161 570 \nQ 1363 391 1709 391 \nQ 2188 391 2477 730 \nQ 2766 1069 2766 1631 \nL 2766 1759 \nL 2194 1759 \nz\nM 3341 1997 \nL 3341 0 \nL 2766 0 \nL 2766 531 \nQ 2569 213 2275 61 \nQ 1981 -91 1556 -91 \nQ 1019 -91 701 211 \nQ 384 513 384 1019 \nQ 384 1609 779 1909 \nQ 1175 2209 1959 2209 \nL 2766 2209 \nL 2766 2266 \nQ 2766 2663 2505 2880 \nQ 2244 3097 1772 3097 \nQ 1472 3097 1187 3025 \nQ 903 2953 641 2809 \nL 641 3341 \nQ 956 3463 1253 3523 \nQ 1550 3584 1831 3584 \nQ 2591 3584 2966 3190 \nQ 3341 2797 3341 1997 \nz\n\" transform=\"scale(0.015625)\"/>\n       <path id=\"DejaVuSans-69\" d=\"M 603 3500 \nL 1178 3500 \nL 1178 0 \nL 603 0 \nL 603 3500 \nz\nM 603 4863 \nL 1178 4863 \nL 1178 4134 \nL 603 4134 \nL 603 4863 \nz\n\" transform=\"scale(0.015625)\"/>\n       <path id=\"DejaVuSans-6e\" d=\"M 3513 2113 \nL 3513 0 \nL 2938 0 \nL 2938 2094 \nQ 2938 2591 2744 2837 \nQ 2550 3084 2163 3084 \nQ 1697 3084 1428 2787 \nQ 1159 2491 1159 1978 \nL 1159 0 \nL 581 0 \nL 581 3500 \nL 1159 3500 \nL 1159 2956 \nQ 1366 3272 1645 3428 \nQ 1925 3584 2291 3584 \nQ 2894 3584 3203 3211 \nQ 3513 2838 3513 2113 \nz\n\" transform=\"scale(0.015625)\"/>\n       <path id=\"DejaVuSans-5f\" d=\"M 3263 -1063 \nL 3263 -1509 \nL -63 -1509 \nL -63 -1063 \nL 3263 -1063 \nz\n\" transform=\"scale(0.015625)\"/>\n       <path id=\"DejaVuSans-6c\" d=\"M 603 4863 \nL 1178 4863 \nL 1178 0 \nL 603 0 \nL 603 4863 \nz\n\" transform=\"scale(0.015625)\"/>\n       <path id=\"DejaVuSans-73\" d=\"M 2834 3397 \nL 2834 2853 \nQ 2591 2978 2328 3040 \nQ 2066 3103 1784 3103 \nQ 1356 3103 1142 2972 \nQ 928 2841 928 2578 \nQ 928 2378 1081 2264 \nQ 1234 2150 1697 2047 \nL 1894 2003 \nQ 2506 1872 2764 1633 \nQ 3022 1394 3022 966 \nQ 3022 478 2636 193 \nQ 2250 -91 1575 -91 \nQ 1294 -91 989 -36 \nQ 684 19 347 128 \nL 347 722 \nQ 666 556 975 473 \nQ 1284 391 1588 391 \nQ 1994 391 2212 530 \nQ 2431 669 2431 922 \nQ 2431 1156 2273 1281 \nQ 2116 1406 1581 1522 \nL 1381 1569 \nQ 847 1681 609 1914 \nQ 372 2147 372 2553 \nQ 372 3047 722 3315 \nQ 1072 3584 1716 3584 \nQ 2034 3584 2315 3537 \nQ 2597 3491 2834 3397 \nz\n\" transform=\"scale(0.015625)\"/>\n      </defs>\n      <use xlink:href=\"#DejaVuSans-74\"/>\n      <use xlink:href=\"#DejaVuSans-72\" x=\"39.208984\"/>\n      <use xlink:href=\"#DejaVuSans-61\" x=\"80.322266\"/>\n      <use xlink:href=\"#DejaVuSans-69\" x=\"141.601562\"/>\n      <use xlink:href=\"#DejaVuSans-6e\" x=\"169.384766\"/>\n      <use xlink:href=\"#DejaVuSans-5f\" x=\"232.763672\"/>\n      <use xlink:href=\"#DejaVuSans-6c\" x=\"282.763672\"/>\n      <use xlink:href=\"#DejaVuSans-6f\" x=\"310.546875\"/>\n      <use xlink:href=\"#DejaVuSans-73\" x=\"371.728516\"/>\n      <use xlink:href=\"#DejaVuSans-73\" x=\"423.828125\"/>\n     </g>\n    </g>\n    <g id=\"line2d_128\">\n     <path d=\"M 140.8125 35.254688 \nL 150.8125 35.254688 \nL 160.8125 35.254688 \n\" style=\"fill: none; stroke-dasharray: 5.55,2.4; stroke-dashoffset: 0; stroke: #ff7f0e; stroke-width: 1.5\"/>\n    </g>\n    <g id=\"text_13\">\n     <!-- val_loss -->\n     <g transform=\"translate(168.8125 38.754688) scale(0.1 -0.1)\">\n      <defs>\n       <path id=\"DejaVuSans-76\" d=\"M 191 3500 \nL 800 3500 \nL 1894 563 \nL 2988 3500 \nL 3597 3500 \nL 2284 0 \nL 1503 0 \nL 191 3500 \nz\n\" transform=\"scale(0.015625)\"/>\n      </defs>\n      <use xlink:href=\"#DejaVuSans-76\"/>\n      <use xlink:href=\"#DejaVuSans-61\" x=\"59.179688\"/>\n      <use xlink:href=\"#DejaVuSans-6c\" x=\"120.458984\"/>\n      <use xlink:href=\"#DejaVuSans-5f\" x=\"148.242188\"/>\n      <use xlink:href=\"#DejaVuSans-6c\" x=\"198.242188\"/>\n      <use xlink:href=\"#DejaVuSans-6f\" x=\"226.025391\"/>\n      <use xlink:href=\"#DejaVuSans-73\" x=\"287.207031\"/>\n      <use xlink:href=\"#DejaVuSans-73\" x=\"339.306641\"/>\n     </g>\n    </g>\n    <g id=\"line2d_129\">\n     <path d=\"M 140.8125 50.210938 \nL 150.8125 50.210938 \nL 160.8125 50.210938 \n\" style=\"fill: none; stroke-dasharray: 9.6,2.4,1.5,2.4; stroke-dashoffset: 0; stroke: #2ca02c; stroke-width: 1.5\"/>\n    </g>\n    <g id=\"text_14\">\n     <!-- val_acc -->\n     <g transform=\"translate(168.8125 53.710938) scale(0.1 -0.1)\">\n      <use xlink:href=\"#DejaVuSans-76\"/>\n      <use xlink:href=\"#DejaVuSans-61\" x=\"59.179688\"/>\n      <use xlink:href=\"#DejaVuSans-6c\" x=\"120.458984\"/>\n      <use xlink:href=\"#DejaVuSans-5f\" x=\"148.242188\"/>\n      <use xlink:href=\"#DejaVuSans-61\" x=\"198.242188\"/>\n      <use xlink:href=\"#DejaVuSans-63\" x=\"259.521484\"/>\n      <use xlink:href=\"#DejaVuSans-63\" x=\"314.501953\"/>\n     </g>\n    </g>\n   </g>\n  </g>\n </g>\n <defs>\n  <clipPath id=\"pb65d7759b2\">\n   <rect x=\"30.103125\" y=\"7.2\" width=\"195.3\" height=\"138.6\"/>\n  </clipPath>\n </defs>\n</svg>\n"
          },
          "metadata": {}
        }
      ]
    },
    {
      "cell_type": "markdown",
      "source": [
        "## 8.2.5 Exercise\n",
        "\n",
        "---\n",
        "1. Compared with AlexNet, VGG is much slower in terms of computation, and it also needs more GPU memory.\n",
        "* Compare the number of parameters needed for AlexNet and VGG.\n",
        "* Compare the number of floating point operations used in the convolutional layers and in the fully connected layers.\n",
        "* How could you reduce the computational cost created by the fully connected layers?\n",
        "2. When displaying the dimensions associated with the various layers of the network, we only see the information associated with eight blocks (plus some auxiliary transforms), even though the network has 11 layers. Where did the remaining three layers go?\n",
        "3. Use Table 1 in the VGG paper (Simonyan and Zisserman, 2014) to construct other common models, such as VGG-16 or VGG-19.\n",
        "4. Upsampling the resolution in Fashion-MNIST eight-fold from 28×28  to 224×224 dimensions is very wasteful. Try modifying the network architecture and resolution conversion, e.g., to 56 or to 84 dimensions for its input instead. Can you do so without reducing the accuracy of the network? Consult the VGG paper (Simonyan and Zisserman, 2014) for ideas on adding more nonlinearities prior to downsampling.\n",
        "\n"
      ],
      "metadata": {
        "id": "whta1HKav3um"
      },
      "id": "whta1HKav3um"
    },
    {
      "cell_type": "markdown",
      "source": [
        "## Jawaban\n",
        "\n",
        "---\n",
        "\n",
        "**1. Compared with AlexNet, VGG is much slower in terms of computation, and it also needs more GPU memory.**\n",
        "\n",
        "**a. Compare the Number of Parameters Needed for AlexNet and VGG**\n",
        "\n",
        "AlexNet memiliki sekitar 60 juta parameter, sementara VGG-16 memiliki sekitar 138 juta parameter. Hal ini disebabkan karena VGG menggunakan lebih banyak convolutional layers dengan filter yang lebih kecil tetapi dalam jumlah yang lebih banyak, serta fully connected layers dengan dimensi besar.\n",
        "\n",
        "**b. Compare the Number of Floating Point Operations (FLOPs)**\n",
        "\n",
        "* Convolutional Layers: VGG memiliki lebih banyak FLOPs karena menggunakan banyak filter kecil (3x3) dibandingkan AlexNet, yang menggunakan filter lebih besar (11x11 dan 5x5) dengan jumlah layer yang lebih sedikit.\n",
        "\n",
        "* Fully Connected Layers: Keduanya memiliki fully connected layers besar, namun VGG menggunakan layer yang lebih dalam, sehingga computational cost pada bagian ini meningkat.\n",
        "\n",
        "**c. How Could You Reduce the Computational Cost Created by the Fully Connected Layers?**\n",
        "\n",
        "Salah satu cara mengurangi computational cost pada **fully connected layers** adalah dengan mengganti layer tersebut menggunakan global average pooling sebagai pengganti fully connected layer. Dengan cara ini, jumlah parameter berkurang secara signifikan karena kita menghindari penggunaan banyak koneksi dense.\n",
        "\n",
        "**2. Where Did the Remaining Three Layers Go?**\n",
        "\n",
        "Tiga layer yang hilang dalam deskripsi arsitektur adalah fully connected layers yang ada setelah convolutional blocks. Pada VGG, setelah serangkaian convolutional blocks, terdapat tiga fully connected layers yang akhirnya melakukan klasifikasi akhir."
      ],
      "metadata": {
        "id": "B2qvDCL0wHnI"
      },
      "id": "B2qvDCL0wHnI"
    },
    {
      "cell_type": "markdown",
      "source": [
        "**4. Use Table 1 in the VGG Paper to Construct Other Common Models**\n",
        "\n",
        "Untuk membangun model VGG-16 atau VGG-19, Anda dapat mengikuti konfigurasi yang diberikan dalam Tabel 1 di paper asli (Simonyan dan Zisserman, 2014). VGG-16 memiliki 16 layer yang dapat dipelajari (13 convolutional dan 3 fully connected), sedangkan VGG-19 memiliki 19 layer yang dapat dipelajari (16 convolutional dan 3 fully connected).\n",
        "\n",
        "**Modify Network Architecture and Resolution Conversion**\n",
        "\n",
        "Mengubah Resolusi Input: Alih-alih meningkatkan resolusi menjadi\n",
        "224×224,yang sangat boros, Anda dapat mencoba resolusi yang lebih rendah seperti\n",
        "56×56, 84×84. Dengan menggunakan **layer konvolusi tambahan dan non-linearitas** sebelum melakukan downsampling, model tetap dapat mempertahankan performa tanpa memerlukan resolusi input yang sangat tinggi. Anda juga bisa menambahkan lebih banyak **ReLU** sebelum pooling untuk menambah kapasitas representasi.\n",
        "\n",
        "Berikut adalah contoh implementasi kode yang memodifikasi resolusi input dan arsitektur:"
      ],
      "metadata": {
        "id": "moH7eO86w6j2"
      },
      "id": "moH7eO86w6j2"
    },
    {
      "cell_type": "code",
      "source": [
        "class ModifiedVGG(nn.Module):\n",
        "    def __init__(self):\n",
        "        super(ModifiedVGG, self).__init__()\n",
        "        self.features = nn.Sequential(\n",
        "            nn.Conv2d(1, 64, kernel_size=3, padding=1),\n",
        "            nn.ReLU(inplace=True),\n",
        "            nn.MaxPool2d(kernel_size=2, stride=2),  # Output: 28x28\n",
        "\n",
        "            nn.Conv2d(64, 128, kernel_size=3, padding=1),\n",
        "            nn.ReLU(inplace=True),\n",
        "            nn.MaxPool2d(kernel_size=2, stride=2),  # Output: 14x14\n",
        "        )\n",
        "        self.classifier = nn.Sequential(\n",
        "            nn.Linear(128 * 14 * 14, 512),\n",
        "            nn.ReLU(inplace=True),\n",
        "            nn.Dropout(),\n",
        "            nn.Linear(512, 10)\n",
        "        )\n",
        "\n",
        "    def forward(self, x):\n",
        "        x = self.features(x)\n",
        "        x = x.view(x.size(0), -1)\n",
        "        x = self.classifier(x)\n",
        "        return x\n",
        "\n",
        "model = ModifiedVGG()\n",
        "print(model)\n"
      ],
      "metadata": {
        "colab": {
          "base_uri": "https://localhost:8080/"
        },
        "id": "uPOc2Jyjoo7d",
        "outputId": "d530a6ed-bd94-4ac9-8457-3acd9eda9bf8"
      },
      "id": "uPOc2Jyjoo7d",
      "execution_count": null,
      "outputs": [
        {
          "output_type": "stream",
          "name": "stdout",
          "text": [
            "ModifiedVGG(\n",
            "  (features): Sequential(\n",
            "    (0): Conv2d(1, 64, kernel_size=(3, 3), stride=(1, 1), padding=(1, 1))\n",
            "    (1): ReLU(inplace=True)\n",
            "    (2): MaxPool2d(kernel_size=2, stride=2, padding=0, dilation=1, ceil_mode=False)\n",
            "    (3): Conv2d(64, 128, kernel_size=(3, 3), stride=(1, 1), padding=(1, 1))\n",
            "    (4): ReLU(inplace=True)\n",
            "    (5): MaxPool2d(kernel_size=2, stride=2, padding=0, dilation=1, ceil_mode=False)\n",
            "  )\n",
            "  (classifier): Sequential(\n",
            "    (0): Linear(in_features=25088, out_features=512, bias=True)\n",
            "    (1): ReLU(inplace=True)\n",
            "    (2): Dropout(p=0.5, inplace=False)\n",
            "    (3): Linear(in_features=512, out_features=10, bias=True)\n",
            "  )\n",
            ")\n"
          ]
        }
      ]
    },
    {
      "cell_type": "markdown",
      "source": [
        "**Penjelasan:**\n",
        "\n",
        "Model di atas mengubah resolusi input menjadi lebih rendah, yang mengurangi computational cost sambil tetap mempertahankan performa dengan menambahkan layer ReLU untuk meningkatkan kapasitas representasi sebelum pooling.\n",
        "\n",
        "\n",
        "\n",
        "\n",
        "\n",
        "\n"
      ],
      "metadata": {
        "id": "bSqLhcQXxqiI"
      },
      "id": "bSqLhcQXxqiI"
    },
    {
      "cell_type": "markdown",
      "source": [],
      "metadata": {
        "id": "LRWILEAVx8fm"
      },
      "id": "LRWILEAVx8fm"
    },
    {
      "cell_type": "markdown",
      "source": [
        "# 8.3 Network in Network (NiN)"
      ],
      "metadata": {
        "id": "WH_sQeTCyJug"
      },
      "id": "WH_sQeTCyJug"
    },
    {
      "cell_type": "markdown",
      "source": [
        "## 8.3.1 NiN Blocks"
      ],
      "metadata": {
        "id": "Nd77q4-qyRzo"
      },
      "id": "Nd77q4-qyRzo"
    },
    {
      "cell_type": "code",
      "source": [
        "def nin_block(out_channels, kernel_size, strides, padding):\n",
        "    return nn.Sequential(\n",
        "        nn.LazyConv2d(out_channels, kernel_size, strides, padding), nn.ReLU(),\n",
        "        nn.LazyConv2d(out_channels, kernel_size=1), nn.ReLU(),\n",
        "        nn.LazyConv2d(out_channels, kernel_size=1), nn.ReLU())"
      ],
      "metadata": {
        "id": "Ry--XPe5yWZh"
      },
      "id": "Ry--XPe5yWZh",
      "execution_count": null,
      "outputs": []
    },
    {
      "cell_type": "markdown",
      "source": [
        "## 8.3.2 NiN Model"
      ],
      "metadata": {
        "id": "rCe8hlSIyYT8"
      },
      "id": "rCe8hlSIyYT8"
    },
    {
      "cell_type": "code",
      "source": [
        "class NiN(d2l.Classifier):\n",
        "    def __init__(self, lr=0.1, num_classes=10):\n",
        "        super().__init__()\n",
        "        self.save_hyperparameters()\n",
        "        self.net = nn.Sequential(\n",
        "            nin_block(96, kernel_size=11, strides=4, padding=0),\n",
        "            nn.MaxPool2d(3, stride=2),\n",
        "            nin_block(256, kernel_size=5, strides=1, padding=2),\n",
        "            nn.MaxPool2d(3, stride=2),\n",
        "            nin_block(384, kernel_size=3, strides=1, padding=1),\n",
        "            nn.MaxPool2d(3, stride=2),\n",
        "            nn.Dropout(0.5),\n",
        "            nin_block(num_classes, kernel_size=3, strides=1, padding=1),\n",
        "            nn.AdaptiveAvgPool2d((1, 1)),\n",
        "            nn.Flatten())\n",
        "        self.net.apply(d2l.init_cnn)"
      ],
      "metadata": {
        "id": "s8LAoqSryW72"
      },
      "id": "s8LAoqSryW72",
      "execution_count": null,
      "outputs": []
    },
    {
      "cell_type": "code",
      "source": [
        "NiN().layer_summary((1, 1, 224, 224))"
      ],
      "metadata": {
        "colab": {
          "base_uri": "https://localhost:8080/"
        },
        "id": "T0_3MKV7yc3M",
        "outputId": "c4043ba0-0864-46b6-df0b-cbe426ede226"
      },
      "id": "T0_3MKV7yc3M",
      "execution_count": null,
      "outputs": [
        {
          "output_type": "stream",
          "name": "stdout",
          "text": [
            "Sequential output shape:\t torch.Size([1, 96, 54, 54])\n",
            "MaxPool2d output shape:\t torch.Size([1, 96, 26, 26])\n",
            "Sequential output shape:\t torch.Size([1, 256, 26, 26])\n",
            "MaxPool2d output shape:\t torch.Size([1, 256, 12, 12])\n",
            "Sequential output shape:\t torch.Size([1, 384, 12, 12])\n",
            "MaxPool2d output shape:\t torch.Size([1, 384, 5, 5])\n",
            "Dropout output shape:\t torch.Size([1, 384, 5, 5])\n",
            "Sequential output shape:\t torch.Size([1, 10, 5, 5])\n",
            "AdaptiveAvgPool2d output shape:\t torch.Size([1, 10, 1, 1])\n",
            "Flatten output shape:\t torch.Size([1, 10])\n"
          ]
        }
      ]
    },
    {
      "cell_type": "markdown",
      "source": [
        "## 8.3.3 Training"
      ],
      "metadata": {
        "id": "RzbuEg51yf4S"
      },
      "id": "RzbuEg51yf4S"
    },
    {
      "cell_type": "code",
      "source": [
        "model = NiN(lr=0.05)\n",
        "trainer = d2l.Trainer(max_epochs=10, num_gpus=1)\n",
        "data = d2l.FashionMNIST(batch_size=128, resize=(224, 224))\n",
        "model.apply_init([next(iter(data.get_dataloader(True)))[0]], d2l.init_cnn)\n",
        "trainer.fit(model, data)"
      ],
      "metadata": {
        "colab": {
          "base_uri": "https://localhost:8080/",
          "height": 265
        },
        "id": "wnIucvNLyeyT",
        "outputId": "89292129-453d-4f6d-e2e1-76c861bd1a02"
      },
      "id": "wnIucvNLyeyT",
      "execution_count": null,
      "outputs": [
        {
          "output_type": "display_data",
          "data": {
            "text/plain": [
              "<Figure size 350x250 with 1 Axes>"
            ],
            "image/svg+xml": "<?xml version=\"1.0\" encoding=\"utf-8\" standalone=\"no\"?>\n<!DOCTYPE svg PUBLIC \"-//W3C//DTD SVG 1.1//EN\"\n  \"http://www.w3.org/Graphics/SVG/1.1/DTD/svg11.dtd\">\n<svg xmlns:xlink=\"http://www.w3.org/1999/xlink\" width=\"238.965625pt\" height=\"183.35625pt\" viewBox=\"0 0 238.965625 183.35625\" xmlns=\"http://www.w3.org/2000/svg\" version=\"1.1\">\n <metadata>\n  <rdf:RDF xmlns:dc=\"http://purl.org/dc/elements/1.1/\" xmlns:cc=\"http://creativecommons.org/ns#\" xmlns:rdf=\"http://www.w3.org/1999/02/22-rdf-syntax-ns#\">\n   <cc:Work>\n    <dc:type rdf:resource=\"http://purl.org/dc/dcmitype/StillImage\"/>\n    <dc:date>2024-10-04T13:59:53.964715</dc:date>\n    <dc:format>image/svg+xml</dc:format>\n    <dc:creator>\n     <cc:Agent>\n      <dc:title>Matplotlib v3.7.2, https://matplotlib.org/</dc:title>\n     </cc:Agent>\n    </dc:creator>\n   </cc:Work>\n  </rdf:RDF>\n </metadata>\n <defs>\n  <style type=\"text/css\">*{stroke-linejoin: round; stroke-linecap: butt}</style>\n </defs>\n <g id=\"figure_1\">\n  <g id=\"patch_1\">\n   <path d=\"M 0 183.35625 \nL 238.965625 183.35625 \nL 238.965625 0 \nL 0 0 \nz\n\" style=\"fill: #ffffff\"/>\n  </g>\n  <g id=\"axes_1\">\n   <g id=\"patch_2\">\n    <path d=\"M 30.103125 145.8 \nL 225.403125 145.8 \nL 225.403125 7.2 \nL 30.103125 7.2 \nz\n\" style=\"fill: #ffffff\"/>\n   </g>\n   <g id=\"matplotlib.axis_1\">\n    <g id=\"xtick_1\">\n     <g id=\"line2d_1\">\n      <defs>\n       <path id=\"m0560617b40\" d=\"M 0 0 \nL 0 3.5 \n\" style=\"stroke: #000000; stroke-width: 0.8\"/>\n      </defs>\n      <g>\n       <use xlink:href=\"#m0560617b40\" x=\"30.103125\" y=\"145.8\" style=\"stroke: #000000; stroke-width: 0.8\"/>\n      </g>\n     </g>\n     <g id=\"text_1\">\n      <!-- 0 -->\n      <g transform=\"translate(26.921875 160.398438) scale(0.1 -0.1)\">\n       <defs>\n        <path id=\"DejaVuSans-30\" d=\"M 2034 4250 \nQ 1547 4250 1301 3770 \nQ 1056 3291 1056 2328 \nQ 1056 1369 1301 889 \nQ 1547 409 2034 409 \nQ 2525 409 2770 889 \nQ 3016 1369 3016 2328 \nQ 3016 3291 2770 3770 \nQ 2525 4250 2034 4250 \nz\nM 2034 4750 \nQ 2819 4750 3233 4129 \nQ 3647 3509 3647 2328 \nQ 3647 1150 3233 529 \nQ 2819 -91 2034 -91 \nQ 1250 -91 836 529 \nQ 422 1150 422 2328 \nQ 422 3509 836 4129 \nQ 1250 4750 2034 4750 \nz\n\" transform=\"scale(0.015625)\"/>\n       </defs>\n       <use xlink:href=\"#DejaVuSans-30\"/>\n      </g>\n     </g>\n    </g>\n    <g id=\"xtick_2\">\n     <g id=\"line2d_2\">\n      <g>\n       <use xlink:href=\"#m0560617b40\" x=\"69.163125\" y=\"145.8\" style=\"stroke: #000000; stroke-width: 0.8\"/>\n      </g>\n     </g>\n     <g id=\"text_2\">\n      <!-- 2 -->\n      <g transform=\"translate(65.981875 160.398438) scale(0.1 -0.1)\">\n       <defs>\n        <path id=\"DejaVuSans-32\" d=\"M 1228 531 \nL 3431 531 \nL 3431 0 \nL 469 0 \nL 469 531 \nQ 828 903 1448 1529 \nQ 2069 2156 2228 2338 \nQ 2531 2678 2651 2914 \nQ 2772 3150 2772 3378 \nQ 2772 3750 2511 3984 \nQ 2250 4219 1831 4219 \nQ 1534 4219 1204 4116 \nQ 875 4013 500 3803 \nL 500 4441 \nQ 881 4594 1212 4672 \nQ 1544 4750 1819 4750 \nQ 2544 4750 2975 4387 \nQ 3406 4025 3406 3419 \nQ 3406 3131 3298 2873 \nQ 3191 2616 2906 2266 \nQ 2828 2175 2409 1742 \nQ 1991 1309 1228 531 \nz\n\" transform=\"scale(0.015625)\"/>\n       </defs>\n       <use xlink:href=\"#DejaVuSans-32\"/>\n      </g>\n     </g>\n    </g>\n    <g id=\"xtick_3\">\n     <g id=\"line2d_3\">\n      <g>\n       <use xlink:href=\"#m0560617b40\" x=\"108.223125\" y=\"145.8\" style=\"stroke: #000000; stroke-width: 0.8\"/>\n      </g>\n     </g>\n     <g id=\"text_3\">\n      <!-- 4 -->\n      <g transform=\"translate(105.041875 160.398438) scale(0.1 -0.1)\">\n       <defs>\n        <path id=\"DejaVuSans-34\" d=\"M 2419 4116 \nL 825 1625 \nL 2419 1625 \nL 2419 4116 \nz\nM 2253 4666 \nL 3047 4666 \nL 3047 1625 \nL 3713 1625 \nL 3713 1100 \nL 3047 1100 \nL 3047 0 \nL 2419 0 \nL 2419 1100 \nL 313 1100 \nL 313 1709 \nL 2253 4666 \nz\n\" transform=\"scale(0.015625)\"/>\n       </defs>\n       <use xlink:href=\"#DejaVuSans-34\"/>\n      </g>\n     </g>\n    </g>\n    <g id=\"xtick_4\">\n     <g id=\"line2d_4\">\n      <g>\n       <use xlink:href=\"#m0560617b40\" x=\"147.283125\" y=\"145.8\" style=\"stroke: #000000; stroke-width: 0.8\"/>\n      </g>\n     </g>\n     <g id=\"text_4\">\n      <!-- 6 -->\n      <g transform=\"translate(144.101875 160.398438) scale(0.1 -0.1)\">\n       <defs>\n        <path id=\"DejaVuSans-36\" d=\"M 2113 2584 \nQ 1688 2584 1439 2293 \nQ 1191 2003 1191 1497 \nQ 1191 994 1439 701 \nQ 1688 409 2113 409 \nQ 2538 409 2786 701 \nQ 3034 994 3034 1497 \nQ 3034 2003 2786 2293 \nQ 2538 2584 2113 2584 \nz\nM 3366 4563 \nL 3366 3988 \nQ 3128 4100 2886 4159 \nQ 2644 4219 2406 4219 \nQ 1781 4219 1451 3797 \nQ 1122 3375 1075 2522 \nQ 1259 2794 1537 2939 \nQ 1816 3084 2150 3084 \nQ 2853 3084 3261 2657 \nQ 3669 2231 3669 1497 \nQ 3669 778 3244 343 \nQ 2819 -91 2113 -91 \nQ 1303 -91 875 529 \nQ 447 1150 447 2328 \nQ 447 3434 972 4092 \nQ 1497 4750 2381 4750 \nQ 2619 4750 2861 4703 \nQ 3103 4656 3366 4563 \nz\n\" transform=\"scale(0.015625)\"/>\n       </defs>\n       <use xlink:href=\"#DejaVuSans-36\"/>\n      </g>\n     </g>\n    </g>\n    <g id=\"xtick_5\">\n     <g id=\"line2d_5\">\n      <g>\n       <use xlink:href=\"#m0560617b40\" x=\"186.343125\" y=\"145.8\" style=\"stroke: #000000; stroke-width: 0.8\"/>\n      </g>\n     </g>\n     <g id=\"text_5\">\n      <!-- 8 -->\n      <g transform=\"translate(183.161875 160.398438) scale(0.1 -0.1)\">\n       <defs>\n        <path id=\"DejaVuSans-38\" d=\"M 2034 2216 \nQ 1584 2216 1326 1975 \nQ 1069 1734 1069 1313 \nQ 1069 891 1326 650 \nQ 1584 409 2034 409 \nQ 2484 409 2743 651 \nQ 3003 894 3003 1313 \nQ 3003 1734 2745 1975 \nQ 2488 2216 2034 2216 \nz\nM 1403 2484 \nQ 997 2584 770 2862 \nQ 544 3141 544 3541 \nQ 544 4100 942 4425 \nQ 1341 4750 2034 4750 \nQ 2731 4750 3128 4425 \nQ 3525 4100 3525 3541 \nQ 3525 3141 3298 2862 \nQ 3072 2584 2669 2484 \nQ 3125 2378 3379 2068 \nQ 3634 1759 3634 1313 \nQ 3634 634 3220 271 \nQ 2806 -91 2034 -91 \nQ 1263 -91 848 271 \nQ 434 634 434 1313 \nQ 434 1759 690 2068 \nQ 947 2378 1403 2484 \nz\nM 1172 3481 \nQ 1172 3119 1398 2916 \nQ 1625 2713 2034 2713 \nQ 2441 2713 2670 2916 \nQ 2900 3119 2900 3481 \nQ 2900 3844 2670 4047 \nQ 2441 4250 2034 4250 \nQ 1625 4250 1398 4047 \nQ 1172 3844 1172 3481 \nz\n\" transform=\"scale(0.015625)\"/>\n       </defs>\n       <use xlink:href=\"#DejaVuSans-38\"/>\n      </g>\n     </g>\n    </g>\n    <g id=\"xtick_6\">\n     <g id=\"line2d_6\">\n      <g>\n       <use xlink:href=\"#m0560617b40\" x=\"225.403125\" y=\"145.8\" style=\"stroke: #000000; stroke-width: 0.8\"/>\n      </g>\n     </g>\n     <g id=\"text_6\">\n      <!-- 10 -->\n      <g transform=\"translate(219.040625 160.398438) scale(0.1 -0.1)\">\n       <defs>\n        <path id=\"DejaVuSans-31\" d=\"M 794 531 \nL 1825 531 \nL 1825 4091 \nL 703 3866 \nL 703 4441 \nL 1819 4666 \nL 2450 4666 \nL 2450 531 \nL 3481 531 \nL 3481 0 \nL 794 0 \nL 794 531 \nz\n\" transform=\"scale(0.015625)\"/>\n       </defs>\n       <use xlink:href=\"#DejaVuSans-31\"/>\n       <use xlink:href=\"#DejaVuSans-30\" x=\"63.623047\"/>\n      </g>\n     </g>\n    </g>\n    <g id=\"text_7\">\n     <!-- epoch -->\n     <g transform=\"translate(112.525 174.076563) scale(0.1 -0.1)\">\n      <defs>\n       <path id=\"DejaVuSans-65\" d=\"M 3597 1894 \nL 3597 1613 \nL 953 1613 \nQ 991 1019 1311 708 \nQ 1631 397 2203 397 \nQ 2534 397 2845 478 \nQ 3156 559 3463 722 \nL 3463 178 \nQ 3153 47 2828 -22 \nQ 2503 -91 2169 -91 \nQ 1331 -91 842 396 \nQ 353 884 353 1716 \nQ 353 2575 817 3079 \nQ 1281 3584 2069 3584 \nQ 2775 3584 3186 3129 \nQ 3597 2675 3597 1894 \nz\nM 3022 2063 \nQ 3016 2534 2758 2815 \nQ 2500 3097 2075 3097 \nQ 1594 3097 1305 2825 \nQ 1016 2553 972 2059 \nL 3022 2063 \nz\n\" transform=\"scale(0.015625)\"/>\n       <path id=\"DejaVuSans-70\" d=\"M 1159 525 \nL 1159 -1331 \nL 581 -1331 \nL 581 3500 \nL 1159 3500 \nL 1159 2969 \nQ 1341 3281 1617 3432 \nQ 1894 3584 2278 3584 \nQ 2916 3584 3314 3078 \nQ 3713 2572 3713 1747 \nQ 3713 922 3314 415 \nQ 2916 -91 2278 -91 \nQ 1894 -91 1617 61 \nQ 1341 213 1159 525 \nz\nM 3116 1747 \nQ 3116 2381 2855 2742 \nQ 2594 3103 2138 3103 \nQ 1681 3103 1420 2742 \nQ 1159 2381 1159 1747 \nQ 1159 1113 1420 752 \nQ 1681 391 2138 391 \nQ 2594 391 2855 752 \nQ 3116 1113 3116 1747 \nz\n\" transform=\"scale(0.015625)\"/>\n       <path id=\"DejaVuSans-6f\" d=\"M 1959 3097 \nQ 1497 3097 1228 2736 \nQ 959 2375 959 1747 \nQ 959 1119 1226 758 \nQ 1494 397 1959 397 \nQ 2419 397 2687 759 \nQ 2956 1122 2956 1747 \nQ 2956 2369 2687 2733 \nQ 2419 3097 1959 3097 \nz\nM 1959 3584 \nQ 2709 3584 3137 3096 \nQ 3566 2609 3566 1747 \nQ 3566 888 3137 398 \nQ 2709 -91 1959 -91 \nQ 1206 -91 779 398 \nQ 353 888 353 1747 \nQ 353 2609 779 3096 \nQ 1206 3584 1959 3584 \nz\n\" transform=\"scale(0.015625)\"/>\n       <path id=\"DejaVuSans-63\" d=\"M 3122 3366 \nL 3122 2828 \nQ 2878 2963 2633 3030 \nQ 2388 3097 2138 3097 \nQ 1578 3097 1268 2742 \nQ 959 2388 959 1747 \nQ 959 1106 1268 751 \nQ 1578 397 2138 397 \nQ 2388 397 2633 464 \nQ 2878 531 3122 666 \nL 3122 134 \nQ 2881 22 2623 -34 \nQ 2366 -91 2075 -91 \nQ 1284 -91 818 406 \nQ 353 903 353 1747 \nQ 353 2603 823 3093 \nQ 1294 3584 2113 3584 \nQ 2378 3584 2631 3529 \nQ 2884 3475 3122 3366 \nz\n\" transform=\"scale(0.015625)\"/>\n       <path id=\"DejaVuSans-68\" d=\"M 3513 2113 \nL 3513 0 \nL 2938 0 \nL 2938 2094 \nQ 2938 2591 2744 2837 \nQ 2550 3084 2163 3084 \nQ 1697 3084 1428 2787 \nQ 1159 2491 1159 1978 \nL 1159 0 \nL 581 0 \nL 581 4863 \nL 1159 4863 \nL 1159 2956 \nQ 1366 3272 1645 3428 \nQ 1925 3584 2291 3584 \nQ 2894 3584 3203 3211 \nQ 3513 2838 3513 2113 \nz\n\" transform=\"scale(0.015625)\"/>\n      </defs>\n      <use xlink:href=\"#DejaVuSans-65\"/>\n      <use xlink:href=\"#DejaVuSans-70\" x=\"61.523438\"/>\n      <use xlink:href=\"#DejaVuSans-6f\" x=\"125\"/>\n      <use xlink:href=\"#DejaVuSans-63\" x=\"186.181641\"/>\n      <use xlink:href=\"#DejaVuSans-68\" x=\"241.162109\"/>\n     </g>\n    </g>\n   </g>\n   <g id=\"matplotlib.axis_2\">\n    <g id=\"ytick_1\">\n     <g id=\"line2d_7\">\n      <defs>\n       <path id=\"md1a848cd07\" d=\"M 0 0 \nL -3.5 0 \n\" style=\"stroke: #000000; stroke-width: 0.8\"/>\n      </defs>\n      <g>\n       <use xlink:href=\"#md1a848cd07\" x=\"30.103125\" y=\"121.69844\" style=\"stroke: #000000; stroke-width: 0.8\"/>\n      </g>\n     </g>\n     <g id=\"text_8\">\n      <!-- 0.5 -->\n      <g transform=\"translate(7.2 125.497658) scale(0.1 -0.1)\">\n       <defs>\n        <path id=\"DejaVuSans-2e\" d=\"M 684 794 \nL 1344 794 \nL 1344 0 \nL 684 0 \nL 684 794 \nz\n\" transform=\"scale(0.015625)\"/>\n        <path id=\"DejaVuSans-35\" d=\"M 691 4666 \nL 3169 4666 \nL 3169 4134 \nL 1269 4134 \nL 1269 2991 \nQ 1406 3038 1543 3061 \nQ 1681 3084 1819 3084 \nQ 2600 3084 3056 2656 \nQ 3513 2228 3513 1497 \nQ 3513 744 3044 326 \nQ 2575 -91 1722 -91 \nQ 1428 -91 1123 -41 \nQ 819 9 494 109 \nL 494 744 \nQ 775 591 1075 516 \nQ 1375 441 1709 441 \nQ 2250 441 2565 725 \nQ 2881 1009 2881 1497 \nQ 2881 1984 2565 2268 \nQ 2250 2553 1709 2553 \nQ 1456 2553 1204 2497 \nQ 953 2441 691 2322 \nL 691 4666 \nz\n\" transform=\"scale(0.015625)\"/>\n       </defs>\n       <use xlink:href=\"#DejaVuSans-30\"/>\n       <use xlink:href=\"#DejaVuSans-2e\" x=\"63.623047\"/>\n       <use xlink:href=\"#DejaVuSans-35\" x=\"95.410156\"/>\n      </g>\n     </g>\n    </g>\n    <g id=\"ytick_2\">\n     <g id=\"line2d_8\">\n      <g>\n       <use xlink:href=\"#md1a848cd07\" x=\"30.103125\" y=\"91.726848\" style=\"stroke: #000000; stroke-width: 0.8\"/>\n      </g>\n     </g>\n     <g id=\"text_9\">\n      <!-- 1.0 -->\n      <g transform=\"translate(7.2 95.526067) scale(0.1 -0.1)\">\n       <use xlink:href=\"#DejaVuSans-31\"/>\n       <use xlink:href=\"#DejaVuSans-2e\" x=\"63.623047\"/>\n       <use xlink:href=\"#DejaVuSans-30\" x=\"95.410156\"/>\n      </g>\n     </g>\n    </g>\n    <g id=\"ytick_3\">\n     <g id=\"line2d_9\">\n      <g>\n       <use xlink:href=\"#md1a848cd07\" x=\"30.103125\" y=\"61.755257\" style=\"stroke: #000000; stroke-width: 0.8\"/>\n      </g>\n     </g>\n     <g id=\"text_10\">\n      <!-- 1.5 -->\n      <g transform=\"translate(7.2 65.554476) scale(0.1 -0.1)\">\n       <use xlink:href=\"#DejaVuSans-31\"/>\n       <use xlink:href=\"#DejaVuSans-2e\" x=\"63.623047\"/>\n       <use xlink:href=\"#DejaVuSans-35\" x=\"95.410156\"/>\n      </g>\n     </g>\n    </g>\n    <g id=\"ytick_4\">\n     <g id=\"line2d_10\">\n      <g>\n       <use xlink:href=\"#md1a848cd07\" x=\"30.103125\" y=\"31.783665\" style=\"stroke: #000000; stroke-width: 0.8\"/>\n      </g>\n     </g>\n     <g id=\"text_11\">\n      <!-- 2.0 -->\n      <g transform=\"translate(7.2 35.582884) scale(0.1 -0.1)\">\n       <use xlink:href=\"#DejaVuSans-32\"/>\n       <use xlink:href=\"#DejaVuSans-2e\" x=\"63.623047\"/>\n       <use xlink:href=\"#DejaVuSans-30\" x=\"95.410156\"/>\n      </g>\n     </g>\n    </g>\n   </g>\n   <g id=\"line2d_11\">\n    <path d=\"M 34.954394 13.5 \n\" clip-path=\"url(#pb935a7f9b6)\" style=\"fill: none; stroke: #1f77b4; stroke-width: 1.5; stroke-linecap: square\"/>\n   </g>\n   <g id=\"line2d_12\">\n    <path d=\"M 34.954394 13.5 \nL 44.698573 16.693677 \n\" clip-path=\"url(#pb935a7f9b6)\" style=\"fill: none; stroke: #1f77b4; stroke-width: 1.5; stroke-linecap: square\"/>\n   </g>\n   <g id=\"line2d_13\">\n    <path d=\"M 34.954394 13.5 \nL 44.698573 16.693677 \n\" clip-path=\"url(#pb935a7f9b6)\" style=\"fill: none; stroke: #1f77b4; stroke-width: 1.5; stroke-linecap: square\"/>\n   </g>\n   <g id=\"line2d_14\">\n    <path d=\"M 49.633125 29.153892 \n\" clip-path=\"url(#pb935a7f9b6)\" style=\"fill: none; stroke-dasharray: 5.55,2.4; stroke-dashoffset: 0; stroke: #ff7f0e; stroke-width: 1.5\"/>\n   </g>\n   <g id=\"line2d_15\"/>\n   <g id=\"line2d_16\">\n    <path d=\"M 34.954394 13.5 \nL 44.698573 16.693677 \n\" clip-path=\"url(#pb935a7f9b6)\" style=\"fill: none; stroke: #1f77b4; stroke-width: 1.5; stroke-linecap: square\"/>\n   </g>\n   <g id=\"line2d_17\">\n    <path d=\"M 49.633125 29.153892 \n\" clip-path=\"url(#pb935a7f9b6)\" style=\"fill: none; stroke-dasharray: 5.55,2.4; stroke-dashoffset: 0; stroke: #ff7f0e; stroke-width: 1.5\"/>\n   </g>\n   <g id=\"line2d_18\">\n    <path d=\"M 49.633125 139.5 \n\" clip-path=\"url(#pb935a7f9b6)\" style=\"fill: none; stroke-dasharray: 9.6,2.4,1.5,2.4; stroke-dashoffset: 0; stroke: #2ca02c; stroke-width: 1.5\"/>\n   </g>\n   <g id=\"line2d_19\">\n    <path d=\"M 34.954394 13.5 \nL 44.698573 16.693677 \nL 54.442752 45.507804 \n\" clip-path=\"url(#pb935a7f9b6)\" style=\"fill: none; stroke: #1f77b4; stroke-width: 1.5; stroke-linecap: square\"/>\n   </g>\n   <g id=\"line2d_20\">\n    <path d=\"M 49.633125 29.153892 \n\" clip-path=\"url(#pb935a7f9b6)\" style=\"fill: none; stroke-dasharray: 5.55,2.4; stroke-dashoffset: 0; stroke: #ff7f0e; stroke-width: 1.5\"/>\n   </g>\n   <g id=\"line2d_21\">\n    <path d=\"M 49.633125 139.5 \n\" clip-path=\"url(#pb935a7f9b6)\" style=\"fill: none; stroke-dasharray: 9.6,2.4,1.5,2.4; stroke-dashoffset: 0; stroke: #2ca02c; stroke-width: 1.5\"/>\n   </g>\n   <g id=\"line2d_22\">\n    <path d=\"M 34.954394 13.5 \nL 44.698573 16.693677 \nL 54.442752 45.507804 \nL 64.186931 47.300058 \n\" clip-path=\"url(#pb935a7f9b6)\" style=\"fill: none; stroke: #1f77b4; stroke-width: 1.5; stroke-linecap: square\"/>\n   </g>\n   <g id=\"line2d_23\">\n    <path d=\"M 49.633125 29.153892 \n\" clip-path=\"url(#pb935a7f9b6)\" style=\"fill: none; stroke-dasharray: 5.55,2.4; stroke-dashoffset: 0; stroke: #ff7f0e; stroke-width: 1.5\"/>\n   </g>\n   <g id=\"line2d_24\">\n    <path d=\"M 49.633125 139.5 \n\" clip-path=\"url(#pb935a7f9b6)\" style=\"fill: none; stroke-dasharray: 9.6,2.4,1.5,2.4; stroke-dashoffset: 0; stroke: #2ca02c; stroke-width: 1.5\"/>\n   </g>\n   <g id=\"line2d_25\">\n    <path d=\"M 34.954394 13.5 \nL 44.698573 16.693677 \nL 54.442752 45.507804 \nL 64.186931 47.300058 \n\" clip-path=\"url(#pb935a7f9b6)\" style=\"fill: none; stroke: #1f77b4; stroke-width: 1.5; stroke-linecap: square\"/>\n   </g>\n   <g id=\"line2d_26\">\n    <path d=\"M 49.633125 29.153892 \nL 69.163125 55.108843 \n\" clip-path=\"url(#pb935a7f9b6)\" style=\"fill: none; stroke-dasharray: 5.55,2.4; stroke-dashoffset: 0; stroke: #ff7f0e; stroke-width: 1.5\"/>\n   </g>\n   <g id=\"line2d_27\">\n    <path d=\"M 49.633125 139.5 \n\" clip-path=\"url(#pb935a7f9b6)\" style=\"fill: none; stroke-dasharray: 9.6,2.4,1.5,2.4; stroke-dashoffset: 0; stroke: #2ca02c; stroke-width: 1.5\"/>\n   </g>\n   <g id=\"line2d_28\">\n    <path d=\"M 34.954394 13.5 \nL 44.698573 16.693677 \nL 54.442752 45.507804 \nL 64.186931 47.300058 \n\" clip-path=\"url(#pb935a7f9b6)\" style=\"fill: none; stroke: #1f77b4; stroke-width: 1.5; stroke-linecap: square\"/>\n   </g>\n   <g id=\"line2d_29\">\n    <path d=\"M 49.633125 29.153892 \nL 69.163125 55.108843 \n\" clip-path=\"url(#pb935a7f9b6)\" style=\"fill: none; stroke-dasharray: 5.55,2.4; stroke-dashoffset: 0; stroke: #ff7f0e; stroke-width: 1.5\"/>\n   </g>\n   <g id=\"line2d_30\">\n    <path d=\"M 49.633125 139.5 \nL 69.163125 127.086924 \n\" clip-path=\"url(#pb935a7f9b6)\" style=\"fill: none; stroke-dasharray: 9.6,2.4,1.5,2.4; stroke-dashoffset: 0; stroke: #2ca02c; stroke-width: 1.5\"/>\n   </g>\n   <g id=\"line2d_31\">\n    <path d=\"M 34.954394 13.5 \nL 44.698573 16.693677 \nL 54.442752 45.507804 \nL 64.186931 47.300058 \nL 73.93111 68.288889 \n\" clip-path=\"url(#pb935a7f9b6)\" style=\"fill: none; stroke: #1f77b4; stroke-width: 1.5; stroke-linecap: square\"/>\n   </g>\n   <g id=\"line2d_32\">\n    <path d=\"M 49.633125 29.153892 \nL 69.163125 55.108843 \n\" clip-path=\"url(#pb935a7f9b6)\" style=\"fill: none; stroke-dasharray: 5.55,2.4; stroke-dashoffset: 0; stroke: #ff7f0e; stroke-width: 1.5\"/>\n   </g>\n   <g id=\"line2d_33\">\n    <path d=\"M 49.633125 139.5 \nL 69.163125 127.086924 \n\" clip-path=\"url(#pb935a7f9b6)\" style=\"fill: none; stroke-dasharray: 9.6,2.4,1.5,2.4; stroke-dashoffset: 0; stroke: #2ca02c; stroke-width: 1.5\"/>\n   </g>\n   <g id=\"line2d_34\">\n    <path d=\"M 34.954394 13.5 \nL 44.698573 16.693677 \nL 54.442752 45.507804 \nL 64.186931 47.300058 \nL 73.93111 68.288889 \nL 83.675289 89.165404 \n\" clip-path=\"url(#pb935a7f9b6)\" style=\"fill: none; stroke: #1f77b4; stroke-width: 1.5; stroke-linecap: square\"/>\n   </g>\n   <g id=\"line2d_35\">\n    <path d=\"M 49.633125 29.153892 \nL 69.163125 55.108843 \n\" clip-path=\"url(#pb935a7f9b6)\" style=\"fill: none; stroke-dasharray: 5.55,2.4; stroke-dashoffset: 0; stroke: #ff7f0e; stroke-width: 1.5\"/>\n   </g>\n   <g id=\"line2d_36\">\n    <path d=\"M 49.633125 139.5 \nL 69.163125 127.086924 \n\" clip-path=\"url(#pb935a7f9b6)\" style=\"fill: none; stroke-dasharray: 9.6,2.4,1.5,2.4; stroke-dashoffset: 0; stroke: #2ca02c; stroke-width: 1.5\"/>\n   </g>\n   <g id=\"line2d_37\">\n    <path d=\"M 34.954394 13.5 \nL 44.698573 16.693677 \nL 54.442752 45.507804 \nL 64.186931 47.300058 \nL 73.93111 68.288889 \nL 83.675289 89.165404 \n\" clip-path=\"url(#pb935a7f9b6)\" style=\"fill: none; stroke: #1f77b4; stroke-width: 1.5; stroke-linecap: square\"/>\n   </g>\n   <g id=\"line2d_38\">\n    <path d=\"M 49.633125 29.153892 \nL 69.163125 55.108843 \nL 88.693125 94.232781 \n\" clip-path=\"url(#pb935a7f9b6)\" style=\"fill: none; stroke-dasharray: 5.55,2.4; stroke-dashoffset: 0; stroke: #ff7f0e; stroke-width: 1.5\"/>\n   </g>\n   <g id=\"line2d_39\">\n    <path d=\"M 49.633125 139.5 \nL 69.163125 127.086924 \n\" clip-path=\"url(#pb935a7f9b6)\" style=\"fill: none; stroke-dasharray: 9.6,2.4,1.5,2.4; stroke-dashoffset: 0; stroke: #2ca02c; stroke-width: 1.5\"/>\n   </g>\n   <g id=\"line2d_40\">\n    <path d=\"M 34.954394 13.5 \nL 44.698573 16.693677 \nL 54.442752 45.507804 \nL 64.186931 47.300058 \nL 73.93111 68.288889 \nL 83.675289 89.165404 \n\" clip-path=\"url(#pb935a7f9b6)\" style=\"fill: none; stroke: #1f77b4; stroke-width: 1.5; stroke-linecap: square\"/>\n   </g>\n   <g id=\"line2d_41\">\n    <path d=\"M 49.633125 29.153892 \nL 69.163125 55.108843 \nL 88.693125 94.232781 \n\" clip-path=\"url(#pb935a7f9b6)\" style=\"fill: none; stroke-dasharray: 5.55,2.4; stroke-dashoffset: 0; stroke: #ff7f0e; stroke-width: 1.5\"/>\n   </g>\n   <g id=\"line2d_42\">\n    <path d=\"M 49.633125 139.5 \nL 69.163125 127.086924 \nL 88.693125 113.452695 \n\" clip-path=\"url(#pb935a7f9b6)\" style=\"fill: none; stroke-dasharray: 9.6,2.4,1.5,2.4; stroke-dashoffset: 0; stroke: #2ca02c; stroke-width: 1.5\"/>\n   </g>\n   <g id=\"line2d_43\">\n    <path d=\"M 34.954394 13.5 \nL 44.698573 16.693677 \nL 54.442752 45.507804 \nL 64.186931 47.300058 \nL 73.93111 68.288889 \nL 83.675289 89.165404 \nL 93.419468 101.57276 \n\" clip-path=\"url(#pb935a7f9b6)\" style=\"fill: none; stroke: #1f77b4; stroke-width: 1.5; stroke-linecap: square\"/>\n   </g>\n   <g id=\"line2d_44\">\n    <path d=\"M 49.633125 29.153892 \nL 69.163125 55.108843 \nL 88.693125 94.232781 \n\" clip-path=\"url(#pb935a7f9b6)\" style=\"fill: none; stroke-dasharray: 5.55,2.4; stroke-dashoffset: 0; stroke: #ff7f0e; stroke-width: 1.5\"/>\n   </g>\n   <g id=\"line2d_45\">\n    <path d=\"M 49.633125 139.5 \nL 69.163125 127.086924 \nL 88.693125 113.452695 \n\" clip-path=\"url(#pb935a7f9b6)\" style=\"fill: none; stroke-dasharray: 9.6,2.4,1.5,2.4; stroke-dashoffset: 0; stroke: #2ca02c; stroke-width: 1.5\"/>\n   </g>\n   <g id=\"line2d_46\">\n    <path d=\"M 34.954394 13.5 \nL 44.698573 16.693677 \nL 54.442752 45.507804 \nL 64.186931 47.300058 \nL 73.93111 68.288889 \nL 83.675289 89.165404 \nL 93.419468 101.57276 \nL 103.163647 106.296251 \n\" clip-path=\"url(#pb935a7f9b6)\" style=\"fill: none; stroke: #1f77b4; stroke-width: 1.5; stroke-linecap: square\"/>\n   </g>\n   <g id=\"line2d_47\">\n    <path d=\"M 49.633125 29.153892 \nL 69.163125 55.108843 \nL 88.693125 94.232781 \n\" clip-path=\"url(#pb935a7f9b6)\" style=\"fill: none; stroke-dasharray: 5.55,2.4; stroke-dashoffset: 0; stroke: #ff7f0e; stroke-width: 1.5\"/>\n   </g>\n   <g id=\"line2d_48\">\n    <path d=\"M 49.633125 139.5 \nL 69.163125 127.086924 \nL 88.693125 113.452695 \n\" clip-path=\"url(#pb935a7f9b6)\" style=\"fill: none; stroke-dasharray: 9.6,2.4,1.5,2.4; stroke-dashoffset: 0; stroke: #2ca02c; stroke-width: 1.5\"/>\n   </g>\n   <g id=\"line2d_49\">\n    <path d=\"M 34.954394 13.5 \nL 44.698573 16.693677 \nL 54.442752 45.507804 \nL 64.186931 47.300058 \nL 73.93111 68.288889 \nL 83.675289 89.165404 \nL 93.419468 101.57276 \nL 103.163647 106.296251 \n\" clip-path=\"url(#pb935a7f9b6)\" style=\"fill: none; stroke: #1f77b4; stroke-width: 1.5; stroke-linecap: square\"/>\n   </g>\n   <g id=\"line2d_50\">\n    <path d=\"M 49.633125 29.153892 \nL 69.163125 55.108843 \nL 88.693125 94.232781 \nL 108.223125 110.048287 \n\" clip-path=\"url(#pb935a7f9b6)\" style=\"fill: none; stroke-dasharray: 5.55,2.4; stroke-dashoffset: 0; stroke: #ff7f0e; stroke-width: 1.5\"/>\n   </g>\n   <g id=\"line2d_51\">\n    <path d=\"M 49.633125 139.5 \nL 69.163125 127.086924 \nL 88.693125 113.452695 \n\" clip-path=\"url(#pb935a7f9b6)\" style=\"fill: none; stroke-dasharray: 9.6,2.4,1.5,2.4; stroke-dashoffset: 0; stroke: #2ca02c; stroke-width: 1.5\"/>\n   </g>\n   <g id=\"line2d_52\">\n    <path d=\"M 34.954394 13.5 \nL 44.698573 16.693677 \nL 54.442752 45.507804 \nL 64.186931 47.300058 \nL 73.93111 68.288889 \nL 83.675289 89.165404 \nL 93.419468 101.57276 \nL 103.163647 106.296251 \n\" clip-path=\"url(#pb935a7f9b6)\" style=\"fill: none; stroke: #1f77b4; stroke-width: 1.5; stroke-linecap: square\"/>\n   </g>\n   <g id=\"line2d_53\">\n    <path d=\"M 49.633125 29.153892 \nL 69.163125 55.108843 \nL 88.693125 94.232781 \nL 108.223125 110.048287 \n\" clip-path=\"url(#pb935a7f9b6)\" style=\"fill: none; stroke-dasharray: 5.55,2.4; stroke-dashoffset: 0; stroke: #ff7f0e; stroke-width: 1.5\"/>\n   </g>\n   <g id=\"line2d_54\">\n    <path d=\"M 49.633125 139.5 \nL 69.163125 127.086924 \nL 88.693125 113.452695 \nL 108.223125 107.127599 \n\" clip-path=\"url(#pb935a7f9b6)\" style=\"fill: none; stroke-dasharray: 9.6,2.4,1.5,2.4; stroke-dashoffset: 0; stroke: #2ca02c; stroke-width: 1.5\"/>\n   </g>\n   <g id=\"line2d_55\">\n    <path d=\"M 34.954394 13.5 \nL 44.698573 16.693677 \nL 54.442752 45.507804 \nL 64.186931 47.300058 \nL 73.93111 68.288889 \nL 83.675289 89.165404 \nL 93.419468 101.57276 \nL 103.163647 106.296251 \nL 112.907826 110.418502 \n\" clip-path=\"url(#pb935a7f9b6)\" style=\"fill: none; stroke: #1f77b4; stroke-width: 1.5; stroke-linecap: square\"/>\n   </g>\n   <g id=\"line2d_56\">\n    <path d=\"M 49.633125 29.153892 \nL 69.163125 55.108843 \nL 88.693125 94.232781 \nL 108.223125 110.048287 \n\" clip-path=\"url(#pb935a7f9b6)\" style=\"fill: none; stroke-dasharray: 5.55,2.4; stroke-dashoffset: 0; stroke: #ff7f0e; stroke-width: 1.5\"/>\n   </g>\n   <g id=\"line2d_57\">\n    <path d=\"M 49.633125 139.5 \nL 69.163125 127.086924 \nL 88.693125 113.452695 \nL 108.223125 107.127599 \n\" clip-path=\"url(#pb935a7f9b6)\" style=\"fill: none; stroke-dasharray: 9.6,2.4,1.5,2.4; stroke-dashoffset: 0; stroke: #2ca02c; stroke-width: 1.5\"/>\n   </g>\n   <g id=\"line2d_58\">\n    <path d=\"M 34.954394 13.5 \nL 44.698573 16.693677 \nL 54.442752 45.507804 \nL 64.186931 47.300058 \nL 73.93111 68.288889 \nL 83.675289 89.165404 \nL 93.419468 101.57276 \nL 103.163647 106.296251 \nL 112.907826 110.418502 \nL 122.652006 113.505843 \n\" clip-path=\"url(#pb935a7f9b6)\" style=\"fill: none; stroke: #1f77b4; stroke-width: 1.5; stroke-linecap: square\"/>\n   </g>\n   <g id=\"line2d_59\">\n    <path d=\"M 49.633125 29.153892 \nL 69.163125 55.108843 \nL 88.693125 94.232781 \nL 108.223125 110.048287 \n\" clip-path=\"url(#pb935a7f9b6)\" style=\"fill: none; stroke-dasharray: 5.55,2.4; stroke-dashoffset: 0; stroke: #ff7f0e; stroke-width: 1.5\"/>\n   </g>\n   <g id=\"line2d_60\">\n    <path d=\"M 49.633125 139.5 \nL 69.163125 127.086924 \nL 88.693125 113.452695 \nL 108.223125 107.127599 \n\" clip-path=\"url(#pb935a7f9b6)\" style=\"fill: none; stroke-dasharray: 9.6,2.4,1.5,2.4; stroke-dashoffset: 0; stroke: #2ca02c; stroke-width: 1.5\"/>\n   </g>\n   <g id=\"line2d_61\">\n    <path d=\"M 34.954394 13.5 \nL 44.698573 16.693677 \nL 54.442752 45.507804 \nL 64.186931 47.300058 \nL 73.93111 68.288889 \nL 83.675289 89.165404 \nL 93.419468 101.57276 \nL 103.163647 106.296251 \nL 112.907826 110.418502 \nL 122.652006 113.505843 \n\" clip-path=\"url(#pb935a7f9b6)\" style=\"fill: none; stroke: #1f77b4; stroke-width: 1.5; stroke-linecap: square\"/>\n   </g>\n   <g id=\"line2d_62\">\n    <path d=\"M 49.633125 29.153892 \nL 69.163125 55.108843 \nL 88.693125 94.232781 \nL 108.223125 110.048287 \nL 127.753125 112.695117 \n\" clip-path=\"url(#pb935a7f9b6)\" style=\"fill: none; stroke-dasharray: 5.55,2.4; stroke-dashoffset: 0; stroke: #ff7f0e; stroke-width: 1.5\"/>\n   </g>\n   <g id=\"line2d_63\">\n    <path d=\"M 49.633125 139.5 \nL 69.163125 127.086924 \nL 88.693125 113.452695 \nL 108.223125 107.127599 \n\" clip-path=\"url(#pb935a7f9b6)\" style=\"fill: none; stroke-dasharray: 9.6,2.4,1.5,2.4; stroke-dashoffset: 0; stroke: #2ca02c; stroke-width: 1.5\"/>\n   </g>\n   <g id=\"line2d_64\">\n    <path d=\"M 34.954394 13.5 \nL 44.698573 16.693677 \nL 54.442752 45.507804 \nL 64.186931 47.300058 \nL 73.93111 68.288889 \nL 83.675289 89.165404 \nL 93.419468 101.57276 \nL 103.163647 106.296251 \nL 112.907826 110.418502 \nL 122.652006 113.505843 \n\" clip-path=\"url(#pb935a7f9b6)\" style=\"fill: none; stroke: #1f77b4; stroke-width: 1.5; stroke-linecap: square\"/>\n   </g>\n   <g id=\"line2d_65\">\n    <path d=\"M 49.633125 29.153892 \nL 69.163125 55.108843 \nL 88.693125 94.232781 \nL 108.223125 110.048287 \nL 127.753125 112.695117 \n\" clip-path=\"url(#pb935a7f9b6)\" style=\"fill: none; stroke-dasharray: 5.55,2.4; stroke-dashoffset: 0; stroke: #ff7f0e; stroke-width: 1.5\"/>\n   </g>\n   <g id=\"line2d_66\">\n    <path d=\"M 49.633125 139.5 \nL 69.163125 127.086924 \nL 88.693125 113.452695 \nL 108.223125 107.127599 \nL 127.753125 106.848986 \n\" clip-path=\"url(#pb935a7f9b6)\" style=\"fill: none; stroke-dasharray: 9.6,2.4,1.5,2.4; stroke-dashoffset: 0; stroke: #2ca02c; stroke-width: 1.5\"/>\n   </g>\n   <g id=\"line2d_67\">\n    <path d=\"M 34.954394 13.5 \nL 44.698573 16.693677 \nL 54.442752 45.507804 \nL 64.186931 47.300058 \nL 73.93111 68.288889 \nL 83.675289 89.165404 \nL 93.419468 101.57276 \nL 103.163647 106.296251 \nL 112.907826 110.418502 \nL 122.652006 113.505843 \nL 132.396185 116.433926 \n\" clip-path=\"url(#pb935a7f9b6)\" style=\"fill: none; stroke: #1f77b4; stroke-width: 1.5; stroke-linecap: square\"/>\n   </g>\n   <g id=\"line2d_68\">\n    <path d=\"M 49.633125 29.153892 \nL 69.163125 55.108843 \nL 88.693125 94.232781 \nL 108.223125 110.048287 \nL 127.753125 112.695117 \n\" clip-path=\"url(#pb935a7f9b6)\" style=\"fill: none; stroke-dasharray: 5.55,2.4; stroke-dashoffset: 0; stroke: #ff7f0e; stroke-width: 1.5\"/>\n   </g>\n   <g id=\"line2d_69\">\n    <path d=\"M 49.633125 139.5 \nL 69.163125 127.086924 \nL 88.693125 113.452695 \nL 108.223125 107.127599 \nL 127.753125 106.848986 \n\" clip-path=\"url(#pb935a7f9b6)\" style=\"fill: none; stroke-dasharray: 9.6,2.4,1.5,2.4; stroke-dashoffset: 0; stroke: #2ca02c; stroke-width: 1.5\"/>\n   </g>\n   <g id=\"line2d_70\">\n    <path d=\"M 34.954394 13.5 \nL 44.698573 16.693677 \nL 54.442752 45.507804 \nL 64.186931 47.300058 \nL 73.93111 68.288889 \nL 83.675289 89.165404 \nL 93.419468 101.57276 \nL 103.163647 106.296251 \nL 112.907826 110.418502 \nL 122.652006 113.505843 \nL 132.396185 116.433926 \nL 142.140364 118.630031 \n\" clip-path=\"url(#pb935a7f9b6)\" style=\"fill: none; stroke: #1f77b4; stroke-width: 1.5; stroke-linecap: square\"/>\n   </g>\n   <g id=\"line2d_71\">\n    <path d=\"M 49.633125 29.153892 \nL 69.163125 55.108843 \nL 88.693125 94.232781 \nL 108.223125 110.048287 \nL 127.753125 112.695117 \n\" clip-path=\"url(#pb935a7f9b6)\" style=\"fill: none; stroke-dasharray: 5.55,2.4; stroke-dashoffset: 0; stroke: #ff7f0e; stroke-width: 1.5\"/>\n   </g>\n   <g id=\"line2d_72\">\n    <path d=\"M 49.633125 139.5 \nL 69.163125 127.086924 \nL 88.693125 113.452695 \nL 108.223125 107.127599 \nL 127.753125 106.848986 \n\" clip-path=\"url(#pb935a7f9b6)\" style=\"fill: none; stroke-dasharray: 9.6,2.4,1.5,2.4; stroke-dashoffset: 0; stroke: #2ca02c; stroke-width: 1.5\"/>\n   </g>\n   <g id=\"line2d_73\">\n    <path d=\"M 34.954394 13.5 \nL 44.698573 16.693677 \nL 54.442752 45.507804 \nL 64.186931 47.300058 \nL 73.93111 68.288889 \nL 83.675289 89.165404 \nL 93.419468 101.57276 \nL 103.163647 106.296251 \nL 112.907826 110.418502 \nL 122.652006 113.505843 \nL 132.396185 116.433926 \nL 142.140364 118.630031 \n\" clip-path=\"url(#pb935a7f9b6)\" style=\"fill: none; stroke: #1f77b4; stroke-width: 1.5; stroke-linecap: square\"/>\n   </g>\n   <g id=\"line2d_74\">\n    <path d=\"M 49.633125 29.153892 \nL 69.163125 55.108843 \nL 88.693125 94.232781 \nL 108.223125 110.048287 \nL 127.753125 112.695117 \nL 147.283125 119.413727 \n\" clip-path=\"url(#pb935a7f9b6)\" style=\"fill: none; stroke-dasharray: 5.55,2.4; stroke-dashoffset: 0; stroke: #ff7f0e; stroke-width: 1.5\"/>\n   </g>\n   <g id=\"line2d_75\">\n    <path d=\"M 49.633125 139.5 \nL 69.163125 127.086924 \nL 88.693125 113.452695 \nL 108.223125 107.127599 \nL 127.753125 106.848986 \n\" clip-path=\"url(#pb935a7f9b6)\" style=\"fill: none; stroke-dasharray: 9.6,2.4,1.5,2.4; stroke-dashoffset: 0; stroke: #2ca02c; stroke-width: 1.5\"/>\n   </g>\n   <g id=\"line2d_76\">\n    <path d=\"M 34.954394 13.5 \nL 44.698573 16.693677 \nL 54.442752 45.507804 \nL 64.186931 47.300058 \nL 73.93111 68.288889 \nL 83.675289 89.165404 \nL 93.419468 101.57276 \nL 103.163647 106.296251 \nL 112.907826 110.418502 \nL 122.652006 113.505843 \nL 132.396185 116.433926 \nL 142.140364 118.630031 \n\" clip-path=\"url(#pb935a7f9b6)\" style=\"fill: none; stroke: #1f77b4; stroke-width: 1.5; stroke-linecap: square\"/>\n   </g>\n   <g id=\"line2d_77\">\n    <path d=\"M 49.633125 29.153892 \nL 69.163125 55.108843 \nL 88.693125 94.232781 \nL 108.223125 110.048287 \nL 127.753125 112.695117 \nL 147.283125 119.413727 \n\" clip-path=\"url(#pb935a7f9b6)\" style=\"fill: none; stroke-dasharray: 5.55,2.4; stroke-dashoffset: 0; stroke: #ff7f0e; stroke-width: 1.5\"/>\n   </g>\n   <g id=\"line2d_78\">\n    <path d=\"M 49.633125 139.5 \nL 69.163125 127.086924 \nL 88.693125 113.452695 \nL 108.223125 107.127599 \nL 127.753125 106.848986 \nL 147.283125 103.606411 \n\" clip-path=\"url(#pb935a7f9b6)\" style=\"fill: none; stroke-dasharray: 9.6,2.4,1.5,2.4; stroke-dashoffset: 0; stroke: #2ca02c; stroke-width: 1.5\"/>\n   </g>\n   <g id=\"line2d_79\">\n    <path d=\"M 34.954394 13.5 \nL 44.698573 16.693677 \nL 54.442752 45.507804 \nL 64.186931 47.300058 \nL 73.93111 68.288889 \nL 83.675289 89.165404 \nL 93.419468 101.57276 \nL 103.163647 106.296251 \nL 112.907826 110.418502 \nL 122.652006 113.505843 \nL 132.396185 116.433926 \nL 142.140364 118.630031 \nL 151.884543 119.975478 \n\" clip-path=\"url(#pb935a7f9b6)\" style=\"fill: none; stroke: #1f77b4; stroke-width: 1.5; stroke-linecap: square\"/>\n   </g>\n   <g id=\"line2d_80\">\n    <path d=\"M 49.633125 29.153892 \nL 69.163125 55.108843 \nL 88.693125 94.232781 \nL 108.223125 110.048287 \nL 127.753125 112.695117 \nL 147.283125 119.413727 \n\" clip-path=\"url(#pb935a7f9b6)\" style=\"fill: none; stroke-dasharray: 5.55,2.4; stroke-dashoffset: 0; stroke: #ff7f0e; stroke-width: 1.5\"/>\n   </g>\n   <g id=\"line2d_81\">\n    <path d=\"M 49.633125 139.5 \nL 69.163125 127.086924 \nL 88.693125 113.452695 \nL 108.223125 107.127599 \nL 127.753125 106.848986 \nL 147.283125 103.606411 \n\" clip-path=\"url(#pb935a7f9b6)\" style=\"fill: none; stroke-dasharray: 9.6,2.4,1.5,2.4; stroke-dashoffset: 0; stroke: #2ca02c; stroke-width: 1.5\"/>\n   </g>\n   <g id=\"line2d_82\">\n    <path d=\"M 34.954394 13.5 \nL 44.698573 16.693677 \nL 54.442752 45.507804 \nL 64.186931 47.300058 \nL 73.93111 68.288889 \nL 83.675289 89.165404 \nL 93.419468 101.57276 \nL 103.163647 106.296251 \nL 112.907826 110.418502 \nL 122.652006 113.505843 \nL 132.396185 116.433926 \nL 142.140364 118.630031 \nL 151.884543 119.975478 \nL 161.628722 122.191338 \n\" clip-path=\"url(#pb935a7f9b6)\" style=\"fill: none; stroke: #1f77b4; stroke-width: 1.5; stroke-linecap: square\"/>\n   </g>\n   <g id=\"line2d_83\">\n    <path d=\"M 49.633125 29.153892 \nL 69.163125 55.108843 \nL 88.693125 94.232781 \nL 108.223125 110.048287 \nL 127.753125 112.695117 \nL 147.283125 119.413727 \n\" clip-path=\"url(#pb935a7f9b6)\" style=\"fill: none; stroke-dasharray: 5.55,2.4; stroke-dashoffset: 0; stroke: #ff7f0e; stroke-width: 1.5\"/>\n   </g>\n   <g id=\"line2d_84\">\n    <path d=\"M 49.633125 139.5 \nL 69.163125 127.086924 \nL 88.693125 113.452695 \nL 108.223125 107.127599 \nL 127.753125 106.848986 \nL 147.283125 103.606411 \n\" clip-path=\"url(#pb935a7f9b6)\" style=\"fill: none; stroke-dasharray: 9.6,2.4,1.5,2.4; stroke-dashoffset: 0; stroke: #2ca02c; stroke-width: 1.5\"/>\n   </g>\n   <g id=\"line2d_85\">\n    <path d=\"M 34.954394 13.5 \nL 44.698573 16.693677 \nL 54.442752 45.507804 \nL 64.186931 47.300058 \nL 73.93111 68.288889 \nL 83.675289 89.165404 \nL 93.419468 101.57276 \nL 103.163647 106.296251 \nL 112.907826 110.418502 \nL 122.652006 113.505843 \nL 132.396185 116.433926 \nL 142.140364 118.630031 \nL 151.884543 119.975478 \nL 161.628722 122.191338 \n\" clip-path=\"url(#pb935a7f9b6)\" style=\"fill: none; stroke: #1f77b4; stroke-width: 1.5; stroke-linecap: square\"/>\n   </g>\n   <g id=\"line2d_86\">\n    <path d=\"M 49.633125 29.153892 \nL 69.163125 55.108843 \nL 88.693125 94.232781 \nL 108.223125 110.048287 \nL 127.753125 112.695117 \nL 147.283125 119.413727 \nL 166.813125 123.317653 \n\" clip-path=\"url(#pb935a7f9b6)\" style=\"fill: none; stroke-dasharray: 5.55,2.4; stroke-dashoffset: 0; stroke: #ff7f0e; stroke-width: 1.5\"/>\n   </g>\n   <g id=\"line2d_87\">\n    <path d=\"M 49.633125 139.5 \nL 69.163125 127.086924 \nL 88.693125 113.452695 \nL 108.223125 107.127599 \nL 127.753125 106.848986 \nL 147.283125 103.606411 \n\" clip-path=\"url(#pb935a7f9b6)\" style=\"fill: none; stroke-dasharray: 9.6,2.4,1.5,2.4; stroke-dashoffset: 0; stroke: #2ca02c; stroke-width: 1.5\"/>\n   </g>\n   <g id=\"line2d_88\">\n    <path d=\"M 34.954394 13.5 \nL 44.698573 16.693677 \nL 54.442752 45.507804 \nL 64.186931 47.300058 \nL 73.93111 68.288889 \nL 83.675289 89.165404 \nL 93.419468 101.57276 \nL 103.163647 106.296251 \nL 112.907826 110.418502 \nL 122.652006 113.505843 \nL 132.396185 116.433926 \nL 142.140364 118.630031 \nL 151.884543 119.975478 \nL 161.628722 122.191338 \n\" clip-path=\"url(#pb935a7f9b6)\" style=\"fill: none; stroke: #1f77b4; stroke-width: 1.5; stroke-linecap: square\"/>\n   </g>\n   <g id=\"line2d_89\">\n    <path d=\"M 49.633125 29.153892 \nL 69.163125 55.108843 \nL 88.693125 94.232781 \nL 108.223125 110.048287 \nL 127.753125 112.695117 \nL 147.283125 119.413727 \nL 166.813125 123.317653 \n\" clip-path=\"url(#pb935a7f9b6)\" style=\"fill: none; stroke-dasharray: 5.55,2.4; stroke-dashoffset: 0; stroke: #ff7f0e; stroke-width: 1.5\"/>\n   </g>\n   <g id=\"line2d_90\">\n    <path d=\"M 49.633125 139.5 \nL 69.163125 127.086924 \nL 88.693125 113.452695 \nL 108.223125 107.127599 \nL 127.753125 106.848986 \nL 147.283125 103.606411 \nL 166.813125 102.171853 \n\" clip-path=\"url(#pb935a7f9b6)\" style=\"fill: none; stroke-dasharray: 9.6,2.4,1.5,2.4; stroke-dashoffset: 0; stroke: #2ca02c; stroke-width: 1.5\"/>\n   </g>\n   <g id=\"line2d_91\">\n    <path d=\"M 34.954394 13.5 \nL 44.698573 16.693677 \nL 54.442752 45.507804 \nL 64.186931 47.300058 \nL 73.93111 68.288889 \nL 83.675289 89.165404 \nL 93.419468 101.57276 \nL 103.163647 106.296251 \nL 112.907826 110.418502 \nL 122.652006 113.505843 \nL 132.396185 116.433926 \nL 142.140364 118.630031 \nL 151.884543 119.975478 \nL 161.628722 122.191338 \nL 171.372901 123.733781 \n\" clip-path=\"url(#pb935a7f9b6)\" style=\"fill: none; stroke: #1f77b4; stroke-width: 1.5; stroke-linecap: square\"/>\n   </g>\n   <g id=\"line2d_92\">\n    <path d=\"M 49.633125 29.153892 \nL 69.163125 55.108843 \nL 88.693125 94.232781 \nL 108.223125 110.048287 \nL 127.753125 112.695117 \nL 147.283125 119.413727 \nL 166.813125 123.317653 \n\" clip-path=\"url(#pb935a7f9b6)\" style=\"fill: none; stroke-dasharray: 5.55,2.4; stroke-dashoffset: 0; stroke: #ff7f0e; stroke-width: 1.5\"/>\n   </g>\n   <g id=\"line2d_93\">\n    <path d=\"M 49.633125 139.5 \nL 69.163125 127.086924 \nL 88.693125 113.452695 \nL 108.223125 107.127599 \nL 127.753125 106.848986 \nL 147.283125 103.606411 \nL 166.813125 102.171853 \n\" clip-path=\"url(#pb935a7f9b6)\" style=\"fill: none; stroke-dasharray: 9.6,2.4,1.5,2.4; stroke-dashoffset: 0; stroke: #2ca02c; stroke-width: 1.5\"/>\n   </g>\n   <g id=\"line2d_94\">\n    <path d=\"M 34.954394 13.5 \nL 44.698573 16.693677 \nL 54.442752 45.507804 \nL 64.186931 47.300058 \nL 73.93111 68.288889 \nL 83.675289 89.165404 \nL 93.419468 101.57276 \nL 103.163647 106.296251 \nL 112.907826 110.418502 \nL 122.652006 113.505843 \nL 132.396185 116.433926 \nL 142.140364 118.630031 \nL 151.884543 119.975478 \nL 161.628722 122.191338 \nL 171.372901 123.733781 \nL 181.11708 124.651016 \n\" clip-path=\"url(#pb935a7f9b6)\" style=\"fill: none; stroke: #1f77b4; stroke-width: 1.5; stroke-linecap: square\"/>\n   </g>\n   <g id=\"line2d_95\">\n    <path d=\"M 49.633125 29.153892 \nL 69.163125 55.108843 \nL 88.693125 94.232781 \nL 108.223125 110.048287 \nL 127.753125 112.695117 \nL 147.283125 119.413727 \nL 166.813125 123.317653 \n\" clip-path=\"url(#pb935a7f9b6)\" style=\"fill: none; stroke-dasharray: 5.55,2.4; stroke-dashoffset: 0; stroke: #ff7f0e; stroke-width: 1.5\"/>\n   </g>\n   <g id=\"line2d_96\">\n    <path d=\"M 49.633125 139.5 \nL 69.163125 127.086924 \nL 88.693125 113.452695 \nL 108.223125 107.127599 \nL 127.753125 106.848986 \nL 147.283125 103.606411 \nL 166.813125 102.171853 \n\" clip-path=\"url(#pb935a7f9b6)\" style=\"fill: none; stroke-dasharray: 9.6,2.4,1.5,2.4; stroke-dashoffset: 0; stroke: #2ca02c; stroke-width: 1.5\"/>\n   </g>\n   <g id=\"line2d_97\">\n    <path d=\"M 34.954394 13.5 \nL 44.698573 16.693677 \nL 54.442752 45.507804 \nL 64.186931 47.300058 \nL 73.93111 68.288889 \nL 83.675289 89.165404 \nL 93.419468 101.57276 \nL 103.163647 106.296251 \nL 112.907826 110.418502 \nL 122.652006 113.505843 \nL 132.396185 116.433926 \nL 142.140364 118.630031 \nL 151.884543 119.975478 \nL 161.628722 122.191338 \nL 171.372901 123.733781 \nL 181.11708 124.651016 \n\" clip-path=\"url(#pb935a7f9b6)\" style=\"fill: none; stroke: #1f77b4; stroke-width: 1.5; stroke-linecap: square\"/>\n   </g>\n   <g id=\"line2d_98\">\n    <path d=\"M 49.633125 29.153892 \nL 69.163125 55.108843 \nL 88.693125 94.232781 \nL 108.223125 110.048287 \nL 127.753125 112.695117 \nL 147.283125 119.413727 \nL 166.813125 123.317653 \nL 186.343125 125.101488 \n\" clip-path=\"url(#pb935a7f9b6)\" style=\"fill: none; stroke-dasharray: 5.55,2.4; stroke-dashoffset: 0; stroke: #ff7f0e; stroke-width: 1.5\"/>\n   </g>\n   <g id=\"line2d_99\">\n    <path d=\"M 49.633125 139.5 \nL 69.163125 127.086924 \nL 88.693125 113.452695 \nL 108.223125 107.127599 \nL 127.753125 106.848986 \nL 147.283125 103.606411 \nL 166.813125 102.171853 \n\" clip-path=\"url(#pb935a7f9b6)\" style=\"fill: none; stroke-dasharray: 9.6,2.4,1.5,2.4; stroke-dashoffset: 0; stroke: #2ca02c; stroke-width: 1.5\"/>\n   </g>\n   <g id=\"line2d_100\">\n    <path d=\"M 34.954394 13.5 \nL 44.698573 16.693677 \nL 54.442752 45.507804 \nL 64.186931 47.300058 \nL 73.93111 68.288889 \nL 83.675289 89.165404 \nL 93.419468 101.57276 \nL 103.163647 106.296251 \nL 112.907826 110.418502 \nL 122.652006 113.505843 \nL 132.396185 116.433926 \nL 142.140364 118.630031 \nL 151.884543 119.975478 \nL 161.628722 122.191338 \nL 171.372901 123.733781 \nL 181.11708 124.651016 \n\" clip-path=\"url(#pb935a7f9b6)\" style=\"fill: none; stroke: #1f77b4; stroke-width: 1.5; stroke-linecap: square\"/>\n   </g>\n   <g id=\"line2d_101\">\n    <path d=\"M 49.633125 29.153892 \nL 69.163125 55.108843 \nL 88.693125 94.232781 \nL 108.223125 110.048287 \nL 127.753125 112.695117 \nL 147.283125 119.413727 \nL 166.813125 123.317653 \nL 186.343125 125.101488 \n\" clip-path=\"url(#pb935a7f9b6)\" style=\"fill: none; stroke-dasharray: 5.55,2.4; stroke-dashoffset: 0; stroke: #ff7f0e; stroke-width: 1.5\"/>\n   </g>\n   <g id=\"line2d_102\">\n    <path d=\"M 49.633125 139.5 \nL 69.163125 127.086924 \nL 88.693125 113.452695 \nL 108.223125 107.127599 \nL 127.753125 106.848986 \nL 147.283125 103.606411 \nL 166.813125 102.171853 \nL 186.343125 101.448646 \n\" clip-path=\"url(#pb935a7f9b6)\" style=\"fill: none; stroke-dasharray: 9.6,2.4,1.5,2.4; stroke-dashoffset: 0; stroke: #2ca02c; stroke-width: 1.5\"/>\n   </g>\n   <g id=\"line2d_103\">\n    <path d=\"M 34.954394 13.5 \nL 44.698573 16.693677 \nL 54.442752 45.507804 \nL 64.186931 47.300058 \nL 73.93111 68.288889 \nL 83.675289 89.165404 \nL 93.419468 101.57276 \nL 103.163647 106.296251 \nL 112.907826 110.418502 \nL 122.652006 113.505843 \nL 132.396185 116.433926 \nL 142.140364 118.630031 \nL 151.884543 119.975478 \nL 161.628722 122.191338 \nL 171.372901 123.733781 \nL 181.11708 124.651016 \nL 190.861259 125.606604 \n\" clip-path=\"url(#pb935a7f9b6)\" style=\"fill: none; stroke: #1f77b4; stroke-width: 1.5; stroke-linecap: square\"/>\n   </g>\n   <g id=\"line2d_104\">\n    <path d=\"M 49.633125 29.153892 \nL 69.163125 55.108843 \nL 88.693125 94.232781 \nL 108.223125 110.048287 \nL 127.753125 112.695117 \nL 147.283125 119.413727 \nL 166.813125 123.317653 \nL 186.343125 125.101488 \n\" clip-path=\"url(#pb935a7f9b6)\" style=\"fill: none; stroke-dasharray: 5.55,2.4; stroke-dashoffset: 0; stroke: #ff7f0e; stroke-width: 1.5\"/>\n   </g>\n   <g id=\"line2d_105\">\n    <path d=\"M 49.633125 139.5 \nL 69.163125 127.086924 \nL 88.693125 113.452695 \nL 108.223125 107.127599 \nL 127.753125 106.848986 \nL 147.283125 103.606411 \nL 166.813125 102.171853 \nL 186.343125 101.448646 \n\" clip-path=\"url(#pb935a7f9b6)\" style=\"fill: none; stroke-dasharray: 9.6,2.4,1.5,2.4; stroke-dashoffset: 0; stroke: #2ca02c; stroke-width: 1.5\"/>\n   </g>\n   <g id=\"line2d_106\">\n    <path d=\"M 34.954394 13.5 \nL 44.698573 16.693677 \nL 54.442752 45.507804 \nL 64.186931 47.300058 \nL 73.93111 68.288889 \nL 83.675289 89.165404 \nL 93.419468 101.57276 \nL 103.163647 106.296251 \nL 112.907826 110.418502 \nL 122.652006 113.505843 \nL 132.396185 116.433926 \nL 142.140364 118.630031 \nL 151.884543 119.975478 \nL 161.628722 122.191338 \nL 171.372901 123.733781 \nL 181.11708 124.651016 \nL 190.861259 125.606604 \nL 200.605438 126.418439 \n\" clip-path=\"url(#pb935a7f9b6)\" style=\"fill: none; stroke: #1f77b4; stroke-width: 1.5; stroke-linecap: square\"/>\n   </g>\n   <g id=\"line2d_107\">\n    <path d=\"M 49.633125 29.153892 \nL 69.163125 55.108843 \nL 88.693125 94.232781 \nL 108.223125 110.048287 \nL 127.753125 112.695117 \nL 147.283125 119.413727 \nL 166.813125 123.317653 \nL 186.343125 125.101488 \n\" clip-path=\"url(#pb935a7f9b6)\" style=\"fill: none; stroke-dasharray: 5.55,2.4; stroke-dashoffset: 0; stroke: #ff7f0e; stroke-width: 1.5\"/>\n   </g>\n   <g id=\"line2d_108\">\n    <path d=\"M 49.633125 139.5 \nL 69.163125 127.086924 \nL 88.693125 113.452695 \nL 108.223125 107.127599 \nL 127.753125 106.848986 \nL 147.283125 103.606411 \nL 166.813125 102.171853 \nL 186.343125 101.448646 \n\" clip-path=\"url(#pb935a7f9b6)\" style=\"fill: none; stroke-dasharray: 9.6,2.4,1.5,2.4; stroke-dashoffset: 0; stroke: #2ca02c; stroke-width: 1.5\"/>\n   </g>\n   <g id=\"line2d_109\">\n    <path d=\"M 34.954394 13.5 \nL 44.698573 16.693677 \nL 54.442752 45.507804 \nL 64.186931 47.300058 \nL 73.93111 68.288889 \nL 83.675289 89.165404 \nL 93.419468 101.57276 \nL 103.163647 106.296251 \nL 112.907826 110.418502 \nL 122.652006 113.505843 \nL 132.396185 116.433926 \nL 142.140364 118.630031 \nL 151.884543 119.975478 \nL 161.628722 122.191338 \nL 171.372901 123.733781 \nL 181.11708 124.651016 \nL 190.861259 125.606604 \nL 200.605438 126.418439 \n\" clip-path=\"url(#pb935a7f9b6)\" style=\"fill: none; stroke: #1f77b4; stroke-width: 1.5; stroke-linecap: square\"/>\n   </g>\n   <g id=\"line2d_110\">\n    <path d=\"M 49.633125 29.153892 \nL 69.163125 55.108843 \nL 88.693125 94.232781 \nL 108.223125 110.048287 \nL 127.753125 112.695117 \nL 147.283125 119.413727 \nL 166.813125 123.317653 \nL 186.343125 125.101488 \nL 205.873125 123.798432 \n\" clip-path=\"url(#pb935a7f9b6)\" style=\"fill: none; stroke-dasharray: 5.55,2.4; stroke-dashoffset: 0; stroke: #ff7f0e; stroke-width: 1.5\"/>\n   </g>\n   <g id=\"line2d_111\">\n    <path d=\"M 49.633125 139.5 \nL 69.163125 127.086924 \nL 88.693125 113.452695 \nL 108.223125 107.127599 \nL 127.753125 106.848986 \nL 147.283125 103.606411 \nL 166.813125 102.171853 \nL 186.343125 101.448646 \n\" clip-path=\"url(#pb935a7f9b6)\" style=\"fill: none; stroke-dasharray: 9.6,2.4,1.5,2.4; stroke-dashoffset: 0; stroke: #2ca02c; stroke-width: 1.5\"/>\n   </g>\n   <g id=\"line2d_112\">\n    <path d=\"M 34.954394 13.5 \nL 44.698573 16.693677 \nL 54.442752 45.507804 \nL 64.186931 47.300058 \nL 73.93111 68.288889 \nL 83.675289 89.165404 \nL 93.419468 101.57276 \nL 103.163647 106.296251 \nL 112.907826 110.418502 \nL 122.652006 113.505843 \nL 132.396185 116.433926 \nL 142.140364 118.630031 \nL 151.884543 119.975478 \nL 161.628722 122.191338 \nL 171.372901 123.733781 \nL 181.11708 124.651016 \nL 190.861259 125.606604 \nL 200.605438 126.418439 \n\" clip-path=\"url(#pb935a7f9b6)\" style=\"fill: none; stroke: #1f77b4; stroke-width: 1.5; stroke-linecap: square\"/>\n   </g>\n   <g id=\"line2d_113\">\n    <path d=\"M 49.633125 29.153892 \nL 69.163125 55.108843 \nL 88.693125 94.232781 \nL 108.223125 110.048287 \nL 127.753125 112.695117 \nL 147.283125 119.413727 \nL 166.813125 123.317653 \nL 186.343125 125.101488 \nL 205.873125 123.798432 \n\" clip-path=\"url(#pb935a7f9b6)\" style=\"fill: none; stroke-dasharray: 5.55,2.4; stroke-dashoffset: 0; stroke: #ff7f0e; stroke-width: 1.5\"/>\n   </g>\n   <g id=\"line2d_114\">\n    <path d=\"M 49.633125 139.5 \nL 69.163125 127.086924 \nL 88.693125 113.452695 \nL 108.223125 107.127599 \nL 127.753125 106.848986 \nL 147.283125 103.606411 \nL 166.813125 102.171853 \nL 186.343125 101.448646 \nL 205.873125 102.308195 \n\" clip-path=\"url(#pb935a7f9b6)\" style=\"fill: none; stroke-dasharray: 9.6,2.4,1.5,2.4; stroke-dashoffset: 0; stroke: #2ca02c; stroke-width: 1.5\"/>\n   </g>\n   <g id=\"line2d_115\">\n    <path d=\"M 34.954394 13.5 \nL 44.698573 16.693677 \nL 54.442752 45.507804 \nL 64.186931 47.300058 \nL 73.93111 68.288889 \nL 83.675289 89.165404 \nL 93.419468 101.57276 \nL 103.163647 106.296251 \nL 112.907826 110.418502 \nL 122.652006 113.505843 \nL 132.396185 116.433926 \nL 142.140364 118.630031 \nL 151.884543 119.975478 \nL 161.628722 122.191338 \nL 171.372901 123.733781 \nL 181.11708 124.651016 \nL 190.861259 125.606604 \nL 200.605438 126.418439 \nL 210.349618 127.812719 \n\" clip-path=\"url(#pb935a7f9b6)\" style=\"fill: none; stroke: #1f77b4; stroke-width: 1.5; stroke-linecap: square\"/>\n   </g>\n   <g id=\"line2d_116\">\n    <path d=\"M 49.633125 29.153892 \nL 69.163125 55.108843 \nL 88.693125 94.232781 \nL 108.223125 110.048287 \nL 127.753125 112.695117 \nL 147.283125 119.413727 \nL 166.813125 123.317653 \nL 186.343125 125.101488 \nL 205.873125 123.798432 \n\" clip-path=\"url(#pb935a7f9b6)\" style=\"fill: none; stroke-dasharray: 5.55,2.4; stroke-dashoffset: 0; stroke: #ff7f0e; stroke-width: 1.5\"/>\n   </g>\n   <g id=\"line2d_117\">\n    <path d=\"M 49.633125 139.5 \nL 69.163125 127.086924 \nL 88.693125 113.452695 \nL 108.223125 107.127599 \nL 127.753125 106.848986 \nL 147.283125 103.606411 \nL 166.813125 102.171853 \nL 186.343125 101.448646 \nL 205.873125 102.308195 \n\" clip-path=\"url(#pb935a7f9b6)\" style=\"fill: none; stroke-dasharray: 9.6,2.4,1.5,2.4; stroke-dashoffset: 0; stroke: #2ca02c; stroke-width: 1.5\"/>\n   </g>\n   <g id=\"line2d_118\">\n    <path d=\"M 34.954394 13.5 \nL 44.698573 16.693677 \nL 54.442752 45.507804 \nL 64.186931 47.300058 \nL 73.93111 68.288889 \nL 83.675289 89.165404 \nL 93.419468 101.57276 \nL 103.163647 106.296251 \nL 112.907826 110.418502 \nL 122.652006 113.505843 \nL 132.396185 116.433926 \nL 142.140364 118.630031 \nL 151.884543 119.975478 \nL 161.628722 122.191338 \nL 171.372901 123.733781 \nL 181.11708 124.651016 \nL 190.861259 125.606604 \nL 200.605438 126.418439 \nL 210.349618 127.812719 \nL 220.093797 127.476445 \n\" clip-path=\"url(#pb935a7f9b6)\" style=\"fill: none; stroke: #1f77b4; stroke-width: 1.5; stroke-linecap: square\"/>\n   </g>\n   <g id=\"line2d_119\">\n    <path d=\"M 49.633125 29.153892 \nL 69.163125 55.108843 \nL 88.693125 94.232781 \nL 108.223125 110.048287 \nL 127.753125 112.695117 \nL 147.283125 119.413727 \nL 166.813125 123.317653 \nL 186.343125 125.101488 \nL 205.873125 123.798432 \n\" clip-path=\"url(#pb935a7f9b6)\" style=\"fill: none; stroke-dasharray: 5.55,2.4; stroke-dashoffset: 0; stroke: #ff7f0e; stroke-width: 1.5\"/>\n   </g>\n   <g id=\"line2d_120\">\n    <path d=\"M 49.633125 139.5 \nL 69.163125 127.086924 \nL 88.693125 113.452695 \nL 108.223125 107.127599 \nL 127.753125 106.848986 \nL 147.283125 103.606411 \nL 166.813125 102.171853 \nL 186.343125 101.448646 \nL 205.873125 102.308195 \n\" clip-path=\"url(#pb935a7f9b6)\" style=\"fill: none; stroke-dasharray: 9.6,2.4,1.5,2.4; stroke-dashoffset: 0; stroke: #2ca02c; stroke-width: 1.5\"/>\n   </g>\n   <g id=\"line2d_121\">\n    <path d=\"M 34.954394 13.5 \nL 44.698573 16.693677 \nL 54.442752 45.507804 \nL 64.186931 47.300058 \nL 73.93111 68.288889 \nL 83.675289 89.165404 \nL 93.419468 101.57276 \nL 103.163647 106.296251 \nL 112.907826 110.418502 \nL 122.652006 113.505843 \nL 132.396185 116.433926 \nL 142.140364 118.630031 \nL 151.884543 119.975478 \nL 161.628722 122.191338 \nL 171.372901 123.733781 \nL 181.11708 124.651016 \nL 190.861259 125.606604 \nL 200.605438 126.418439 \nL 210.349618 127.812719 \nL 220.093797 127.476445 \n\" clip-path=\"url(#pb935a7f9b6)\" style=\"fill: none; stroke: #1f77b4; stroke-width: 1.5; stroke-linecap: square\"/>\n   </g>\n   <g id=\"line2d_122\">\n    <path d=\"M 49.633125 29.153892 \nL 69.163125 55.108843 \nL 88.693125 94.232781 \nL 108.223125 110.048287 \nL 127.753125 112.695117 \nL 147.283125 119.413727 \nL 166.813125 123.317653 \nL 186.343125 125.101488 \nL 205.873125 123.798432 \nL 225.403125 124.804285 \n\" clip-path=\"url(#pb935a7f9b6)\" style=\"fill: none; stroke-dasharray: 5.55,2.4; stroke-dashoffset: 0; stroke: #ff7f0e; stroke-width: 1.5\"/>\n   </g>\n   <g id=\"line2d_123\">\n    <path d=\"M 49.633125 139.5 \nL 69.163125 127.086924 \nL 88.693125 113.452695 \nL 108.223125 107.127599 \nL 127.753125 106.848986 \nL 147.283125 103.606411 \nL 166.813125 102.171853 \nL 186.343125 101.448646 \nL 205.873125 102.308195 \n\" clip-path=\"url(#pb935a7f9b6)\" style=\"fill: none; stroke-dasharray: 9.6,2.4,1.5,2.4; stroke-dashoffset: 0; stroke: #2ca02c; stroke-width: 1.5\"/>\n   </g>\n   <g id=\"line2d_124\">\n    <path d=\"M 34.954394 13.5 \nL 44.698573 16.693677 \nL 54.442752 45.507804 \nL 64.186931 47.300058 \nL 73.93111 68.288889 \nL 83.675289 89.165404 \nL 93.419468 101.57276 \nL 103.163647 106.296251 \nL 112.907826 110.418502 \nL 122.652006 113.505843 \nL 132.396185 116.433926 \nL 142.140364 118.630031 \nL 151.884543 119.975478 \nL 161.628722 122.191338 \nL 171.372901 123.733781 \nL 181.11708 124.651016 \nL 190.861259 125.606604 \nL 200.605438 126.418439 \nL 210.349618 127.812719 \nL 220.093797 127.476445 \n\" clip-path=\"url(#pb935a7f9b6)\" style=\"fill: none; stroke: #1f77b4; stroke-width: 1.5; stroke-linecap: square\"/>\n   </g>\n   <g id=\"line2d_125\">\n    <path d=\"M 49.633125 29.153892 \nL 69.163125 55.108843 \nL 88.693125 94.232781 \nL 108.223125 110.048287 \nL 127.753125 112.695117 \nL 147.283125 119.413727 \nL 166.813125 123.317653 \nL 186.343125 125.101488 \nL 205.873125 123.798432 \nL 225.403125 124.804285 \n\" clip-path=\"url(#pb935a7f9b6)\" style=\"fill: none; stroke-dasharray: 5.55,2.4; stroke-dashoffset: 0; stroke: #ff7f0e; stroke-width: 1.5\"/>\n   </g>\n   <g id=\"line2d_126\">\n    <path d=\"M 49.633125 139.5 \nL 69.163125 127.086924 \nL 88.693125 113.452695 \nL 108.223125 107.127599 \nL 127.753125 106.848986 \nL 147.283125 103.606411 \nL 166.813125 102.171853 \nL 186.343125 101.448646 \nL 205.873125 102.308195 \nL 225.403125 101.816177 \n\" clip-path=\"url(#pb935a7f9b6)\" style=\"fill: none; stroke-dasharray: 9.6,2.4,1.5,2.4; stroke-dashoffset: 0; stroke: #2ca02c; stroke-width: 1.5\"/>\n   </g>\n   <g id=\"patch_3\">\n    <path d=\"M 30.103125 145.8 \nL 30.103125 7.2 \n\" style=\"fill: none; stroke: #000000; stroke-width: 0.8; stroke-linejoin: miter; stroke-linecap: square\"/>\n   </g>\n   <g id=\"patch_4\">\n    <path d=\"M 225.403125 145.8 \nL 225.403125 7.2 \n\" style=\"fill: none; stroke: #000000; stroke-width: 0.8; stroke-linejoin: miter; stroke-linecap: square\"/>\n   </g>\n   <g id=\"patch_5\">\n    <path d=\"M 30.103125 145.8 \nL 225.403125 145.8 \n\" style=\"fill: none; stroke: #000000; stroke-width: 0.8; stroke-linejoin: miter; stroke-linecap: square\"/>\n   </g>\n   <g id=\"patch_6\">\n    <path d=\"M 30.103125 7.2 \nL 225.403125 7.2 \n\" style=\"fill: none; stroke: #000000; stroke-width: 0.8; stroke-linejoin: miter; stroke-linecap: square\"/>\n   </g>\n   <g id=\"legend_1\">\n    <g id=\"patch_7\">\n     <path d=\"M 138.8125 60.06875 \nL 218.403125 60.06875 \nQ 220.403125 60.06875 220.403125 58.06875 \nL 220.403125 14.2 \nQ 220.403125 12.2 218.403125 12.2 \nL 138.8125 12.2 \nQ 136.8125 12.2 136.8125 14.2 \nL 136.8125 58.06875 \nQ 136.8125 60.06875 138.8125 60.06875 \nz\n\" style=\"fill: #ffffff; opacity: 0.8; stroke: #cccccc; stroke-linejoin: miter\"/>\n    </g>\n    <g id=\"line2d_127\">\n     <path d=\"M 140.8125 20.298438 \nL 150.8125 20.298438 \nL 160.8125 20.298438 \n\" style=\"fill: none; stroke: #1f77b4; stroke-width: 1.5; stroke-linecap: square\"/>\n    </g>\n    <g id=\"text_12\">\n     <!-- train_loss -->\n     <g transform=\"translate(168.8125 23.798438) scale(0.1 -0.1)\">\n      <defs>\n       <path id=\"DejaVuSans-74\" d=\"M 1172 4494 \nL 1172 3500 \nL 2356 3500 \nL 2356 3053 \nL 1172 3053 \nL 1172 1153 \nQ 1172 725 1289 603 \nQ 1406 481 1766 481 \nL 2356 481 \nL 2356 0 \nL 1766 0 \nQ 1100 0 847 248 \nQ 594 497 594 1153 \nL 594 3053 \nL 172 3053 \nL 172 3500 \nL 594 3500 \nL 594 4494 \nL 1172 4494 \nz\n\" transform=\"scale(0.015625)\"/>\n       <path id=\"DejaVuSans-72\" d=\"M 2631 2963 \nQ 2534 3019 2420 3045 \nQ 2306 3072 2169 3072 \nQ 1681 3072 1420 2755 \nQ 1159 2438 1159 1844 \nL 1159 0 \nL 581 0 \nL 581 3500 \nL 1159 3500 \nL 1159 2956 \nQ 1341 3275 1631 3429 \nQ 1922 3584 2338 3584 \nQ 2397 3584 2469 3576 \nQ 2541 3569 2628 3553 \nL 2631 2963 \nz\n\" transform=\"scale(0.015625)\"/>\n       <path id=\"DejaVuSans-61\" d=\"M 2194 1759 \nQ 1497 1759 1228 1600 \nQ 959 1441 959 1056 \nQ 959 750 1161 570 \nQ 1363 391 1709 391 \nQ 2188 391 2477 730 \nQ 2766 1069 2766 1631 \nL 2766 1759 \nL 2194 1759 \nz\nM 3341 1997 \nL 3341 0 \nL 2766 0 \nL 2766 531 \nQ 2569 213 2275 61 \nQ 1981 -91 1556 -91 \nQ 1019 -91 701 211 \nQ 384 513 384 1019 \nQ 384 1609 779 1909 \nQ 1175 2209 1959 2209 \nL 2766 2209 \nL 2766 2266 \nQ 2766 2663 2505 2880 \nQ 2244 3097 1772 3097 \nQ 1472 3097 1187 3025 \nQ 903 2953 641 2809 \nL 641 3341 \nQ 956 3463 1253 3523 \nQ 1550 3584 1831 3584 \nQ 2591 3584 2966 3190 \nQ 3341 2797 3341 1997 \nz\n\" transform=\"scale(0.015625)\"/>\n       <path id=\"DejaVuSans-69\" d=\"M 603 3500 \nL 1178 3500 \nL 1178 0 \nL 603 0 \nL 603 3500 \nz\nM 603 4863 \nL 1178 4863 \nL 1178 4134 \nL 603 4134 \nL 603 4863 \nz\n\" transform=\"scale(0.015625)\"/>\n       <path id=\"DejaVuSans-6e\" d=\"M 3513 2113 \nL 3513 0 \nL 2938 0 \nL 2938 2094 \nQ 2938 2591 2744 2837 \nQ 2550 3084 2163 3084 \nQ 1697 3084 1428 2787 \nQ 1159 2491 1159 1978 \nL 1159 0 \nL 581 0 \nL 581 3500 \nL 1159 3500 \nL 1159 2956 \nQ 1366 3272 1645 3428 \nQ 1925 3584 2291 3584 \nQ 2894 3584 3203 3211 \nQ 3513 2838 3513 2113 \nz\n\" transform=\"scale(0.015625)\"/>\n       <path id=\"DejaVuSans-5f\" d=\"M 3263 -1063 \nL 3263 -1509 \nL -63 -1509 \nL -63 -1063 \nL 3263 -1063 \nz\n\" transform=\"scale(0.015625)\"/>\n       <path id=\"DejaVuSans-6c\" d=\"M 603 4863 \nL 1178 4863 \nL 1178 0 \nL 603 0 \nL 603 4863 \nz\n\" transform=\"scale(0.015625)\"/>\n       <path id=\"DejaVuSans-73\" d=\"M 2834 3397 \nL 2834 2853 \nQ 2591 2978 2328 3040 \nQ 2066 3103 1784 3103 \nQ 1356 3103 1142 2972 \nQ 928 2841 928 2578 \nQ 928 2378 1081 2264 \nQ 1234 2150 1697 2047 \nL 1894 2003 \nQ 2506 1872 2764 1633 \nQ 3022 1394 3022 966 \nQ 3022 478 2636 193 \nQ 2250 -91 1575 -91 \nQ 1294 -91 989 -36 \nQ 684 19 347 128 \nL 347 722 \nQ 666 556 975 473 \nQ 1284 391 1588 391 \nQ 1994 391 2212 530 \nQ 2431 669 2431 922 \nQ 2431 1156 2273 1281 \nQ 2116 1406 1581 1522 \nL 1381 1569 \nQ 847 1681 609 1914 \nQ 372 2147 372 2553 \nQ 372 3047 722 3315 \nQ 1072 3584 1716 3584 \nQ 2034 3584 2315 3537 \nQ 2597 3491 2834 3397 \nz\n\" transform=\"scale(0.015625)\"/>\n      </defs>\n      <use xlink:href=\"#DejaVuSans-74\"/>\n      <use xlink:href=\"#DejaVuSans-72\" x=\"39.208984\"/>\n      <use xlink:href=\"#DejaVuSans-61\" x=\"80.322266\"/>\n      <use xlink:href=\"#DejaVuSans-69\" x=\"141.601562\"/>\n      <use xlink:href=\"#DejaVuSans-6e\" x=\"169.384766\"/>\n      <use xlink:href=\"#DejaVuSans-5f\" x=\"232.763672\"/>\n      <use xlink:href=\"#DejaVuSans-6c\" x=\"282.763672\"/>\n      <use xlink:href=\"#DejaVuSans-6f\" x=\"310.546875\"/>\n      <use xlink:href=\"#DejaVuSans-73\" x=\"371.728516\"/>\n      <use xlink:href=\"#DejaVuSans-73\" x=\"423.828125\"/>\n     </g>\n    </g>\n    <g id=\"line2d_128\">\n     <path d=\"M 140.8125 35.254688 \nL 150.8125 35.254688 \nL 160.8125 35.254688 \n\" style=\"fill: none; stroke-dasharray: 5.55,2.4; stroke-dashoffset: 0; stroke: #ff7f0e; stroke-width: 1.5\"/>\n    </g>\n    <g id=\"text_13\">\n     <!-- val_loss -->\n     <g transform=\"translate(168.8125 38.754688) scale(0.1 -0.1)\">\n      <defs>\n       <path id=\"DejaVuSans-76\" d=\"M 191 3500 \nL 800 3500 \nL 1894 563 \nL 2988 3500 \nL 3597 3500 \nL 2284 0 \nL 1503 0 \nL 191 3500 \nz\n\" transform=\"scale(0.015625)\"/>\n      </defs>\n      <use xlink:href=\"#DejaVuSans-76\"/>\n      <use xlink:href=\"#DejaVuSans-61\" x=\"59.179688\"/>\n      <use xlink:href=\"#DejaVuSans-6c\" x=\"120.458984\"/>\n      <use xlink:href=\"#DejaVuSans-5f\" x=\"148.242188\"/>\n      <use xlink:href=\"#DejaVuSans-6c\" x=\"198.242188\"/>\n      <use xlink:href=\"#DejaVuSans-6f\" x=\"226.025391\"/>\n      <use xlink:href=\"#DejaVuSans-73\" x=\"287.207031\"/>\n      <use xlink:href=\"#DejaVuSans-73\" x=\"339.306641\"/>\n     </g>\n    </g>\n    <g id=\"line2d_129\">\n     <path d=\"M 140.8125 50.210938 \nL 150.8125 50.210938 \nL 160.8125 50.210938 \n\" style=\"fill: none; stroke-dasharray: 9.6,2.4,1.5,2.4; stroke-dashoffset: 0; stroke: #2ca02c; stroke-width: 1.5\"/>\n    </g>\n    <g id=\"text_14\">\n     <!-- val_acc -->\n     <g transform=\"translate(168.8125 53.710938) scale(0.1 -0.1)\">\n      <use xlink:href=\"#DejaVuSans-76\"/>\n      <use xlink:href=\"#DejaVuSans-61\" x=\"59.179688\"/>\n      <use xlink:href=\"#DejaVuSans-6c\" x=\"120.458984\"/>\n      <use xlink:href=\"#DejaVuSans-5f\" x=\"148.242188\"/>\n      <use xlink:href=\"#DejaVuSans-61\" x=\"198.242188\"/>\n      <use xlink:href=\"#DejaVuSans-63\" x=\"259.521484\"/>\n      <use xlink:href=\"#DejaVuSans-63\" x=\"314.501953\"/>\n     </g>\n    </g>\n   </g>\n  </g>\n </g>\n <defs>\n  <clipPath id=\"pb935a7f9b6\">\n   <rect x=\"30.103125\" y=\"7.2\" width=\"195.3\" height=\"138.6\"/>\n  </clipPath>\n </defs>\n</svg>\n"
          },
          "metadata": {}
        }
      ]
    },
    {
      "cell_type": "markdown",
      "source": [
        "## 8.3.5 Exercises\n",
        "\n",
        "1. Why are there two 1x1 convolutional layers per NiN block? Increase their number to three. Reduce their number to one. What changes?\n",
        "\n",
        "2. What changes if you replace the 1x1 convolutions by 3x3 convolutions?\n",
        "\n",
        "3. What happens if you replace the global average pooling by a fully connected layer (speed, accuracy, number of parameters)?\n",
        "\n",
        "4. Calculate the resource usage for NiN.\n",
        "  * What is the number of parameters?\n",
        "  * What is the amount of computation?\n",
        "  * What is the amount of memory needed during training?\n",
        "  * What is the amount of memory needed during prediction?\n",
        "\n",
        "5. What are possible problems with reducing the 384x5x5 representation to a 10x5x5 representation in one step?\n",
        "\n",
        "6. Use the structural design decisions in VGG that led to VGG-11, VGG-16, and VGG-19 to design a family of NiN-like networks."
      ],
      "metadata": {
        "id": "Rzu7N0Yw7k9w"
      },
      "id": "Rzu7N0Yw7k9w"
    },
    {
      "cell_type": "markdown",
      "source": [
        "## Jawaban Exercises 8.3.5\n",
        "\n",
        "\n",
        "---\n",
        "\n"
      ],
      "metadata": {
        "id": "wCdCIyC78jrn"
      },
      "id": "wCdCIyC78jrn"
    },
    {
      "cell_type": "markdown",
      "source": [
        "**1. Mengapa Ada Dua Konvolusi 1x1 per Blok NiN?**\n",
        "* Dua konvolusi 1x1 digunakan untuk meningkatkan kapasitas jaringan dalam menangkap fitur. Dengan dua lapisan ini, jaringan dapat melakukan transformasi yang lebih kompleks.\n",
        "* Menambah Menjadi Tiga: Akan meningkatkan kapasitas model, tetapi juga menambah komputasi dan jumlah parameter.\n",
        "* Mengurangi Menjadi Satu: Akan mengurangi kapasitas jaringan, sehingga mungkin tidak dapat menangkap interaksi fitur yang kompleks dengan baik.\n",
        "\n",
        "**2. Apa yang Terjadi Jika Mengganti Konvolusi 1x1 dengan 3x3?**\n",
        "\n",
        "Mengganti konvolusi 1x1 dengan 3x3 akan meningkatkan kemampuan model untuk menangkap hubungan spasial antara piksel-piksel, karena filter yang lebih besar mencakup area yang lebih luas. Namun, ini juga meningkatkan komputasi dan jumlah parameter yang dibutuhkan, yang bisa menyebabkan overfitting jika data tidak cukup besar.\n",
        "\n",
        "**3. Apa yang Terjadi Jika Mengganti Global Average Pooling dengan Fully Connected Layer?**\n",
        "\n",
        "* Kecepatan: Fully connected layer lebih lambat karena memiliki lebih banyak parameter.\n",
        "* Akurasi: Fully connected layer meningkatkan risiko overfitting karena jumlah parameter yang besar.\n",
        "* Jumlah Parameter: Fully connected layer membutuhkan lebih banyak parameter dibandingkan dengan global average pooling.\n",
        "\n",
        "**4. Hitung Penggunaan Sumber Daya untuk NiN**\n",
        "* Jumlah Parameter: Tergantung pada jumlah layer dan jumlah filter yang digunakan. Menggunakan konvolusi 1x1 membantu mengurangi jumlah parameter.\n",
        "* Jumlah Komputasi: Komputasi meningkat dengan jumlah layer dan ukuran filter. Menggunakan konvolusi 3x3 akan meningkatkan jumlah operasi dibandingkan konvolusi 1x1.\n",
        "* Memori yang Dibutuhkan Selama Training: Lebih tinggi karena perlu menyimpan gradien untuk backpropagation.\n",
        "* Memori yang Dibutuhkan Selama Prediksi: Biasanya lebih kecil dibandingkan dengan saat training karena tidak perlu menyimpan gradien.\n",
        "\n",
        "**5. Masalah yang Mungkin Terjadi Jika Mengurangi Representasi 384x5x5 Menjadi 10x5x5 dalam Satu Langkah**\n",
        "\n",
        "Mengurangi jumlah channel dari 384 menjadi 10 dalam satu langkah akan menyebabkan banyak informasi hilang, yang dapat menurunkan kemampuan jaringan untuk membedakan antar kelas karena fitur yang penting mungkin hilang dalam proses reduksi.\n",
        "\n",
        "**6. Gunakan Keputusan Desain Struktural dari VGG untuk Mendesain Keluarga Jaringan Seperti NiN**\n",
        "\n",
        "Anda dapat membuat jaringan seperti NiN yang lebih dalam dengan menambah lebih banyak blok NiN secara berturut-turut, mirip dengan struktur VGG yang menggunakan banyak layer konvolusi dengan pola tertentu. Pendekatan ini memungkinkan jaringan untuk menangkap fitur yang lebih kompleks dengan kedalaman lebih besar."
      ],
      "metadata": {
        "id": "g-EgnrAd8n9Y"
      },
      "id": "g-EgnrAd8n9Y"
    },
    {
      "cell_type": "markdown",
      "source": [
        "# 8.4 Multi-Branch Network (GoogLeNet)"
      ],
      "metadata": {
        "id": "YifPmmxSlAD4"
      },
      "id": "YifPmmxSlAD4"
    },
    {
      "cell_type": "code",
      "source": [
        "import torch\n",
        "from torch import nn\n",
        "from torch.nn import functional as F\n",
        "from d2l import torch as d2l"
      ],
      "metadata": {
        "id": "aOM68C6clIZm"
      },
      "id": "aOM68C6clIZm",
      "execution_count": null,
      "outputs": []
    },
    {
      "cell_type": "markdown",
      "source": [
        "## 8.4.1 Inception Blocks"
      ],
      "metadata": {
        "id": "SBn1JMvGln-b"
      },
      "id": "SBn1JMvGln-b"
    },
    {
      "cell_type": "code",
      "source": [
        "class Inception(nn.Module):\n",
        "    # c1--c4 are the number of output channels for each branch\n",
        "    def __init__(self, c1, c2, c3, c4, **kwargs):\n",
        "        super(Inception, self).__init__(**kwargs)\n",
        "        # Branch 1\n",
        "        self.b1_1 = nn.LazyConv2d(c1, kernel_size=1)\n",
        "        # Branch 2\n",
        "        self.b2_1 = nn.LazyConv2d(c2[0], kernel_size=1)\n",
        "        self.b2_2 = nn.LazyConv2d(c2[1], kernel_size=3, padding=1)\n",
        "        # Branch 3\n",
        "        self.b3_1 = nn.LazyConv2d(c3[0], kernel_size=1)\n",
        "        self.b3_2 = nn.LazyConv2d(c3[1], kernel_size=5, padding=2)\n",
        "        # Branch 4\n",
        "        self.b4_1 = nn.MaxPool2d(kernel_size=3, stride=1, padding=1)\n",
        "        self.b4_2 = nn.LazyConv2d(c4, kernel_size=1)\n",
        "\n",
        "    def forward(self, x):\n",
        "        b1 = F.relu(self.b1_1(x))\n",
        "        b2 = F.relu(self.b2_2(F.relu(self.b2_1(x))))\n",
        "        b3 = F.relu(self.b3_2(F.relu(self.b3_1(x))))\n",
        "        b4 = F.relu(self.b4_2(self.b4_1(x)))\n",
        "        return torch.cat((b1, b2, b3, b4), dim=1)"
      ],
      "metadata": {
        "id": "PWJqz2nFlJoi"
      },
      "id": "PWJqz2nFlJoi",
      "execution_count": null,
      "outputs": []
    },
    {
      "cell_type": "markdown",
      "source": [
        "## 8.4.2 GoogLeNet Model"
      ],
      "metadata": {
        "id": "u8LOYzRIltvb"
      },
      "id": "u8LOYzRIltvb"
    },
    {
      "cell_type": "code",
      "source": [
        "class GoogleNet(d2l.Classifier):\n",
        "    def b1(self):\n",
        "        return nn.Sequential(\n",
        "            nn.LazyConv2d(64, kernel_size=7, stride=2, padding=3),\n",
        "            nn.ReLU(), nn.MaxPool2d(kernel_size=3, stride=2, padding=1))"
      ],
      "metadata": {
        "id": "LAmEFpwPlsBP"
      },
      "id": "LAmEFpwPlsBP",
      "execution_count": null,
      "outputs": []
    },
    {
      "cell_type": "code",
      "source": [
        "@d2l.add_to_class(GoogleNet)\n",
        "def b2(self):\n",
        "    return nn.Sequential(\n",
        "        nn.LazyConv2d(64, kernel_size=1), nn.ReLU(),\n",
        "        nn.LazyConv2d(192, kernel_size=3, padding=1), nn.ReLU(),\n",
        "        nn.MaxPool2d(kernel_size=3, stride=2, padding=1))"
      ],
      "metadata": {
        "id": "BRwH6INmlxdp"
      },
      "id": "BRwH6INmlxdp",
      "execution_count": null,
      "outputs": []
    },
    {
      "cell_type": "code",
      "source": [
        "@d2l.add_to_class(GoogleNet)\n",
        "def b3(self):\n",
        "    return nn.Sequential(Inception(64, (96, 128), (16, 32), 32),\n",
        "                         Inception(128, (128, 192), (32, 96), 64),\n",
        "                         nn.MaxPool2d(kernel_size=3, stride=2, padding=1))"
      ],
      "metadata": {
        "id": "WL8SYueBlzDB"
      },
      "id": "WL8SYueBlzDB",
      "execution_count": null,
      "outputs": []
    },
    {
      "cell_type": "code",
      "source": [
        "@d2l.add_to_class(GoogleNet)\n",
        "def b4(self):\n",
        "    return nn.Sequential(Inception(192, (96, 208), (16, 48), 64),\n",
        "                         Inception(160, (112, 224), (24, 64), 64),\n",
        "                         Inception(128, (128, 256), (24, 64), 64),\n",
        "                         Inception(112, (144, 288), (32, 64), 64),\n",
        "                         Inception(256, (160, 320), (32, 128), 128),\n",
        "                         nn.MaxPool2d(kernel_size=3, stride=2, padding=1))"
      ],
      "metadata": {
        "id": "5aCnRIocl1PH"
      },
      "id": "5aCnRIocl1PH",
      "execution_count": null,
      "outputs": []
    },
    {
      "cell_type": "code",
      "source": [
        "@d2l.add_to_class(GoogleNet)\n",
        "def b4(self):\n",
        "    return nn.Sequential(Inception(192, (96, 208), (16, 48), 64),\n",
        "                         Inception(160, (112, 224), (24, 64), 64),\n",
        "                         Inception(128, (128, 256), (24, 64), 64),\n",
        "                         Inception(112, (144, 288), (32, 64), 64),\n",
        "                         Inception(256, (160, 320), (32, 128), 128),\n",
        "                         nn.MaxPool2d(kernel_size=3, stride=2, padding=1))"
      ],
      "metadata": {
        "id": "ZJpgUogVl3dN"
      },
      "id": "ZJpgUogVl3dN",
      "execution_count": null,
      "outputs": []
    },
    {
      "cell_type": "code",
      "source": [
        "@d2l.add_to_class(GoogleNet)\n",
        "def b5(self):\n",
        "    return nn.Sequential(Inception(256, (160, 320), (32, 128), 128),\n",
        "                         Inception(384, (192, 384), (48, 128), 128),\n",
        "                         nn.AdaptiveAvgPool2d((1,1)), nn.Flatten())"
      ],
      "metadata": {
        "id": "NT43A7jzmFyc"
      },
      "id": "NT43A7jzmFyc",
      "execution_count": null,
      "outputs": []
    },
    {
      "cell_type": "code",
      "source": [
        "@d2l.add_to_class(GoogleNet)\n",
        "def __init__(self, lr=0.1, num_classes=10):\n",
        "    super(GoogleNet, self).__init__()\n",
        "    self.save_hyperparameters()\n",
        "    self.net = nn.Sequential(self.b1(), self.b2(), self.b3(), self.b4(),\n",
        "                             self.b5(), nn.LazyLinear(num_classes))\n",
        "    self.net.apply(d2l.init_cnn)"
      ],
      "metadata": {
        "id": "gtOFySL2l4zT"
      },
      "id": "gtOFySL2l4zT",
      "execution_count": null,
      "outputs": []
    },
    {
      "cell_type": "code",
      "source": [
        "model = GoogleNet().layer_summary((1, 1, 96, 96))"
      ],
      "metadata": {
        "colab": {
          "base_uri": "https://localhost:8080/"
        },
        "id": "BChZI-rVl7Go",
        "outputId": "ac5ec340-5327-4cf6-f777-8ae00580915a"
      },
      "id": "BChZI-rVl7Go",
      "execution_count": null,
      "outputs": [
        {
          "output_type": "stream",
          "name": "stdout",
          "text": [
            "Sequential output shape:\t torch.Size([1, 64, 24, 24])\n",
            "Sequential output shape:\t torch.Size([1, 192, 12, 12])\n",
            "Sequential output shape:\t torch.Size([1, 480, 6, 6])\n",
            "Sequential output shape:\t torch.Size([1, 832, 3, 3])\n",
            "Sequential output shape:\t torch.Size([1, 1024])\n",
            "Linear output shape:\t torch.Size([1, 10])\n"
          ]
        }
      ]
    },
    {
      "cell_type": "markdown",
      "source": [
        "## 8.4.3 Training"
      ],
      "metadata": {
        "id": "OmJFW8jCmIuF"
      },
      "id": "OmJFW8jCmIuF"
    },
    {
      "cell_type": "code",
      "source": [
        "model = GoogleNet(lr=0.01)\n",
        "trainer = d2l.Trainer(max_epochs=10, num_gpus=1)\n",
        "data = d2l.FashionMNIST(batch_size=128, resize=(96, 96))\n",
        "model.apply_init([next(iter(data.get_dataloader(True)))[0]], d2l.init_cnn)\n",
        "trainer.fit(model, data)"
      ],
      "metadata": {
        "colab": {
          "base_uri": "https://localhost:8080/",
          "height": 265
        },
        "id": "NDp8aSBal9W4",
        "outputId": "9575cbcf-d8dd-48f7-eda1-7533f3013f18"
      },
      "id": "NDp8aSBal9W4",
      "execution_count": null,
      "outputs": [
        {
          "output_type": "display_data",
          "data": {
            "text/plain": [
              "<Figure size 350x250 with 1 Axes>"
            ],
            "image/svg+xml": "<?xml version=\"1.0\" encoding=\"utf-8\" standalone=\"no\"?>\n<!DOCTYPE svg PUBLIC \"-//W3C//DTD SVG 1.1//EN\"\n  \"http://www.w3.org/Graphics/SVG/1.1/DTD/svg11.dtd\">\n<svg xmlns:xlink=\"http://www.w3.org/1999/xlink\" width=\"238.965625pt\" height=\"183.35625pt\" viewBox=\"0 0 238.965625 183.35625\" xmlns=\"http://www.w3.org/2000/svg\" version=\"1.1\">\n <metadata>\n  <rdf:RDF xmlns:dc=\"http://purl.org/dc/elements/1.1/\" xmlns:cc=\"http://creativecommons.org/ns#\" xmlns:rdf=\"http://www.w3.org/1999/02/22-rdf-syntax-ns#\">\n   <cc:Work>\n    <dc:type rdf:resource=\"http://purl.org/dc/dcmitype/StillImage\"/>\n    <dc:date>2024-10-05T12:21:16.917722</dc:date>\n    <dc:format>image/svg+xml</dc:format>\n    <dc:creator>\n     <cc:Agent>\n      <dc:title>Matplotlib v3.7.2, https://matplotlib.org/</dc:title>\n     </cc:Agent>\n    </dc:creator>\n   </cc:Work>\n  </rdf:RDF>\n </metadata>\n <defs>\n  <style type=\"text/css\">*{stroke-linejoin: round; stroke-linecap: butt}</style>\n </defs>\n <g id=\"figure_1\">\n  <g id=\"patch_1\">\n   <path d=\"M 0 183.35625 \nL 238.965625 183.35625 \nL 238.965625 0 \nL 0 0 \nz\n\" style=\"fill: #ffffff\"/>\n  </g>\n  <g id=\"axes_1\">\n   <g id=\"patch_2\">\n    <path d=\"M 30.103125 145.8 \nL 225.403125 145.8 \nL 225.403125 7.2 \nL 30.103125 7.2 \nz\n\" style=\"fill: #ffffff\"/>\n   </g>\n   <g id=\"matplotlib.axis_1\">\n    <g id=\"xtick_1\">\n     <g id=\"line2d_1\">\n      <defs>\n       <path id=\"m4da9ec36a9\" d=\"M 0 0 \nL 0 3.5 \n\" style=\"stroke: #000000; stroke-width: 0.8\"/>\n      </defs>\n      <g>\n       <use xlink:href=\"#m4da9ec36a9\" x=\"30.103125\" y=\"145.8\" style=\"stroke: #000000; stroke-width: 0.8\"/>\n      </g>\n     </g>\n     <g id=\"text_1\">\n      <!-- 0 -->\n      <g transform=\"translate(26.921875 160.398438) scale(0.1 -0.1)\">\n       <defs>\n        <path id=\"DejaVuSans-30\" d=\"M 2034 4250 \nQ 1547 4250 1301 3770 \nQ 1056 3291 1056 2328 \nQ 1056 1369 1301 889 \nQ 1547 409 2034 409 \nQ 2525 409 2770 889 \nQ 3016 1369 3016 2328 \nQ 3016 3291 2770 3770 \nQ 2525 4250 2034 4250 \nz\nM 2034 4750 \nQ 2819 4750 3233 4129 \nQ 3647 3509 3647 2328 \nQ 3647 1150 3233 529 \nQ 2819 -91 2034 -91 \nQ 1250 -91 836 529 \nQ 422 1150 422 2328 \nQ 422 3509 836 4129 \nQ 1250 4750 2034 4750 \nz\n\" transform=\"scale(0.015625)\"/>\n       </defs>\n       <use xlink:href=\"#DejaVuSans-30\"/>\n      </g>\n     </g>\n    </g>\n    <g id=\"xtick_2\">\n     <g id=\"line2d_2\">\n      <g>\n       <use xlink:href=\"#m4da9ec36a9\" x=\"69.163125\" y=\"145.8\" style=\"stroke: #000000; stroke-width: 0.8\"/>\n      </g>\n     </g>\n     <g id=\"text_2\">\n      <!-- 2 -->\n      <g transform=\"translate(65.981875 160.398438) scale(0.1 -0.1)\">\n       <defs>\n        <path id=\"DejaVuSans-32\" d=\"M 1228 531 \nL 3431 531 \nL 3431 0 \nL 469 0 \nL 469 531 \nQ 828 903 1448 1529 \nQ 2069 2156 2228 2338 \nQ 2531 2678 2651 2914 \nQ 2772 3150 2772 3378 \nQ 2772 3750 2511 3984 \nQ 2250 4219 1831 4219 \nQ 1534 4219 1204 4116 \nQ 875 4013 500 3803 \nL 500 4441 \nQ 881 4594 1212 4672 \nQ 1544 4750 1819 4750 \nQ 2544 4750 2975 4387 \nQ 3406 4025 3406 3419 \nQ 3406 3131 3298 2873 \nQ 3191 2616 2906 2266 \nQ 2828 2175 2409 1742 \nQ 1991 1309 1228 531 \nz\n\" transform=\"scale(0.015625)\"/>\n       </defs>\n       <use xlink:href=\"#DejaVuSans-32\"/>\n      </g>\n     </g>\n    </g>\n    <g id=\"xtick_3\">\n     <g id=\"line2d_3\">\n      <g>\n       <use xlink:href=\"#m4da9ec36a9\" x=\"108.223125\" y=\"145.8\" style=\"stroke: #000000; stroke-width: 0.8\"/>\n      </g>\n     </g>\n     <g id=\"text_3\">\n      <!-- 4 -->\n      <g transform=\"translate(105.041875 160.398438) scale(0.1 -0.1)\">\n       <defs>\n        <path id=\"DejaVuSans-34\" d=\"M 2419 4116 \nL 825 1625 \nL 2419 1625 \nL 2419 4116 \nz\nM 2253 4666 \nL 3047 4666 \nL 3047 1625 \nL 3713 1625 \nL 3713 1100 \nL 3047 1100 \nL 3047 0 \nL 2419 0 \nL 2419 1100 \nL 313 1100 \nL 313 1709 \nL 2253 4666 \nz\n\" transform=\"scale(0.015625)\"/>\n       </defs>\n       <use xlink:href=\"#DejaVuSans-34\"/>\n      </g>\n     </g>\n    </g>\n    <g id=\"xtick_4\">\n     <g id=\"line2d_4\">\n      <g>\n       <use xlink:href=\"#m4da9ec36a9\" x=\"147.283125\" y=\"145.8\" style=\"stroke: #000000; stroke-width: 0.8\"/>\n      </g>\n     </g>\n     <g id=\"text_4\">\n      <!-- 6 -->\n      <g transform=\"translate(144.101875 160.398438) scale(0.1 -0.1)\">\n       <defs>\n        <path id=\"DejaVuSans-36\" d=\"M 2113 2584 \nQ 1688 2584 1439 2293 \nQ 1191 2003 1191 1497 \nQ 1191 994 1439 701 \nQ 1688 409 2113 409 \nQ 2538 409 2786 701 \nQ 3034 994 3034 1497 \nQ 3034 2003 2786 2293 \nQ 2538 2584 2113 2584 \nz\nM 3366 4563 \nL 3366 3988 \nQ 3128 4100 2886 4159 \nQ 2644 4219 2406 4219 \nQ 1781 4219 1451 3797 \nQ 1122 3375 1075 2522 \nQ 1259 2794 1537 2939 \nQ 1816 3084 2150 3084 \nQ 2853 3084 3261 2657 \nQ 3669 2231 3669 1497 \nQ 3669 778 3244 343 \nQ 2819 -91 2113 -91 \nQ 1303 -91 875 529 \nQ 447 1150 447 2328 \nQ 447 3434 972 4092 \nQ 1497 4750 2381 4750 \nQ 2619 4750 2861 4703 \nQ 3103 4656 3366 4563 \nz\n\" transform=\"scale(0.015625)\"/>\n       </defs>\n       <use xlink:href=\"#DejaVuSans-36\"/>\n      </g>\n     </g>\n    </g>\n    <g id=\"xtick_5\">\n     <g id=\"line2d_5\">\n      <g>\n       <use xlink:href=\"#m4da9ec36a9\" x=\"186.343125\" y=\"145.8\" style=\"stroke: #000000; stroke-width: 0.8\"/>\n      </g>\n     </g>\n     <g id=\"text_5\">\n      <!-- 8 -->\n      <g transform=\"translate(183.161875 160.398438) scale(0.1 -0.1)\">\n       <defs>\n        <path id=\"DejaVuSans-38\" d=\"M 2034 2216 \nQ 1584 2216 1326 1975 \nQ 1069 1734 1069 1313 \nQ 1069 891 1326 650 \nQ 1584 409 2034 409 \nQ 2484 409 2743 651 \nQ 3003 894 3003 1313 \nQ 3003 1734 2745 1975 \nQ 2488 2216 2034 2216 \nz\nM 1403 2484 \nQ 997 2584 770 2862 \nQ 544 3141 544 3541 \nQ 544 4100 942 4425 \nQ 1341 4750 2034 4750 \nQ 2731 4750 3128 4425 \nQ 3525 4100 3525 3541 \nQ 3525 3141 3298 2862 \nQ 3072 2584 2669 2484 \nQ 3125 2378 3379 2068 \nQ 3634 1759 3634 1313 \nQ 3634 634 3220 271 \nQ 2806 -91 2034 -91 \nQ 1263 -91 848 271 \nQ 434 634 434 1313 \nQ 434 1759 690 2068 \nQ 947 2378 1403 2484 \nz\nM 1172 3481 \nQ 1172 3119 1398 2916 \nQ 1625 2713 2034 2713 \nQ 2441 2713 2670 2916 \nQ 2900 3119 2900 3481 \nQ 2900 3844 2670 4047 \nQ 2441 4250 2034 4250 \nQ 1625 4250 1398 4047 \nQ 1172 3844 1172 3481 \nz\n\" transform=\"scale(0.015625)\"/>\n       </defs>\n       <use xlink:href=\"#DejaVuSans-38\"/>\n      </g>\n     </g>\n    </g>\n    <g id=\"xtick_6\">\n     <g id=\"line2d_6\">\n      <g>\n       <use xlink:href=\"#m4da9ec36a9\" x=\"225.403125\" y=\"145.8\" style=\"stroke: #000000; stroke-width: 0.8\"/>\n      </g>\n     </g>\n     <g id=\"text_6\">\n      <!-- 10 -->\n      <g transform=\"translate(219.040625 160.398438) scale(0.1 -0.1)\">\n       <defs>\n        <path id=\"DejaVuSans-31\" d=\"M 794 531 \nL 1825 531 \nL 1825 4091 \nL 703 3866 \nL 703 4441 \nL 1819 4666 \nL 2450 4666 \nL 2450 531 \nL 3481 531 \nL 3481 0 \nL 794 0 \nL 794 531 \nz\n\" transform=\"scale(0.015625)\"/>\n       </defs>\n       <use xlink:href=\"#DejaVuSans-31\"/>\n       <use xlink:href=\"#DejaVuSans-30\" x=\"63.623047\"/>\n      </g>\n     </g>\n    </g>\n    <g id=\"text_7\">\n     <!-- epoch -->\n     <g transform=\"translate(112.525 174.076563) scale(0.1 -0.1)\">\n      <defs>\n       <path id=\"DejaVuSans-65\" d=\"M 3597 1894 \nL 3597 1613 \nL 953 1613 \nQ 991 1019 1311 708 \nQ 1631 397 2203 397 \nQ 2534 397 2845 478 \nQ 3156 559 3463 722 \nL 3463 178 \nQ 3153 47 2828 -22 \nQ 2503 -91 2169 -91 \nQ 1331 -91 842 396 \nQ 353 884 353 1716 \nQ 353 2575 817 3079 \nQ 1281 3584 2069 3584 \nQ 2775 3584 3186 3129 \nQ 3597 2675 3597 1894 \nz\nM 3022 2063 \nQ 3016 2534 2758 2815 \nQ 2500 3097 2075 3097 \nQ 1594 3097 1305 2825 \nQ 1016 2553 972 2059 \nL 3022 2063 \nz\n\" transform=\"scale(0.015625)\"/>\n       <path id=\"DejaVuSans-70\" d=\"M 1159 525 \nL 1159 -1331 \nL 581 -1331 \nL 581 3500 \nL 1159 3500 \nL 1159 2969 \nQ 1341 3281 1617 3432 \nQ 1894 3584 2278 3584 \nQ 2916 3584 3314 3078 \nQ 3713 2572 3713 1747 \nQ 3713 922 3314 415 \nQ 2916 -91 2278 -91 \nQ 1894 -91 1617 61 \nQ 1341 213 1159 525 \nz\nM 3116 1747 \nQ 3116 2381 2855 2742 \nQ 2594 3103 2138 3103 \nQ 1681 3103 1420 2742 \nQ 1159 2381 1159 1747 \nQ 1159 1113 1420 752 \nQ 1681 391 2138 391 \nQ 2594 391 2855 752 \nQ 3116 1113 3116 1747 \nz\n\" transform=\"scale(0.015625)\"/>\n       <path id=\"DejaVuSans-6f\" d=\"M 1959 3097 \nQ 1497 3097 1228 2736 \nQ 959 2375 959 1747 \nQ 959 1119 1226 758 \nQ 1494 397 1959 397 \nQ 2419 397 2687 759 \nQ 2956 1122 2956 1747 \nQ 2956 2369 2687 2733 \nQ 2419 3097 1959 3097 \nz\nM 1959 3584 \nQ 2709 3584 3137 3096 \nQ 3566 2609 3566 1747 \nQ 3566 888 3137 398 \nQ 2709 -91 1959 -91 \nQ 1206 -91 779 398 \nQ 353 888 353 1747 \nQ 353 2609 779 3096 \nQ 1206 3584 1959 3584 \nz\n\" transform=\"scale(0.015625)\"/>\n       <path id=\"DejaVuSans-63\" d=\"M 3122 3366 \nL 3122 2828 \nQ 2878 2963 2633 3030 \nQ 2388 3097 2138 3097 \nQ 1578 3097 1268 2742 \nQ 959 2388 959 1747 \nQ 959 1106 1268 751 \nQ 1578 397 2138 397 \nQ 2388 397 2633 464 \nQ 2878 531 3122 666 \nL 3122 134 \nQ 2881 22 2623 -34 \nQ 2366 -91 2075 -91 \nQ 1284 -91 818 406 \nQ 353 903 353 1747 \nQ 353 2603 823 3093 \nQ 1294 3584 2113 3584 \nQ 2378 3584 2631 3529 \nQ 2884 3475 3122 3366 \nz\n\" transform=\"scale(0.015625)\"/>\n       <path id=\"DejaVuSans-68\" d=\"M 3513 2113 \nL 3513 0 \nL 2938 0 \nL 2938 2094 \nQ 2938 2591 2744 2837 \nQ 2550 3084 2163 3084 \nQ 1697 3084 1428 2787 \nQ 1159 2491 1159 1978 \nL 1159 0 \nL 581 0 \nL 581 4863 \nL 1159 4863 \nL 1159 2956 \nQ 1366 3272 1645 3428 \nQ 1925 3584 2291 3584 \nQ 2894 3584 3203 3211 \nQ 3513 2838 3513 2113 \nz\n\" transform=\"scale(0.015625)\"/>\n      </defs>\n      <use xlink:href=\"#DejaVuSans-65\"/>\n      <use xlink:href=\"#DejaVuSans-70\" x=\"61.523438\"/>\n      <use xlink:href=\"#DejaVuSans-6f\" x=\"125\"/>\n      <use xlink:href=\"#DejaVuSans-63\" x=\"186.181641\"/>\n      <use xlink:href=\"#DejaVuSans-68\" x=\"241.162109\"/>\n     </g>\n    </g>\n   </g>\n   <g id=\"matplotlib.axis_2\">\n    <g id=\"ytick_1\">\n     <g id=\"line2d_7\">\n      <defs>\n       <path id=\"m03eda555e2\" d=\"M 0 0 \nL -3.5 0 \n\" style=\"stroke: #000000; stroke-width: 0.8\"/>\n      </defs>\n      <g>\n       <use xlink:href=\"#m03eda555e2\" x=\"30.103125\" y=\"145.196361\" style=\"stroke: #000000; stroke-width: 0.8\"/>\n      </g>\n     </g>\n     <g id=\"text_8\">\n      <!-- 0.0 -->\n      <g transform=\"translate(7.2 148.99558) scale(0.1 -0.1)\">\n       <defs>\n        <path id=\"DejaVuSans-2e\" d=\"M 684 794 \nL 1344 794 \nL 1344 0 \nL 684 0 \nL 684 794 \nz\n\" transform=\"scale(0.015625)\"/>\n       </defs>\n       <use xlink:href=\"#DejaVuSans-30\"/>\n       <use xlink:href=\"#DejaVuSans-2e\" x=\"63.623047\"/>\n       <use xlink:href=\"#DejaVuSans-30\" x=\"95.410156\"/>\n      </g>\n     </g>\n    </g>\n    <g id=\"ytick_2\">\n     <g id=\"line2d_8\">\n      <g>\n       <use xlink:href=\"#m03eda555e2\" x=\"30.103125\" y=\"116.595764\" style=\"stroke: #000000; stroke-width: 0.8\"/>\n      </g>\n     </g>\n     <g id=\"text_9\">\n      <!-- 0.5 -->\n      <g transform=\"translate(7.2 120.394983) scale(0.1 -0.1)\">\n       <defs>\n        <path id=\"DejaVuSans-35\" d=\"M 691 4666 \nL 3169 4666 \nL 3169 4134 \nL 1269 4134 \nL 1269 2991 \nQ 1406 3038 1543 3061 \nQ 1681 3084 1819 3084 \nQ 2600 3084 3056 2656 \nQ 3513 2228 3513 1497 \nQ 3513 744 3044 326 \nQ 2575 -91 1722 -91 \nQ 1428 -91 1123 -41 \nQ 819 9 494 109 \nL 494 744 \nQ 775 591 1075 516 \nQ 1375 441 1709 441 \nQ 2250 441 2565 725 \nQ 2881 1009 2881 1497 \nQ 2881 1984 2565 2268 \nQ 2250 2553 1709 2553 \nQ 1456 2553 1204 2497 \nQ 953 2441 691 2322 \nL 691 4666 \nz\n\" transform=\"scale(0.015625)\"/>\n       </defs>\n       <use xlink:href=\"#DejaVuSans-30\"/>\n       <use xlink:href=\"#DejaVuSans-2e\" x=\"63.623047\"/>\n       <use xlink:href=\"#DejaVuSans-35\" x=\"95.410156\"/>\n      </g>\n     </g>\n    </g>\n    <g id=\"ytick_3\">\n     <g id=\"line2d_9\">\n      <g>\n       <use xlink:href=\"#m03eda555e2\" x=\"30.103125\" y=\"87.995167\" style=\"stroke: #000000; stroke-width: 0.8\"/>\n      </g>\n     </g>\n     <g id=\"text_10\">\n      <!-- 1.0 -->\n      <g transform=\"translate(7.2 91.794386) scale(0.1 -0.1)\">\n       <use xlink:href=\"#DejaVuSans-31\"/>\n       <use xlink:href=\"#DejaVuSans-2e\" x=\"63.623047\"/>\n       <use xlink:href=\"#DejaVuSans-30\" x=\"95.410156\"/>\n      </g>\n     </g>\n    </g>\n    <g id=\"ytick_4\">\n     <g id=\"line2d_10\">\n      <g>\n       <use xlink:href=\"#m03eda555e2\" x=\"30.103125\" y=\"59.39457\" style=\"stroke: #000000; stroke-width: 0.8\"/>\n      </g>\n     </g>\n     <g id=\"text_11\">\n      <!-- 1.5 -->\n      <g transform=\"translate(7.2 63.193789) scale(0.1 -0.1)\">\n       <use xlink:href=\"#DejaVuSans-31\"/>\n       <use xlink:href=\"#DejaVuSans-2e\" x=\"63.623047\"/>\n       <use xlink:href=\"#DejaVuSans-35\" x=\"95.410156\"/>\n      </g>\n     </g>\n    </g>\n    <g id=\"ytick_5\">\n     <g id=\"line2d_11\">\n      <g>\n       <use xlink:href=\"#m03eda555e2\" x=\"30.103125\" y=\"30.793973\" style=\"stroke: #000000; stroke-width: 0.8\"/>\n      </g>\n     </g>\n     <g id=\"text_12\">\n      <!-- 2.0 -->\n      <g transform=\"translate(7.2 34.593192) scale(0.1 -0.1)\">\n       <use xlink:href=\"#DejaVuSans-32\"/>\n       <use xlink:href=\"#DejaVuSans-2e\" x=\"63.623047\"/>\n       <use xlink:href=\"#DejaVuSans-30\" x=\"95.410156\"/>\n      </g>\n     </g>\n    </g>\n   </g>\n   <g id=\"line2d_12\">\n    <path d=\"M 34.954394 13.5 \n\" clip-path=\"url(#pb34d7d7dfb)\" style=\"fill: none; stroke: #1f77b4; stroke-width: 1.5; stroke-linecap: square\"/>\n   </g>\n   <g id=\"line2d_13\">\n    <path d=\"M 34.954394 13.5 \nL 44.698573 13.545587 \n\" clip-path=\"url(#pb34d7d7dfb)\" style=\"fill: none; stroke: #1f77b4; stroke-width: 1.5; stroke-linecap: square\"/>\n   </g>\n   <g id=\"line2d_14\">\n    <path d=\"M 34.954394 13.5 \nL 44.698573 13.545587 \n\" clip-path=\"url(#pb34d7d7dfb)\" style=\"fill: none; stroke: #1f77b4; stroke-width: 1.5; stroke-linecap: square\"/>\n   </g>\n   <g id=\"line2d_15\">\n    <path d=\"M 49.633125 13.573532 \n\" clip-path=\"url(#pb34d7d7dfb)\" style=\"fill: none; stroke-dasharray: 5.55,2.4; stroke-dashoffset: 0; stroke: #ff7f0e; stroke-width: 1.5\"/>\n   </g>\n   <g id=\"line2d_16\"/>\n   <g id=\"line2d_17\">\n    <path d=\"M 34.954394 13.5 \nL 44.698573 13.545587 \n\" clip-path=\"url(#pb34d7d7dfb)\" style=\"fill: none; stroke: #1f77b4; stroke-width: 1.5; stroke-linecap: square\"/>\n   </g>\n   <g id=\"line2d_18\">\n    <path d=\"M 49.633125 13.573532 \n\" clip-path=\"url(#pb34d7d7dfb)\" style=\"fill: none; stroke-dasharray: 5.55,2.4; stroke-dashoffset: 0; stroke: #ff7f0e; stroke-width: 1.5\"/>\n   </g>\n   <g id=\"line2d_19\">\n    <path d=\"M 49.633125 139.5 \n\" clip-path=\"url(#pb34d7d7dfb)\" style=\"fill: none; stroke-dasharray: 9.6,2.4,1.5,2.4; stroke-dashoffset: 0; stroke: #2ca02c; stroke-width: 1.5\"/>\n   </g>\n   <g id=\"line2d_20\">\n    <path d=\"M 34.954394 13.5 \nL 44.698573 13.545587 \nL 54.442752 13.594073 \n\" clip-path=\"url(#pb34d7d7dfb)\" style=\"fill: none; stroke: #1f77b4; stroke-width: 1.5; stroke-linecap: square\"/>\n   </g>\n   <g id=\"line2d_21\">\n    <path d=\"M 49.633125 13.573532 \n\" clip-path=\"url(#pb34d7d7dfb)\" style=\"fill: none; stroke-dasharray: 5.55,2.4; stroke-dashoffset: 0; stroke: #ff7f0e; stroke-width: 1.5\"/>\n   </g>\n   <g id=\"line2d_22\">\n    <path d=\"M 49.633125 139.5 \n\" clip-path=\"url(#pb34d7d7dfb)\" style=\"fill: none; stroke-dasharray: 9.6,2.4,1.5,2.4; stroke-dashoffset: 0; stroke: #2ca02c; stroke-width: 1.5\"/>\n   </g>\n   <g id=\"line2d_23\">\n    <path d=\"M 34.954394 13.5 \nL 44.698573 13.545587 \nL 54.442752 13.594073 \nL 64.186931 13.655048 \n\" clip-path=\"url(#pb34d7d7dfb)\" style=\"fill: none; stroke: #1f77b4; stroke-width: 1.5; stroke-linecap: square\"/>\n   </g>\n   <g id=\"line2d_24\">\n    <path d=\"M 49.633125 13.573532 \n\" clip-path=\"url(#pb34d7d7dfb)\" style=\"fill: none; stroke-dasharray: 5.55,2.4; stroke-dashoffset: 0; stroke: #ff7f0e; stroke-width: 1.5\"/>\n   </g>\n   <g id=\"line2d_25\">\n    <path d=\"M 49.633125 139.5 \n\" clip-path=\"url(#pb34d7d7dfb)\" style=\"fill: none; stroke-dasharray: 9.6,2.4,1.5,2.4; stroke-dashoffset: 0; stroke: #2ca02c; stroke-width: 1.5\"/>\n   </g>\n   <g id=\"line2d_26\">\n    <path d=\"M 34.954394 13.5 \nL 44.698573 13.545587 \nL 54.442752 13.594073 \nL 64.186931 13.655048 \n\" clip-path=\"url(#pb34d7d7dfb)\" style=\"fill: none; stroke: #1f77b4; stroke-width: 1.5; stroke-linecap: square\"/>\n   </g>\n   <g id=\"line2d_27\">\n    <path d=\"M 49.633125 13.573532 \nL 69.163125 13.697368 \n\" clip-path=\"url(#pb34d7d7dfb)\" style=\"fill: none; stroke-dasharray: 5.55,2.4; stroke-dashoffset: 0; stroke: #ff7f0e; stroke-width: 1.5\"/>\n   </g>\n   <g id=\"line2d_28\">\n    <path d=\"M 49.633125 139.5 \n\" clip-path=\"url(#pb34d7d7dfb)\" style=\"fill: none; stroke-dasharray: 9.6,2.4,1.5,2.4; stroke-dashoffset: 0; stroke: #2ca02c; stroke-width: 1.5\"/>\n   </g>\n   <g id=\"line2d_29\">\n    <path d=\"M 34.954394 13.5 \nL 44.698573 13.545587 \nL 54.442752 13.594073 \nL 64.186931 13.655048 \n\" clip-path=\"url(#pb34d7d7dfb)\" style=\"fill: none; stroke: #1f77b4; stroke-width: 1.5; stroke-linecap: square\"/>\n   </g>\n   <g id=\"line2d_30\">\n    <path d=\"M 49.633125 13.573532 \nL 69.163125 13.697368 \n\" clip-path=\"url(#pb34d7d7dfb)\" style=\"fill: none; stroke-dasharray: 5.55,2.4; stroke-dashoffset: 0; stroke: #ff7f0e; stroke-width: 1.5\"/>\n   </g>\n   <g id=\"line2d_31\">\n    <path d=\"M 49.633125 139.5 \nL 69.163125 139.5 \n\" clip-path=\"url(#pb34d7d7dfb)\" style=\"fill: none; stroke-dasharray: 9.6,2.4,1.5,2.4; stroke-dashoffset: 0; stroke: #2ca02c; stroke-width: 1.5\"/>\n   </g>\n   <g id=\"line2d_32\">\n    <path d=\"M 34.954394 13.5 \nL 44.698573 13.545587 \nL 54.442752 13.594073 \nL 64.186931 13.655048 \nL 73.93111 13.746548 \n\" clip-path=\"url(#pb34d7d7dfb)\" style=\"fill: none; stroke: #1f77b4; stroke-width: 1.5; stroke-linecap: square\"/>\n   </g>\n   <g id=\"line2d_33\">\n    <path d=\"M 49.633125 13.573532 \nL 69.163125 13.697368 \n\" clip-path=\"url(#pb34d7d7dfb)\" style=\"fill: none; stroke-dasharray: 5.55,2.4; stroke-dashoffset: 0; stroke: #ff7f0e; stroke-width: 1.5\"/>\n   </g>\n   <g id=\"line2d_34\">\n    <path d=\"M 49.633125 139.5 \nL 69.163125 139.5 \n\" clip-path=\"url(#pb34d7d7dfb)\" style=\"fill: none; stroke-dasharray: 9.6,2.4,1.5,2.4; stroke-dashoffset: 0; stroke: #2ca02c; stroke-width: 1.5\"/>\n   </g>\n   <g id=\"line2d_35\">\n    <path d=\"M 34.954394 13.5 \nL 44.698573 13.545587 \nL 54.442752 13.594073 \nL 64.186931 13.655048 \nL 73.93111 13.746548 \nL 83.675289 13.914372 \n\" clip-path=\"url(#pb34d7d7dfb)\" style=\"fill: none; stroke: #1f77b4; stroke-width: 1.5; stroke-linecap: square\"/>\n   </g>\n   <g id=\"line2d_36\">\n    <path d=\"M 49.633125 13.573532 \nL 69.163125 13.697368 \n\" clip-path=\"url(#pb34d7d7dfb)\" style=\"fill: none; stroke-dasharray: 5.55,2.4; stroke-dashoffset: 0; stroke: #ff7f0e; stroke-width: 1.5\"/>\n   </g>\n   <g id=\"line2d_37\">\n    <path d=\"M 49.633125 139.5 \nL 69.163125 139.5 \n\" clip-path=\"url(#pb34d7d7dfb)\" style=\"fill: none; stroke-dasharray: 9.6,2.4,1.5,2.4; stroke-dashoffset: 0; stroke: #2ca02c; stroke-width: 1.5\"/>\n   </g>\n   <g id=\"line2d_38\">\n    <path d=\"M 34.954394 13.5 \nL 44.698573 13.545587 \nL 54.442752 13.594073 \nL 64.186931 13.655048 \nL 73.93111 13.746548 \nL 83.675289 13.914372 \n\" clip-path=\"url(#pb34d7d7dfb)\" style=\"fill: none; stroke: #1f77b4; stroke-width: 1.5; stroke-linecap: square\"/>\n   </g>\n   <g id=\"line2d_39\">\n    <path d=\"M 49.633125 13.573532 \nL 69.163125 13.697368 \nL 88.693125 14.050971 \n\" clip-path=\"url(#pb34d7d7dfb)\" style=\"fill: none; stroke-dasharray: 5.55,2.4; stroke-dashoffset: 0; stroke: #ff7f0e; stroke-width: 1.5\"/>\n   </g>\n   <g id=\"line2d_40\">\n    <path d=\"M 49.633125 139.5 \nL 69.163125 139.5 \n\" clip-path=\"url(#pb34d7d7dfb)\" style=\"fill: none; stroke-dasharray: 9.6,2.4,1.5,2.4; stroke-dashoffset: 0; stroke: #2ca02c; stroke-width: 1.5\"/>\n   </g>\n   <g id=\"line2d_41\">\n    <path d=\"M 34.954394 13.5 \nL 44.698573 13.545587 \nL 54.442752 13.594073 \nL 64.186931 13.655048 \nL 73.93111 13.746548 \nL 83.675289 13.914372 \n\" clip-path=\"url(#pb34d7d7dfb)\" style=\"fill: none; stroke: #1f77b4; stroke-width: 1.5; stroke-linecap: square\"/>\n   </g>\n   <g id=\"line2d_42\">\n    <path d=\"M 49.633125 13.573532 \nL 69.163125 13.697368 \nL 88.693125 14.050971 \n\" clip-path=\"url(#pb34d7d7dfb)\" style=\"fill: none; stroke-dasharray: 5.55,2.4; stroke-dashoffset: 0; stroke: #ff7f0e; stroke-width: 1.5\"/>\n   </g>\n   <g id=\"line2d_43\">\n    <path d=\"M 49.633125 139.5 \nL 69.163125 139.5 \nL 88.693125 127.213509 \n\" clip-path=\"url(#pb34d7d7dfb)\" style=\"fill: none; stroke-dasharray: 9.6,2.4,1.5,2.4; stroke-dashoffset: 0; stroke: #2ca02c; stroke-width: 1.5\"/>\n   </g>\n   <g id=\"line2d_44\">\n    <path d=\"M 34.954394 13.5 \nL 44.698573 13.545587 \nL 54.442752 13.594073 \nL 64.186931 13.655048 \nL 73.93111 13.746548 \nL 83.675289 13.914372 \nL 93.419468 14.262085 \n\" clip-path=\"url(#pb34d7d7dfb)\" style=\"fill: none; stroke: #1f77b4; stroke-width: 1.5; stroke-linecap: square\"/>\n   </g>\n   <g id=\"line2d_45\">\n    <path d=\"M 49.633125 13.573532 \nL 69.163125 13.697368 \nL 88.693125 14.050971 \n\" clip-path=\"url(#pb34d7d7dfb)\" style=\"fill: none; stroke-dasharray: 5.55,2.4; stroke-dashoffset: 0; stroke: #ff7f0e; stroke-width: 1.5\"/>\n   </g>\n   <g id=\"line2d_46\">\n    <path d=\"M 49.633125 139.5 \nL 69.163125 139.5 \nL 88.693125 127.213509 \n\" clip-path=\"url(#pb34d7d7dfb)\" style=\"fill: none; stroke-dasharray: 9.6,2.4,1.5,2.4; stroke-dashoffset: 0; stroke: #2ca02c; stroke-width: 1.5\"/>\n   </g>\n   <g id=\"line2d_47\">\n    <path d=\"M 34.954394 13.5 \nL 44.698573 13.545587 \nL 54.442752 13.594073 \nL 64.186931 13.655048 \nL 73.93111 13.746548 \nL 83.675289 13.914372 \nL 93.419468 14.262085 \nL 103.163647 15.274982 \n\" clip-path=\"url(#pb34d7d7dfb)\" style=\"fill: none; stroke: #1f77b4; stroke-width: 1.5; stroke-linecap: square\"/>\n   </g>\n   <g id=\"line2d_48\">\n    <path d=\"M 49.633125 13.573532 \nL 69.163125 13.697368 \nL 88.693125 14.050971 \n\" clip-path=\"url(#pb34d7d7dfb)\" style=\"fill: none; stroke-dasharray: 5.55,2.4; stroke-dashoffset: 0; stroke: #ff7f0e; stroke-width: 1.5\"/>\n   </g>\n   <g id=\"line2d_49\">\n    <path d=\"M 49.633125 139.5 \nL 69.163125 139.5 \nL 88.693125 127.213509 \n\" clip-path=\"url(#pb34d7d7dfb)\" style=\"fill: none; stroke-dasharray: 9.6,2.4,1.5,2.4; stroke-dashoffset: 0; stroke: #2ca02c; stroke-width: 1.5\"/>\n   </g>\n   <g id=\"line2d_50\">\n    <path d=\"M 34.954394 13.5 \nL 44.698573 13.545587 \nL 54.442752 13.594073 \nL 64.186931 13.655048 \nL 73.93111 13.746548 \nL 83.675289 13.914372 \nL 93.419468 14.262085 \nL 103.163647 15.274982 \n\" clip-path=\"url(#pb34d7d7dfb)\" style=\"fill: none; stroke: #1f77b4; stroke-width: 1.5; stroke-linecap: square\"/>\n   </g>\n   <g id=\"line2d_51\">\n    <path d=\"M 49.633125 13.573532 \nL 69.163125 13.697368 \nL 88.693125 14.050971 \nL 108.223125 16.495524 \n\" clip-path=\"url(#pb34d7d7dfb)\" style=\"fill: none; stroke-dasharray: 5.55,2.4; stroke-dashoffset: 0; stroke: #ff7f0e; stroke-width: 1.5\"/>\n   </g>\n   <g id=\"line2d_52\">\n    <path d=\"M 49.633125 139.5 \nL 69.163125 139.5 \nL 88.693125 127.213509 \n\" clip-path=\"url(#pb34d7d7dfb)\" style=\"fill: none; stroke-dasharray: 9.6,2.4,1.5,2.4; stroke-dashoffset: 0; stroke: #2ca02c; stroke-width: 1.5\"/>\n   </g>\n   <g id=\"line2d_53\">\n    <path d=\"M 34.954394 13.5 \nL 44.698573 13.545587 \nL 54.442752 13.594073 \nL 64.186931 13.655048 \nL 73.93111 13.746548 \nL 83.675289 13.914372 \nL 93.419468 14.262085 \nL 103.163647 15.274982 \n\" clip-path=\"url(#pb34d7d7dfb)\" style=\"fill: none; stroke: #1f77b4; stroke-width: 1.5; stroke-linecap: square\"/>\n   </g>\n   <g id=\"line2d_54\">\n    <path d=\"M 49.633125 13.573532 \nL 69.163125 13.697368 \nL 88.693125 14.050971 \nL 108.223125 16.495524 \n\" clip-path=\"url(#pb34d7d7dfb)\" style=\"fill: none; stroke-dasharray: 5.55,2.4; stroke-dashoffset: 0; stroke: #ff7f0e; stroke-width: 1.5\"/>\n   </g>\n   <g id=\"line2d_55\">\n    <path d=\"M 49.633125 139.5 \nL 69.163125 139.5 \nL 88.693125 127.213509 \nL 108.223125 127.309674 \n\" clip-path=\"url(#pb34d7d7dfb)\" style=\"fill: none; stroke-dasharray: 9.6,2.4,1.5,2.4; stroke-dashoffset: 0; stroke: #2ca02c; stroke-width: 1.5\"/>\n   </g>\n   <g id=\"line2d_56\">\n    <path d=\"M 34.954394 13.5 \nL 44.698573 13.545587 \nL 54.442752 13.594073 \nL 64.186931 13.655048 \nL 73.93111 13.746548 \nL 83.675289 13.914372 \nL 93.419468 14.262085 \nL 103.163647 15.274982 \nL 112.907826 20.910748 \n\" clip-path=\"url(#pb34d7d7dfb)\" style=\"fill: none; stroke: #1f77b4; stroke-width: 1.5; stroke-linecap: square\"/>\n   </g>\n   <g id=\"line2d_57\">\n    <path d=\"M 49.633125 13.573532 \nL 69.163125 13.697368 \nL 88.693125 14.050971 \nL 108.223125 16.495524 \n\" clip-path=\"url(#pb34d7d7dfb)\" style=\"fill: none; stroke-dasharray: 5.55,2.4; stroke-dashoffset: 0; stroke: #ff7f0e; stroke-width: 1.5\"/>\n   </g>\n   <g id=\"line2d_58\">\n    <path d=\"M 49.633125 139.5 \nL 69.163125 139.5 \nL 88.693125 127.213509 \nL 108.223125 127.309674 \n\" clip-path=\"url(#pb34d7d7dfb)\" style=\"fill: none; stroke-dasharray: 9.6,2.4,1.5,2.4; stroke-dashoffset: 0; stroke: #2ca02c; stroke-width: 1.5\"/>\n   </g>\n   <g id=\"line2d_59\">\n    <path d=\"M 34.954394 13.5 \nL 44.698573 13.545587 \nL 54.442752 13.594073 \nL 64.186931 13.655048 \nL 73.93111 13.746548 \nL 83.675289 13.914372 \nL 93.419468 14.262085 \nL 103.163647 15.274982 \nL 112.907826 20.910748 \nL 122.652006 52.806142 \n\" clip-path=\"url(#pb34d7d7dfb)\" style=\"fill: none; stroke: #1f77b4; stroke-width: 1.5; stroke-linecap: square\"/>\n   </g>\n   <g id=\"line2d_60\">\n    <path d=\"M 49.633125 13.573532 \nL 69.163125 13.697368 \nL 88.693125 14.050971 \nL 108.223125 16.495524 \n\" clip-path=\"url(#pb34d7d7dfb)\" style=\"fill: none; stroke-dasharray: 5.55,2.4; stroke-dashoffset: 0; stroke: #ff7f0e; stroke-width: 1.5\"/>\n   </g>\n   <g id=\"line2d_61\">\n    <path d=\"M 49.633125 139.5 \nL 69.163125 139.5 \nL 88.693125 127.213509 \nL 108.223125 127.309674 \n\" clip-path=\"url(#pb34d7d7dfb)\" style=\"fill: none; stroke-dasharray: 9.6,2.4,1.5,2.4; stroke-dashoffset: 0; stroke: #2ca02c; stroke-width: 1.5\"/>\n   </g>\n   <g id=\"line2d_62\">\n    <path d=\"M 34.954394 13.5 \nL 44.698573 13.545587 \nL 54.442752 13.594073 \nL 64.186931 13.655048 \nL 73.93111 13.746548 \nL 83.675289 13.914372 \nL 93.419468 14.262085 \nL 103.163647 15.274982 \nL 112.907826 20.910748 \nL 122.652006 52.806142 \n\" clip-path=\"url(#pb34d7d7dfb)\" style=\"fill: none; stroke: #1f77b4; stroke-width: 1.5; stroke-linecap: square\"/>\n   </g>\n   <g id=\"line2d_63\">\n    <path d=\"M 49.633125 13.573532 \nL 69.163125 13.697368 \nL 88.693125 14.050971 \nL 108.223125 16.495524 \nL 127.753125 37.506431 \n\" clip-path=\"url(#pb34d7d7dfb)\" style=\"fill: none; stroke-dasharray: 5.55,2.4; stroke-dashoffset: 0; stroke: #ff7f0e; stroke-width: 1.5\"/>\n   </g>\n   <g id=\"line2d_64\">\n    <path d=\"M 49.633125 139.5 \nL 69.163125 139.5 \nL 88.693125 127.213509 \nL 108.223125 127.309674 \n\" clip-path=\"url(#pb34d7d7dfb)\" style=\"fill: none; stroke-dasharray: 9.6,2.4,1.5,2.4; stroke-dashoffset: 0; stroke: #2ca02c; stroke-width: 1.5\"/>\n   </g>\n   <g id=\"line2d_65\">\n    <path d=\"M 34.954394 13.5 \nL 44.698573 13.545587 \nL 54.442752 13.594073 \nL 64.186931 13.655048 \nL 73.93111 13.746548 \nL 83.675289 13.914372 \nL 93.419468 14.262085 \nL 103.163647 15.274982 \nL 112.907826 20.910748 \nL 122.652006 52.806142 \n\" clip-path=\"url(#pb34d7d7dfb)\" style=\"fill: none; stroke: #1f77b4; stroke-width: 1.5; stroke-linecap: square\"/>\n   </g>\n   <g id=\"line2d_66\">\n    <path d=\"M 49.633125 13.573532 \nL 69.163125 13.697368 \nL 88.693125 14.050971 \nL 108.223125 16.495524 \nL 127.753125 37.506431 \n\" clip-path=\"url(#pb34d7d7dfb)\" style=\"fill: none; stroke-dasharray: 5.55,2.4; stroke-dashoffset: 0; stroke: #ff7f0e; stroke-width: 1.5\"/>\n   </g>\n   <g id=\"line2d_67\">\n    <path d=\"M 49.633125 139.5 \nL 69.163125 139.5 \nL 88.693125 127.213509 \nL 108.223125 127.309674 \nL 127.753125 128.870941 \n\" clip-path=\"url(#pb34d7d7dfb)\" style=\"fill: none; stroke-dasharray: 9.6,2.4,1.5,2.4; stroke-dashoffset: 0; stroke: #2ca02c; stroke-width: 1.5\"/>\n   </g>\n   <g id=\"line2d_68\">\n    <path d=\"M 34.954394 13.5 \nL 44.698573 13.545587 \nL 54.442752 13.594073 \nL 64.186931 13.655048 \nL 73.93111 13.746548 \nL 83.675289 13.914372 \nL 93.419468 14.262085 \nL 103.163647 15.274982 \nL 112.907826 20.910748 \nL 122.652006 52.806142 \nL 132.396185 85.233244 \n\" clip-path=\"url(#pb34d7d7dfb)\" style=\"fill: none; stroke: #1f77b4; stroke-width: 1.5; stroke-linecap: square\"/>\n   </g>\n   <g id=\"line2d_69\">\n    <path d=\"M 49.633125 13.573532 \nL 69.163125 13.697368 \nL 88.693125 14.050971 \nL 108.223125 16.495524 \nL 127.753125 37.506431 \n\" clip-path=\"url(#pb34d7d7dfb)\" style=\"fill: none; stroke-dasharray: 5.55,2.4; stroke-dashoffset: 0; stroke: #ff7f0e; stroke-width: 1.5\"/>\n   </g>\n   <g id=\"line2d_70\">\n    <path d=\"M 49.633125 139.5 \nL 69.163125 139.5 \nL 88.693125 127.213509 \nL 108.223125 127.309674 \nL 127.753125 128.870941 \n\" clip-path=\"url(#pb34d7d7dfb)\" style=\"fill: none; stroke-dasharray: 9.6,2.4,1.5,2.4; stroke-dashoffset: 0; stroke: #2ca02c; stroke-width: 1.5\"/>\n   </g>\n   <g id=\"line2d_71\">\n    <path d=\"M 34.954394 13.5 \nL 44.698573 13.545587 \nL 54.442752 13.594073 \nL 64.186931 13.655048 \nL 73.93111 13.746548 \nL 83.675289 13.914372 \nL 93.419468 14.262085 \nL 103.163647 15.274982 \nL 112.907826 20.910748 \nL 122.652006 52.806142 \nL 132.396185 85.233244 \nL 142.140364 95.042472 \n\" clip-path=\"url(#pb34d7d7dfb)\" style=\"fill: none; stroke: #1f77b4; stroke-width: 1.5; stroke-linecap: square\"/>\n   </g>\n   <g id=\"line2d_72\">\n    <path d=\"M 49.633125 13.573532 \nL 69.163125 13.697368 \nL 88.693125 14.050971 \nL 108.223125 16.495524 \nL 127.753125 37.506431 \n\" clip-path=\"url(#pb34d7d7dfb)\" style=\"fill: none; stroke-dasharray: 5.55,2.4; stroke-dashoffset: 0; stroke: #ff7f0e; stroke-width: 1.5\"/>\n   </g>\n   <g id=\"line2d_73\">\n    <path d=\"M 49.633125 139.5 \nL 69.163125 139.5 \nL 88.693125 127.213509 \nL 108.223125 127.309674 \nL 127.753125 128.870941 \n\" clip-path=\"url(#pb34d7d7dfb)\" style=\"fill: none; stroke-dasharray: 9.6,2.4,1.5,2.4; stroke-dashoffset: 0; stroke: #2ca02c; stroke-width: 1.5\"/>\n   </g>\n   <g id=\"line2d_74\">\n    <path d=\"M 34.954394 13.5 \nL 44.698573 13.545587 \nL 54.442752 13.594073 \nL 64.186931 13.655048 \nL 73.93111 13.746548 \nL 83.675289 13.914372 \nL 93.419468 14.262085 \nL 103.163647 15.274982 \nL 112.907826 20.910748 \nL 122.652006 52.806142 \nL 132.396185 85.233244 \nL 142.140364 95.042472 \n\" clip-path=\"url(#pb34d7d7dfb)\" style=\"fill: none; stroke: #1f77b4; stroke-width: 1.5; stroke-linecap: square\"/>\n   </g>\n   <g id=\"line2d_75\">\n    <path d=\"M 49.633125 13.573532 \nL 69.163125 13.697368 \nL 88.693125 14.050971 \nL 108.223125 16.495524 \nL 127.753125 37.506431 \nL 147.283125 94.819688 \n\" clip-path=\"url(#pb34d7d7dfb)\" style=\"fill: none; stroke-dasharray: 5.55,2.4; stroke-dashoffset: 0; stroke: #ff7f0e; stroke-width: 1.5\"/>\n   </g>\n   <g id=\"line2d_76\">\n    <path d=\"M 49.633125 139.5 \nL 69.163125 139.5 \nL 88.693125 127.213509 \nL 108.223125 127.309674 \nL 127.753125 128.870941 \n\" clip-path=\"url(#pb34d7d7dfb)\" style=\"fill: none; stroke-dasharray: 9.6,2.4,1.5,2.4; stroke-dashoffset: 0; stroke: #2ca02c; stroke-width: 1.5\"/>\n   </g>\n   <g id=\"line2d_77\">\n    <path d=\"M 34.954394 13.5 \nL 44.698573 13.545587 \nL 54.442752 13.594073 \nL 64.186931 13.655048 \nL 73.93111 13.746548 \nL 83.675289 13.914372 \nL 93.419468 14.262085 \nL 103.163647 15.274982 \nL 112.907826 20.910748 \nL 122.652006 52.806142 \nL 132.396185 85.233244 \nL 142.140364 95.042472 \n\" clip-path=\"url(#pb34d7d7dfb)\" style=\"fill: none; stroke: #1f77b4; stroke-width: 1.5; stroke-linecap: square\"/>\n   </g>\n   <g id=\"line2d_78\">\n    <path d=\"M 49.633125 13.573532 \nL 69.163125 13.697368 \nL 88.693125 14.050971 \nL 108.223125 16.495524 \nL 127.753125 37.506431 \nL 147.283125 94.819688 \n\" clip-path=\"url(#pb34d7d7dfb)\" style=\"fill: none; stroke-dasharray: 5.55,2.4; stroke-dashoffset: 0; stroke: #ff7f0e; stroke-width: 1.5\"/>\n   </g>\n   <g id=\"line2d_79\">\n    <path d=\"M 49.633125 139.5 \nL 69.163125 139.5 \nL 88.693125 127.213509 \nL 108.223125 127.309674 \nL 127.753125 128.870941 \nL 147.283125 107.092401 \n\" clip-path=\"url(#pb34d7d7dfb)\" style=\"fill: none; stroke-dasharray: 9.6,2.4,1.5,2.4; stroke-dashoffset: 0; stroke: #2ca02c; stroke-width: 1.5\"/>\n   </g>\n   <g id=\"line2d_80\">\n    <path d=\"M 34.954394 13.5 \nL 44.698573 13.545587 \nL 54.442752 13.594073 \nL 64.186931 13.655048 \nL 73.93111 13.746548 \nL 83.675289 13.914372 \nL 93.419468 14.262085 \nL 103.163647 15.274982 \nL 112.907826 20.910748 \nL 122.652006 52.806142 \nL 132.396185 85.233244 \nL 142.140364 95.042472 \nL 151.884543 99.227244 \n\" clip-path=\"url(#pb34d7d7dfb)\" style=\"fill: none; stroke: #1f77b4; stroke-width: 1.5; stroke-linecap: square\"/>\n   </g>\n   <g id=\"line2d_81\">\n    <path d=\"M 49.633125 13.573532 \nL 69.163125 13.697368 \nL 88.693125 14.050971 \nL 108.223125 16.495524 \nL 127.753125 37.506431 \nL 147.283125 94.819688 \n\" clip-path=\"url(#pb34d7d7dfb)\" style=\"fill: none; stroke-dasharray: 5.55,2.4; stroke-dashoffset: 0; stroke: #ff7f0e; stroke-width: 1.5\"/>\n   </g>\n   <g id=\"line2d_82\">\n    <path d=\"M 49.633125 139.5 \nL 69.163125 139.5 \nL 88.693125 127.213509 \nL 108.223125 127.309674 \nL 127.753125 128.870941 \nL 147.283125 107.092401 \n\" clip-path=\"url(#pb34d7d7dfb)\" style=\"fill: none; stroke-dasharray: 9.6,2.4,1.5,2.4; stroke-dashoffset: 0; stroke: #2ca02c; stroke-width: 1.5\"/>\n   </g>\n   <g id=\"line2d_83\">\n    <path d=\"M 34.954394 13.5 \nL 44.698573 13.545587 \nL 54.442752 13.594073 \nL 64.186931 13.655048 \nL 73.93111 13.746548 \nL 83.675289 13.914372 \nL 93.419468 14.262085 \nL 103.163647 15.274982 \nL 112.907826 20.910748 \nL 122.652006 52.806142 \nL 132.396185 85.233244 \nL 142.140364 95.042472 \nL 151.884543 99.227244 \nL 161.628722 104.602643 \n\" clip-path=\"url(#pb34d7d7dfb)\" style=\"fill: none; stroke: #1f77b4; stroke-width: 1.5; stroke-linecap: square\"/>\n   </g>\n   <g id=\"line2d_84\">\n    <path d=\"M 49.633125 13.573532 \nL 69.163125 13.697368 \nL 88.693125 14.050971 \nL 108.223125 16.495524 \nL 127.753125 37.506431 \nL 147.283125 94.819688 \n\" clip-path=\"url(#pb34d7d7dfb)\" style=\"fill: none; stroke-dasharray: 5.55,2.4; stroke-dashoffset: 0; stroke: #ff7f0e; stroke-width: 1.5\"/>\n   </g>\n   <g id=\"line2d_85\">\n    <path d=\"M 49.633125 139.5 \nL 69.163125 139.5 \nL 88.693125 127.213509 \nL 108.223125 127.309674 \nL 127.753125 128.870941 \nL 147.283125 107.092401 \n\" clip-path=\"url(#pb34d7d7dfb)\" style=\"fill: none; stroke-dasharray: 9.6,2.4,1.5,2.4; stroke-dashoffset: 0; stroke: #2ca02c; stroke-width: 1.5\"/>\n   </g>\n   <g id=\"line2d_86\">\n    <path d=\"M 34.954394 13.5 \nL 44.698573 13.545587 \nL 54.442752 13.594073 \nL 64.186931 13.655048 \nL 73.93111 13.746548 \nL 83.675289 13.914372 \nL 93.419468 14.262085 \nL 103.163647 15.274982 \nL 112.907826 20.910748 \nL 122.652006 52.806142 \nL 132.396185 85.233244 \nL 142.140364 95.042472 \nL 151.884543 99.227244 \nL 161.628722 104.602643 \n\" clip-path=\"url(#pb34d7d7dfb)\" style=\"fill: none; stroke: #1f77b4; stroke-width: 1.5; stroke-linecap: square\"/>\n   </g>\n   <g id=\"line2d_87\">\n    <path d=\"M 49.633125 13.573532 \nL 69.163125 13.697368 \nL 88.693125 14.050971 \nL 108.223125 16.495524 \nL 127.753125 37.506431 \nL 147.283125 94.819688 \nL 166.813125 99.330538 \n\" clip-path=\"url(#pb34d7d7dfb)\" style=\"fill: none; stroke-dasharray: 5.55,2.4; stroke-dashoffset: 0; stroke: #ff7f0e; stroke-width: 1.5\"/>\n   </g>\n   <g id=\"line2d_88\">\n    <path d=\"M 49.633125 139.5 \nL 69.163125 139.5 \nL 88.693125 127.213509 \nL 108.223125 127.309674 \nL 127.753125 128.870941 \nL 147.283125 107.092401 \n\" clip-path=\"url(#pb34d7d7dfb)\" style=\"fill: none; stroke-dasharray: 9.6,2.4,1.5,2.4; stroke-dashoffset: 0; stroke: #2ca02c; stroke-width: 1.5\"/>\n   </g>\n   <g id=\"line2d_89\">\n    <path d=\"M 34.954394 13.5 \nL 44.698573 13.545587 \nL 54.442752 13.594073 \nL 64.186931 13.655048 \nL 73.93111 13.746548 \nL 83.675289 13.914372 \nL 93.419468 14.262085 \nL 103.163647 15.274982 \nL 112.907826 20.910748 \nL 122.652006 52.806142 \nL 132.396185 85.233244 \nL 142.140364 95.042472 \nL 151.884543 99.227244 \nL 161.628722 104.602643 \n\" clip-path=\"url(#pb34d7d7dfb)\" style=\"fill: none; stroke: #1f77b4; stroke-width: 1.5; stroke-linecap: square\"/>\n   </g>\n   <g id=\"line2d_90\">\n    <path d=\"M 49.633125 13.573532 \nL 69.163125 13.697368 \nL 88.693125 14.050971 \nL 108.223125 16.495524 \nL 127.753125 37.506431 \nL 147.283125 94.819688 \nL 166.813125 99.330538 \n\" clip-path=\"url(#pb34d7d7dfb)\" style=\"fill: none; stroke-dasharray: 5.55,2.4; stroke-dashoffset: 0; stroke: #ff7f0e; stroke-width: 1.5\"/>\n   </g>\n   <g id=\"line2d_91\">\n    <path d=\"M 49.633125 139.5 \nL 69.163125 139.5 \nL 88.693125 127.213509 \nL 108.223125 127.309674 \nL 127.753125 128.870941 \nL 147.283125 107.092401 \nL 166.813125 105.655583 \n\" clip-path=\"url(#pb34d7d7dfb)\" style=\"fill: none; stroke-dasharray: 9.6,2.4,1.5,2.4; stroke-dashoffset: 0; stroke: #2ca02c; stroke-width: 1.5\"/>\n   </g>\n   <g id=\"line2d_92\">\n    <path d=\"M 34.954394 13.5 \nL 44.698573 13.545587 \nL 54.442752 13.594073 \nL 64.186931 13.655048 \nL 73.93111 13.746548 \nL 83.675289 13.914372 \nL 93.419468 14.262085 \nL 103.163647 15.274982 \nL 112.907826 20.910748 \nL 122.652006 52.806142 \nL 132.396185 85.233244 \nL 142.140364 95.042472 \nL 151.884543 99.227244 \nL 161.628722 104.602643 \nL 171.372901 107.509357 \n\" clip-path=\"url(#pb34d7d7dfb)\" style=\"fill: none; stroke: #1f77b4; stroke-width: 1.5; stroke-linecap: square\"/>\n   </g>\n   <g id=\"line2d_93\">\n    <path d=\"M 49.633125 13.573532 \nL 69.163125 13.697368 \nL 88.693125 14.050971 \nL 108.223125 16.495524 \nL 127.753125 37.506431 \nL 147.283125 94.819688 \nL 166.813125 99.330538 \n\" clip-path=\"url(#pb34d7d7dfb)\" style=\"fill: none; stroke-dasharray: 5.55,2.4; stroke-dashoffset: 0; stroke: #ff7f0e; stroke-width: 1.5\"/>\n   </g>\n   <g id=\"line2d_94\">\n    <path d=\"M 49.633125 139.5 \nL 69.163125 139.5 \nL 88.693125 127.213509 \nL 108.223125 127.309674 \nL 127.753125 128.870941 \nL 147.283125 107.092401 \nL 166.813125 105.655583 \n\" clip-path=\"url(#pb34d7d7dfb)\" style=\"fill: none; stroke-dasharray: 9.6,2.4,1.5,2.4; stroke-dashoffset: 0; stroke: #2ca02c; stroke-width: 1.5\"/>\n   </g>\n   <g id=\"line2d_95\">\n    <path d=\"M 34.954394 13.5 \nL 44.698573 13.545587 \nL 54.442752 13.594073 \nL 64.186931 13.655048 \nL 73.93111 13.746548 \nL 83.675289 13.914372 \nL 93.419468 14.262085 \nL 103.163647 15.274982 \nL 112.907826 20.910748 \nL 122.652006 52.806142 \nL 132.396185 85.233244 \nL 142.140364 95.042472 \nL 151.884543 99.227244 \nL 161.628722 104.602643 \nL 171.372901 107.509357 \nL 181.11708 110.961052 \n\" clip-path=\"url(#pb34d7d7dfb)\" style=\"fill: none; stroke: #1f77b4; stroke-width: 1.5; stroke-linecap: square\"/>\n   </g>\n   <g id=\"line2d_96\">\n    <path d=\"M 49.633125 13.573532 \nL 69.163125 13.697368 \nL 88.693125 14.050971 \nL 108.223125 16.495524 \nL 127.753125 37.506431 \nL 147.283125 94.819688 \nL 166.813125 99.330538 \n\" clip-path=\"url(#pb34d7d7dfb)\" style=\"fill: none; stroke-dasharray: 5.55,2.4; stroke-dashoffset: 0; stroke: #ff7f0e; stroke-width: 1.5\"/>\n   </g>\n   <g id=\"line2d_97\">\n    <path d=\"M 49.633125 139.5 \nL 69.163125 139.5 \nL 88.693125 127.213509 \nL 108.223125 127.309674 \nL 127.753125 128.870941 \nL 147.283125 107.092401 \nL 166.813125 105.655583 \n\" clip-path=\"url(#pb34d7d7dfb)\" style=\"fill: none; stroke-dasharray: 9.6,2.4,1.5,2.4; stroke-dashoffset: 0; stroke: #2ca02c; stroke-width: 1.5\"/>\n   </g>\n   <g id=\"line2d_98\">\n    <path d=\"M 34.954394 13.5 \nL 44.698573 13.545587 \nL 54.442752 13.594073 \nL 64.186931 13.655048 \nL 73.93111 13.746548 \nL 83.675289 13.914372 \nL 93.419468 14.262085 \nL 103.163647 15.274982 \nL 112.907826 20.910748 \nL 122.652006 52.806142 \nL 132.396185 85.233244 \nL 142.140364 95.042472 \nL 151.884543 99.227244 \nL 161.628722 104.602643 \nL 171.372901 107.509357 \nL 181.11708 110.961052 \n\" clip-path=\"url(#pb34d7d7dfb)\" style=\"fill: none; stroke: #1f77b4; stroke-width: 1.5; stroke-linecap: square\"/>\n   </g>\n   <g id=\"line2d_99\">\n    <path d=\"M 49.633125 13.573532 \nL 69.163125 13.697368 \nL 88.693125 14.050971 \nL 108.223125 16.495524 \nL 127.753125 37.506431 \nL 147.283125 94.819688 \nL 166.813125 99.330538 \nL 186.343125 104.968277 \n\" clip-path=\"url(#pb34d7d7dfb)\" style=\"fill: none; stroke-dasharray: 5.55,2.4; stroke-dashoffset: 0; stroke: #ff7f0e; stroke-width: 1.5\"/>\n   </g>\n   <g id=\"line2d_100\">\n    <path d=\"M 49.633125 139.5 \nL 69.163125 139.5 \nL 88.693125 127.213509 \nL 108.223125 127.309674 \nL 127.753125 128.870941 \nL 147.283125 107.092401 \nL 166.813125 105.655583 \n\" clip-path=\"url(#pb34d7d7dfb)\" style=\"fill: none; stroke-dasharray: 9.6,2.4,1.5,2.4; stroke-dashoffset: 0; stroke: #2ca02c; stroke-width: 1.5\"/>\n   </g>\n   <g id=\"line2d_101\">\n    <path d=\"M 34.954394 13.5 \nL 44.698573 13.545587 \nL 54.442752 13.594073 \nL 64.186931 13.655048 \nL 73.93111 13.746548 \nL 83.675289 13.914372 \nL 93.419468 14.262085 \nL 103.163647 15.274982 \nL 112.907826 20.910748 \nL 122.652006 52.806142 \nL 132.396185 85.233244 \nL 142.140364 95.042472 \nL 151.884543 99.227244 \nL 161.628722 104.602643 \nL 171.372901 107.509357 \nL 181.11708 110.961052 \n\" clip-path=\"url(#pb34d7d7dfb)\" style=\"fill: none; stroke: #1f77b4; stroke-width: 1.5; stroke-linecap: square\"/>\n   </g>\n   <g id=\"line2d_102\">\n    <path d=\"M 49.633125 13.573532 \nL 69.163125 13.697368 \nL 88.693125 14.050971 \nL 108.223125 16.495524 \nL 127.753125 37.506431 \nL 147.283125 94.819688 \nL 166.813125 99.330538 \nL 186.343125 104.968277 \n\" clip-path=\"url(#pb34d7d7dfb)\" style=\"fill: none; stroke-dasharray: 5.55,2.4; stroke-dashoffset: 0; stroke: #ff7f0e; stroke-width: 1.5\"/>\n   </g>\n   <g id=\"line2d_103\">\n    <path d=\"M 49.633125 139.5 \nL 69.163125 139.5 \nL 88.693125 127.213509 \nL 108.223125 127.309674 \nL 127.753125 128.870941 \nL 147.283125 107.092401 \nL 166.813125 105.655583 \nL 186.343125 103.568237 \n\" clip-path=\"url(#pb34d7d7dfb)\" style=\"fill: none; stroke-dasharray: 9.6,2.4,1.5,2.4; stroke-dashoffset: 0; stroke: #2ca02c; stroke-width: 1.5\"/>\n   </g>\n   <g id=\"line2d_104\">\n    <path d=\"M 34.954394 13.5 \nL 44.698573 13.545587 \nL 54.442752 13.594073 \nL 64.186931 13.655048 \nL 73.93111 13.746548 \nL 83.675289 13.914372 \nL 93.419468 14.262085 \nL 103.163647 15.274982 \nL 112.907826 20.910748 \nL 122.652006 52.806142 \nL 132.396185 85.233244 \nL 142.140364 95.042472 \nL 151.884543 99.227244 \nL 161.628722 104.602643 \nL 171.372901 107.509357 \nL 181.11708 110.961052 \nL 190.861259 112.685619 \n\" clip-path=\"url(#pb34d7d7dfb)\" style=\"fill: none; stroke: #1f77b4; stroke-width: 1.5; stroke-linecap: square\"/>\n   </g>\n   <g id=\"line2d_105\">\n    <path d=\"M 49.633125 13.573532 \nL 69.163125 13.697368 \nL 88.693125 14.050971 \nL 108.223125 16.495524 \nL 127.753125 37.506431 \nL 147.283125 94.819688 \nL 166.813125 99.330538 \nL 186.343125 104.968277 \n\" clip-path=\"url(#pb34d7d7dfb)\" style=\"fill: none; stroke-dasharray: 5.55,2.4; stroke-dashoffset: 0; stroke: #ff7f0e; stroke-width: 1.5\"/>\n   </g>\n   <g id=\"line2d_106\">\n    <path d=\"M 49.633125 139.5 \nL 69.163125 139.5 \nL 88.693125 127.213509 \nL 108.223125 127.309674 \nL 127.753125 128.870941 \nL 147.283125 107.092401 \nL 166.813125 105.655583 \nL 186.343125 103.568237 \n\" clip-path=\"url(#pb34d7d7dfb)\" style=\"fill: none; stroke-dasharray: 9.6,2.4,1.5,2.4; stroke-dashoffset: 0; stroke: #2ca02c; stroke-width: 1.5\"/>\n   </g>\n   <g id=\"line2d_107\">\n    <path d=\"M 34.954394 13.5 \nL 44.698573 13.545587 \nL 54.442752 13.594073 \nL 64.186931 13.655048 \nL 73.93111 13.746548 \nL 83.675289 13.914372 \nL 93.419468 14.262085 \nL 103.163647 15.274982 \nL 112.907826 20.910748 \nL 122.652006 52.806142 \nL 132.396185 85.233244 \nL 142.140364 95.042472 \nL 151.884543 99.227244 \nL 161.628722 104.602643 \nL 171.372901 107.509357 \nL 181.11708 110.961052 \nL 190.861259 112.685619 \nL 200.605438 101.958318 \n\" clip-path=\"url(#pb34d7d7dfb)\" style=\"fill: none; stroke: #1f77b4; stroke-width: 1.5; stroke-linecap: square\"/>\n   </g>\n   <g id=\"line2d_108\">\n    <path d=\"M 49.633125 13.573532 \nL 69.163125 13.697368 \nL 88.693125 14.050971 \nL 108.223125 16.495524 \nL 127.753125 37.506431 \nL 147.283125 94.819688 \nL 166.813125 99.330538 \nL 186.343125 104.968277 \n\" clip-path=\"url(#pb34d7d7dfb)\" style=\"fill: none; stroke-dasharray: 5.55,2.4; stroke-dashoffset: 0; stroke: #ff7f0e; stroke-width: 1.5\"/>\n   </g>\n   <g id=\"line2d_109\">\n    <path d=\"M 49.633125 139.5 \nL 69.163125 139.5 \nL 88.693125 127.213509 \nL 108.223125 127.309674 \nL 127.753125 128.870941 \nL 147.283125 107.092401 \nL 166.813125 105.655583 \nL 186.343125 103.568237 \n\" clip-path=\"url(#pb34d7d7dfb)\" style=\"fill: none; stroke-dasharray: 9.6,2.4,1.5,2.4; stroke-dashoffset: 0; stroke: #2ca02c; stroke-width: 1.5\"/>\n   </g>\n   <g id=\"line2d_110\">\n    <path d=\"M 34.954394 13.5 \nL 44.698573 13.545587 \nL 54.442752 13.594073 \nL 64.186931 13.655048 \nL 73.93111 13.746548 \nL 83.675289 13.914372 \nL 93.419468 14.262085 \nL 103.163647 15.274982 \nL 112.907826 20.910748 \nL 122.652006 52.806142 \nL 132.396185 85.233244 \nL 142.140364 95.042472 \nL 151.884543 99.227244 \nL 161.628722 104.602643 \nL 171.372901 107.509357 \nL 181.11708 110.961052 \nL 190.861259 112.685619 \nL 200.605438 101.958318 \n\" clip-path=\"url(#pb34d7d7dfb)\" style=\"fill: none; stroke: #1f77b4; stroke-width: 1.5; stroke-linecap: square\"/>\n   </g>\n   <g id=\"line2d_111\">\n    <path d=\"M 49.633125 13.573532 \nL 69.163125 13.697368 \nL 88.693125 14.050971 \nL 108.223125 16.495524 \nL 127.753125 37.506431 \nL 147.283125 94.819688 \nL 166.813125 99.330538 \nL 186.343125 104.968277 \nL 205.873125 91.628868 \n\" clip-path=\"url(#pb34d7d7dfb)\" style=\"fill: none; stroke-dasharray: 5.55,2.4; stroke-dashoffset: 0; stroke: #ff7f0e; stroke-width: 1.5\"/>\n   </g>\n   <g id=\"line2d_112\">\n    <path d=\"M 49.633125 139.5 \nL 69.163125 139.5 \nL 88.693125 127.213509 \nL 108.223125 127.309674 \nL 127.753125 128.870941 \nL 147.283125 107.092401 \nL 166.813125 105.655583 \nL 186.343125 103.568237 \n\" clip-path=\"url(#pb34d7d7dfb)\" style=\"fill: none; stroke-dasharray: 9.6,2.4,1.5,2.4; stroke-dashoffset: 0; stroke: #2ca02c; stroke-width: 1.5\"/>\n   </g>\n   <g id=\"line2d_113\">\n    <path d=\"M 34.954394 13.5 \nL 44.698573 13.545587 \nL 54.442752 13.594073 \nL 64.186931 13.655048 \nL 73.93111 13.746548 \nL 83.675289 13.914372 \nL 93.419468 14.262085 \nL 103.163647 15.274982 \nL 112.907826 20.910748 \nL 122.652006 52.806142 \nL 132.396185 85.233244 \nL 142.140364 95.042472 \nL 151.884543 99.227244 \nL 161.628722 104.602643 \nL 171.372901 107.509357 \nL 181.11708 110.961052 \nL 190.861259 112.685619 \nL 200.605438 101.958318 \n\" clip-path=\"url(#pb34d7d7dfb)\" style=\"fill: none; stroke: #1f77b4; stroke-width: 1.5; stroke-linecap: square\"/>\n   </g>\n   <g id=\"line2d_114\">\n    <path d=\"M 49.633125 13.573532 \nL 69.163125 13.697368 \nL 88.693125 14.050971 \nL 108.223125 16.495524 \nL 127.753125 37.506431 \nL 147.283125 94.819688 \nL 166.813125 99.330538 \nL 186.343125 104.968277 \nL 205.873125 91.628868 \n\" clip-path=\"url(#pb34d7d7dfb)\" style=\"fill: none; stroke-dasharray: 5.55,2.4; stroke-dashoffset: 0; stroke: #ff7f0e; stroke-width: 1.5\"/>\n   </g>\n   <g id=\"line2d_115\">\n    <path d=\"M 49.633125 139.5 \nL 69.163125 139.5 \nL 88.693125 127.213509 \nL 108.223125 127.309674 \nL 127.753125 128.870941 \nL 147.283125 107.092401 \nL 166.813125 105.655583 \nL 186.343125 103.568237 \nL 205.873125 108.037081 \n\" clip-path=\"url(#pb34d7d7dfb)\" style=\"fill: none; stroke-dasharray: 9.6,2.4,1.5,2.4; stroke-dashoffset: 0; stroke: #2ca02c; stroke-width: 1.5\"/>\n   </g>\n   <g id=\"line2d_116\">\n    <path d=\"M 34.954394 13.5 \nL 44.698573 13.545587 \nL 54.442752 13.594073 \nL 64.186931 13.655048 \nL 73.93111 13.746548 \nL 83.675289 13.914372 \nL 93.419468 14.262085 \nL 103.163647 15.274982 \nL 112.907826 20.910748 \nL 122.652006 52.806142 \nL 132.396185 85.233244 \nL 142.140364 95.042472 \nL 151.884543 99.227244 \nL 161.628722 104.602643 \nL 171.372901 107.509357 \nL 181.11708 110.961052 \nL 190.861259 112.685619 \nL 200.605438 101.958318 \nL 210.349618 109.155144 \n\" clip-path=\"url(#pb34d7d7dfb)\" style=\"fill: none; stroke: #1f77b4; stroke-width: 1.5; stroke-linecap: square\"/>\n   </g>\n   <g id=\"line2d_117\">\n    <path d=\"M 49.633125 13.573532 \nL 69.163125 13.697368 \nL 88.693125 14.050971 \nL 108.223125 16.495524 \nL 127.753125 37.506431 \nL 147.283125 94.819688 \nL 166.813125 99.330538 \nL 186.343125 104.968277 \nL 205.873125 91.628868 \n\" clip-path=\"url(#pb34d7d7dfb)\" style=\"fill: none; stroke-dasharray: 5.55,2.4; stroke-dashoffset: 0; stroke: #ff7f0e; stroke-width: 1.5\"/>\n   </g>\n   <g id=\"line2d_118\">\n    <path d=\"M 49.633125 139.5 \nL 69.163125 139.5 \nL 88.693125 127.213509 \nL 108.223125 127.309674 \nL 127.753125 128.870941 \nL 147.283125 107.092401 \nL 166.813125 105.655583 \nL 186.343125 103.568237 \nL 205.873125 108.037081 \n\" clip-path=\"url(#pb34d7d7dfb)\" style=\"fill: none; stroke-dasharray: 9.6,2.4,1.5,2.4; stroke-dashoffset: 0; stroke: #2ca02c; stroke-width: 1.5\"/>\n   </g>\n   <g id=\"line2d_119\">\n    <path d=\"M 34.954394 13.5 \nL 44.698573 13.545587 \nL 54.442752 13.594073 \nL 64.186931 13.655048 \nL 73.93111 13.746548 \nL 83.675289 13.914372 \nL 93.419468 14.262085 \nL 103.163647 15.274982 \nL 112.907826 20.910748 \nL 122.652006 52.806142 \nL 132.396185 85.233244 \nL 142.140364 95.042472 \nL 151.884543 99.227244 \nL 161.628722 104.602643 \nL 171.372901 107.509357 \nL 181.11708 110.961052 \nL 190.861259 112.685619 \nL 200.605438 101.958318 \nL 210.349618 109.155144 \nL 220.093797 114.913395 \n\" clip-path=\"url(#pb34d7d7dfb)\" style=\"fill: none; stroke: #1f77b4; stroke-width: 1.5; stroke-linecap: square\"/>\n   </g>\n   <g id=\"line2d_120\">\n    <path d=\"M 49.633125 13.573532 \nL 69.163125 13.697368 \nL 88.693125 14.050971 \nL 108.223125 16.495524 \nL 127.753125 37.506431 \nL 147.283125 94.819688 \nL 166.813125 99.330538 \nL 186.343125 104.968277 \nL 205.873125 91.628868 \n\" clip-path=\"url(#pb34d7d7dfb)\" style=\"fill: none; stroke-dasharray: 5.55,2.4; stroke-dashoffset: 0; stroke: #ff7f0e; stroke-width: 1.5\"/>\n   </g>\n   <g id=\"line2d_121\">\n    <path d=\"M 49.633125 139.5 \nL 69.163125 139.5 \nL 88.693125 127.213509 \nL 108.223125 127.309674 \nL 127.753125 128.870941 \nL 147.283125 107.092401 \nL 166.813125 105.655583 \nL 186.343125 103.568237 \nL 205.873125 108.037081 \n\" clip-path=\"url(#pb34d7d7dfb)\" style=\"fill: none; stroke-dasharray: 9.6,2.4,1.5,2.4; stroke-dashoffset: 0; stroke: #2ca02c; stroke-width: 1.5\"/>\n   </g>\n   <g id=\"line2d_122\">\n    <path d=\"M 34.954394 13.5 \nL 44.698573 13.545587 \nL 54.442752 13.594073 \nL 64.186931 13.655048 \nL 73.93111 13.746548 \nL 83.675289 13.914372 \nL 93.419468 14.262085 \nL 103.163647 15.274982 \nL 112.907826 20.910748 \nL 122.652006 52.806142 \nL 132.396185 85.233244 \nL 142.140364 95.042472 \nL 151.884543 99.227244 \nL 161.628722 104.602643 \nL 171.372901 107.509357 \nL 181.11708 110.961052 \nL 190.861259 112.685619 \nL 200.605438 101.958318 \nL 210.349618 109.155144 \nL 220.093797 114.913395 \n\" clip-path=\"url(#pb34d7d7dfb)\" style=\"fill: none; stroke: #1f77b4; stroke-width: 1.5; stroke-linecap: square\"/>\n   </g>\n   <g id=\"line2d_123\">\n    <path d=\"M 49.633125 13.573532 \nL 69.163125 13.697368 \nL 88.693125 14.050971 \nL 108.223125 16.495524 \nL 127.753125 37.506431 \nL 147.283125 94.819688 \nL 166.813125 99.330538 \nL 186.343125 104.968277 \nL 205.873125 91.628868 \nL 225.403125 115.639777 \n\" clip-path=\"url(#pb34d7d7dfb)\" style=\"fill: none; stroke-dasharray: 5.55,2.4; stroke-dashoffset: 0; stroke: #ff7f0e; stroke-width: 1.5\"/>\n   </g>\n   <g id=\"line2d_124\">\n    <path d=\"M 49.633125 139.5 \nL 69.163125 139.5 \nL 88.693125 127.213509 \nL 108.223125 127.309674 \nL 127.753125 128.870941 \nL 147.283125 107.092401 \nL 166.813125 105.655583 \nL 186.343125 103.568237 \nL 205.873125 108.037081 \n\" clip-path=\"url(#pb34d7d7dfb)\" style=\"fill: none; stroke-dasharray: 9.6,2.4,1.5,2.4; stroke-dashoffset: 0; stroke: #2ca02c; stroke-width: 1.5\"/>\n   </g>\n   <g id=\"line2d_125\">\n    <path d=\"M 34.954394 13.5 \nL 44.698573 13.545587 \nL 54.442752 13.594073 \nL 64.186931 13.655048 \nL 73.93111 13.746548 \nL 83.675289 13.914372 \nL 93.419468 14.262085 \nL 103.163647 15.274982 \nL 112.907826 20.910748 \nL 122.652006 52.806142 \nL 132.396185 85.233244 \nL 142.140364 95.042472 \nL 151.884543 99.227244 \nL 161.628722 104.602643 \nL 171.372901 107.509357 \nL 181.11708 110.961052 \nL 190.861259 112.685619 \nL 200.605438 101.958318 \nL 210.349618 109.155144 \nL 220.093797 114.913395 \n\" clip-path=\"url(#pb34d7d7dfb)\" style=\"fill: none; stroke: #1f77b4; stroke-width: 1.5; stroke-linecap: square\"/>\n   </g>\n   <g id=\"line2d_126\">\n    <path d=\"M 49.633125 13.573532 \nL 69.163125 13.697368 \nL 88.693125 14.050971 \nL 108.223125 16.495524 \nL 127.753125 37.506431 \nL 147.283125 94.819688 \nL 166.813125 99.330538 \nL 186.343125 104.968277 \nL 205.873125 91.628868 \nL 225.403125 115.639777 \n\" clip-path=\"url(#pb34d7d7dfb)\" style=\"fill: none; stroke-dasharray: 5.55,2.4; stroke-dashoffset: 0; stroke: #ff7f0e; stroke-width: 1.5\"/>\n   </g>\n   <g id=\"line2d_127\">\n    <path d=\"M 49.633125 139.5 \nL 69.163125 139.5 \nL 88.693125 127.213509 \nL 108.223125 127.309674 \nL 127.753125 128.870941 \nL 147.283125 107.092401 \nL 166.813125 105.655583 \nL 186.343125 103.568237 \nL 205.873125 108.037081 \nL 225.403125 99.07111 \n\" clip-path=\"url(#pb34d7d7dfb)\" style=\"fill: none; stroke-dasharray: 9.6,2.4,1.5,2.4; stroke-dashoffset: 0; stroke: #2ca02c; stroke-width: 1.5\"/>\n   </g>\n   <g id=\"patch_3\">\n    <path d=\"M 30.103125 145.8 \nL 30.103125 7.2 \n\" style=\"fill: none; stroke: #000000; stroke-width: 0.8; stroke-linejoin: miter; stroke-linecap: square\"/>\n   </g>\n   <g id=\"patch_4\">\n    <path d=\"M 225.403125 145.8 \nL 225.403125 7.2 \n\" style=\"fill: none; stroke: #000000; stroke-width: 0.8; stroke-linejoin: miter; stroke-linecap: square\"/>\n   </g>\n   <g id=\"patch_5\">\n    <path d=\"M 30.103125 145.8 \nL 225.403125 145.8 \n\" style=\"fill: none; stroke: #000000; stroke-width: 0.8; stroke-linejoin: miter; stroke-linecap: square\"/>\n   </g>\n   <g id=\"patch_6\">\n    <path d=\"M 30.103125 7.2 \nL 225.403125 7.2 \n\" style=\"fill: none; stroke: #000000; stroke-width: 0.8; stroke-linejoin: miter; stroke-linecap: square\"/>\n   </g>\n   <g id=\"legend_1\">\n    <g id=\"patch_7\">\n     <path d=\"M 138.8125 60.06875 \nL 218.403125 60.06875 \nQ 220.403125 60.06875 220.403125 58.06875 \nL 220.403125 14.2 \nQ 220.403125 12.2 218.403125 12.2 \nL 138.8125 12.2 \nQ 136.8125 12.2 136.8125 14.2 \nL 136.8125 58.06875 \nQ 136.8125 60.06875 138.8125 60.06875 \nz\n\" style=\"fill: #ffffff; opacity: 0.8; stroke: #cccccc; stroke-linejoin: miter\"/>\n    </g>\n    <g id=\"line2d_128\">\n     <path d=\"M 140.8125 20.298438 \nL 150.8125 20.298438 \nL 160.8125 20.298438 \n\" style=\"fill: none; stroke: #1f77b4; stroke-width: 1.5; stroke-linecap: square\"/>\n    </g>\n    <g id=\"text_13\">\n     <!-- train_loss -->\n     <g transform=\"translate(168.8125 23.798438) scale(0.1 -0.1)\">\n      <defs>\n       <path id=\"DejaVuSans-74\" d=\"M 1172 4494 \nL 1172 3500 \nL 2356 3500 \nL 2356 3053 \nL 1172 3053 \nL 1172 1153 \nQ 1172 725 1289 603 \nQ 1406 481 1766 481 \nL 2356 481 \nL 2356 0 \nL 1766 0 \nQ 1100 0 847 248 \nQ 594 497 594 1153 \nL 594 3053 \nL 172 3053 \nL 172 3500 \nL 594 3500 \nL 594 4494 \nL 1172 4494 \nz\n\" transform=\"scale(0.015625)\"/>\n       <path id=\"DejaVuSans-72\" d=\"M 2631 2963 \nQ 2534 3019 2420 3045 \nQ 2306 3072 2169 3072 \nQ 1681 3072 1420 2755 \nQ 1159 2438 1159 1844 \nL 1159 0 \nL 581 0 \nL 581 3500 \nL 1159 3500 \nL 1159 2956 \nQ 1341 3275 1631 3429 \nQ 1922 3584 2338 3584 \nQ 2397 3584 2469 3576 \nQ 2541 3569 2628 3553 \nL 2631 2963 \nz\n\" transform=\"scale(0.015625)\"/>\n       <path id=\"DejaVuSans-61\" d=\"M 2194 1759 \nQ 1497 1759 1228 1600 \nQ 959 1441 959 1056 \nQ 959 750 1161 570 \nQ 1363 391 1709 391 \nQ 2188 391 2477 730 \nQ 2766 1069 2766 1631 \nL 2766 1759 \nL 2194 1759 \nz\nM 3341 1997 \nL 3341 0 \nL 2766 0 \nL 2766 531 \nQ 2569 213 2275 61 \nQ 1981 -91 1556 -91 \nQ 1019 -91 701 211 \nQ 384 513 384 1019 \nQ 384 1609 779 1909 \nQ 1175 2209 1959 2209 \nL 2766 2209 \nL 2766 2266 \nQ 2766 2663 2505 2880 \nQ 2244 3097 1772 3097 \nQ 1472 3097 1187 3025 \nQ 903 2953 641 2809 \nL 641 3341 \nQ 956 3463 1253 3523 \nQ 1550 3584 1831 3584 \nQ 2591 3584 2966 3190 \nQ 3341 2797 3341 1997 \nz\n\" transform=\"scale(0.015625)\"/>\n       <path id=\"DejaVuSans-69\" d=\"M 603 3500 \nL 1178 3500 \nL 1178 0 \nL 603 0 \nL 603 3500 \nz\nM 603 4863 \nL 1178 4863 \nL 1178 4134 \nL 603 4134 \nL 603 4863 \nz\n\" transform=\"scale(0.015625)\"/>\n       <path id=\"DejaVuSans-6e\" d=\"M 3513 2113 \nL 3513 0 \nL 2938 0 \nL 2938 2094 \nQ 2938 2591 2744 2837 \nQ 2550 3084 2163 3084 \nQ 1697 3084 1428 2787 \nQ 1159 2491 1159 1978 \nL 1159 0 \nL 581 0 \nL 581 3500 \nL 1159 3500 \nL 1159 2956 \nQ 1366 3272 1645 3428 \nQ 1925 3584 2291 3584 \nQ 2894 3584 3203 3211 \nQ 3513 2838 3513 2113 \nz\n\" transform=\"scale(0.015625)\"/>\n       <path id=\"DejaVuSans-5f\" d=\"M 3263 -1063 \nL 3263 -1509 \nL -63 -1509 \nL -63 -1063 \nL 3263 -1063 \nz\n\" transform=\"scale(0.015625)\"/>\n       <path id=\"DejaVuSans-6c\" d=\"M 603 4863 \nL 1178 4863 \nL 1178 0 \nL 603 0 \nL 603 4863 \nz\n\" transform=\"scale(0.015625)\"/>\n       <path id=\"DejaVuSans-73\" d=\"M 2834 3397 \nL 2834 2853 \nQ 2591 2978 2328 3040 \nQ 2066 3103 1784 3103 \nQ 1356 3103 1142 2972 \nQ 928 2841 928 2578 \nQ 928 2378 1081 2264 \nQ 1234 2150 1697 2047 \nL 1894 2003 \nQ 2506 1872 2764 1633 \nQ 3022 1394 3022 966 \nQ 3022 478 2636 193 \nQ 2250 -91 1575 -91 \nQ 1294 -91 989 -36 \nQ 684 19 347 128 \nL 347 722 \nQ 666 556 975 473 \nQ 1284 391 1588 391 \nQ 1994 391 2212 530 \nQ 2431 669 2431 922 \nQ 2431 1156 2273 1281 \nQ 2116 1406 1581 1522 \nL 1381 1569 \nQ 847 1681 609 1914 \nQ 372 2147 372 2553 \nQ 372 3047 722 3315 \nQ 1072 3584 1716 3584 \nQ 2034 3584 2315 3537 \nQ 2597 3491 2834 3397 \nz\n\" transform=\"scale(0.015625)\"/>\n      </defs>\n      <use xlink:href=\"#DejaVuSans-74\"/>\n      <use xlink:href=\"#DejaVuSans-72\" x=\"39.208984\"/>\n      <use xlink:href=\"#DejaVuSans-61\" x=\"80.322266\"/>\n      <use xlink:href=\"#DejaVuSans-69\" x=\"141.601562\"/>\n      <use xlink:href=\"#DejaVuSans-6e\" x=\"169.384766\"/>\n      <use xlink:href=\"#DejaVuSans-5f\" x=\"232.763672\"/>\n      <use xlink:href=\"#DejaVuSans-6c\" x=\"282.763672\"/>\n      <use xlink:href=\"#DejaVuSans-6f\" x=\"310.546875\"/>\n      <use xlink:href=\"#DejaVuSans-73\" x=\"371.728516\"/>\n      <use xlink:href=\"#DejaVuSans-73\" x=\"423.828125\"/>\n     </g>\n    </g>\n    <g id=\"line2d_129\">\n     <path d=\"M 140.8125 35.254688 \nL 150.8125 35.254688 \nL 160.8125 35.254688 \n\" style=\"fill: none; stroke-dasharray: 5.55,2.4; stroke-dashoffset: 0; stroke: #ff7f0e; stroke-width: 1.5\"/>\n    </g>\n    <g id=\"text_14\">\n     <!-- val_loss -->\n     <g transform=\"translate(168.8125 38.754688) scale(0.1 -0.1)\">\n      <defs>\n       <path id=\"DejaVuSans-76\" d=\"M 191 3500 \nL 800 3500 \nL 1894 563 \nL 2988 3500 \nL 3597 3500 \nL 2284 0 \nL 1503 0 \nL 191 3500 \nz\n\" transform=\"scale(0.015625)\"/>\n      </defs>\n      <use xlink:href=\"#DejaVuSans-76\"/>\n      <use xlink:href=\"#DejaVuSans-61\" x=\"59.179688\"/>\n      <use xlink:href=\"#DejaVuSans-6c\" x=\"120.458984\"/>\n      <use xlink:href=\"#DejaVuSans-5f\" x=\"148.242188\"/>\n      <use xlink:href=\"#DejaVuSans-6c\" x=\"198.242188\"/>\n      <use xlink:href=\"#DejaVuSans-6f\" x=\"226.025391\"/>\n      <use xlink:href=\"#DejaVuSans-73\" x=\"287.207031\"/>\n      <use xlink:href=\"#DejaVuSans-73\" x=\"339.306641\"/>\n     </g>\n    </g>\n    <g id=\"line2d_130\">\n     <path d=\"M 140.8125 50.210938 \nL 150.8125 50.210938 \nL 160.8125 50.210938 \n\" style=\"fill: none; stroke-dasharray: 9.6,2.4,1.5,2.4; stroke-dashoffset: 0; stroke: #2ca02c; stroke-width: 1.5\"/>\n    </g>\n    <g id=\"text_15\">\n     <!-- val_acc -->\n     <g transform=\"translate(168.8125 53.710938) scale(0.1 -0.1)\">\n      <use xlink:href=\"#DejaVuSans-76\"/>\n      <use xlink:href=\"#DejaVuSans-61\" x=\"59.179688\"/>\n      <use xlink:href=\"#DejaVuSans-6c\" x=\"120.458984\"/>\n      <use xlink:href=\"#DejaVuSans-5f\" x=\"148.242188\"/>\n      <use xlink:href=\"#DejaVuSans-61\" x=\"198.242188\"/>\n      <use xlink:href=\"#DejaVuSans-63\" x=\"259.521484\"/>\n      <use xlink:href=\"#DejaVuSans-63\" x=\"314.501953\"/>\n     </g>\n    </g>\n   </g>\n  </g>\n </g>\n <defs>\n  <clipPath id=\"pb34d7d7dfb\">\n   <rect x=\"30.103125\" y=\"7.2\" width=\"195.3\" height=\"138.6\"/>\n  </clipPath>\n </defs>\n</svg>\n"
          },
          "metadata": {}
        }
      ]
    },
    {
      "cell_type": "markdown",
      "source": [
        "## 8.4.5 Exercises"
      ],
      "metadata": {
        "id": "8p8nPMh-oN05"
      },
      "id": "8p8nPMh-oN05"
    },
    {
      "cell_type": "markdown",
      "source": [
        "1. GoogLeNet was so successful that it went through a number of iterations, progressively improving speed and accuracy. Try to implement and run some of them. They include the following:\n",
        "\n",
        "  * Add a batch normalization layer (Ioffe and Szegedy, 2015), as described later in Section 8.5.\n",
        "\n",
        "  * Make adjustments to the Inception block (width, choice and order of convolutions), as described in Szegedy et al. (2016).\n",
        "\n",
        "  * Use label smoothing for model regularization, as described in Szegedy et al. (2016).\n",
        "\n",
        "  * Make further adjustments to the Inception block by adding residual connection (Szegedy et al., 2017), as described later in Section 8.6.\n",
        "\n",
        "2. What is the minimum image size needed for GoogLeNet to work?\n",
        "\n",
        "3. Can you design a variant of GoogLeNet that works on Fashion-MNIST’s native resolution of pixels? How would you need to change the stem, the body, and the head of the network, if anything at all?\n",
        "\n",
        "4. Compare the model parameter sizes of AlexNet, VGG, NiN, and GoogLeNet. How do the latter two network architectures significantly reduce the model parameter size?\n",
        "\n",
        "5. Compare the amount of computation needed in GoogLeNet and AlexNet. How does this affect the design of an accelerator chip, e.g., in terms of memory size, memory bandwidth, cache size, the amount of computation, and the benefit of specialized operations?"
      ],
      "metadata": {
        "id": "K53-Ob2goS2G"
      },
      "id": "K53-Ob2goS2G"
    },
    {
      "cell_type": "markdown",
      "source": [
        "## Jawaban Exercises 8.4.5\n",
        "\n",
        "---\n",
        "\n"
      ],
      "metadata": {
        "id": "Wnfcuf5hoyWB"
      },
      "id": "Wnfcuf5hoyWB"
    },
    {
      "cell_type": "markdown",
      "source": [
        "**1a. Add a Batch Normaization Layer (loffe and Szegedy, 2015)**\n",
        "\n",
        "**Implementation:** Tambahkan lapisan **Batch Normalization** setelah setiap lapisan konvolusi di Inception block untuk meningkatkan stabilitas pelatihan dan kecepatan konvergensi."
      ],
      "metadata": {
        "id": "0zRDcM_RpJ26"
      },
      "id": "0zRDcM_RpJ26"
    },
    {
      "cell_type": "code",
      "source": [
        "class InceptionBlockWithBN(nn.Module):\n",
        "    def __init__(self, in_channels, out1_1, out2_1, out2_3, out3_1, out3_5, out4):\n",
        "        super(InceptionBlockWithBN, self).__init__()\n",
        "        # 1x1 conv branch\n",
        "        self.branch1 = nn.Sequential(\n",
        "            nn.Conv2d(in_channels, out1_1, kernel_size=1),\n",
        "            nn.BatchNorm2d(out1_1),\n",
        "            nn.ReLU()\n",
        "        )\n",
        "        # 1x1 conv -> 3x3 conv branch\n",
        "        self.branch2 = nn.Sequential(\n",
        "            nn.Conv2d(in_channels, out2_1, kernel_size=1),\n",
        "            nn.BatchNorm2d(out2_1),\n",
        "            nn.ReLU(),\n",
        "            nn.Conv2d(out2_1, out2_3, kernel_size=3, padding=1),\n",
        "            nn.BatchNorm2d(out2_3),\n",
        "            nn.ReLU()\n",
        "        )\n",
        "        # 1x1 conv -> 3x3 conv -> 3x3 conv branch\n",
        "        self.branch3 = nn.Sequential(\n",
        "            nn.Conv2d(in_channels, out3_1, kernel_size=1),\n",
        "            nn.BatchNorm2d(out3_1),\n",
        "            nn.ReLU(),\n",
        "            nn.Conv2d(out3_1, out3_5, kernel_size=3, padding=1),\n",
        "            nn.BatchNorm2d(out3_5),\n",
        "            nn.ReLU(),\n",
        "            nn.Conv2d(out3_5, out3_5, kernel_size=3, padding=1),\n",
        "            nn.BatchNorm2d(out3_5),\n",
        "            nn.ReLU()\n",
        "        )\n",
        "        # 3x3 pool -> 1x1 conv branch\n",
        "        self.branch4 = nn.Sequential(\n",
        "            nn.MaxPool2d(kernel_size=3, stride=1, padding=1),\n",
        "            nn.Conv2d(in_channels, out4, kernel_size=1),\n",
        "            nn.BatchNorm2d(out4),\n",
        "            nn.ReLU()\n",
        "        )\n",
        "\n",
        "    def forward(self, x):\n",
        "        branch1 = self.branch1(x)\n",
        "        branch2 = self.branch2(x)\n",
        "        branch3 = self.branch3(x)\n",
        "        branch4 = self.branch4(x)\n",
        "        return torch.cat((branch1, branch2, branch3, branch4), dim=1)\n"
      ],
      "metadata": {
        "id": "QYBBhVAZmLtc"
      },
      "id": "QYBBhVAZmLtc",
      "execution_count": null,
      "outputs": []
    },
    {
      "cell_type": "markdown",
      "source": [
        "**1b. Make Adjustments to the Inception Block (Szegedy et al., 2016)**\n",
        "\n",
        "* **Implementation**: Modifikasi Inception block untuk menggunakan konvolusi yang lebih lebar atau mengubah urutan filter konvolusi (misalnya, mengganti urutan dari 1×1 diikuti 3×3 menjadi sebaliknya).\n",
        "\n",
        "* **Explanation:** Mengubah urutan konvolusi dapat membantu dalam menangkap lebih banyak fitur lokal sebelum memperluas dimensi channel."
      ],
      "metadata": {
        "id": "15ryuJSGpxKc"
      },
      "id": "15ryuJSGpxKc"
    },
    {
      "cell_type": "markdown",
      "source": [
        "**1c. Use Label Smoothing for Model Regularization (Szegedy et al., 2016)**\n",
        "\n",
        "**Implementation:** **Label Smoothing** mengurangi overfitting dengan mengubah target label menjadi distribusi. Ini menghindari model menjadi terlalu percaya diri.\n"
      ],
      "metadata": {
        "id": "yCrcLYEAqF_8"
      },
      "id": "yCrcLYEAqF_8"
    },
    {
      "cell_type": "code",
      "source": [
        "criterion = nn.CrossEntropyLoss(label_smoothing=0.1)  # label smoothing sebesar 0.1\n"
      ],
      "metadata": {
        "id": "XIxg8sQXpiiE"
      },
      "id": "XIxg8sQXpiiE",
      "execution_count": null,
      "outputs": []
    },
    {
      "cell_type": "markdown",
      "source": [
        "**Explanation:** Dengan menggunakan label smoothing, nilai target sedikit \"dilembutkan\" untuk membantu model belajar dengan cara yang lebih umum dan tidak berlebihan."
      ],
      "metadata": {
        "id": "8j3YxKcPqTbk"
      },
      "id": "8j3YxKcPqTbk"
    },
    {
      "cell_type": "markdown",
      "source": [
        "**1d. Add Residual Connection in Inception Block (Szegedy et al., 2017)**\n",
        "\n",
        "**Implementation:** Tambahkan **Residual Connection** untuk membantu dalam melatih model yang lebih dalam dan mengatasi masalah vanishing gradient. Setiap Inception block memiliki shortcut yang menghubungkan input langsung ke output."
      ],
      "metadata": {
        "id": "jEjEIUBQqXur"
      },
      "id": "jEjEIUBQqXur"
    },
    {
      "cell_type": "code",
      "source": [
        "class InceptionBlockWithResidual(nn.Module):\n",
        "    def __init__(self, in_channels, out_channels):\n",
        "        super(InceptionBlockWithResidual, self).__init__()\n",
        "        self.inception = InceptionBlockModified(in_channels, 64, 48, 64)  # Contoh penggunaan inception block\n",
        "        self.residual = nn.Conv2d(in_channels, out_channels, kernel_size=1, stride=1)  # Residual connection\n",
        "\n",
        "    def forward(self, x):\n",
        "        out = self.inception(x)\n",
        "        if x.shape == out.shape:\n",
        "            return out + x\n",
        "        else:\n",
        "            res = self.residual(x)\n",
        "            return out + res\n"
      ],
      "metadata": {
        "id": "R_nBSpCSpgOL"
      },
      "id": "R_nBSpCSpgOL",
      "execution_count": null,
      "outputs": []
    },
    {
      "cell_type": "markdown",
      "source": [
        "**Explanation:** Residual connection memastikan bahwa informasi penting dari input dapat diteruskan langsung ke lapisan output, meningkatkan stabilitas pelatihan dan memperbaiki akurasi.\n",
        "\n",
        "**Kesimpulan no 1 :** Iterasi yang dilakukan pada GoogLeNet melalui penambahan Batch Normalization, perubahan pada Inception blocks, penggunaan label smoothing, dan penambahan residual connection berkontribusi pada peningkatan performa dan efisiensi model. Implementasi ini tidak hanya membantu mengurangi overfitting dan meningkatkan stabilitas pelatihan tetapi juga memungkinkan pelatihan model yang lebih dalam dan lebih kompleks tanpa kehilangan generalisasi."
      ],
      "metadata": {
        "id": "gLExkVB1qjP3"
      },
      "id": "gLExkVB1qjP3"
    },
    {
      "cell_type": "markdown",
      "source": [
        "**2. What is the Minimum Image Size Needed for GoogLeNet to Work?**\n",
        "\n",
        "GoogLeNet memerlukan ukuran gambar minimum yang mempertahankan resolusi setelah beberapa lapisan pooling. Dengan pooling berturut-turut di setiap blok, ukuran gambar asli harus cukup besar agar tidak berkurang menjadi kurang dari 1 piksel pada setiap dimensi di akhir jaringan. Ukuran input umum yang aman adalah 224×224, tetapi ukuran lebih kecil, seperti 32×32, dapat digunakan untuk eksperimen seperti di CIFAR-10."
      ],
      "metadata": {
        "id": "dCjh2dAqqtzn"
      },
      "id": "dCjh2dAqqtzn"
    },
    {
      "cell_type": "markdown",
      "source": [
        "**3. Design a Variant of GoogLeNet for Fashion-MNIST**\n",
        "\n",
        "Untuk menggunakan GoogLeNet pada resolusi asli Fashion-MNIST (28×28), modifikasi berikut perlu dilakukan:\n",
        "\n",
        "* **Stem (Awal Jaringan):** Kurangi jumlah lapisan konvolusi dan kurangi filter di setiap lapisan agar sesuai dengan resolusi rendah.\n",
        "* **Body:** Kurangi jumlah Inception blocks atau gunakan filter dengan ukuran lebih kecil.\n",
        "* **Head (Akhir Jaringan):** Gunakan global average pooling pada resolusi yang lebih kecil untuk mengurangi kompleksitas model dan parameter.\n",
        "\n",
        "Contoh modifikasi:"
      ],
      "metadata": {
        "id": "V5UyFxmhq2Ow"
      },
      "id": "V5UyFxmhq2Ow"
    },
    {
      "cell_type": "code",
      "source": [
        "class GoogLeNetFashionMNIST(nn.Module):\n",
        "    def __init__(self):\n",
        "        super(GoogLeNetFashionMNIST, self).__init__()\n",
        "        self.stem = nn.Sequential(\n",
        "            nn.Conv2d(1, 32, kernel_size=3, stride=1, padding=1),\n",
        "            nn.ReLU(),\n",
        "            nn.MaxPool2d(kernel_size=2, stride=2)\n",
        "        )\n",
        "        # Body: Modifikasi inception blocks agar sesuai resolusi 28x28\n",
        "        self.inception1 = InceptionBlockModified(32, 32, 32, 64)\n",
        "        self.inception2 = InceptionBlockModified(128, 64, 64, 128)\n",
        "        # Head: Gunakan average pooling dan fully connected layer yang lebih kecil\n",
        "        self.head = nn.Sequential(\n",
        "            nn.AdaptiveAvgPool2d((1, 1)),\n",
        "            nn.Flatten(),\n",
        "            nn.Linear(128, 10)\n",
        "        )\n",
        "\n",
        "    def forward(self, x):\n",
        "        x = self.stem(x)\n",
        "        x = self.inception1(x)\n",
        "        x = self.inception2(x)\n",
        "        x = self.head(x)\n",
        "        return x\n"
      ],
      "metadata": {
        "id": "LBTq210tqgQu"
      },
      "id": "LBTq210tqgQu",
      "execution_count": null,
      "outputs": []
    },
    {
      "cell_type": "markdown",
      "source": [
        "4. Compare Model Parameter Sizes of AlexNet, VGG, NiN, and GoogLeNet.\n",
        "\n",
        "* AlexNet: Sekitar 60 juta parameter.\n",
        "* VGG-16: Sekitar 138 juta parameter.\n",
        "* NiN dan GoogLeNet: Jauh lebih kecil dari VGG dan AlexNet. GoogLeNet memiliki sekitar 6.8 juta parameter.\n",
        "\n",
        "NiN dan GoogLeNet secara signifikan mengurangi ukuran parameter dengan:\n",
        "\n",
        "* Menggunakan konvolusi 1×1 untuk mengurangi jumlah channel.\n",
        "* Menggunakan multi-branch structure (Inception Blocks) untuk menangkap fitur dengan jumlah parameter yang lebih sedikit, dibandingkan dengan penggunaan fully connected layers yang besar.\n",
        "\n",
        "5. **Compare the Amount of Computation in GoogLeNet and AlexNet**\n",
        "\n",
        "GoogLeNet lebih efisien dalam hal jumlah komputasi dibandingkan dengan AlexNet karena penggunaan Inception Blocks yang memungkinkan berbagai ukuran filter untuk memproses informasi secara paralel. Ini mengurangi ketergantungan pada fully connected layers besar yang sangat memakan komputasi dan parameter.\n",
        "\n",
        "Dari segi desain chip akselerator:\n",
        "\n",
        "* Memory Size & Bandwidth: GoogLeNet menggunakan lebih sedikit memori karena lebih sedikit parameter dan lebih banyak konvolusi kecil. Ini mengurangi bandwidth yang diperlukan untuk transfer data.\n",
        "* Cache Size: Cache pada GoogLeNet lebih efisien digunakan karena convolutional layers yang lebih kecil dan tidak perlu menyimpan semua parameter fully connected.\n",
        "* Amount of Computation: GoogLeNet mengoptimalkan penggunaan konvolusi untuk meminimalkan FLOPs.\n",
        "* Specialized Operations: Implementasi GoogLeNet dapat memanfaatkan operasi seperti konvolusi 1×1 dan pooling yang memerlukan instruksi lebih sedikit, yang lebih efisien untuk perangkat keras modern seperti GPU dan TPU."
      ],
      "metadata": {
        "id": "iqX6XVCTrPdm"
      },
      "id": "iqX6XVCTrPdm"
    },
    {
      "cell_type": "markdown",
      "source": [
        "# 8.5 Batch Normalization"
      ],
      "metadata": {
        "id": "T_0DTDRhrw3i"
      },
      "id": "T_0DTDRhrw3i"
    },
    {
      "cell_type": "markdown",
      "source": [
        "## 8.5.3 Implementation from Scratch"
      ],
      "metadata": {
        "id": "miUIXs4Sr0jV"
      },
      "id": "miUIXs4Sr0jV"
    },
    {
      "cell_type": "code",
      "source": [
        "def batch_norm(X, gamma, beta, moving_mean, moving_var, eps, momentum):\n",
        "    # Use is_grad_enabled to determine whether we are in training mode\n",
        "    if not torch.is_grad_enabled():\n",
        "        # In prediction mode, use mean and variance obtained by moving average\n",
        "        X_hat = (X - moving_mean) / torch.sqrt(moving_var + eps)\n",
        "    else:\n",
        "        assert len(X.shape) in (2, 4)\n",
        "        if len(X.shape) == 2:\n",
        "            # When using a fully connected layer, calculate the mean and\n",
        "            # variance on the feature dimension\n",
        "            mean = X.mean(dim=0)\n",
        "            var = ((X - mean) ** 2).mean(dim=0)\n",
        "        else:\n",
        "            # When using a two-dimensional convolutional layer, calculate the\n",
        "            # mean and variance on the channel dimension (axis=1). Here we\n",
        "            # need to maintain the shape of X, so that the broadcasting\n",
        "            # operation can be carried out later\n",
        "            mean = X.mean(dim=(0, 2, 3), keepdim=True)\n",
        "            var = ((X - mean) ** 2).mean(dim=(0, 2, 3), keepdim=True)\n",
        "        # In training mode, the current mean and variance are used\n",
        "        X_hat = (X - mean) / torch.sqrt(var + eps)\n",
        "        # Update the mean and variance using moving average\n",
        "        moving_mean = (1.0 - momentum) * moving_mean + momentum * mean\n",
        "        moving_var = (1.0 - momentum) * moving_var + momentum * var\n",
        "    Y = gamma * X_hat + beta  # Scale and shift\n",
        "    return Y, moving_mean.data, moving_var.data"
      ],
      "metadata": {
        "id": "ognG3WQZrwWA"
      },
      "id": "ognG3WQZrwWA",
      "execution_count": null,
      "outputs": []
    },
    {
      "cell_type": "code",
      "source": [
        "class BatchNorm(nn.Module):\n",
        "    # num_features: the number of outputs for a fully connected layer or the\n",
        "    # number of output channels for a convolutional layer. num_dims: 2 for a\n",
        "    # fully connected layer and 4 for a convolutional layer\n",
        "    def __init__(self, num_features, num_dims):\n",
        "        super().__init__()\n",
        "        if num_dims == 2:\n",
        "            shape = (1, num_features)\n",
        "        else:\n",
        "            shape = (1, num_features, 1, 1)\n",
        "        # The scale parameter and the shift parameter (model parameters) are\n",
        "        # initialized to 1 and 0, respectively\n",
        "        self.gamma = nn.Parameter(torch.ones(shape))\n",
        "        self.beta = nn.Parameter(torch.zeros(shape))\n",
        "        # The variables that are not model parameters are initialized to 0 and\n",
        "        # 1\n",
        "        self.moving_mean = torch.zeros(shape)\n",
        "        self.moving_var = torch.ones(shape)\n",
        "\n",
        "    def forward(self, X):\n",
        "        # If X is not on the main memory, copy moving_mean and moving_var to\n",
        "        # the device where X is located\n",
        "        if self.moving_mean.device != X.device:\n",
        "            self.moving_mean = self.moving_mean.to(X.device)\n",
        "            self.moving_var = self.moving_var.to(X.device)\n",
        "        # Save the updated moving_mean and moving_var\n",
        "        Y, self.moving_mean, self.moving_var = batch_norm(\n",
        "            X, self.gamma, self.beta, self.moving_mean,\n",
        "            self.moving_var, eps=1e-5, momentum=0.1)\n",
        "        return Y"
      ],
      "metadata": {
        "id": "isw0yoWqrJOd"
      },
      "id": "isw0yoWqrJOd",
      "execution_count": null,
      "outputs": []
    },
    {
      "cell_type": "markdown",
      "source": [
        "## 8.5.4 LeNet with Batch Normalization"
      ],
      "metadata": {
        "id": "ZATbm0mIsBWi"
      },
      "id": "ZATbm0mIsBWi"
    },
    {
      "cell_type": "code",
      "source": [
        "class BNLeNetScratch(d2l.Classifier):\n",
        "    def __init__(self, lr=0.1, num_classes=10):\n",
        "        super().__init__()\n",
        "        self.save_hyperparameters()\n",
        "        self.net = nn.Sequential(\n",
        "            nn.LazyConv2d(6, kernel_size=5), BatchNorm(6, num_dims=4),\n",
        "            nn.Sigmoid(), nn.AvgPool2d(kernel_size=2, stride=2),\n",
        "            nn.LazyConv2d(16, kernel_size=5), BatchNorm(16, num_dims=4),\n",
        "            nn.Sigmoid(), nn.AvgPool2d(kernel_size=2, stride=2),\n",
        "            nn.Flatten(), nn.LazyLinear(120),\n",
        "            BatchNorm(120, num_dims=2), nn.Sigmoid(), nn.LazyLinear(84),\n",
        "            BatchNorm(84, num_dims=2), nn.Sigmoid(),\n",
        "            nn.LazyLinear(num_classes))"
      ],
      "metadata": {
        "id": "dUlGgqYnsATX"
      },
      "id": "dUlGgqYnsATX",
      "execution_count": null,
      "outputs": []
    },
    {
      "cell_type": "code",
      "source": [
        "trainer = d2l.Trainer(max_epochs=10, num_gpus=1)\n",
        "data = d2l.FashionMNIST(batch_size=128)\n",
        "model = BNLeNetScratch(lr=0.1)\n",
        "model.apply_init([next(iter(data.get_dataloader(True)))[0]], d2l.init_cnn)\n",
        "trainer.fit(model, data)"
      ],
      "metadata": {
        "colab": {
          "base_uri": "https://localhost:8080/",
          "height": 265
        },
        "id": "f1rSA74ssGnW",
        "outputId": "03bcbb01-95f7-4a85-deb5-20a99f0255af"
      },
      "id": "f1rSA74ssGnW",
      "execution_count": null,
      "outputs": [
        {
          "output_type": "display_data",
          "data": {
            "text/plain": [
              "<Figure size 350x250 with 1 Axes>"
            ],
            "image/svg+xml": "<?xml version=\"1.0\" encoding=\"utf-8\" standalone=\"no\"?>\n<!DOCTYPE svg PUBLIC \"-//W3C//DTD SVG 1.1//EN\"\n  \"http://www.w3.org/Graphics/SVG/1.1/DTD/svg11.dtd\">\n<svg xmlns:xlink=\"http://www.w3.org/1999/xlink\" width=\"238.965625pt\" height=\"183.35625pt\" viewBox=\"0 0 238.965625 183.35625\" xmlns=\"http://www.w3.org/2000/svg\" version=\"1.1\">\n <metadata>\n  <rdf:RDF xmlns:dc=\"http://purl.org/dc/elements/1.1/\" xmlns:cc=\"http://creativecommons.org/ns#\" xmlns:rdf=\"http://www.w3.org/1999/02/22-rdf-syntax-ns#\">\n   <cc:Work>\n    <dc:type rdf:resource=\"http://purl.org/dc/dcmitype/StillImage\"/>\n    <dc:date>2024-10-05T12:41:22.005000</dc:date>\n    <dc:format>image/svg+xml</dc:format>\n    <dc:creator>\n     <cc:Agent>\n      <dc:title>Matplotlib v3.7.2, https://matplotlib.org/</dc:title>\n     </cc:Agent>\n    </dc:creator>\n   </cc:Work>\n  </rdf:RDF>\n </metadata>\n <defs>\n  <style type=\"text/css\">*{stroke-linejoin: round; stroke-linecap: butt}</style>\n </defs>\n <g id=\"figure_1\">\n  <g id=\"patch_1\">\n   <path d=\"M 0 183.35625 \nL 238.965625 183.35625 \nL 238.965625 0 \nL 0 0 \nz\n\" style=\"fill: #ffffff\"/>\n  </g>\n  <g id=\"axes_1\">\n   <g id=\"patch_2\">\n    <path d=\"M 30.103125 145.8 \nL 225.403125 145.8 \nL 225.403125 7.2 \nL 30.103125 7.2 \nz\n\" style=\"fill: #ffffff\"/>\n   </g>\n   <g id=\"matplotlib.axis_1\">\n    <g id=\"xtick_1\">\n     <g id=\"line2d_1\">\n      <defs>\n       <path id=\"m639ca7e469\" d=\"M 0 0 \nL 0 3.5 \n\" style=\"stroke: #000000; stroke-width: 0.8\"/>\n      </defs>\n      <g>\n       <use xlink:href=\"#m639ca7e469\" x=\"30.103125\" y=\"145.8\" style=\"stroke: #000000; stroke-width: 0.8\"/>\n      </g>\n     </g>\n     <g id=\"text_1\">\n      <!-- 0 -->\n      <g transform=\"translate(26.921875 160.398438) scale(0.1 -0.1)\">\n       <defs>\n        <path id=\"DejaVuSans-30\" d=\"M 2034 4250 \nQ 1547 4250 1301 3770 \nQ 1056 3291 1056 2328 \nQ 1056 1369 1301 889 \nQ 1547 409 2034 409 \nQ 2525 409 2770 889 \nQ 3016 1369 3016 2328 \nQ 3016 3291 2770 3770 \nQ 2525 4250 2034 4250 \nz\nM 2034 4750 \nQ 2819 4750 3233 4129 \nQ 3647 3509 3647 2328 \nQ 3647 1150 3233 529 \nQ 2819 -91 2034 -91 \nQ 1250 -91 836 529 \nQ 422 1150 422 2328 \nQ 422 3509 836 4129 \nQ 1250 4750 2034 4750 \nz\n\" transform=\"scale(0.015625)\"/>\n       </defs>\n       <use xlink:href=\"#DejaVuSans-30\"/>\n      </g>\n     </g>\n    </g>\n    <g id=\"xtick_2\">\n     <g id=\"line2d_2\">\n      <g>\n       <use xlink:href=\"#m639ca7e469\" x=\"69.163125\" y=\"145.8\" style=\"stroke: #000000; stroke-width: 0.8\"/>\n      </g>\n     </g>\n     <g id=\"text_2\">\n      <!-- 2 -->\n      <g transform=\"translate(65.981875 160.398438) scale(0.1 -0.1)\">\n       <defs>\n        <path id=\"DejaVuSans-32\" d=\"M 1228 531 \nL 3431 531 \nL 3431 0 \nL 469 0 \nL 469 531 \nQ 828 903 1448 1529 \nQ 2069 2156 2228 2338 \nQ 2531 2678 2651 2914 \nQ 2772 3150 2772 3378 \nQ 2772 3750 2511 3984 \nQ 2250 4219 1831 4219 \nQ 1534 4219 1204 4116 \nQ 875 4013 500 3803 \nL 500 4441 \nQ 881 4594 1212 4672 \nQ 1544 4750 1819 4750 \nQ 2544 4750 2975 4387 \nQ 3406 4025 3406 3419 \nQ 3406 3131 3298 2873 \nQ 3191 2616 2906 2266 \nQ 2828 2175 2409 1742 \nQ 1991 1309 1228 531 \nz\n\" transform=\"scale(0.015625)\"/>\n       </defs>\n       <use xlink:href=\"#DejaVuSans-32\"/>\n      </g>\n     </g>\n    </g>\n    <g id=\"xtick_3\">\n     <g id=\"line2d_3\">\n      <g>\n       <use xlink:href=\"#m639ca7e469\" x=\"108.223125\" y=\"145.8\" style=\"stroke: #000000; stroke-width: 0.8\"/>\n      </g>\n     </g>\n     <g id=\"text_3\">\n      <!-- 4 -->\n      <g transform=\"translate(105.041875 160.398438) scale(0.1 -0.1)\">\n       <defs>\n        <path id=\"DejaVuSans-34\" d=\"M 2419 4116 \nL 825 1625 \nL 2419 1625 \nL 2419 4116 \nz\nM 2253 4666 \nL 3047 4666 \nL 3047 1625 \nL 3713 1625 \nL 3713 1100 \nL 3047 1100 \nL 3047 0 \nL 2419 0 \nL 2419 1100 \nL 313 1100 \nL 313 1709 \nL 2253 4666 \nz\n\" transform=\"scale(0.015625)\"/>\n       </defs>\n       <use xlink:href=\"#DejaVuSans-34\"/>\n      </g>\n     </g>\n    </g>\n    <g id=\"xtick_4\">\n     <g id=\"line2d_4\">\n      <g>\n       <use xlink:href=\"#m639ca7e469\" x=\"147.283125\" y=\"145.8\" style=\"stroke: #000000; stroke-width: 0.8\"/>\n      </g>\n     </g>\n     <g id=\"text_4\">\n      <!-- 6 -->\n      <g transform=\"translate(144.101875 160.398438) scale(0.1 -0.1)\">\n       <defs>\n        <path id=\"DejaVuSans-36\" d=\"M 2113 2584 \nQ 1688 2584 1439 2293 \nQ 1191 2003 1191 1497 \nQ 1191 994 1439 701 \nQ 1688 409 2113 409 \nQ 2538 409 2786 701 \nQ 3034 994 3034 1497 \nQ 3034 2003 2786 2293 \nQ 2538 2584 2113 2584 \nz\nM 3366 4563 \nL 3366 3988 \nQ 3128 4100 2886 4159 \nQ 2644 4219 2406 4219 \nQ 1781 4219 1451 3797 \nQ 1122 3375 1075 2522 \nQ 1259 2794 1537 2939 \nQ 1816 3084 2150 3084 \nQ 2853 3084 3261 2657 \nQ 3669 2231 3669 1497 \nQ 3669 778 3244 343 \nQ 2819 -91 2113 -91 \nQ 1303 -91 875 529 \nQ 447 1150 447 2328 \nQ 447 3434 972 4092 \nQ 1497 4750 2381 4750 \nQ 2619 4750 2861 4703 \nQ 3103 4656 3366 4563 \nz\n\" transform=\"scale(0.015625)\"/>\n       </defs>\n       <use xlink:href=\"#DejaVuSans-36\"/>\n      </g>\n     </g>\n    </g>\n    <g id=\"xtick_5\">\n     <g id=\"line2d_5\">\n      <g>\n       <use xlink:href=\"#m639ca7e469\" x=\"186.343125\" y=\"145.8\" style=\"stroke: #000000; stroke-width: 0.8\"/>\n      </g>\n     </g>\n     <g id=\"text_5\">\n      <!-- 8 -->\n      <g transform=\"translate(183.161875 160.398438) scale(0.1 -0.1)\">\n       <defs>\n        <path id=\"DejaVuSans-38\" d=\"M 2034 2216 \nQ 1584 2216 1326 1975 \nQ 1069 1734 1069 1313 \nQ 1069 891 1326 650 \nQ 1584 409 2034 409 \nQ 2484 409 2743 651 \nQ 3003 894 3003 1313 \nQ 3003 1734 2745 1975 \nQ 2488 2216 2034 2216 \nz\nM 1403 2484 \nQ 997 2584 770 2862 \nQ 544 3141 544 3541 \nQ 544 4100 942 4425 \nQ 1341 4750 2034 4750 \nQ 2731 4750 3128 4425 \nQ 3525 4100 3525 3541 \nQ 3525 3141 3298 2862 \nQ 3072 2584 2669 2484 \nQ 3125 2378 3379 2068 \nQ 3634 1759 3634 1313 \nQ 3634 634 3220 271 \nQ 2806 -91 2034 -91 \nQ 1263 -91 848 271 \nQ 434 634 434 1313 \nQ 434 1759 690 2068 \nQ 947 2378 1403 2484 \nz\nM 1172 3481 \nQ 1172 3119 1398 2916 \nQ 1625 2713 2034 2713 \nQ 2441 2713 2670 2916 \nQ 2900 3119 2900 3481 \nQ 2900 3844 2670 4047 \nQ 2441 4250 2034 4250 \nQ 1625 4250 1398 4047 \nQ 1172 3844 1172 3481 \nz\n\" transform=\"scale(0.015625)\"/>\n       </defs>\n       <use xlink:href=\"#DejaVuSans-38\"/>\n      </g>\n     </g>\n    </g>\n    <g id=\"xtick_6\">\n     <g id=\"line2d_6\">\n      <g>\n       <use xlink:href=\"#m639ca7e469\" x=\"225.403125\" y=\"145.8\" style=\"stroke: #000000; stroke-width: 0.8\"/>\n      </g>\n     </g>\n     <g id=\"text_6\">\n      <!-- 10 -->\n      <g transform=\"translate(219.040625 160.398438) scale(0.1 -0.1)\">\n       <defs>\n        <path id=\"DejaVuSans-31\" d=\"M 794 531 \nL 1825 531 \nL 1825 4091 \nL 703 3866 \nL 703 4441 \nL 1819 4666 \nL 2450 4666 \nL 2450 531 \nL 3481 531 \nL 3481 0 \nL 794 0 \nL 794 531 \nz\n\" transform=\"scale(0.015625)\"/>\n       </defs>\n       <use xlink:href=\"#DejaVuSans-31\"/>\n       <use xlink:href=\"#DejaVuSans-30\" x=\"63.623047\"/>\n      </g>\n     </g>\n    </g>\n    <g id=\"text_7\">\n     <!-- epoch -->\n     <g transform=\"translate(112.525 174.076563) scale(0.1 -0.1)\">\n      <defs>\n       <path id=\"DejaVuSans-65\" d=\"M 3597 1894 \nL 3597 1613 \nL 953 1613 \nQ 991 1019 1311 708 \nQ 1631 397 2203 397 \nQ 2534 397 2845 478 \nQ 3156 559 3463 722 \nL 3463 178 \nQ 3153 47 2828 -22 \nQ 2503 -91 2169 -91 \nQ 1331 -91 842 396 \nQ 353 884 353 1716 \nQ 353 2575 817 3079 \nQ 1281 3584 2069 3584 \nQ 2775 3584 3186 3129 \nQ 3597 2675 3597 1894 \nz\nM 3022 2063 \nQ 3016 2534 2758 2815 \nQ 2500 3097 2075 3097 \nQ 1594 3097 1305 2825 \nQ 1016 2553 972 2059 \nL 3022 2063 \nz\n\" transform=\"scale(0.015625)\"/>\n       <path id=\"DejaVuSans-70\" d=\"M 1159 525 \nL 1159 -1331 \nL 581 -1331 \nL 581 3500 \nL 1159 3500 \nL 1159 2969 \nQ 1341 3281 1617 3432 \nQ 1894 3584 2278 3584 \nQ 2916 3584 3314 3078 \nQ 3713 2572 3713 1747 \nQ 3713 922 3314 415 \nQ 2916 -91 2278 -91 \nQ 1894 -91 1617 61 \nQ 1341 213 1159 525 \nz\nM 3116 1747 \nQ 3116 2381 2855 2742 \nQ 2594 3103 2138 3103 \nQ 1681 3103 1420 2742 \nQ 1159 2381 1159 1747 \nQ 1159 1113 1420 752 \nQ 1681 391 2138 391 \nQ 2594 391 2855 752 \nQ 3116 1113 3116 1747 \nz\n\" transform=\"scale(0.015625)\"/>\n       <path id=\"DejaVuSans-6f\" d=\"M 1959 3097 \nQ 1497 3097 1228 2736 \nQ 959 2375 959 1747 \nQ 959 1119 1226 758 \nQ 1494 397 1959 397 \nQ 2419 397 2687 759 \nQ 2956 1122 2956 1747 \nQ 2956 2369 2687 2733 \nQ 2419 3097 1959 3097 \nz\nM 1959 3584 \nQ 2709 3584 3137 3096 \nQ 3566 2609 3566 1747 \nQ 3566 888 3137 398 \nQ 2709 -91 1959 -91 \nQ 1206 -91 779 398 \nQ 353 888 353 1747 \nQ 353 2609 779 3096 \nQ 1206 3584 1959 3584 \nz\n\" transform=\"scale(0.015625)\"/>\n       <path id=\"DejaVuSans-63\" d=\"M 3122 3366 \nL 3122 2828 \nQ 2878 2963 2633 3030 \nQ 2388 3097 2138 3097 \nQ 1578 3097 1268 2742 \nQ 959 2388 959 1747 \nQ 959 1106 1268 751 \nQ 1578 397 2138 397 \nQ 2388 397 2633 464 \nQ 2878 531 3122 666 \nL 3122 134 \nQ 2881 22 2623 -34 \nQ 2366 -91 2075 -91 \nQ 1284 -91 818 406 \nQ 353 903 353 1747 \nQ 353 2603 823 3093 \nQ 1294 3584 2113 3584 \nQ 2378 3584 2631 3529 \nQ 2884 3475 3122 3366 \nz\n\" transform=\"scale(0.015625)\"/>\n       <path id=\"DejaVuSans-68\" d=\"M 3513 2113 \nL 3513 0 \nL 2938 0 \nL 2938 2094 \nQ 2938 2591 2744 2837 \nQ 2550 3084 2163 3084 \nQ 1697 3084 1428 2787 \nQ 1159 2491 1159 1978 \nL 1159 0 \nL 581 0 \nL 581 4863 \nL 1159 4863 \nL 1159 2956 \nQ 1366 3272 1645 3428 \nQ 1925 3584 2291 3584 \nQ 2894 3584 3203 3211 \nQ 3513 2838 3513 2113 \nz\n\" transform=\"scale(0.015625)\"/>\n      </defs>\n      <use xlink:href=\"#DejaVuSans-65\"/>\n      <use xlink:href=\"#DejaVuSans-70\" x=\"61.523438\"/>\n      <use xlink:href=\"#DejaVuSans-6f\" x=\"125\"/>\n      <use xlink:href=\"#DejaVuSans-63\" x=\"186.181641\"/>\n      <use xlink:href=\"#DejaVuSans-68\" x=\"241.162109\"/>\n     </g>\n    </g>\n   </g>\n   <g id=\"matplotlib.axis_2\">\n    <g id=\"ytick_1\">\n     <g id=\"line2d_7\">\n      <defs>\n       <path id=\"m433264caf6\" d=\"M 0 0 \nL -3.5 0 \n\" style=\"stroke: #000000; stroke-width: 0.8\"/>\n      </defs>\n      <g>\n       <use xlink:href=\"#m433264caf6\" x=\"30.103125\" y=\"122.222721\" style=\"stroke: #000000; stroke-width: 0.8\"/>\n      </g>\n     </g>\n     <g id=\"text_8\">\n      <!-- 0.4 -->\n      <g transform=\"translate(7.2 126.021939) scale(0.1 -0.1)\">\n       <defs>\n        <path id=\"DejaVuSans-2e\" d=\"M 684 794 \nL 1344 794 \nL 1344 0 \nL 684 0 \nL 684 794 \nz\n\" transform=\"scale(0.015625)\"/>\n       </defs>\n       <use xlink:href=\"#DejaVuSans-30\"/>\n       <use xlink:href=\"#DejaVuSans-2e\" x=\"63.623047\"/>\n       <use xlink:href=\"#DejaVuSans-34\" x=\"95.410156\"/>\n      </g>\n     </g>\n    </g>\n    <g id=\"ytick_2\">\n     <g id=\"line2d_8\">\n      <g>\n       <use xlink:href=\"#m433264caf6\" x=\"30.103125\" y=\"89.506188\" style=\"stroke: #000000; stroke-width: 0.8\"/>\n      </g>\n     </g>\n     <g id=\"text_9\">\n      <!-- 0.6 -->\n      <g transform=\"translate(7.2 93.305407) scale(0.1 -0.1)\">\n       <use xlink:href=\"#DejaVuSans-30\"/>\n       <use xlink:href=\"#DejaVuSans-2e\" x=\"63.623047\"/>\n       <use xlink:href=\"#DejaVuSans-36\" x=\"95.410156\"/>\n      </g>\n     </g>\n    </g>\n    <g id=\"ytick_3\">\n     <g id=\"line2d_9\">\n      <g>\n       <use xlink:href=\"#m433264caf6\" x=\"30.103125\" y=\"56.789656\" style=\"stroke: #000000; stroke-width: 0.8\"/>\n      </g>\n     </g>\n     <g id=\"text_10\">\n      <!-- 0.8 -->\n      <g transform=\"translate(7.2 60.588875) scale(0.1 -0.1)\">\n       <use xlink:href=\"#DejaVuSans-30\"/>\n       <use xlink:href=\"#DejaVuSans-2e\" x=\"63.623047\"/>\n       <use xlink:href=\"#DejaVuSans-38\" x=\"95.410156\"/>\n      </g>\n     </g>\n    </g>\n    <g id=\"ytick_4\">\n     <g id=\"line2d_10\">\n      <g>\n       <use xlink:href=\"#m433264caf6\" x=\"30.103125\" y=\"24.073124\" style=\"stroke: #000000; stroke-width: 0.8\"/>\n      </g>\n     </g>\n     <g id=\"text_11\">\n      <!-- 1.0 -->\n      <g transform=\"translate(7.2 27.872343) scale(0.1 -0.1)\">\n       <use xlink:href=\"#DejaVuSans-31\"/>\n       <use xlink:href=\"#DejaVuSans-2e\" x=\"63.623047\"/>\n       <use xlink:href=\"#DejaVuSans-30\" x=\"95.410156\"/>\n      </g>\n     </g>\n    </g>\n   </g>\n   <g id=\"line2d_11\">\n    <path d=\"M 34.954394 32.965109 \n\" clip-path=\"url(#p89e921aec6)\" style=\"fill: none; stroke: #1f77b4; stroke-width: 1.5; stroke-linecap: square\"/>\n   </g>\n   <g id=\"line2d_12\">\n    <path d=\"M 34.954394 32.965109 \nL 44.698573 88.410778 \n\" clip-path=\"url(#p89e921aec6)\" style=\"fill: none; stroke: #1f77b4; stroke-width: 1.5; stroke-linecap: square\"/>\n   </g>\n   <g id=\"line2d_13\">\n    <path d=\"M 34.954394 32.965109 \nL 44.698573 88.410778 \n\" clip-path=\"url(#p89e921aec6)\" style=\"fill: none; stroke: #1f77b4; stroke-width: 1.5; stroke-linecap: square\"/>\n   </g>\n   <g id=\"line2d_14\">\n    <path d=\"M 49.633125 86.08254 \n\" clip-path=\"url(#p89e921aec6)\" style=\"fill: none; stroke-dasharray: 5.55,2.4; stroke-dashoffset: 0; stroke: #ff7f0e; stroke-width: 1.5\"/>\n   </g>\n   <g id=\"line2d_15\"/>\n   <g id=\"line2d_16\">\n    <path d=\"M 34.954394 32.965109 \nL 44.698573 88.410778 \n\" clip-path=\"url(#p89e921aec6)\" style=\"fill: none; stroke: #1f77b4; stroke-width: 1.5; stroke-linecap: square\"/>\n   </g>\n   <g id=\"line2d_17\">\n    <path d=\"M 49.633125 86.08254 \n\" clip-path=\"url(#p89e921aec6)\" style=\"fill: none; stroke-dasharray: 5.55,2.4; stroke-dashoffset: 0; stroke: #ff7f0e; stroke-width: 1.5\"/>\n   </g>\n   <g id=\"line2d_18\">\n    <path d=\"M 49.633125 58.271477 \n\" clip-path=\"url(#p89e921aec6)\" style=\"fill: none; stroke-dasharray: 9.6,2.4,1.5,2.4; stroke-dashoffset: 0; stroke: #2ca02c; stroke-width: 1.5\"/>\n   </g>\n   <g id=\"line2d_19\">\n    <path d=\"M 34.954394 32.965109 \nL 44.698573 88.410778 \nL 54.442752 102.536957 \n\" clip-path=\"url(#p89e921aec6)\" style=\"fill: none; stroke: #1f77b4; stroke-width: 1.5; stroke-linecap: square\"/>\n   </g>\n   <g id=\"line2d_20\">\n    <path d=\"M 49.633125 86.08254 \n\" clip-path=\"url(#p89e921aec6)\" style=\"fill: none; stroke-dasharray: 5.55,2.4; stroke-dashoffset: 0; stroke: #ff7f0e; stroke-width: 1.5\"/>\n   </g>\n   <g id=\"line2d_21\">\n    <path d=\"M 49.633125 58.271477 \n\" clip-path=\"url(#p89e921aec6)\" style=\"fill: none; stroke-dasharray: 9.6,2.4,1.5,2.4; stroke-dashoffset: 0; stroke: #2ca02c; stroke-width: 1.5\"/>\n   </g>\n   <g id=\"line2d_22\">\n    <path d=\"M 34.954394 32.965109 \nL 44.698573 88.410778 \nL 54.442752 102.536957 \nL 64.186931 108.974849 \n\" clip-path=\"url(#p89e921aec6)\" style=\"fill: none; stroke: #1f77b4; stroke-width: 1.5; stroke-linecap: square\"/>\n   </g>\n   <g id=\"line2d_23\">\n    <path d=\"M 49.633125 86.08254 \n\" clip-path=\"url(#p89e921aec6)\" style=\"fill: none; stroke-dasharray: 5.55,2.4; stroke-dashoffset: 0; stroke: #ff7f0e; stroke-width: 1.5\"/>\n   </g>\n   <g id=\"line2d_24\">\n    <path d=\"M 49.633125 58.271477 \n\" clip-path=\"url(#p89e921aec6)\" style=\"fill: none; stroke-dasharray: 9.6,2.4,1.5,2.4; stroke-dashoffset: 0; stroke: #2ca02c; stroke-width: 1.5\"/>\n   </g>\n   <g id=\"line2d_25\">\n    <path d=\"M 34.954394 32.965109 \nL 44.698573 88.410778 \nL 54.442752 102.536957 \nL 64.186931 108.974849 \n\" clip-path=\"url(#p89e921aec6)\" style=\"fill: none; stroke: #1f77b4; stroke-width: 1.5; stroke-linecap: square\"/>\n   </g>\n   <g id=\"line2d_26\">\n    <path d=\"M 49.633125 86.08254 \nL 69.163125 100.600708 \n\" clip-path=\"url(#p89e921aec6)\" style=\"fill: none; stroke-dasharray: 5.55,2.4; stroke-dashoffset: 0; stroke: #ff7f0e; stroke-width: 1.5\"/>\n   </g>\n   <g id=\"line2d_27\">\n    <path d=\"M 49.633125 58.271477 \n\" clip-path=\"url(#p89e921aec6)\" style=\"fill: none; stroke-dasharray: 9.6,2.4,1.5,2.4; stroke-dashoffset: 0; stroke: #2ca02c; stroke-width: 1.5\"/>\n   </g>\n   <g id=\"line2d_28\">\n    <path d=\"M 34.954394 32.965109 \nL 44.698573 88.410778 \nL 54.442752 102.536957 \nL 64.186931 108.974849 \n\" clip-path=\"url(#p89e921aec6)\" style=\"fill: none; stroke: #1f77b4; stroke-width: 1.5; stroke-linecap: square\"/>\n   </g>\n   <g id=\"line2d_29\">\n    <path d=\"M 49.633125 86.08254 \nL 69.163125 100.600708 \n\" clip-path=\"url(#p89e921aec6)\" style=\"fill: none; stroke-dasharray: 5.55,2.4; stroke-dashoffset: 0; stroke: #ff7f0e; stroke-width: 1.5\"/>\n   </g>\n   <g id=\"line2d_30\">\n    <path d=\"M 49.633125 58.271477 \nL 69.163125 54.308092 \n\" clip-path=\"url(#p89e921aec6)\" style=\"fill: none; stroke-dasharray: 9.6,2.4,1.5,2.4; stroke-dashoffset: 0; stroke: #2ca02c; stroke-width: 1.5\"/>\n   </g>\n   <g id=\"line2d_31\">\n    <path d=\"M 34.954394 32.965109 \nL 44.698573 88.410778 \nL 54.442752 102.536957 \nL 64.186931 108.974849 \nL 73.93111 114.465767 \n\" clip-path=\"url(#p89e921aec6)\" style=\"fill: none; stroke: #1f77b4; stroke-width: 1.5; stroke-linecap: square\"/>\n   </g>\n   <g id=\"line2d_32\">\n    <path d=\"M 49.633125 86.08254 \nL 69.163125 100.600708 \n\" clip-path=\"url(#p89e921aec6)\" style=\"fill: none; stroke-dasharray: 5.55,2.4; stroke-dashoffset: 0; stroke: #ff7f0e; stroke-width: 1.5\"/>\n   </g>\n   <g id=\"line2d_33\">\n    <path d=\"M 49.633125 58.271477 \nL 69.163125 54.308092 \n\" clip-path=\"url(#p89e921aec6)\" style=\"fill: none; stroke-dasharray: 9.6,2.4,1.5,2.4; stroke-dashoffset: 0; stroke: #2ca02c; stroke-width: 1.5\"/>\n   </g>\n   <g id=\"line2d_34\">\n    <path d=\"M 34.954394 32.965109 \nL 44.698573 88.410778 \nL 54.442752 102.536957 \nL 64.186931 108.974849 \nL 73.93111 114.465767 \nL 83.675289 117.923547 \n\" clip-path=\"url(#p89e921aec6)\" style=\"fill: none; stroke: #1f77b4; stroke-width: 1.5; stroke-linecap: square\"/>\n   </g>\n   <g id=\"line2d_35\">\n    <path d=\"M 49.633125 86.08254 \nL 69.163125 100.600708 \n\" clip-path=\"url(#p89e921aec6)\" style=\"fill: none; stroke-dasharray: 5.55,2.4; stroke-dashoffset: 0; stroke: #ff7f0e; stroke-width: 1.5\"/>\n   </g>\n   <g id=\"line2d_36\">\n    <path d=\"M 49.633125 58.271477 \nL 69.163125 54.308092 \n\" clip-path=\"url(#p89e921aec6)\" style=\"fill: none; stroke-dasharray: 9.6,2.4,1.5,2.4; stroke-dashoffset: 0; stroke: #2ca02c; stroke-width: 1.5\"/>\n   </g>\n   <g id=\"line2d_37\">\n    <path d=\"M 34.954394 32.965109 \nL 44.698573 88.410778 \nL 54.442752 102.536957 \nL 64.186931 108.974849 \nL 73.93111 114.465767 \nL 83.675289 117.923547 \n\" clip-path=\"url(#p89e921aec6)\" style=\"fill: none; stroke: #1f77b4; stroke-width: 1.5; stroke-linecap: square\"/>\n   </g>\n   <g id=\"line2d_38\">\n    <path d=\"M 49.633125 86.08254 \nL 69.163125 100.600708 \nL 88.693125 102.595686 \n\" clip-path=\"url(#p89e921aec6)\" style=\"fill: none; stroke-dasharray: 5.55,2.4; stroke-dashoffset: 0; stroke: #ff7f0e; stroke-width: 1.5\"/>\n   </g>\n   <g id=\"line2d_39\">\n    <path d=\"M 49.633125 58.271477 \nL 69.163125 54.308092 \n\" clip-path=\"url(#p89e921aec6)\" style=\"fill: none; stroke-dasharray: 9.6,2.4,1.5,2.4; stroke-dashoffset: 0; stroke: #2ca02c; stroke-width: 1.5\"/>\n   </g>\n   <g id=\"line2d_40\">\n    <path d=\"M 34.954394 32.965109 \nL 44.698573 88.410778 \nL 54.442752 102.536957 \nL 64.186931 108.974849 \nL 73.93111 114.465767 \nL 83.675289 117.923547 \n\" clip-path=\"url(#p89e921aec6)\" style=\"fill: none; stroke: #1f77b4; stroke-width: 1.5; stroke-linecap: square\"/>\n   </g>\n   <g id=\"line2d_41\">\n    <path d=\"M 49.633125 86.08254 \nL 69.163125 100.600708 \nL 88.693125 102.595686 \n\" clip-path=\"url(#p89e921aec6)\" style=\"fill: none; stroke-dasharray: 5.55,2.4; stroke-dashoffset: 0; stroke: #ff7f0e; stroke-width: 1.5\"/>\n   </g>\n   <g id=\"line2d_42\">\n    <path d=\"M 49.633125 58.271477 \nL 69.163125 54.308092 \nL 88.693125 53.450706 \n\" clip-path=\"url(#p89e921aec6)\" style=\"fill: none; stroke-dasharray: 9.6,2.4,1.5,2.4; stroke-dashoffset: 0; stroke: #2ca02c; stroke-width: 1.5\"/>\n   </g>\n   <g id=\"line2d_43\">\n    <path d=\"M 34.954394 32.965109 \nL 44.698573 88.410778 \nL 54.442752 102.536957 \nL 64.186931 108.974849 \nL 73.93111 114.465767 \nL 83.675289 117.923547 \nL 93.419468 121.85766 \n\" clip-path=\"url(#p89e921aec6)\" style=\"fill: none; stroke: #1f77b4; stroke-width: 1.5; stroke-linecap: square\"/>\n   </g>\n   <g id=\"line2d_44\">\n    <path d=\"M 49.633125 86.08254 \nL 69.163125 100.600708 \nL 88.693125 102.595686 \n\" clip-path=\"url(#p89e921aec6)\" style=\"fill: none; stroke-dasharray: 5.55,2.4; stroke-dashoffset: 0; stroke: #ff7f0e; stroke-width: 1.5\"/>\n   </g>\n   <g id=\"line2d_45\">\n    <path d=\"M 49.633125 58.271477 \nL 69.163125 54.308092 \nL 88.693125 53.450706 \n\" clip-path=\"url(#p89e921aec6)\" style=\"fill: none; stroke-dasharray: 9.6,2.4,1.5,2.4; stroke-dashoffset: 0; stroke: #2ca02c; stroke-width: 1.5\"/>\n   </g>\n   <g id=\"line2d_46\">\n    <path d=\"M 34.954394 32.965109 \nL 44.698573 88.410778 \nL 54.442752 102.536957 \nL 64.186931 108.974849 \nL 73.93111 114.465767 \nL 83.675289 117.923547 \nL 93.419468 121.85766 \nL 103.163647 123.490559 \n\" clip-path=\"url(#p89e921aec6)\" style=\"fill: none; stroke: #1f77b4; stroke-width: 1.5; stroke-linecap: square\"/>\n   </g>\n   <g id=\"line2d_47\">\n    <path d=\"M 49.633125 86.08254 \nL 69.163125 100.600708 \nL 88.693125 102.595686 \n\" clip-path=\"url(#p89e921aec6)\" style=\"fill: none; stroke-dasharray: 5.55,2.4; stroke-dashoffset: 0; stroke: #ff7f0e; stroke-width: 1.5\"/>\n   </g>\n   <g id=\"line2d_48\">\n    <path d=\"M 49.633125 58.271477 \nL 69.163125 54.308092 \nL 88.693125 53.450706 \n\" clip-path=\"url(#p89e921aec6)\" style=\"fill: none; stroke-dasharray: 9.6,2.4,1.5,2.4; stroke-dashoffset: 0; stroke: #2ca02c; stroke-width: 1.5\"/>\n   </g>\n   <g id=\"line2d_49\">\n    <path d=\"M 34.954394 32.965109 \nL 44.698573 88.410778 \nL 54.442752 102.536957 \nL 64.186931 108.974849 \nL 73.93111 114.465767 \nL 83.675289 117.923547 \nL 93.419468 121.85766 \nL 103.163647 123.490559 \n\" clip-path=\"url(#p89e921aec6)\" style=\"fill: none; stroke: #1f77b4; stroke-width: 1.5; stroke-linecap: square\"/>\n   </g>\n   <g id=\"line2d_50\">\n    <path d=\"M 49.633125 86.08254 \nL 69.163125 100.600708 \nL 88.693125 102.595686 \nL 108.223125 13.5 \n\" clip-path=\"url(#p89e921aec6)\" style=\"fill: none; stroke-dasharray: 5.55,2.4; stroke-dashoffset: 0; stroke: #ff7f0e; stroke-width: 1.5\"/>\n   </g>\n   <g id=\"line2d_51\">\n    <path d=\"M 49.633125 58.271477 \nL 69.163125 54.308092 \nL 88.693125 53.450706 \n\" clip-path=\"url(#p89e921aec6)\" style=\"fill: none; stroke-dasharray: 9.6,2.4,1.5,2.4; stroke-dashoffset: 0; stroke: #2ca02c; stroke-width: 1.5\"/>\n   </g>\n   <g id=\"line2d_52\">\n    <path d=\"M 34.954394 32.965109 \nL 44.698573 88.410778 \nL 54.442752 102.536957 \nL 64.186931 108.974849 \nL 73.93111 114.465767 \nL 83.675289 117.923547 \nL 93.419468 121.85766 \nL 103.163647 123.490559 \n\" clip-path=\"url(#p89e921aec6)\" style=\"fill: none; stroke: #1f77b4; stroke-width: 1.5; stroke-linecap: square\"/>\n   </g>\n   <g id=\"line2d_53\">\n    <path d=\"M 49.633125 86.08254 \nL 69.163125 100.600708 \nL 88.693125 102.595686 \nL 108.223125 13.5 \n\" clip-path=\"url(#p89e921aec6)\" style=\"fill: none; stroke-dasharray: 5.55,2.4; stroke-dashoffset: 0; stroke: #ff7f0e; stroke-width: 1.5\"/>\n   </g>\n   <g id=\"line2d_54\">\n    <path d=\"M 49.633125 58.271477 \nL 69.163125 54.308092 \nL 88.693125 53.450706 \nL 108.223125 85.416622 \n\" clip-path=\"url(#p89e921aec6)\" style=\"fill: none; stroke-dasharray: 9.6,2.4,1.5,2.4; stroke-dashoffset: 0; stroke: #2ca02c; stroke-width: 1.5\"/>\n   </g>\n   <g id=\"line2d_55\">\n    <path d=\"M 34.954394 32.965109 \nL 44.698573 88.410778 \nL 54.442752 102.536957 \nL 64.186931 108.974849 \nL 73.93111 114.465767 \nL 83.675289 117.923547 \nL 93.419468 121.85766 \nL 103.163647 123.490559 \nL 112.907826 126.644861 \n\" clip-path=\"url(#p89e921aec6)\" style=\"fill: none; stroke: #1f77b4; stroke-width: 1.5; stroke-linecap: square\"/>\n   </g>\n   <g id=\"line2d_56\">\n    <path d=\"M 49.633125 86.08254 \nL 69.163125 100.600708 \nL 88.693125 102.595686 \nL 108.223125 13.5 \n\" clip-path=\"url(#p89e921aec6)\" style=\"fill: none; stroke-dasharray: 5.55,2.4; stroke-dashoffset: 0; stroke: #ff7f0e; stroke-width: 1.5\"/>\n   </g>\n   <g id=\"line2d_57\">\n    <path d=\"M 49.633125 58.271477 \nL 69.163125 54.308092 \nL 88.693125 53.450706 \nL 108.223125 85.416622 \n\" clip-path=\"url(#p89e921aec6)\" style=\"fill: none; stroke-dasharray: 9.6,2.4,1.5,2.4; stroke-dashoffset: 0; stroke: #2ca02c; stroke-width: 1.5\"/>\n   </g>\n   <g id=\"line2d_58\">\n    <path d=\"M 34.954394 32.965109 \nL 44.698573 88.410778 \nL 54.442752 102.536957 \nL 64.186931 108.974849 \nL 73.93111 114.465767 \nL 83.675289 117.923547 \nL 93.419468 121.85766 \nL 103.163647 123.490559 \nL 112.907826 126.644861 \nL 122.652006 127.551168 \n\" clip-path=\"url(#p89e921aec6)\" style=\"fill: none; stroke: #1f77b4; stroke-width: 1.5; stroke-linecap: square\"/>\n   </g>\n   <g id=\"line2d_59\">\n    <path d=\"M 49.633125 86.08254 \nL 69.163125 100.600708 \nL 88.693125 102.595686 \nL 108.223125 13.5 \n\" clip-path=\"url(#p89e921aec6)\" style=\"fill: none; stroke-dasharray: 5.55,2.4; stroke-dashoffset: 0; stroke: #ff7f0e; stroke-width: 1.5\"/>\n   </g>\n   <g id=\"line2d_60\">\n    <path d=\"M 49.633125 58.271477 \nL 69.163125 54.308092 \nL 88.693125 53.450706 \nL 108.223125 85.416622 \n\" clip-path=\"url(#p89e921aec6)\" style=\"fill: none; stroke-dasharray: 9.6,2.4,1.5,2.4; stroke-dashoffset: 0; stroke: #2ca02c; stroke-width: 1.5\"/>\n   </g>\n   <g id=\"line2d_61\">\n    <path d=\"M 34.954394 32.965109 \nL 44.698573 88.410778 \nL 54.442752 102.536957 \nL 64.186931 108.974849 \nL 73.93111 114.465767 \nL 83.675289 117.923547 \nL 93.419468 121.85766 \nL 103.163647 123.490559 \nL 112.907826 126.644861 \nL 122.652006 127.551168 \n\" clip-path=\"url(#p89e921aec6)\" style=\"fill: none; stroke: #1f77b4; stroke-width: 1.5; stroke-linecap: square\"/>\n   </g>\n   <g id=\"line2d_62\">\n    <path d=\"M 49.633125 86.08254 \nL 69.163125 100.600708 \nL 88.693125 102.595686 \nL 108.223125 13.5 \nL 127.753125 113.486322 \n\" clip-path=\"url(#p89e921aec6)\" style=\"fill: none; stroke-dasharray: 5.55,2.4; stroke-dashoffset: 0; stroke: #ff7f0e; stroke-width: 1.5\"/>\n   </g>\n   <g id=\"line2d_63\">\n    <path d=\"M 49.633125 58.271477 \nL 69.163125 54.308092 \nL 88.693125 53.450706 \nL 108.223125 85.416622 \n\" clip-path=\"url(#p89e921aec6)\" style=\"fill: none; stroke-dasharray: 9.6,2.4,1.5,2.4; stroke-dashoffset: 0; stroke: #2ca02c; stroke-width: 1.5\"/>\n   </g>\n   <g id=\"line2d_64\">\n    <path d=\"M 34.954394 32.965109 \nL 44.698573 88.410778 \nL 54.442752 102.536957 \nL 64.186931 108.974849 \nL 73.93111 114.465767 \nL 83.675289 117.923547 \nL 93.419468 121.85766 \nL 103.163647 123.490559 \nL 112.907826 126.644861 \nL 122.652006 127.551168 \n\" clip-path=\"url(#p89e921aec6)\" style=\"fill: none; stroke: #1f77b4; stroke-width: 1.5; stroke-linecap: square\"/>\n   </g>\n   <g id=\"line2d_65\">\n    <path d=\"M 49.633125 86.08254 \nL 69.163125 100.600708 \nL 88.693125 102.595686 \nL 108.223125 13.5 \nL 127.753125 113.486322 \n\" clip-path=\"url(#p89e921aec6)\" style=\"fill: none; stroke-dasharray: 5.55,2.4; stroke-dashoffset: 0; stroke: #ff7f0e; stroke-width: 1.5\"/>\n   </g>\n   <g id=\"line2d_66\">\n    <path d=\"M 49.633125 58.271477 \nL 69.163125 54.308092 \nL 88.693125 53.450706 \nL 108.223125 85.416622 \nL 127.753125 49.82704 \n\" clip-path=\"url(#p89e921aec6)\" style=\"fill: none; stroke-dasharray: 9.6,2.4,1.5,2.4; stroke-dashoffset: 0; stroke: #2ca02c; stroke-width: 1.5\"/>\n   </g>\n   <g id=\"line2d_67\">\n    <path d=\"M 34.954394 32.965109 \nL 44.698573 88.410778 \nL 54.442752 102.536957 \nL 64.186931 108.974849 \nL 73.93111 114.465767 \nL 83.675289 117.923547 \nL 93.419468 121.85766 \nL 103.163647 123.490559 \nL 112.907826 126.644861 \nL 122.652006 127.551168 \nL 132.396185 129.412052 \n\" clip-path=\"url(#p89e921aec6)\" style=\"fill: none; stroke: #1f77b4; stroke-width: 1.5; stroke-linecap: square\"/>\n   </g>\n   <g id=\"line2d_68\">\n    <path d=\"M 49.633125 86.08254 \nL 69.163125 100.600708 \nL 88.693125 102.595686 \nL 108.223125 13.5 \nL 127.753125 113.486322 \n\" clip-path=\"url(#p89e921aec6)\" style=\"fill: none; stroke-dasharray: 5.55,2.4; stroke-dashoffset: 0; stroke: #ff7f0e; stroke-width: 1.5\"/>\n   </g>\n   <g id=\"line2d_69\">\n    <path d=\"M 49.633125 58.271477 \nL 69.163125 54.308092 \nL 88.693125 53.450706 \nL 108.223125 85.416622 \nL 127.753125 49.82704 \n\" clip-path=\"url(#p89e921aec6)\" style=\"fill: none; stroke-dasharray: 9.6,2.4,1.5,2.4; stroke-dashoffset: 0; stroke: #2ca02c; stroke-width: 1.5\"/>\n   </g>\n   <g id=\"line2d_70\">\n    <path d=\"M 34.954394 32.965109 \nL 44.698573 88.410778 \nL 54.442752 102.536957 \nL 64.186931 108.974849 \nL 73.93111 114.465767 \nL 83.675289 117.923547 \nL 93.419468 121.85766 \nL 103.163647 123.490559 \nL 112.907826 126.644861 \nL 122.652006 127.551168 \nL 132.396185 129.412052 \nL 142.140364 132.318898 \n\" clip-path=\"url(#p89e921aec6)\" style=\"fill: none; stroke: #1f77b4; stroke-width: 1.5; stroke-linecap: square\"/>\n   </g>\n   <g id=\"line2d_71\">\n    <path d=\"M 49.633125 86.08254 \nL 69.163125 100.600708 \nL 88.693125 102.595686 \nL 108.223125 13.5 \nL 127.753125 113.486322 \n\" clip-path=\"url(#p89e921aec6)\" style=\"fill: none; stroke-dasharray: 5.55,2.4; stroke-dashoffset: 0; stroke: #ff7f0e; stroke-width: 1.5\"/>\n   </g>\n   <g id=\"line2d_72\">\n    <path d=\"M 49.633125 58.271477 \nL 69.163125 54.308092 \nL 88.693125 53.450706 \nL 108.223125 85.416622 \nL 127.753125 49.82704 \n\" clip-path=\"url(#p89e921aec6)\" style=\"fill: none; stroke-dasharray: 9.6,2.4,1.5,2.4; stroke-dashoffset: 0; stroke: #2ca02c; stroke-width: 1.5\"/>\n   </g>\n   <g id=\"line2d_73\">\n    <path d=\"M 34.954394 32.965109 \nL 44.698573 88.410778 \nL 54.442752 102.536957 \nL 64.186931 108.974849 \nL 73.93111 114.465767 \nL 83.675289 117.923547 \nL 93.419468 121.85766 \nL 103.163647 123.490559 \nL 112.907826 126.644861 \nL 122.652006 127.551168 \nL 132.396185 129.412052 \nL 142.140364 132.318898 \n\" clip-path=\"url(#p89e921aec6)\" style=\"fill: none; stroke: #1f77b4; stroke-width: 1.5; stroke-linecap: square\"/>\n   </g>\n   <g id=\"line2d_74\">\n    <path d=\"M 49.633125 86.08254 \nL 69.163125 100.600708 \nL 88.693125 102.595686 \nL 108.223125 13.5 \nL 127.753125 113.486322 \nL 147.283125 118.481624 \n\" clip-path=\"url(#p89e921aec6)\" style=\"fill: none; stroke-dasharray: 5.55,2.4; stroke-dashoffset: 0; stroke: #ff7f0e; stroke-width: 1.5\"/>\n   </g>\n   <g id=\"line2d_75\">\n    <path d=\"M 49.633125 58.271477 \nL 69.163125 54.308092 \nL 88.693125 53.450706 \nL 108.223125 85.416622 \nL 127.753125 49.82704 \n\" clip-path=\"url(#p89e921aec6)\" style=\"fill: none; stroke-dasharray: 9.6,2.4,1.5,2.4; stroke-dashoffset: 0; stroke: #2ca02c; stroke-width: 1.5\"/>\n   </g>\n   <g id=\"line2d_76\">\n    <path d=\"M 34.954394 32.965109 \nL 44.698573 88.410778 \nL 54.442752 102.536957 \nL 64.186931 108.974849 \nL 73.93111 114.465767 \nL 83.675289 117.923547 \nL 93.419468 121.85766 \nL 103.163647 123.490559 \nL 112.907826 126.644861 \nL 122.652006 127.551168 \nL 132.396185 129.412052 \nL 142.140364 132.318898 \n\" clip-path=\"url(#p89e921aec6)\" style=\"fill: none; stroke: #1f77b4; stroke-width: 1.5; stroke-linecap: square\"/>\n   </g>\n   <g id=\"line2d_77\">\n    <path d=\"M 49.633125 86.08254 \nL 69.163125 100.600708 \nL 88.693125 102.595686 \nL 108.223125 13.5 \nL 127.753125 113.486322 \nL 147.283125 118.481624 \n\" clip-path=\"url(#p89e921aec6)\" style=\"fill: none; stroke-dasharray: 5.55,2.4; stroke-dashoffset: 0; stroke: #ff7f0e; stroke-width: 1.5\"/>\n   </g>\n   <g id=\"line2d_78\">\n    <path d=\"M 49.633125 58.271477 \nL 69.163125 54.308092 \nL 88.693125 53.450706 \nL 108.223125 85.416622 \nL 127.753125 49.82704 \nL 147.283125 48.629936 \n\" clip-path=\"url(#p89e921aec6)\" style=\"fill: none; stroke-dasharray: 9.6,2.4,1.5,2.4; stroke-dashoffset: 0; stroke: #2ca02c; stroke-width: 1.5\"/>\n   </g>\n   <g id=\"line2d_79\">\n    <path d=\"M 34.954394 32.965109 \nL 44.698573 88.410778 \nL 54.442752 102.536957 \nL 64.186931 108.974849 \nL 73.93111 114.465767 \nL 83.675289 117.923547 \nL 93.419468 121.85766 \nL 103.163647 123.490559 \nL 112.907826 126.644861 \nL 122.652006 127.551168 \nL 132.396185 129.412052 \nL 142.140364 132.318898 \nL 151.884543 133.931486 \n\" clip-path=\"url(#p89e921aec6)\" style=\"fill: none; stroke: #1f77b4; stroke-width: 1.5; stroke-linecap: square\"/>\n   </g>\n   <g id=\"line2d_80\">\n    <path d=\"M 49.633125 86.08254 \nL 69.163125 100.600708 \nL 88.693125 102.595686 \nL 108.223125 13.5 \nL 127.753125 113.486322 \nL 147.283125 118.481624 \n\" clip-path=\"url(#p89e921aec6)\" style=\"fill: none; stroke-dasharray: 5.55,2.4; stroke-dashoffset: 0; stroke: #ff7f0e; stroke-width: 1.5\"/>\n   </g>\n   <g id=\"line2d_81\">\n    <path d=\"M 49.633125 58.271477 \nL 69.163125 54.308092 \nL 88.693125 53.450706 \nL 108.223125 85.416622 \nL 127.753125 49.82704 \nL 147.283125 48.629936 \n\" clip-path=\"url(#p89e921aec6)\" style=\"fill: none; stroke-dasharray: 9.6,2.4,1.5,2.4; stroke-dashoffset: 0; stroke: #2ca02c; stroke-width: 1.5\"/>\n   </g>\n   <g id=\"line2d_82\">\n    <path d=\"M 34.954394 32.965109 \nL 44.698573 88.410778 \nL 54.442752 102.536957 \nL 64.186931 108.974849 \nL 73.93111 114.465767 \nL 83.675289 117.923547 \nL 93.419468 121.85766 \nL 103.163647 123.490559 \nL 112.907826 126.644861 \nL 122.652006 127.551168 \nL 132.396185 129.412052 \nL 142.140364 132.318898 \nL 151.884543 133.931486 \nL 161.628722 132.970432 \n\" clip-path=\"url(#p89e921aec6)\" style=\"fill: none; stroke: #1f77b4; stroke-width: 1.5; stroke-linecap: square\"/>\n   </g>\n   <g id=\"line2d_83\">\n    <path d=\"M 49.633125 86.08254 \nL 69.163125 100.600708 \nL 88.693125 102.595686 \nL 108.223125 13.5 \nL 127.753125 113.486322 \nL 147.283125 118.481624 \n\" clip-path=\"url(#p89e921aec6)\" style=\"fill: none; stroke-dasharray: 5.55,2.4; stroke-dashoffset: 0; stroke: #ff7f0e; stroke-width: 1.5\"/>\n   </g>\n   <g id=\"line2d_84\">\n    <path d=\"M 49.633125 58.271477 \nL 69.163125 54.308092 \nL 88.693125 53.450706 \nL 108.223125 85.416622 \nL 127.753125 49.82704 \nL 147.283125 48.629936 \n\" clip-path=\"url(#p89e921aec6)\" style=\"fill: none; stroke-dasharray: 9.6,2.4,1.5,2.4; stroke-dashoffset: 0; stroke: #2ca02c; stroke-width: 1.5\"/>\n   </g>\n   <g id=\"line2d_85\">\n    <path d=\"M 34.954394 32.965109 \nL 44.698573 88.410778 \nL 54.442752 102.536957 \nL 64.186931 108.974849 \nL 73.93111 114.465767 \nL 83.675289 117.923547 \nL 93.419468 121.85766 \nL 103.163647 123.490559 \nL 112.907826 126.644861 \nL 122.652006 127.551168 \nL 132.396185 129.412052 \nL 142.140364 132.318898 \nL 151.884543 133.931486 \nL 161.628722 132.970432 \n\" clip-path=\"url(#p89e921aec6)\" style=\"fill: none; stroke: #1f77b4; stroke-width: 1.5; stroke-linecap: square\"/>\n   </g>\n   <g id=\"line2d_86\">\n    <path d=\"M 49.633125 86.08254 \nL 69.163125 100.600708 \nL 88.693125 102.595686 \nL 108.223125 13.5 \nL 127.753125 113.486322 \nL 147.283125 118.481624 \nL 166.813125 105.607984 \n\" clip-path=\"url(#p89e921aec6)\" style=\"fill: none; stroke-dasharray: 5.55,2.4; stroke-dashoffset: 0; stroke: #ff7f0e; stroke-width: 1.5\"/>\n   </g>\n   <g id=\"line2d_87\">\n    <path d=\"M 49.633125 58.271477 \nL 69.163125 54.308092 \nL 88.693125 53.450706 \nL 108.223125 85.416622 \nL 127.753125 49.82704 \nL 147.283125 48.629936 \n\" clip-path=\"url(#p89e921aec6)\" style=\"fill: none; stroke-dasharray: 9.6,2.4,1.5,2.4; stroke-dashoffset: 0; stroke: #2ca02c; stroke-width: 1.5\"/>\n   </g>\n   <g id=\"line2d_88\">\n    <path d=\"M 34.954394 32.965109 \nL 44.698573 88.410778 \nL 54.442752 102.536957 \nL 64.186931 108.974849 \nL 73.93111 114.465767 \nL 83.675289 117.923547 \nL 93.419468 121.85766 \nL 103.163647 123.490559 \nL 112.907826 126.644861 \nL 122.652006 127.551168 \nL 132.396185 129.412052 \nL 142.140364 132.318898 \nL 151.884543 133.931486 \nL 161.628722 132.970432 \n\" clip-path=\"url(#p89e921aec6)\" style=\"fill: none; stroke: #1f77b4; stroke-width: 1.5; stroke-linecap: square\"/>\n   </g>\n   <g id=\"line2d_89\">\n    <path d=\"M 49.633125 86.08254 \nL 69.163125 100.600708 \nL 88.693125 102.595686 \nL 108.223125 13.5 \nL 127.753125 113.486322 \nL 147.283125 118.481624 \nL 166.813125 105.607984 \n\" clip-path=\"url(#p89e921aec6)\" style=\"fill: none; stroke-dasharray: 5.55,2.4; stroke-dashoffset: 0; stroke: #ff7f0e; stroke-width: 1.5\"/>\n   </g>\n   <g id=\"line2d_90\">\n    <path d=\"M 49.633125 58.271477 \nL 69.163125 54.308092 \nL 88.693125 53.450706 \nL 108.223125 85.416622 \nL 127.753125 49.82704 \nL 147.283125 48.629936 \nL 166.813125 55.019883 \n\" clip-path=\"url(#p89e921aec6)\" style=\"fill: none; stroke-dasharray: 9.6,2.4,1.5,2.4; stroke-dashoffset: 0; stroke: #2ca02c; stroke-width: 1.5\"/>\n   </g>\n   <g id=\"line2d_91\">\n    <path d=\"M 34.954394 32.965109 \nL 44.698573 88.410778 \nL 54.442752 102.536957 \nL 64.186931 108.974849 \nL 73.93111 114.465767 \nL 83.675289 117.923547 \nL 93.419468 121.85766 \nL 103.163647 123.490559 \nL 112.907826 126.644861 \nL 122.652006 127.551168 \nL 132.396185 129.412052 \nL 142.140364 132.318898 \nL 151.884543 133.931486 \nL 161.628722 132.970432 \nL 171.372901 135.160894 \n\" clip-path=\"url(#p89e921aec6)\" style=\"fill: none; stroke: #1f77b4; stroke-width: 1.5; stroke-linecap: square\"/>\n   </g>\n   <g id=\"line2d_92\">\n    <path d=\"M 49.633125 86.08254 \nL 69.163125 100.600708 \nL 88.693125 102.595686 \nL 108.223125 13.5 \nL 127.753125 113.486322 \nL 147.283125 118.481624 \nL 166.813125 105.607984 \n\" clip-path=\"url(#p89e921aec6)\" style=\"fill: none; stroke-dasharray: 5.55,2.4; stroke-dashoffset: 0; stroke: #ff7f0e; stroke-width: 1.5\"/>\n   </g>\n   <g id=\"line2d_93\">\n    <path d=\"M 49.633125 58.271477 \nL 69.163125 54.308092 \nL 88.693125 53.450706 \nL 108.223125 85.416622 \nL 127.753125 49.82704 \nL 147.283125 48.629936 \nL 166.813125 55.019883 \n\" clip-path=\"url(#p89e921aec6)\" style=\"fill: none; stroke-dasharray: 9.6,2.4,1.5,2.4; stroke-dashoffset: 0; stroke: #2ca02c; stroke-width: 1.5\"/>\n   </g>\n   <g id=\"line2d_94\">\n    <path d=\"M 34.954394 32.965109 \nL 44.698573 88.410778 \nL 54.442752 102.536957 \nL 64.186931 108.974849 \nL 73.93111 114.465767 \nL 83.675289 117.923547 \nL 93.419468 121.85766 \nL 103.163647 123.490559 \nL 112.907826 126.644861 \nL 122.652006 127.551168 \nL 132.396185 129.412052 \nL 142.140364 132.318898 \nL 151.884543 133.931486 \nL 161.628722 132.970432 \nL 171.372901 135.160894 \nL 181.11708 136.33335 \n\" clip-path=\"url(#p89e921aec6)\" style=\"fill: none; stroke: #1f77b4; stroke-width: 1.5; stroke-linecap: square\"/>\n   </g>\n   <g id=\"line2d_95\">\n    <path d=\"M 49.633125 86.08254 \nL 69.163125 100.600708 \nL 88.693125 102.595686 \nL 108.223125 13.5 \nL 127.753125 113.486322 \nL 147.283125 118.481624 \nL 166.813125 105.607984 \n\" clip-path=\"url(#p89e921aec6)\" style=\"fill: none; stroke-dasharray: 5.55,2.4; stroke-dashoffset: 0; stroke: #ff7f0e; stroke-width: 1.5\"/>\n   </g>\n   <g id=\"line2d_96\">\n    <path d=\"M 49.633125 58.271477 \nL 69.163125 54.308092 \nL 88.693125 53.450706 \nL 108.223125 85.416622 \nL 127.753125 49.82704 \nL 147.283125 48.629936 \nL 166.813125 55.019883 \n\" clip-path=\"url(#p89e921aec6)\" style=\"fill: none; stroke-dasharray: 9.6,2.4,1.5,2.4; stroke-dashoffset: 0; stroke: #2ca02c; stroke-width: 1.5\"/>\n   </g>\n   <g id=\"line2d_97\">\n    <path d=\"M 34.954394 32.965109 \nL 44.698573 88.410778 \nL 54.442752 102.536957 \nL 64.186931 108.974849 \nL 73.93111 114.465767 \nL 83.675289 117.923547 \nL 93.419468 121.85766 \nL 103.163647 123.490559 \nL 112.907826 126.644861 \nL 122.652006 127.551168 \nL 132.396185 129.412052 \nL 142.140364 132.318898 \nL 151.884543 133.931486 \nL 161.628722 132.970432 \nL 171.372901 135.160894 \nL 181.11708 136.33335 \n\" clip-path=\"url(#p89e921aec6)\" style=\"fill: none; stroke: #1f77b4; stroke-width: 1.5; stroke-linecap: square\"/>\n   </g>\n   <g id=\"line2d_98\">\n    <path d=\"M 49.633125 86.08254 \nL 69.163125 100.600708 \nL 88.693125 102.595686 \nL 108.223125 13.5 \nL 127.753125 113.486322 \nL 147.283125 118.481624 \nL 166.813125 105.607984 \nL 186.343125 125.219727 \n\" clip-path=\"url(#p89e921aec6)\" style=\"fill: none; stroke-dasharray: 5.55,2.4; stroke-dashoffset: 0; stroke: #ff7f0e; stroke-width: 1.5\"/>\n   </g>\n   <g id=\"line2d_99\">\n    <path d=\"M 49.633125 58.271477 \nL 69.163125 54.308092 \nL 88.693125 53.450706 \nL 108.223125 85.416622 \nL 127.753125 49.82704 \nL 147.283125 48.629936 \nL 166.813125 55.019883 \n\" clip-path=\"url(#p89e921aec6)\" style=\"fill: none; stroke-dasharray: 9.6,2.4,1.5,2.4; stroke-dashoffset: 0; stroke: #2ca02c; stroke-width: 1.5\"/>\n   </g>\n   <g id=\"line2d_100\">\n    <path d=\"M 34.954394 32.965109 \nL 44.698573 88.410778 \nL 54.442752 102.536957 \nL 64.186931 108.974849 \nL 73.93111 114.465767 \nL 83.675289 117.923547 \nL 93.419468 121.85766 \nL 103.163647 123.490559 \nL 112.907826 126.644861 \nL 122.652006 127.551168 \nL 132.396185 129.412052 \nL 142.140364 132.318898 \nL 151.884543 133.931486 \nL 161.628722 132.970432 \nL 171.372901 135.160894 \nL 181.11708 136.33335 \n\" clip-path=\"url(#p89e921aec6)\" style=\"fill: none; stroke: #1f77b4; stroke-width: 1.5; stroke-linecap: square\"/>\n   </g>\n   <g id=\"line2d_101\">\n    <path d=\"M 49.633125 86.08254 \nL 69.163125 100.600708 \nL 88.693125 102.595686 \nL 108.223125 13.5 \nL 127.753125 113.486322 \nL 147.283125 118.481624 \nL 166.813125 105.607984 \nL 186.343125 125.219727 \n\" clip-path=\"url(#p89e921aec6)\" style=\"fill: none; stroke-dasharray: 5.55,2.4; stroke-dashoffset: 0; stroke: #ff7f0e; stroke-width: 1.5\"/>\n   </g>\n   <g id=\"line2d_102\">\n    <path d=\"M 49.633125 58.271477 \nL 69.163125 54.308092 \nL 88.693125 53.450706 \nL 108.223125 85.416622 \nL 127.753125 49.82704 \nL 147.283125 48.629936 \nL 166.813125 55.019883 \nL 186.343125 46.591623 \n\" clip-path=\"url(#p89e921aec6)\" style=\"fill: none; stroke-dasharray: 9.6,2.4,1.5,2.4; stroke-dashoffset: 0; stroke: #2ca02c; stroke-width: 1.5\"/>\n   </g>\n   <g id=\"line2d_103\">\n    <path d=\"M 34.954394 32.965109 \nL 44.698573 88.410778 \nL 54.442752 102.536957 \nL 64.186931 108.974849 \nL 73.93111 114.465767 \nL 83.675289 117.923547 \nL 93.419468 121.85766 \nL 103.163647 123.490559 \nL 112.907826 126.644861 \nL 122.652006 127.551168 \nL 132.396185 129.412052 \nL 142.140364 132.318898 \nL 151.884543 133.931486 \nL 161.628722 132.970432 \nL 171.372901 135.160894 \nL 181.11708 136.33335 \nL 190.861259 138.15803 \n\" clip-path=\"url(#p89e921aec6)\" style=\"fill: none; stroke: #1f77b4; stroke-width: 1.5; stroke-linecap: square\"/>\n   </g>\n   <g id=\"line2d_104\">\n    <path d=\"M 49.633125 86.08254 \nL 69.163125 100.600708 \nL 88.693125 102.595686 \nL 108.223125 13.5 \nL 127.753125 113.486322 \nL 147.283125 118.481624 \nL 166.813125 105.607984 \nL 186.343125 125.219727 \n\" clip-path=\"url(#p89e921aec6)\" style=\"fill: none; stroke-dasharray: 5.55,2.4; stroke-dashoffset: 0; stroke: #ff7f0e; stroke-width: 1.5\"/>\n   </g>\n   <g id=\"line2d_105\">\n    <path d=\"M 49.633125 58.271477 \nL 69.163125 54.308092 \nL 88.693125 53.450706 \nL 108.223125 85.416622 \nL 127.753125 49.82704 \nL 147.283125 48.629936 \nL 166.813125 55.019883 \nL 186.343125 46.591623 \n\" clip-path=\"url(#p89e921aec6)\" style=\"fill: none; stroke-dasharray: 9.6,2.4,1.5,2.4; stroke-dashoffset: 0; stroke: #2ca02c; stroke-width: 1.5\"/>\n   </g>\n   <g id=\"line2d_106\">\n    <path d=\"M 34.954394 32.965109 \nL 44.698573 88.410778 \nL 54.442752 102.536957 \nL 64.186931 108.974849 \nL 73.93111 114.465767 \nL 83.675289 117.923547 \nL 93.419468 121.85766 \nL 103.163647 123.490559 \nL 112.907826 126.644861 \nL 122.652006 127.551168 \nL 132.396185 129.412052 \nL 142.140364 132.318898 \nL 151.884543 133.931486 \nL 161.628722 132.970432 \nL 171.372901 135.160894 \nL 181.11708 136.33335 \nL 190.861259 138.15803 \nL 200.605438 136.933983 \n\" clip-path=\"url(#p89e921aec6)\" style=\"fill: none; stroke: #1f77b4; stroke-width: 1.5; stroke-linecap: square\"/>\n   </g>\n   <g id=\"line2d_107\">\n    <path d=\"M 49.633125 86.08254 \nL 69.163125 100.600708 \nL 88.693125 102.595686 \nL 108.223125 13.5 \nL 127.753125 113.486322 \nL 147.283125 118.481624 \nL 166.813125 105.607984 \nL 186.343125 125.219727 \n\" clip-path=\"url(#p89e921aec6)\" style=\"fill: none; stroke-dasharray: 5.55,2.4; stroke-dashoffset: 0; stroke: #ff7f0e; stroke-width: 1.5\"/>\n   </g>\n   <g id=\"line2d_108\">\n    <path d=\"M 49.633125 58.271477 \nL 69.163125 54.308092 \nL 88.693125 53.450706 \nL 108.223125 85.416622 \nL 127.753125 49.82704 \nL 147.283125 48.629936 \nL 166.813125 55.019883 \nL 186.343125 46.591623 \n\" clip-path=\"url(#p89e921aec6)\" style=\"fill: none; stroke-dasharray: 9.6,2.4,1.5,2.4; stroke-dashoffset: 0; stroke: #2ca02c; stroke-width: 1.5\"/>\n   </g>\n   <g id=\"line2d_109\">\n    <path d=\"M 34.954394 32.965109 \nL 44.698573 88.410778 \nL 54.442752 102.536957 \nL 64.186931 108.974849 \nL 73.93111 114.465767 \nL 83.675289 117.923547 \nL 93.419468 121.85766 \nL 103.163647 123.490559 \nL 112.907826 126.644861 \nL 122.652006 127.551168 \nL 132.396185 129.412052 \nL 142.140364 132.318898 \nL 151.884543 133.931486 \nL 161.628722 132.970432 \nL 171.372901 135.160894 \nL 181.11708 136.33335 \nL 190.861259 138.15803 \nL 200.605438 136.933983 \n\" clip-path=\"url(#p89e921aec6)\" style=\"fill: none; stroke: #1f77b4; stroke-width: 1.5; stroke-linecap: square\"/>\n   </g>\n   <g id=\"line2d_110\">\n    <path d=\"M 49.633125 86.08254 \nL 69.163125 100.600708 \nL 88.693125 102.595686 \nL 108.223125 13.5 \nL 127.753125 113.486322 \nL 147.283125 118.481624 \nL 166.813125 105.607984 \nL 186.343125 125.219727 \nL 205.873125 112.803378 \n\" clip-path=\"url(#p89e921aec6)\" style=\"fill: none; stroke-dasharray: 5.55,2.4; stroke-dashoffset: 0; stroke: #ff7f0e; stroke-width: 1.5\"/>\n   </g>\n   <g id=\"line2d_111\">\n    <path d=\"M 49.633125 58.271477 \nL 69.163125 54.308092 \nL 88.693125 53.450706 \nL 108.223125 85.416622 \nL 127.753125 49.82704 \nL 147.283125 48.629936 \nL 166.813125 55.019883 \nL 186.343125 46.591623 \n\" clip-path=\"url(#p89e921aec6)\" style=\"fill: none; stroke-dasharray: 9.6,2.4,1.5,2.4; stroke-dashoffset: 0; stroke: #2ca02c; stroke-width: 1.5\"/>\n   </g>\n   <g id=\"line2d_112\">\n    <path d=\"M 34.954394 32.965109 \nL 44.698573 88.410778 \nL 54.442752 102.536957 \nL 64.186931 108.974849 \nL 73.93111 114.465767 \nL 83.675289 117.923547 \nL 93.419468 121.85766 \nL 103.163647 123.490559 \nL 112.907826 126.644861 \nL 122.652006 127.551168 \nL 132.396185 129.412052 \nL 142.140364 132.318898 \nL 151.884543 133.931486 \nL 161.628722 132.970432 \nL 171.372901 135.160894 \nL 181.11708 136.33335 \nL 190.861259 138.15803 \nL 200.605438 136.933983 \n\" clip-path=\"url(#p89e921aec6)\" style=\"fill: none; stroke: #1f77b4; stroke-width: 1.5; stroke-linecap: square\"/>\n   </g>\n   <g id=\"line2d_113\">\n    <path d=\"M 49.633125 86.08254 \nL 69.163125 100.600708 \nL 88.693125 102.595686 \nL 108.223125 13.5 \nL 127.753125 113.486322 \nL 147.283125 118.481624 \nL 166.813125 105.607984 \nL 186.343125 125.219727 \nL 205.873125 112.803378 \n\" clip-path=\"url(#p89e921aec6)\" style=\"fill: none; stroke-dasharray: 5.55,2.4; stroke-dashoffset: 0; stroke: #ff7f0e; stroke-width: 1.5\"/>\n   </g>\n   <g id=\"line2d_114\">\n    <path d=\"M 49.633125 58.271477 \nL 69.163125 54.308092 \nL 88.693125 53.450706 \nL 108.223125 85.416622 \nL 127.753125 49.82704 \nL 147.283125 48.629936 \nL 166.813125 55.019883 \nL 186.343125 46.591623 \nL 205.873125 52.900685 \n\" clip-path=\"url(#p89e921aec6)\" style=\"fill: none; stroke-dasharray: 9.6,2.4,1.5,2.4; stroke-dashoffset: 0; stroke: #2ca02c; stroke-width: 1.5\"/>\n   </g>\n   <g id=\"line2d_115\">\n    <path d=\"M 34.954394 32.965109 \nL 44.698573 88.410778 \nL 54.442752 102.536957 \nL 64.186931 108.974849 \nL 73.93111 114.465767 \nL 83.675289 117.923547 \nL 93.419468 121.85766 \nL 103.163647 123.490559 \nL 112.907826 126.644861 \nL 122.652006 127.551168 \nL 132.396185 129.412052 \nL 142.140364 132.318898 \nL 151.884543 133.931486 \nL 161.628722 132.970432 \nL 171.372901 135.160894 \nL 181.11708 136.33335 \nL 190.861259 138.15803 \nL 200.605438 136.933983 \nL 210.349618 139.5 \n\" clip-path=\"url(#p89e921aec6)\" style=\"fill: none; stroke: #1f77b4; stroke-width: 1.5; stroke-linecap: square\"/>\n   </g>\n   <g id=\"line2d_116\">\n    <path d=\"M 49.633125 86.08254 \nL 69.163125 100.600708 \nL 88.693125 102.595686 \nL 108.223125 13.5 \nL 127.753125 113.486322 \nL 147.283125 118.481624 \nL 166.813125 105.607984 \nL 186.343125 125.219727 \nL 205.873125 112.803378 \n\" clip-path=\"url(#p89e921aec6)\" style=\"fill: none; stroke-dasharray: 5.55,2.4; stroke-dashoffset: 0; stroke: #ff7f0e; stroke-width: 1.5\"/>\n   </g>\n   <g id=\"line2d_117\">\n    <path d=\"M 49.633125 58.271477 \nL 69.163125 54.308092 \nL 88.693125 53.450706 \nL 108.223125 85.416622 \nL 127.753125 49.82704 \nL 147.283125 48.629936 \nL 166.813125 55.019883 \nL 186.343125 46.591623 \nL 205.873125 52.900685 \n\" clip-path=\"url(#p89e921aec6)\" style=\"fill: none; stroke-dasharray: 9.6,2.4,1.5,2.4; stroke-dashoffset: 0; stroke: #2ca02c; stroke-width: 1.5\"/>\n   </g>\n   <g id=\"line2d_118\">\n    <path d=\"M 34.954394 32.965109 \nL 44.698573 88.410778 \nL 54.442752 102.536957 \nL 64.186931 108.974849 \nL 73.93111 114.465767 \nL 83.675289 117.923547 \nL 93.419468 121.85766 \nL 103.163647 123.490559 \nL 112.907826 126.644861 \nL 122.652006 127.551168 \nL 132.396185 129.412052 \nL 142.140364 132.318898 \nL 151.884543 133.931486 \nL 161.628722 132.970432 \nL 171.372901 135.160894 \nL 181.11708 136.33335 \nL 190.861259 138.15803 \nL 200.605438 136.933983 \nL 210.349618 139.5 \nL 220.093797 138.768326 \n\" clip-path=\"url(#p89e921aec6)\" style=\"fill: none; stroke: #1f77b4; stroke-width: 1.5; stroke-linecap: square\"/>\n   </g>\n   <g id=\"line2d_119\">\n    <path d=\"M 49.633125 86.08254 \nL 69.163125 100.600708 \nL 88.693125 102.595686 \nL 108.223125 13.5 \nL 127.753125 113.486322 \nL 147.283125 118.481624 \nL 166.813125 105.607984 \nL 186.343125 125.219727 \nL 205.873125 112.803378 \n\" clip-path=\"url(#p89e921aec6)\" style=\"fill: none; stroke-dasharray: 5.55,2.4; stroke-dashoffset: 0; stroke: #ff7f0e; stroke-width: 1.5\"/>\n   </g>\n   <g id=\"line2d_120\">\n    <path d=\"M 49.633125 58.271477 \nL 69.163125 54.308092 \nL 88.693125 53.450706 \nL 108.223125 85.416622 \nL 127.753125 49.82704 \nL 147.283125 48.629936 \nL 166.813125 55.019883 \nL 186.343125 46.591623 \nL 205.873125 52.900685 \n\" clip-path=\"url(#p89e921aec6)\" style=\"fill: none; stroke-dasharray: 9.6,2.4,1.5,2.4; stroke-dashoffset: 0; stroke: #2ca02c; stroke-width: 1.5\"/>\n   </g>\n   <g id=\"line2d_121\">\n    <path d=\"M 34.954394 32.965109 \nL 44.698573 88.410778 \nL 54.442752 102.536957 \nL 64.186931 108.974849 \nL 73.93111 114.465767 \nL 83.675289 117.923547 \nL 93.419468 121.85766 \nL 103.163647 123.490559 \nL 112.907826 126.644861 \nL 122.652006 127.551168 \nL 132.396185 129.412052 \nL 142.140364 132.318898 \nL 151.884543 133.931486 \nL 161.628722 132.970432 \nL 171.372901 135.160894 \nL 181.11708 136.33335 \nL 190.861259 138.15803 \nL 200.605438 136.933983 \nL 210.349618 139.5 \nL 220.093797 138.768326 \n\" clip-path=\"url(#p89e921aec6)\" style=\"fill: none; stroke: #1f77b4; stroke-width: 1.5; stroke-linecap: square\"/>\n   </g>\n   <g id=\"line2d_122\">\n    <path d=\"M 49.633125 86.08254 \nL 69.163125 100.600708 \nL 88.693125 102.595686 \nL 108.223125 13.5 \nL 127.753125 113.486322 \nL 147.283125 118.481624 \nL 166.813125 105.607984 \nL 186.343125 125.219727 \nL 205.873125 112.803378 \nL 225.403125 132.300124 \n\" clip-path=\"url(#p89e921aec6)\" style=\"fill: none; stroke-dasharray: 5.55,2.4; stroke-dashoffset: 0; stroke: #ff7f0e; stroke-width: 1.5\"/>\n   </g>\n   <g id=\"line2d_123\">\n    <path d=\"M 49.633125 58.271477 \nL 69.163125 54.308092 \nL 88.693125 53.450706 \nL 108.223125 85.416622 \nL 127.753125 49.82704 \nL 147.283125 48.629936 \nL 166.813125 55.019883 \nL 186.343125 46.591623 \nL 205.873125 52.900685 \n\" clip-path=\"url(#p89e921aec6)\" style=\"fill: none; stroke-dasharray: 9.6,2.4,1.5,2.4; stroke-dashoffset: 0; stroke: #2ca02c; stroke-width: 1.5\"/>\n   </g>\n   <g id=\"line2d_124\">\n    <path d=\"M 34.954394 32.965109 \nL 44.698573 88.410778 \nL 54.442752 102.536957 \nL 64.186931 108.974849 \nL 73.93111 114.465767 \nL 83.675289 117.923547 \nL 93.419468 121.85766 \nL 103.163647 123.490559 \nL 112.907826 126.644861 \nL 122.652006 127.551168 \nL 132.396185 129.412052 \nL 142.140364 132.318898 \nL 151.884543 133.931486 \nL 161.628722 132.970432 \nL 171.372901 135.160894 \nL 181.11708 136.33335 \nL 190.861259 138.15803 \nL 200.605438 136.933983 \nL 210.349618 139.5 \nL 220.093797 138.768326 \n\" clip-path=\"url(#p89e921aec6)\" style=\"fill: none; stroke: #1f77b4; stroke-width: 1.5; stroke-linecap: square\"/>\n   </g>\n   <g id=\"line2d_125\">\n    <path d=\"M 49.633125 86.08254 \nL 69.163125 100.600708 \nL 88.693125 102.595686 \nL 108.223125 13.5 \nL 127.753125 113.486322 \nL 147.283125 118.481624 \nL 166.813125 105.607984 \nL 186.343125 125.219727 \nL 205.873125 112.803378 \nL 225.403125 132.300124 \n\" clip-path=\"url(#p89e921aec6)\" style=\"fill: none; stroke-dasharray: 5.55,2.4; stroke-dashoffset: 0; stroke: #ff7f0e; stroke-width: 1.5\"/>\n   </g>\n   <g id=\"line2d_126\">\n    <path d=\"M 49.633125 58.271477 \nL 69.163125 54.308092 \nL 88.693125 53.450706 \nL 108.223125 85.416622 \nL 127.753125 49.82704 \nL 147.283125 48.629936 \nL 166.813125 55.019883 \nL 186.343125 46.591623 \nL 205.873125 52.900685 \nL 225.403125 43.89005 \n\" clip-path=\"url(#p89e921aec6)\" style=\"fill: none; stroke-dasharray: 9.6,2.4,1.5,2.4; stroke-dashoffset: 0; stroke: #2ca02c; stroke-width: 1.5\"/>\n   </g>\n   <g id=\"patch_3\">\n    <path d=\"M 30.103125 145.8 \nL 30.103125 7.2 \n\" style=\"fill: none; stroke: #000000; stroke-width: 0.8; stroke-linejoin: miter; stroke-linecap: square\"/>\n   </g>\n   <g id=\"patch_4\">\n    <path d=\"M 225.403125 145.8 \nL 225.403125 7.2 \n\" style=\"fill: none; stroke: #000000; stroke-width: 0.8; stroke-linejoin: miter; stroke-linecap: square\"/>\n   </g>\n   <g id=\"patch_5\">\n    <path d=\"M 30.103125 145.8 \nL 225.403125 145.8 \n\" style=\"fill: none; stroke: #000000; stroke-width: 0.8; stroke-linejoin: miter; stroke-linecap: square\"/>\n   </g>\n   <g id=\"patch_6\">\n    <path d=\"M 30.103125 7.2 \nL 225.403125 7.2 \n\" style=\"fill: none; stroke: #000000; stroke-width: 0.8; stroke-linejoin: miter; stroke-linecap: square\"/>\n   </g>\n   <g id=\"legend_1\">\n    <g id=\"patch_7\">\n     <path d=\"M 138.8125 100.434375 \nL 218.403125 100.434375 \nQ 220.403125 100.434375 220.403125 98.434375 \nL 220.403125 54.565625 \nQ 220.403125 52.565625 218.403125 52.565625 \nL 138.8125 52.565625 \nQ 136.8125 52.565625 136.8125 54.565625 \nL 136.8125 98.434375 \nQ 136.8125 100.434375 138.8125 100.434375 \nz\n\" style=\"fill: #ffffff; opacity: 0.8; stroke: #cccccc; stroke-linejoin: miter\"/>\n    </g>\n    <g id=\"line2d_127\">\n     <path d=\"M 140.8125 60.664063 \nL 150.8125 60.664063 \nL 160.8125 60.664063 \n\" style=\"fill: none; stroke: #1f77b4; stroke-width: 1.5; stroke-linecap: square\"/>\n    </g>\n    <g id=\"text_12\">\n     <!-- train_loss -->\n     <g transform=\"translate(168.8125 64.164063) scale(0.1 -0.1)\">\n      <defs>\n       <path id=\"DejaVuSans-74\" d=\"M 1172 4494 \nL 1172 3500 \nL 2356 3500 \nL 2356 3053 \nL 1172 3053 \nL 1172 1153 \nQ 1172 725 1289 603 \nQ 1406 481 1766 481 \nL 2356 481 \nL 2356 0 \nL 1766 0 \nQ 1100 0 847 248 \nQ 594 497 594 1153 \nL 594 3053 \nL 172 3053 \nL 172 3500 \nL 594 3500 \nL 594 4494 \nL 1172 4494 \nz\n\" transform=\"scale(0.015625)\"/>\n       <path id=\"DejaVuSans-72\" d=\"M 2631 2963 \nQ 2534 3019 2420 3045 \nQ 2306 3072 2169 3072 \nQ 1681 3072 1420 2755 \nQ 1159 2438 1159 1844 \nL 1159 0 \nL 581 0 \nL 581 3500 \nL 1159 3500 \nL 1159 2956 \nQ 1341 3275 1631 3429 \nQ 1922 3584 2338 3584 \nQ 2397 3584 2469 3576 \nQ 2541 3569 2628 3553 \nL 2631 2963 \nz\n\" transform=\"scale(0.015625)\"/>\n       <path id=\"DejaVuSans-61\" d=\"M 2194 1759 \nQ 1497 1759 1228 1600 \nQ 959 1441 959 1056 \nQ 959 750 1161 570 \nQ 1363 391 1709 391 \nQ 2188 391 2477 730 \nQ 2766 1069 2766 1631 \nL 2766 1759 \nL 2194 1759 \nz\nM 3341 1997 \nL 3341 0 \nL 2766 0 \nL 2766 531 \nQ 2569 213 2275 61 \nQ 1981 -91 1556 -91 \nQ 1019 -91 701 211 \nQ 384 513 384 1019 \nQ 384 1609 779 1909 \nQ 1175 2209 1959 2209 \nL 2766 2209 \nL 2766 2266 \nQ 2766 2663 2505 2880 \nQ 2244 3097 1772 3097 \nQ 1472 3097 1187 3025 \nQ 903 2953 641 2809 \nL 641 3341 \nQ 956 3463 1253 3523 \nQ 1550 3584 1831 3584 \nQ 2591 3584 2966 3190 \nQ 3341 2797 3341 1997 \nz\n\" transform=\"scale(0.015625)\"/>\n       <path id=\"DejaVuSans-69\" d=\"M 603 3500 \nL 1178 3500 \nL 1178 0 \nL 603 0 \nL 603 3500 \nz\nM 603 4863 \nL 1178 4863 \nL 1178 4134 \nL 603 4134 \nL 603 4863 \nz\n\" transform=\"scale(0.015625)\"/>\n       <path id=\"DejaVuSans-6e\" d=\"M 3513 2113 \nL 3513 0 \nL 2938 0 \nL 2938 2094 \nQ 2938 2591 2744 2837 \nQ 2550 3084 2163 3084 \nQ 1697 3084 1428 2787 \nQ 1159 2491 1159 1978 \nL 1159 0 \nL 581 0 \nL 581 3500 \nL 1159 3500 \nL 1159 2956 \nQ 1366 3272 1645 3428 \nQ 1925 3584 2291 3584 \nQ 2894 3584 3203 3211 \nQ 3513 2838 3513 2113 \nz\n\" transform=\"scale(0.015625)\"/>\n       <path id=\"DejaVuSans-5f\" d=\"M 3263 -1063 \nL 3263 -1509 \nL -63 -1509 \nL -63 -1063 \nL 3263 -1063 \nz\n\" transform=\"scale(0.015625)\"/>\n       <path id=\"DejaVuSans-6c\" d=\"M 603 4863 \nL 1178 4863 \nL 1178 0 \nL 603 0 \nL 603 4863 \nz\n\" transform=\"scale(0.015625)\"/>\n       <path id=\"DejaVuSans-73\" d=\"M 2834 3397 \nL 2834 2853 \nQ 2591 2978 2328 3040 \nQ 2066 3103 1784 3103 \nQ 1356 3103 1142 2972 \nQ 928 2841 928 2578 \nQ 928 2378 1081 2264 \nQ 1234 2150 1697 2047 \nL 1894 2003 \nQ 2506 1872 2764 1633 \nQ 3022 1394 3022 966 \nQ 3022 478 2636 193 \nQ 2250 -91 1575 -91 \nQ 1294 -91 989 -36 \nQ 684 19 347 128 \nL 347 722 \nQ 666 556 975 473 \nQ 1284 391 1588 391 \nQ 1994 391 2212 530 \nQ 2431 669 2431 922 \nQ 2431 1156 2273 1281 \nQ 2116 1406 1581 1522 \nL 1381 1569 \nQ 847 1681 609 1914 \nQ 372 2147 372 2553 \nQ 372 3047 722 3315 \nQ 1072 3584 1716 3584 \nQ 2034 3584 2315 3537 \nQ 2597 3491 2834 3397 \nz\n\" transform=\"scale(0.015625)\"/>\n      </defs>\n      <use xlink:href=\"#DejaVuSans-74\"/>\n      <use xlink:href=\"#DejaVuSans-72\" x=\"39.208984\"/>\n      <use xlink:href=\"#DejaVuSans-61\" x=\"80.322266\"/>\n      <use xlink:href=\"#DejaVuSans-69\" x=\"141.601562\"/>\n      <use xlink:href=\"#DejaVuSans-6e\" x=\"169.384766\"/>\n      <use xlink:href=\"#DejaVuSans-5f\" x=\"232.763672\"/>\n      <use xlink:href=\"#DejaVuSans-6c\" x=\"282.763672\"/>\n      <use xlink:href=\"#DejaVuSans-6f\" x=\"310.546875\"/>\n      <use xlink:href=\"#DejaVuSans-73\" x=\"371.728516\"/>\n      <use xlink:href=\"#DejaVuSans-73\" x=\"423.828125\"/>\n     </g>\n    </g>\n    <g id=\"line2d_128\">\n     <path d=\"M 140.8125 75.620313 \nL 150.8125 75.620313 \nL 160.8125 75.620313 \n\" style=\"fill: none; stroke-dasharray: 5.55,2.4; stroke-dashoffset: 0; stroke: #ff7f0e; stroke-width: 1.5\"/>\n    </g>\n    <g id=\"text_13\">\n     <!-- val_loss -->\n     <g transform=\"translate(168.8125 79.120313) scale(0.1 -0.1)\">\n      <defs>\n       <path id=\"DejaVuSans-76\" d=\"M 191 3500 \nL 800 3500 \nL 1894 563 \nL 2988 3500 \nL 3597 3500 \nL 2284 0 \nL 1503 0 \nL 191 3500 \nz\n\" transform=\"scale(0.015625)\"/>\n      </defs>\n      <use xlink:href=\"#DejaVuSans-76\"/>\n      <use xlink:href=\"#DejaVuSans-61\" x=\"59.179688\"/>\n      <use xlink:href=\"#DejaVuSans-6c\" x=\"120.458984\"/>\n      <use xlink:href=\"#DejaVuSans-5f\" x=\"148.242188\"/>\n      <use xlink:href=\"#DejaVuSans-6c\" x=\"198.242188\"/>\n      <use xlink:href=\"#DejaVuSans-6f\" x=\"226.025391\"/>\n      <use xlink:href=\"#DejaVuSans-73\" x=\"287.207031\"/>\n      <use xlink:href=\"#DejaVuSans-73\" x=\"339.306641\"/>\n     </g>\n    </g>\n    <g id=\"line2d_129\">\n     <path d=\"M 140.8125 90.576563 \nL 150.8125 90.576563 \nL 160.8125 90.576563 \n\" style=\"fill: none; stroke-dasharray: 9.6,2.4,1.5,2.4; stroke-dashoffset: 0; stroke: #2ca02c; stroke-width: 1.5\"/>\n    </g>\n    <g id=\"text_14\">\n     <!-- val_acc -->\n     <g transform=\"translate(168.8125 94.076563) scale(0.1 -0.1)\">\n      <use xlink:href=\"#DejaVuSans-76\"/>\n      <use xlink:href=\"#DejaVuSans-61\" x=\"59.179688\"/>\n      <use xlink:href=\"#DejaVuSans-6c\" x=\"120.458984\"/>\n      <use xlink:href=\"#DejaVuSans-5f\" x=\"148.242188\"/>\n      <use xlink:href=\"#DejaVuSans-61\" x=\"198.242188\"/>\n      <use xlink:href=\"#DejaVuSans-63\" x=\"259.521484\"/>\n      <use xlink:href=\"#DejaVuSans-63\" x=\"314.501953\"/>\n     </g>\n    </g>\n   </g>\n  </g>\n </g>\n <defs>\n  <clipPath id=\"p89e921aec6\">\n   <rect x=\"30.103125\" y=\"7.2\" width=\"195.3\" height=\"138.6\"/>\n  </clipPath>\n </defs>\n</svg>\n"
          },
          "metadata": {}
        }
      ]
    },
    {
      "cell_type": "code",
      "source": [
        "model.net[1].gamma.reshape((-1,)), model.net[1].beta.reshape((-1,))"
      ],
      "metadata": {
        "colab": {
          "base_uri": "https://localhost:8080/"
        },
        "id": "Dj3hSW3nsJ__",
        "outputId": "9c78e110-33d5-4441-e294-71ab3cac6258"
      },
      "id": "Dj3hSW3nsJ__",
      "execution_count": null,
      "outputs": [
        {
          "output_type": "execute_result",
          "data": {
            "text/plain": [
              "(tensor([1.7153, 2.0359, 1.4940, 1.6620, 1.5691, 2.4693], device='cuda:0',\n",
              "        grad_fn=<ViewBackward0>),\n",
              " tensor([-1.6565, -0.6533, -1.3708,  0.2594, -0.8149,  1.6198], device='cuda:0',\n",
              "        grad_fn=<ViewBackward0>))"
            ]
          },
          "metadata": {},
          "execution_count": 21
        }
      ]
    },
    {
      "cell_type": "markdown",
      "source": [
        "## 8.5.5 Concise Implementation"
      ],
      "metadata": {
        "id": "CovdsGl7sTZj"
      },
      "id": "CovdsGl7sTZj"
    },
    {
      "cell_type": "code",
      "source": [
        "class BNLeNet(d2l.Classifier):\n",
        "    def __init__(self, lr=0.1, num_classes=10):\n",
        "        super().__init__()\n",
        "        self.save_hyperparameters()\n",
        "        self.net = nn.Sequential(\n",
        "            nn.LazyConv2d(6, kernel_size=5), nn.LazyBatchNorm2d(),\n",
        "            nn.Sigmoid(), nn.AvgPool2d(kernel_size=2, stride=2),\n",
        "            nn.LazyConv2d(16, kernel_size=5), nn.LazyBatchNorm2d(),\n",
        "            nn.Sigmoid(), nn.AvgPool2d(kernel_size=2, stride=2),\n",
        "            nn.Flatten(), nn.LazyLinear(120), nn.LazyBatchNorm1d(),\n",
        "            nn.Sigmoid(), nn.LazyLinear(84), nn.LazyBatchNorm1d(),\n",
        "            nn.Sigmoid(), nn.LazyLinear(num_classes))"
      ],
      "metadata": {
        "id": "cDfK8GkVsWOP"
      },
      "id": "cDfK8GkVsWOP",
      "execution_count": null,
      "outputs": []
    },
    {
      "cell_type": "code",
      "source": [
        "trainer = d2l.Trainer(max_epochs=10, num_gpus=1)\n",
        "data = d2l.FashionMNIST(batch_size=128)\n",
        "model = BNLeNet(lr=0.1)\n",
        "model.apply_init([next(iter(data.get_dataloader(True)))[0]], d2l.init_cnn)\n",
        "trainer.fit(model, data)"
      ],
      "metadata": {
        "colab": {
          "base_uri": "https://localhost:8080/",
          "height": 265
        },
        "id": "-oFwVVdNsYeV",
        "outputId": "3505bebb-2f86-4f26-ae18-1d7a78f0a42b"
      },
      "id": "-oFwVVdNsYeV",
      "execution_count": null,
      "outputs": [
        {
          "output_type": "display_data",
          "data": {
            "text/plain": [
              "<Figure size 350x250 with 1 Axes>"
            ],
            "image/svg+xml": "<?xml version=\"1.0\" encoding=\"utf-8\" standalone=\"no\"?>\n<!DOCTYPE svg PUBLIC \"-//W3C//DTD SVG 1.1//EN\"\n  \"http://www.w3.org/Graphics/SVG/1.1/DTD/svg11.dtd\">\n<svg xmlns:xlink=\"http://www.w3.org/1999/xlink\" width=\"238.965625pt\" height=\"183.35625pt\" viewBox=\"0 0 238.965625 183.35625\" xmlns=\"http://www.w3.org/2000/svg\" version=\"1.1\">\n <metadata>\n  <rdf:RDF xmlns:dc=\"http://purl.org/dc/elements/1.1/\" xmlns:cc=\"http://creativecommons.org/ns#\" xmlns:rdf=\"http://www.w3.org/1999/02/22-rdf-syntax-ns#\">\n   <cc:Work>\n    <dc:type rdf:resource=\"http://purl.org/dc/dcmitype/StillImage\"/>\n    <dc:date>2024-10-05T12:43:55.383773</dc:date>\n    <dc:format>image/svg+xml</dc:format>\n    <dc:creator>\n     <cc:Agent>\n      <dc:title>Matplotlib v3.7.2, https://matplotlib.org/</dc:title>\n     </cc:Agent>\n    </dc:creator>\n   </cc:Work>\n  </rdf:RDF>\n </metadata>\n <defs>\n  <style type=\"text/css\">*{stroke-linejoin: round; stroke-linecap: butt}</style>\n </defs>\n <g id=\"figure_1\">\n  <g id=\"patch_1\">\n   <path d=\"M 0 183.35625 \nL 238.965625 183.35625 \nL 238.965625 0 \nL 0 0 \nz\n\" style=\"fill: #ffffff\"/>\n  </g>\n  <g id=\"axes_1\">\n   <g id=\"patch_2\">\n    <path d=\"M 30.103125 145.8 \nL 225.403125 145.8 \nL 225.403125 7.2 \nL 30.103125 7.2 \nz\n\" style=\"fill: #ffffff\"/>\n   </g>\n   <g id=\"matplotlib.axis_1\">\n    <g id=\"xtick_1\">\n     <g id=\"line2d_1\">\n      <defs>\n       <path id=\"mc9dff14232\" d=\"M 0 0 \nL 0 3.5 \n\" style=\"stroke: #000000; stroke-width: 0.8\"/>\n      </defs>\n      <g>\n       <use xlink:href=\"#mc9dff14232\" x=\"30.103125\" y=\"145.8\" style=\"stroke: #000000; stroke-width: 0.8\"/>\n      </g>\n     </g>\n     <g id=\"text_1\">\n      <!-- 0 -->\n      <g transform=\"translate(26.921875 160.398438) scale(0.1 -0.1)\">\n       <defs>\n        <path id=\"DejaVuSans-30\" d=\"M 2034 4250 \nQ 1547 4250 1301 3770 \nQ 1056 3291 1056 2328 \nQ 1056 1369 1301 889 \nQ 1547 409 2034 409 \nQ 2525 409 2770 889 \nQ 3016 1369 3016 2328 \nQ 3016 3291 2770 3770 \nQ 2525 4250 2034 4250 \nz\nM 2034 4750 \nQ 2819 4750 3233 4129 \nQ 3647 3509 3647 2328 \nQ 3647 1150 3233 529 \nQ 2819 -91 2034 -91 \nQ 1250 -91 836 529 \nQ 422 1150 422 2328 \nQ 422 3509 836 4129 \nQ 1250 4750 2034 4750 \nz\n\" transform=\"scale(0.015625)\"/>\n       </defs>\n       <use xlink:href=\"#DejaVuSans-30\"/>\n      </g>\n     </g>\n    </g>\n    <g id=\"xtick_2\">\n     <g id=\"line2d_2\">\n      <g>\n       <use xlink:href=\"#mc9dff14232\" x=\"69.163125\" y=\"145.8\" style=\"stroke: #000000; stroke-width: 0.8\"/>\n      </g>\n     </g>\n     <g id=\"text_2\">\n      <!-- 2 -->\n      <g transform=\"translate(65.981875 160.398438) scale(0.1 -0.1)\">\n       <defs>\n        <path id=\"DejaVuSans-32\" d=\"M 1228 531 \nL 3431 531 \nL 3431 0 \nL 469 0 \nL 469 531 \nQ 828 903 1448 1529 \nQ 2069 2156 2228 2338 \nQ 2531 2678 2651 2914 \nQ 2772 3150 2772 3378 \nQ 2772 3750 2511 3984 \nQ 2250 4219 1831 4219 \nQ 1534 4219 1204 4116 \nQ 875 4013 500 3803 \nL 500 4441 \nQ 881 4594 1212 4672 \nQ 1544 4750 1819 4750 \nQ 2544 4750 2975 4387 \nQ 3406 4025 3406 3419 \nQ 3406 3131 3298 2873 \nQ 3191 2616 2906 2266 \nQ 2828 2175 2409 1742 \nQ 1991 1309 1228 531 \nz\n\" transform=\"scale(0.015625)\"/>\n       </defs>\n       <use xlink:href=\"#DejaVuSans-32\"/>\n      </g>\n     </g>\n    </g>\n    <g id=\"xtick_3\">\n     <g id=\"line2d_3\">\n      <g>\n       <use xlink:href=\"#mc9dff14232\" x=\"108.223125\" y=\"145.8\" style=\"stroke: #000000; stroke-width: 0.8\"/>\n      </g>\n     </g>\n     <g id=\"text_3\">\n      <!-- 4 -->\n      <g transform=\"translate(105.041875 160.398438) scale(0.1 -0.1)\">\n       <defs>\n        <path id=\"DejaVuSans-34\" d=\"M 2419 4116 \nL 825 1625 \nL 2419 1625 \nL 2419 4116 \nz\nM 2253 4666 \nL 3047 4666 \nL 3047 1625 \nL 3713 1625 \nL 3713 1100 \nL 3047 1100 \nL 3047 0 \nL 2419 0 \nL 2419 1100 \nL 313 1100 \nL 313 1709 \nL 2253 4666 \nz\n\" transform=\"scale(0.015625)\"/>\n       </defs>\n       <use xlink:href=\"#DejaVuSans-34\"/>\n      </g>\n     </g>\n    </g>\n    <g id=\"xtick_4\">\n     <g id=\"line2d_4\">\n      <g>\n       <use xlink:href=\"#mc9dff14232\" x=\"147.283125\" y=\"145.8\" style=\"stroke: #000000; stroke-width: 0.8\"/>\n      </g>\n     </g>\n     <g id=\"text_4\">\n      <!-- 6 -->\n      <g transform=\"translate(144.101875 160.398438) scale(0.1 -0.1)\">\n       <defs>\n        <path id=\"DejaVuSans-36\" d=\"M 2113 2584 \nQ 1688 2584 1439 2293 \nQ 1191 2003 1191 1497 \nQ 1191 994 1439 701 \nQ 1688 409 2113 409 \nQ 2538 409 2786 701 \nQ 3034 994 3034 1497 \nQ 3034 2003 2786 2293 \nQ 2538 2584 2113 2584 \nz\nM 3366 4563 \nL 3366 3988 \nQ 3128 4100 2886 4159 \nQ 2644 4219 2406 4219 \nQ 1781 4219 1451 3797 \nQ 1122 3375 1075 2522 \nQ 1259 2794 1537 2939 \nQ 1816 3084 2150 3084 \nQ 2853 3084 3261 2657 \nQ 3669 2231 3669 1497 \nQ 3669 778 3244 343 \nQ 2819 -91 2113 -91 \nQ 1303 -91 875 529 \nQ 447 1150 447 2328 \nQ 447 3434 972 4092 \nQ 1497 4750 2381 4750 \nQ 2619 4750 2861 4703 \nQ 3103 4656 3366 4563 \nz\n\" transform=\"scale(0.015625)\"/>\n       </defs>\n       <use xlink:href=\"#DejaVuSans-36\"/>\n      </g>\n     </g>\n    </g>\n    <g id=\"xtick_5\">\n     <g id=\"line2d_5\">\n      <g>\n       <use xlink:href=\"#mc9dff14232\" x=\"186.343125\" y=\"145.8\" style=\"stroke: #000000; stroke-width: 0.8\"/>\n      </g>\n     </g>\n     <g id=\"text_5\">\n      <!-- 8 -->\n      <g transform=\"translate(183.161875 160.398438) scale(0.1 -0.1)\">\n       <defs>\n        <path id=\"DejaVuSans-38\" d=\"M 2034 2216 \nQ 1584 2216 1326 1975 \nQ 1069 1734 1069 1313 \nQ 1069 891 1326 650 \nQ 1584 409 2034 409 \nQ 2484 409 2743 651 \nQ 3003 894 3003 1313 \nQ 3003 1734 2745 1975 \nQ 2488 2216 2034 2216 \nz\nM 1403 2484 \nQ 997 2584 770 2862 \nQ 544 3141 544 3541 \nQ 544 4100 942 4425 \nQ 1341 4750 2034 4750 \nQ 2731 4750 3128 4425 \nQ 3525 4100 3525 3541 \nQ 3525 3141 3298 2862 \nQ 3072 2584 2669 2484 \nQ 3125 2378 3379 2068 \nQ 3634 1759 3634 1313 \nQ 3634 634 3220 271 \nQ 2806 -91 2034 -91 \nQ 1263 -91 848 271 \nQ 434 634 434 1313 \nQ 434 1759 690 2068 \nQ 947 2378 1403 2484 \nz\nM 1172 3481 \nQ 1172 3119 1398 2916 \nQ 1625 2713 2034 2713 \nQ 2441 2713 2670 2916 \nQ 2900 3119 2900 3481 \nQ 2900 3844 2670 4047 \nQ 2441 4250 2034 4250 \nQ 1625 4250 1398 4047 \nQ 1172 3844 1172 3481 \nz\n\" transform=\"scale(0.015625)\"/>\n       </defs>\n       <use xlink:href=\"#DejaVuSans-38\"/>\n      </g>\n     </g>\n    </g>\n    <g id=\"xtick_6\">\n     <g id=\"line2d_6\">\n      <g>\n       <use xlink:href=\"#mc9dff14232\" x=\"225.403125\" y=\"145.8\" style=\"stroke: #000000; stroke-width: 0.8\"/>\n      </g>\n     </g>\n     <g id=\"text_6\">\n      <!-- 10 -->\n      <g transform=\"translate(219.040625 160.398438) scale(0.1 -0.1)\">\n       <defs>\n        <path id=\"DejaVuSans-31\" d=\"M 794 531 \nL 1825 531 \nL 1825 4091 \nL 703 3866 \nL 703 4441 \nL 1819 4666 \nL 2450 4666 \nL 2450 531 \nL 3481 531 \nL 3481 0 \nL 794 0 \nL 794 531 \nz\n\" transform=\"scale(0.015625)\"/>\n       </defs>\n       <use xlink:href=\"#DejaVuSans-31\"/>\n       <use xlink:href=\"#DejaVuSans-30\" x=\"63.623047\"/>\n      </g>\n     </g>\n    </g>\n    <g id=\"text_7\">\n     <!-- epoch -->\n     <g transform=\"translate(112.525 174.076563) scale(0.1 -0.1)\">\n      <defs>\n       <path id=\"DejaVuSans-65\" d=\"M 3597 1894 \nL 3597 1613 \nL 953 1613 \nQ 991 1019 1311 708 \nQ 1631 397 2203 397 \nQ 2534 397 2845 478 \nQ 3156 559 3463 722 \nL 3463 178 \nQ 3153 47 2828 -22 \nQ 2503 -91 2169 -91 \nQ 1331 -91 842 396 \nQ 353 884 353 1716 \nQ 353 2575 817 3079 \nQ 1281 3584 2069 3584 \nQ 2775 3584 3186 3129 \nQ 3597 2675 3597 1894 \nz\nM 3022 2063 \nQ 3016 2534 2758 2815 \nQ 2500 3097 2075 3097 \nQ 1594 3097 1305 2825 \nQ 1016 2553 972 2059 \nL 3022 2063 \nz\n\" transform=\"scale(0.015625)\"/>\n       <path id=\"DejaVuSans-70\" d=\"M 1159 525 \nL 1159 -1331 \nL 581 -1331 \nL 581 3500 \nL 1159 3500 \nL 1159 2969 \nQ 1341 3281 1617 3432 \nQ 1894 3584 2278 3584 \nQ 2916 3584 3314 3078 \nQ 3713 2572 3713 1747 \nQ 3713 922 3314 415 \nQ 2916 -91 2278 -91 \nQ 1894 -91 1617 61 \nQ 1341 213 1159 525 \nz\nM 3116 1747 \nQ 3116 2381 2855 2742 \nQ 2594 3103 2138 3103 \nQ 1681 3103 1420 2742 \nQ 1159 2381 1159 1747 \nQ 1159 1113 1420 752 \nQ 1681 391 2138 391 \nQ 2594 391 2855 752 \nQ 3116 1113 3116 1747 \nz\n\" transform=\"scale(0.015625)\"/>\n       <path id=\"DejaVuSans-6f\" d=\"M 1959 3097 \nQ 1497 3097 1228 2736 \nQ 959 2375 959 1747 \nQ 959 1119 1226 758 \nQ 1494 397 1959 397 \nQ 2419 397 2687 759 \nQ 2956 1122 2956 1747 \nQ 2956 2369 2687 2733 \nQ 2419 3097 1959 3097 \nz\nM 1959 3584 \nQ 2709 3584 3137 3096 \nQ 3566 2609 3566 1747 \nQ 3566 888 3137 398 \nQ 2709 -91 1959 -91 \nQ 1206 -91 779 398 \nQ 353 888 353 1747 \nQ 353 2609 779 3096 \nQ 1206 3584 1959 3584 \nz\n\" transform=\"scale(0.015625)\"/>\n       <path id=\"DejaVuSans-63\" d=\"M 3122 3366 \nL 3122 2828 \nQ 2878 2963 2633 3030 \nQ 2388 3097 2138 3097 \nQ 1578 3097 1268 2742 \nQ 959 2388 959 1747 \nQ 959 1106 1268 751 \nQ 1578 397 2138 397 \nQ 2388 397 2633 464 \nQ 2878 531 3122 666 \nL 3122 134 \nQ 2881 22 2623 -34 \nQ 2366 -91 2075 -91 \nQ 1284 -91 818 406 \nQ 353 903 353 1747 \nQ 353 2603 823 3093 \nQ 1294 3584 2113 3584 \nQ 2378 3584 2631 3529 \nQ 2884 3475 3122 3366 \nz\n\" transform=\"scale(0.015625)\"/>\n       <path id=\"DejaVuSans-68\" d=\"M 3513 2113 \nL 3513 0 \nL 2938 0 \nL 2938 2094 \nQ 2938 2591 2744 2837 \nQ 2550 3084 2163 3084 \nQ 1697 3084 1428 2787 \nQ 1159 2491 1159 1978 \nL 1159 0 \nL 581 0 \nL 581 4863 \nL 1159 4863 \nL 1159 2956 \nQ 1366 3272 1645 3428 \nQ 1925 3584 2291 3584 \nQ 2894 3584 3203 3211 \nQ 3513 2838 3513 2113 \nz\n\" transform=\"scale(0.015625)\"/>\n      </defs>\n      <use xlink:href=\"#DejaVuSans-65\"/>\n      <use xlink:href=\"#DejaVuSans-70\" x=\"61.523438\"/>\n      <use xlink:href=\"#DejaVuSans-6f\" x=\"125\"/>\n      <use xlink:href=\"#DejaVuSans-63\" x=\"186.181641\"/>\n      <use xlink:href=\"#DejaVuSans-68\" x=\"241.162109\"/>\n     </g>\n    </g>\n   </g>\n   <g id=\"matplotlib.axis_2\">\n    <g id=\"ytick_1\">\n     <g id=\"line2d_7\">\n      <defs>\n       <path id=\"mc55d15241f\" d=\"M 0 0 \nL -3.5 0 \n\" style=\"stroke: #000000; stroke-width: 0.8\"/>\n      </defs>\n      <g>\n       <use xlink:href=\"#mc55d15241f\" x=\"30.103125\" y=\"119.887959\" style=\"stroke: #000000; stroke-width: 0.8\"/>\n      </g>\n     </g>\n     <g id=\"text_8\">\n      <!-- 0.4 -->\n      <g transform=\"translate(7.2 123.687177) scale(0.1 -0.1)\">\n       <defs>\n        <path id=\"DejaVuSans-2e\" d=\"M 684 794 \nL 1344 794 \nL 1344 0 \nL 684 0 \nL 684 794 \nz\n\" transform=\"scale(0.015625)\"/>\n       </defs>\n       <use xlink:href=\"#DejaVuSans-30\"/>\n       <use xlink:href=\"#DejaVuSans-2e\" x=\"63.623047\"/>\n       <use xlink:href=\"#DejaVuSans-34\" x=\"95.410156\"/>\n      </g>\n     </g>\n    </g>\n    <g id=\"ytick_2\">\n     <g id=\"line2d_8\">\n      <g>\n       <use xlink:href=\"#mc55d15241f\" x=\"30.103125\" y=\"80.513486\" style=\"stroke: #000000; stroke-width: 0.8\"/>\n      </g>\n     </g>\n     <g id=\"text_9\">\n      <!-- 0.6 -->\n      <g transform=\"translate(7.2 84.312704) scale(0.1 -0.1)\">\n       <use xlink:href=\"#DejaVuSans-30\"/>\n       <use xlink:href=\"#DejaVuSans-2e\" x=\"63.623047\"/>\n       <use xlink:href=\"#DejaVuSans-36\" x=\"95.410156\"/>\n      </g>\n     </g>\n    </g>\n    <g id=\"ytick_3\">\n     <g id=\"line2d_9\">\n      <g>\n       <use xlink:href=\"#mc55d15241f\" x=\"30.103125\" y=\"41.139012\" style=\"stroke: #000000; stroke-width: 0.8\"/>\n      </g>\n     </g>\n     <g id=\"text_10\">\n      <!-- 0.8 -->\n      <g transform=\"translate(7.2 44.938231) scale(0.1 -0.1)\">\n       <use xlink:href=\"#DejaVuSans-30\"/>\n       <use xlink:href=\"#DejaVuSans-2e\" x=\"63.623047\"/>\n       <use xlink:href=\"#DejaVuSans-38\" x=\"95.410156\"/>\n      </g>\n     </g>\n    </g>\n   </g>\n   <g id=\"line2d_10\">\n    <path d=\"M 34.954394 13.5 \n\" clip-path=\"url(#p048391e7de)\" style=\"fill: none; stroke: #1f77b4; stroke-width: 1.5; stroke-linecap: square\"/>\n   </g>\n   <g id=\"line2d_11\">\n    <path d=\"M 34.954394 13.5 \nL 44.698573 79.138111 \n\" clip-path=\"url(#p048391e7de)\" style=\"fill: none; stroke: #1f77b4; stroke-width: 1.5; stroke-linecap: square\"/>\n   </g>\n   <g id=\"line2d_12\">\n    <path d=\"M 34.954394 13.5 \nL 44.698573 79.138111 \n\" clip-path=\"url(#p048391e7de)\" style=\"fill: none; stroke: #1f77b4; stroke-width: 1.5; stroke-linecap: square\"/>\n   </g>\n   <g id=\"line2d_13\">\n    <path d=\"M 49.633125 70.05017 \n\" clip-path=\"url(#p048391e7de)\" style=\"fill: none; stroke-dasharray: 5.55,2.4; stroke-dashoffset: 0; stroke: #ff7f0e; stroke-width: 1.5\"/>\n   </g>\n   <g id=\"line2d_14\"/>\n   <g id=\"line2d_15\">\n    <path d=\"M 34.954394 13.5 \nL 44.698573 79.138111 \n\" clip-path=\"url(#p048391e7de)\" style=\"fill: none; stroke: #1f77b4; stroke-width: 1.5; stroke-linecap: square\"/>\n   </g>\n   <g id=\"line2d_16\">\n    <path d=\"M 49.633125 70.05017 \n\" clip-path=\"url(#p048391e7de)\" style=\"fill: none; stroke-dasharray: 5.55,2.4; stroke-dashoffset: 0; stroke: #ff7f0e; stroke-width: 1.5\"/>\n   </g>\n   <g id=\"line2d_17\">\n    <path d=\"M 49.633125 46.971979 \n\" clip-path=\"url(#p048391e7de)\" style=\"fill: none; stroke-dasharray: 9.6,2.4,1.5,2.4; stroke-dashoffset: 0; stroke: #2ca02c; stroke-width: 1.5\"/>\n   </g>\n   <g id=\"line2d_18\">\n    <path d=\"M 34.954394 13.5 \nL 44.698573 79.138111 \nL 54.442752 95.293703 \n\" clip-path=\"url(#p048391e7de)\" style=\"fill: none; stroke: #1f77b4; stroke-width: 1.5; stroke-linecap: square\"/>\n   </g>\n   <g id=\"line2d_19\">\n    <path d=\"M 49.633125 70.05017 \n\" clip-path=\"url(#p048391e7de)\" style=\"fill: none; stroke-dasharray: 5.55,2.4; stroke-dashoffset: 0; stroke: #ff7f0e; stroke-width: 1.5\"/>\n   </g>\n   <g id=\"line2d_20\">\n    <path d=\"M 49.633125 46.971979 \n\" clip-path=\"url(#p048391e7de)\" style=\"fill: none; stroke-dasharray: 9.6,2.4,1.5,2.4; stroke-dashoffset: 0; stroke: #2ca02c; stroke-width: 1.5\"/>\n   </g>\n   <g id=\"line2d_21\">\n    <path d=\"M 34.954394 13.5 \nL 44.698573 79.138111 \nL 54.442752 95.293703 \nL 64.186931 102.524675 \n\" clip-path=\"url(#p048391e7de)\" style=\"fill: none; stroke: #1f77b4; stroke-width: 1.5; stroke-linecap: square\"/>\n   </g>\n   <g id=\"line2d_22\">\n    <path d=\"M 49.633125 70.05017 \n\" clip-path=\"url(#p048391e7de)\" style=\"fill: none; stroke-dasharray: 5.55,2.4; stroke-dashoffset: 0; stroke: #ff7f0e; stroke-width: 1.5\"/>\n   </g>\n   <g id=\"line2d_23\">\n    <path d=\"M 49.633125 46.971979 \n\" clip-path=\"url(#p048391e7de)\" style=\"fill: none; stroke-dasharray: 9.6,2.4,1.5,2.4; stroke-dashoffset: 0; stroke: #2ca02c; stroke-width: 1.5\"/>\n   </g>\n   <g id=\"line2d_24\">\n    <path d=\"M 34.954394 13.5 \nL 44.698573 79.138111 \nL 54.442752 95.293703 \nL 64.186931 102.524675 \n\" clip-path=\"url(#p048391e7de)\" style=\"fill: none; stroke: #1f77b4; stroke-width: 1.5; stroke-linecap: square\"/>\n   </g>\n   <g id=\"line2d_25\">\n    <path d=\"M 49.633125 70.05017 \nL 69.163125 96.515946 \n\" clip-path=\"url(#p048391e7de)\" style=\"fill: none; stroke-dasharray: 5.55,2.4; stroke-dashoffset: 0; stroke: #ff7f0e; stroke-width: 1.5\"/>\n   </g>\n   <g id=\"line2d_26\">\n    <path d=\"M 49.633125 46.971979 \n\" clip-path=\"url(#p048391e7de)\" style=\"fill: none; stroke-dasharray: 9.6,2.4,1.5,2.4; stroke-dashoffset: 0; stroke: #2ca02c; stroke-width: 1.5\"/>\n   </g>\n   <g id=\"line2d_27\">\n    <path d=\"M 34.954394 13.5 \nL 44.698573 79.138111 \nL 54.442752 95.293703 \nL 64.186931 102.524675 \n\" clip-path=\"url(#p048391e7de)\" style=\"fill: none; stroke: #1f77b4; stroke-width: 1.5; stroke-linecap: square\"/>\n   </g>\n   <g id=\"line2d_28\">\n    <path d=\"M 49.633125 70.05017 \nL 69.163125 96.515946 \n\" clip-path=\"url(#p048391e7de)\" style=\"fill: none; stroke-dasharray: 5.55,2.4; stroke-dashoffset: 0; stroke: #ff7f0e; stroke-width: 1.5\"/>\n   </g>\n   <g id=\"line2d_29\">\n    <path d=\"M 49.633125 46.971979 \nL 69.163125 36.73119 \n\" clip-path=\"url(#p048391e7de)\" style=\"fill: none; stroke-dasharray: 9.6,2.4,1.5,2.4; stroke-dashoffset: 0; stroke: #2ca02c; stroke-width: 1.5\"/>\n   </g>\n   <g id=\"line2d_30\">\n    <path d=\"M 34.954394 13.5 \nL 44.698573 79.138111 \nL 54.442752 95.293703 \nL 64.186931 102.524675 \nL 73.93111 108.649716 \n\" clip-path=\"url(#p048391e7de)\" style=\"fill: none; stroke: #1f77b4; stroke-width: 1.5; stroke-linecap: square\"/>\n   </g>\n   <g id=\"line2d_31\">\n    <path d=\"M 49.633125 70.05017 \nL 69.163125 96.515946 \n\" clip-path=\"url(#p048391e7de)\" style=\"fill: none; stroke-dasharray: 5.55,2.4; stroke-dashoffset: 0; stroke: #ff7f0e; stroke-width: 1.5\"/>\n   </g>\n   <g id=\"line2d_32\">\n    <path d=\"M 49.633125 46.971979 \nL 69.163125 36.73119 \n\" clip-path=\"url(#p048391e7de)\" style=\"fill: none; stroke-dasharray: 9.6,2.4,1.5,2.4; stroke-dashoffset: 0; stroke: #2ca02c; stroke-width: 1.5\"/>\n   </g>\n   <g id=\"line2d_33\">\n    <path d=\"M 34.954394 13.5 \nL 44.698573 79.138111 \nL 54.442752 95.293703 \nL 64.186931 102.524675 \nL 73.93111 108.649716 \nL 83.675289 113.504786 \n\" clip-path=\"url(#p048391e7de)\" style=\"fill: none; stroke: #1f77b4; stroke-width: 1.5; stroke-linecap: square\"/>\n   </g>\n   <g id=\"line2d_34\">\n    <path d=\"M 49.633125 70.05017 \nL 69.163125 96.515946 \n\" clip-path=\"url(#p048391e7de)\" style=\"fill: none; stroke-dasharray: 5.55,2.4; stroke-dashoffset: 0; stroke: #ff7f0e; stroke-width: 1.5\"/>\n   </g>\n   <g id=\"line2d_35\">\n    <path d=\"M 49.633125 46.971979 \nL 69.163125 36.73119 \n\" clip-path=\"url(#p048391e7de)\" style=\"fill: none; stroke-dasharray: 9.6,2.4,1.5,2.4; stroke-dashoffset: 0; stroke: #2ca02c; stroke-width: 1.5\"/>\n   </g>\n   <g id=\"line2d_36\">\n    <path d=\"M 34.954394 13.5 \nL 44.698573 79.138111 \nL 54.442752 95.293703 \nL 64.186931 102.524675 \nL 73.93111 108.649716 \nL 83.675289 113.504786 \n\" clip-path=\"url(#p048391e7de)\" style=\"fill: none; stroke: #1f77b4; stroke-width: 1.5; stroke-linecap: square\"/>\n   </g>\n   <g id=\"line2d_37\">\n    <path d=\"M 49.633125 70.05017 \nL 69.163125 96.515946 \nL 88.693125 110.378133 \n\" clip-path=\"url(#p048391e7de)\" style=\"fill: none; stroke-dasharray: 5.55,2.4; stroke-dashoffset: 0; stroke: #ff7f0e; stroke-width: 1.5\"/>\n   </g>\n   <g id=\"line2d_38\">\n    <path d=\"M 49.633125 46.971979 \nL 69.163125 36.73119 \n\" clip-path=\"url(#p048391e7de)\" style=\"fill: none; stroke-dasharray: 9.6,2.4,1.5,2.4; stroke-dashoffset: 0; stroke: #2ca02c; stroke-width: 1.5\"/>\n   </g>\n   <g id=\"line2d_39\">\n    <path d=\"M 34.954394 13.5 \nL 44.698573 79.138111 \nL 54.442752 95.293703 \nL 64.186931 102.524675 \nL 73.93111 108.649716 \nL 83.675289 113.504786 \n\" clip-path=\"url(#p048391e7de)\" style=\"fill: none; stroke: #1f77b4; stroke-width: 1.5; stroke-linecap: square\"/>\n   </g>\n   <g id=\"line2d_40\">\n    <path d=\"M 49.633125 70.05017 \nL 69.163125 96.515946 \nL 88.693125 110.378133 \n\" clip-path=\"url(#p048391e7de)\" style=\"fill: none; stroke-dasharray: 5.55,2.4; stroke-dashoffset: 0; stroke: #ff7f0e; stroke-width: 1.5\"/>\n   </g>\n   <g id=\"line2d_41\">\n    <path d=\"M 49.633125 46.971979 \nL 69.163125 36.73119 \nL 88.693125 33.129391 \n\" clip-path=\"url(#p048391e7de)\" style=\"fill: none; stroke-dasharray: 9.6,2.4,1.5,2.4; stroke-dashoffset: 0; stroke: #2ca02c; stroke-width: 1.5\"/>\n   </g>\n   <g id=\"line2d_42\">\n    <path d=\"M 34.954394 13.5 \nL 44.698573 79.138111 \nL 54.442752 95.293703 \nL 64.186931 102.524675 \nL 73.93111 108.649716 \nL 83.675289 113.504786 \nL 93.419468 117.745607 \n\" clip-path=\"url(#p048391e7de)\" style=\"fill: none; stroke: #1f77b4; stroke-width: 1.5; stroke-linecap: square\"/>\n   </g>\n   <g id=\"line2d_43\">\n    <path d=\"M 49.633125 70.05017 \nL 69.163125 96.515946 \nL 88.693125 110.378133 \n\" clip-path=\"url(#p048391e7de)\" style=\"fill: none; stroke-dasharray: 5.55,2.4; stroke-dashoffset: 0; stroke: #ff7f0e; stroke-width: 1.5\"/>\n   </g>\n   <g id=\"line2d_44\">\n    <path d=\"M 49.633125 46.971979 \nL 69.163125 36.73119 \nL 88.693125 33.129391 \n\" clip-path=\"url(#p048391e7de)\" style=\"fill: none; stroke-dasharray: 9.6,2.4,1.5,2.4; stroke-dashoffset: 0; stroke: #2ca02c; stroke-width: 1.5\"/>\n   </g>\n   <g id=\"line2d_45\">\n    <path d=\"M 34.954394 13.5 \nL 44.698573 79.138111 \nL 54.442752 95.293703 \nL 64.186931 102.524675 \nL 73.93111 108.649716 \nL 83.675289 113.504786 \nL 93.419468 117.745607 \nL 103.163647 119.865433 \n\" clip-path=\"url(#p048391e7de)\" style=\"fill: none; stroke: #1f77b4; stroke-width: 1.5; stroke-linecap: square\"/>\n   </g>\n   <g id=\"line2d_46\">\n    <path d=\"M 49.633125 70.05017 \nL 69.163125 96.515946 \nL 88.693125 110.378133 \n\" clip-path=\"url(#p048391e7de)\" style=\"fill: none; stroke-dasharray: 5.55,2.4; stroke-dashoffset: 0; stroke: #ff7f0e; stroke-width: 1.5\"/>\n   </g>\n   <g id=\"line2d_47\">\n    <path d=\"M 49.633125 46.971979 \nL 69.163125 36.73119 \nL 88.693125 33.129391 \n\" clip-path=\"url(#p048391e7de)\" style=\"fill: none; stroke-dasharray: 9.6,2.4,1.5,2.4; stroke-dashoffset: 0; stroke: #2ca02c; stroke-width: 1.5\"/>\n   </g>\n   <g id=\"line2d_48\">\n    <path d=\"M 34.954394 13.5 \nL 44.698573 79.138111 \nL 54.442752 95.293703 \nL 64.186931 102.524675 \nL 73.93111 108.649716 \nL 83.675289 113.504786 \nL 93.419468 117.745607 \nL 103.163647 119.865433 \n\" clip-path=\"url(#p048391e7de)\" style=\"fill: none; stroke: #1f77b4; stroke-width: 1.5; stroke-linecap: square\"/>\n   </g>\n   <g id=\"line2d_49\">\n    <path d=\"M 49.633125 70.05017 \nL 69.163125 96.515946 \nL 88.693125 110.378133 \nL 108.223125 108.450028 \n\" clip-path=\"url(#p048391e7de)\" style=\"fill: none; stroke-dasharray: 5.55,2.4; stroke-dashoffset: 0; stroke: #ff7f0e; stroke-width: 1.5\"/>\n   </g>\n   <g id=\"line2d_50\">\n    <path d=\"M 49.633125 46.971979 \nL 69.163125 36.73119 \nL 88.693125 33.129391 \n\" clip-path=\"url(#p048391e7de)\" style=\"fill: none; stroke-dasharray: 9.6,2.4,1.5,2.4; stroke-dashoffset: 0; stroke: #2ca02c; stroke-width: 1.5\"/>\n   </g>\n   <g id=\"line2d_51\">\n    <path d=\"M 34.954394 13.5 \nL 44.698573 79.138111 \nL 54.442752 95.293703 \nL 64.186931 102.524675 \nL 73.93111 108.649716 \nL 83.675289 113.504786 \nL 93.419468 117.745607 \nL 103.163647 119.865433 \n\" clip-path=\"url(#p048391e7de)\" style=\"fill: none; stroke: #1f77b4; stroke-width: 1.5; stroke-linecap: square\"/>\n   </g>\n   <g id=\"line2d_52\">\n    <path d=\"M 49.633125 70.05017 \nL 69.163125 96.515946 \nL 88.693125 110.378133 \nL 108.223125 108.450028 \n\" clip-path=\"url(#p048391e7de)\" style=\"fill: none; stroke-dasharray: 5.55,2.4; stroke-dashoffset: 0; stroke: #ff7f0e; stroke-width: 1.5\"/>\n   </g>\n   <g id=\"line2d_53\">\n    <path d=\"M 49.633125 46.971979 \nL 69.163125 36.73119 \nL 88.693125 33.129391 \nL 108.223125 33.849751 \n\" clip-path=\"url(#p048391e7de)\" style=\"fill: none; stroke-dasharray: 9.6,2.4,1.5,2.4; stroke-dashoffset: 0; stroke: #2ca02c; stroke-width: 1.5\"/>\n   </g>\n   <g id=\"line2d_54\">\n    <path d=\"M 34.954394 13.5 \nL 44.698573 79.138111 \nL 54.442752 95.293703 \nL 64.186931 102.524675 \nL 73.93111 108.649716 \nL 83.675289 113.504786 \nL 93.419468 117.745607 \nL 103.163647 119.865433 \nL 112.907826 122.795935 \n\" clip-path=\"url(#p048391e7de)\" style=\"fill: none; stroke: #1f77b4; stroke-width: 1.5; stroke-linecap: square\"/>\n   </g>\n   <g id=\"line2d_55\">\n    <path d=\"M 49.633125 70.05017 \nL 69.163125 96.515946 \nL 88.693125 110.378133 \nL 108.223125 108.450028 \n\" clip-path=\"url(#p048391e7de)\" style=\"fill: none; stroke-dasharray: 5.55,2.4; stroke-dashoffset: 0; stroke: #ff7f0e; stroke-width: 1.5\"/>\n   </g>\n   <g id=\"line2d_56\">\n    <path d=\"M 49.633125 46.971979 \nL 69.163125 36.73119 \nL 88.693125 33.129391 \nL 108.223125 33.849751 \n\" clip-path=\"url(#p048391e7de)\" style=\"fill: none; stroke-dasharray: 9.6,2.4,1.5,2.4; stroke-dashoffset: 0; stroke: #2ca02c; stroke-width: 1.5\"/>\n   </g>\n   <g id=\"line2d_57\">\n    <path d=\"M 34.954394 13.5 \nL 44.698573 79.138111 \nL 54.442752 95.293703 \nL 64.186931 102.524675 \nL 73.93111 108.649716 \nL 83.675289 113.504786 \nL 93.419468 117.745607 \nL 103.163647 119.865433 \nL 112.907826 122.795935 \nL 122.652006 125.5402 \n\" clip-path=\"url(#p048391e7de)\" style=\"fill: none; stroke: #1f77b4; stroke-width: 1.5; stroke-linecap: square\"/>\n   </g>\n   <g id=\"line2d_58\">\n    <path d=\"M 49.633125 70.05017 \nL 69.163125 96.515946 \nL 88.693125 110.378133 \nL 108.223125 108.450028 \n\" clip-path=\"url(#p048391e7de)\" style=\"fill: none; stroke-dasharray: 5.55,2.4; stroke-dashoffset: 0; stroke: #ff7f0e; stroke-width: 1.5\"/>\n   </g>\n   <g id=\"line2d_59\">\n    <path d=\"M 49.633125 46.971979 \nL 69.163125 36.73119 \nL 88.693125 33.129391 \nL 108.223125 33.849751 \n\" clip-path=\"url(#p048391e7de)\" style=\"fill: none; stroke-dasharray: 9.6,2.4,1.5,2.4; stroke-dashoffset: 0; stroke: #2ca02c; stroke-width: 1.5\"/>\n   </g>\n   <g id=\"line2d_60\">\n    <path d=\"M 34.954394 13.5 \nL 44.698573 79.138111 \nL 54.442752 95.293703 \nL 64.186931 102.524675 \nL 73.93111 108.649716 \nL 83.675289 113.504786 \nL 93.419468 117.745607 \nL 103.163647 119.865433 \nL 112.907826 122.795935 \nL 122.652006 125.5402 \n\" clip-path=\"url(#p048391e7de)\" style=\"fill: none; stroke: #1f77b4; stroke-width: 1.5; stroke-linecap: square\"/>\n   </g>\n   <g id=\"line2d_61\">\n    <path d=\"M 49.633125 70.05017 \nL 69.163125 96.515946 \nL 88.693125 110.378133 \nL 108.223125 108.450028 \nL 127.753125 108.418426 \n\" clip-path=\"url(#p048391e7de)\" style=\"fill: none; stroke-dasharray: 5.55,2.4; stroke-dashoffset: 0; stroke: #ff7f0e; stroke-width: 1.5\"/>\n   </g>\n   <g id=\"line2d_62\">\n    <path d=\"M 49.633125 46.971979 \nL 69.163125 36.73119 \nL 88.693125 33.129391 \nL 108.223125 33.849751 \n\" clip-path=\"url(#p048391e7de)\" style=\"fill: none; stroke-dasharray: 9.6,2.4,1.5,2.4; stroke-dashoffset: 0; stroke: #2ca02c; stroke-width: 1.5\"/>\n   </g>\n   <g id=\"line2d_63\">\n    <path d=\"M 34.954394 13.5 \nL 44.698573 79.138111 \nL 54.442752 95.293703 \nL 64.186931 102.524675 \nL 73.93111 108.649716 \nL 83.675289 113.504786 \nL 93.419468 117.745607 \nL 103.163647 119.865433 \nL 112.907826 122.795935 \nL 122.652006 125.5402 \n\" clip-path=\"url(#p048391e7de)\" style=\"fill: none; stroke: #1f77b4; stroke-width: 1.5; stroke-linecap: square\"/>\n   </g>\n   <g id=\"line2d_64\">\n    <path d=\"M 49.633125 70.05017 \nL 69.163125 96.515946 \nL 88.693125 110.378133 \nL 108.223125 108.450028 \nL 127.753125 108.418426 \n\" clip-path=\"url(#p048391e7de)\" style=\"fill: none; stroke-dasharray: 5.55,2.4; stroke-dashoffset: 0; stroke: #ff7f0e; stroke-width: 1.5\"/>\n   </g>\n   <g id=\"line2d_65\">\n    <path d=\"M 49.633125 46.971979 \nL 69.163125 36.73119 \nL 88.693125 33.129391 \nL 108.223125 33.849751 \nL 127.753125 33.830281 \n\" clip-path=\"url(#p048391e7de)\" style=\"fill: none; stroke-dasharray: 9.6,2.4,1.5,2.4; stroke-dashoffset: 0; stroke: #2ca02c; stroke-width: 1.5\"/>\n   </g>\n   <g id=\"line2d_66\">\n    <path d=\"M 34.954394 13.5 \nL 44.698573 79.138111 \nL 54.442752 95.293703 \nL 64.186931 102.524675 \nL 73.93111 108.649716 \nL 83.675289 113.504786 \nL 93.419468 117.745607 \nL 103.163647 119.865433 \nL 112.907826 122.795935 \nL 122.652006 125.5402 \nL 132.396185 128.034433 \n\" clip-path=\"url(#p048391e7de)\" style=\"fill: none; stroke: #1f77b4; stroke-width: 1.5; stroke-linecap: square\"/>\n   </g>\n   <g id=\"line2d_67\">\n    <path d=\"M 49.633125 70.05017 \nL 69.163125 96.515946 \nL 88.693125 110.378133 \nL 108.223125 108.450028 \nL 127.753125 108.418426 \n\" clip-path=\"url(#p048391e7de)\" style=\"fill: none; stroke-dasharray: 5.55,2.4; stroke-dashoffset: 0; stroke: #ff7f0e; stroke-width: 1.5\"/>\n   </g>\n   <g id=\"line2d_68\">\n    <path d=\"M 49.633125 46.971979 \nL 69.163125 36.73119 \nL 88.693125 33.129391 \nL 108.223125 33.849751 \nL 127.753125 33.830281 \n\" clip-path=\"url(#p048391e7de)\" style=\"fill: none; stroke-dasharray: 9.6,2.4,1.5,2.4; stroke-dashoffset: 0; stroke: #2ca02c; stroke-width: 1.5\"/>\n   </g>\n   <g id=\"line2d_69\">\n    <path d=\"M 34.954394 13.5 \nL 44.698573 79.138111 \nL 54.442752 95.293703 \nL 64.186931 102.524675 \nL 73.93111 108.649716 \nL 83.675289 113.504786 \nL 93.419468 117.745607 \nL 103.163647 119.865433 \nL 112.907826 122.795935 \nL 122.652006 125.5402 \nL 132.396185 128.034433 \nL 142.140364 128.681155 \n\" clip-path=\"url(#p048391e7de)\" style=\"fill: none; stroke: #1f77b4; stroke-width: 1.5; stroke-linecap: square\"/>\n   </g>\n   <g id=\"line2d_70\">\n    <path d=\"M 49.633125 70.05017 \nL 69.163125 96.515946 \nL 88.693125 110.378133 \nL 108.223125 108.450028 \nL 127.753125 108.418426 \n\" clip-path=\"url(#p048391e7de)\" style=\"fill: none; stroke-dasharray: 5.55,2.4; stroke-dashoffset: 0; stroke: #ff7f0e; stroke-width: 1.5\"/>\n   </g>\n   <g id=\"line2d_71\">\n    <path d=\"M 49.633125 46.971979 \nL 69.163125 36.73119 \nL 88.693125 33.129391 \nL 108.223125 33.849751 \nL 127.753125 33.830281 \n\" clip-path=\"url(#p048391e7de)\" style=\"fill: none; stroke-dasharray: 9.6,2.4,1.5,2.4; stroke-dashoffset: 0; stroke: #2ca02c; stroke-width: 1.5\"/>\n   </g>\n   <g id=\"line2d_72\">\n    <path d=\"M 34.954394 13.5 \nL 44.698573 79.138111 \nL 54.442752 95.293703 \nL 64.186931 102.524675 \nL 73.93111 108.649716 \nL 83.675289 113.504786 \nL 93.419468 117.745607 \nL 103.163647 119.865433 \nL 112.907826 122.795935 \nL 122.652006 125.5402 \nL 132.396185 128.034433 \nL 142.140364 128.681155 \n\" clip-path=\"url(#p048391e7de)\" style=\"fill: none; stroke: #1f77b4; stroke-width: 1.5; stroke-linecap: square\"/>\n   </g>\n   <g id=\"line2d_73\">\n    <path d=\"M 49.633125 70.05017 \nL 69.163125 96.515946 \nL 88.693125 110.378133 \nL 108.223125 108.450028 \nL 127.753125 108.418426 \nL 147.283125 111.587216 \n\" clip-path=\"url(#p048391e7de)\" style=\"fill: none; stroke-dasharray: 5.55,2.4; stroke-dashoffset: 0; stroke: #ff7f0e; stroke-width: 1.5\"/>\n   </g>\n   <g id=\"line2d_74\">\n    <path d=\"M 49.633125 46.971979 \nL 69.163125 36.73119 \nL 88.693125 33.129391 \nL 108.223125 33.849751 \nL 127.753125 33.830281 \n\" clip-path=\"url(#p048391e7de)\" style=\"fill: none; stroke-dasharray: 9.6,2.4,1.5,2.4; stroke-dashoffset: 0; stroke: #2ca02c; stroke-width: 1.5\"/>\n   </g>\n   <g id=\"line2d_75\">\n    <path d=\"M 34.954394 13.5 \nL 44.698573 79.138111 \nL 54.442752 95.293703 \nL 64.186931 102.524675 \nL 73.93111 108.649716 \nL 83.675289 113.504786 \nL 93.419468 117.745607 \nL 103.163647 119.865433 \nL 112.907826 122.795935 \nL 122.652006 125.5402 \nL 132.396185 128.034433 \nL 142.140364 128.681155 \n\" clip-path=\"url(#p048391e7de)\" style=\"fill: none; stroke: #1f77b4; stroke-width: 1.5; stroke-linecap: square\"/>\n   </g>\n   <g id=\"line2d_76\">\n    <path d=\"M 49.633125 70.05017 \nL 69.163125 96.515946 \nL 88.693125 110.378133 \nL 108.223125 108.450028 \nL 127.753125 108.418426 \nL 147.283125 111.587216 \n\" clip-path=\"url(#p048391e7de)\" style=\"fill: none; stroke-dasharray: 5.55,2.4; stroke-dashoffset: 0; stroke: #ff7f0e; stroke-width: 1.5\"/>\n   </g>\n   <g id=\"line2d_77\">\n    <path d=\"M 49.633125 46.971979 \nL 69.163125 36.73119 \nL 88.693125 33.129391 \nL 108.223125 33.849751 \nL 127.753125 33.830281 \nL 147.283125 35.154186 \n\" clip-path=\"url(#p048391e7de)\" style=\"fill: none; stroke-dasharray: 9.6,2.4,1.5,2.4; stroke-dashoffset: 0; stroke: #2ca02c; stroke-width: 1.5\"/>\n   </g>\n   <g id=\"line2d_78\">\n    <path d=\"M 34.954394 13.5 \nL 44.698573 79.138111 \nL 54.442752 95.293703 \nL 64.186931 102.524675 \nL 73.93111 108.649716 \nL 83.675289 113.504786 \nL 93.419468 117.745607 \nL 103.163647 119.865433 \nL 112.907826 122.795935 \nL 122.652006 125.5402 \nL 132.396185 128.034433 \nL 142.140364 128.681155 \nL 151.884543 130.418677 \n\" clip-path=\"url(#p048391e7de)\" style=\"fill: none; stroke: #1f77b4; stroke-width: 1.5; stroke-linecap: square\"/>\n   </g>\n   <g id=\"line2d_79\">\n    <path d=\"M 49.633125 70.05017 \nL 69.163125 96.515946 \nL 88.693125 110.378133 \nL 108.223125 108.450028 \nL 127.753125 108.418426 \nL 147.283125 111.587216 \n\" clip-path=\"url(#p048391e7de)\" style=\"fill: none; stroke-dasharray: 5.55,2.4; stroke-dashoffset: 0; stroke: #ff7f0e; stroke-width: 1.5\"/>\n   </g>\n   <g id=\"line2d_80\">\n    <path d=\"M 49.633125 46.971979 \nL 69.163125 36.73119 \nL 88.693125 33.129391 \nL 108.223125 33.849751 \nL 127.753125 33.830281 \nL 147.283125 35.154186 \n\" clip-path=\"url(#p048391e7de)\" style=\"fill: none; stroke-dasharray: 9.6,2.4,1.5,2.4; stroke-dashoffset: 0; stroke: #2ca02c; stroke-width: 1.5\"/>\n   </g>\n   <g id=\"line2d_81\">\n    <path d=\"M 34.954394 13.5 \nL 44.698573 79.138111 \nL 54.442752 95.293703 \nL 64.186931 102.524675 \nL 73.93111 108.649716 \nL 83.675289 113.504786 \nL 93.419468 117.745607 \nL 103.163647 119.865433 \nL 112.907826 122.795935 \nL 122.652006 125.5402 \nL 132.396185 128.034433 \nL 142.140364 128.681155 \nL 151.884543 130.418677 \nL 161.628722 132.647745 \n\" clip-path=\"url(#p048391e7de)\" style=\"fill: none; stroke: #1f77b4; stroke-width: 1.5; stroke-linecap: square\"/>\n   </g>\n   <g id=\"line2d_82\">\n    <path d=\"M 49.633125 70.05017 \nL 69.163125 96.515946 \nL 88.693125 110.378133 \nL 108.223125 108.450028 \nL 127.753125 108.418426 \nL 147.283125 111.587216 \n\" clip-path=\"url(#p048391e7de)\" style=\"fill: none; stroke-dasharray: 5.55,2.4; stroke-dashoffset: 0; stroke: #ff7f0e; stroke-width: 1.5\"/>\n   </g>\n   <g id=\"line2d_83\">\n    <path d=\"M 49.633125 46.971979 \nL 69.163125 36.73119 \nL 88.693125 33.129391 \nL 108.223125 33.849751 \nL 127.753125 33.830281 \nL 147.283125 35.154186 \n\" clip-path=\"url(#p048391e7de)\" style=\"fill: none; stroke-dasharray: 9.6,2.4,1.5,2.4; stroke-dashoffset: 0; stroke: #2ca02c; stroke-width: 1.5\"/>\n   </g>\n   <g id=\"line2d_84\">\n    <path d=\"M 34.954394 13.5 \nL 44.698573 79.138111 \nL 54.442752 95.293703 \nL 64.186931 102.524675 \nL 73.93111 108.649716 \nL 83.675289 113.504786 \nL 93.419468 117.745607 \nL 103.163647 119.865433 \nL 112.907826 122.795935 \nL 122.652006 125.5402 \nL 132.396185 128.034433 \nL 142.140364 128.681155 \nL 151.884543 130.418677 \nL 161.628722 132.647745 \n\" clip-path=\"url(#p048391e7de)\" style=\"fill: none; stroke: #1f77b4; stroke-width: 1.5; stroke-linecap: square\"/>\n   </g>\n   <g id=\"line2d_85\">\n    <path d=\"M 49.633125 70.05017 \nL 69.163125 96.515946 \nL 88.693125 110.378133 \nL 108.223125 108.450028 \nL 127.753125 108.418426 \nL 147.283125 111.587216 \nL 166.813125 98.695809 \n\" clip-path=\"url(#p048391e7de)\" style=\"fill: none; stroke-dasharray: 5.55,2.4; stroke-dashoffset: 0; stroke: #ff7f0e; stroke-width: 1.5\"/>\n   </g>\n   <g id=\"line2d_86\">\n    <path d=\"M 49.633125 46.971979 \nL 69.163125 36.73119 \nL 88.693125 33.129391 \nL 108.223125 33.849751 \nL 127.753125 33.830281 \nL 147.283125 35.154186 \n\" clip-path=\"url(#p048391e7de)\" style=\"fill: none; stroke-dasharray: 9.6,2.4,1.5,2.4; stroke-dashoffset: 0; stroke: #2ca02c; stroke-width: 1.5\"/>\n   </g>\n   <g id=\"line2d_87\">\n    <path d=\"M 34.954394 13.5 \nL 44.698573 79.138111 \nL 54.442752 95.293703 \nL 64.186931 102.524675 \nL 73.93111 108.649716 \nL 83.675289 113.504786 \nL 93.419468 117.745607 \nL 103.163647 119.865433 \nL 112.907826 122.795935 \nL 122.652006 125.5402 \nL 132.396185 128.034433 \nL 142.140364 128.681155 \nL 151.884543 130.418677 \nL 161.628722 132.647745 \n\" clip-path=\"url(#p048391e7de)\" style=\"fill: none; stroke: #1f77b4; stroke-width: 1.5; stroke-linecap: square\"/>\n   </g>\n   <g id=\"line2d_88\">\n    <path d=\"M 49.633125 70.05017 \nL 69.163125 96.515946 \nL 88.693125 110.378133 \nL 108.223125 108.450028 \nL 127.753125 108.418426 \nL 147.283125 111.587216 \nL 166.813125 98.695809 \n\" clip-path=\"url(#p048391e7de)\" style=\"fill: none; stroke-dasharray: 5.55,2.4; stroke-dashoffset: 0; stroke: #ff7f0e; stroke-width: 1.5\"/>\n   </g>\n   <g id=\"line2d_89\">\n    <path d=\"M 49.633125 46.971979 \nL 69.163125 36.73119 \nL 88.693125 33.129391 \nL 108.223125 33.849751 \nL 127.753125 33.830281 \nL 147.283125 35.154186 \nL 166.813125 40.936533 \n\" clip-path=\"url(#p048391e7de)\" style=\"fill: none; stroke-dasharray: 9.6,2.4,1.5,2.4; stroke-dashoffset: 0; stroke: #2ca02c; stroke-width: 1.5\"/>\n   </g>\n   <g id=\"line2d_90\">\n    <path d=\"M 34.954394 13.5 \nL 44.698573 79.138111 \nL 54.442752 95.293703 \nL 64.186931 102.524675 \nL 73.93111 108.649716 \nL 83.675289 113.504786 \nL 93.419468 117.745607 \nL 103.163647 119.865433 \nL 112.907826 122.795935 \nL 122.652006 125.5402 \nL 132.396185 128.034433 \nL 142.140364 128.681155 \nL 151.884543 130.418677 \nL 161.628722 132.647745 \nL 171.372901 134.407269 \n\" clip-path=\"url(#p048391e7de)\" style=\"fill: none; stroke: #1f77b4; stroke-width: 1.5; stroke-linecap: square\"/>\n   </g>\n   <g id=\"line2d_91\">\n    <path d=\"M 49.633125 70.05017 \nL 69.163125 96.515946 \nL 88.693125 110.378133 \nL 108.223125 108.450028 \nL 127.753125 108.418426 \nL 147.283125 111.587216 \nL 166.813125 98.695809 \n\" clip-path=\"url(#p048391e7de)\" style=\"fill: none; stroke-dasharray: 5.55,2.4; stroke-dashoffset: 0; stroke: #ff7f0e; stroke-width: 1.5\"/>\n   </g>\n   <g id=\"line2d_92\">\n    <path d=\"M 49.633125 46.971979 \nL 69.163125 36.73119 \nL 88.693125 33.129391 \nL 108.223125 33.849751 \nL 127.753125 33.830281 \nL 147.283125 35.154186 \nL 166.813125 40.936533 \n\" clip-path=\"url(#p048391e7de)\" style=\"fill: none; stroke-dasharray: 9.6,2.4,1.5,2.4; stroke-dashoffset: 0; stroke: #2ca02c; stroke-width: 1.5\"/>\n   </g>\n   <g id=\"line2d_93\">\n    <path d=\"M 34.954394 13.5 \nL 44.698573 79.138111 \nL 54.442752 95.293703 \nL 64.186931 102.524675 \nL 73.93111 108.649716 \nL 83.675289 113.504786 \nL 93.419468 117.745607 \nL 103.163647 119.865433 \nL 112.907826 122.795935 \nL 122.652006 125.5402 \nL 132.396185 128.034433 \nL 142.140364 128.681155 \nL 151.884543 130.418677 \nL 161.628722 132.647745 \nL 171.372901 134.407269 \nL 181.11708 134.453873 \n\" clip-path=\"url(#p048391e7de)\" style=\"fill: none; stroke: #1f77b4; stroke-width: 1.5; stroke-linecap: square\"/>\n   </g>\n   <g id=\"line2d_94\">\n    <path d=\"M 49.633125 70.05017 \nL 69.163125 96.515946 \nL 88.693125 110.378133 \nL 108.223125 108.450028 \nL 127.753125 108.418426 \nL 147.283125 111.587216 \nL 166.813125 98.695809 \n\" clip-path=\"url(#p048391e7de)\" style=\"fill: none; stroke-dasharray: 5.55,2.4; stroke-dashoffset: 0; stroke: #ff7f0e; stroke-width: 1.5\"/>\n   </g>\n   <g id=\"line2d_95\">\n    <path d=\"M 49.633125 46.971979 \nL 69.163125 36.73119 \nL 88.693125 33.129391 \nL 108.223125 33.849751 \nL 127.753125 33.830281 \nL 147.283125 35.154186 \nL 166.813125 40.936533 \n\" clip-path=\"url(#p048391e7de)\" style=\"fill: none; stroke-dasharray: 9.6,2.4,1.5,2.4; stroke-dashoffset: 0; stroke: #2ca02c; stroke-width: 1.5\"/>\n   </g>\n   <g id=\"line2d_96\">\n    <path d=\"M 34.954394 13.5 \nL 44.698573 79.138111 \nL 54.442752 95.293703 \nL 64.186931 102.524675 \nL 73.93111 108.649716 \nL 83.675289 113.504786 \nL 93.419468 117.745607 \nL 103.163647 119.865433 \nL 112.907826 122.795935 \nL 122.652006 125.5402 \nL 132.396185 128.034433 \nL 142.140364 128.681155 \nL 151.884543 130.418677 \nL 161.628722 132.647745 \nL 171.372901 134.407269 \nL 181.11708 134.453873 \n\" clip-path=\"url(#p048391e7de)\" style=\"fill: none; stroke: #1f77b4; stroke-width: 1.5; stroke-linecap: square\"/>\n   </g>\n   <g id=\"line2d_97\">\n    <path d=\"M 49.633125 70.05017 \nL 69.163125 96.515946 \nL 88.693125 110.378133 \nL 108.223125 108.450028 \nL 127.753125 108.418426 \nL 147.283125 111.587216 \nL 166.813125 98.695809 \nL 186.343125 128.859126 \n\" clip-path=\"url(#p048391e7de)\" style=\"fill: none; stroke-dasharray: 5.55,2.4; stroke-dashoffset: 0; stroke: #ff7f0e; stroke-width: 1.5\"/>\n   </g>\n   <g id=\"line2d_98\">\n    <path d=\"M 49.633125 46.971979 \nL 69.163125 36.73119 \nL 88.693125 33.129391 \nL 108.223125 33.849751 \nL 127.753125 33.830281 \nL 147.283125 35.154186 \nL 166.813125 40.936533 \n\" clip-path=\"url(#p048391e7de)\" style=\"fill: none; stroke-dasharray: 9.6,2.4,1.5,2.4; stroke-dashoffset: 0; stroke: #2ca02c; stroke-width: 1.5\"/>\n   </g>\n   <g id=\"line2d_99\">\n    <path d=\"M 34.954394 13.5 \nL 44.698573 79.138111 \nL 54.442752 95.293703 \nL 64.186931 102.524675 \nL 73.93111 108.649716 \nL 83.675289 113.504786 \nL 93.419468 117.745607 \nL 103.163647 119.865433 \nL 112.907826 122.795935 \nL 122.652006 125.5402 \nL 132.396185 128.034433 \nL 142.140364 128.681155 \nL 151.884543 130.418677 \nL 161.628722 132.647745 \nL 171.372901 134.407269 \nL 181.11708 134.453873 \n\" clip-path=\"url(#p048391e7de)\" style=\"fill: none; stroke: #1f77b4; stroke-width: 1.5; stroke-linecap: square\"/>\n   </g>\n   <g id=\"line2d_100\">\n    <path d=\"M 49.633125 70.05017 \nL 69.163125 96.515946 \nL 88.693125 110.378133 \nL 108.223125 108.450028 \nL 127.753125 108.418426 \nL 147.283125 111.587216 \nL 166.813125 98.695809 \nL 186.343125 128.859126 \n\" clip-path=\"url(#p048391e7de)\" style=\"fill: none; stroke-dasharray: 5.55,2.4; stroke-dashoffset: 0; stroke: #ff7f0e; stroke-width: 1.5\"/>\n   </g>\n   <g id=\"line2d_101\">\n    <path d=\"M 49.633125 46.971979 \nL 69.163125 36.73119 \nL 88.693125 33.129391 \nL 108.223125 33.849751 \nL 127.753125 33.830281 \nL 147.283125 35.154186 \nL 166.813125 40.936533 \nL 186.343125 25.828448 \n\" clip-path=\"url(#p048391e7de)\" style=\"fill: none; stroke-dasharray: 9.6,2.4,1.5,2.4; stroke-dashoffset: 0; stroke: #2ca02c; stroke-width: 1.5\"/>\n   </g>\n   <g id=\"line2d_102\">\n    <path d=\"M 34.954394 13.5 \nL 44.698573 79.138111 \nL 54.442752 95.293703 \nL 64.186931 102.524675 \nL 73.93111 108.649716 \nL 83.675289 113.504786 \nL 93.419468 117.745607 \nL 103.163647 119.865433 \nL 112.907826 122.795935 \nL 122.652006 125.5402 \nL 132.396185 128.034433 \nL 142.140364 128.681155 \nL 151.884543 130.418677 \nL 161.628722 132.647745 \nL 171.372901 134.407269 \nL 181.11708 134.453873 \nL 190.861259 136.528522 \n\" clip-path=\"url(#p048391e7de)\" style=\"fill: none; stroke: #1f77b4; stroke-width: 1.5; stroke-linecap: square\"/>\n   </g>\n   <g id=\"line2d_103\">\n    <path d=\"M 49.633125 70.05017 \nL 69.163125 96.515946 \nL 88.693125 110.378133 \nL 108.223125 108.450028 \nL 127.753125 108.418426 \nL 147.283125 111.587216 \nL 166.813125 98.695809 \nL 186.343125 128.859126 \n\" clip-path=\"url(#p048391e7de)\" style=\"fill: none; stroke-dasharray: 5.55,2.4; stroke-dashoffset: 0; stroke: #ff7f0e; stroke-width: 1.5\"/>\n   </g>\n   <g id=\"line2d_104\">\n    <path d=\"M 49.633125 46.971979 \nL 69.163125 36.73119 \nL 88.693125 33.129391 \nL 108.223125 33.849751 \nL 127.753125 33.830281 \nL 147.283125 35.154186 \nL 166.813125 40.936533 \nL 186.343125 25.828448 \n\" clip-path=\"url(#p048391e7de)\" style=\"fill: none; stroke-dasharray: 9.6,2.4,1.5,2.4; stroke-dashoffset: 0; stroke: #2ca02c; stroke-width: 1.5\"/>\n   </g>\n   <g id=\"line2d_105\">\n    <path d=\"M 34.954394 13.5 \nL 44.698573 79.138111 \nL 54.442752 95.293703 \nL 64.186931 102.524675 \nL 73.93111 108.649716 \nL 83.675289 113.504786 \nL 93.419468 117.745607 \nL 103.163647 119.865433 \nL 112.907826 122.795935 \nL 122.652006 125.5402 \nL 132.396185 128.034433 \nL 142.140364 128.681155 \nL 151.884543 130.418677 \nL 161.628722 132.647745 \nL 171.372901 134.407269 \nL 181.11708 134.453873 \nL 190.861259 136.528522 \nL 200.605438 137.193892 \n\" clip-path=\"url(#p048391e7de)\" style=\"fill: none; stroke: #1f77b4; stroke-width: 1.5; stroke-linecap: square\"/>\n   </g>\n   <g id=\"line2d_106\">\n    <path d=\"M 49.633125 70.05017 \nL 69.163125 96.515946 \nL 88.693125 110.378133 \nL 108.223125 108.450028 \nL 127.753125 108.418426 \nL 147.283125 111.587216 \nL 166.813125 98.695809 \nL 186.343125 128.859126 \n\" clip-path=\"url(#p048391e7de)\" style=\"fill: none; stroke-dasharray: 5.55,2.4; stroke-dashoffset: 0; stroke: #ff7f0e; stroke-width: 1.5\"/>\n   </g>\n   <g id=\"line2d_107\">\n    <path d=\"M 49.633125 46.971979 \nL 69.163125 36.73119 \nL 88.693125 33.129391 \nL 108.223125 33.849751 \nL 127.753125 33.830281 \nL 147.283125 35.154186 \nL 166.813125 40.936533 \nL 186.343125 25.828448 \n\" clip-path=\"url(#p048391e7de)\" style=\"fill: none; stroke-dasharray: 9.6,2.4,1.5,2.4; stroke-dashoffset: 0; stroke: #2ca02c; stroke-width: 1.5\"/>\n   </g>\n   <g id=\"line2d_108\">\n    <path d=\"M 34.954394 13.5 \nL 44.698573 79.138111 \nL 54.442752 95.293703 \nL 64.186931 102.524675 \nL 73.93111 108.649716 \nL 83.675289 113.504786 \nL 93.419468 117.745607 \nL 103.163647 119.865433 \nL 112.907826 122.795935 \nL 122.652006 125.5402 \nL 132.396185 128.034433 \nL 142.140364 128.681155 \nL 151.884543 130.418677 \nL 161.628722 132.647745 \nL 171.372901 134.407269 \nL 181.11708 134.453873 \nL 190.861259 136.528522 \nL 200.605438 137.193892 \n\" clip-path=\"url(#p048391e7de)\" style=\"fill: none; stroke: #1f77b4; stroke-width: 1.5; stroke-linecap: square\"/>\n   </g>\n   <g id=\"line2d_109\">\n    <path d=\"M 49.633125 70.05017 \nL 69.163125 96.515946 \nL 88.693125 110.378133 \nL 108.223125 108.450028 \nL 127.753125 108.418426 \nL 147.283125 111.587216 \nL 166.813125 98.695809 \nL 186.343125 128.859126 \nL 205.873125 119.412679 \n\" clip-path=\"url(#p048391e7de)\" style=\"fill: none; stroke-dasharray: 5.55,2.4; stroke-dashoffset: 0; stroke: #ff7f0e; stroke-width: 1.5\"/>\n   </g>\n   <g id=\"line2d_110\">\n    <path d=\"M 49.633125 46.971979 \nL 69.163125 36.73119 \nL 88.693125 33.129391 \nL 108.223125 33.849751 \nL 127.753125 33.830281 \nL 147.283125 35.154186 \nL 166.813125 40.936533 \nL 186.343125 25.828448 \n\" clip-path=\"url(#p048391e7de)\" style=\"fill: none; stroke-dasharray: 9.6,2.4,1.5,2.4; stroke-dashoffset: 0; stroke: #2ca02c; stroke-width: 1.5\"/>\n   </g>\n   <g id=\"line2d_111\">\n    <path d=\"M 34.954394 13.5 \nL 44.698573 79.138111 \nL 54.442752 95.293703 \nL 64.186931 102.524675 \nL 73.93111 108.649716 \nL 83.675289 113.504786 \nL 93.419468 117.745607 \nL 103.163647 119.865433 \nL 112.907826 122.795935 \nL 122.652006 125.5402 \nL 132.396185 128.034433 \nL 142.140364 128.681155 \nL 151.884543 130.418677 \nL 161.628722 132.647745 \nL 171.372901 134.407269 \nL 181.11708 134.453873 \nL 190.861259 136.528522 \nL 200.605438 137.193892 \n\" clip-path=\"url(#p048391e7de)\" style=\"fill: none; stroke: #1f77b4; stroke-width: 1.5; stroke-linecap: square\"/>\n   </g>\n   <g id=\"line2d_112\">\n    <path d=\"M 49.633125 70.05017 \nL 69.163125 96.515946 \nL 88.693125 110.378133 \nL 108.223125 108.450028 \nL 127.753125 108.418426 \nL 147.283125 111.587216 \nL 166.813125 98.695809 \nL 186.343125 128.859126 \nL 205.873125 119.412679 \n\" clip-path=\"url(#p048391e7de)\" style=\"fill: none; stroke-dasharray: 5.55,2.4; stroke-dashoffset: 0; stroke: #ff7f0e; stroke-width: 1.5\"/>\n   </g>\n   <g id=\"line2d_113\">\n    <path d=\"M 49.633125 46.971979 \nL 69.163125 36.73119 \nL 88.693125 33.129391 \nL 108.223125 33.849751 \nL 127.753125 33.830281 \nL 147.283125 35.154186 \nL 166.813125 40.936533 \nL 186.343125 25.828448 \nL 205.873125 29.410777 \n\" clip-path=\"url(#p048391e7de)\" style=\"fill: none; stroke-dasharray: 9.6,2.4,1.5,2.4; stroke-dashoffset: 0; stroke: #2ca02c; stroke-width: 1.5\"/>\n   </g>\n   <g id=\"line2d_114\">\n    <path d=\"M 34.954394 13.5 \nL 44.698573 79.138111 \nL 54.442752 95.293703 \nL 64.186931 102.524675 \nL 73.93111 108.649716 \nL 83.675289 113.504786 \nL 93.419468 117.745607 \nL 103.163647 119.865433 \nL 112.907826 122.795935 \nL 122.652006 125.5402 \nL 132.396185 128.034433 \nL 142.140364 128.681155 \nL 151.884543 130.418677 \nL 161.628722 132.647745 \nL 171.372901 134.407269 \nL 181.11708 134.453873 \nL 190.861259 136.528522 \nL 200.605438 137.193892 \nL 210.349618 137.240147 \n\" clip-path=\"url(#p048391e7de)\" style=\"fill: none; stroke: #1f77b4; stroke-width: 1.5; stroke-linecap: square\"/>\n   </g>\n   <g id=\"line2d_115\">\n    <path d=\"M 49.633125 70.05017 \nL 69.163125 96.515946 \nL 88.693125 110.378133 \nL 108.223125 108.450028 \nL 127.753125 108.418426 \nL 147.283125 111.587216 \nL 166.813125 98.695809 \nL 186.343125 128.859126 \nL 205.873125 119.412679 \n\" clip-path=\"url(#p048391e7de)\" style=\"fill: none; stroke-dasharray: 5.55,2.4; stroke-dashoffset: 0; stroke: #ff7f0e; stroke-width: 1.5\"/>\n   </g>\n   <g id=\"line2d_116\">\n    <path d=\"M 49.633125 46.971979 \nL 69.163125 36.73119 \nL 88.693125 33.129391 \nL 108.223125 33.849751 \nL 127.753125 33.830281 \nL 147.283125 35.154186 \nL 166.813125 40.936533 \nL 186.343125 25.828448 \nL 205.873125 29.410777 \n\" clip-path=\"url(#p048391e7de)\" style=\"fill: none; stroke-dasharray: 9.6,2.4,1.5,2.4; stroke-dashoffset: 0; stroke: #2ca02c; stroke-width: 1.5\"/>\n   </g>\n   <g id=\"line2d_117\">\n    <path d=\"M 34.954394 13.5 \nL 44.698573 79.138111 \nL 54.442752 95.293703 \nL 64.186931 102.524675 \nL 73.93111 108.649716 \nL 83.675289 113.504786 \nL 93.419468 117.745607 \nL 103.163647 119.865433 \nL 112.907826 122.795935 \nL 122.652006 125.5402 \nL 132.396185 128.034433 \nL 142.140364 128.681155 \nL 151.884543 130.418677 \nL 161.628722 132.647745 \nL 171.372901 134.407269 \nL 181.11708 134.453873 \nL 190.861259 136.528522 \nL 200.605438 137.193892 \nL 210.349618 137.240147 \nL 220.093797 139.5 \n\" clip-path=\"url(#p048391e7de)\" style=\"fill: none; stroke: #1f77b4; stroke-width: 1.5; stroke-linecap: square\"/>\n   </g>\n   <g id=\"line2d_118\">\n    <path d=\"M 49.633125 70.05017 \nL 69.163125 96.515946 \nL 88.693125 110.378133 \nL 108.223125 108.450028 \nL 127.753125 108.418426 \nL 147.283125 111.587216 \nL 166.813125 98.695809 \nL 186.343125 128.859126 \nL 205.873125 119.412679 \n\" clip-path=\"url(#p048391e7de)\" style=\"fill: none; stroke-dasharray: 5.55,2.4; stroke-dashoffset: 0; stroke: #ff7f0e; stroke-width: 1.5\"/>\n   </g>\n   <g id=\"line2d_119\">\n    <path d=\"M 49.633125 46.971979 \nL 69.163125 36.73119 \nL 88.693125 33.129391 \nL 108.223125 33.849751 \nL 127.753125 33.830281 \nL 147.283125 35.154186 \nL 166.813125 40.936533 \nL 186.343125 25.828448 \nL 205.873125 29.410777 \n\" clip-path=\"url(#p048391e7de)\" style=\"fill: none; stroke-dasharray: 9.6,2.4,1.5,2.4; stroke-dashoffset: 0; stroke: #2ca02c; stroke-width: 1.5\"/>\n   </g>\n   <g id=\"line2d_120\">\n    <path d=\"M 34.954394 13.5 \nL 44.698573 79.138111 \nL 54.442752 95.293703 \nL 64.186931 102.524675 \nL 73.93111 108.649716 \nL 83.675289 113.504786 \nL 93.419468 117.745607 \nL 103.163647 119.865433 \nL 112.907826 122.795935 \nL 122.652006 125.5402 \nL 132.396185 128.034433 \nL 142.140364 128.681155 \nL 151.884543 130.418677 \nL 161.628722 132.647745 \nL 171.372901 134.407269 \nL 181.11708 134.453873 \nL 190.861259 136.528522 \nL 200.605438 137.193892 \nL 210.349618 137.240147 \nL 220.093797 139.5 \n\" clip-path=\"url(#p048391e7de)\" style=\"fill: none; stroke: #1f77b4; stroke-width: 1.5; stroke-linecap: square\"/>\n   </g>\n   <g id=\"line2d_121\">\n    <path d=\"M 49.633125 70.05017 \nL 69.163125 96.515946 \nL 88.693125 110.378133 \nL 108.223125 108.450028 \nL 127.753125 108.418426 \nL 147.283125 111.587216 \nL 166.813125 98.695809 \nL 186.343125 128.859126 \nL 205.873125 119.412679 \nL 225.403125 128.894938 \n\" clip-path=\"url(#p048391e7de)\" style=\"fill: none; stroke-dasharray: 5.55,2.4; stroke-dashoffset: 0; stroke: #ff7f0e; stroke-width: 1.5\"/>\n   </g>\n   <g id=\"line2d_122\">\n    <path d=\"M 49.633125 46.971979 \nL 69.163125 36.73119 \nL 88.693125 33.129391 \nL 108.223125 33.849751 \nL 127.753125 33.830281 \nL 147.283125 35.154186 \nL 166.813125 40.936533 \nL 186.343125 25.828448 \nL 205.873125 29.410777 \n\" clip-path=\"url(#p048391e7de)\" style=\"fill: none; stroke-dasharray: 9.6,2.4,1.5,2.4; stroke-dashoffset: 0; stroke: #2ca02c; stroke-width: 1.5\"/>\n   </g>\n   <g id=\"line2d_123\">\n    <path d=\"M 34.954394 13.5 \nL 44.698573 79.138111 \nL 54.442752 95.293703 \nL 64.186931 102.524675 \nL 73.93111 108.649716 \nL 83.675289 113.504786 \nL 93.419468 117.745607 \nL 103.163647 119.865433 \nL 112.907826 122.795935 \nL 122.652006 125.5402 \nL 132.396185 128.034433 \nL 142.140364 128.681155 \nL 151.884543 130.418677 \nL 161.628722 132.647745 \nL 171.372901 134.407269 \nL 181.11708 134.453873 \nL 190.861259 136.528522 \nL 200.605438 137.193892 \nL 210.349618 137.240147 \nL 220.093797 139.5 \n\" clip-path=\"url(#p048391e7de)\" style=\"fill: none; stroke: #1f77b4; stroke-width: 1.5; stroke-linecap: square\"/>\n   </g>\n   <g id=\"line2d_124\">\n    <path d=\"M 49.633125 70.05017 \nL 69.163125 96.515946 \nL 88.693125 110.378133 \nL 108.223125 108.450028 \nL 127.753125 108.418426 \nL 147.283125 111.587216 \nL 166.813125 98.695809 \nL 186.343125 128.859126 \nL 205.873125 119.412679 \nL 225.403125 128.894938 \n\" clip-path=\"url(#p048391e7de)\" style=\"fill: none; stroke-dasharray: 5.55,2.4; stroke-dashoffset: 0; stroke: #ff7f0e; stroke-width: 1.5\"/>\n   </g>\n   <g id=\"line2d_125\">\n    <path d=\"M 49.633125 46.971979 \nL 69.163125 36.73119 \nL 88.693125 33.129391 \nL 108.223125 33.849751 \nL 127.753125 33.830281 \nL 147.283125 35.154186 \nL 166.813125 40.936533 \nL 186.343125 25.828448 \nL 205.873125 29.410777 \nL 225.403125 26.548807 \n\" clip-path=\"url(#p048391e7de)\" style=\"fill: none; stroke-dasharray: 9.6,2.4,1.5,2.4; stroke-dashoffset: 0; stroke: #2ca02c; stroke-width: 1.5\"/>\n   </g>\n   <g id=\"patch_3\">\n    <path d=\"M 30.103125 145.8 \nL 30.103125 7.2 \n\" style=\"fill: none; stroke: #000000; stroke-width: 0.8; stroke-linejoin: miter; stroke-linecap: square\"/>\n   </g>\n   <g id=\"patch_4\">\n    <path d=\"M 225.403125 145.8 \nL 225.403125 7.2 \n\" style=\"fill: none; stroke: #000000; stroke-width: 0.8; stroke-linejoin: miter; stroke-linecap: square\"/>\n   </g>\n   <g id=\"patch_5\">\n    <path d=\"M 30.103125 145.8 \nL 225.403125 145.8 \n\" style=\"fill: none; stroke: #000000; stroke-width: 0.8; stroke-linejoin: miter; stroke-linecap: square\"/>\n   </g>\n   <g id=\"patch_6\">\n    <path d=\"M 30.103125 7.2 \nL 225.403125 7.2 \n\" style=\"fill: none; stroke: #000000; stroke-width: 0.8; stroke-linejoin: miter; stroke-linecap: square\"/>\n   </g>\n   <g id=\"legend_1\">\n    <g id=\"patch_7\">\n     <path d=\"M 138.8125 100.434375 \nL 218.403125 100.434375 \nQ 220.403125 100.434375 220.403125 98.434375 \nL 220.403125 54.565625 \nQ 220.403125 52.565625 218.403125 52.565625 \nL 138.8125 52.565625 \nQ 136.8125 52.565625 136.8125 54.565625 \nL 136.8125 98.434375 \nQ 136.8125 100.434375 138.8125 100.434375 \nz\n\" style=\"fill: #ffffff; opacity: 0.8; stroke: #cccccc; stroke-linejoin: miter\"/>\n    </g>\n    <g id=\"line2d_126\">\n     <path d=\"M 140.8125 60.664063 \nL 150.8125 60.664063 \nL 160.8125 60.664063 \n\" style=\"fill: none; stroke: #1f77b4; stroke-width: 1.5; stroke-linecap: square\"/>\n    </g>\n    <g id=\"text_11\">\n     <!-- train_loss -->\n     <g transform=\"translate(168.8125 64.164063) scale(0.1 -0.1)\">\n      <defs>\n       <path id=\"DejaVuSans-74\" d=\"M 1172 4494 \nL 1172 3500 \nL 2356 3500 \nL 2356 3053 \nL 1172 3053 \nL 1172 1153 \nQ 1172 725 1289 603 \nQ 1406 481 1766 481 \nL 2356 481 \nL 2356 0 \nL 1766 0 \nQ 1100 0 847 248 \nQ 594 497 594 1153 \nL 594 3053 \nL 172 3053 \nL 172 3500 \nL 594 3500 \nL 594 4494 \nL 1172 4494 \nz\n\" transform=\"scale(0.015625)\"/>\n       <path id=\"DejaVuSans-72\" d=\"M 2631 2963 \nQ 2534 3019 2420 3045 \nQ 2306 3072 2169 3072 \nQ 1681 3072 1420 2755 \nQ 1159 2438 1159 1844 \nL 1159 0 \nL 581 0 \nL 581 3500 \nL 1159 3500 \nL 1159 2956 \nQ 1341 3275 1631 3429 \nQ 1922 3584 2338 3584 \nQ 2397 3584 2469 3576 \nQ 2541 3569 2628 3553 \nL 2631 2963 \nz\n\" transform=\"scale(0.015625)\"/>\n       <path id=\"DejaVuSans-61\" d=\"M 2194 1759 \nQ 1497 1759 1228 1600 \nQ 959 1441 959 1056 \nQ 959 750 1161 570 \nQ 1363 391 1709 391 \nQ 2188 391 2477 730 \nQ 2766 1069 2766 1631 \nL 2766 1759 \nL 2194 1759 \nz\nM 3341 1997 \nL 3341 0 \nL 2766 0 \nL 2766 531 \nQ 2569 213 2275 61 \nQ 1981 -91 1556 -91 \nQ 1019 -91 701 211 \nQ 384 513 384 1019 \nQ 384 1609 779 1909 \nQ 1175 2209 1959 2209 \nL 2766 2209 \nL 2766 2266 \nQ 2766 2663 2505 2880 \nQ 2244 3097 1772 3097 \nQ 1472 3097 1187 3025 \nQ 903 2953 641 2809 \nL 641 3341 \nQ 956 3463 1253 3523 \nQ 1550 3584 1831 3584 \nQ 2591 3584 2966 3190 \nQ 3341 2797 3341 1997 \nz\n\" transform=\"scale(0.015625)\"/>\n       <path id=\"DejaVuSans-69\" d=\"M 603 3500 \nL 1178 3500 \nL 1178 0 \nL 603 0 \nL 603 3500 \nz\nM 603 4863 \nL 1178 4863 \nL 1178 4134 \nL 603 4134 \nL 603 4863 \nz\n\" transform=\"scale(0.015625)\"/>\n       <path id=\"DejaVuSans-6e\" d=\"M 3513 2113 \nL 3513 0 \nL 2938 0 \nL 2938 2094 \nQ 2938 2591 2744 2837 \nQ 2550 3084 2163 3084 \nQ 1697 3084 1428 2787 \nQ 1159 2491 1159 1978 \nL 1159 0 \nL 581 0 \nL 581 3500 \nL 1159 3500 \nL 1159 2956 \nQ 1366 3272 1645 3428 \nQ 1925 3584 2291 3584 \nQ 2894 3584 3203 3211 \nQ 3513 2838 3513 2113 \nz\n\" transform=\"scale(0.015625)\"/>\n       <path id=\"DejaVuSans-5f\" d=\"M 3263 -1063 \nL 3263 -1509 \nL -63 -1509 \nL -63 -1063 \nL 3263 -1063 \nz\n\" transform=\"scale(0.015625)\"/>\n       <path id=\"DejaVuSans-6c\" d=\"M 603 4863 \nL 1178 4863 \nL 1178 0 \nL 603 0 \nL 603 4863 \nz\n\" transform=\"scale(0.015625)\"/>\n       <path id=\"DejaVuSans-73\" d=\"M 2834 3397 \nL 2834 2853 \nQ 2591 2978 2328 3040 \nQ 2066 3103 1784 3103 \nQ 1356 3103 1142 2972 \nQ 928 2841 928 2578 \nQ 928 2378 1081 2264 \nQ 1234 2150 1697 2047 \nL 1894 2003 \nQ 2506 1872 2764 1633 \nQ 3022 1394 3022 966 \nQ 3022 478 2636 193 \nQ 2250 -91 1575 -91 \nQ 1294 -91 989 -36 \nQ 684 19 347 128 \nL 347 722 \nQ 666 556 975 473 \nQ 1284 391 1588 391 \nQ 1994 391 2212 530 \nQ 2431 669 2431 922 \nQ 2431 1156 2273 1281 \nQ 2116 1406 1581 1522 \nL 1381 1569 \nQ 847 1681 609 1914 \nQ 372 2147 372 2553 \nQ 372 3047 722 3315 \nQ 1072 3584 1716 3584 \nQ 2034 3584 2315 3537 \nQ 2597 3491 2834 3397 \nz\n\" transform=\"scale(0.015625)\"/>\n      </defs>\n      <use xlink:href=\"#DejaVuSans-74\"/>\n      <use xlink:href=\"#DejaVuSans-72\" x=\"39.208984\"/>\n      <use xlink:href=\"#DejaVuSans-61\" x=\"80.322266\"/>\n      <use xlink:href=\"#DejaVuSans-69\" x=\"141.601562\"/>\n      <use xlink:href=\"#DejaVuSans-6e\" x=\"169.384766\"/>\n      <use xlink:href=\"#DejaVuSans-5f\" x=\"232.763672\"/>\n      <use xlink:href=\"#DejaVuSans-6c\" x=\"282.763672\"/>\n      <use xlink:href=\"#DejaVuSans-6f\" x=\"310.546875\"/>\n      <use xlink:href=\"#DejaVuSans-73\" x=\"371.728516\"/>\n      <use xlink:href=\"#DejaVuSans-73\" x=\"423.828125\"/>\n     </g>\n    </g>\n    <g id=\"line2d_127\">\n     <path d=\"M 140.8125 75.620313 \nL 150.8125 75.620313 \nL 160.8125 75.620313 \n\" style=\"fill: none; stroke-dasharray: 5.55,2.4; stroke-dashoffset: 0; stroke: #ff7f0e; stroke-width: 1.5\"/>\n    </g>\n    <g id=\"text_12\">\n     <!-- val_loss -->\n     <g transform=\"translate(168.8125 79.120313) scale(0.1 -0.1)\">\n      <defs>\n       <path id=\"DejaVuSans-76\" d=\"M 191 3500 \nL 800 3500 \nL 1894 563 \nL 2988 3500 \nL 3597 3500 \nL 2284 0 \nL 1503 0 \nL 191 3500 \nz\n\" transform=\"scale(0.015625)\"/>\n      </defs>\n      <use xlink:href=\"#DejaVuSans-76\"/>\n      <use xlink:href=\"#DejaVuSans-61\" x=\"59.179688\"/>\n      <use xlink:href=\"#DejaVuSans-6c\" x=\"120.458984\"/>\n      <use xlink:href=\"#DejaVuSans-5f\" x=\"148.242188\"/>\n      <use xlink:href=\"#DejaVuSans-6c\" x=\"198.242188\"/>\n      <use xlink:href=\"#DejaVuSans-6f\" x=\"226.025391\"/>\n      <use xlink:href=\"#DejaVuSans-73\" x=\"287.207031\"/>\n      <use xlink:href=\"#DejaVuSans-73\" x=\"339.306641\"/>\n     </g>\n    </g>\n    <g id=\"line2d_128\">\n     <path d=\"M 140.8125 90.576563 \nL 150.8125 90.576563 \nL 160.8125 90.576563 \n\" style=\"fill: none; stroke-dasharray: 9.6,2.4,1.5,2.4; stroke-dashoffset: 0; stroke: #2ca02c; stroke-width: 1.5\"/>\n    </g>\n    <g id=\"text_13\">\n     <!-- val_acc -->\n     <g transform=\"translate(168.8125 94.076563) scale(0.1 -0.1)\">\n      <use xlink:href=\"#DejaVuSans-76\"/>\n      <use xlink:href=\"#DejaVuSans-61\" x=\"59.179688\"/>\n      <use xlink:href=\"#DejaVuSans-6c\" x=\"120.458984\"/>\n      <use xlink:href=\"#DejaVuSans-5f\" x=\"148.242188\"/>\n      <use xlink:href=\"#DejaVuSans-61\" x=\"198.242188\"/>\n      <use xlink:href=\"#DejaVuSans-63\" x=\"259.521484\"/>\n      <use xlink:href=\"#DejaVuSans-63\" x=\"314.501953\"/>\n     </g>\n    </g>\n   </g>\n  </g>\n </g>\n <defs>\n  <clipPath id=\"p048391e7de\">\n   <rect x=\"30.103125\" y=\"7.2\" width=\"195.3\" height=\"138.6\"/>\n  </clipPath>\n </defs>\n</svg>\n"
          },
          "metadata": {}
        }
      ]
    },
    {
      "cell_type": "markdown",
      "source": [
        "## 8.5.7 Exercise\n",
        "\n",
        "1. Should we remove the bias parameter from the fully connected layer or the convolutional layer before the batch normalization? Why?\n",
        "\n",
        "2. Compare the learning rates for LeNet with and without batch normalization.\n",
        "\n",
        "  * Plot the increase in validation accuracy.\n",
        "\n",
        "  * How large can you make the learning rate before the optimization fails in both cases?\n",
        "\n",
        "3. Do we need batch normalization in every layer? Experiment with it.\n",
        "\n",
        "4. Implement a “lite” version of batch normalization that only removes the mean, or alternatively one that only removes the variance. How does it behave?\n",
        "\n",
        "5. Fix the parameters beta and gamma. Observe and analyze the results.\n",
        "\n",
        "6. Can you replace dropout by batch normalization? How does the behavior change?\n",
        "\n",
        "7. Research ideas: think of other normalization transforms that you can apply:\n",
        "\n",
        "  * Can you apply the probability integral transform?\n",
        "\n",
        "  * Can you use a full-rank covariance estimate? Why should you probably not do that?\n",
        "\n",
        "  * Can you use other compact matrix variants (block-diagonal, low-displacement rank, Monarch, etc.)?\n",
        "\n",
        "  * Does a sparsification compression act as a regularizer?\n",
        "\n",
        "  * Are there other projections (e.g., convex cone, symmetry group-specific transforms) that you can use?"
      ],
      "metadata": {
        "id": "XxWwpglUs05Q"
      },
      "id": "XxWwpglUs05Q"
    },
    {
      "cell_type": "markdown",
      "source": [
        "## Jawaban Exercise 8.5.7\n",
        "\n",
        "\n",
        "---\n",
        "\n"
      ],
      "metadata": {
        "id": "L-kXZzC2tL54"
      },
      "id": "L-kXZzC2tL54"
    },
    {
      "cell_type": "markdown",
      "source": [
        "**1. Should We Remove the Bias Parameter from the Fully Connected Layer or the Convolutional Layer Before Batch Normalization? Why?**\n",
        "\n",
        "* Jawaban: Bias parameter sebaiknya dihapus dari layer konvolusi atau fully connected sebelum batch normalization. Alasannya adalah karena batch normalization sudah menghilangkan efek bias dengan cara menormalkan output, sehingga bias tidak lagi diperlukan.\n",
        "\n",
        "* Implementasi: Di bawah ini adalah contoh model LeNet yang tidak memiliki bias pada convolutional dan fully connected layers yang diikuti oleh batch normalization:"
      ],
      "metadata": {
        "id": "WjYUVTlLwOUK"
      },
      "id": "WjYUVTlLwOUK"
    },
    {
      "cell_type": "code",
      "source": [
        "class LeNetNoBias(nn.Module):\n",
        "    def __init__(self):\n",
        "        super(LeNetNoBias, self).__init__()\n",
        "        self.conv1 = nn.Conv2d(1, 6, kernel_size=5, bias=False)  # No bias\n",
        "        self.bn1 = nn.BatchNorm2d(6)\n",
        "        self.conv2 = nn.Conv2d(6, 16, kernel_size=5, bias=False)  # No bias\n",
        "        self.bn2 = nn.BatchNorm2d(16)\n",
        "        self.fc1 = nn.Linear(16 * 5 * 5, 120, bias=False)  # No bias\n",
        "        self.fc2 = nn.Linear(120, 84, bias=False)  # No bias\n",
        "        self.fc3 = nn.Linear(84, 10)  # Bias is kept for the final layer\n",
        "\n",
        "    def forward(self, x):\n",
        "        x = torch.relu(self.bn1(self.conv1(x)))\n",
        "        x = torch.max_pool2d(x, 2)\n",
        "        x = torch.relu(self.bn2(self.conv2(x)))\n",
        "        x = torch.max_pool2d(x, 2)\n",
        "        x = x.view(-1, 16 * 5 * 5)\n",
        "        x = torch.relu(self.fc1(x))\n",
        "        x = torch.relu(self.fc2(x))\n",
        "        x = self.fc3(x)\n",
        "        return x\n"
      ],
      "metadata": {
        "id": "Bklah2x6wTZU"
      },
      "id": "Bklah2x6wTZU",
      "execution_count": null,
      "outputs": []
    },
    {
      "cell_type": "markdown",
      "source": [
        "**2. Compare the Learning Rates for LeNet with and Without Batch Normalization**\n",
        "\n",
        "* **Jawaban:** Batch normalization memungkinkan model menggunakan learning rate yang lebih besar tanpa mengalami divergensi, sehingga konvergensi menjadi lebih cepat dan stabil. Model dengan batch normalization lebih tahan terhadap perubahan learning rate.\n",
        "\n",
        "* **Implementasi:** Model LeNet dengan batch normalization:"
      ],
      "metadata": {
        "id": "3jKKpJlPwZGG"
      },
      "id": "3jKKpJlPwZGG"
    },
    {
      "cell_type": "code",
      "source": [
        "class LeNetWithBN(nn.Module):\n",
        "    def __init__(self):\n",
        "        super(LeNetWithBN, self).__init__()\n",
        "        self.conv1 = nn.Conv2d(1, 6, kernel_size=5)\n",
        "        self.bn1 = nn.BatchNorm2d(6)\n",
        "        self.conv2 = nn.Conv2d(6, 16, kernel_size=5)\n",
        "        self.bn2 = nn.BatchNorm2d(16)\n",
        "        self.fc1 = nn.Linear(16 * 5 * 5, 120)\n",
        "        self.fc2 = nn.Linear(120, 84)\n",
        "        self.fc3 = nn.Linear(84, 10)\n",
        "\n",
        "    def forward(self, x):\n",
        "        x = torch.relu(self.bn1(self.conv1(x)))\n",
        "        x = torch.max_pool2d(x, 2)\n",
        "        x = torch.relu(self.bn2(self.conv2(x)))\n",
        "        x = torch.max_pool2d(x, 2)\n",
        "        x = x.view(-1, 16 * 5 * 5)\n",
        "        x = torch.relu(self.fc1(x))\n",
        "        x = torch.relu(self.fc2(x))\n",
        "        x = self.fc3(x)\n",
        "        return x\n"
      ],
      "metadata": {
        "id": "1d8cME1dwhtd"
      },
      "id": "1d8cME1dwhtd",
      "execution_count": null,
      "outputs": []
    },
    {
      "cell_type": "markdown",
      "source": [
        "**3. Do We Need Batch Normalization in Every Layer?**\n",
        "\n",
        "**Jawaban:** Batch normalization tidak selalu diperlukan di setiap layer. Biasanya lebih efektif di layer yang lebih dalam karena membantu mengurangi masalah vanishing gradient dan mempercepat konvergensi."
      ],
      "metadata": {
        "id": "tr9OTPdwwl5_"
      },
      "id": "tr9OTPdwwl5_"
    },
    {
      "cell_type": "markdown",
      "source": [
        "**4. Implement a \"Lite\" Version of Batch Normalization that Only Removes the Mean**\n",
        "\n",
        "* **Jawaban:** Batch normalization \"lite\" yang hanya menghilangkan rata-rata dapat menstabilkan pelatihan tetapi tidak seefektif batch normalization penuh karena tidak menormalisasi varians.\n",
        "\n",
        "* **Implementasi:**"
      ],
      "metadata": {
        "id": "lylesj1twppJ"
      },
      "id": "lylesj1twppJ"
    },
    {
      "cell_type": "code",
      "source": [
        "class LiteBatchNorm(nn.Module):\n",
        "    def __init__(self, num_features):\n",
        "        super(LiteBatchNorm, self).__init__()\n",
        "        self.mean_only = nn.Parameter(torch.zeros(1, num_features, 1, 1))\n",
        "\n",
        "    def forward(self, x):\n",
        "        mean = x.mean(dim=(0, 2, 3), keepdim=True)  # Menghitung mean pada batch dan spatial dimensions\n",
        "        return x - mean + self.mean_only\n",
        "\n",
        "# Menguji LiteBatchNorm pada tensor\n",
        "lite_bn = LiteBatchNorm(6)\n",
        "x = torch.randn(10, 6, 5, 5)  # Input tensor dengan batch size 10, channel 6, dan ukuran 5x5\n",
        "lite_bn_output = lite_bn(x)\n",
        "print(lite_bn_output.shape)  # Seharusnya output memiliki shape yang sama dengan input\n"
      ],
      "metadata": {
        "colab": {
          "base_uri": "https://localhost:8080/"
        },
        "id": "cEicw_cNwiy2",
        "outputId": "4a2f0e99-3fd8-47e9-c2b5-215c260ad77a"
      },
      "id": "cEicw_cNwiy2",
      "execution_count": null,
      "outputs": [
        {
          "output_type": "stream",
          "name": "stdout",
          "text": [
            "torch.Size([10, 6, 5, 5])\n"
          ]
        }
      ]
    },
    {
      "cell_type": "markdown",
      "source": [
        "**5. Fix the Parameters Beta and Gamma**\n",
        "\n",
        "* **Jawaban:** Dengan memperbaiki parameter beta dan gamma, batch normalization hanya menormalisasi input tanpa transformasi lebih lanjut. Ini membatasi kemampuan adaptif dari batch normalization, yang dapat menurunkan performa model.\n",
        "\n",
        "* **Implementasi:**"
      ],
      "metadata": {
        "id": "DhIPJgjqxyoW"
      },
      "id": "DhIPJgjqxyoW"
    },
    {
      "cell_type": "code",
      "source": [
        "class FixedBatchNorm(nn.Module):\n",
        "    def __init__(self, num_features):\n",
        "        super(FixedBatchNorm, self).__init__()\n",
        "        self.num_features = num_features\n",
        "        self.register_buffer('running_mean', torch.zeros(num_features))\n",
        "        self.register_buffer('running_var', torch.ones(num_features))\n",
        "        self.eps = 1e-5\n",
        "\n",
        "    def forward(self, x):\n",
        "        return (x - self.running_mean[None, :, None, None]) / (torch.sqrt(self.running_var[None, :, None, None] + self.eps))\n",
        "\n",
        "# Menguji FixedBatchNorm\n",
        "fixed_bn = FixedBatchNorm(6)\n",
        "x = torch.randn(10, 6, 5, 5)\n",
        "fixed_bn_output = fixed_bn(x)\n",
        "print(fixed_bn_output.shape)\n"
      ],
      "metadata": {
        "colab": {
          "base_uri": "https://localhost:8080/"
        },
        "id": "8CelDJRpxtJP",
        "outputId": "fe3468ee-ca44-4054-ebd4-a12eb14bfc40"
      },
      "id": "8CelDJRpxtJP",
      "execution_count": null,
      "outputs": [
        {
          "output_type": "stream",
          "name": "stdout",
          "text": [
            "torch.Size([10, 6, 5, 5])\n"
          ]
        }
      ]
    },
    {
      "cell_type": "markdown",
      "source": [
        "**6. Can You Replace Dropout by Batch Normalization? How Does the Behavior Change?**\n",
        "\n",
        "* **Jawaban:** Batch normalization tidak selalu menggantikan dropout karena keduanya memiliki fungsi yang berbeda. Dropout membantu menghindari overfitting dengan mematikan sebagian neuron selama pelatihan, sedangkan batch normalization menstabilkan pelatihan. Mengganti dropout dengan batch normalization bisa meningkatkan stabilitas tetapi tidak selalu membantu dalam mencegah overfitting.\n",
        "\n",
        "**7. Research Ideas on Other Normalization Transforms**\n",
        "\n",
        "* **Probability Integral Transform**: Mengubah data untuk mengikuti distribusi tertentu, membantu stabilitas pelatihan.\n",
        "* **Full-Rank Covariance Estimate:** Menghitung kovariansi penuh sangat mahal untuk dimensi besar sehingga jarang digunakan.\n",
        "* **Compact Matrix Variants:** Penggunaan matriks kompak seperti block-diagonal dapat mengurangi kompleksitas komputasi.\n",
        "* **Sparsification Compression:** Dapat bertindak sebagai regularizer untuk meningkatkan efisiensi model dengan mengurangi parameter yang tidak penting.\n",
        "* **Other Projections:** Proyeksi seperti convex cone atau symmetry group-specific dapat digunakan untuk membantu menangkap fitur khusus dari data."
      ],
      "metadata": {
        "id": "uRt5M4rax9fJ"
      },
      "id": "uRt5M4rax9fJ"
    },
    {
      "cell_type": "markdown",
      "source": [
        "# 8.6 Residual Networks (ResNet) dan ResNeXt"
      ],
      "metadata": {
        "id": "cwcL9BvWynp5"
      },
      "id": "cwcL9BvWynp5"
    },
    {
      "cell_type": "markdown",
      "source": [
        "## 8.6.2 Residual Blocks"
      ],
      "metadata": {
        "id": "E6wmlZe8yuqb"
      },
      "id": "E6wmlZe8yuqb"
    },
    {
      "cell_type": "code",
      "source": [
        "class Residual(nn.Module):\n",
        "    \"\"\"The Residual block of ResNet models.\"\"\"\n",
        "    def __init__(self, num_channels, use_1x1conv=False, strides=1):\n",
        "        super().__init__()\n",
        "        self.conv1 = nn.LazyConv2d(num_channels, kernel_size=3, padding=1,\n",
        "                                   stride=strides)\n",
        "        self.conv2 = nn.LazyConv2d(num_channels, kernel_size=3, padding=1)\n",
        "        if use_1x1conv:\n",
        "            self.conv3 = nn.LazyConv2d(num_channels, kernel_size=1,\n",
        "                                       stride=strides)\n",
        "        else:\n",
        "            self.conv3 = None\n",
        "        self.bn1 = nn.LazyBatchNorm2d()\n",
        "        self.bn2 = nn.LazyBatchNorm2d()\n",
        "\n",
        "    def forward(self, X):\n",
        "        Y = F.relu(self.bn1(self.conv1(X)))\n",
        "        Y = self.bn2(self.conv2(Y))\n",
        "        if self.conv3:\n",
        "            X = self.conv3(X)\n",
        "        Y += X\n",
        "        return F.relu(Y)"
      ],
      "metadata": {
        "id": "3_3OyCjFyyOS"
      },
      "id": "3_3OyCjFyyOS",
      "execution_count": null,
      "outputs": []
    },
    {
      "cell_type": "code",
      "source": [
        "blk = Residual(3)\n",
        "X = torch.randn(4, 3, 6, 6)\n",
        "blk(X).shape"
      ],
      "metadata": {
        "colab": {
          "base_uri": "https://localhost:8080/"
        },
        "id": "Fm9HLvaJzLrZ",
        "outputId": "3a51a910-5495-4f1e-ff15-73bae2f98c3b"
      },
      "id": "Fm9HLvaJzLrZ",
      "execution_count": null,
      "outputs": [
        {
          "output_type": "execute_result",
          "data": {
            "text/plain": [
              "torch.Size([4, 3, 6, 6])"
            ]
          },
          "metadata": {},
          "execution_count": 34
        }
      ]
    },
    {
      "cell_type": "code",
      "source": [
        "blk = Residual(6, use_1x1conv=True, strides=2)\n",
        "blk(X).shape"
      ],
      "metadata": {
        "colab": {
          "base_uri": "https://localhost:8080/"
        },
        "id": "eipuRGTkzMDF",
        "outputId": "9393f5d8-8b76-4724-ffaa-714bcb44cd37"
      },
      "id": "eipuRGTkzMDF",
      "execution_count": null,
      "outputs": [
        {
          "output_type": "execute_result",
          "data": {
            "text/plain": [
              "torch.Size([4, 6, 3, 3])"
            ]
          },
          "metadata": {},
          "execution_count": 35
        }
      ]
    },
    {
      "cell_type": "markdown",
      "source": [
        "## 8.6.3 ResNet Model"
      ],
      "metadata": {
        "id": "HHpKrJz6zOty"
      },
      "id": "HHpKrJz6zOty"
    },
    {
      "cell_type": "code",
      "source": [
        "class ResNet(d2l.Classifier):\n",
        "    def b1(self):\n",
        "        return nn.Sequential(\n",
        "            nn.LazyConv2d(64, kernel_size=7, stride=2, padding=3),\n",
        "            nn.LazyBatchNorm2d(), nn.ReLU(),\n",
        "            nn.MaxPool2d(kernel_size=3, stride=2, padding=1))"
      ],
      "metadata": {
        "id": "aj3vxMDQzNMd"
      },
      "id": "aj3vxMDQzNMd",
      "execution_count": null,
      "outputs": []
    },
    {
      "cell_type": "code",
      "source": [
        "@d2l.add_to_class(ResNet)\n",
        "def block(self, num_residuals, num_channels, first_block=False):\n",
        "    blk = []\n",
        "    for i in range(num_residuals):\n",
        "        if i == 0 and not first_block:\n",
        "            blk.append(Residual(num_channels, use_1x1conv=True, strides=2))\n",
        "        else:\n",
        "            blk.append(Residual(num_channels))\n",
        "    return nn.Sequential(*blk)"
      ],
      "metadata": {
        "id": "QxrDYUXxzSwj"
      },
      "id": "QxrDYUXxzSwj",
      "execution_count": null,
      "outputs": []
    },
    {
      "cell_type": "code",
      "source": [
        "@d2l.add_to_class(ResNet)\n",
        "def __init__(self, arch, lr=0.1, num_classes=10):\n",
        "    super(ResNet, self).__init__()\n",
        "    self.save_hyperparameters()\n",
        "    self.net = nn.Sequential(self.b1())\n",
        "    for i, b in enumerate(arch):\n",
        "        self.net.add_module(f'b{i+2}', self.block(*b, first_block=(i==0)))\n",
        "    self.net.add_module('last', nn.Sequential(\n",
        "        nn.AdaptiveAvgPool2d((1, 1)), nn.Flatten(),\n",
        "        nn.LazyLinear(num_classes)))\n",
        "    self.net.apply(d2l.init_cnn)"
      ],
      "metadata": {
        "id": "DAu5MK9NzT3M"
      },
      "id": "DAu5MK9NzT3M",
      "execution_count": null,
      "outputs": []
    },
    {
      "cell_type": "code",
      "source": [
        "class ResNet18(ResNet):\n",
        "    def __init__(self, lr=0.1, num_classes=10):\n",
        "        super().__init__(((2, 64), (2, 128), (2, 256), (2, 512)),\n",
        "                       lr, num_classes)\n",
        "\n",
        "ResNet18().layer_summary((1, 1, 96, 96))"
      ],
      "metadata": {
        "colab": {
          "base_uri": "https://localhost:8080/"
        },
        "id": "Pa7ELVEXzVUv",
        "outputId": "3076dc75-8685-4501-8535-213ff0f8aeed"
      },
      "id": "Pa7ELVEXzVUv",
      "execution_count": null,
      "outputs": [
        {
          "output_type": "stream",
          "name": "stdout",
          "text": [
            "Sequential output shape:\t torch.Size([1, 64, 24, 24])\n",
            "Sequential output shape:\t torch.Size([1, 64, 24, 24])\n",
            "Sequential output shape:\t torch.Size([1, 128, 12, 12])\n",
            "Sequential output shape:\t torch.Size([1, 256, 6, 6])\n",
            "Sequential output shape:\t torch.Size([1, 512, 3, 3])\n",
            "Sequential output shape:\t torch.Size([1, 10])\n"
          ]
        }
      ]
    },
    {
      "cell_type": "markdown",
      "source": [
        "## 8.6.4 Training"
      ],
      "metadata": {
        "id": "tz0QqaA3zYZX"
      },
      "id": "tz0QqaA3zYZX"
    },
    {
      "cell_type": "code",
      "source": [
        "model = ResNet18(lr=0.01)\n",
        "trainer = d2l.Trainer(max_epochs=10, num_gpus=1)\n",
        "data = d2l.FashionMNIST(batch_size=128, resize=(96, 96))\n",
        "model.apply_init([next(iter(data.get_dataloader(True)))[0]], d2l.init_cnn)\n",
        "trainer.fit(model, data)"
      ],
      "metadata": {
        "colab": {
          "base_uri": "https://localhost:8080/",
          "height": 265
        },
        "id": "nRuAKMHCzW80",
        "outputId": "54fa01a2-6d9b-4307-c49b-e2c6d624aa27"
      },
      "id": "nRuAKMHCzW80",
      "execution_count": null,
      "outputs": [
        {
          "output_type": "display_data",
          "data": {
            "text/plain": [
              "<Figure size 350x250 with 1 Axes>"
            ],
            "image/svg+xml": "<?xml version=\"1.0\" encoding=\"utf-8\" standalone=\"no\"?>\n<!DOCTYPE svg PUBLIC \"-//W3C//DTD SVG 1.1//EN\"\n  \"http://www.w3.org/Graphics/SVG/1.1/DTD/svg11.dtd\">\n<svg xmlns:xlink=\"http://www.w3.org/1999/xlink\" width=\"238.965625pt\" height=\"183.35625pt\" viewBox=\"0 0 238.965625 183.35625\" xmlns=\"http://www.w3.org/2000/svg\" version=\"1.1\">\n <metadata>\n  <rdf:RDF xmlns:dc=\"http://purl.org/dc/elements/1.1/\" xmlns:cc=\"http://creativecommons.org/ns#\" xmlns:rdf=\"http://www.w3.org/1999/02/22-rdf-syntax-ns#\">\n   <cc:Work>\n    <dc:type rdf:resource=\"http://purl.org/dc/dcmitype/StillImage\"/>\n    <dc:date>2024-10-05T13:18:30.115021</dc:date>\n    <dc:format>image/svg+xml</dc:format>\n    <dc:creator>\n     <cc:Agent>\n      <dc:title>Matplotlib v3.7.2, https://matplotlib.org/</dc:title>\n     </cc:Agent>\n    </dc:creator>\n   </cc:Work>\n  </rdf:RDF>\n </metadata>\n <defs>\n  <style type=\"text/css\">*{stroke-linejoin: round; stroke-linecap: butt}</style>\n </defs>\n <g id=\"figure_1\">\n  <g id=\"patch_1\">\n   <path d=\"M 0 183.35625 \nL 238.965625 183.35625 \nL 238.965625 0 \nL 0 0 \nz\n\" style=\"fill: #ffffff\"/>\n  </g>\n  <g id=\"axes_1\">\n   <g id=\"patch_2\">\n    <path d=\"M 30.103125 145.8 \nL 225.403125 145.8 \nL 225.403125 7.2 \nL 30.103125 7.2 \nz\n\" style=\"fill: #ffffff\"/>\n   </g>\n   <g id=\"matplotlib.axis_1\">\n    <g id=\"xtick_1\">\n     <g id=\"line2d_1\">\n      <defs>\n       <path id=\"mc8840f7525\" d=\"M 0 0 \nL 0 3.5 \n\" style=\"stroke: #000000; stroke-width: 0.8\"/>\n      </defs>\n      <g>\n       <use xlink:href=\"#mc8840f7525\" x=\"30.103125\" y=\"145.8\" style=\"stroke: #000000; stroke-width: 0.8\"/>\n      </g>\n     </g>\n     <g id=\"text_1\">\n      <!-- 0 -->\n      <g transform=\"translate(26.921875 160.398438) scale(0.1 -0.1)\">\n       <defs>\n        <path id=\"DejaVuSans-30\" d=\"M 2034 4250 \nQ 1547 4250 1301 3770 \nQ 1056 3291 1056 2328 \nQ 1056 1369 1301 889 \nQ 1547 409 2034 409 \nQ 2525 409 2770 889 \nQ 3016 1369 3016 2328 \nQ 3016 3291 2770 3770 \nQ 2525 4250 2034 4250 \nz\nM 2034 4750 \nQ 2819 4750 3233 4129 \nQ 3647 3509 3647 2328 \nQ 3647 1150 3233 529 \nQ 2819 -91 2034 -91 \nQ 1250 -91 836 529 \nQ 422 1150 422 2328 \nQ 422 3509 836 4129 \nQ 1250 4750 2034 4750 \nz\n\" transform=\"scale(0.015625)\"/>\n       </defs>\n       <use xlink:href=\"#DejaVuSans-30\"/>\n      </g>\n     </g>\n    </g>\n    <g id=\"xtick_2\">\n     <g id=\"line2d_2\">\n      <g>\n       <use xlink:href=\"#mc8840f7525\" x=\"69.163125\" y=\"145.8\" style=\"stroke: #000000; stroke-width: 0.8\"/>\n      </g>\n     </g>\n     <g id=\"text_2\">\n      <!-- 2 -->\n      <g transform=\"translate(65.981875 160.398438) scale(0.1 -0.1)\">\n       <defs>\n        <path id=\"DejaVuSans-32\" d=\"M 1228 531 \nL 3431 531 \nL 3431 0 \nL 469 0 \nL 469 531 \nQ 828 903 1448 1529 \nQ 2069 2156 2228 2338 \nQ 2531 2678 2651 2914 \nQ 2772 3150 2772 3378 \nQ 2772 3750 2511 3984 \nQ 2250 4219 1831 4219 \nQ 1534 4219 1204 4116 \nQ 875 4013 500 3803 \nL 500 4441 \nQ 881 4594 1212 4672 \nQ 1544 4750 1819 4750 \nQ 2544 4750 2975 4387 \nQ 3406 4025 3406 3419 \nQ 3406 3131 3298 2873 \nQ 3191 2616 2906 2266 \nQ 2828 2175 2409 1742 \nQ 1991 1309 1228 531 \nz\n\" transform=\"scale(0.015625)\"/>\n       </defs>\n       <use xlink:href=\"#DejaVuSans-32\"/>\n      </g>\n     </g>\n    </g>\n    <g id=\"xtick_3\">\n     <g id=\"line2d_3\">\n      <g>\n       <use xlink:href=\"#mc8840f7525\" x=\"108.223125\" y=\"145.8\" style=\"stroke: #000000; stroke-width: 0.8\"/>\n      </g>\n     </g>\n     <g id=\"text_3\">\n      <!-- 4 -->\n      <g transform=\"translate(105.041875 160.398438) scale(0.1 -0.1)\">\n       <defs>\n        <path id=\"DejaVuSans-34\" d=\"M 2419 4116 \nL 825 1625 \nL 2419 1625 \nL 2419 4116 \nz\nM 2253 4666 \nL 3047 4666 \nL 3047 1625 \nL 3713 1625 \nL 3713 1100 \nL 3047 1100 \nL 3047 0 \nL 2419 0 \nL 2419 1100 \nL 313 1100 \nL 313 1709 \nL 2253 4666 \nz\n\" transform=\"scale(0.015625)\"/>\n       </defs>\n       <use xlink:href=\"#DejaVuSans-34\"/>\n      </g>\n     </g>\n    </g>\n    <g id=\"xtick_4\">\n     <g id=\"line2d_4\">\n      <g>\n       <use xlink:href=\"#mc8840f7525\" x=\"147.283125\" y=\"145.8\" style=\"stroke: #000000; stroke-width: 0.8\"/>\n      </g>\n     </g>\n     <g id=\"text_4\">\n      <!-- 6 -->\n      <g transform=\"translate(144.101875 160.398438) scale(0.1 -0.1)\">\n       <defs>\n        <path id=\"DejaVuSans-36\" d=\"M 2113 2584 \nQ 1688 2584 1439 2293 \nQ 1191 2003 1191 1497 \nQ 1191 994 1439 701 \nQ 1688 409 2113 409 \nQ 2538 409 2786 701 \nQ 3034 994 3034 1497 \nQ 3034 2003 2786 2293 \nQ 2538 2584 2113 2584 \nz\nM 3366 4563 \nL 3366 3988 \nQ 3128 4100 2886 4159 \nQ 2644 4219 2406 4219 \nQ 1781 4219 1451 3797 \nQ 1122 3375 1075 2522 \nQ 1259 2794 1537 2939 \nQ 1816 3084 2150 3084 \nQ 2853 3084 3261 2657 \nQ 3669 2231 3669 1497 \nQ 3669 778 3244 343 \nQ 2819 -91 2113 -91 \nQ 1303 -91 875 529 \nQ 447 1150 447 2328 \nQ 447 3434 972 4092 \nQ 1497 4750 2381 4750 \nQ 2619 4750 2861 4703 \nQ 3103 4656 3366 4563 \nz\n\" transform=\"scale(0.015625)\"/>\n       </defs>\n       <use xlink:href=\"#DejaVuSans-36\"/>\n      </g>\n     </g>\n    </g>\n    <g id=\"xtick_5\">\n     <g id=\"line2d_5\">\n      <g>\n       <use xlink:href=\"#mc8840f7525\" x=\"186.343125\" y=\"145.8\" style=\"stroke: #000000; stroke-width: 0.8\"/>\n      </g>\n     </g>\n     <g id=\"text_5\">\n      <!-- 8 -->\n      <g transform=\"translate(183.161875 160.398438) scale(0.1 -0.1)\">\n       <defs>\n        <path id=\"DejaVuSans-38\" d=\"M 2034 2216 \nQ 1584 2216 1326 1975 \nQ 1069 1734 1069 1313 \nQ 1069 891 1326 650 \nQ 1584 409 2034 409 \nQ 2484 409 2743 651 \nQ 3003 894 3003 1313 \nQ 3003 1734 2745 1975 \nQ 2488 2216 2034 2216 \nz\nM 1403 2484 \nQ 997 2584 770 2862 \nQ 544 3141 544 3541 \nQ 544 4100 942 4425 \nQ 1341 4750 2034 4750 \nQ 2731 4750 3128 4425 \nQ 3525 4100 3525 3541 \nQ 3525 3141 3298 2862 \nQ 3072 2584 2669 2484 \nQ 3125 2378 3379 2068 \nQ 3634 1759 3634 1313 \nQ 3634 634 3220 271 \nQ 2806 -91 2034 -91 \nQ 1263 -91 848 271 \nQ 434 634 434 1313 \nQ 434 1759 690 2068 \nQ 947 2378 1403 2484 \nz\nM 1172 3481 \nQ 1172 3119 1398 2916 \nQ 1625 2713 2034 2713 \nQ 2441 2713 2670 2916 \nQ 2900 3119 2900 3481 \nQ 2900 3844 2670 4047 \nQ 2441 4250 2034 4250 \nQ 1625 4250 1398 4047 \nQ 1172 3844 1172 3481 \nz\n\" transform=\"scale(0.015625)\"/>\n       </defs>\n       <use xlink:href=\"#DejaVuSans-38\"/>\n      </g>\n     </g>\n    </g>\n    <g id=\"xtick_6\">\n     <g id=\"line2d_6\">\n      <g>\n       <use xlink:href=\"#mc8840f7525\" x=\"225.403125\" y=\"145.8\" style=\"stroke: #000000; stroke-width: 0.8\"/>\n      </g>\n     </g>\n     <g id=\"text_6\">\n      <!-- 10 -->\n      <g transform=\"translate(219.040625 160.398438) scale(0.1 -0.1)\">\n       <defs>\n        <path id=\"DejaVuSans-31\" d=\"M 794 531 \nL 1825 531 \nL 1825 4091 \nL 703 3866 \nL 703 4441 \nL 1819 4666 \nL 2450 4666 \nL 2450 531 \nL 3481 531 \nL 3481 0 \nL 794 0 \nL 794 531 \nz\n\" transform=\"scale(0.015625)\"/>\n       </defs>\n       <use xlink:href=\"#DejaVuSans-31\"/>\n       <use xlink:href=\"#DejaVuSans-30\" x=\"63.623047\"/>\n      </g>\n     </g>\n    </g>\n    <g id=\"text_7\">\n     <!-- epoch -->\n     <g transform=\"translate(112.525 174.076563) scale(0.1 -0.1)\">\n      <defs>\n       <path id=\"DejaVuSans-65\" d=\"M 3597 1894 \nL 3597 1613 \nL 953 1613 \nQ 991 1019 1311 708 \nQ 1631 397 2203 397 \nQ 2534 397 2845 478 \nQ 3156 559 3463 722 \nL 3463 178 \nQ 3153 47 2828 -22 \nQ 2503 -91 2169 -91 \nQ 1331 -91 842 396 \nQ 353 884 353 1716 \nQ 353 2575 817 3079 \nQ 1281 3584 2069 3584 \nQ 2775 3584 3186 3129 \nQ 3597 2675 3597 1894 \nz\nM 3022 2063 \nQ 3016 2534 2758 2815 \nQ 2500 3097 2075 3097 \nQ 1594 3097 1305 2825 \nQ 1016 2553 972 2059 \nL 3022 2063 \nz\n\" transform=\"scale(0.015625)\"/>\n       <path id=\"DejaVuSans-70\" d=\"M 1159 525 \nL 1159 -1331 \nL 581 -1331 \nL 581 3500 \nL 1159 3500 \nL 1159 2969 \nQ 1341 3281 1617 3432 \nQ 1894 3584 2278 3584 \nQ 2916 3584 3314 3078 \nQ 3713 2572 3713 1747 \nQ 3713 922 3314 415 \nQ 2916 -91 2278 -91 \nQ 1894 -91 1617 61 \nQ 1341 213 1159 525 \nz\nM 3116 1747 \nQ 3116 2381 2855 2742 \nQ 2594 3103 2138 3103 \nQ 1681 3103 1420 2742 \nQ 1159 2381 1159 1747 \nQ 1159 1113 1420 752 \nQ 1681 391 2138 391 \nQ 2594 391 2855 752 \nQ 3116 1113 3116 1747 \nz\n\" transform=\"scale(0.015625)\"/>\n       <path id=\"DejaVuSans-6f\" d=\"M 1959 3097 \nQ 1497 3097 1228 2736 \nQ 959 2375 959 1747 \nQ 959 1119 1226 758 \nQ 1494 397 1959 397 \nQ 2419 397 2687 759 \nQ 2956 1122 2956 1747 \nQ 2956 2369 2687 2733 \nQ 2419 3097 1959 3097 \nz\nM 1959 3584 \nQ 2709 3584 3137 3096 \nQ 3566 2609 3566 1747 \nQ 3566 888 3137 398 \nQ 2709 -91 1959 -91 \nQ 1206 -91 779 398 \nQ 353 888 353 1747 \nQ 353 2609 779 3096 \nQ 1206 3584 1959 3584 \nz\n\" transform=\"scale(0.015625)\"/>\n       <path id=\"DejaVuSans-63\" d=\"M 3122 3366 \nL 3122 2828 \nQ 2878 2963 2633 3030 \nQ 2388 3097 2138 3097 \nQ 1578 3097 1268 2742 \nQ 959 2388 959 1747 \nQ 959 1106 1268 751 \nQ 1578 397 2138 397 \nQ 2388 397 2633 464 \nQ 2878 531 3122 666 \nL 3122 134 \nQ 2881 22 2623 -34 \nQ 2366 -91 2075 -91 \nQ 1284 -91 818 406 \nQ 353 903 353 1747 \nQ 353 2603 823 3093 \nQ 1294 3584 2113 3584 \nQ 2378 3584 2631 3529 \nQ 2884 3475 3122 3366 \nz\n\" transform=\"scale(0.015625)\"/>\n       <path id=\"DejaVuSans-68\" d=\"M 3513 2113 \nL 3513 0 \nL 2938 0 \nL 2938 2094 \nQ 2938 2591 2744 2837 \nQ 2550 3084 2163 3084 \nQ 1697 3084 1428 2787 \nQ 1159 2491 1159 1978 \nL 1159 0 \nL 581 0 \nL 581 4863 \nL 1159 4863 \nL 1159 2956 \nQ 1366 3272 1645 3428 \nQ 1925 3584 2291 3584 \nQ 2894 3584 3203 3211 \nQ 3513 2838 3513 2113 \nz\n\" transform=\"scale(0.015625)\"/>\n      </defs>\n      <use xlink:href=\"#DejaVuSans-65\"/>\n      <use xlink:href=\"#DejaVuSans-70\" x=\"61.523438\"/>\n      <use xlink:href=\"#DejaVuSans-6f\" x=\"125\"/>\n      <use xlink:href=\"#DejaVuSans-63\" x=\"186.181641\"/>\n      <use xlink:href=\"#DejaVuSans-68\" x=\"241.162109\"/>\n     </g>\n    </g>\n   </g>\n   <g id=\"matplotlib.axis_2\">\n    <g id=\"ytick_1\">\n     <g id=\"line2d_7\">\n      <defs>\n       <path id=\"madeedb3e1e\" d=\"M 0 0 \nL -3.5 0 \n\" style=\"stroke: #000000; stroke-width: 0.8\"/>\n      </defs>\n      <g>\n       <use xlink:href=\"#madeedb3e1e\" x=\"30.103125\" y=\"142.356327\" style=\"stroke: #000000; stroke-width: 0.8\"/>\n      </g>\n     </g>\n     <g id=\"text_8\">\n      <!-- 0.0 -->\n      <g transform=\"translate(7.2 146.155546) scale(0.1 -0.1)\">\n       <defs>\n        <path id=\"DejaVuSans-2e\" d=\"M 684 794 \nL 1344 794 \nL 1344 0 \nL 684 0 \nL 684 794 \nz\n\" transform=\"scale(0.015625)\"/>\n       </defs>\n       <use xlink:href=\"#DejaVuSans-30\"/>\n       <use xlink:href=\"#DejaVuSans-2e\" x=\"63.623047\"/>\n       <use xlink:href=\"#DejaVuSans-30\" x=\"95.410156\"/>\n      </g>\n     </g>\n    </g>\n    <g id=\"ytick_2\">\n     <g id=\"line2d_8\">\n      <g>\n       <use xlink:href=\"#madeedb3e1e\" x=\"30.103125\" y=\"114.113232\" style=\"stroke: #000000; stroke-width: 0.8\"/>\n      </g>\n     </g>\n     <g id=\"text_9\">\n      <!-- 0.2 -->\n      <g transform=\"translate(7.2 117.912451) scale(0.1 -0.1)\">\n       <use xlink:href=\"#DejaVuSans-30\"/>\n       <use xlink:href=\"#DejaVuSans-2e\" x=\"63.623047\"/>\n       <use xlink:href=\"#DejaVuSans-32\" x=\"95.410156\"/>\n      </g>\n     </g>\n    </g>\n    <g id=\"ytick_3\">\n     <g id=\"line2d_9\">\n      <g>\n       <use xlink:href=\"#madeedb3e1e\" x=\"30.103125\" y=\"85.870138\" style=\"stroke: #000000; stroke-width: 0.8\"/>\n      </g>\n     </g>\n     <g id=\"text_10\">\n      <!-- 0.4 -->\n      <g transform=\"translate(7.2 89.669356) scale(0.1 -0.1)\">\n       <use xlink:href=\"#DejaVuSans-30\"/>\n       <use xlink:href=\"#DejaVuSans-2e\" x=\"63.623047\"/>\n       <use xlink:href=\"#DejaVuSans-34\" x=\"95.410156\"/>\n      </g>\n     </g>\n    </g>\n    <g id=\"ytick_4\">\n     <g id=\"line2d_10\">\n      <g>\n       <use xlink:href=\"#madeedb3e1e\" x=\"30.103125\" y=\"57.627043\" style=\"stroke: #000000; stroke-width: 0.8\"/>\n      </g>\n     </g>\n     <g id=\"text_11\">\n      <!-- 0.6 -->\n      <g transform=\"translate(7.2 61.426261) scale(0.1 -0.1)\">\n       <use xlink:href=\"#DejaVuSans-30\"/>\n       <use xlink:href=\"#DejaVuSans-2e\" x=\"63.623047\"/>\n       <use xlink:href=\"#DejaVuSans-36\" x=\"95.410156\"/>\n      </g>\n     </g>\n    </g>\n    <g id=\"ytick_5\">\n     <g id=\"line2d_11\">\n      <g>\n       <use xlink:href=\"#madeedb3e1e\" x=\"30.103125\" y=\"29.383948\" style=\"stroke: #000000; stroke-width: 0.8\"/>\n      </g>\n     </g>\n     <g id=\"text_12\">\n      <!-- 0.8 -->\n      <g transform=\"translate(7.2 33.183167) scale(0.1 -0.1)\">\n       <use xlink:href=\"#DejaVuSans-30\"/>\n       <use xlink:href=\"#DejaVuSans-2e\" x=\"63.623047\"/>\n       <use xlink:href=\"#DejaVuSans-38\" x=\"95.410156\"/>\n      </g>\n     </g>\n    </g>\n   </g>\n   <g id=\"line2d_12\">\n    <path d=\"M 34.954394 61.895367 \n\" clip-path=\"url(#pb214505813)\" style=\"fill: none; stroke: #1f77b4; stroke-width: 1.5; stroke-linecap: square\"/>\n   </g>\n   <g id=\"line2d_13\">\n    <path d=\"M 34.954394 61.895367 \nL 44.698573 92.82978 \n\" clip-path=\"url(#pb214505813)\" style=\"fill: none; stroke: #1f77b4; stroke-width: 1.5; stroke-linecap: square\"/>\n   </g>\n   <g id=\"line2d_14\">\n    <path d=\"M 34.954394 61.895367 \nL 44.698573 92.82978 \n\" clip-path=\"url(#pb214505813)\" style=\"fill: none; stroke: #1f77b4; stroke-width: 1.5; stroke-linecap: square\"/>\n   </g>\n   <g id=\"line2d_15\">\n    <path d=\"M 49.633125 91.598833 \n\" clip-path=\"url(#pb214505813)\" style=\"fill: none; stroke-dasharray: 5.55,2.4; stroke-dashoffset: 0; stroke: #ff7f0e; stroke-width: 1.5\"/>\n   </g>\n   <g id=\"line2d_16\"/>\n   <g id=\"line2d_17\">\n    <path d=\"M 34.954394 61.895367 \nL 44.698573 92.82978 \n\" clip-path=\"url(#pb214505813)\" style=\"fill: none; stroke: #1f77b4; stroke-width: 1.5; stroke-linecap: square\"/>\n   </g>\n   <g id=\"line2d_18\">\n    <path d=\"M 49.633125 91.598833 \n\" clip-path=\"url(#pb214505813)\" style=\"fill: none; stroke-dasharray: 5.55,2.4; stroke-dashoffset: 0; stroke: #ff7f0e; stroke-width: 1.5\"/>\n   </g>\n   <g id=\"line2d_19\">\n    <path d=\"M 49.633125 19.784312 \n\" clip-path=\"url(#pb214505813)\" style=\"fill: none; stroke-dasharray: 9.6,2.4,1.5,2.4; stroke-dashoffset: 0; stroke: #2ca02c; stroke-width: 1.5\"/>\n   </g>\n   <g id=\"line2d_20\">\n    <path d=\"M 34.954394 61.895367 \nL 44.698573 92.82978 \nL 54.442752 102.823659 \n\" clip-path=\"url(#pb214505813)\" style=\"fill: none; stroke: #1f77b4; stroke-width: 1.5; stroke-linecap: square\"/>\n   </g>\n   <g id=\"line2d_21\">\n    <path d=\"M 49.633125 91.598833 \n\" clip-path=\"url(#pb214505813)\" style=\"fill: none; stroke-dasharray: 5.55,2.4; stroke-dashoffset: 0; stroke: #ff7f0e; stroke-width: 1.5\"/>\n   </g>\n   <g id=\"line2d_22\">\n    <path d=\"M 49.633125 19.784312 \n\" clip-path=\"url(#pb214505813)\" style=\"fill: none; stroke-dasharray: 9.6,2.4,1.5,2.4; stroke-dashoffset: 0; stroke: #2ca02c; stroke-width: 1.5\"/>\n   </g>\n   <g id=\"line2d_23\">\n    <path d=\"M 34.954394 61.895367 \nL 44.698573 92.82978 \nL 54.442752 102.823659 \nL 64.186931 105.589737 \n\" clip-path=\"url(#pb214505813)\" style=\"fill: none; stroke: #1f77b4; stroke-width: 1.5; stroke-linecap: square\"/>\n   </g>\n   <g id=\"line2d_24\">\n    <path d=\"M 49.633125 91.598833 \n\" clip-path=\"url(#pb214505813)\" style=\"fill: none; stroke-dasharray: 5.55,2.4; stroke-dashoffset: 0; stroke: #ff7f0e; stroke-width: 1.5\"/>\n   </g>\n   <g id=\"line2d_25\">\n    <path d=\"M 49.633125 19.784312 \n\" clip-path=\"url(#pb214505813)\" style=\"fill: none; stroke-dasharray: 9.6,2.4,1.5,2.4; stroke-dashoffset: 0; stroke: #2ca02c; stroke-width: 1.5\"/>\n   </g>\n   <g id=\"line2d_26\">\n    <path d=\"M 34.954394 61.895367 \nL 44.698573 92.82978 \nL 54.442752 102.823659 \nL 64.186931 105.589737 \n\" clip-path=\"url(#pb214505813)\" style=\"fill: none; stroke: #1f77b4; stroke-width: 1.5; stroke-linecap: square\"/>\n   </g>\n   <g id=\"line2d_27\">\n    <path d=\"M 49.633125 91.598833 \nL 69.163125 85.780964 \n\" clip-path=\"url(#pb214505813)\" style=\"fill: none; stroke-dasharray: 5.55,2.4; stroke-dashoffset: 0; stroke: #ff7f0e; stroke-width: 1.5\"/>\n   </g>\n   <g id=\"line2d_28\">\n    <path d=\"M 49.633125 19.784312 \n\" clip-path=\"url(#pb214505813)\" style=\"fill: none; stroke-dasharray: 9.6,2.4,1.5,2.4; stroke-dashoffset: 0; stroke: #2ca02c; stroke-width: 1.5\"/>\n   </g>\n   <g id=\"line2d_29\">\n    <path d=\"M 34.954394 61.895367 \nL 44.698573 92.82978 \nL 54.442752 102.823659 \nL 64.186931 105.589737 \n\" clip-path=\"url(#pb214505813)\" style=\"fill: none; stroke: #1f77b4; stroke-width: 1.5; stroke-linecap: square\"/>\n   </g>\n   <g id=\"line2d_30\">\n    <path d=\"M 49.633125 91.598833 \nL 69.163125 85.780964 \n\" clip-path=\"url(#pb214505813)\" style=\"fill: none; stroke-dasharray: 5.55,2.4; stroke-dashoffset: 0; stroke: #ff7f0e; stroke-width: 1.5\"/>\n   </g>\n   <g id=\"line2d_31\">\n    <path d=\"M 49.633125 19.784312 \nL 69.163125 21.460129 \n\" clip-path=\"url(#pb214505813)\" style=\"fill: none; stroke-dasharray: 9.6,2.4,1.5,2.4; stroke-dashoffset: 0; stroke: #2ca02c; stroke-width: 1.5\"/>\n   </g>\n   <g id=\"line2d_32\">\n    <path d=\"M 34.954394 61.895367 \nL 44.698573 92.82978 \nL 54.442752 102.823659 \nL 64.186931 105.589737 \nL 73.93111 112.056116 \n\" clip-path=\"url(#pb214505813)\" style=\"fill: none; stroke: #1f77b4; stroke-width: 1.5; stroke-linecap: square\"/>\n   </g>\n   <g id=\"line2d_33\">\n    <path d=\"M 49.633125 91.598833 \nL 69.163125 85.780964 \n\" clip-path=\"url(#pb214505813)\" style=\"fill: none; stroke-dasharray: 5.55,2.4; stroke-dashoffset: 0; stroke: #ff7f0e; stroke-width: 1.5\"/>\n   </g>\n   <g id=\"line2d_34\">\n    <path d=\"M 49.633125 19.784312 \nL 69.163125 21.460129 \n\" clip-path=\"url(#pb214505813)\" style=\"fill: none; stroke-dasharray: 9.6,2.4,1.5,2.4; stroke-dashoffset: 0; stroke: #2ca02c; stroke-width: 1.5\"/>\n   </g>\n   <g id=\"line2d_35\">\n    <path d=\"M 34.954394 61.895367 \nL 44.698573 92.82978 \nL 54.442752 102.823659 \nL 64.186931 105.589737 \nL 73.93111 112.056116 \nL 83.675289 113.243678 \n\" clip-path=\"url(#pb214505813)\" style=\"fill: none; stroke: #1f77b4; stroke-width: 1.5; stroke-linecap: square\"/>\n   </g>\n   <g id=\"line2d_36\">\n    <path d=\"M 49.633125 91.598833 \nL 69.163125 85.780964 \n\" clip-path=\"url(#pb214505813)\" style=\"fill: none; stroke-dasharray: 5.55,2.4; stroke-dashoffset: 0; stroke: #ff7f0e; stroke-width: 1.5\"/>\n   </g>\n   <g id=\"line2d_37\">\n    <path d=\"M 49.633125 19.784312 \nL 69.163125 21.460129 \n\" clip-path=\"url(#pb214505813)\" style=\"fill: none; stroke-dasharray: 9.6,2.4,1.5,2.4; stroke-dashoffset: 0; stroke: #2ca02c; stroke-width: 1.5\"/>\n   </g>\n   <g id=\"line2d_38\">\n    <path d=\"M 34.954394 61.895367 \nL 44.698573 92.82978 \nL 54.442752 102.823659 \nL 64.186931 105.589737 \nL 73.93111 112.056116 \nL 83.675289 113.243678 \n\" clip-path=\"url(#pb214505813)\" style=\"fill: none; stroke: #1f77b4; stroke-width: 1.5; stroke-linecap: square\"/>\n   </g>\n   <g id=\"line2d_39\">\n    <path d=\"M 49.633125 91.598833 \nL 69.163125 85.780964 \nL 88.693125 95.666961 \n\" clip-path=\"url(#pb214505813)\" style=\"fill: none; stroke-dasharray: 5.55,2.4; stroke-dashoffset: 0; stroke: #ff7f0e; stroke-width: 1.5\"/>\n   </g>\n   <g id=\"line2d_40\">\n    <path d=\"M 49.633125 19.784312 \nL 69.163125 21.460129 \n\" clip-path=\"url(#pb214505813)\" style=\"fill: none; stroke-dasharray: 9.6,2.4,1.5,2.4; stroke-dashoffset: 0; stroke: #2ca02c; stroke-width: 1.5\"/>\n   </g>\n   <g id=\"line2d_41\">\n    <path d=\"M 34.954394 61.895367 \nL 44.698573 92.82978 \nL 54.442752 102.823659 \nL 64.186931 105.589737 \nL 73.93111 112.056116 \nL 83.675289 113.243678 \n\" clip-path=\"url(#pb214505813)\" style=\"fill: none; stroke: #1f77b4; stroke-width: 1.5; stroke-linecap: square\"/>\n   </g>\n   <g id=\"line2d_42\">\n    <path d=\"M 49.633125 91.598833 \nL 69.163125 85.780964 \nL 88.693125 95.666961 \n\" clip-path=\"url(#pb214505813)\" style=\"fill: none; stroke-dasharray: 5.55,2.4; stroke-dashoffset: 0; stroke: #ff7f0e; stroke-width: 1.5\"/>\n   </g>\n   <g id=\"line2d_43\">\n    <path d=\"M 49.633125 19.784312 \nL 69.163125 21.460129 \nL 88.693125 18.415729 \n\" clip-path=\"url(#pb214505813)\" style=\"fill: none; stroke-dasharray: 9.6,2.4,1.5,2.4; stroke-dashoffset: 0; stroke: #2ca02c; stroke-width: 1.5\"/>\n   </g>\n   <g id=\"line2d_44\">\n    <path d=\"M 34.954394 61.895367 \nL 44.698573 92.82978 \nL 54.442752 102.823659 \nL 64.186931 105.589737 \nL 73.93111 112.056116 \nL 83.675289 113.243678 \nL 93.419468 119.027921 \n\" clip-path=\"url(#pb214505813)\" style=\"fill: none; stroke: #1f77b4; stroke-width: 1.5; stroke-linecap: square\"/>\n   </g>\n   <g id=\"line2d_45\">\n    <path d=\"M 49.633125 91.598833 \nL 69.163125 85.780964 \nL 88.693125 95.666961 \n\" clip-path=\"url(#pb214505813)\" style=\"fill: none; stroke-dasharray: 5.55,2.4; stroke-dashoffset: 0; stroke: #ff7f0e; stroke-width: 1.5\"/>\n   </g>\n   <g id=\"line2d_46\">\n    <path d=\"M 49.633125 19.784312 \nL 69.163125 21.460129 \nL 88.693125 18.415729 \n\" clip-path=\"url(#pb214505813)\" style=\"fill: none; stroke-dasharray: 9.6,2.4,1.5,2.4; stroke-dashoffset: 0; stroke: #2ca02c; stroke-width: 1.5\"/>\n   </g>\n   <g id=\"line2d_47\">\n    <path d=\"M 34.954394 61.895367 \nL 44.698573 92.82978 \nL 54.442752 102.823659 \nL 64.186931 105.589737 \nL 73.93111 112.056116 \nL 83.675289 113.243678 \nL 93.419468 119.027921 \nL 103.163647 118.810274 \n\" clip-path=\"url(#pb214505813)\" style=\"fill: none; stroke: #1f77b4; stroke-width: 1.5; stroke-linecap: square\"/>\n   </g>\n   <g id=\"line2d_48\">\n    <path d=\"M 49.633125 91.598833 \nL 69.163125 85.780964 \nL 88.693125 95.666961 \n\" clip-path=\"url(#pb214505813)\" style=\"fill: none; stroke-dasharray: 5.55,2.4; stroke-dashoffset: 0; stroke: #ff7f0e; stroke-width: 1.5\"/>\n   </g>\n   <g id=\"line2d_49\">\n    <path d=\"M 49.633125 19.784312 \nL 69.163125 21.460129 \nL 88.693125 18.415729 \n\" clip-path=\"url(#pb214505813)\" style=\"fill: none; stroke-dasharray: 9.6,2.4,1.5,2.4; stroke-dashoffset: 0; stroke: #2ca02c; stroke-width: 1.5\"/>\n   </g>\n   <g id=\"line2d_50\">\n    <path d=\"M 34.954394 61.895367 \nL 44.698573 92.82978 \nL 54.442752 102.823659 \nL 64.186931 105.589737 \nL 73.93111 112.056116 \nL 83.675289 113.243678 \nL 93.419468 119.027921 \nL 103.163647 118.810274 \n\" clip-path=\"url(#pb214505813)\" style=\"fill: none; stroke: #1f77b4; stroke-width: 1.5; stroke-linecap: square\"/>\n   </g>\n   <g id=\"line2d_51\">\n    <path d=\"M 49.633125 91.598833 \nL 69.163125 85.780964 \nL 88.693125 95.666961 \nL 108.223125 101.625002 \n\" clip-path=\"url(#pb214505813)\" style=\"fill: none; stroke-dasharray: 5.55,2.4; stroke-dashoffset: 0; stroke: #ff7f0e; stroke-width: 1.5\"/>\n   </g>\n   <g id=\"line2d_52\">\n    <path d=\"M 49.633125 19.784312 \nL 69.163125 21.460129 \nL 88.693125 18.415729 \n\" clip-path=\"url(#pb214505813)\" style=\"fill: none; stroke-dasharray: 9.6,2.4,1.5,2.4; stroke-dashoffset: 0; stroke: #2ca02c; stroke-width: 1.5\"/>\n   </g>\n   <g id=\"line2d_53\">\n    <path d=\"M 34.954394 61.895367 \nL 44.698573 92.82978 \nL 54.442752 102.823659 \nL 64.186931 105.589737 \nL 73.93111 112.056116 \nL 83.675289 113.243678 \nL 93.419468 119.027921 \nL 103.163647 118.810274 \n\" clip-path=\"url(#pb214505813)\" style=\"fill: none; stroke: #1f77b4; stroke-width: 1.5; stroke-linecap: square\"/>\n   </g>\n   <g id=\"line2d_54\">\n    <path d=\"M 49.633125 91.598833 \nL 69.163125 85.780964 \nL 88.693125 95.666961 \nL 108.223125 101.625002 \n\" clip-path=\"url(#pb214505813)\" style=\"fill: none; stroke-dasharray: 5.55,2.4; stroke-dashoffset: 0; stroke: #ff7f0e; stroke-width: 1.5\"/>\n   </g>\n   <g id=\"line2d_55\">\n    <path d=\"M 49.633125 19.784312 \nL 69.163125 21.460129 \nL 88.693125 18.415729 \nL 108.223125 15.776317 \n\" clip-path=\"url(#pb214505813)\" style=\"fill: none; stroke-dasharray: 9.6,2.4,1.5,2.4; stroke-dashoffset: 0; stroke: #2ca02c; stroke-width: 1.5\"/>\n   </g>\n   <g id=\"line2d_56\">\n    <path d=\"M 34.954394 61.895367 \nL 44.698573 92.82978 \nL 54.442752 102.823659 \nL 64.186931 105.589737 \nL 73.93111 112.056116 \nL 83.675289 113.243678 \nL 93.419468 119.027921 \nL 103.163647 118.810274 \nL 112.907826 124.818265 \n\" clip-path=\"url(#pb214505813)\" style=\"fill: none; stroke: #1f77b4; stroke-width: 1.5; stroke-linecap: square\"/>\n   </g>\n   <g id=\"line2d_57\">\n    <path d=\"M 49.633125 91.598833 \nL 69.163125 85.780964 \nL 88.693125 95.666961 \nL 108.223125 101.625002 \n\" clip-path=\"url(#pb214505813)\" style=\"fill: none; stroke-dasharray: 5.55,2.4; stroke-dashoffset: 0; stroke: #ff7f0e; stroke-width: 1.5\"/>\n   </g>\n   <g id=\"line2d_58\">\n    <path d=\"M 49.633125 19.784312 \nL 69.163125 21.460129 \nL 88.693125 18.415729 \nL 108.223125 15.776317 \n\" clip-path=\"url(#pb214505813)\" style=\"fill: none; stroke-dasharray: 9.6,2.4,1.5,2.4; stroke-dashoffset: 0; stroke: #2ca02c; stroke-width: 1.5\"/>\n   </g>\n   <g id=\"line2d_59\">\n    <path d=\"M 34.954394 61.895367 \nL 44.698573 92.82978 \nL 54.442752 102.823659 \nL 64.186931 105.589737 \nL 73.93111 112.056116 \nL 83.675289 113.243678 \nL 93.419468 119.027921 \nL 103.163647 118.810274 \nL 112.907826 124.818265 \nL 122.652006 123.817187 \n\" clip-path=\"url(#pb214505813)\" style=\"fill: none; stroke: #1f77b4; stroke-width: 1.5; stroke-linecap: square\"/>\n   </g>\n   <g id=\"line2d_60\">\n    <path d=\"M 49.633125 91.598833 \nL 69.163125 85.780964 \nL 88.693125 95.666961 \nL 108.223125 101.625002 \n\" clip-path=\"url(#pb214505813)\" style=\"fill: none; stroke-dasharray: 5.55,2.4; stroke-dashoffset: 0; stroke: #ff7f0e; stroke-width: 1.5\"/>\n   </g>\n   <g id=\"line2d_61\">\n    <path d=\"M 49.633125 19.784312 \nL 69.163125 21.460129 \nL 88.693125 18.415729 \nL 108.223125 15.776317 \n\" clip-path=\"url(#pb214505813)\" style=\"fill: none; stroke-dasharray: 9.6,2.4,1.5,2.4; stroke-dashoffset: 0; stroke: #2ca02c; stroke-width: 1.5\"/>\n   </g>\n   <g id=\"line2d_62\">\n    <path d=\"M 34.954394 61.895367 \nL 44.698573 92.82978 \nL 54.442752 102.823659 \nL 64.186931 105.589737 \nL 73.93111 112.056116 \nL 83.675289 113.243678 \nL 93.419468 119.027921 \nL 103.163647 118.810274 \nL 112.907826 124.818265 \nL 122.652006 123.817187 \n\" clip-path=\"url(#pb214505813)\" style=\"fill: none; stroke: #1f77b4; stroke-width: 1.5; stroke-linecap: square\"/>\n   </g>\n   <g id=\"line2d_63\">\n    <path d=\"M 49.633125 91.598833 \nL 69.163125 85.780964 \nL 88.693125 95.666961 \nL 108.223125 101.625002 \nL 127.753125 59.228513 \n\" clip-path=\"url(#pb214505813)\" style=\"fill: none; stroke-dasharray: 5.55,2.4; stroke-dashoffset: 0; stroke: #ff7f0e; stroke-width: 1.5\"/>\n   </g>\n   <g id=\"line2d_64\">\n    <path d=\"M 49.633125 19.784312 \nL 69.163125 21.460129 \nL 88.693125 18.415729 \nL 108.223125 15.776317 \n\" clip-path=\"url(#pb214505813)\" style=\"fill: none; stroke-dasharray: 9.6,2.4,1.5,2.4; stroke-dashoffset: 0; stroke: #2ca02c; stroke-width: 1.5\"/>\n   </g>\n   <g id=\"line2d_65\">\n    <path d=\"M 34.954394 61.895367 \nL 44.698573 92.82978 \nL 54.442752 102.823659 \nL 64.186931 105.589737 \nL 73.93111 112.056116 \nL 83.675289 113.243678 \nL 93.419468 119.027921 \nL 103.163647 118.810274 \nL 112.907826 124.818265 \nL 122.652006 123.817187 \n\" clip-path=\"url(#pb214505813)\" style=\"fill: none; stroke: #1f77b4; stroke-width: 1.5; stroke-linecap: square\"/>\n   </g>\n   <g id=\"line2d_66\">\n    <path d=\"M 49.633125 91.598833 \nL 69.163125 85.780964 \nL 88.693125 95.666961 \nL 108.223125 101.625002 \nL 127.753125 59.228513 \n\" clip-path=\"url(#pb214505813)\" style=\"fill: none; stroke-dasharray: 5.55,2.4; stroke-dashoffset: 0; stroke: #ff7f0e; stroke-width: 1.5\"/>\n   </g>\n   <g id=\"line2d_67\">\n    <path d=\"M 49.633125 19.784312 \nL 69.163125 21.460129 \nL 88.693125 18.415729 \nL 108.223125 15.776317 \nL 127.753125 26.208275 \n\" clip-path=\"url(#pb214505813)\" style=\"fill: none; stroke-dasharray: 9.6,2.4,1.5,2.4; stroke-dashoffset: 0; stroke: #2ca02c; stroke-width: 1.5\"/>\n   </g>\n   <g id=\"line2d_68\">\n    <path d=\"M 34.954394 61.895367 \nL 44.698573 92.82978 \nL 54.442752 102.823659 \nL 64.186931 105.589737 \nL 73.93111 112.056116 \nL 83.675289 113.243678 \nL 93.419468 119.027921 \nL 103.163647 118.810274 \nL 112.907826 124.818265 \nL 122.652006 123.817187 \nL 132.396185 129.021092 \n\" clip-path=\"url(#pb214505813)\" style=\"fill: none; stroke: #1f77b4; stroke-width: 1.5; stroke-linecap: square\"/>\n   </g>\n   <g id=\"line2d_69\">\n    <path d=\"M 49.633125 91.598833 \nL 69.163125 85.780964 \nL 88.693125 95.666961 \nL 108.223125 101.625002 \nL 127.753125 59.228513 \n\" clip-path=\"url(#pb214505813)\" style=\"fill: none; stroke-dasharray: 5.55,2.4; stroke-dashoffset: 0; stroke: #ff7f0e; stroke-width: 1.5\"/>\n   </g>\n   <g id=\"line2d_70\">\n    <path d=\"M 49.633125 19.784312 \nL 69.163125 21.460129 \nL 88.693125 18.415729 \nL 108.223125 15.776317 \nL 127.753125 26.208275 \n\" clip-path=\"url(#pb214505813)\" style=\"fill: none; stroke-dasharray: 9.6,2.4,1.5,2.4; stroke-dashoffset: 0; stroke: #2ca02c; stroke-width: 1.5\"/>\n   </g>\n   <g id=\"line2d_71\">\n    <path d=\"M 34.954394 61.895367 \nL 44.698573 92.82978 \nL 54.442752 102.823659 \nL 64.186931 105.589737 \nL 73.93111 112.056116 \nL 83.675289 113.243678 \nL 93.419468 119.027921 \nL 103.163647 118.810274 \nL 112.907826 124.818265 \nL 122.652006 123.817187 \nL 132.396185 129.021092 \nL 142.140364 127.963297 \n\" clip-path=\"url(#pb214505813)\" style=\"fill: none; stroke: #1f77b4; stroke-width: 1.5; stroke-linecap: square\"/>\n   </g>\n   <g id=\"line2d_72\">\n    <path d=\"M 49.633125 91.598833 \nL 69.163125 85.780964 \nL 88.693125 95.666961 \nL 108.223125 101.625002 \nL 127.753125 59.228513 \n\" clip-path=\"url(#pb214505813)\" style=\"fill: none; stroke-dasharray: 5.55,2.4; stroke-dashoffset: 0; stroke: #ff7f0e; stroke-width: 1.5\"/>\n   </g>\n   <g id=\"line2d_73\">\n    <path d=\"M 49.633125 19.784312 \nL 69.163125 21.460129 \nL 88.693125 18.415729 \nL 108.223125 15.776317 \nL 127.753125 26.208275 \n\" clip-path=\"url(#pb214505813)\" style=\"fill: none; stroke-dasharray: 9.6,2.4,1.5,2.4; stroke-dashoffset: 0; stroke: #2ca02c; stroke-width: 1.5\"/>\n   </g>\n   <g id=\"line2d_74\">\n    <path d=\"M 34.954394 61.895367 \nL 44.698573 92.82978 \nL 54.442752 102.823659 \nL 64.186931 105.589737 \nL 73.93111 112.056116 \nL 83.675289 113.243678 \nL 93.419468 119.027921 \nL 103.163647 118.810274 \nL 112.907826 124.818265 \nL 122.652006 123.817187 \nL 132.396185 129.021092 \nL 142.140364 127.963297 \n\" clip-path=\"url(#pb214505813)\" style=\"fill: none; stroke: #1f77b4; stroke-width: 1.5; stroke-linecap: square\"/>\n   </g>\n   <g id=\"line2d_75\">\n    <path d=\"M 49.633125 91.598833 \nL 69.163125 85.780964 \nL 88.693125 95.666961 \nL 108.223125 101.625002 \nL 127.753125 59.228513 \nL 147.283125 102.696564 \n\" clip-path=\"url(#pb214505813)\" style=\"fill: none; stroke-dasharray: 5.55,2.4; stroke-dashoffset: 0; stroke: #ff7f0e; stroke-width: 1.5\"/>\n   </g>\n   <g id=\"line2d_76\">\n    <path d=\"M 49.633125 19.784312 \nL 69.163125 21.460129 \nL 88.693125 18.415729 \nL 108.223125 15.776317 \nL 127.753125 26.208275 \n\" clip-path=\"url(#pb214505813)\" style=\"fill: none; stroke-dasharray: 9.6,2.4,1.5,2.4; stroke-dashoffset: 0; stroke: #2ca02c; stroke-width: 1.5\"/>\n   </g>\n   <g id=\"line2d_77\">\n    <path d=\"M 34.954394 61.895367 \nL 44.698573 92.82978 \nL 54.442752 102.823659 \nL 64.186931 105.589737 \nL 73.93111 112.056116 \nL 83.675289 113.243678 \nL 93.419468 119.027921 \nL 103.163647 118.810274 \nL 112.907826 124.818265 \nL 122.652006 123.817187 \nL 132.396185 129.021092 \nL 142.140364 127.963297 \n\" clip-path=\"url(#pb214505813)\" style=\"fill: none; stroke: #1f77b4; stroke-width: 1.5; stroke-linecap: square\"/>\n   </g>\n   <g id=\"line2d_78\">\n    <path d=\"M 49.633125 91.598833 \nL 69.163125 85.780964 \nL 88.693125 95.666961 \nL 108.223125 101.625002 \nL 127.753125 59.228513 \nL 147.283125 102.696564 \n\" clip-path=\"url(#pb214505813)\" style=\"fill: none; stroke-dasharray: 5.55,2.4; stroke-dashoffset: 0; stroke: #ff7f0e; stroke-width: 1.5\"/>\n   </g>\n   <g id=\"line2d_79\">\n    <path d=\"M 49.633125 19.784312 \nL 69.163125 21.460129 \nL 88.693125 18.415729 \nL 108.223125 15.776317 \nL 127.753125 26.208275 \nL 147.283125 14.491525 \n\" clip-path=\"url(#pb214505813)\" style=\"fill: none; stroke-dasharray: 9.6,2.4,1.5,2.4; stroke-dashoffset: 0; stroke: #2ca02c; stroke-width: 1.5\"/>\n   </g>\n   <g id=\"line2d_80\">\n    <path d=\"M 34.954394 61.895367 \nL 44.698573 92.82978 \nL 54.442752 102.823659 \nL 64.186931 105.589737 \nL 73.93111 112.056116 \nL 83.675289 113.243678 \nL 93.419468 119.027921 \nL 103.163647 118.810274 \nL 112.907826 124.818265 \nL 122.652006 123.817187 \nL 132.396185 129.021092 \nL 142.140364 127.963297 \nL 151.884543 133.21503 \n\" clip-path=\"url(#pb214505813)\" style=\"fill: none; stroke: #1f77b4; stroke-width: 1.5; stroke-linecap: square\"/>\n   </g>\n   <g id=\"line2d_81\">\n    <path d=\"M 49.633125 91.598833 \nL 69.163125 85.780964 \nL 88.693125 95.666961 \nL 108.223125 101.625002 \nL 127.753125 59.228513 \nL 147.283125 102.696564 \n\" clip-path=\"url(#pb214505813)\" style=\"fill: none; stroke-dasharray: 5.55,2.4; stroke-dashoffset: 0; stroke: #ff7f0e; stroke-width: 1.5\"/>\n   </g>\n   <g id=\"line2d_82\">\n    <path d=\"M 49.633125 19.784312 \nL 69.163125 21.460129 \nL 88.693125 18.415729 \nL 108.223125 15.776317 \nL 127.753125 26.208275 \nL 147.283125 14.491525 \n\" clip-path=\"url(#pb214505813)\" style=\"fill: none; stroke-dasharray: 9.6,2.4,1.5,2.4; stroke-dashoffset: 0; stroke: #2ca02c; stroke-width: 1.5\"/>\n   </g>\n   <g id=\"line2d_83\">\n    <path d=\"M 34.954394 61.895367 \nL 44.698573 92.82978 \nL 54.442752 102.823659 \nL 64.186931 105.589737 \nL 73.93111 112.056116 \nL 83.675289 113.243678 \nL 93.419468 119.027921 \nL 103.163647 118.810274 \nL 112.907826 124.818265 \nL 122.652006 123.817187 \nL 132.396185 129.021092 \nL 142.140364 127.963297 \nL 151.884543 133.21503 \nL 161.628722 132.018725 \n\" clip-path=\"url(#pb214505813)\" style=\"fill: none; stroke: #1f77b4; stroke-width: 1.5; stroke-linecap: square\"/>\n   </g>\n   <g id=\"line2d_84\">\n    <path d=\"M 49.633125 91.598833 \nL 69.163125 85.780964 \nL 88.693125 95.666961 \nL 108.223125 101.625002 \nL 127.753125 59.228513 \nL 147.283125 102.696564 \n\" clip-path=\"url(#pb214505813)\" style=\"fill: none; stroke-dasharray: 5.55,2.4; stroke-dashoffset: 0; stroke: #ff7f0e; stroke-width: 1.5\"/>\n   </g>\n   <g id=\"line2d_85\">\n    <path d=\"M 49.633125 19.784312 \nL 69.163125 21.460129 \nL 88.693125 18.415729 \nL 108.223125 15.776317 \nL 127.753125 26.208275 \nL 147.283125 14.491525 \n\" clip-path=\"url(#pb214505813)\" style=\"fill: none; stroke-dasharray: 9.6,2.4,1.5,2.4; stroke-dashoffset: 0; stroke: #2ca02c; stroke-width: 1.5\"/>\n   </g>\n   <g id=\"line2d_86\">\n    <path d=\"M 34.954394 61.895367 \nL 44.698573 92.82978 \nL 54.442752 102.823659 \nL 64.186931 105.589737 \nL 73.93111 112.056116 \nL 83.675289 113.243678 \nL 93.419468 119.027921 \nL 103.163647 118.810274 \nL 112.907826 124.818265 \nL 122.652006 123.817187 \nL 132.396185 129.021092 \nL 142.140364 127.963297 \nL 151.884543 133.21503 \nL 161.628722 132.018725 \n\" clip-path=\"url(#pb214505813)\" style=\"fill: none; stroke: #1f77b4; stroke-width: 1.5; stroke-linecap: square\"/>\n   </g>\n   <g id=\"line2d_87\">\n    <path d=\"M 49.633125 91.598833 \nL 69.163125 85.780964 \nL 88.693125 95.666961 \nL 108.223125 101.625002 \nL 127.753125 59.228513 \nL 147.283125 102.696564 \nL 166.813125 92.252101 \n\" clip-path=\"url(#pb214505813)\" style=\"fill: none; stroke-dasharray: 5.55,2.4; stroke-dashoffset: 0; stroke: #ff7f0e; stroke-width: 1.5\"/>\n   </g>\n   <g id=\"line2d_88\">\n    <path d=\"M 49.633125 19.784312 \nL 69.163125 21.460129 \nL 88.693125 18.415729 \nL 108.223125 15.776317 \nL 127.753125 26.208275 \nL 147.283125 14.491525 \n\" clip-path=\"url(#pb214505813)\" style=\"fill: none; stroke-dasharray: 9.6,2.4,1.5,2.4; stroke-dashoffset: 0; stroke: #2ca02c; stroke-width: 1.5\"/>\n   </g>\n   <g id=\"line2d_89\">\n    <path d=\"M 34.954394 61.895367 \nL 44.698573 92.82978 \nL 54.442752 102.823659 \nL 64.186931 105.589737 \nL 73.93111 112.056116 \nL 83.675289 113.243678 \nL 93.419468 119.027921 \nL 103.163647 118.810274 \nL 112.907826 124.818265 \nL 122.652006 123.817187 \nL 132.396185 129.021092 \nL 142.140364 127.963297 \nL 151.884543 133.21503 \nL 161.628722 132.018725 \n\" clip-path=\"url(#pb214505813)\" style=\"fill: none; stroke: #1f77b4; stroke-width: 1.5; stroke-linecap: square\"/>\n   </g>\n   <g id=\"line2d_90\">\n    <path d=\"M 49.633125 91.598833 \nL 69.163125 85.780964 \nL 88.693125 95.666961 \nL 108.223125 101.625002 \nL 127.753125 59.228513 \nL 147.283125 102.696564 \nL 166.813125 92.252101 \n\" clip-path=\"url(#pb214505813)\" style=\"fill: none; stroke-dasharray: 5.55,2.4; stroke-dashoffset: 0; stroke: #ff7f0e; stroke-width: 1.5\"/>\n   </g>\n   <g id=\"line2d_91\">\n    <path d=\"M 49.633125 19.784312 \nL 69.163125 21.460129 \nL 88.693125 18.415729 \nL 108.223125 15.776317 \nL 127.753125 26.208275 \nL 147.283125 14.491525 \nL 166.813125 16.041655 \n\" clip-path=\"url(#pb214505813)\" style=\"fill: none; stroke-dasharray: 9.6,2.4,1.5,2.4; stroke-dashoffset: 0; stroke: #2ca02c; stroke-width: 1.5\"/>\n   </g>\n   <g id=\"line2d_92\">\n    <path d=\"M 34.954394 61.895367 \nL 44.698573 92.82978 \nL 54.442752 102.823659 \nL 64.186931 105.589737 \nL 73.93111 112.056116 \nL 83.675289 113.243678 \nL 93.419468 119.027921 \nL 103.163647 118.810274 \nL 112.907826 124.818265 \nL 122.652006 123.817187 \nL 132.396185 129.021092 \nL 142.140364 127.963297 \nL 151.884543 133.21503 \nL 161.628722 132.018725 \nL 171.372901 135.231441 \n\" clip-path=\"url(#pb214505813)\" style=\"fill: none; stroke: #1f77b4; stroke-width: 1.5; stroke-linecap: square\"/>\n   </g>\n   <g id=\"line2d_93\">\n    <path d=\"M 49.633125 91.598833 \nL 69.163125 85.780964 \nL 88.693125 95.666961 \nL 108.223125 101.625002 \nL 127.753125 59.228513 \nL 147.283125 102.696564 \nL 166.813125 92.252101 \n\" clip-path=\"url(#pb214505813)\" style=\"fill: none; stroke-dasharray: 5.55,2.4; stroke-dashoffset: 0; stroke: #ff7f0e; stroke-width: 1.5\"/>\n   </g>\n   <g id=\"line2d_94\">\n    <path d=\"M 49.633125 19.784312 \nL 69.163125 21.460129 \nL 88.693125 18.415729 \nL 108.223125 15.776317 \nL 127.753125 26.208275 \nL 147.283125 14.491525 \nL 166.813125 16.041655 \n\" clip-path=\"url(#pb214505813)\" style=\"fill: none; stroke-dasharray: 9.6,2.4,1.5,2.4; stroke-dashoffset: 0; stroke: #2ca02c; stroke-width: 1.5\"/>\n   </g>\n   <g id=\"line2d_95\">\n    <path d=\"M 34.954394 61.895367 \nL 44.698573 92.82978 \nL 54.442752 102.823659 \nL 64.186931 105.589737 \nL 73.93111 112.056116 \nL 83.675289 113.243678 \nL 93.419468 119.027921 \nL 103.163647 118.810274 \nL 112.907826 124.818265 \nL 122.652006 123.817187 \nL 132.396185 129.021092 \nL 142.140364 127.963297 \nL 151.884543 133.21503 \nL 161.628722 132.018725 \nL 171.372901 135.231441 \nL 181.11708 135.024282 \n\" clip-path=\"url(#pb214505813)\" style=\"fill: none; stroke: #1f77b4; stroke-width: 1.5; stroke-linecap: square\"/>\n   </g>\n   <g id=\"line2d_96\">\n    <path d=\"M 49.633125 91.598833 \nL 69.163125 85.780964 \nL 88.693125 95.666961 \nL 108.223125 101.625002 \nL 127.753125 59.228513 \nL 147.283125 102.696564 \nL 166.813125 92.252101 \n\" clip-path=\"url(#pb214505813)\" style=\"fill: none; stroke-dasharray: 5.55,2.4; stroke-dashoffset: 0; stroke: #ff7f0e; stroke-width: 1.5\"/>\n   </g>\n   <g id=\"line2d_97\">\n    <path d=\"M 49.633125 19.784312 \nL 69.163125 21.460129 \nL 88.693125 18.415729 \nL 108.223125 15.776317 \nL 127.753125 26.208275 \nL 147.283125 14.491525 \nL 166.813125 16.041655 \n\" clip-path=\"url(#pb214505813)\" style=\"fill: none; stroke-dasharray: 9.6,2.4,1.5,2.4; stroke-dashoffset: 0; stroke: #2ca02c; stroke-width: 1.5\"/>\n   </g>\n   <g id=\"line2d_98\">\n    <path d=\"M 34.954394 61.895367 \nL 44.698573 92.82978 \nL 54.442752 102.823659 \nL 64.186931 105.589737 \nL 73.93111 112.056116 \nL 83.675289 113.243678 \nL 93.419468 119.027921 \nL 103.163647 118.810274 \nL 112.907826 124.818265 \nL 122.652006 123.817187 \nL 132.396185 129.021092 \nL 142.140364 127.963297 \nL 151.884543 133.21503 \nL 161.628722 132.018725 \nL 171.372901 135.231441 \nL 181.11708 135.024282 \n\" clip-path=\"url(#pb214505813)\" style=\"fill: none; stroke: #1f77b4; stroke-width: 1.5; stroke-linecap: square\"/>\n   </g>\n   <g id=\"line2d_99\">\n    <path d=\"M 49.633125 91.598833 \nL 69.163125 85.780964 \nL 88.693125 95.666961 \nL 108.223125 101.625002 \nL 127.753125 59.228513 \nL 147.283125 102.696564 \nL 166.813125 92.252101 \nL 186.343125 101.416668 \n\" clip-path=\"url(#pb214505813)\" style=\"fill: none; stroke-dasharray: 5.55,2.4; stroke-dashoffset: 0; stroke: #ff7f0e; stroke-width: 1.5\"/>\n   </g>\n   <g id=\"line2d_100\">\n    <path d=\"M 49.633125 19.784312 \nL 69.163125 21.460129 \nL 88.693125 18.415729 \nL 108.223125 15.776317 \nL 127.753125 26.208275 \nL 147.283125 14.491525 \nL 166.813125 16.041655 \n\" clip-path=\"url(#pb214505813)\" style=\"fill: none; stroke-dasharray: 9.6,2.4,1.5,2.4; stroke-dashoffset: 0; stroke: #2ca02c; stroke-width: 1.5\"/>\n   </g>\n   <g id=\"line2d_101\">\n    <path d=\"M 34.954394 61.895367 \nL 44.698573 92.82978 \nL 54.442752 102.823659 \nL 64.186931 105.589737 \nL 73.93111 112.056116 \nL 83.675289 113.243678 \nL 93.419468 119.027921 \nL 103.163647 118.810274 \nL 112.907826 124.818265 \nL 122.652006 123.817187 \nL 132.396185 129.021092 \nL 142.140364 127.963297 \nL 151.884543 133.21503 \nL 161.628722 132.018725 \nL 171.372901 135.231441 \nL 181.11708 135.024282 \n\" clip-path=\"url(#pb214505813)\" style=\"fill: none; stroke: #1f77b4; stroke-width: 1.5; stroke-linecap: square\"/>\n   </g>\n   <g id=\"line2d_102\">\n    <path d=\"M 49.633125 91.598833 \nL 69.163125 85.780964 \nL 88.693125 95.666961 \nL 108.223125 101.625002 \nL 127.753125 59.228513 \nL 147.283125 102.696564 \nL 166.813125 92.252101 \nL 186.343125 101.416668 \n\" clip-path=\"url(#pb214505813)\" style=\"fill: none; stroke-dasharray: 5.55,2.4; stroke-dashoffset: 0; stroke: #ff7f0e; stroke-width: 1.5\"/>\n   </g>\n   <g id=\"line2d_103\">\n    <path d=\"M 49.633125 19.784312 \nL 69.163125 21.460129 \nL 88.693125 18.415729 \nL 108.223125 15.776317 \nL 127.753125 26.208275 \nL 147.283125 14.491525 \nL 166.813125 16.041655 \nL 186.343125 13.807233 \n\" clip-path=\"url(#pb214505813)\" style=\"fill: none; stroke-dasharray: 9.6,2.4,1.5,2.4; stroke-dashoffset: 0; stroke: #2ca02c; stroke-width: 1.5\"/>\n   </g>\n   <g id=\"line2d_104\">\n    <path d=\"M 34.954394 61.895367 \nL 44.698573 92.82978 \nL 54.442752 102.823659 \nL 64.186931 105.589737 \nL 73.93111 112.056116 \nL 83.675289 113.243678 \nL 93.419468 119.027921 \nL 103.163647 118.810274 \nL 112.907826 124.818265 \nL 122.652006 123.817187 \nL 132.396185 129.021092 \nL 142.140364 127.963297 \nL 151.884543 133.21503 \nL 161.628722 132.018725 \nL 171.372901 135.231441 \nL 181.11708 135.024282 \nL 190.861259 138.038871 \n\" clip-path=\"url(#pb214505813)\" style=\"fill: none; stroke: #1f77b4; stroke-width: 1.5; stroke-linecap: square\"/>\n   </g>\n   <g id=\"line2d_105\">\n    <path d=\"M 49.633125 91.598833 \nL 69.163125 85.780964 \nL 88.693125 95.666961 \nL 108.223125 101.625002 \nL 127.753125 59.228513 \nL 147.283125 102.696564 \nL 166.813125 92.252101 \nL 186.343125 101.416668 \n\" clip-path=\"url(#pb214505813)\" style=\"fill: none; stroke-dasharray: 5.55,2.4; stroke-dashoffset: 0; stroke: #ff7f0e; stroke-width: 1.5\"/>\n   </g>\n   <g id=\"line2d_106\">\n    <path d=\"M 49.633125 19.784312 \nL 69.163125 21.460129 \nL 88.693125 18.415729 \nL 108.223125 15.776317 \nL 127.753125 26.208275 \nL 147.283125 14.491525 \nL 166.813125 16.041655 \nL 186.343125 13.807233 \n\" clip-path=\"url(#pb214505813)\" style=\"fill: none; stroke-dasharray: 9.6,2.4,1.5,2.4; stroke-dashoffset: 0; stroke: #2ca02c; stroke-width: 1.5\"/>\n   </g>\n   <g id=\"line2d_107\">\n    <path d=\"M 34.954394 61.895367 \nL 44.698573 92.82978 \nL 54.442752 102.823659 \nL 64.186931 105.589737 \nL 73.93111 112.056116 \nL 83.675289 113.243678 \nL 93.419468 119.027921 \nL 103.163647 118.810274 \nL 112.907826 124.818265 \nL 122.652006 123.817187 \nL 132.396185 129.021092 \nL 142.140364 127.963297 \nL 151.884543 133.21503 \nL 161.628722 132.018725 \nL 171.372901 135.231441 \nL 181.11708 135.024282 \nL 190.861259 138.038871 \nL 200.605438 137.292595 \n\" clip-path=\"url(#pb214505813)\" style=\"fill: none; stroke: #1f77b4; stroke-width: 1.5; stroke-linecap: square\"/>\n   </g>\n   <g id=\"line2d_108\">\n    <path d=\"M 49.633125 91.598833 \nL 69.163125 85.780964 \nL 88.693125 95.666961 \nL 108.223125 101.625002 \nL 127.753125 59.228513 \nL 147.283125 102.696564 \nL 166.813125 92.252101 \nL 186.343125 101.416668 \n\" clip-path=\"url(#pb214505813)\" style=\"fill: none; stroke-dasharray: 5.55,2.4; stroke-dashoffset: 0; stroke: #ff7f0e; stroke-width: 1.5\"/>\n   </g>\n   <g id=\"line2d_109\">\n    <path d=\"M 49.633125 19.784312 \nL 69.163125 21.460129 \nL 88.693125 18.415729 \nL 108.223125 15.776317 \nL 127.753125 26.208275 \nL 147.283125 14.491525 \nL 166.813125 16.041655 \nL 186.343125 13.807233 \n\" clip-path=\"url(#pb214505813)\" style=\"fill: none; stroke-dasharray: 9.6,2.4,1.5,2.4; stroke-dashoffset: 0; stroke: #2ca02c; stroke-width: 1.5\"/>\n   </g>\n   <g id=\"line2d_110\">\n    <path d=\"M 34.954394 61.895367 \nL 44.698573 92.82978 \nL 54.442752 102.823659 \nL 64.186931 105.589737 \nL 73.93111 112.056116 \nL 83.675289 113.243678 \nL 93.419468 119.027921 \nL 103.163647 118.810274 \nL 112.907826 124.818265 \nL 122.652006 123.817187 \nL 132.396185 129.021092 \nL 142.140364 127.963297 \nL 151.884543 133.21503 \nL 161.628722 132.018725 \nL 171.372901 135.231441 \nL 181.11708 135.024282 \nL 190.861259 138.038871 \nL 200.605438 137.292595 \n\" clip-path=\"url(#pb214505813)\" style=\"fill: none; stroke: #1f77b4; stroke-width: 1.5; stroke-linecap: square\"/>\n   </g>\n   <g id=\"line2d_111\">\n    <path d=\"M 49.633125 91.598833 \nL 69.163125 85.780964 \nL 88.693125 95.666961 \nL 108.223125 101.625002 \nL 127.753125 59.228513 \nL 147.283125 102.696564 \nL 166.813125 92.252101 \nL 186.343125 101.416668 \nL 205.873125 86.371722 \n\" clip-path=\"url(#pb214505813)\" style=\"fill: none; stroke-dasharray: 5.55,2.4; stroke-dashoffset: 0; stroke: #ff7f0e; stroke-width: 1.5\"/>\n   </g>\n   <g id=\"line2d_112\">\n    <path d=\"M 49.633125 19.784312 \nL 69.163125 21.460129 \nL 88.693125 18.415729 \nL 108.223125 15.776317 \nL 127.753125 26.208275 \nL 147.283125 14.491525 \nL 166.813125 16.041655 \nL 186.343125 13.807233 \n\" clip-path=\"url(#pb214505813)\" style=\"fill: none; stroke-dasharray: 9.6,2.4,1.5,2.4; stroke-dashoffset: 0; stroke: #2ca02c; stroke-width: 1.5\"/>\n   </g>\n   <g id=\"line2d_113\">\n    <path d=\"M 34.954394 61.895367 \nL 44.698573 92.82978 \nL 54.442752 102.823659 \nL 64.186931 105.589737 \nL 73.93111 112.056116 \nL 83.675289 113.243678 \nL 93.419468 119.027921 \nL 103.163647 118.810274 \nL 112.907826 124.818265 \nL 122.652006 123.817187 \nL 132.396185 129.021092 \nL 142.140364 127.963297 \nL 151.884543 133.21503 \nL 161.628722 132.018725 \nL 171.372901 135.231441 \nL 181.11708 135.024282 \nL 190.861259 138.038871 \nL 200.605438 137.292595 \n\" clip-path=\"url(#pb214505813)\" style=\"fill: none; stroke: #1f77b4; stroke-width: 1.5; stroke-linecap: square\"/>\n   </g>\n   <g id=\"line2d_114\">\n    <path d=\"M 49.633125 91.598833 \nL 69.163125 85.780964 \nL 88.693125 95.666961 \nL 108.223125 101.625002 \nL 127.753125 59.228513 \nL 147.283125 102.696564 \nL 166.813125 92.252101 \nL 186.343125 101.416668 \nL 205.873125 86.371722 \n\" clip-path=\"url(#pb214505813)\" style=\"fill: none; stroke-dasharray: 5.55,2.4; stroke-dashoffset: 0; stroke: #ff7f0e; stroke-width: 1.5\"/>\n   </g>\n   <g id=\"line2d_115\">\n    <path d=\"M 49.633125 19.784312 \nL 69.163125 21.460129 \nL 88.693125 18.415729 \nL 108.223125 15.776317 \nL 127.753125 26.208275 \nL 147.283125 14.491525 \nL 166.813125 16.041655 \nL 186.343125 13.807233 \nL 205.873125 16.139411 \n\" clip-path=\"url(#pb214505813)\" style=\"fill: none; stroke-dasharray: 9.6,2.4,1.5,2.4; stroke-dashoffset: 0; stroke: #2ca02c; stroke-width: 1.5\"/>\n   </g>\n   <g id=\"line2d_116\">\n    <path d=\"M 34.954394 61.895367 \nL 44.698573 92.82978 \nL 54.442752 102.823659 \nL 64.186931 105.589737 \nL 73.93111 112.056116 \nL 83.675289 113.243678 \nL 93.419468 119.027921 \nL 103.163647 118.810274 \nL 112.907826 124.818265 \nL 122.652006 123.817187 \nL 132.396185 129.021092 \nL 142.140364 127.963297 \nL 151.884543 133.21503 \nL 161.628722 132.018725 \nL 171.372901 135.231441 \nL 181.11708 135.024282 \nL 190.861259 138.038871 \nL 200.605438 137.292595 \nL 210.349618 139.5 \n\" clip-path=\"url(#pb214505813)\" style=\"fill: none; stroke: #1f77b4; stroke-width: 1.5; stroke-linecap: square\"/>\n   </g>\n   <g id=\"line2d_117\">\n    <path d=\"M 49.633125 91.598833 \nL 69.163125 85.780964 \nL 88.693125 95.666961 \nL 108.223125 101.625002 \nL 127.753125 59.228513 \nL 147.283125 102.696564 \nL 166.813125 92.252101 \nL 186.343125 101.416668 \nL 205.873125 86.371722 \n\" clip-path=\"url(#pb214505813)\" style=\"fill: none; stroke-dasharray: 5.55,2.4; stroke-dashoffset: 0; stroke: #ff7f0e; stroke-width: 1.5\"/>\n   </g>\n   <g id=\"line2d_118\">\n    <path d=\"M 49.633125 19.784312 \nL 69.163125 21.460129 \nL 88.693125 18.415729 \nL 108.223125 15.776317 \nL 127.753125 26.208275 \nL 147.283125 14.491525 \nL 166.813125 16.041655 \nL 186.343125 13.807233 \nL 205.873125 16.139411 \n\" clip-path=\"url(#pb214505813)\" style=\"fill: none; stroke-dasharray: 9.6,2.4,1.5,2.4; stroke-dashoffset: 0; stroke: #2ca02c; stroke-width: 1.5\"/>\n   </g>\n   <g id=\"line2d_119\">\n    <path d=\"M 34.954394 61.895367 \nL 44.698573 92.82978 \nL 54.442752 102.823659 \nL 64.186931 105.589737 \nL 73.93111 112.056116 \nL 83.675289 113.243678 \nL 93.419468 119.027921 \nL 103.163647 118.810274 \nL 112.907826 124.818265 \nL 122.652006 123.817187 \nL 132.396185 129.021092 \nL 142.140364 127.963297 \nL 151.884543 133.21503 \nL 161.628722 132.018725 \nL 171.372901 135.231441 \nL 181.11708 135.024282 \nL 190.861259 138.038871 \nL 200.605438 137.292595 \nL 210.349618 139.5 \nL 220.093797 139.288969 \n\" clip-path=\"url(#pb214505813)\" style=\"fill: none; stroke: #1f77b4; stroke-width: 1.5; stroke-linecap: square\"/>\n   </g>\n   <g id=\"line2d_120\">\n    <path d=\"M 49.633125 91.598833 \nL 69.163125 85.780964 \nL 88.693125 95.666961 \nL 108.223125 101.625002 \nL 127.753125 59.228513 \nL 147.283125 102.696564 \nL 166.813125 92.252101 \nL 186.343125 101.416668 \nL 205.873125 86.371722 \n\" clip-path=\"url(#pb214505813)\" style=\"fill: none; stroke-dasharray: 5.55,2.4; stroke-dashoffset: 0; stroke: #ff7f0e; stroke-width: 1.5\"/>\n   </g>\n   <g id=\"line2d_121\">\n    <path d=\"M 49.633125 19.784312 \nL 69.163125 21.460129 \nL 88.693125 18.415729 \nL 108.223125 15.776317 \nL 127.753125 26.208275 \nL 147.283125 14.491525 \nL 166.813125 16.041655 \nL 186.343125 13.807233 \nL 205.873125 16.139411 \n\" clip-path=\"url(#pb214505813)\" style=\"fill: none; stroke-dasharray: 9.6,2.4,1.5,2.4; stroke-dashoffset: 0; stroke: #2ca02c; stroke-width: 1.5\"/>\n   </g>\n   <g id=\"line2d_122\">\n    <path d=\"M 34.954394 61.895367 \nL 44.698573 92.82978 \nL 54.442752 102.823659 \nL 64.186931 105.589737 \nL 73.93111 112.056116 \nL 83.675289 113.243678 \nL 93.419468 119.027921 \nL 103.163647 118.810274 \nL 112.907826 124.818265 \nL 122.652006 123.817187 \nL 132.396185 129.021092 \nL 142.140364 127.963297 \nL 151.884543 133.21503 \nL 161.628722 132.018725 \nL 171.372901 135.231441 \nL 181.11708 135.024282 \nL 190.861259 138.038871 \nL 200.605438 137.292595 \nL 210.349618 139.5 \nL 220.093797 139.288969 \n\" clip-path=\"url(#pb214505813)\" style=\"fill: none; stroke: #1f77b4; stroke-width: 1.5; stroke-linecap: square\"/>\n   </g>\n   <g id=\"line2d_123\">\n    <path d=\"M 49.633125 91.598833 \nL 69.163125 85.780964 \nL 88.693125 95.666961 \nL 108.223125 101.625002 \nL 127.753125 59.228513 \nL 147.283125 102.696564 \nL 166.813125 92.252101 \nL 186.343125 101.416668 \nL 205.873125 86.371722 \nL 225.403125 96.268177 \n\" clip-path=\"url(#pb214505813)\" style=\"fill: none; stroke-dasharray: 5.55,2.4; stroke-dashoffset: 0; stroke: #ff7f0e; stroke-width: 1.5\"/>\n   </g>\n   <g id=\"line2d_124\">\n    <path d=\"M 49.633125 19.784312 \nL 69.163125 21.460129 \nL 88.693125 18.415729 \nL 108.223125 15.776317 \nL 127.753125 26.208275 \nL 147.283125 14.491525 \nL 166.813125 16.041655 \nL 186.343125 13.807233 \nL 205.873125 16.139411 \n\" clip-path=\"url(#pb214505813)\" style=\"fill: none; stroke-dasharray: 9.6,2.4,1.5,2.4; stroke-dashoffset: 0; stroke: #2ca02c; stroke-width: 1.5\"/>\n   </g>\n   <g id=\"line2d_125\">\n    <path d=\"M 34.954394 61.895367 \nL 44.698573 92.82978 \nL 54.442752 102.823659 \nL 64.186931 105.589737 \nL 73.93111 112.056116 \nL 83.675289 113.243678 \nL 93.419468 119.027921 \nL 103.163647 118.810274 \nL 112.907826 124.818265 \nL 122.652006 123.817187 \nL 132.396185 129.021092 \nL 142.140364 127.963297 \nL 151.884543 133.21503 \nL 161.628722 132.018725 \nL 171.372901 135.231441 \nL 181.11708 135.024282 \nL 190.861259 138.038871 \nL 200.605438 137.292595 \nL 210.349618 139.5 \nL 220.093797 139.288969 \n\" clip-path=\"url(#pb214505813)\" style=\"fill: none; stroke: #1f77b4; stroke-width: 1.5; stroke-linecap: square\"/>\n   </g>\n   <g id=\"line2d_126\">\n    <path d=\"M 49.633125 91.598833 \nL 69.163125 85.780964 \nL 88.693125 95.666961 \nL 108.223125 101.625002 \nL 127.753125 59.228513 \nL 147.283125 102.696564 \nL 166.813125 92.252101 \nL 186.343125 101.416668 \nL 205.873125 86.371722 \nL 225.403125 96.268177 \n\" clip-path=\"url(#pb214505813)\" style=\"fill: none; stroke-dasharray: 5.55,2.4; stroke-dashoffset: 0; stroke: #ff7f0e; stroke-width: 1.5\"/>\n   </g>\n   <g id=\"line2d_127\">\n    <path d=\"M 49.633125 19.784312 \nL 69.163125 21.460129 \nL 88.693125 18.415729 \nL 108.223125 15.776317 \nL 127.753125 26.208275 \nL 147.283125 14.491525 \nL 166.813125 16.041655 \nL 186.343125 13.807233 \nL 205.873125 16.139411 \nL 225.403125 13.5 \n\" clip-path=\"url(#pb214505813)\" style=\"fill: none; stroke-dasharray: 9.6,2.4,1.5,2.4; stroke-dashoffset: 0; stroke: #2ca02c; stroke-width: 1.5\"/>\n   </g>\n   <g id=\"patch_3\">\n    <path d=\"M 30.103125 145.8 \nL 30.103125 7.2 \n\" style=\"fill: none; stroke: #000000; stroke-width: 0.8; stroke-linejoin: miter; stroke-linecap: square\"/>\n   </g>\n   <g id=\"patch_4\">\n    <path d=\"M 225.403125 145.8 \nL 225.403125 7.2 \n\" style=\"fill: none; stroke: #000000; stroke-width: 0.8; stroke-linejoin: miter; stroke-linecap: square\"/>\n   </g>\n   <g id=\"patch_5\">\n    <path d=\"M 30.103125 145.8 \nL 225.403125 145.8 \n\" style=\"fill: none; stroke: #000000; stroke-width: 0.8; stroke-linejoin: miter; stroke-linecap: square\"/>\n   </g>\n   <g id=\"patch_6\">\n    <path d=\"M 30.103125 7.2 \nL 225.403125 7.2 \n\" style=\"fill: none; stroke: #000000; stroke-width: 0.8; stroke-linejoin: miter; stroke-linecap: square\"/>\n   </g>\n   <g id=\"legend_1\">\n    <g id=\"patch_7\">\n     <path d=\"M 138.8125 100.434375 \nL 218.403125 100.434375 \nQ 220.403125 100.434375 220.403125 98.434375 \nL 220.403125 54.565625 \nQ 220.403125 52.565625 218.403125 52.565625 \nL 138.8125 52.565625 \nQ 136.8125 52.565625 136.8125 54.565625 \nL 136.8125 98.434375 \nQ 136.8125 100.434375 138.8125 100.434375 \nz\n\" style=\"fill: #ffffff; opacity: 0.8; stroke: #cccccc; stroke-linejoin: miter\"/>\n    </g>\n    <g id=\"line2d_128\">\n     <path d=\"M 140.8125 60.664063 \nL 150.8125 60.664063 \nL 160.8125 60.664063 \n\" style=\"fill: none; stroke: #1f77b4; stroke-width: 1.5; stroke-linecap: square\"/>\n    </g>\n    <g id=\"text_13\">\n     <!-- train_loss -->\n     <g transform=\"translate(168.8125 64.164063) scale(0.1 -0.1)\">\n      <defs>\n       <path id=\"DejaVuSans-74\" d=\"M 1172 4494 \nL 1172 3500 \nL 2356 3500 \nL 2356 3053 \nL 1172 3053 \nL 1172 1153 \nQ 1172 725 1289 603 \nQ 1406 481 1766 481 \nL 2356 481 \nL 2356 0 \nL 1766 0 \nQ 1100 0 847 248 \nQ 594 497 594 1153 \nL 594 3053 \nL 172 3053 \nL 172 3500 \nL 594 3500 \nL 594 4494 \nL 1172 4494 \nz\n\" transform=\"scale(0.015625)\"/>\n       <path id=\"DejaVuSans-72\" d=\"M 2631 2963 \nQ 2534 3019 2420 3045 \nQ 2306 3072 2169 3072 \nQ 1681 3072 1420 2755 \nQ 1159 2438 1159 1844 \nL 1159 0 \nL 581 0 \nL 581 3500 \nL 1159 3500 \nL 1159 2956 \nQ 1341 3275 1631 3429 \nQ 1922 3584 2338 3584 \nQ 2397 3584 2469 3576 \nQ 2541 3569 2628 3553 \nL 2631 2963 \nz\n\" transform=\"scale(0.015625)\"/>\n       <path id=\"DejaVuSans-61\" d=\"M 2194 1759 \nQ 1497 1759 1228 1600 \nQ 959 1441 959 1056 \nQ 959 750 1161 570 \nQ 1363 391 1709 391 \nQ 2188 391 2477 730 \nQ 2766 1069 2766 1631 \nL 2766 1759 \nL 2194 1759 \nz\nM 3341 1997 \nL 3341 0 \nL 2766 0 \nL 2766 531 \nQ 2569 213 2275 61 \nQ 1981 -91 1556 -91 \nQ 1019 -91 701 211 \nQ 384 513 384 1019 \nQ 384 1609 779 1909 \nQ 1175 2209 1959 2209 \nL 2766 2209 \nL 2766 2266 \nQ 2766 2663 2505 2880 \nQ 2244 3097 1772 3097 \nQ 1472 3097 1187 3025 \nQ 903 2953 641 2809 \nL 641 3341 \nQ 956 3463 1253 3523 \nQ 1550 3584 1831 3584 \nQ 2591 3584 2966 3190 \nQ 3341 2797 3341 1997 \nz\n\" transform=\"scale(0.015625)\"/>\n       <path id=\"DejaVuSans-69\" d=\"M 603 3500 \nL 1178 3500 \nL 1178 0 \nL 603 0 \nL 603 3500 \nz\nM 603 4863 \nL 1178 4863 \nL 1178 4134 \nL 603 4134 \nL 603 4863 \nz\n\" transform=\"scale(0.015625)\"/>\n       <path id=\"DejaVuSans-6e\" d=\"M 3513 2113 \nL 3513 0 \nL 2938 0 \nL 2938 2094 \nQ 2938 2591 2744 2837 \nQ 2550 3084 2163 3084 \nQ 1697 3084 1428 2787 \nQ 1159 2491 1159 1978 \nL 1159 0 \nL 581 0 \nL 581 3500 \nL 1159 3500 \nL 1159 2956 \nQ 1366 3272 1645 3428 \nQ 1925 3584 2291 3584 \nQ 2894 3584 3203 3211 \nQ 3513 2838 3513 2113 \nz\n\" transform=\"scale(0.015625)\"/>\n       <path id=\"DejaVuSans-5f\" d=\"M 3263 -1063 \nL 3263 -1509 \nL -63 -1509 \nL -63 -1063 \nL 3263 -1063 \nz\n\" transform=\"scale(0.015625)\"/>\n       <path id=\"DejaVuSans-6c\" d=\"M 603 4863 \nL 1178 4863 \nL 1178 0 \nL 603 0 \nL 603 4863 \nz\n\" transform=\"scale(0.015625)\"/>\n       <path id=\"DejaVuSans-73\" d=\"M 2834 3397 \nL 2834 2853 \nQ 2591 2978 2328 3040 \nQ 2066 3103 1784 3103 \nQ 1356 3103 1142 2972 \nQ 928 2841 928 2578 \nQ 928 2378 1081 2264 \nQ 1234 2150 1697 2047 \nL 1894 2003 \nQ 2506 1872 2764 1633 \nQ 3022 1394 3022 966 \nQ 3022 478 2636 193 \nQ 2250 -91 1575 -91 \nQ 1294 -91 989 -36 \nQ 684 19 347 128 \nL 347 722 \nQ 666 556 975 473 \nQ 1284 391 1588 391 \nQ 1994 391 2212 530 \nQ 2431 669 2431 922 \nQ 2431 1156 2273 1281 \nQ 2116 1406 1581 1522 \nL 1381 1569 \nQ 847 1681 609 1914 \nQ 372 2147 372 2553 \nQ 372 3047 722 3315 \nQ 1072 3584 1716 3584 \nQ 2034 3584 2315 3537 \nQ 2597 3491 2834 3397 \nz\n\" transform=\"scale(0.015625)\"/>\n      </defs>\n      <use xlink:href=\"#DejaVuSans-74\"/>\n      <use xlink:href=\"#DejaVuSans-72\" x=\"39.208984\"/>\n      <use xlink:href=\"#DejaVuSans-61\" x=\"80.322266\"/>\n      <use xlink:href=\"#DejaVuSans-69\" x=\"141.601562\"/>\n      <use xlink:href=\"#DejaVuSans-6e\" x=\"169.384766\"/>\n      <use xlink:href=\"#DejaVuSans-5f\" x=\"232.763672\"/>\n      <use xlink:href=\"#DejaVuSans-6c\" x=\"282.763672\"/>\n      <use xlink:href=\"#DejaVuSans-6f\" x=\"310.546875\"/>\n      <use xlink:href=\"#DejaVuSans-73\" x=\"371.728516\"/>\n      <use xlink:href=\"#DejaVuSans-73\" x=\"423.828125\"/>\n     </g>\n    </g>\n    <g id=\"line2d_129\">\n     <path d=\"M 140.8125 75.620313 \nL 150.8125 75.620313 \nL 160.8125 75.620313 \n\" style=\"fill: none; stroke-dasharray: 5.55,2.4; stroke-dashoffset: 0; stroke: #ff7f0e; stroke-width: 1.5\"/>\n    </g>\n    <g id=\"text_14\">\n     <!-- val_loss -->\n     <g transform=\"translate(168.8125 79.120313) scale(0.1 -0.1)\">\n      <defs>\n       <path id=\"DejaVuSans-76\" d=\"M 191 3500 \nL 800 3500 \nL 1894 563 \nL 2988 3500 \nL 3597 3500 \nL 2284 0 \nL 1503 0 \nL 191 3500 \nz\n\" transform=\"scale(0.015625)\"/>\n      </defs>\n      <use xlink:href=\"#DejaVuSans-76\"/>\n      <use xlink:href=\"#DejaVuSans-61\" x=\"59.179688\"/>\n      <use xlink:href=\"#DejaVuSans-6c\" x=\"120.458984\"/>\n      <use xlink:href=\"#DejaVuSans-5f\" x=\"148.242188\"/>\n      <use xlink:href=\"#DejaVuSans-6c\" x=\"198.242188\"/>\n      <use xlink:href=\"#DejaVuSans-6f\" x=\"226.025391\"/>\n      <use xlink:href=\"#DejaVuSans-73\" x=\"287.207031\"/>\n      <use xlink:href=\"#DejaVuSans-73\" x=\"339.306641\"/>\n     </g>\n    </g>\n    <g id=\"line2d_130\">\n     <path d=\"M 140.8125 90.576563 \nL 150.8125 90.576563 \nL 160.8125 90.576563 \n\" style=\"fill: none; stroke-dasharray: 9.6,2.4,1.5,2.4; stroke-dashoffset: 0; stroke: #2ca02c; stroke-width: 1.5\"/>\n    </g>\n    <g id=\"text_15\">\n     <!-- val_acc -->\n     <g transform=\"translate(168.8125 94.076563) scale(0.1 -0.1)\">\n      <use xlink:href=\"#DejaVuSans-76\"/>\n      <use xlink:href=\"#DejaVuSans-61\" x=\"59.179688\"/>\n      <use xlink:href=\"#DejaVuSans-6c\" x=\"120.458984\"/>\n      <use xlink:href=\"#DejaVuSans-5f\" x=\"148.242188\"/>\n      <use xlink:href=\"#DejaVuSans-61\" x=\"198.242188\"/>\n      <use xlink:href=\"#DejaVuSans-63\" x=\"259.521484\"/>\n      <use xlink:href=\"#DejaVuSans-63\" x=\"314.501953\"/>\n     </g>\n    </g>\n   </g>\n  </g>\n </g>\n <defs>\n  <clipPath id=\"pb214505813\">\n   <rect x=\"30.103125\" y=\"7.2\" width=\"195.3\" height=\"138.6\"/>\n  </clipPath>\n </defs>\n</svg>\n"
          },
          "metadata": {}
        }
      ]
    },
    {
      "cell_type": "markdown",
      "source": [
        "## 8.6.5 ResNeXt"
      ],
      "metadata": {
        "id": "we-KoUREzjDq"
      },
      "id": "we-KoUREzjDq"
    },
    {
      "cell_type": "code",
      "source": [
        "class ResNeXtBlock(nn.Module):\n",
        "    \"\"\"The ResNeXt block.\"\"\"\n",
        "    def __init__(self, num_channels, groups, bot_mul, use_1x1conv=False,\n",
        "                 strides=1):\n",
        "        super().__init__()\n",
        "        bot_channels = int(round(num_channels * bot_mul))\n",
        "        self.conv1 = nn.LazyConv2d(bot_channels, kernel_size=1, stride=1)\n",
        "        self.conv2 = nn.LazyConv2d(bot_channels, kernel_size=3,\n",
        "                                   stride=strides, padding=1,\n",
        "                                   groups=bot_channels//groups)\n",
        "        self.conv3 = nn.LazyConv2d(num_channels, kernel_size=1, stride=1)\n",
        "        self.bn1 = nn.LazyBatchNorm2d()\n",
        "        self.bn2 = nn.LazyBatchNorm2d()\n",
        "        self.bn3 = nn.LazyBatchNorm2d()\n",
        "        if use_1x1conv:\n",
        "            self.conv4 = nn.LazyConv2d(num_channels, kernel_size=1,\n",
        "                                       stride=strides)\n",
        "            self.bn4 = nn.LazyBatchNorm2d()\n",
        "        else:\n",
        "            self.conv4 = None\n",
        "\n",
        "    def forward(self, X):\n",
        "        Y = F.relu(self.bn1(self.conv1(X)))\n",
        "        Y = F.relu(self.bn2(self.conv2(Y)))\n",
        "        Y = self.bn3(self.conv3(Y))\n",
        "        if self.conv4:\n",
        "            X = self.bn4(self.conv4(X))\n",
        "        return F.relu(Y + X)"
      ],
      "metadata": {
        "id": "AOuLDzKjzcVq"
      },
      "id": "AOuLDzKjzcVq",
      "execution_count": null,
      "outputs": []
    },
    {
      "cell_type": "code",
      "source": [
        "blk = ResNeXtBlock(32, 16, 1)\n",
        "X = torch.randn(4, 32, 96, 96)\n",
        "blk(X).shape"
      ],
      "metadata": {
        "colab": {
          "base_uri": "https://localhost:8080/"
        },
        "id": "-l5h-gXUzpXR",
        "outputId": "c6a198d0-de66-45cd-d038-45dc49458667"
      },
      "id": "-l5h-gXUzpXR",
      "execution_count": null,
      "outputs": [
        {
          "output_type": "execute_result",
          "data": {
            "text/plain": [
              "torch.Size([4, 32, 96, 96])"
            ]
          },
          "metadata": {},
          "execution_count": 42
        }
      ]
    },
    {
      "cell_type": "markdown",
      "source": [
        "## 8.6.7 Exercises\n",
        "\n",
        "1. What are the major differences between the Inception block in Fig. 8.4.1 and the residual block? How do they compare in terms of computation, accuracy, and the classes of functions they can describe?\n",
        "\n",
        "2. Refer to Table 1 in the ResNet paper (He et al., 2016) to implement different variants of the network.\n",
        "\n",
        "3. For deeper networks, ResNet introduces a “bottleneck” architecture to reduce model complexity. Try to implement it.\n",
        "\n",
        "4. In subsequent versions of ResNet, the authors changed the “convolution, batch normalization, and activation” structure to the “batch normalization, activation, and convolution” structure. Make this improvement yourself. See Figure 1 in He et al. (2016) for details.\n",
        "\n",
        "5. Why can’t we just increase the complexity of functions without bound, even if the function classes are nested?"
      ],
      "metadata": {
        "id": "3uGib7WUztC-"
      },
      "id": "3uGib7WUztC-"
    },
    {
      "cell_type": "markdown",
      "source": [
        "## Jawaban Exercises 8.6.7\n",
        "\n",
        "\n",
        "---\n",
        "\n"
      ],
      "metadata": {
        "id": "xdHcJ8gt0DKz"
      },
      "id": "xdHcJ8gt0DKz"
    },
    {
      "cell_type": "markdown",
      "source": [
        "**1. What Are the Major Differences Between the Inception Block and the Residual Block?**\n",
        "\n",
        "* **Inception Block:**\n",
        "\n",
        "  * **Komputasi:** Inception block menggunakan berbagai ukuran filter konvolusi secara paralel untuk menangkap fitur dengan skala yang berbeda.\n",
        "  * **Akurasi:** Inception dapat meningkatkan akurasi dengan menangkap informasi multi-skala.\n",
        "  * **Fungsi yang Dapat Digambarkan:**\n",
        "  Inception block sangat ekspresif karena menangkap berbagai representasi fitur yang berbeda menggunakan konvolusi dengan ukuran kernel yang berbeda. Ini memberikan jaringan kemampuan untuk fokus pada fitur lokal maupun global.\n",
        "\n",
        "* **Residual Block:**\n",
        "\n",
        "  * **Komputasi:** Residual block menambahkan shortcut (identitas) dari input ke output dari konvolusi, yang membantu dalam melatih jaringan yang sangat dalam.\n",
        "  * **Akurasi:** Residual block membantu dalam mengatasi masalah vanishing gradient, memungkinkan jaringan lebih dalam untuk mencapai akurasi yang lebih tinggi tanpa kehilangan performa selama pelatihan.\n",
        "  * **Fungsi yang Dapat Digambarkan:** Residual block memungkinkan jaringan untuk mempelajari perbedaan (residual) antara input dan output, sehingga lebih mudah untuk melatih jaringan yang lebih dalam."
      ],
      "metadata": {
        "id": "327ancna0KhU"
      },
      "id": "327ancna0KhU"
    },
    {
      "cell_type": "markdown",
      "source": [
        "**2. Refer to Table 1 in the ResNet Paper to Implement Different Variants of the Network**\n",
        "\n",
        "* **Implementasi Berbagai Varian ResNet**: Berdasarkan tabel di paper ResNet, kita dapat mengimplementasikan ResNet dengan lapisan yang lebih banyak atau menggunakan konfigurasi channel yang berbeda untuk varian seperti ResNet-18, ResNet-34, ResNet-50, dan seterusnya.\n",
        "\n",
        "Berikut adalah contoh implementasi dari ResNet-18 dengan residual block yang telah diimplementasikan sebelumnya:"
      ],
      "metadata": {
        "id": "hdwednzU0q_x"
      },
      "id": "hdwednzU0q_x"
    },
    {
      "cell_type": "code",
      "source": [
        "import torch.nn as nn\n",
        "\n",
        "class ResNet(nn.Module):\n",
        "    def __init__(self, block, layers, num_classes=1000):\n",
        "        super(ResNet, self).__init__()\n",
        "        self.conv1 = nn.Conv2d(3, 64, kernel_size=7, stride=2, padding=3, bias=False)\n",
        "        self.bn1 = nn.BatchNorm2d(64)\n",
        "        self.relu = nn.ReLU(inplace=True)\n",
        "        self.maxpool = nn.MaxPool2d(kernel_size=3, stride=2, padding=1)\n",
        "        self.layer1 = self._make_layer(block, 64, layers[0])\n",
        "        self.layer2 = self._make_layer(block, 128, layers[1], stride=2)\n",
        "        self.layer3 = self._make_layer(block, 256, layers[2], stride=2)\n",
        "        self.layer4 = self._make_layer(block, 512, layers[3], stride=2)\n",
        "        self.avgpool = nn.AdaptiveAvgPool2d((1, 1))\n",
        "        self.fc = nn.Linear(512, num_classes)\n",
        "\n",
        "    def _make_layer(self, block, planes, blocks, stride=1):\n",
        "        layers = []\n",
        "        layers.append(block(planes, use_1x1conv=True, strides=stride))\n",
        "        for _ in range(1, blocks):\n",
        "            layers.append(block(planes))\n",
        "        return nn.Sequential(*layers)\n",
        "\n",
        "    def forward(self, x):\n",
        "        x = self.conv1(x)\n",
        "        x = self.bn1(x)\n",
        "        x = self.relu(x)\n",
        "        x = self.maxpool(x)\n",
        "        x = self.layer1(x)\n",
        "        x = self.layer2(x)\n",
        "        x = self.layer3(x)\n",
        "        x = self.layer4(x)\n",
        "        x = self.avgpool(x)\n",
        "        x = torch.flatten(x, 1)\n",
        "        x = self.fc(x)\n",
        "        return x\n",
        "\n",
        "# Membuat ResNet-18\n",
        "def resnet18():\n",
        "    return ResNet(Residual, [2, 2, 2, 2])\n",
        "\n",
        "model = resnet18()\n"
      ],
      "metadata": {
        "id": "KpfmRsX002Kk"
      },
      "id": "KpfmRsX002Kk",
      "execution_count": null,
      "outputs": []
    },
    {
      "cell_type": "markdown",
      "source": [
        "**3. Implementasi Bottleneck Architecture untuk Deeper Networks**\n",
        "\n",
        "* **Bottleneck Block:** Bottleneck block digunakan pada ResNet-50 dan jaringan yang lebih dalam untuk mengurangi kompleksitas model dengan mengurangi jumlah channel terlebih dahulu, kemudian mengembalikannya.\n",
        "\n",
        "Berikut adalah contoh implementasi bottleneck block:"
      ],
      "metadata": {
        "id": "Vglrfuh5030J"
      },
      "id": "Vglrfuh5030J"
    },
    {
      "cell_type": "code",
      "source": [
        "class Bottleneck(nn.Module):\n",
        "    def __init__(self, in_channels, out_channels, stride=1):\n",
        "        super(Bottleneck, self).__init__()\n",
        "        self.conv1 = nn.Conv2d(in_channels, out_channels, kernel_size=1, bias=False)\n",
        "        self.bn1 = nn.BatchNorm2d(out_channels)\n",
        "        self.conv2 = nn.Conv2d(out_channels, out_channels, kernel_size=3, stride=stride, padding=1, bias=False)\n",
        "        self.bn2 = nn.BatchNorm2d(out_channels)\n",
        "        self.conv3 = nn.Conv2d(out_channels, out_channels * 4, kernel_size=1, bias=False)\n",
        "        self.bn3 = nn.BatchNorm2d(out_channels * 4)\n",
        "\n",
        "        self.relu = nn.ReLU(inplace=True)\n",
        "        self.downsample = nn.Sequential()\n",
        "        if stride != 1 or in_channels != out_channels * 4:\n",
        "            self.downsample = nn.Sequential(\n",
        "                nn.Conv2d(in_channels, out_channels * 4, kernel_size=1, stride=stride, bias=False),\n",
        "                nn.BatchNorm2d(out_channels * 4)\n",
        "            )\n",
        "\n",
        "    def forward(self, x):\n",
        "        identity = x\n",
        "\n",
        "        out = self.conv1(x)\n",
        "        out = self.bn1(out)\n",
        "        out = self.relu(out)\n",
        "\n",
        "        out = self.conv2(out)\n",
        "        out = self.bn2(out)\n",
        "        out = self.relu(out)\n",
        "\n",
        "        out = self.conv3(out)\n",
        "        out = self.bn3(out)\n",
        "\n",
        "        if self.downsample is not None:\n",
        "            identity = self.downsample(x)\n",
        "\n",
        "        out += identity\n",
        "        out = self.relu(out)\n",
        "\n",
        "        return out\n"
      ],
      "metadata": {
        "id": "hE7VOFvM1D6n"
      },
      "id": "hE7VOFvM1D6n",
      "execution_count": null,
      "outputs": []
    },
    {
      "cell_type": "markdown",
      "source": [
        "**4. Change the Structure to \"Batch Normalization, Activation, Convolution\"**\n",
        "\n",
        "**Jawaban:** Dalam ResNet versi selanjutnya, urutan diubah menjadi \"Batch Normalization, Activation, Convolution\" (sering disebut sebagai **pre-activation**). Perubahan ini membantu dalam pelatihan lebih baik, terutama untuk jaringan yang lebih dalam.\n",
        "\n",
        "Implementasi perubahan ini:\n",
        "\n"
      ],
      "metadata": {
        "id": "4syQ7Mi01IEP"
      },
      "id": "4syQ7Mi01IEP"
    },
    {
      "cell_type": "code",
      "source": [
        "class PreActivatedResidual(nn.Module):\n",
        "    def __init__(self, num_channels, use_1x1conv=False, strides=1):\n",
        "        super().__init__()\n",
        "        self.bn1 = nn.BatchNorm2d(num_channels)\n",
        "        self.conv1 = nn.LazyConv2d(num_channels, kernel_size=3, stride=strides, padding=1)\n",
        "        self.bn2 = nn.BatchNorm2d(num_channels)\n",
        "        self.conv2 = nn.LazyConv2d(num_channels, kernel_size=3, stride=1, padding=1)\n",
        "        if use_1x1conv:\n",
        "            self.conv3 = nn.LazyConv2d(num_channels, kernel_size=1, stride=strides)\n",
        "        else:\n",
        "            self.conv3 = None\n",
        "\n",
        "    def forward(self, X):\n",
        "        Y = self.conv1(F.relu(self.bn1(X)))\n",
        "        Y = self.conv2(F.relu(self.bn2(Y)))\n",
        "        if self.conv3:\n",
        "            X = self.conv3(X)\n",
        "        Y += X\n",
        "        return F.relu(Y)\n"
      ],
      "metadata": {
        "id": "G2QJhWFn1PbU"
      },
      "id": "G2QJhWFn1PbU",
      "execution_count": null,
      "outputs": []
    },
    {
      "cell_type": "markdown",
      "source": [
        "**5. Why Can’t We Just Increase the Complexity of Functions Without Bound, Even If the Function Classes Are Nested?**\n",
        "\n",
        "Jawaban: Meningkatkan kompleksitas fungsi tanpa batas dapat menyebabkan **overfitting**, di mana model menjadi sangat cocok dengan data pelatihan tetapi tidak dapat melakukan generalisasi dengan baik ke data baru. Selain itu, jaringan yang sangat kompleks menjadi sulit untuk dilatih karena masalah vanishing gradient dan membutuhkan banyak sumber daya komputasi."
      ],
      "metadata": {
        "id": "IvrysIS21RrR"
      },
      "id": "IvrysIS21RrR"
    },
    {
      "cell_type": "markdown",
      "source": [
        "# 8.7. Densely Connected Networks (DenseNet)"
      ],
      "metadata": {
        "id": "joDLo5SV1wkR"
      },
      "id": "joDLo5SV1wkR"
    },
    {
      "cell_type": "markdown",
      "source": [
        "## 8.7.2. Dense Blocks"
      ],
      "metadata": {
        "id": "B1xvr1w31zKb"
      },
      "id": "B1xvr1w31zKb"
    },
    {
      "cell_type": "code",
      "source": [
        "def conv_block(num_channels):\n",
        "    return nn.Sequential(\n",
        "        nn.LazyBatchNorm2d(), nn.ReLU(),\n",
        "        nn.LazyConv2d(num_channels, kernel_size=3, padding=1))"
      ],
      "metadata": {
        "id": "EPLsLB3E111y"
      },
      "id": "EPLsLB3E111y",
      "execution_count": null,
      "outputs": []
    },
    {
      "cell_type": "code",
      "source": [
        "class DenseBlock(nn.Module):\n",
        "    def __init__(self, num_convs, num_channels):\n",
        "        super(DenseBlock, self).__init__()\n",
        "        layer = []\n",
        "        for i in range(num_convs):\n",
        "            layer.append(conv_block(num_channels))\n",
        "        self.net = nn.Sequential(*layer)\n",
        "\n",
        "    def forward(self, X):\n",
        "        for blk in self.net:\n",
        "            Y = blk(X)\n",
        "            # Concatenate input and output of each block along the channels\n",
        "            X = torch.cat((X, Y), dim=1)\n",
        "        return X"
      ],
      "metadata": {
        "id": "8T5CJq1812-3"
      },
      "id": "8T5CJq1812-3",
      "execution_count": null,
      "outputs": []
    },
    {
      "cell_type": "code",
      "source": [
        "blk = DenseBlock(2, 10)\n",
        "X = torch.randn(4, 3, 8, 8)\n",
        "Y = blk(X)\n",
        "Y.shape"
      ],
      "metadata": {
        "colab": {
          "base_uri": "https://localhost:8080/"
        },
        "id": "sjSy-DMJ13-n",
        "outputId": "edada794-ae84-443b-f347-3c80d27124a5"
      },
      "id": "sjSy-DMJ13-n",
      "execution_count": null,
      "outputs": [
        {
          "output_type": "execute_result",
          "data": {
            "text/plain": [
              "torch.Size([4, 23, 8, 8])"
            ]
          },
          "metadata": {},
          "execution_count": 48
        }
      ]
    },
    {
      "cell_type": "markdown",
      "source": [
        "## 8.7.3 Transition Layers"
      ],
      "metadata": {
        "id": "xjyldi7k16Zd"
      },
      "id": "xjyldi7k16Zd"
    },
    {
      "cell_type": "code",
      "source": [
        "def transition_block(num_channels):\n",
        "    return nn.Sequential(\n",
        "        nn.LazyBatchNorm2d(), nn.ReLU(),\n",
        "        nn.LazyConv2d(num_channels, kernel_size=1),\n",
        "        nn.AvgPool2d(kernel_size=2, stride=2))"
      ],
      "metadata": {
        "id": "5HEDILng15cC"
      },
      "id": "5HEDILng15cC",
      "execution_count": null,
      "outputs": []
    },
    {
      "cell_type": "code",
      "source": [
        "blk = transition_block(10)\n",
        "blk(Y).shape"
      ],
      "metadata": {
        "colab": {
          "base_uri": "https://localhost:8080/"
        },
        "id": "-i0oY69r1_RW",
        "outputId": "2e5a05a7-56ce-4948-a2b1-b94672db8b1e"
      },
      "id": "-i0oY69r1_RW",
      "execution_count": null,
      "outputs": [
        {
          "output_type": "execute_result",
          "data": {
            "text/plain": [
              "torch.Size([4, 10, 4, 4])"
            ]
          },
          "metadata": {},
          "execution_count": 50
        }
      ]
    },
    {
      "cell_type": "markdown",
      "source": [
        "## 8.7.4 DenseNet Model"
      ],
      "metadata": {
        "id": "xj7GRrQG2CG_"
      },
      "id": "xj7GRrQG2CG_"
    },
    {
      "cell_type": "code",
      "source": [
        "class DenseNet(d2l.Classifier):\n",
        "    def b1(self):\n",
        "        return nn.Sequential(\n",
        "            nn.LazyConv2d(64, kernel_size=7, stride=2, padding=3),\n",
        "            nn.LazyBatchNorm2d(), nn.ReLU(),\n",
        "            nn.MaxPool2d(kernel_size=3, stride=2, padding=1))"
      ],
      "metadata": {
        "id": "s5317CDU2Ahs"
      },
      "id": "s5317CDU2Ahs",
      "execution_count": null,
      "outputs": []
    },
    {
      "cell_type": "code",
      "source": [
        "@d2l.add_to_class(DenseNet)\n",
        "def __init__(self, num_channels=64, growth_rate=32, arch=(4, 4, 4, 4),\n",
        "             lr=0.1, num_classes=10):\n",
        "    super(DenseNet, self).__init__()\n",
        "    self.save_hyperparameters()\n",
        "    self.net = nn.Sequential(self.b1())\n",
        "    for i, num_convs in enumerate(arch):\n",
        "        self.net.add_module(f'dense_blk{i+1}', DenseBlock(num_convs,\n",
        "                                                          growth_rate))\n",
        "        # The number of output channels in the previous dense block\n",
        "        num_channels += num_convs * growth_rate\n",
        "        # A transition layer that halves the number of channels is added\n",
        "        # between the dense blocks\n",
        "        if i != len(arch) - 1:\n",
        "            num_channels //= 2\n",
        "            self.net.add_module(f'tran_blk{i+1}', transition_block(\n",
        "                num_channels))\n",
        "    self.net.add_module('last', nn.Sequential(\n",
        "        nn.LazyBatchNorm2d(), nn.ReLU(),\n",
        "        nn.AdaptiveAvgPool2d((1, 1)), nn.Flatten(),\n",
        "        nn.LazyLinear(num_classes)))\n",
        "    self.net.apply(d2l.init_cnn)"
      ],
      "metadata": {
        "id": "8vCrh6JY2Fg_"
      },
      "id": "8vCrh6JY2Fg_",
      "execution_count": null,
      "outputs": []
    },
    {
      "cell_type": "markdown",
      "source": [
        "## 8.7.5 Training"
      ],
      "metadata": {
        "id": "W-9vSXlV2IES"
      },
      "id": "W-9vSXlV2IES"
    },
    {
      "cell_type": "code",
      "source": [
        "model = DenseNet(lr=0.01)\n",
        "trainer = d2l.Trainer(max_epochs=10, num_gpus=1)\n",
        "data = d2l.FashionMNIST(batch_size=128, resize=(96, 96))\n",
        "trainer.fit(model, data)"
      ],
      "metadata": {
        "colab": {
          "base_uri": "https://localhost:8080/",
          "height": 265
        },
        "id": "dkCyZXtQ2G0L",
        "outputId": "57bcecb1-fe45-4ac2-b93b-f4c4888aef6e"
      },
      "id": "dkCyZXtQ2G0L",
      "execution_count": null,
      "outputs": [
        {
          "output_type": "display_data",
          "data": {
            "text/plain": [
              "<Figure size 350x250 with 1 Axes>"
            ],
            "image/svg+xml": "<?xml version=\"1.0\" encoding=\"utf-8\" standalone=\"no\"?>\n<!DOCTYPE svg PUBLIC \"-//W3C//DTD SVG 1.1//EN\"\n  \"http://www.w3.org/Graphics/SVG/1.1/DTD/svg11.dtd\">\n<svg xmlns:xlink=\"http://www.w3.org/1999/xlink\" width=\"238.965625pt\" height=\"183.35625pt\" viewBox=\"0 0 238.965625 183.35625\" xmlns=\"http://www.w3.org/2000/svg\" version=\"1.1\">\n <metadata>\n  <rdf:RDF xmlns:dc=\"http://purl.org/dc/elements/1.1/\" xmlns:cc=\"http://creativecommons.org/ns#\" xmlns:rdf=\"http://www.w3.org/1999/02/22-rdf-syntax-ns#\">\n   <cc:Work>\n    <dc:type rdf:resource=\"http://purl.org/dc/dcmitype/StillImage\"/>\n    <dc:date>2024-10-05T13:29:17.419710</dc:date>\n    <dc:format>image/svg+xml</dc:format>\n    <dc:creator>\n     <cc:Agent>\n      <dc:title>Matplotlib v3.7.2, https://matplotlib.org/</dc:title>\n     </cc:Agent>\n    </dc:creator>\n   </cc:Work>\n  </rdf:RDF>\n </metadata>\n <defs>\n  <style type=\"text/css\">*{stroke-linejoin: round; stroke-linecap: butt}</style>\n </defs>\n <g id=\"figure_1\">\n  <g id=\"patch_1\">\n   <path d=\"M 0 183.35625 \nL 238.965625 183.35625 \nL 238.965625 0 \nL 0 0 \nz\n\" style=\"fill: #ffffff\"/>\n  </g>\n  <g id=\"axes_1\">\n   <g id=\"patch_2\">\n    <path d=\"M 30.103125 145.8 \nL 225.403125 145.8 \nL 225.403125 7.2 \nL 30.103125 7.2 \nz\n\" style=\"fill: #ffffff\"/>\n   </g>\n   <g id=\"matplotlib.axis_1\">\n    <g id=\"xtick_1\">\n     <g id=\"line2d_1\">\n      <defs>\n       <path id=\"m99f3d8f215\" d=\"M 0 0 \nL 0 3.5 \n\" style=\"stroke: #000000; stroke-width: 0.8\"/>\n      </defs>\n      <g>\n       <use xlink:href=\"#m99f3d8f215\" x=\"30.103125\" y=\"145.8\" style=\"stroke: #000000; stroke-width: 0.8\"/>\n      </g>\n     </g>\n     <g id=\"text_1\">\n      <!-- 0 -->\n      <g transform=\"translate(26.921875 160.398438) scale(0.1 -0.1)\">\n       <defs>\n        <path id=\"DejaVuSans-30\" d=\"M 2034 4250 \nQ 1547 4250 1301 3770 \nQ 1056 3291 1056 2328 \nQ 1056 1369 1301 889 \nQ 1547 409 2034 409 \nQ 2525 409 2770 889 \nQ 3016 1369 3016 2328 \nQ 3016 3291 2770 3770 \nQ 2525 4250 2034 4250 \nz\nM 2034 4750 \nQ 2819 4750 3233 4129 \nQ 3647 3509 3647 2328 \nQ 3647 1150 3233 529 \nQ 2819 -91 2034 -91 \nQ 1250 -91 836 529 \nQ 422 1150 422 2328 \nQ 422 3509 836 4129 \nQ 1250 4750 2034 4750 \nz\n\" transform=\"scale(0.015625)\"/>\n       </defs>\n       <use xlink:href=\"#DejaVuSans-30\"/>\n      </g>\n     </g>\n    </g>\n    <g id=\"xtick_2\">\n     <g id=\"line2d_2\">\n      <g>\n       <use xlink:href=\"#m99f3d8f215\" x=\"69.163125\" y=\"145.8\" style=\"stroke: #000000; stroke-width: 0.8\"/>\n      </g>\n     </g>\n     <g id=\"text_2\">\n      <!-- 2 -->\n      <g transform=\"translate(65.981875 160.398438) scale(0.1 -0.1)\">\n       <defs>\n        <path id=\"DejaVuSans-32\" d=\"M 1228 531 \nL 3431 531 \nL 3431 0 \nL 469 0 \nL 469 531 \nQ 828 903 1448 1529 \nQ 2069 2156 2228 2338 \nQ 2531 2678 2651 2914 \nQ 2772 3150 2772 3378 \nQ 2772 3750 2511 3984 \nQ 2250 4219 1831 4219 \nQ 1534 4219 1204 4116 \nQ 875 4013 500 3803 \nL 500 4441 \nQ 881 4594 1212 4672 \nQ 1544 4750 1819 4750 \nQ 2544 4750 2975 4387 \nQ 3406 4025 3406 3419 \nQ 3406 3131 3298 2873 \nQ 3191 2616 2906 2266 \nQ 2828 2175 2409 1742 \nQ 1991 1309 1228 531 \nz\n\" transform=\"scale(0.015625)\"/>\n       </defs>\n       <use xlink:href=\"#DejaVuSans-32\"/>\n      </g>\n     </g>\n    </g>\n    <g id=\"xtick_3\">\n     <g id=\"line2d_3\">\n      <g>\n       <use xlink:href=\"#m99f3d8f215\" x=\"108.223125\" y=\"145.8\" style=\"stroke: #000000; stroke-width: 0.8\"/>\n      </g>\n     </g>\n     <g id=\"text_3\">\n      <!-- 4 -->\n      <g transform=\"translate(105.041875 160.398438) scale(0.1 -0.1)\">\n       <defs>\n        <path id=\"DejaVuSans-34\" d=\"M 2419 4116 \nL 825 1625 \nL 2419 1625 \nL 2419 4116 \nz\nM 2253 4666 \nL 3047 4666 \nL 3047 1625 \nL 3713 1625 \nL 3713 1100 \nL 3047 1100 \nL 3047 0 \nL 2419 0 \nL 2419 1100 \nL 313 1100 \nL 313 1709 \nL 2253 4666 \nz\n\" transform=\"scale(0.015625)\"/>\n       </defs>\n       <use xlink:href=\"#DejaVuSans-34\"/>\n      </g>\n     </g>\n    </g>\n    <g id=\"xtick_4\">\n     <g id=\"line2d_4\">\n      <g>\n       <use xlink:href=\"#m99f3d8f215\" x=\"147.283125\" y=\"145.8\" style=\"stroke: #000000; stroke-width: 0.8\"/>\n      </g>\n     </g>\n     <g id=\"text_4\">\n      <!-- 6 -->\n      <g transform=\"translate(144.101875 160.398438) scale(0.1 -0.1)\">\n       <defs>\n        <path id=\"DejaVuSans-36\" d=\"M 2113 2584 \nQ 1688 2584 1439 2293 \nQ 1191 2003 1191 1497 \nQ 1191 994 1439 701 \nQ 1688 409 2113 409 \nQ 2538 409 2786 701 \nQ 3034 994 3034 1497 \nQ 3034 2003 2786 2293 \nQ 2538 2584 2113 2584 \nz\nM 3366 4563 \nL 3366 3988 \nQ 3128 4100 2886 4159 \nQ 2644 4219 2406 4219 \nQ 1781 4219 1451 3797 \nQ 1122 3375 1075 2522 \nQ 1259 2794 1537 2939 \nQ 1816 3084 2150 3084 \nQ 2853 3084 3261 2657 \nQ 3669 2231 3669 1497 \nQ 3669 778 3244 343 \nQ 2819 -91 2113 -91 \nQ 1303 -91 875 529 \nQ 447 1150 447 2328 \nQ 447 3434 972 4092 \nQ 1497 4750 2381 4750 \nQ 2619 4750 2861 4703 \nQ 3103 4656 3366 4563 \nz\n\" transform=\"scale(0.015625)\"/>\n       </defs>\n       <use xlink:href=\"#DejaVuSans-36\"/>\n      </g>\n     </g>\n    </g>\n    <g id=\"xtick_5\">\n     <g id=\"line2d_5\">\n      <g>\n       <use xlink:href=\"#m99f3d8f215\" x=\"186.343125\" y=\"145.8\" style=\"stroke: #000000; stroke-width: 0.8\"/>\n      </g>\n     </g>\n     <g id=\"text_5\">\n      <!-- 8 -->\n      <g transform=\"translate(183.161875 160.398438) scale(0.1 -0.1)\">\n       <defs>\n        <path id=\"DejaVuSans-38\" d=\"M 2034 2216 \nQ 1584 2216 1326 1975 \nQ 1069 1734 1069 1313 \nQ 1069 891 1326 650 \nQ 1584 409 2034 409 \nQ 2484 409 2743 651 \nQ 3003 894 3003 1313 \nQ 3003 1734 2745 1975 \nQ 2488 2216 2034 2216 \nz\nM 1403 2484 \nQ 997 2584 770 2862 \nQ 544 3141 544 3541 \nQ 544 4100 942 4425 \nQ 1341 4750 2034 4750 \nQ 2731 4750 3128 4425 \nQ 3525 4100 3525 3541 \nQ 3525 3141 3298 2862 \nQ 3072 2584 2669 2484 \nQ 3125 2378 3379 2068 \nQ 3634 1759 3634 1313 \nQ 3634 634 3220 271 \nQ 2806 -91 2034 -91 \nQ 1263 -91 848 271 \nQ 434 634 434 1313 \nQ 434 1759 690 2068 \nQ 947 2378 1403 2484 \nz\nM 1172 3481 \nQ 1172 3119 1398 2916 \nQ 1625 2713 2034 2713 \nQ 2441 2713 2670 2916 \nQ 2900 3119 2900 3481 \nQ 2900 3844 2670 4047 \nQ 2441 4250 2034 4250 \nQ 1625 4250 1398 4047 \nQ 1172 3844 1172 3481 \nz\n\" transform=\"scale(0.015625)\"/>\n       </defs>\n       <use xlink:href=\"#DejaVuSans-38\"/>\n      </g>\n     </g>\n    </g>\n    <g id=\"xtick_6\">\n     <g id=\"line2d_6\">\n      <g>\n       <use xlink:href=\"#m99f3d8f215\" x=\"225.403125\" y=\"145.8\" style=\"stroke: #000000; stroke-width: 0.8\"/>\n      </g>\n     </g>\n     <g id=\"text_6\">\n      <!-- 10 -->\n      <g transform=\"translate(219.040625 160.398438) scale(0.1 -0.1)\">\n       <defs>\n        <path id=\"DejaVuSans-31\" d=\"M 794 531 \nL 1825 531 \nL 1825 4091 \nL 703 3866 \nL 703 4441 \nL 1819 4666 \nL 2450 4666 \nL 2450 531 \nL 3481 531 \nL 3481 0 \nL 794 0 \nL 794 531 \nz\n\" transform=\"scale(0.015625)\"/>\n       </defs>\n       <use xlink:href=\"#DejaVuSans-31\"/>\n       <use xlink:href=\"#DejaVuSans-30\" x=\"63.623047\"/>\n      </g>\n     </g>\n    </g>\n    <g id=\"text_7\">\n     <!-- epoch -->\n     <g transform=\"translate(112.525 174.076563) scale(0.1 -0.1)\">\n      <defs>\n       <path id=\"DejaVuSans-65\" d=\"M 3597 1894 \nL 3597 1613 \nL 953 1613 \nQ 991 1019 1311 708 \nQ 1631 397 2203 397 \nQ 2534 397 2845 478 \nQ 3156 559 3463 722 \nL 3463 178 \nQ 3153 47 2828 -22 \nQ 2503 -91 2169 -91 \nQ 1331 -91 842 396 \nQ 353 884 353 1716 \nQ 353 2575 817 3079 \nQ 1281 3584 2069 3584 \nQ 2775 3584 3186 3129 \nQ 3597 2675 3597 1894 \nz\nM 3022 2063 \nQ 3016 2534 2758 2815 \nQ 2500 3097 2075 3097 \nQ 1594 3097 1305 2825 \nQ 1016 2553 972 2059 \nL 3022 2063 \nz\n\" transform=\"scale(0.015625)\"/>\n       <path id=\"DejaVuSans-70\" d=\"M 1159 525 \nL 1159 -1331 \nL 581 -1331 \nL 581 3500 \nL 1159 3500 \nL 1159 2969 \nQ 1341 3281 1617 3432 \nQ 1894 3584 2278 3584 \nQ 2916 3584 3314 3078 \nQ 3713 2572 3713 1747 \nQ 3713 922 3314 415 \nQ 2916 -91 2278 -91 \nQ 1894 -91 1617 61 \nQ 1341 213 1159 525 \nz\nM 3116 1747 \nQ 3116 2381 2855 2742 \nQ 2594 3103 2138 3103 \nQ 1681 3103 1420 2742 \nQ 1159 2381 1159 1747 \nQ 1159 1113 1420 752 \nQ 1681 391 2138 391 \nQ 2594 391 2855 752 \nQ 3116 1113 3116 1747 \nz\n\" transform=\"scale(0.015625)\"/>\n       <path id=\"DejaVuSans-6f\" d=\"M 1959 3097 \nQ 1497 3097 1228 2736 \nQ 959 2375 959 1747 \nQ 959 1119 1226 758 \nQ 1494 397 1959 397 \nQ 2419 397 2687 759 \nQ 2956 1122 2956 1747 \nQ 2956 2369 2687 2733 \nQ 2419 3097 1959 3097 \nz\nM 1959 3584 \nQ 2709 3584 3137 3096 \nQ 3566 2609 3566 1747 \nQ 3566 888 3137 398 \nQ 2709 -91 1959 -91 \nQ 1206 -91 779 398 \nQ 353 888 353 1747 \nQ 353 2609 779 3096 \nQ 1206 3584 1959 3584 \nz\n\" transform=\"scale(0.015625)\"/>\n       <path id=\"DejaVuSans-63\" d=\"M 3122 3366 \nL 3122 2828 \nQ 2878 2963 2633 3030 \nQ 2388 3097 2138 3097 \nQ 1578 3097 1268 2742 \nQ 959 2388 959 1747 \nQ 959 1106 1268 751 \nQ 1578 397 2138 397 \nQ 2388 397 2633 464 \nQ 2878 531 3122 666 \nL 3122 134 \nQ 2881 22 2623 -34 \nQ 2366 -91 2075 -91 \nQ 1284 -91 818 406 \nQ 353 903 353 1747 \nQ 353 2603 823 3093 \nQ 1294 3584 2113 3584 \nQ 2378 3584 2631 3529 \nQ 2884 3475 3122 3366 \nz\n\" transform=\"scale(0.015625)\"/>\n       <path id=\"DejaVuSans-68\" d=\"M 3513 2113 \nL 3513 0 \nL 2938 0 \nL 2938 2094 \nQ 2938 2591 2744 2837 \nQ 2550 3084 2163 3084 \nQ 1697 3084 1428 2787 \nQ 1159 2491 1159 1978 \nL 1159 0 \nL 581 0 \nL 581 4863 \nL 1159 4863 \nL 1159 2956 \nQ 1366 3272 1645 3428 \nQ 1925 3584 2291 3584 \nQ 2894 3584 3203 3211 \nQ 3513 2838 3513 2113 \nz\n\" transform=\"scale(0.015625)\"/>\n      </defs>\n      <use xlink:href=\"#DejaVuSans-65\"/>\n      <use xlink:href=\"#DejaVuSans-70\" x=\"61.523438\"/>\n      <use xlink:href=\"#DejaVuSans-6f\" x=\"125\"/>\n      <use xlink:href=\"#DejaVuSans-63\" x=\"186.181641\"/>\n      <use xlink:href=\"#DejaVuSans-68\" x=\"241.162109\"/>\n     </g>\n    </g>\n   </g>\n   <g id=\"matplotlib.axis_2\">\n    <g id=\"ytick_1\">\n     <g id=\"line2d_7\">\n      <defs>\n       <path id=\"m26ab11f5de\" d=\"M 0 0 \nL -3.5 0 \n\" style=\"stroke: #000000; stroke-width: 0.8\"/>\n      </defs>\n      <g>\n       <use xlink:href=\"#m26ab11f5de\" x=\"30.103125\" y=\"131.743632\" style=\"stroke: #000000; stroke-width: 0.8\"/>\n      </g>\n     </g>\n     <g id=\"text_8\">\n      <!-- 0.2 -->\n      <g transform=\"translate(7.2 135.54285) scale(0.1 -0.1)\">\n       <defs>\n        <path id=\"DejaVuSans-2e\" d=\"M 684 794 \nL 1344 794 \nL 1344 0 \nL 684 0 \nL 684 794 \nz\n\" transform=\"scale(0.015625)\"/>\n       </defs>\n       <use xlink:href=\"#DejaVuSans-30\"/>\n       <use xlink:href=\"#DejaVuSans-2e\" x=\"63.623047\"/>\n       <use xlink:href=\"#DejaVuSans-32\" x=\"95.410156\"/>\n      </g>\n     </g>\n    </g>\n    <g id=\"ytick_2\">\n     <g id=\"line2d_8\">\n      <g>\n       <use xlink:href=\"#m26ab11f5de\" x=\"30.103125\" y=\"99.690062\" style=\"stroke: #000000; stroke-width: 0.8\"/>\n      </g>\n     </g>\n     <g id=\"text_9\">\n      <!-- 0.4 -->\n      <g transform=\"translate(7.2 103.48928) scale(0.1 -0.1)\">\n       <use xlink:href=\"#DejaVuSans-30\"/>\n       <use xlink:href=\"#DejaVuSans-2e\" x=\"63.623047\"/>\n       <use xlink:href=\"#DejaVuSans-34\" x=\"95.410156\"/>\n      </g>\n     </g>\n    </g>\n    <g id=\"ytick_3\">\n     <g id=\"line2d_9\">\n      <g>\n       <use xlink:href=\"#m26ab11f5de\" x=\"30.103125\" y=\"67.636492\" style=\"stroke: #000000; stroke-width: 0.8\"/>\n      </g>\n     </g>\n     <g id=\"text_10\">\n      <!-- 0.6 -->\n      <g transform=\"translate(7.2 71.435711) scale(0.1 -0.1)\">\n       <use xlink:href=\"#DejaVuSans-30\"/>\n       <use xlink:href=\"#DejaVuSans-2e\" x=\"63.623047\"/>\n       <use xlink:href=\"#DejaVuSans-36\" x=\"95.410156\"/>\n      </g>\n     </g>\n    </g>\n    <g id=\"ytick_4\">\n     <g id=\"line2d_10\">\n      <g>\n       <use xlink:href=\"#m26ab11f5de\" x=\"30.103125\" y=\"35.582922\" style=\"stroke: #000000; stroke-width: 0.8\"/>\n      </g>\n     </g>\n     <g id=\"text_11\">\n      <!-- 0.8 -->\n      <g transform=\"translate(7.2 39.382141) scale(0.1 -0.1)\">\n       <use xlink:href=\"#DejaVuSans-30\"/>\n       <use xlink:href=\"#DejaVuSans-2e\" x=\"63.623047\"/>\n       <use xlink:href=\"#DejaVuSans-38\" x=\"95.410156\"/>\n      </g>\n     </g>\n    </g>\n   </g>\n   <g id=\"line2d_11\">\n    <path d=\"M 34.954394 13.5 \n\" clip-path=\"url(#p51a13ee45b)\" style=\"fill: none; stroke: #1f77b4; stroke-width: 1.5; stroke-linecap: square\"/>\n   </g>\n   <g id=\"line2d_12\">\n    <path d=\"M 34.954394 13.5 \nL 44.698573 90.138623 \n\" clip-path=\"url(#p51a13ee45b)\" style=\"fill: none; stroke: #1f77b4; stroke-width: 1.5; stroke-linecap: square\"/>\n   </g>\n   <g id=\"line2d_13\">\n    <path d=\"M 34.954394 13.5 \nL 44.698573 90.138623 \n\" clip-path=\"url(#p51a13ee45b)\" style=\"fill: none; stroke: #1f77b4; stroke-width: 1.5; stroke-linecap: square\"/>\n   </g>\n   <g id=\"line2d_14\">\n    <path d=\"M 49.633125 86.398296 \n\" clip-path=\"url(#p51a13ee45b)\" style=\"fill: none; stroke-dasharray: 5.55,2.4; stroke-dashoffset: 0; stroke: #ff7f0e; stroke-width: 1.5\"/>\n   </g>\n   <g id=\"line2d_15\"/>\n   <g id=\"line2d_16\">\n    <path d=\"M 34.954394 13.5 \nL 44.698573 90.138623 \n\" clip-path=\"url(#p51a13ee45b)\" style=\"fill: none; stroke: #1f77b4; stroke-width: 1.5; stroke-linecap: square\"/>\n   </g>\n   <g id=\"line2d_17\">\n    <path d=\"M 49.633125 86.398296 \n\" clip-path=\"url(#p51a13ee45b)\" style=\"fill: none; stroke-dasharray: 5.55,2.4; stroke-dashoffset: 0; stroke: #ff7f0e; stroke-width: 1.5\"/>\n   </g>\n   <g id=\"line2d_18\">\n    <path d=\"M 49.633125 31.392374 \n\" clip-path=\"url(#p51a13ee45b)\" style=\"fill: none; stroke-dasharray: 9.6,2.4,1.5,2.4; stroke-dashoffset: 0; stroke: #2ca02c; stroke-width: 1.5\"/>\n   </g>\n   <g id=\"line2d_19\">\n    <path d=\"M 34.954394 13.5 \nL 44.698573 90.138623 \nL 54.442752 104.932777 \n\" clip-path=\"url(#p51a13ee45b)\" style=\"fill: none; stroke: #1f77b4; stroke-width: 1.5; stroke-linecap: square\"/>\n   </g>\n   <g id=\"line2d_20\">\n    <path d=\"M 49.633125 86.398296 \n\" clip-path=\"url(#p51a13ee45b)\" style=\"fill: none; stroke-dasharray: 5.55,2.4; stroke-dashoffset: 0; stroke: #ff7f0e; stroke-width: 1.5\"/>\n   </g>\n   <g id=\"line2d_21\">\n    <path d=\"M 49.633125 31.392374 \n\" clip-path=\"url(#p51a13ee45b)\" style=\"fill: none; stroke-dasharray: 9.6,2.4,1.5,2.4; stroke-dashoffset: 0; stroke: #2ca02c; stroke-width: 1.5\"/>\n   </g>\n   <g id=\"line2d_22\">\n    <path d=\"M 34.954394 13.5 \nL 44.698573 90.138623 \nL 54.442752 104.932777 \nL 64.186931 112.495287 \n\" clip-path=\"url(#p51a13ee45b)\" style=\"fill: none; stroke: #1f77b4; stroke-width: 1.5; stroke-linecap: square\"/>\n   </g>\n   <g id=\"line2d_23\">\n    <path d=\"M 49.633125 86.398296 \n\" clip-path=\"url(#p51a13ee45b)\" style=\"fill: none; stroke-dasharray: 5.55,2.4; stroke-dashoffset: 0; stroke: #ff7f0e; stroke-width: 1.5\"/>\n   </g>\n   <g id=\"line2d_24\">\n    <path d=\"M 49.633125 31.392374 \n\" clip-path=\"url(#p51a13ee45b)\" style=\"fill: none; stroke-dasharray: 9.6,2.4,1.5,2.4; stroke-dashoffset: 0; stroke: #2ca02c; stroke-width: 1.5\"/>\n   </g>\n   <g id=\"line2d_25\">\n    <path d=\"M 34.954394 13.5 \nL 44.698573 90.138623 \nL 54.442752 104.932777 \nL 64.186931 112.495287 \n\" clip-path=\"url(#p51a13ee45b)\" style=\"fill: none; stroke: #1f77b4; stroke-width: 1.5; stroke-linecap: square\"/>\n   </g>\n   <g id=\"line2d_26\">\n    <path d=\"M 49.633125 86.398296 \nL 69.163125 110.92968 \n\" clip-path=\"url(#p51a13ee45b)\" style=\"fill: none; stroke-dasharray: 5.55,2.4; stroke-dashoffset: 0; stroke: #ff7f0e; stroke-width: 1.5\"/>\n   </g>\n   <g id=\"line2d_27\">\n    <path d=\"M 49.633125 31.392374 \n\" clip-path=\"url(#p51a13ee45b)\" style=\"fill: none; stroke-dasharray: 9.6,2.4,1.5,2.4; stroke-dashoffset: 0; stroke: #2ca02c; stroke-width: 1.5\"/>\n   </g>\n   <g id=\"line2d_28\">\n    <path d=\"M 34.954394 13.5 \nL 44.698573 90.138623 \nL 54.442752 104.932777 \nL 64.186931 112.495287 \n\" clip-path=\"url(#p51a13ee45b)\" style=\"fill: none; stroke: #1f77b4; stroke-width: 1.5; stroke-linecap: square\"/>\n   </g>\n   <g id=\"line2d_29\">\n    <path d=\"M 49.633125 86.398296 \nL 69.163125 110.92968 \n\" clip-path=\"url(#p51a13ee45b)\" style=\"fill: none; stroke-dasharray: 5.55,2.4; stroke-dashoffset: 0; stroke: #ff7f0e; stroke-width: 1.5\"/>\n   </g>\n   <g id=\"line2d_30\">\n    <path d=\"M 49.633125 31.392374 \nL 69.163125 21.565825 \n\" clip-path=\"url(#p51a13ee45b)\" style=\"fill: none; stroke-dasharray: 9.6,2.4,1.5,2.4; stroke-dashoffset: 0; stroke: #2ca02c; stroke-width: 1.5\"/>\n   </g>\n   <g id=\"line2d_31\">\n    <path d=\"M 34.954394 13.5 \nL 44.698573 90.138623 \nL 54.442752 104.932777 \nL 64.186931 112.495287 \nL 73.93111 118.042521 \n\" clip-path=\"url(#p51a13ee45b)\" style=\"fill: none; stroke: #1f77b4; stroke-width: 1.5; stroke-linecap: square\"/>\n   </g>\n   <g id=\"line2d_32\">\n    <path d=\"M 49.633125 86.398296 \nL 69.163125 110.92968 \n\" clip-path=\"url(#p51a13ee45b)\" style=\"fill: none; stroke-dasharray: 5.55,2.4; stroke-dashoffset: 0; stroke: #ff7f0e; stroke-width: 1.5\"/>\n   </g>\n   <g id=\"line2d_33\">\n    <path d=\"M 49.633125 31.392374 \nL 69.163125 21.565825 \n\" clip-path=\"url(#p51a13ee45b)\" style=\"fill: none; stroke-dasharray: 9.6,2.4,1.5,2.4; stroke-dashoffset: 0; stroke: #2ca02c; stroke-width: 1.5\"/>\n   </g>\n   <g id=\"line2d_34\">\n    <path d=\"M 34.954394 13.5 \nL 44.698573 90.138623 \nL 54.442752 104.932777 \nL 64.186931 112.495287 \nL 73.93111 118.042521 \nL 83.675289 119.444774 \n\" clip-path=\"url(#p51a13ee45b)\" style=\"fill: none; stroke: #1f77b4; stroke-width: 1.5; stroke-linecap: square\"/>\n   </g>\n   <g id=\"line2d_35\">\n    <path d=\"M 49.633125 86.398296 \nL 69.163125 110.92968 \n\" clip-path=\"url(#p51a13ee45b)\" style=\"fill: none; stroke-dasharray: 5.55,2.4; stroke-dashoffset: 0; stroke: #ff7f0e; stroke-width: 1.5\"/>\n   </g>\n   <g id=\"line2d_36\">\n    <path d=\"M 49.633125 31.392374 \nL 69.163125 21.565825 \n\" clip-path=\"url(#p51a13ee45b)\" style=\"fill: none; stroke-dasharray: 9.6,2.4,1.5,2.4; stroke-dashoffset: 0; stroke: #2ca02c; stroke-width: 1.5\"/>\n   </g>\n   <g id=\"line2d_37\">\n    <path d=\"M 34.954394 13.5 \nL 44.698573 90.138623 \nL 54.442752 104.932777 \nL 64.186931 112.495287 \nL 73.93111 118.042521 \nL 83.675289 119.444774 \n\" clip-path=\"url(#p51a13ee45b)\" style=\"fill: none; stroke: #1f77b4; stroke-width: 1.5; stroke-linecap: square\"/>\n   </g>\n   <g id=\"line2d_38\">\n    <path d=\"M 49.633125 86.398296 \nL 69.163125 110.92968 \nL 88.693125 103.604673 \n\" clip-path=\"url(#p51a13ee45b)\" style=\"fill: none; stroke-dasharray: 5.55,2.4; stroke-dashoffset: 0; stroke: #ff7f0e; stroke-width: 1.5\"/>\n   </g>\n   <g id=\"line2d_39\">\n    <path d=\"M 49.633125 31.392374 \nL 69.163125 21.565825 \n\" clip-path=\"url(#p51a13ee45b)\" style=\"fill: none; stroke-dasharray: 9.6,2.4,1.5,2.4; stroke-dashoffset: 0; stroke: #2ca02c; stroke-width: 1.5\"/>\n   </g>\n   <g id=\"line2d_40\">\n    <path d=\"M 34.954394 13.5 \nL 44.698573 90.138623 \nL 54.442752 104.932777 \nL 64.186931 112.495287 \nL 73.93111 118.042521 \nL 83.675289 119.444774 \n\" clip-path=\"url(#p51a13ee45b)\" style=\"fill: none; stroke: #1f77b4; stroke-width: 1.5; stroke-linecap: square\"/>\n   </g>\n   <g id=\"line2d_41\">\n    <path d=\"M 49.633125 86.398296 \nL 69.163125 110.92968 \nL 88.693125 103.604673 \n\" clip-path=\"url(#p51a13ee45b)\" style=\"fill: none; stroke-dasharray: 5.55,2.4; stroke-dashoffset: 0; stroke: #ff7f0e; stroke-width: 1.5\"/>\n   </g>\n   <g id=\"line2d_42\">\n    <path d=\"M 49.633125 31.392374 \nL 69.163125 21.565825 \nL 88.693125 24.450393 \n\" clip-path=\"url(#p51a13ee45b)\" style=\"fill: none; stroke-dasharray: 9.6,2.4,1.5,2.4; stroke-dashoffset: 0; stroke: #2ca02c; stroke-width: 1.5\"/>\n   </g>\n   <g id=\"line2d_43\">\n    <path d=\"M 34.954394 13.5 \nL 44.698573 90.138623 \nL 54.442752 104.932777 \nL 64.186931 112.495287 \nL 73.93111 118.042521 \nL 83.675289 119.444774 \nL 93.419468 123.950795 \n\" clip-path=\"url(#p51a13ee45b)\" style=\"fill: none; stroke: #1f77b4; stroke-width: 1.5; stroke-linecap: square\"/>\n   </g>\n   <g id=\"line2d_44\">\n    <path d=\"M 49.633125 86.398296 \nL 69.163125 110.92968 \nL 88.693125 103.604673 \n\" clip-path=\"url(#p51a13ee45b)\" style=\"fill: none; stroke-dasharray: 5.55,2.4; stroke-dashoffset: 0; stroke: #ff7f0e; stroke-width: 1.5\"/>\n   </g>\n   <g id=\"line2d_45\">\n    <path d=\"M 49.633125 31.392374 \nL 69.163125 21.565825 \nL 88.693125 24.450393 \n\" clip-path=\"url(#p51a13ee45b)\" style=\"fill: none; stroke-dasharray: 9.6,2.4,1.5,2.4; stroke-dashoffset: 0; stroke: #2ca02c; stroke-width: 1.5\"/>\n   </g>\n   <g id=\"line2d_46\">\n    <path d=\"M 34.954394 13.5 \nL 44.698573 90.138623 \nL 54.442752 104.932777 \nL 64.186931 112.495287 \nL 73.93111 118.042521 \nL 83.675289 119.444774 \nL 93.419468 123.950795 \nL 103.163647 124.574476 \n\" clip-path=\"url(#p51a13ee45b)\" style=\"fill: none; stroke: #1f77b4; stroke-width: 1.5; stroke-linecap: square\"/>\n   </g>\n   <g id=\"line2d_47\">\n    <path d=\"M 49.633125 86.398296 \nL 69.163125 110.92968 \nL 88.693125 103.604673 \n\" clip-path=\"url(#p51a13ee45b)\" style=\"fill: none; stroke-dasharray: 5.55,2.4; stroke-dashoffset: 0; stroke: #ff7f0e; stroke-width: 1.5\"/>\n   </g>\n   <g id=\"line2d_48\">\n    <path d=\"M 49.633125 31.392374 \nL 69.163125 21.565825 \nL 88.693125 24.450393 \n\" clip-path=\"url(#p51a13ee45b)\" style=\"fill: none; stroke-dasharray: 9.6,2.4,1.5,2.4; stroke-dashoffset: 0; stroke: #2ca02c; stroke-width: 1.5\"/>\n   </g>\n   <g id=\"line2d_49\">\n    <path d=\"M 34.954394 13.5 \nL 44.698573 90.138623 \nL 54.442752 104.932777 \nL 64.186931 112.495287 \nL 73.93111 118.042521 \nL 83.675289 119.444774 \nL 93.419468 123.950795 \nL 103.163647 124.574476 \n\" clip-path=\"url(#p51a13ee45b)\" style=\"fill: none; stroke: #1f77b4; stroke-width: 1.5; stroke-linecap: square\"/>\n   </g>\n   <g id=\"line2d_50\">\n    <path d=\"M 49.633125 86.398296 \nL 69.163125 110.92968 \nL 88.693125 103.604673 \nL 108.223125 87.546411 \n\" clip-path=\"url(#p51a13ee45b)\" style=\"fill: none; stroke-dasharray: 5.55,2.4; stroke-dashoffset: 0; stroke: #ff7f0e; stroke-width: 1.5\"/>\n   </g>\n   <g id=\"line2d_51\">\n    <path d=\"M 49.633125 31.392374 \nL 69.163125 21.565825 \nL 88.693125 24.450393 \n\" clip-path=\"url(#p51a13ee45b)\" style=\"fill: none; stroke-dasharray: 9.6,2.4,1.5,2.4; stroke-dashoffset: 0; stroke: #2ca02c; stroke-width: 1.5\"/>\n   </g>\n   <g id=\"line2d_52\">\n    <path d=\"M 34.954394 13.5 \nL 44.698573 90.138623 \nL 54.442752 104.932777 \nL 64.186931 112.495287 \nL 73.93111 118.042521 \nL 83.675289 119.444774 \nL 93.419468 123.950795 \nL 103.163647 124.574476 \n\" clip-path=\"url(#p51a13ee45b)\" style=\"fill: none; stroke: #1f77b4; stroke-width: 1.5; stroke-linecap: square\"/>\n   </g>\n   <g id=\"line2d_53\">\n    <path d=\"M 49.633125 86.398296 \nL 69.163125 110.92968 \nL 88.693125 103.604673 \nL 108.223125 87.546411 \n\" clip-path=\"url(#p51a13ee45b)\" style=\"fill: none; stroke-dasharray: 5.55,2.4; stroke-dashoffset: 0; stroke: #ff7f0e; stroke-width: 1.5\"/>\n   </g>\n   <g id=\"line2d_54\">\n    <path d=\"M 49.633125 31.392374 \nL 69.163125 21.565825 \nL 88.693125 24.450393 \nL 108.223125 30.488966 \n\" clip-path=\"url(#p51a13ee45b)\" style=\"fill: none; stroke-dasharray: 9.6,2.4,1.5,2.4; stroke-dashoffset: 0; stroke: #2ca02c; stroke-width: 1.5\"/>\n   </g>\n   <g id=\"line2d_55\">\n    <path d=\"M 34.954394 13.5 \nL 44.698573 90.138623 \nL 54.442752 104.932777 \nL 64.186931 112.495287 \nL 73.93111 118.042521 \nL 83.675289 119.444774 \nL 93.419468 123.950795 \nL 103.163647 124.574476 \nL 112.907826 126.973012 \n\" clip-path=\"url(#p51a13ee45b)\" style=\"fill: none; stroke: #1f77b4; stroke-width: 1.5; stroke-linecap: square\"/>\n   </g>\n   <g id=\"line2d_56\">\n    <path d=\"M 49.633125 86.398296 \nL 69.163125 110.92968 \nL 88.693125 103.604673 \nL 108.223125 87.546411 \n\" clip-path=\"url(#p51a13ee45b)\" style=\"fill: none; stroke-dasharray: 5.55,2.4; stroke-dashoffset: 0; stroke: #ff7f0e; stroke-width: 1.5\"/>\n   </g>\n   <g id=\"line2d_57\">\n    <path d=\"M 49.633125 31.392374 \nL 69.163125 21.565825 \nL 88.693125 24.450393 \nL 108.223125 30.488966 \n\" clip-path=\"url(#p51a13ee45b)\" style=\"fill: none; stroke-dasharray: 9.6,2.4,1.5,2.4; stroke-dashoffset: 0; stroke: #2ca02c; stroke-width: 1.5\"/>\n   </g>\n   <g id=\"line2d_58\">\n    <path d=\"M 34.954394 13.5 \nL 44.698573 90.138623 \nL 54.442752 104.932777 \nL 64.186931 112.495287 \nL 73.93111 118.042521 \nL 83.675289 119.444774 \nL 93.419468 123.950795 \nL 103.163647 124.574476 \nL 112.907826 126.973012 \nL 122.652006 128.212782 \n\" clip-path=\"url(#p51a13ee45b)\" style=\"fill: none; stroke: #1f77b4; stroke-width: 1.5; stroke-linecap: square\"/>\n   </g>\n   <g id=\"line2d_59\">\n    <path d=\"M 49.633125 86.398296 \nL 69.163125 110.92968 \nL 88.693125 103.604673 \nL 108.223125 87.546411 \n\" clip-path=\"url(#p51a13ee45b)\" style=\"fill: none; stroke-dasharray: 5.55,2.4; stroke-dashoffset: 0; stroke: #ff7f0e; stroke-width: 1.5\"/>\n   </g>\n   <g id=\"line2d_60\">\n    <path d=\"M 49.633125 31.392374 \nL 69.163125 21.565825 \nL 88.693125 24.450393 \nL 108.223125 30.488966 \n\" clip-path=\"url(#p51a13ee45b)\" style=\"fill: none; stroke-dasharray: 9.6,2.4,1.5,2.4; stroke-dashoffset: 0; stroke: #2ca02c; stroke-width: 1.5\"/>\n   </g>\n   <g id=\"line2d_61\">\n    <path d=\"M 34.954394 13.5 \nL 44.698573 90.138623 \nL 54.442752 104.932777 \nL 64.186931 112.495287 \nL 73.93111 118.042521 \nL 83.675289 119.444774 \nL 93.419468 123.950795 \nL 103.163647 124.574476 \nL 112.907826 126.973012 \nL 122.652006 128.212782 \n\" clip-path=\"url(#p51a13ee45b)\" style=\"fill: none; stroke: #1f77b4; stroke-width: 1.5; stroke-linecap: square\"/>\n   </g>\n   <g id=\"line2d_62\">\n    <path d=\"M 49.633125 86.398296 \nL 69.163125 110.92968 \nL 88.693125 103.604673 \nL 108.223125 87.546411 \nL 127.753125 117.08924 \n\" clip-path=\"url(#p51a13ee45b)\" style=\"fill: none; stroke-dasharray: 5.55,2.4; stroke-dashoffset: 0; stroke: #ff7f0e; stroke-width: 1.5\"/>\n   </g>\n   <g id=\"line2d_63\">\n    <path d=\"M 49.633125 31.392374 \nL 69.163125 21.565825 \nL 88.693125 24.450393 \nL 108.223125 30.488966 \n\" clip-path=\"url(#p51a13ee45b)\" style=\"fill: none; stroke-dasharray: 9.6,2.4,1.5,2.4; stroke-dashoffset: 0; stroke: #2ca02c; stroke-width: 1.5\"/>\n   </g>\n   <g id=\"line2d_64\">\n    <path d=\"M 34.954394 13.5 \nL 44.698573 90.138623 \nL 54.442752 104.932777 \nL 64.186931 112.495287 \nL 73.93111 118.042521 \nL 83.675289 119.444774 \nL 93.419468 123.950795 \nL 103.163647 124.574476 \nL 112.907826 126.973012 \nL 122.652006 128.212782 \n\" clip-path=\"url(#p51a13ee45b)\" style=\"fill: none; stroke: #1f77b4; stroke-width: 1.5; stroke-linecap: square\"/>\n   </g>\n   <g id=\"line2d_65\">\n    <path d=\"M 49.633125 86.398296 \nL 69.163125 110.92968 \nL 88.693125 103.604673 \nL 108.223125 87.546411 \nL 127.753125 117.08924 \n\" clip-path=\"url(#p51a13ee45b)\" style=\"fill: none; stroke-dasharray: 5.55,2.4; stroke-dashoffset: 0; stroke: #ff7f0e; stroke-width: 1.5\"/>\n   </g>\n   <g id=\"line2d_66\">\n    <path d=\"M 49.633125 31.392374 \nL 69.163125 21.565825 \nL 88.693125 24.450393 \nL 108.223125 30.488966 \nL 127.753125 20.282034 \n\" clip-path=\"url(#p51a13ee45b)\" style=\"fill: none; stroke-dasharray: 9.6,2.4,1.5,2.4; stroke-dashoffset: 0; stroke: #2ca02c; stroke-width: 1.5\"/>\n   </g>\n   <g id=\"line2d_67\">\n    <path d=\"M 34.954394 13.5 \nL 44.698573 90.138623 \nL 54.442752 104.932777 \nL 64.186931 112.495287 \nL 73.93111 118.042521 \nL 83.675289 119.444774 \nL 93.419468 123.950795 \nL 103.163647 124.574476 \nL 112.907826 126.973012 \nL 122.652006 128.212782 \nL 132.396185 130.912285 \n\" clip-path=\"url(#p51a13ee45b)\" style=\"fill: none; stroke: #1f77b4; stroke-width: 1.5; stroke-linecap: square\"/>\n   </g>\n   <g id=\"line2d_68\">\n    <path d=\"M 49.633125 86.398296 \nL 69.163125 110.92968 \nL 88.693125 103.604673 \nL 108.223125 87.546411 \nL 127.753125 117.08924 \n\" clip-path=\"url(#p51a13ee45b)\" style=\"fill: none; stroke-dasharray: 5.55,2.4; stroke-dashoffset: 0; stroke: #ff7f0e; stroke-width: 1.5\"/>\n   </g>\n   <g id=\"line2d_69\">\n    <path d=\"M 49.633125 31.392374 \nL 69.163125 21.565825 \nL 88.693125 24.450393 \nL 108.223125 30.488966 \nL 127.753125 20.282034 \n\" clip-path=\"url(#p51a13ee45b)\" style=\"fill: none; stroke-dasharray: 9.6,2.4,1.5,2.4; stroke-dashoffset: 0; stroke: #2ca02c; stroke-width: 1.5\"/>\n   </g>\n   <g id=\"line2d_70\">\n    <path d=\"M 34.954394 13.5 \nL 44.698573 90.138623 \nL 54.442752 104.932777 \nL 64.186931 112.495287 \nL 73.93111 118.042521 \nL 83.675289 119.444774 \nL 93.419468 123.950795 \nL 103.163647 124.574476 \nL 112.907826 126.973012 \nL 122.652006 128.212782 \nL 132.396185 130.912285 \nL 142.140364 130.574327 \n\" clip-path=\"url(#p51a13ee45b)\" style=\"fill: none; stroke: #1f77b4; stroke-width: 1.5; stroke-linecap: square\"/>\n   </g>\n   <g id=\"line2d_71\">\n    <path d=\"M 49.633125 86.398296 \nL 69.163125 110.92968 \nL 88.693125 103.604673 \nL 108.223125 87.546411 \nL 127.753125 117.08924 \n\" clip-path=\"url(#p51a13ee45b)\" style=\"fill: none; stroke-dasharray: 5.55,2.4; stroke-dashoffset: 0; stroke: #ff7f0e; stroke-width: 1.5\"/>\n   </g>\n   <g id=\"line2d_72\">\n    <path d=\"M 49.633125 31.392374 \nL 69.163125 21.565825 \nL 88.693125 24.450393 \nL 108.223125 30.488966 \nL 127.753125 20.282034 \n\" clip-path=\"url(#p51a13ee45b)\" style=\"fill: none; stroke-dasharray: 9.6,2.4,1.5,2.4; stroke-dashoffset: 0; stroke: #2ca02c; stroke-width: 1.5\"/>\n   </g>\n   <g id=\"line2d_73\">\n    <path d=\"M 34.954394 13.5 \nL 44.698573 90.138623 \nL 54.442752 104.932777 \nL 64.186931 112.495287 \nL 73.93111 118.042521 \nL 83.675289 119.444774 \nL 93.419468 123.950795 \nL 103.163647 124.574476 \nL 112.907826 126.973012 \nL 122.652006 128.212782 \nL 132.396185 130.912285 \nL 142.140364 130.574327 \n\" clip-path=\"url(#p51a13ee45b)\" style=\"fill: none; stroke: #1f77b4; stroke-width: 1.5; stroke-linecap: square\"/>\n   </g>\n   <g id=\"line2d_74\">\n    <path d=\"M 49.633125 86.398296 \nL 69.163125 110.92968 \nL 88.693125 103.604673 \nL 108.223125 87.546411 \nL 127.753125 117.08924 \nL 147.283125 104.739553 \n\" clip-path=\"url(#p51a13ee45b)\" style=\"fill: none; stroke-dasharray: 5.55,2.4; stroke-dashoffset: 0; stroke: #ff7f0e; stroke-width: 1.5\"/>\n   </g>\n   <g id=\"line2d_75\">\n    <path d=\"M 49.633125 31.392374 \nL 69.163125 21.565825 \nL 88.693125 24.450393 \nL 108.223125 30.488966 \nL 127.753125 20.282034 \n\" clip-path=\"url(#p51a13ee45b)\" style=\"fill: none; stroke-dasharray: 9.6,2.4,1.5,2.4; stroke-dashoffset: 0; stroke: #2ca02c; stroke-width: 1.5\"/>\n   </g>\n   <g id=\"line2d_76\">\n    <path d=\"M 34.954394 13.5 \nL 44.698573 90.138623 \nL 54.442752 104.932777 \nL 64.186931 112.495287 \nL 73.93111 118.042521 \nL 83.675289 119.444774 \nL 93.419468 123.950795 \nL 103.163647 124.574476 \nL 112.907826 126.973012 \nL 122.652006 128.212782 \nL 132.396185 130.912285 \nL 142.140364 130.574327 \n\" clip-path=\"url(#p51a13ee45b)\" style=\"fill: none; stroke: #1f77b4; stroke-width: 1.5; stroke-linecap: square\"/>\n   </g>\n   <g id=\"line2d_77\">\n    <path d=\"M 49.633125 86.398296 \nL 69.163125 110.92968 \nL 88.693125 103.604673 \nL 108.223125 87.546411 \nL 127.753125 117.08924 \nL 147.283125 104.739553 \n\" clip-path=\"url(#p51a13ee45b)\" style=\"fill: none; stroke-dasharray: 5.55,2.4; stroke-dashoffset: 0; stroke: #ff7f0e; stroke-width: 1.5\"/>\n   </g>\n   <g id=\"line2d_78\">\n    <path d=\"M 49.633125 31.392374 \nL 69.163125 21.565825 \nL 88.693125 24.450393 \nL 108.223125 30.488966 \nL 127.753125 20.282034 \nL 147.283125 24.101709 \n\" clip-path=\"url(#p51a13ee45b)\" style=\"fill: none; stroke-dasharray: 9.6,2.4,1.5,2.4; stroke-dashoffset: 0; stroke: #2ca02c; stroke-width: 1.5\"/>\n   </g>\n   <g id=\"line2d_79\">\n    <path d=\"M 34.954394 13.5 \nL 44.698573 90.138623 \nL 54.442752 104.932777 \nL 64.186931 112.495287 \nL 73.93111 118.042521 \nL 83.675289 119.444774 \nL 93.419468 123.950795 \nL 103.163647 124.574476 \nL 112.907826 126.973012 \nL 122.652006 128.212782 \nL 132.396185 130.912285 \nL 142.140364 130.574327 \nL 151.884543 133.129308 \n\" clip-path=\"url(#p51a13ee45b)\" style=\"fill: none; stroke: #1f77b4; stroke-width: 1.5; stroke-linecap: square\"/>\n   </g>\n   <g id=\"line2d_80\">\n    <path d=\"M 49.633125 86.398296 \nL 69.163125 110.92968 \nL 88.693125 103.604673 \nL 108.223125 87.546411 \nL 127.753125 117.08924 \nL 147.283125 104.739553 \n\" clip-path=\"url(#p51a13ee45b)\" style=\"fill: none; stroke-dasharray: 5.55,2.4; stroke-dashoffset: 0; stroke: #ff7f0e; stroke-width: 1.5\"/>\n   </g>\n   <g id=\"line2d_81\">\n    <path d=\"M 49.633125 31.392374 \nL 69.163125 21.565825 \nL 88.693125 24.450393 \nL 108.223125 30.488966 \nL 127.753125 20.282034 \nL 147.283125 24.101709 \n\" clip-path=\"url(#p51a13ee45b)\" style=\"fill: none; stroke-dasharray: 9.6,2.4,1.5,2.4; stroke-dashoffset: 0; stroke: #2ca02c; stroke-width: 1.5\"/>\n   </g>\n   <g id=\"line2d_82\">\n    <path d=\"M 34.954394 13.5 \nL 44.698573 90.138623 \nL 54.442752 104.932777 \nL 64.186931 112.495287 \nL 73.93111 118.042521 \nL 83.675289 119.444774 \nL 93.419468 123.950795 \nL 103.163647 124.574476 \nL 112.907826 126.973012 \nL 122.652006 128.212782 \nL 132.396185 130.912285 \nL 142.140364 130.574327 \nL 151.884543 133.129308 \nL 161.628722 132.664263 \n\" clip-path=\"url(#p51a13ee45b)\" style=\"fill: none; stroke: #1f77b4; stroke-width: 1.5; stroke-linecap: square\"/>\n   </g>\n   <g id=\"line2d_83\">\n    <path d=\"M 49.633125 86.398296 \nL 69.163125 110.92968 \nL 88.693125 103.604673 \nL 108.223125 87.546411 \nL 127.753125 117.08924 \nL 147.283125 104.739553 \n\" clip-path=\"url(#p51a13ee45b)\" style=\"fill: none; stroke-dasharray: 5.55,2.4; stroke-dashoffset: 0; stroke: #ff7f0e; stroke-width: 1.5\"/>\n   </g>\n   <g id=\"line2d_84\">\n    <path d=\"M 49.633125 31.392374 \nL 69.163125 21.565825 \nL 88.693125 24.450393 \nL 108.223125 30.488966 \nL 127.753125 20.282034 \nL 147.283125 24.101709 \n\" clip-path=\"url(#p51a13ee45b)\" style=\"fill: none; stroke-dasharray: 9.6,2.4,1.5,2.4; stroke-dashoffset: 0; stroke: #2ca02c; stroke-width: 1.5\"/>\n   </g>\n   <g id=\"line2d_85\">\n    <path d=\"M 34.954394 13.5 \nL 44.698573 90.138623 \nL 54.442752 104.932777 \nL 64.186931 112.495287 \nL 73.93111 118.042521 \nL 83.675289 119.444774 \nL 93.419468 123.950795 \nL 103.163647 124.574476 \nL 112.907826 126.973012 \nL 122.652006 128.212782 \nL 132.396185 130.912285 \nL 142.140364 130.574327 \nL 151.884543 133.129308 \nL 161.628722 132.664263 \n\" clip-path=\"url(#p51a13ee45b)\" style=\"fill: none; stroke: #1f77b4; stroke-width: 1.5; stroke-linecap: square\"/>\n   </g>\n   <g id=\"line2d_86\">\n    <path d=\"M 49.633125 86.398296 \nL 69.163125 110.92968 \nL 88.693125 103.604673 \nL 108.223125 87.546411 \nL 127.753125 117.08924 \nL 147.283125 104.739553 \nL 166.813125 111.907841 \n\" clip-path=\"url(#p51a13ee45b)\" style=\"fill: none; stroke-dasharray: 5.55,2.4; stroke-dashoffset: 0; stroke: #ff7f0e; stroke-width: 1.5\"/>\n   </g>\n   <g id=\"line2d_87\">\n    <path d=\"M 49.633125 31.392374 \nL 69.163125 21.565825 \nL 88.693125 24.450393 \nL 108.223125 30.488966 \nL 127.753125 20.282034 \nL 147.283125 24.101709 \n\" clip-path=\"url(#p51a13ee45b)\" style=\"fill: none; stroke-dasharray: 9.6,2.4,1.5,2.4; stroke-dashoffset: 0; stroke: #2ca02c; stroke-width: 1.5\"/>\n   </g>\n   <g id=\"line2d_88\">\n    <path d=\"M 34.954394 13.5 \nL 44.698573 90.138623 \nL 54.442752 104.932777 \nL 64.186931 112.495287 \nL 73.93111 118.042521 \nL 83.675289 119.444774 \nL 93.419468 123.950795 \nL 103.163647 124.574476 \nL 112.907826 126.973012 \nL 122.652006 128.212782 \nL 132.396185 130.912285 \nL 142.140364 130.574327 \nL 151.884543 133.129308 \nL 161.628722 132.664263 \n\" clip-path=\"url(#p51a13ee45b)\" style=\"fill: none; stroke: #1f77b4; stroke-width: 1.5; stroke-linecap: square\"/>\n   </g>\n   <g id=\"line2d_89\">\n    <path d=\"M 49.633125 86.398296 \nL 69.163125 110.92968 \nL 88.693125 103.604673 \nL 108.223125 87.546411 \nL 127.753125 117.08924 \nL 147.283125 104.739553 \nL 166.813125 111.907841 \n\" clip-path=\"url(#p51a13ee45b)\" style=\"fill: none; stroke-dasharray: 5.55,2.4; stroke-dashoffset: 0; stroke: #ff7f0e; stroke-width: 1.5\"/>\n   </g>\n   <g id=\"line2d_90\">\n    <path d=\"M 49.633125 31.392374 \nL 69.163125 21.565825 \nL 88.693125 24.450393 \nL 108.223125 30.488966 \nL 127.753125 20.282034 \nL 147.283125 24.101709 \nL 166.813125 22.088851 \n\" clip-path=\"url(#p51a13ee45b)\" style=\"fill: none; stroke-dasharray: 9.6,2.4,1.5,2.4; stroke-dashoffset: 0; stroke: #2ca02c; stroke-width: 1.5\"/>\n   </g>\n   <g id=\"line2d_91\">\n    <path d=\"M 34.954394 13.5 \nL 44.698573 90.138623 \nL 54.442752 104.932777 \nL 64.186931 112.495287 \nL 73.93111 118.042521 \nL 83.675289 119.444774 \nL 93.419468 123.950795 \nL 103.163647 124.574476 \nL 112.907826 126.973012 \nL 122.652006 128.212782 \nL 132.396185 130.912285 \nL 142.140364 130.574327 \nL 151.884543 133.129308 \nL 161.628722 132.664263 \nL 171.372901 135.477022 \n\" clip-path=\"url(#p51a13ee45b)\" style=\"fill: none; stroke: #1f77b4; stroke-width: 1.5; stroke-linecap: square\"/>\n   </g>\n   <g id=\"line2d_92\">\n    <path d=\"M 49.633125 86.398296 \nL 69.163125 110.92968 \nL 88.693125 103.604673 \nL 108.223125 87.546411 \nL 127.753125 117.08924 \nL 147.283125 104.739553 \nL 166.813125 111.907841 \n\" clip-path=\"url(#p51a13ee45b)\" style=\"fill: none; stroke-dasharray: 5.55,2.4; stroke-dashoffset: 0; stroke: #ff7f0e; stroke-width: 1.5\"/>\n   </g>\n   <g id=\"line2d_93\">\n    <path d=\"M 49.633125 31.392374 \nL 69.163125 21.565825 \nL 88.693125 24.450393 \nL 108.223125 30.488966 \nL 127.753125 20.282034 \nL 147.283125 24.101709 \nL 166.813125 22.088851 \n\" clip-path=\"url(#p51a13ee45b)\" style=\"fill: none; stroke-dasharray: 9.6,2.4,1.5,2.4; stroke-dashoffset: 0; stroke: #2ca02c; stroke-width: 1.5\"/>\n   </g>\n   <g id=\"line2d_94\">\n    <path d=\"M 34.954394 13.5 \nL 44.698573 90.138623 \nL 54.442752 104.932777 \nL 64.186931 112.495287 \nL 73.93111 118.042521 \nL 83.675289 119.444774 \nL 93.419468 123.950795 \nL 103.163647 124.574476 \nL 112.907826 126.973012 \nL 122.652006 128.212782 \nL 132.396185 130.912285 \nL 142.140364 130.574327 \nL 151.884543 133.129308 \nL 161.628722 132.664263 \nL 171.372901 135.477022 \nL 181.11708 135.114081 \n\" clip-path=\"url(#p51a13ee45b)\" style=\"fill: none; stroke: #1f77b4; stroke-width: 1.5; stroke-linecap: square\"/>\n   </g>\n   <g id=\"line2d_95\">\n    <path d=\"M 49.633125 86.398296 \nL 69.163125 110.92968 \nL 88.693125 103.604673 \nL 108.223125 87.546411 \nL 127.753125 117.08924 \nL 147.283125 104.739553 \nL 166.813125 111.907841 \n\" clip-path=\"url(#p51a13ee45b)\" style=\"fill: none; stroke-dasharray: 5.55,2.4; stroke-dashoffset: 0; stroke: #ff7f0e; stroke-width: 1.5\"/>\n   </g>\n   <g id=\"line2d_96\">\n    <path d=\"M 49.633125 31.392374 \nL 69.163125 21.565825 \nL 88.693125 24.450393 \nL 108.223125 30.488966 \nL 127.753125 20.282034 \nL 147.283125 24.101709 \nL 166.813125 22.088851 \n\" clip-path=\"url(#p51a13ee45b)\" style=\"fill: none; stroke-dasharray: 9.6,2.4,1.5,2.4; stroke-dashoffset: 0; stroke: #2ca02c; stroke-width: 1.5\"/>\n   </g>\n   <g id=\"line2d_97\">\n    <path d=\"M 34.954394 13.5 \nL 44.698573 90.138623 \nL 54.442752 104.932777 \nL 64.186931 112.495287 \nL 73.93111 118.042521 \nL 83.675289 119.444774 \nL 93.419468 123.950795 \nL 103.163647 124.574476 \nL 112.907826 126.973012 \nL 122.652006 128.212782 \nL 132.396185 130.912285 \nL 142.140364 130.574327 \nL 151.884543 133.129308 \nL 161.628722 132.664263 \nL 171.372901 135.477022 \nL 181.11708 135.114081 \n\" clip-path=\"url(#p51a13ee45b)\" style=\"fill: none; stroke: #1f77b4; stroke-width: 1.5; stroke-linecap: square\"/>\n   </g>\n   <g id=\"line2d_98\">\n    <path d=\"M 49.633125 86.398296 \nL 69.163125 110.92968 \nL 88.693125 103.604673 \nL 108.223125 87.546411 \nL 127.753125 117.08924 \nL 147.283125 104.739553 \nL 166.813125 111.907841 \nL 186.343125 123.912215 \n\" clip-path=\"url(#p51a13ee45b)\" style=\"fill: none; stroke-dasharray: 5.55,2.4; stroke-dashoffset: 0; stroke: #ff7f0e; stroke-width: 1.5\"/>\n   </g>\n   <g id=\"line2d_99\">\n    <path d=\"M 49.633125 31.392374 \nL 69.163125 21.565825 \nL 88.693125 24.450393 \nL 108.223125 30.488966 \nL 127.753125 20.282034 \nL 147.283125 24.101709 \nL 166.813125 22.088851 \n\" clip-path=\"url(#p51a13ee45b)\" style=\"fill: none; stroke-dasharray: 9.6,2.4,1.5,2.4; stroke-dashoffset: 0; stroke: #2ca02c; stroke-width: 1.5\"/>\n   </g>\n   <g id=\"line2d_100\">\n    <path d=\"M 34.954394 13.5 \nL 44.698573 90.138623 \nL 54.442752 104.932777 \nL 64.186931 112.495287 \nL 73.93111 118.042521 \nL 83.675289 119.444774 \nL 93.419468 123.950795 \nL 103.163647 124.574476 \nL 112.907826 126.973012 \nL 122.652006 128.212782 \nL 132.396185 130.912285 \nL 142.140364 130.574327 \nL 151.884543 133.129308 \nL 161.628722 132.664263 \nL 171.372901 135.477022 \nL 181.11708 135.114081 \n\" clip-path=\"url(#p51a13ee45b)\" style=\"fill: none; stroke: #1f77b4; stroke-width: 1.5; stroke-linecap: square\"/>\n   </g>\n   <g id=\"line2d_101\">\n    <path d=\"M 49.633125 86.398296 \nL 69.163125 110.92968 \nL 88.693125 103.604673 \nL 108.223125 87.546411 \nL 127.753125 117.08924 \nL 147.283125 104.739553 \nL 166.813125 111.907841 \nL 186.343125 123.912215 \n\" clip-path=\"url(#p51a13ee45b)\" style=\"fill: none; stroke-dasharray: 5.55,2.4; stroke-dashoffset: 0; stroke: #ff7f0e; stroke-width: 1.5\"/>\n   </g>\n   <g id=\"line2d_102\">\n    <path d=\"M 49.633125 31.392374 \nL 69.163125 21.565825 \nL 88.693125 24.450393 \nL 108.223125 30.488966 \nL 127.753125 20.282034 \nL 147.283125 24.101709 \nL 166.813125 22.088851 \nL 186.343125 18.39597 \n\" clip-path=\"url(#p51a13ee45b)\" style=\"fill: none; stroke-dasharray: 9.6,2.4,1.5,2.4; stroke-dashoffset: 0; stroke: #2ca02c; stroke-width: 1.5\"/>\n   </g>\n   <g id=\"line2d_103\">\n    <path d=\"M 34.954394 13.5 \nL 44.698573 90.138623 \nL 54.442752 104.932777 \nL 64.186931 112.495287 \nL 73.93111 118.042521 \nL 83.675289 119.444774 \nL 93.419468 123.950795 \nL 103.163647 124.574476 \nL 112.907826 126.973012 \nL 122.652006 128.212782 \nL 132.396185 130.912285 \nL 142.140364 130.574327 \nL 151.884543 133.129308 \nL 161.628722 132.664263 \nL 171.372901 135.477022 \nL 181.11708 135.114081 \nL 190.861259 137.175647 \n\" clip-path=\"url(#p51a13ee45b)\" style=\"fill: none; stroke: #1f77b4; stroke-width: 1.5; stroke-linecap: square\"/>\n   </g>\n   <g id=\"line2d_104\">\n    <path d=\"M 49.633125 86.398296 \nL 69.163125 110.92968 \nL 88.693125 103.604673 \nL 108.223125 87.546411 \nL 127.753125 117.08924 \nL 147.283125 104.739553 \nL 166.813125 111.907841 \nL 186.343125 123.912215 \n\" clip-path=\"url(#p51a13ee45b)\" style=\"fill: none; stroke-dasharray: 5.55,2.4; stroke-dashoffset: 0; stroke: #ff7f0e; stroke-width: 1.5\"/>\n   </g>\n   <g id=\"line2d_105\">\n    <path d=\"M 49.633125 31.392374 \nL 69.163125 21.565825 \nL 88.693125 24.450393 \nL 108.223125 30.488966 \nL 127.753125 20.282034 \nL 147.283125 24.101709 \nL 166.813125 22.088851 \nL 186.343125 18.39597 \n\" clip-path=\"url(#p51a13ee45b)\" style=\"fill: none; stroke-dasharray: 9.6,2.4,1.5,2.4; stroke-dashoffset: 0; stroke: #2ca02c; stroke-width: 1.5\"/>\n   </g>\n   <g id=\"line2d_106\">\n    <path d=\"M 34.954394 13.5 \nL 44.698573 90.138623 \nL 54.442752 104.932777 \nL 64.186931 112.495287 \nL 73.93111 118.042521 \nL 83.675289 119.444774 \nL 93.419468 123.950795 \nL 103.163647 124.574476 \nL 112.907826 126.973012 \nL 122.652006 128.212782 \nL 132.396185 130.912285 \nL 142.140364 130.574327 \nL 151.884543 133.129308 \nL 161.628722 132.664263 \nL 171.372901 135.477022 \nL 181.11708 135.114081 \nL 190.861259 137.175647 \nL 200.605438 136.450161 \n\" clip-path=\"url(#p51a13ee45b)\" style=\"fill: none; stroke: #1f77b4; stroke-width: 1.5; stroke-linecap: square\"/>\n   </g>\n   <g id=\"line2d_107\">\n    <path d=\"M 49.633125 86.398296 \nL 69.163125 110.92968 \nL 88.693125 103.604673 \nL 108.223125 87.546411 \nL 127.753125 117.08924 \nL 147.283125 104.739553 \nL 166.813125 111.907841 \nL 186.343125 123.912215 \n\" clip-path=\"url(#p51a13ee45b)\" style=\"fill: none; stroke-dasharray: 5.55,2.4; stroke-dashoffset: 0; stroke: #ff7f0e; stroke-width: 1.5\"/>\n   </g>\n   <g id=\"line2d_108\">\n    <path d=\"M 49.633125 31.392374 \nL 69.163125 21.565825 \nL 88.693125 24.450393 \nL 108.223125 30.488966 \nL 127.753125 20.282034 \nL 147.283125 24.101709 \nL 166.813125 22.088851 \nL 186.343125 18.39597 \n\" clip-path=\"url(#p51a13ee45b)\" style=\"fill: none; stroke-dasharray: 9.6,2.4,1.5,2.4; stroke-dashoffset: 0; stroke: #2ca02c; stroke-width: 1.5\"/>\n   </g>\n   <g id=\"line2d_109\">\n    <path d=\"M 34.954394 13.5 \nL 44.698573 90.138623 \nL 54.442752 104.932777 \nL 64.186931 112.495287 \nL 73.93111 118.042521 \nL 83.675289 119.444774 \nL 93.419468 123.950795 \nL 103.163647 124.574476 \nL 112.907826 126.973012 \nL 122.652006 128.212782 \nL 132.396185 130.912285 \nL 142.140364 130.574327 \nL 151.884543 133.129308 \nL 161.628722 132.664263 \nL 171.372901 135.477022 \nL 181.11708 135.114081 \nL 190.861259 137.175647 \nL 200.605438 136.450161 \n\" clip-path=\"url(#p51a13ee45b)\" style=\"fill: none; stroke: #1f77b4; stroke-width: 1.5; stroke-linecap: square\"/>\n   </g>\n   <g id=\"line2d_110\">\n    <path d=\"M 49.633125 86.398296 \nL 69.163125 110.92968 \nL 88.693125 103.604673 \nL 108.223125 87.546411 \nL 127.753125 117.08924 \nL 147.283125 104.739553 \nL 166.813125 111.907841 \nL 186.343125 123.912215 \nL 205.873125 113.371147 \n\" clip-path=\"url(#p51a13ee45b)\" style=\"fill: none; stroke-dasharray: 5.55,2.4; stroke-dashoffset: 0; stroke: #ff7f0e; stroke-width: 1.5\"/>\n   </g>\n   <g id=\"line2d_111\">\n    <path d=\"M 49.633125 31.392374 \nL 69.163125 21.565825 \nL 88.693125 24.450393 \nL 108.223125 30.488966 \nL 127.753125 20.282034 \nL 147.283125 24.101709 \nL 166.813125 22.088851 \nL 186.343125 18.39597 \n\" clip-path=\"url(#p51a13ee45b)\" style=\"fill: none; stroke-dasharray: 9.6,2.4,1.5,2.4; stroke-dashoffset: 0; stroke: #2ca02c; stroke-width: 1.5\"/>\n   </g>\n   <g id=\"line2d_112\">\n    <path d=\"M 34.954394 13.5 \nL 44.698573 90.138623 \nL 54.442752 104.932777 \nL 64.186931 112.495287 \nL 73.93111 118.042521 \nL 83.675289 119.444774 \nL 93.419468 123.950795 \nL 103.163647 124.574476 \nL 112.907826 126.973012 \nL 122.652006 128.212782 \nL 132.396185 130.912285 \nL 142.140364 130.574327 \nL 151.884543 133.129308 \nL 161.628722 132.664263 \nL 171.372901 135.477022 \nL 181.11708 135.114081 \nL 190.861259 137.175647 \nL 200.605438 136.450161 \n\" clip-path=\"url(#p51a13ee45b)\" style=\"fill: none; stroke: #1f77b4; stroke-width: 1.5; stroke-linecap: square\"/>\n   </g>\n   <g id=\"line2d_113\">\n    <path d=\"M 49.633125 86.398296 \nL 69.163125 110.92968 \nL 88.693125 103.604673 \nL 108.223125 87.546411 \nL 127.753125 117.08924 \nL 147.283125 104.739553 \nL 166.813125 111.907841 \nL 186.343125 123.912215 \nL 205.873125 113.371147 \n\" clip-path=\"url(#p51a13ee45b)\" style=\"fill: none; stroke-dasharray: 5.55,2.4; stroke-dashoffset: 0; stroke: #ff7f0e; stroke-width: 1.5\"/>\n   </g>\n   <g id=\"line2d_114\">\n    <path d=\"M 49.633125 31.392374 \nL 69.163125 21.565825 \nL 88.693125 24.450393 \nL 108.223125 30.488966 \nL 127.753125 20.282034 \nL 147.283125 24.101709 \nL 166.813125 22.088851 \nL 186.343125 18.39597 \nL 205.873125 21.708468 \n\" clip-path=\"url(#p51a13ee45b)\" style=\"fill: none; stroke-dasharray: 9.6,2.4,1.5,2.4; stroke-dashoffset: 0; stroke: #2ca02c; stroke-width: 1.5\"/>\n   </g>\n   <g id=\"line2d_115\">\n    <path d=\"M 34.954394 13.5 \nL 44.698573 90.138623 \nL 54.442752 104.932777 \nL 64.186931 112.495287 \nL 73.93111 118.042521 \nL 83.675289 119.444774 \nL 93.419468 123.950795 \nL 103.163647 124.574476 \nL 112.907826 126.973012 \nL 122.652006 128.212782 \nL 132.396185 130.912285 \nL 142.140364 130.574327 \nL 151.884543 133.129308 \nL 161.628722 132.664263 \nL 171.372901 135.477022 \nL 181.11708 135.114081 \nL 190.861259 137.175647 \nL 200.605438 136.450161 \nL 210.349618 139.5 \n\" clip-path=\"url(#p51a13ee45b)\" style=\"fill: none; stroke: #1f77b4; stroke-width: 1.5; stroke-linecap: square\"/>\n   </g>\n   <g id=\"line2d_116\">\n    <path d=\"M 49.633125 86.398296 \nL 69.163125 110.92968 \nL 88.693125 103.604673 \nL 108.223125 87.546411 \nL 127.753125 117.08924 \nL 147.283125 104.739553 \nL 166.813125 111.907841 \nL 186.343125 123.912215 \nL 205.873125 113.371147 \n\" clip-path=\"url(#p51a13ee45b)\" style=\"fill: none; stroke-dasharray: 5.55,2.4; stroke-dashoffset: 0; stroke: #ff7f0e; stroke-width: 1.5\"/>\n   </g>\n   <g id=\"line2d_117\">\n    <path d=\"M 49.633125 31.392374 \nL 69.163125 21.565825 \nL 88.693125 24.450393 \nL 108.223125 30.488966 \nL 127.753125 20.282034 \nL 147.283125 24.101709 \nL 166.813125 22.088851 \nL 186.343125 18.39597 \nL 205.873125 21.708468 \n\" clip-path=\"url(#p51a13ee45b)\" style=\"fill: none; stroke-dasharray: 9.6,2.4,1.5,2.4; stroke-dashoffset: 0; stroke: #2ca02c; stroke-width: 1.5\"/>\n   </g>\n   <g id=\"line2d_118\">\n    <path d=\"M 34.954394 13.5 \nL 44.698573 90.138623 \nL 54.442752 104.932777 \nL 64.186931 112.495287 \nL 73.93111 118.042521 \nL 83.675289 119.444774 \nL 93.419468 123.950795 \nL 103.163647 124.574476 \nL 112.907826 126.973012 \nL 122.652006 128.212782 \nL 132.396185 130.912285 \nL 142.140364 130.574327 \nL 151.884543 133.129308 \nL 161.628722 132.664263 \nL 171.372901 135.477022 \nL 181.11708 135.114081 \nL 190.861259 137.175647 \nL 200.605438 136.450161 \nL 210.349618 139.5 \nL 220.093797 137.848467 \n\" clip-path=\"url(#p51a13ee45b)\" style=\"fill: none; stroke: #1f77b4; stroke-width: 1.5; stroke-linecap: square\"/>\n   </g>\n   <g id=\"line2d_119\">\n    <path d=\"M 49.633125 86.398296 \nL 69.163125 110.92968 \nL 88.693125 103.604673 \nL 108.223125 87.546411 \nL 127.753125 117.08924 \nL 147.283125 104.739553 \nL 166.813125 111.907841 \nL 186.343125 123.912215 \nL 205.873125 113.371147 \n\" clip-path=\"url(#p51a13ee45b)\" style=\"fill: none; stroke-dasharray: 5.55,2.4; stroke-dashoffset: 0; stroke: #ff7f0e; stroke-width: 1.5\"/>\n   </g>\n   <g id=\"line2d_120\">\n    <path d=\"M 49.633125 31.392374 \nL 69.163125 21.565825 \nL 88.693125 24.450393 \nL 108.223125 30.488966 \nL 127.753125 20.282034 \nL 147.283125 24.101709 \nL 166.813125 22.088851 \nL 186.343125 18.39597 \nL 205.873125 21.708468 \n\" clip-path=\"url(#p51a13ee45b)\" style=\"fill: none; stroke-dasharray: 9.6,2.4,1.5,2.4; stroke-dashoffset: 0; stroke: #2ca02c; stroke-width: 1.5\"/>\n   </g>\n   <g id=\"line2d_121\">\n    <path d=\"M 34.954394 13.5 \nL 44.698573 90.138623 \nL 54.442752 104.932777 \nL 64.186931 112.495287 \nL 73.93111 118.042521 \nL 83.675289 119.444774 \nL 93.419468 123.950795 \nL 103.163647 124.574476 \nL 112.907826 126.973012 \nL 122.652006 128.212782 \nL 132.396185 130.912285 \nL 142.140364 130.574327 \nL 151.884543 133.129308 \nL 161.628722 132.664263 \nL 171.372901 135.477022 \nL 181.11708 135.114081 \nL 190.861259 137.175647 \nL 200.605438 136.450161 \nL 210.349618 139.5 \nL 220.093797 137.848467 \n\" clip-path=\"url(#p51a13ee45b)\" style=\"fill: none; stroke: #1f77b4; stroke-width: 1.5; stroke-linecap: square\"/>\n   </g>\n   <g id=\"line2d_122\">\n    <path d=\"M 49.633125 86.398296 \nL 69.163125 110.92968 \nL 88.693125 103.604673 \nL 108.223125 87.546411 \nL 127.753125 117.08924 \nL 147.283125 104.739553 \nL 166.813125 111.907841 \nL 186.343125 123.912215 \nL 205.873125 113.371147 \nL 225.403125 115.834246 \n\" clip-path=\"url(#p51a13ee45b)\" style=\"fill: none; stroke-dasharray: 5.55,2.4; stroke-dashoffset: 0; stroke: #ff7f0e; stroke-width: 1.5\"/>\n   </g>\n   <g id=\"line2d_123\">\n    <path d=\"M 49.633125 31.392374 \nL 69.163125 21.565825 \nL 88.693125 24.450393 \nL 108.223125 30.488966 \nL 127.753125 20.282034 \nL 147.283125 24.101709 \nL 166.813125 22.088851 \nL 186.343125 18.39597 \nL 205.873125 21.708468 \n\" clip-path=\"url(#p51a13ee45b)\" style=\"fill: none; stroke-dasharray: 9.6,2.4,1.5,2.4; stroke-dashoffset: 0; stroke: #2ca02c; stroke-width: 1.5\"/>\n   </g>\n   <g id=\"line2d_124\">\n    <path d=\"M 34.954394 13.5 \nL 44.698573 90.138623 \nL 54.442752 104.932777 \nL 64.186931 112.495287 \nL 73.93111 118.042521 \nL 83.675289 119.444774 \nL 93.419468 123.950795 \nL 103.163647 124.574476 \nL 112.907826 126.973012 \nL 122.652006 128.212782 \nL 132.396185 130.912285 \nL 142.140364 130.574327 \nL 151.884543 133.129308 \nL 161.628722 132.664263 \nL 171.372901 135.477022 \nL 181.11708 135.114081 \nL 190.861259 137.175647 \nL 200.605438 136.450161 \nL 210.349618 139.5 \nL 220.093797 137.848467 \n\" clip-path=\"url(#p51a13ee45b)\" style=\"fill: none; stroke: #1f77b4; stroke-width: 1.5; stroke-linecap: square\"/>\n   </g>\n   <g id=\"line2d_125\">\n    <path d=\"M 49.633125 86.398296 \nL 69.163125 110.92968 \nL 88.693125 103.604673 \nL 108.223125 87.546411 \nL 127.753125 117.08924 \nL 147.283125 104.739553 \nL 166.813125 111.907841 \nL 186.343125 123.912215 \nL 205.873125 113.371147 \nL 225.403125 115.834246 \n\" clip-path=\"url(#p51a13ee45b)\" style=\"fill: none; stroke-dasharray: 5.55,2.4; stroke-dashoffset: 0; stroke: #ff7f0e; stroke-width: 1.5\"/>\n   </g>\n   <g id=\"line2d_126\">\n    <path d=\"M 49.633125 31.392374 \nL 69.163125 21.565825 \nL 88.693125 24.450393 \nL 108.223125 30.488966 \nL 127.753125 20.282034 \nL 147.283125 24.101709 \nL 166.813125 22.088851 \nL 186.343125 18.39597 \nL 205.873125 21.708468 \nL 225.403125 19.790706 \n\" clip-path=\"url(#p51a13ee45b)\" style=\"fill: none; stroke-dasharray: 9.6,2.4,1.5,2.4; stroke-dashoffset: 0; stroke: #2ca02c; stroke-width: 1.5\"/>\n   </g>\n   <g id=\"patch_3\">\n    <path d=\"M 30.103125 145.8 \nL 30.103125 7.2 \n\" style=\"fill: none; stroke: #000000; stroke-width: 0.8; stroke-linejoin: miter; stroke-linecap: square\"/>\n   </g>\n   <g id=\"patch_4\">\n    <path d=\"M 225.403125 145.8 \nL 225.403125 7.2 \n\" style=\"fill: none; stroke: #000000; stroke-width: 0.8; stroke-linejoin: miter; stroke-linecap: square\"/>\n   </g>\n   <g id=\"patch_5\">\n    <path d=\"M 30.103125 145.8 \nL 225.403125 145.8 \n\" style=\"fill: none; stroke: #000000; stroke-width: 0.8; stroke-linejoin: miter; stroke-linecap: square\"/>\n   </g>\n   <g id=\"patch_6\">\n    <path d=\"M 30.103125 7.2 \nL 225.403125 7.2 \n\" style=\"fill: none; stroke: #000000; stroke-width: 0.8; stroke-linejoin: miter; stroke-linecap: square\"/>\n   </g>\n   <g id=\"legend_1\">\n    <g id=\"patch_7\">\n     <path d=\"M 138.8125 100.434375 \nL 218.403125 100.434375 \nQ 220.403125 100.434375 220.403125 98.434375 \nL 220.403125 54.565625 \nQ 220.403125 52.565625 218.403125 52.565625 \nL 138.8125 52.565625 \nQ 136.8125 52.565625 136.8125 54.565625 \nL 136.8125 98.434375 \nQ 136.8125 100.434375 138.8125 100.434375 \nz\n\" style=\"fill: #ffffff; opacity: 0.8; stroke: #cccccc; stroke-linejoin: miter\"/>\n    </g>\n    <g id=\"line2d_127\">\n     <path d=\"M 140.8125 60.664063 \nL 150.8125 60.664063 \nL 160.8125 60.664063 \n\" style=\"fill: none; stroke: #1f77b4; stroke-width: 1.5; stroke-linecap: square\"/>\n    </g>\n    <g id=\"text_12\">\n     <!-- train_loss -->\n     <g transform=\"translate(168.8125 64.164063) scale(0.1 -0.1)\">\n      <defs>\n       <path id=\"DejaVuSans-74\" d=\"M 1172 4494 \nL 1172 3500 \nL 2356 3500 \nL 2356 3053 \nL 1172 3053 \nL 1172 1153 \nQ 1172 725 1289 603 \nQ 1406 481 1766 481 \nL 2356 481 \nL 2356 0 \nL 1766 0 \nQ 1100 0 847 248 \nQ 594 497 594 1153 \nL 594 3053 \nL 172 3053 \nL 172 3500 \nL 594 3500 \nL 594 4494 \nL 1172 4494 \nz\n\" transform=\"scale(0.015625)\"/>\n       <path id=\"DejaVuSans-72\" d=\"M 2631 2963 \nQ 2534 3019 2420 3045 \nQ 2306 3072 2169 3072 \nQ 1681 3072 1420 2755 \nQ 1159 2438 1159 1844 \nL 1159 0 \nL 581 0 \nL 581 3500 \nL 1159 3500 \nL 1159 2956 \nQ 1341 3275 1631 3429 \nQ 1922 3584 2338 3584 \nQ 2397 3584 2469 3576 \nQ 2541 3569 2628 3553 \nL 2631 2963 \nz\n\" transform=\"scale(0.015625)\"/>\n       <path id=\"DejaVuSans-61\" d=\"M 2194 1759 \nQ 1497 1759 1228 1600 \nQ 959 1441 959 1056 \nQ 959 750 1161 570 \nQ 1363 391 1709 391 \nQ 2188 391 2477 730 \nQ 2766 1069 2766 1631 \nL 2766 1759 \nL 2194 1759 \nz\nM 3341 1997 \nL 3341 0 \nL 2766 0 \nL 2766 531 \nQ 2569 213 2275 61 \nQ 1981 -91 1556 -91 \nQ 1019 -91 701 211 \nQ 384 513 384 1019 \nQ 384 1609 779 1909 \nQ 1175 2209 1959 2209 \nL 2766 2209 \nL 2766 2266 \nQ 2766 2663 2505 2880 \nQ 2244 3097 1772 3097 \nQ 1472 3097 1187 3025 \nQ 903 2953 641 2809 \nL 641 3341 \nQ 956 3463 1253 3523 \nQ 1550 3584 1831 3584 \nQ 2591 3584 2966 3190 \nQ 3341 2797 3341 1997 \nz\n\" transform=\"scale(0.015625)\"/>\n       <path id=\"DejaVuSans-69\" d=\"M 603 3500 \nL 1178 3500 \nL 1178 0 \nL 603 0 \nL 603 3500 \nz\nM 603 4863 \nL 1178 4863 \nL 1178 4134 \nL 603 4134 \nL 603 4863 \nz\n\" transform=\"scale(0.015625)\"/>\n       <path id=\"DejaVuSans-6e\" d=\"M 3513 2113 \nL 3513 0 \nL 2938 0 \nL 2938 2094 \nQ 2938 2591 2744 2837 \nQ 2550 3084 2163 3084 \nQ 1697 3084 1428 2787 \nQ 1159 2491 1159 1978 \nL 1159 0 \nL 581 0 \nL 581 3500 \nL 1159 3500 \nL 1159 2956 \nQ 1366 3272 1645 3428 \nQ 1925 3584 2291 3584 \nQ 2894 3584 3203 3211 \nQ 3513 2838 3513 2113 \nz\n\" transform=\"scale(0.015625)\"/>\n       <path id=\"DejaVuSans-5f\" d=\"M 3263 -1063 \nL 3263 -1509 \nL -63 -1509 \nL -63 -1063 \nL 3263 -1063 \nz\n\" transform=\"scale(0.015625)\"/>\n       <path id=\"DejaVuSans-6c\" d=\"M 603 4863 \nL 1178 4863 \nL 1178 0 \nL 603 0 \nL 603 4863 \nz\n\" transform=\"scale(0.015625)\"/>\n       <path id=\"DejaVuSans-73\" d=\"M 2834 3397 \nL 2834 2853 \nQ 2591 2978 2328 3040 \nQ 2066 3103 1784 3103 \nQ 1356 3103 1142 2972 \nQ 928 2841 928 2578 \nQ 928 2378 1081 2264 \nQ 1234 2150 1697 2047 \nL 1894 2003 \nQ 2506 1872 2764 1633 \nQ 3022 1394 3022 966 \nQ 3022 478 2636 193 \nQ 2250 -91 1575 -91 \nQ 1294 -91 989 -36 \nQ 684 19 347 128 \nL 347 722 \nQ 666 556 975 473 \nQ 1284 391 1588 391 \nQ 1994 391 2212 530 \nQ 2431 669 2431 922 \nQ 2431 1156 2273 1281 \nQ 2116 1406 1581 1522 \nL 1381 1569 \nQ 847 1681 609 1914 \nQ 372 2147 372 2553 \nQ 372 3047 722 3315 \nQ 1072 3584 1716 3584 \nQ 2034 3584 2315 3537 \nQ 2597 3491 2834 3397 \nz\n\" transform=\"scale(0.015625)\"/>\n      </defs>\n      <use xlink:href=\"#DejaVuSans-74\"/>\n      <use xlink:href=\"#DejaVuSans-72\" x=\"39.208984\"/>\n      <use xlink:href=\"#DejaVuSans-61\" x=\"80.322266\"/>\n      <use xlink:href=\"#DejaVuSans-69\" x=\"141.601562\"/>\n      <use xlink:href=\"#DejaVuSans-6e\" x=\"169.384766\"/>\n      <use xlink:href=\"#DejaVuSans-5f\" x=\"232.763672\"/>\n      <use xlink:href=\"#DejaVuSans-6c\" x=\"282.763672\"/>\n      <use xlink:href=\"#DejaVuSans-6f\" x=\"310.546875\"/>\n      <use xlink:href=\"#DejaVuSans-73\" x=\"371.728516\"/>\n      <use xlink:href=\"#DejaVuSans-73\" x=\"423.828125\"/>\n     </g>\n    </g>\n    <g id=\"line2d_128\">\n     <path d=\"M 140.8125 75.620313 \nL 150.8125 75.620313 \nL 160.8125 75.620313 \n\" style=\"fill: none; stroke-dasharray: 5.55,2.4; stroke-dashoffset: 0; stroke: #ff7f0e; stroke-width: 1.5\"/>\n    </g>\n    <g id=\"text_13\">\n     <!-- val_loss -->\n     <g transform=\"translate(168.8125 79.120313) scale(0.1 -0.1)\">\n      <defs>\n       <path id=\"DejaVuSans-76\" d=\"M 191 3500 \nL 800 3500 \nL 1894 563 \nL 2988 3500 \nL 3597 3500 \nL 2284 0 \nL 1503 0 \nL 191 3500 \nz\n\" transform=\"scale(0.015625)\"/>\n      </defs>\n      <use xlink:href=\"#DejaVuSans-76\"/>\n      <use xlink:href=\"#DejaVuSans-61\" x=\"59.179688\"/>\n      <use xlink:href=\"#DejaVuSans-6c\" x=\"120.458984\"/>\n      <use xlink:href=\"#DejaVuSans-5f\" x=\"148.242188\"/>\n      <use xlink:href=\"#DejaVuSans-6c\" x=\"198.242188\"/>\n      <use xlink:href=\"#DejaVuSans-6f\" x=\"226.025391\"/>\n      <use xlink:href=\"#DejaVuSans-73\" x=\"287.207031\"/>\n      <use xlink:href=\"#DejaVuSans-73\" x=\"339.306641\"/>\n     </g>\n    </g>\n    <g id=\"line2d_129\">\n     <path d=\"M 140.8125 90.576563 \nL 150.8125 90.576563 \nL 160.8125 90.576563 \n\" style=\"fill: none; stroke-dasharray: 9.6,2.4,1.5,2.4; stroke-dashoffset: 0; stroke: #2ca02c; stroke-width: 1.5\"/>\n    </g>\n    <g id=\"text_14\">\n     <!-- val_acc -->\n     <g transform=\"translate(168.8125 94.076563) scale(0.1 -0.1)\">\n      <use xlink:href=\"#DejaVuSans-76\"/>\n      <use xlink:href=\"#DejaVuSans-61\" x=\"59.179688\"/>\n      <use xlink:href=\"#DejaVuSans-6c\" x=\"120.458984\"/>\n      <use xlink:href=\"#DejaVuSans-5f\" x=\"148.242188\"/>\n      <use xlink:href=\"#DejaVuSans-61\" x=\"198.242188\"/>\n      <use xlink:href=\"#DejaVuSans-63\" x=\"259.521484\"/>\n      <use xlink:href=\"#DejaVuSans-63\" x=\"314.501953\"/>\n     </g>\n    </g>\n   </g>\n  </g>\n </g>\n <defs>\n  <clipPath id=\"p51a13ee45b\">\n   <rect x=\"30.103125\" y=\"7.2\" width=\"195.3\" height=\"138.6\"/>\n  </clipPath>\n </defs>\n</svg>\n"
          },
          "metadata": {}
        }
      ]
    },
    {
      "cell_type": "markdown",
      "source": [
        "## 8.7.7 Exercises\n",
        "\n",
        "1. Why do we use average pooling rather than max-pooling in the transition layer?\n",
        "\n",
        "2. One of the advantages mentioned in the DenseNet paper is that its model parameters are smaller than those of ResNet. Why is this the case?\n",
        "\n",
        "3. One problem for which DenseNet has been criticized is its high memory consumption.\n",
        "\n",
        "  * Is this really the case? Try to change the input shape to 224 x 224 to compare the actual GPU memory consumption empirically.\n",
        "\n",
        "  * Can you think of an alternative means of reducing the memory consumption? How would you need to change the framework?\n",
        "\n",
        "4. Implement the various DenseNet versions presented in Table 1 of the DenseNet paper (Huang et al., 2017).\n",
        "\n",
        "5. Design an MLP-based model by applying the DenseNet idea. Apply it to the housing price prediction task in Section 5.7."
      ],
      "metadata": {
        "id": "zsmflJKO2W9T"
      },
      "id": "zsmflJKO2W9T"
    },
    {
      "cell_type": "markdown",
      "source": [
        "## Jawaban Exercises 8.7.7\n",
        "\n",
        "\n",
        "---\n",
        "\n"
      ],
      "metadata": {
        "id": "f-Dqpe952qhc"
      },
      "id": "f-Dqpe952qhc"
    },
    {
      "cell_type": "markdown",
      "source": [
        "**1. Why Do We Use Average Pooling Rather Than Max-Pooling in the Transition Layer?**\n",
        "\n",
        "**Jawaban:** Average pooling digunakan di transition layer untuk mengurangi ukuran fitur secara lebih halus dan mengurangi kemungkinan hilangnya informasi penting. Berbeda dengan **max-pooling**, yang hanya memilih nilai maksimal, average pooling mempertimbangkan semua nilai dalam kernel dan menghasilkan hasil yang lebih stabil. Ini membantu menjaga informasi dan mengurangi risiko kehilangan fitur yang penting bagi DenseNet.\n",
        "\n",
        "**2. Advantages of DenseNet Over ResNet in Terms of Parameters**\n",
        "\n",
        "**Jawaban:** Salah satu keunggulan DenseNet dibandingkan ResNet adalah model parameter DenseNet yang lebih kecil. Alasannya adalah karena DenseNet menggunakan koneksi langsung antara layer-layer, yang memungkinkan penggunaan ulang fitur dari layer sebelumnya, sehingga mengurangi kebutuhan akan banyak filter baru di setiap layer.\n",
        "\n",
        "**3. High Memory Consumption of DenseNet**\n",
        "\n",
        "  * **Is This Really the Case?**\n",
        "\n",
        "**Jawaban:** Memang benar bahwa DenseNet memiliki konsumsi memori yang lebih tinggi, terutama karena setiap layer menerima masukan dari semua layer sebelumnya (concatenation). Setiap output layer juga diteruskan ke semua layer berikutnya, yang meningkatkan penggunaan memori.\n",
        "\n",
        "**Implementasi untuk Menguji Konsumsi Memori:** Menggunakan input dengan ukuran 224×224 dan memeriksa penggunaan memori pada GPU:"
      ],
      "metadata": {
        "id": "ALoUw6sU2zIg"
      },
      "id": "ALoUw6sU2zIg"
    },
    {
      "cell_type": "code",
      "source": [
        "import torch\n",
        "from torchvision import models\n",
        "\n",
        "# Menggunakan model DenseNet\n",
        "model = models.densenet121(pretrained=False)\n",
        "\n",
        "# Memindahkan model ke GPU jika tersedia\n",
        "device = torch.device(\"cuda\" if torch.cuda.is_available() else \"cpu\")\n",
        "model = model.to(device)\n",
        "\n",
        "# Membuat input tensor dengan ukuran (batch_size, channels, height, width)\n",
        "x = torch.randn(1, 3, 224, 224).to(device)\n",
        "\n",
        "# Mengukur konsumsi memori GPU sebelum dan sesudah forward pass\n",
        "torch.cuda.reset_peak_memory_stats()\n",
        "with torch.no_grad():\n",
        "    _ = model(x)\n",
        "\n",
        "peak_memory = torch.cuda.max_memory_allocated(device) / (1024 ** 2)  # Dalam MB\n",
        "print(f\"Peak GPU Memory Usage: {peak_memory:.2f} MB\")\n"
      ],
      "metadata": {
        "colab": {
          "base_uri": "https://localhost:8080/"
        },
        "id": "xx_SvPjY2L5t",
        "outputId": "352cb08c-46ca-4352-daa8-b369d62b4be5"
      },
      "id": "xx_SvPjY2L5t",
      "execution_count": null,
      "outputs": [
        {
          "output_type": "stream",
          "name": "stderr",
          "text": [
            "/usr/local/lib/python3.10/dist-packages/torchvision/models/_utils.py:208: UserWarning: The parameter 'pretrained' is deprecated since 0.13 and may be removed in the future, please use 'weights' instead.\n",
            "  warnings.warn(\n",
            "/usr/local/lib/python3.10/dist-packages/torchvision/models/_utils.py:223: UserWarning: Arguments other than a weight enum or `None` for 'weights' are deprecated since 0.13 and may be removed in the future. The current behavior is equivalent to passing `weights=None`.\n",
            "  warnings.warn(msg)\n"
          ]
        },
        {
          "output_type": "stream",
          "name": "stdout",
          "text": [
            "Peak GPU Memory Usage: 63.33 MB\n"
          ]
        }
      ]
    },
    {
      "cell_type": "markdown",
      "source": [
        "  * **Alternative Means of Reducing Memory Consumption**\n",
        "\n",
        "**Jawaban:** Salah satu alternatif untuk mengurangi konsumsi memori adalah dengan menggunakan bottleneck layers. Bottleneck layer (konvolusi 1x1) digunakan untuk mengurangi jumlah channel sebelum dilakukan concatenation, sehingga mengurangi jumlah data yang harus disimpan di memori.\n",
        "\n",
        "**Implementasi:** Dalam DenseNet, bisa menggunakan Bottleneck Layer sebagai berikut:"
      ],
      "metadata": {
        "id": "6aiMoTIC3gTK"
      },
      "id": "6aiMoTIC3gTK"
    },
    {
      "cell_type": "code",
      "source": [
        "class BottleneckLayer(nn.Module):\n",
        "    def __init__(self, in_channels, growth_rate):\n",
        "        super(BottleneckLayer, self).__init__()\n",
        "        self.bn1 = nn.BatchNorm2d(in_channels)\n",
        "        self.conv1 = nn.Conv2d(in_channels, 4 * growth_rate, kernel_size=1, bias=False)\n",
        "        self.bn2 = nn.BatchNorm2d(4 * growth_rate)\n",
        "        self.conv2 = nn.Conv2d(4 * growth_rate, growth_rate, kernel_size=3, padding=1, bias=False)\n",
        "\n",
        "    def forward(self, x):\n",
        "        out = self.conv1(F.relu(self.bn1(x)))\n",
        "        out = self.conv2(F.relu(self.bn2(out)))\n",
        "        return torch.cat([x, out], 1)\n"
      ],
      "metadata": {
        "id": "I0suGrzI3tmq"
      },
      "id": "I0suGrzI3tmq",
      "execution_count": null,
      "outputs": []
    },
    {
      "cell_type": "markdown",
      "source": [
        "**4. Implement the Various DenseNet Versions Presented in Table 1 of the DenseNet Paper**\n",
        "\n",
        "* **Jawaban:** DenseNet memiliki beberapa versi seperti DenseNet-121, DenseNet-169, dan DenseNet-201, yang berbeda pada jumlah blok dan growth rate. Kita bisa menggunakan konfigurasi yang disajikan di Table 1 untuk mengimplementasikan versi-versi tersebut.\n",
        "\n",
        "* **Implementasi: **Menggunakan DenseNet-121 sebagai contoh, yang terdiri dari 4 dense blocks dan growth rate 32:"
      ],
      "metadata": {
        "id": "5ASgvdAx4TYR"
      },
      "id": "5ASgvdAx4TYR"
    },
    {
      "cell_type": "code",
      "source": [
        "import torchvision.models as models\n",
        "\n",
        "# Menggunakan DenseNet-121 yang telah diimplementasikan di PyTorch\n",
        "densenet121 = models.densenet121(pretrained=False)\n",
        "\n",
        "# Jika ingin menggunakan model di perangkat tertentu\n",
        "device = torch.device(\"cuda\" if torch.cuda.is_available() else \"cpu\")\n",
        "densenet121 = densenet121.to(device)\n"
      ],
      "metadata": {
        "id": "CJDFZDvl4p6d"
      },
      "id": "CJDFZDvl4p6d",
      "execution_count": null,
      "outputs": []
    },
    {
      "cell_type": "markdown",
      "source": [
        "**5. Design an MLP-Based Model by Applying the DenseNet Idea**\n",
        "\n",
        "* **Jawaban:** DenseNet menggunakan pendekatan di mana output dari setiap layer dihubungkan (concatenate) ke layer berikutnya. Pendekatan ini bisa diterapkan pada MLP (Multi-Layer Perceptron) dengan menghubungkan output dari setiap hidden layer ke input dari hidden layer berikutnya.\n",
        "\n",
        "* **Implementasi:** Berikut adalah contoh MLP dengan ide serupa DenseNet:"
      ],
      "metadata": {
        "id": "zOd54A8Z4sXy"
      },
      "id": "zOd54A8Z4sXy"
    },
    {
      "cell_type": "code",
      "source": [
        "class DenseMLP(nn.Module):\n",
        "    def __init__(self, input_size, hidden_sizes, output_size):\n",
        "        super(DenseMLP, self).__init__()\n",
        "        self.hidden_layers = nn.ModuleList()\n",
        "        self.hidden_layers.append(nn.Linear(input_size, hidden_sizes[0]))\n",
        "\n",
        "        for i in range(1, len(hidden_sizes)):\n",
        "            self.hidden_layers.append(nn.Linear(input_size + sum(hidden_sizes[:i]), hidden_sizes[i]))\n",
        "\n",
        "        self.output_layer = nn.Linear(input_size + sum(hidden_sizes), output_size)\n",
        "\n",
        "    def forward(self, x):\n",
        "        inputs = [x]\n",
        "        for layer in self.hidden_layers:\n",
        "            out = F.relu(layer(torch.cat(inputs, dim=1)))\n",
        "            inputs.append(out)\n",
        "        return self.output_layer(torch.cat(inputs, dim=1))\n",
        "\n",
        "# Menggunakan model DenseMLP untuk prediksi harga rumah (Housing Price Prediction)\n",
        "input_size = 13  # Fitur input (misalnya untuk dataset Boston Housing)\n",
        "hidden_sizes = [64, 32, 16]\n",
        "output_size = 1\n",
        "\n",
        "model = DenseMLP(input_size, hidden_sizes, output_size)\n"
      ],
      "metadata": {
        "id": "Q4yYQBZa4qm_"
      },
      "id": "Q4yYQBZa4qm_",
      "execution_count": null,
      "outputs": []
    },
    {
      "cell_type": "markdown",
      "source": [
        "# 8.8. Designing Convolution Network Architectures\n"
      ],
      "metadata": {
        "id": "OCvTPPAs40OB"
      },
      "id": "OCvTPPAs40OB"
    },
    {
      "cell_type": "markdown",
      "source": [
        "## 8.8.1. The AnyNet Design Space"
      ],
      "metadata": {
        "id": "3FbFiIM_4-yK"
      },
      "id": "3FbFiIM_4-yK"
    },
    {
      "cell_type": "code",
      "source": [
        "class AnyNet(d2l.Classifier):\n",
        "    def stem(self, num_channels):\n",
        "        return nn.Sequential(\n",
        "            nn.LazyConv2d(num_channels, kernel_size=3, stride=2, padding=1),\n",
        "            nn.LazyBatchNorm2d(), nn.ReLU())"
      ],
      "metadata": {
        "id": "YAjOj-WY4z9q"
      },
      "id": "YAjOj-WY4z9q",
      "execution_count": null,
      "outputs": []
    },
    {
      "cell_type": "code",
      "source": [
        "@d2l.add_to_class(AnyNet)\n",
        "def stage(self, depth, num_channels, groups, bot_mul):\n",
        "    blk = []\n",
        "    for i in range(depth):\n",
        "        if i == 0:\n",
        "            blk.append(d2l.ResNeXtBlock(num_channels, groups, bot_mul,\n",
        "                use_1x1conv=True, strides=2))\n",
        "        else:\n",
        "            blk.append(d2l.ResNeXtBlock(num_channels, groups, bot_mul))\n",
        "    return nn.Sequential(*blk)"
      ],
      "metadata": {
        "id": "SP_Chv744xfE"
      },
      "id": "SP_Chv744xfE",
      "execution_count": null,
      "outputs": []
    },
    {
      "cell_type": "code",
      "source": [
        "@d2l.add_to_class(AnyNet)\n",
        "def __init__(self, arch, stem_channels, lr=0.1, num_classes=10):\n",
        "    super(AnyNet, self).__init__()\n",
        "    self.save_hyperparameters()\n",
        "    self.net = nn.Sequential(self.stem(stem_channels))\n",
        "    for i, s in enumerate(arch):\n",
        "        self.net.add_module(f'stage{i+1}', self.stage(*s))\n",
        "    self.net.add_module('head', nn.Sequential(\n",
        "        nn.AdaptiveAvgPool2d((1, 1)), nn.Flatten(),\n",
        "        nn.LazyLinear(num_classes)))\n",
        "    self.net.apply(d2l.init_cnn)"
      ],
      "metadata": {
        "id": "CrirqTKe5Ef-"
      },
      "id": "CrirqTKe5Ef-",
      "execution_count": null,
      "outputs": []
    },
    {
      "cell_type": "markdown",
      "source": [
        "## 8.8.3. RegNet"
      ],
      "metadata": {
        "id": "jfRjOAzS5Hp4"
      },
      "id": "jfRjOAzS5Hp4"
    },
    {
      "cell_type": "code",
      "source": [
        "class RegNetX32(AnyNet):\n",
        "    def __init__(self, lr=0.1, num_classes=10):\n",
        "        stem_channels, groups, bot_mul = 32, 16, 1\n",
        "        depths, channels = (4, 6), (32, 80)\n",
        "        super().__init__(\n",
        "            ((depths[0], channels[0], groups, bot_mul),\n",
        "             (depths[1], channels[1], groups, bot_mul)),\n",
        "            stem_channels, lr, num_classes)"
      ],
      "metadata": {
        "id": "i4kMVeg15F1c"
      },
      "id": "i4kMVeg15F1c",
      "execution_count": null,
      "outputs": []
    },
    {
      "cell_type": "code",
      "source": [
        "RegNetX32().layer_summary((1, 1, 96, 96))"
      ],
      "metadata": {
        "colab": {
          "base_uri": "https://localhost:8080/"
        },
        "id": "wmQ_YLbH5Lio",
        "outputId": "9e6dfbd6-f086-466a-dd7b-cf1f39d3585d"
      },
      "id": "wmQ_YLbH5Lio",
      "execution_count": null,
      "outputs": [
        {
          "output_type": "stream",
          "name": "stdout",
          "text": [
            "Sequential output shape:\t torch.Size([1, 32, 48, 48])\n",
            "Sequential output shape:\t torch.Size([1, 32, 24, 24])\n",
            "Sequential output shape:\t torch.Size([1, 80, 12, 12])\n",
            "Sequential output shape:\t torch.Size([1, 10])\n"
          ]
        }
      ]
    },
    {
      "cell_type": "markdown",
      "source": [
        "## 8.8.4 Training"
      ],
      "metadata": {
        "id": "Y16CQIpq5Nng"
      },
      "id": "Y16CQIpq5Nng"
    },
    {
      "cell_type": "code",
      "source": [
        "model = RegNetX32(lr=0.05)\n",
        "trainer = d2l.Trainer(max_epochs=10, num_gpus=1)\n",
        "data = d2l.FashionMNIST(batch_size=128, resize=(96, 96))\n",
        "trainer.fit(model, data)"
      ],
      "metadata": {
        "colab": {
          "base_uri": "https://localhost:8080/",
          "height": 265
        },
        "id": "oMCnvk7A5MtS",
        "outputId": "581f3234-32d4-4614-bbc3-83cb888e5cd3"
      },
      "id": "oMCnvk7A5MtS",
      "execution_count": null,
      "outputs": [
        {
          "output_type": "display_data",
          "data": {
            "text/plain": [
              "<Figure size 350x250 with 1 Axes>"
            ],
            "image/svg+xml": "<?xml version=\"1.0\" encoding=\"utf-8\" standalone=\"no\"?>\n<!DOCTYPE svg PUBLIC \"-//W3C//DTD SVG 1.1//EN\"\n  \"http://www.w3.org/Graphics/SVG/1.1/DTD/svg11.dtd\">\n<svg xmlns:xlink=\"http://www.w3.org/1999/xlink\" width=\"238.965625pt\" height=\"183.35625pt\" viewBox=\"0 0 238.965625 183.35625\" xmlns=\"http://www.w3.org/2000/svg\" version=\"1.1\">\n <metadata>\n  <rdf:RDF xmlns:dc=\"http://purl.org/dc/elements/1.1/\" xmlns:cc=\"http://creativecommons.org/ns#\" xmlns:rdf=\"http://www.w3.org/1999/02/22-rdf-syntax-ns#\">\n   <cc:Work>\n    <dc:type rdf:resource=\"http://purl.org/dc/dcmitype/StillImage\"/>\n    <dc:date>2024-10-05T13:42:11.190502</dc:date>\n    <dc:format>image/svg+xml</dc:format>\n    <dc:creator>\n     <cc:Agent>\n      <dc:title>Matplotlib v3.7.2, https://matplotlib.org/</dc:title>\n     </cc:Agent>\n    </dc:creator>\n   </cc:Work>\n  </rdf:RDF>\n </metadata>\n <defs>\n  <style type=\"text/css\">*{stroke-linejoin: round; stroke-linecap: butt}</style>\n </defs>\n <g id=\"figure_1\">\n  <g id=\"patch_1\">\n   <path d=\"M 0 183.35625 \nL 238.965625 183.35625 \nL 238.965625 0 \nL 0 0 \nz\n\" style=\"fill: #ffffff\"/>\n  </g>\n  <g id=\"axes_1\">\n   <g id=\"patch_2\">\n    <path d=\"M 30.103125 145.8 \nL 225.403125 145.8 \nL 225.403125 7.2 \nL 30.103125 7.2 \nz\n\" style=\"fill: #ffffff\"/>\n   </g>\n   <g id=\"matplotlib.axis_1\">\n    <g id=\"xtick_1\">\n     <g id=\"line2d_1\">\n      <defs>\n       <path id=\"m503bc9e860\" d=\"M 0 0 \nL 0 3.5 \n\" style=\"stroke: #000000; stroke-width: 0.8\"/>\n      </defs>\n      <g>\n       <use xlink:href=\"#m503bc9e860\" x=\"30.103125\" y=\"145.8\" style=\"stroke: #000000; stroke-width: 0.8\"/>\n      </g>\n     </g>\n     <g id=\"text_1\">\n      <!-- 0 -->\n      <g transform=\"translate(26.921875 160.398438) scale(0.1 -0.1)\">\n       <defs>\n        <path id=\"DejaVuSans-30\" d=\"M 2034 4250 \nQ 1547 4250 1301 3770 \nQ 1056 3291 1056 2328 \nQ 1056 1369 1301 889 \nQ 1547 409 2034 409 \nQ 2525 409 2770 889 \nQ 3016 1369 3016 2328 \nQ 3016 3291 2770 3770 \nQ 2525 4250 2034 4250 \nz\nM 2034 4750 \nQ 2819 4750 3233 4129 \nQ 3647 3509 3647 2328 \nQ 3647 1150 3233 529 \nQ 2819 -91 2034 -91 \nQ 1250 -91 836 529 \nQ 422 1150 422 2328 \nQ 422 3509 836 4129 \nQ 1250 4750 2034 4750 \nz\n\" transform=\"scale(0.015625)\"/>\n       </defs>\n       <use xlink:href=\"#DejaVuSans-30\"/>\n      </g>\n     </g>\n    </g>\n    <g id=\"xtick_2\">\n     <g id=\"line2d_2\">\n      <g>\n       <use xlink:href=\"#m503bc9e860\" x=\"69.163125\" y=\"145.8\" style=\"stroke: #000000; stroke-width: 0.8\"/>\n      </g>\n     </g>\n     <g id=\"text_2\">\n      <!-- 2 -->\n      <g transform=\"translate(65.981875 160.398438) scale(0.1 -0.1)\">\n       <defs>\n        <path id=\"DejaVuSans-32\" d=\"M 1228 531 \nL 3431 531 \nL 3431 0 \nL 469 0 \nL 469 531 \nQ 828 903 1448 1529 \nQ 2069 2156 2228 2338 \nQ 2531 2678 2651 2914 \nQ 2772 3150 2772 3378 \nQ 2772 3750 2511 3984 \nQ 2250 4219 1831 4219 \nQ 1534 4219 1204 4116 \nQ 875 4013 500 3803 \nL 500 4441 \nQ 881 4594 1212 4672 \nQ 1544 4750 1819 4750 \nQ 2544 4750 2975 4387 \nQ 3406 4025 3406 3419 \nQ 3406 3131 3298 2873 \nQ 3191 2616 2906 2266 \nQ 2828 2175 2409 1742 \nQ 1991 1309 1228 531 \nz\n\" transform=\"scale(0.015625)\"/>\n       </defs>\n       <use xlink:href=\"#DejaVuSans-32\"/>\n      </g>\n     </g>\n    </g>\n    <g id=\"xtick_3\">\n     <g id=\"line2d_3\">\n      <g>\n       <use xlink:href=\"#m503bc9e860\" x=\"108.223125\" y=\"145.8\" style=\"stroke: #000000; stroke-width: 0.8\"/>\n      </g>\n     </g>\n     <g id=\"text_3\">\n      <!-- 4 -->\n      <g transform=\"translate(105.041875 160.398438) scale(0.1 -0.1)\">\n       <defs>\n        <path id=\"DejaVuSans-34\" d=\"M 2419 4116 \nL 825 1625 \nL 2419 1625 \nL 2419 4116 \nz\nM 2253 4666 \nL 3047 4666 \nL 3047 1625 \nL 3713 1625 \nL 3713 1100 \nL 3047 1100 \nL 3047 0 \nL 2419 0 \nL 2419 1100 \nL 313 1100 \nL 313 1709 \nL 2253 4666 \nz\n\" transform=\"scale(0.015625)\"/>\n       </defs>\n       <use xlink:href=\"#DejaVuSans-34\"/>\n      </g>\n     </g>\n    </g>\n    <g id=\"xtick_4\">\n     <g id=\"line2d_4\">\n      <g>\n       <use xlink:href=\"#m503bc9e860\" x=\"147.283125\" y=\"145.8\" style=\"stroke: #000000; stroke-width: 0.8\"/>\n      </g>\n     </g>\n     <g id=\"text_4\">\n      <!-- 6 -->\n      <g transform=\"translate(144.101875 160.398438) scale(0.1 -0.1)\">\n       <defs>\n        <path id=\"DejaVuSans-36\" d=\"M 2113 2584 \nQ 1688 2584 1439 2293 \nQ 1191 2003 1191 1497 \nQ 1191 994 1439 701 \nQ 1688 409 2113 409 \nQ 2538 409 2786 701 \nQ 3034 994 3034 1497 \nQ 3034 2003 2786 2293 \nQ 2538 2584 2113 2584 \nz\nM 3366 4563 \nL 3366 3988 \nQ 3128 4100 2886 4159 \nQ 2644 4219 2406 4219 \nQ 1781 4219 1451 3797 \nQ 1122 3375 1075 2522 \nQ 1259 2794 1537 2939 \nQ 1816 3084 2150 3084 \nQ 2853 3084 3261 2657 \nQ 3669 2231 3669 1497 \nQ 3669 778 3244 343 \nQ 2819 -91 2113 -91 \nQ 1303 -91 875 529 \nQ 447 1150 447 2328 \nQ 447 3434 972 4092 \nQ 1497 4750 2381 4750 \nQ 2619 4750 2861 4703 \nQ 3103 4656 3366 4563 \nz\n\" transform=\"scale(0.015625)\"/>\n       </defs>\n       <use xlink:href=\"#DejaVuSans-36\"/>\n      </g>\n     </g>\n    </g>\n    <g id=\"xtick_5\">\n     <g id=\"line2d_5\">\n      <g>\n       <use xlink:href=\"#m503bc9e860\" x=\"186.343125\" y=\"145.8\" style=\"stroke: #000000; stroke-width: 0.8\"/>\n      </g>\n     </g>\n     <g id=\"text_5\">\n      <!-- 8 -->\n      <g transform=\"translate(183.161875 160.398438) scale(0.1 -0.1)\">\n       <defs>\n        <path id=\"DejaVuSans-38\" d=\"M 2034 2216 \nQ 1584 2216 1326 1975 \nQ 1069 1734 1069 1313 \nQ 1069 891 1326 650 \nQ 1584 409 2034 409 \nQ 2484 409 2743 651 \nQ 3003 894 3003 1313 \nQ 3003 1734 2745 1975 \nQ 2488 2216 2034 2216 \nz\nM 1403 2484 \nQ 997 2584 770 2862 \nQ 544 3141 544 3541 \nQ 544 4100 942 4425 \nQ 1341 4750 2034 4750 \nQ 2731 4750 3128 4425 \nQ 3525 4100 3525 3541 \nQ 3525 3141 3298 2862 \nQ 3072 2584 2669 2484 \nQ 3125 2378 3379 2068 \nQ 3634 1759 3634 1313 \nQ 3634 634 3220 271 \nQ 2806 -91 2034 -91 \nQ 1263 -91 848 271 \nQ 434 634 434 1313 \nQ 434 1759 690 2068 \nQ 947 2378 1403 2484 \nz\nM 1172 3481 \nQ 1172 3119 1398 2916 \nQ 1625 2713 2034 2713 \nQ 2441 2713 2670 2916 \nQ 2900 3119 2900 3481 \nQ 2900 3844 2670 4047 \nQ 2441 4250 2034 4250 \nQ 1625 4250 1398 4047 \nQ 1172 3844 1172 3481 \nz\n\" transform=\"scale(0.015625)\"/>\n       </defs>\n       <use xlink:href=\"#DejaVuSans-38\"/>\n      </g>\n     </g>\n    </g>\n    <g id=\"xtick_6\">\n     <g id=\"line2d_6\">\n      <g>\n       <use xlink:href=\"#m503bc9e860\" x=\"225.403125\" y=\"145.8\" style=\"stroke: #000000; stroke-width: 0.8\"/>\n      </g>\n     </g>\n     <g id=\"text_6\">\n      <!-- 10 -->\n      <g transform=\"translate(219.040625 160.398438) scale(0.1 -0.1)\">\n       <defs>\n        <path id=\"DejaVuSans-31\" d=\"M 794 531 \nL 1825 531 \nL 1825 4091 \nL 703 3866 \nL 703 4441 \nL 1819 4666 \nL 2450 4666 \nL 2450 531 \nL 3481 531 \nL 3481 0 \nL 794 0 \nL 794 531 \nz\n\" transform=\"scale(0.015625)\"/>\n       </defs>\n       <use xlink:href=\"#DejaVuSans-31\"/>\n       <use xlink:href=\"#DejaVuSans-30\" x=\"63.623047\"/>\n      </g>\n     </g>\n    </g>\n    <g id=\"text_7\">\n     <!-- epoch -->\n     <g transform=\"translate(112.525 174.076563) scale(0.1 -0.1)\">\n      <defs>\n       <path id=\"DejaVuSans-65\" d=\"M 3597 1894 \nL 3597 1613 \nL 953 1613 \nQ 991 1019 1311 708 \nQ 1631 397 2203 397 \nQ 2534 397 2845 478 \nQ 3156 559 3463 722 \nL 3463 178 \nQ 3153 47 2828 -22 \nQ 2503 -91 2169 -91 \nQ 1331 -91 842 396 \nQ 353 884 353 1716 \nQ 353 2575 817 3079 \nQ 1281 3584 2069 3584 \nQ 2775 3584 3186 3129 \nQ 3597 2675 3597 1894 \nz\nM 3022 2063 \nQ 3016 2534 2758 2815 \nQ 2500 3097 2075 3097 \nQ 1594 3097 1305 2825 \nQ 1016 2553 972 2059 \nL 3022 2063 \nz\n\" transform=\"scale(0.015625)\"/>\n       <path id=\"DejaVuSans-70\" d=\"M 1159 525 \nL 1159 -1331 \nL 581 -1331 \nL 581 3500 \nL 1159 3500 \nL 1159 2969 \nQ 1341 3281 1617 3432 \nQ 1894 3584 2278 3584 \nQ 2916 3584 3314 3078 \nQ 3713 2572 3713 1747 \nQ 3713 922 3314 415 \nQ 2916 -91 2278 -91 \nQ 1894 -91 1617 61 \nQ 1341 213 1159 525 \nz\nM 3116 1747 \nQ 3116 2381 2855 2742 \nQ 2594 3103 2138 3103 \nQ 1681 3103 1420 2742 \nQ 1159 2381 1159 1747 \nQ 1159 1113 1420 752 \nQ 1681 391 2138 391 \nQ 2594 391 2855 752 \nQ 3116 1113 3116 1747 \nz\n\" transform=\"scale(0.015625)\"/>\n       <path id=\"DejaVuSans-6f\" d=\"M 1959 3097 \nQ 1497 3097 1228 2736 \nQ 959 2375 959 1747 \nQ 959 1119 1226 758 \nQ 1494 397 1959 397 \nQ 2419 397 2687 759 \nQ 2956 1122 2956 1747 \nQ 2956 2369 2687 2733 \nQ 2419 3097 1959 3097 \nz\nM 1959 3584 \nQ 2709 3584 3137 3096 \nQ 3566 2609 3566 1747 \nQ 3566 888 3137 398 \nQ 2709 -91 1959 -91 \nQ 1206 -91 779 398 \nQ 353 888 353 1747 \nQ 353 2609 779 3096 \nQ 1206 3584 1959 3584 \nz\n\" transform=\"scale(0.015625)\"/>\n       <path id=\"DejaVuSans-63\" d=\"M 3122 3366 \nL 3122 2828 \nQ 2878 2963 2633 3030 \nQ 2388 3097 2138 3097 \nQ 1578 3097 1268 2742 \nQ 959 2388 959 1747 \nQ 959 1106 1268 751 \nQ 1578 397 2138 397 \nQ 2388 397 2633 464 \nQ 2878 531 3122 666 \nL 3122 134 \nQ 2881 22 2623 -34 \nQ 2366 -91 2075 -91 \nQ 1284 -91 818 406 \nQ 353 903 353 1747 \nQ 353 2603 823 3093 \nQ 1294 3584 2113 3584 \nQ 2378 3584 2631 3529 \nQ 2884 3475 3122 3366 \nz\n\" transform=\"scale(0.015625)\"/>\n       <path id=\"DejaVuSans-68\" d=\"M 3513 2113 \nL 3513 0 \nL 2938 0 \nL 2938 2094 \nQ 2938 2591 2744 2837 \nQ 2550 3084 2163 3084 \nQ 1697 3084 1428 2787 \nQ 1159 2491 1159 1978 \nL 1159 0 \nL 581 0 \nL 581 4863 \nL 1159 4863 \nL 1159 2956 \nQ 1366 3272 1645 3428 \nQ 1925 3584 2291 3584 \nQ 2894 3584 3203 3211 \nQ 3513 2838 3513 2113 \nz\n\" transform=\"scale(0.015625)\"/>\n      </defs>\n      <use xlink:href=\"#DejaVuSans-65\"/>\n      <use xlink:href=\"#DejaVuSans-70\" x=\"61.523438\"/>\n      <use xlink:href=\"#DejaVuSans-6f\" x=\"125\"/>\n      <use xlink:href=\"#DejaVuSans-63\" x=\"186.181641\"/>\n      <use xlink:href=\"#DejaVuSans-68\" x=\"241.162109\"/>\n     </g>\n    </g>\n   </g>\n   <g id=\"matplotlib.axis_2\">\n    <g id=\"ytick_1\">\n     <g id=\"line2d_7\">\n      <defs>\n       <path id=\"mc62378115f\" d=\"M 0 0 \nL -3.5 0 \n\" style=\"stroke: #000000; stroke-width: 0.8\"/>\n      </defs>\n      <g>\n       <use xlink:href=\"#mc62378115f\" x=\"30.103125\" y=\"133.590256\" style=\"stroke: #000000; stroke-width: 0.8\"/>\n      </g>\n     </g>\n     <g id=\"text_8\">\n      <!-- 0.2 -->\n      <g transform=\"translate(7.2 137.389474) scale(0.1 -0.1)\">\n       <defs>\n        <path id=\"DejaVuSans-2e\" d=\"M 684 794 \nL 1344 794 \nL 1344 0 \nL 684 0 \nL 684 794 \nz\n\" transform=\"scale(0.015625)\"/>\n       </defs>\n       <use xlink:href=\"#DejaVuSans-30\"/>\n       <use xlink:href=\"#DejaVuSans-2e\" x=\"63.623047\"/>\n       <use xlink:href=\"#DejaVuSans-32\" x=\"95.410156\"/>\n      </g>\n     </g>\n    </g>\n    <g id=\"ytick_2\">\n     <g id=\"line2d_8\">\n      <g>\n       <use xlink:href=\"#mc62378115f\" x=\"30.103125\" y=\"99.549029\" style=\"stroke: #000000; stroke-width: 0.8\"/>\n      </g>\n     </g>\n     <g id=\"text_9\">\n      <!-- 0.4 -->\n      <g transform=\"translate(7.2 103.348248) scale(0.1 -0.1)\">\n       <use xlink:href=\"#DejaVuSans-30\"/>\n       <use xlink:href=\"#DejaVuSans-2e\" x=\"63.623047\"/>\n       <use xlink:href=\"#DejaVuSans-34\" x=\"95.410156\"/>\n      </g>\n     </g>\n    </g>\n    <g id=\"ytick_3\">\n     <g id=\"line2d_9\">\n      <g>\n       <use xlink:href=\"#mc62378115f\" x=\"30.103125\" y=\"65.507803\" style=\"stroke: #000000; stroke-width: 0.8\"/>\n      </g>\n     </g>\n     <g id=\"text_10\">\n      <!-- 0.6 -->\n      <g transform=\"translate(7.2 69.307022) scale(0.1 -0.1)\">\n       <use xlink:href=\"#DejaVuSans-30\"/>\n       <use xlink:href=\"#DejaVuSans-2e\" x=\"63.623047\"/>\n       <use xlink:href=\"#DejaVuSans-36\" x=\"95.410156\"/>\n      </g>\n     </g>\n    </g>\n    <g id=\"ytick_4\">\n     <g id=\"line2d_10\">\n      <g>\n       <use xlink:href=\"#mc62378115f\" x=\"30.103125\" y=\"31.466577\" style=\"stroke: #000000; stroke-width: 0.8\"/>\n      </g>\n     </g>\n     <g id=\"text_11\">\n      <!-- 0.8 -->\n      <g transform=\"translate(7.2 35.265796) scale(0.1 -0.1)\">\n       <use xlink:href=\"#DejaVuSans-30\"/>\n       <use xlink:href=\"#DejaVuSans-2e\" x=\"63.623047\"/>\n       <use xlink:href=\"#DejaVuSans-38\" x=\"95.410156\"/>\n      </g>\n     </g>\n    </g>\n   </g>\n   <g id=\"line2d_11\">\n    <path d=\"M 34.954394 16.115086 \n\" clip-path=\"url(#p691532f28c)\" style=\"fill: none; stroke: #1f77b4; stroke-width: 1.5; stroke-linecap: square\"/>\n   </g>\n   <g id=\"line2d_12\">\n    <path d=\"M 34.954394 16.115086 \nL 44.698573 84.518195 \n\" clip-path=\"url(#p691532f28c)\" style=\"fill: none; stroke: #1f77b4; stroke-width: 1.5; stroke-linecap: square\"/>\n   </g>\n   <g id=\"line2d_13\">\n    <path d=\"M 34.954394 16.115086 \nL 44.698573 84.518195 \n\" clip-path=\"url(#p691532f28c)\" style=\"fill: none; stroke: #1f77b4; stroke-width: 1.5; stroke-linecap: square\"/>\n   </g>\n   <g id=\"line2d_14\">\n    <path d=\"M 49.633125 85.923261 \n\" clip-path=\"url(#p691532f28c)\" style=\"fill: none; stroke-dasharray: 5.55,2.4; stroke-dashoffset: 0; stroke: #ff7f0e; stroke-width: 1.5\"/>\n   </g>\n   <g id=\"line2d_15\"/>\n   <g id=\"line2d_16\">\n    <path d=\"M 34.954394 16.115086 \nL 44.698573 84.518195 \n\" clip-path=\"url(#p691532f28c)\" style=\"fill: none; stroke: #1f77b4; stroke-width: 1.5; stroke-linecap: square\"/>\n   </g>\n   <g id=\"line2d_17\">\n    <path d=\"M 49.633125 85.923261 \n\" clip-path=\"url(#p691532f28c)\" style=\"fill: none; stroke-dasharray: 5.55,2.4; stroke-dashoffset: 0; stroke: #ff7f0e; stroke-width: 1.5\"/>\n   </g>\n   <g id=\"line2d_18\">\n    <path d=\"M 49.633125 26.494376 \n\" clip-path=\"url(#p691532f28c)\" style=\"fill: none; stroke-dasharray: 9.6,2.4,1.5,2.4; stroke-dashoffset: 0; stroke: #2ca02c; stroke-width: 1.5\"/>\n   </g>\n   <g id=\"line2d_19\">\n    <path d=\"M 34.954394 16.115086 \nL 44.698573 84.518195 \nL 54.442752 100.361187 \n\" clip-path=\"url(#p691532f28c)\" style=\"fill: none; stroke: #1f77b4; stroke-width: 1.5; stroke-linecap: square\"/>\n   </g>\n   <g id=\"line2d_20\">\n    <path d=\"M 49.633125 85.923261 \n\" clip-path=\"url(#p691532f28c)\" style=\"fill: none; stroke-dasharray: 5.55,2.4; stroke-dashoffset: 0; stroke: #ff7f0e; stroke-width: 1.5\"/>\n   </g>\n   <g id=\"line2d_21\">\n    <path d=\"M 49.633125 26.494376 \n\" clip-path=\"url(#p691532f28c)\" style=\"fill: none; stroke-dasharray: 9.6,2.4,1.5,2.4; stroke-dashoffset: 0; stroke: #2ca02c; stroke-width: 1.5\"/>\n   </g>\n   <g id=\"line2d_22\">\n    <path d=\"M 34.954394 16.115086 \nL 44.698573 84.518195 \nL 54.442752 100.361187 \nL 64.186931 108.87378 \n\" clip-path=\"url(#p691532f28c)\" style=\"fill: none; stroke: #1f77b4; stroke-width: 1.5; stroke-linecap: square\"/>\n   </g>\n   <g id=\"line2d_23\">\n    <path d=\"M 49.633125 85.923261 \n\" clip-path=\"url(#p691532f28c)\" style=\"fill: none; stroke-dasharray: 5.55,2.4; stroke-dashoffset: 0; stroke: #ff7f0e; stroke-width: 1.5\"/>\n   </g>\n   <g id=\"line2d_24\">\n    <path d=\"M 49.633125 26.494376 \n\" clip-path=\"url(#p691532f28c)\" style=\"fill: none; stroke-dasharray: 9.6,2.4,1.5,2.4; stroke-dashoffset: 0; stroke: #2ca02c; stroke-width: 1.5\"/>\n   </g>\n   <g id=\"line2d_25\">\n    <path d=\"M 34.954394 16.115086 \nL 44.698573 84.518195 \nL 54.442752 100.361187 \nL 64.186931 108.87378 \n\" clip-path=\"url(#p691532f28c)\" style=\"fill: none; stroke: #1f77b4; stroke-width: 1.5; stroke-linecap: square\"/>\n   </g>\n   <g id=\"line2d_26\">\n    <path d=\"M 49.633125 85.923261 \nL 69.163125 101.040301 \n\" clip-path=\"url(#p691532f28c)\" style=\"fill: none; stroke-dasharray: 5.55,2.4; stroke-dashoffset: 0; stroke: #ff7f0e; stroke-width: 1.5\"/>\n   </g>\n   <g id=\"line2d_27\">\n    <path d=\"M 49.633125 26.494376 \n\" clip-path=\"url(#p691532f28c)\" style=\"fill: none; stroke-dasharray: 9.6,2.4,1.5,2.4; stroke-dashoffset: 0; stroke: #2ca02c; stroke-width: 1.5\"/>\n   </g>\n   <g id=\"line2d_28\">\n    <path d=\"M 34.954394 16.115086 \nL 44.698573 84.518195 \nL 54.442752 100.361187 \nL 64.186931 108.87378 \n\" clip-path=\"url(#p691532f28c)\" style=\"fill: none; stroke: #1f77b4; stroke-width: 1.5; stroke-linecap: square\"/>\n   </g>\n   <g id=\"line2d_29\">\n    <path d=\"M 49.633125 85.923261 \nL 69.163125 101.040301 \n\" clip-path=\"url(#p691532f28c)\" style=\"fill: none; stroke-dasharray: 5.55,2.4; stroke-dashoffset: 0; stroke: #ff7f0e; stroke-width: 1.5\"/>\n   </g>\n   <g id=\"line2d_30\">\n    <path d=\"M 49.633125 26.494376 \nL 69.163125 21.798222 \n\" clip-path=\"url(#p691532f28c)\" style=\"fill: none; stroke-dasharray: 9.6,2.4,1.5,2.4; stroke-dashoffset: 0; stroke: #2ca02c; stroke-width: 1.5\"/>\n   </g>\n   <g id=\"line2d_31\">\n    <path d=\"M 34.954394 16.115086 \nL 44.698573 84.518195 \nL 54.442752 100.361187 \nL 64.186931 108.87378 \nL 73.93111 115.047647 \n\" clip-path=\"url(#p691532f28c)\" style=\"fill: none; stroke: #1f77b4; stroke-width: 1.5; stroke-linecap: square\"/>\n   </g>\n   <g id=\"line2d_32\">\n    <path d=\"M 49.633125 85.923261 \nL 69.163125 101.040301 \n\" clip-path=\"url(#p691532f28c)\" style=\"fill: none; stroke-dasharray: 5.55,2.4; stroke-dashoffset: 0; stroke: #ff7f0e; stroke-width: 1.5\"/>\n   </g>\n   <g id=\"line2d_33\">\n    <path d=\"M 49.633125 26.494376 \nL 69.163125 21.798222 \n\" clip-path=\"url(#p691532f28c)\" style=\"fill: none; stroke-dasharray: 9.6,2.4,1.5,2.4; stroke-dashoffset: 0; stroke: #2ca02c; stroke-width: 1.5\"/>\n   </g>\n   <g id=\"line2d_34\">\n    <path d=\"M 34.954394 16.115086 \nL 44.698573 84.518195 \nL 54.442752 100.361187 \nL 64.186931 108.87378 \nL 73.93111 115.047647 \nL 83.675289 116.974712 \n\" clip-path=\"url(#p691532f28c)\" style=\"fill: none; stroke: #1f77b4; stroke-width: 1.5; stroke-linecap: square\"/>\n   </g>\n   <g id=\"line2d_35\">\n    <path d=\"M 49.633125 85.923261 \nL 69.163125 101.040301 \n\" clip-path=\"url(#p691532f28c)\" style=\"fill: none; stroke-dasharray: 5.55,2.4; stroke-dashoffset: 0; stroke: #ff7f0e; stroke-width: 1.5\"/>\n   </g>\n   <g id=\"line2d_36\">\n    <path d=\"M 49.633125 26.494376 \nL 69.163125 21.798222 \n\" clip-path=\"url(#p691532f28c)\" style=\"fill: none; stroke-dasharray: 9.6,2.4,1.5,2.4; stroke-dashoffset: 0; stroke: #2ca02c; stroke-width: 1.5\"/>\n   </g>\n   <g id=\"line2d_37\">\n    <path d=\"M 34.954394 16.115086 \nL 44.698573 84.518195 \nL 54.442752 100.361187 \nL 64.186931 108.87378 \nL 73.93111 115.047647 \nL 83.675289 116.974712 \n\" clip-path=\"url(#p691532f28c)\" style=\"fill: none; stroke: #1f77b4; stroke-width: 1.5; stroke-linecap: square\"/>\n   </g>\n   <g id=\"line2d_38\">\n    <path d=\"M 49.633125 85.923261 \nL 69.163125 101.040301 \nL 88.693125 111.015964 \n\" clip-path=\"url(#p691532f28c)\" style=\"fill: none; stroke-dasharray: 5.55,2.4; stroke-dashoffset: 0; stroke: #ff7f0e; stroke-width: 1.5\"/>\n   </g>\n   <g id=\"line2d_39\">\n    <path d=\"M 49.633125 26.494376 \nL 69.163125 21.798222 \n\" clip-path=\"url(#p691532f28c)\" style=\"fill: none; stroke-dasharray: 9.6,2.4,1.5,2.4; stroke-dashoffset: 0; stroke: #2ca02c; stroke-width: 1.5\"/>\n   </g>\n   <g id=\"line2d_40\">\n    <path d=\"M 34.954394 16.115086 \nL 44.698573 84.518195 \nL 54.442752 100.361187 \nL 64.186931 108.87378 \nL 73.93111 115.047647 \nL 83.675289 116.974712 \n\" clip-path=\"url(#p691532f28c)\" style=\"fill: none; stroke: #1f77b4; stroke-width: 1.5; stroke-linecap: square\"/>\n   </g>\n   <g id=\"line2d_41\">\n    <path d=\"M 49.633125 85.923261 \nL 69.163125 101.040301 \nL 88.693125 111.015964 \n\" clip-path=\"url(#p691532f28c)\" style=\"fill: none; stroke-dasharray: 5.55,2.4; stroke-dashoffset: 0; stroke: #ff7f0e; stroke-width: 1.5\"/>\n   </g>\n   <g id=\"line2d_42\">\n    <path d=\"M 49.633125 26.494376 \nL 69.163125 21.798222 \nL 88.693125 17.489206 \n\" clip-path=\"url(#p691532f28c)\" style=\"fill: none; stroke-dasharray: 9.6,2.4,1.5,2.4; stroke-dashoffset: 0; stroke: #2ca02c; stroke-width: 1.5\"/>\n   </g>\n   <g id=\"line2d_43\">\n    <path d=\"M 34.954394 16.115086 \nL 44.698573 84.518195 \nL 54.442752 100.361187 \nL 64.186931 108.87378 \nL 73.93111 115.047647 \nL 83.675289 116.974712 \nL 93.419468 121.482444 \n\" clip-path=\"url(#p691532f28c)\" style=\"fill: none; stroke: #1f77b4; stroke-width: 1.5; stroke-linecap: square\"/>\n   </g>\n   <g id=\"line2d_44\">\n    <path d=\"M 49.633125 85.923261 \nL 69.163125 101.040301 \nL 88.693125 111.015964 \n\" clip-path=\"url(#p691532f28c)\" style=\"fill: none; stroke-dasharray: 5.55,2.4; stroke-dashoffset: 0; stroke: #ff7f0e; stroke-width: 1.5\"/>\n   </g>\n   <g id=\"line2d_45\">\n    <path d=\"M 49.633125 26.494376 \nL 69.163125 21.798222 \nL 88.693125 17.489206 \n\" clip-path=\"url(#p691532f28c)\" style=\"fill: none; stroke-dasharray: 9.6,2.4,1.5,2.4; stroke-dashoffset: 0; stroke: #2ca02c; stroke-width: 1.5\"/>\n   </g>\n   <g id=\"line2d_46\">\n    <path d=\"M 34.954394 16.115086 \nL 44.698573 84.518195 \nL 54.442752 100.361187 \nL 64.186931 108.87378 \nL 73.93111 115.047647 \nL 83.675289 116.974712 \nL 93.419468 121.482444 \nL 103.163647 121.885939 \n\" clip-path=\"url(#p691532f28c)\" style=\"fill: none; stroke: #1f77b4; stroke-width: 1.5; stroke-linecap: square\"/>\n   </g>\n   <g id=\"line2d_47\">\n    <path d=\"M 49.633125 85.923261 \nL 69.163125 101.040301 \nL 88.693125 111.015964 \n\" clip-path=\"url(#p691532f28c)\" style=\"fill: none; stroke-dasharray: 5.55,2.4; stroke-dashoffset: 0; stroke: #ff7f0e; stroke-width: 1.5\"/>\n   </g>\n   <g id=\"line2d_48\">\n    <path d=\"M 49.633125 26.494376 \nL 69.163125 21.798222 \nL 88.693125 17.489206 \n\" clip-path=\"url(#p691532f28c)\" style=\"fill: none; stroke-dasharray: 9.6,2.4,1.5,2.4; stroke-dashoffset: 0; stroke: #2ca02c; stroke-width: 1.5\"/>\n   </g>\n   <g id=\"line2d_49\">\n    <path d=\"M 34.954394 16.115086 \nL 44.698573 84.518195 \nL 54.442752 100.361187 \nL 64.186931 108.87378 \nL 73.93111 115.047647 \nL 83.675289 116.974712 \nL 93.419468 121.482444 \nL 103.163647 121.885939 \n\" clip-path=\"url(#p691532f28c)\" style=\"fill: none; stroke: #1f77b4; stroke-width: 1.5; stroke-linecap: square\"/>\n   </g>\n   <g id=\"line2d_50\">\n    <path d=\"M 49.633125 85.923261 \nL 69.163125 101.040301 \nL 88.693125 111.015964 \nL 108.223125 106.223166 \n\" clip-path=\"url(#p691532f28c)\" style=\"fill: none; stroke-dasharray: 5.55,2.4; stroke-dashoffset: 0; stroke: #ff7f0e; stroke-width: 1.5\"/>\n   </g>\n   <g id=\"line2d_51\">\n    <path d=\"M 49.633125 26.494376 \nL 69.163125 21.798222 \nL 88.693125 17.489206 \n\" clip-path=\"url(#p691532f28c)\" style=\"fill: none; stroke-dasharray: 9.6,2.4,1.5,2.4; stroke-dashoffset: 0; stroke: #2ca02c; stroke-width: 1.5\"/>\n   </g>\n   <g id=\"line2d_52\">\n    <path d=\"M 34.954394 16.115086 \nL 44.698573 84.518195 \nL 54.442752 100.361187 \nL 64.186931 108.87378 \nL 73.93111 115.047647 \nL 83.675289 116.974712 \nL 93.419468 121.482444 \nL 103.163647 121.885939 \n\" clip-path=\"url(#p691532f28c)\" style=\"fill: none; stroke: #1f77b4; stroke-width: 1.5; stroke-linecap: square\"/>\n   </g>\n   <g id=\"line2d_53\">\n    <path d=\"M 49.633125 85.923261 \nL 69.163125 101.040301 \nL 88.693125 111.015964 \nL 108.223125 106.223166 \n\" clip-path=\"url(#p691532f28c)\" style=\"fill: none; stroke-dasharray: 5.55,2.4; stroke-dashoffset: 0; stroke: #ff7f0e; stroke-width: 1.5\"/>\n   </g>\n   <g id=\"line2d_54\">\n    <path d=\"M 49.633125 26.494376 \nL 69.163125 21.798222 \nL 88.693125 17.489206 \nL 108.223125 19.509057 \n\" clip-path=\"url(#p691532f28c)\" style=\"fill: none; stroke-dasharray: 9.6,2.4,1.5,2.4; stroke-dashoffset: 0; stroke: #2ca02c; stroke-width: 1.5\"/>\n   </g>\n   <g id=\"line2d_55\">\n    <path d=\"M 34.954394 16.115086 \nL 44.698573 84.518195 \nL 54.442752 100.361187 \nL 64.186931 108.87378 \nL 73.93111 115.047647 \nL 83.675289 116.974712 \nL 93.419468 121.482444 \nL 103.163647 121.885939 \nL 112.907826 125.812842 \n\" clip-path=\"url(#p691532f28c)\" style=\"fill: none; stroke: #1f77b4; stroke-width: 1.5; stroke-linecap: square\"/>\n   </g>\n   <g id=\"line2d_56\">\n    <path d=\"M 49.633125 85.923261 \nL 69.163125 101.040301 \nL 88.693125 111.015964 \nL 108.223125 106.223166 \n\" clip-path=\"url(#p691532f28c)\" style=\"fill: none; stroke-dasharray: 5.55,2.4; stroke-dashoffset: 0; stroke: #ff7f0e; stroke-width: 1.5\"/>\n   </g>\n   <g id=\"line2d_57\">\n    <path d=\"M 49.633125 26.494376 \nL 69.163125 21.798222 \nL 88.693125 17.489206 \nL 108.223125 19.509057 \n\" clip-path=\"url(#p691532f28c)\" style=\"fill: none; stroke-dasharray: 9.6,2.4,1.5,2.4; stroke-dashoffset: 0; stroke: #2ca02c; stroke-width: 1.5\"/>\n   </g>\n   <g id=\"line2d_58\">\n    <path d=\"M 34.954394 16.115086 \nL 44.698573 84.518195 \nL 54.442752 100.361187 \nL 64.186931 108.87378 \nL 73.93111 115.047647 \nL 83.675289 116.974712 \nL 93.419468 121.482444 \nL 103.163647 121.885939 \nL 112.907826 125.812842 \nL 122.652006 127.173603 \n\" clip-path=\"url(#p691532f28c)\" style=\"fill: none; stroke: #1f77b4; stroke-width: 1.5; stroke-linecap: square\"/>\n   </g>\n   <g id=\"line2d_59\">\n    <path d=\"M 49.633125 85.923261 \nL 69.163125 101.040301 \nL 88.693125 111.015964 \nL 108.223125 106.223166 \n\" clip-path=\"url(#p691532f28c)\" style=\"fill: none; stroke-dasharray: 5.55,2.4; stroke-dashoffset: 0; stroke: #ff7f0e; stroke-width: 1.5\"/>\n   </g>\n   <g id=\"line2d_60\">\n    <path d=\"M 49.633125 26.494376 \nL 69.163125 21.798222 \nL 88.693125 17.489206 \nL 108.223125 19.509057 \n\" clip-path=\"url(#p691532f28c)\" style=\"fill: none; stroke-dasharray: 9.6,2.4,1.5,2.4; stroke-dashoffset: 0; stroke: #2ca02c; stroke-width: 1.5\"/>\n   </g>\n   <g id=\"line2d_61\">\n    <path d=\"M 34.954394 16.115086 \nL 44.698573 84.518195 \nL 54.442752 100.361187 \nL 64.186931 108.87378 \nL 73.93111 115.047647 \nL 83.675289 116.974712 \nL 93.419468 121.482444 \nL 103.163647 121.885939 \nL 112.907826 125.812842 \nL 122.652006 127.173603 \n\" clip-path=\"url(#p691532f28c)\" style=\"fill: none; stroke: #1f77b4; stroke-width: 1.5; stroke-linecap: square\"/>\n   </g>\n   <g id=\"line2d_62\">\n    <path d=\"M 49.633125 85.923261 \nL 69.163125 101.040301 \nL 88.693125 111.015964 \nL 108.223125 106.223166 \nL 127.753125 118.636038 \n\" clip-path=\"url(#p691532f28c)\" style=\"fill: none; stroke-dasharray: 5.55,2.4; stroke-dashoffset: 0; stroke: #ff7f0e; stroke-width: 1.5\"/>\n   </g>\n   <g id=\"line2d_63\">\n    <path d=\"M 49.633125 26.494376 \nL 69.163125 21.798222 \nL 88.693125 17.489206 \nL 108.223125 19.509057 \n\" clip-path=\"url(#p691532f28c)\" style=\"fill: none; stroke-dasharray: 9.6,2.4,1.5,2.4; stroke-dashoffset: 0; stroke: #2ca02c; stroke-width: 1.5\"/>\n   </g>\n   <g id=\"line2d_64\">\n    <path d=\"M 34.954394 16.115086 \nL 44.698573 84.518195 \nL 54.442752 100.361187 \nL 64.186931 108.87378 \nL 73.93111 115.047647 \nL 83.675289 116.974712 \nL 93.419468 121.482444 \nL 103.163647 121.885939 \nL 112.907826 125.812842 \nL 122.652006 127.173603 \n\" clip-path=\"url(#p691532f28c)\" style=\"fill: none; stroke: #1f77b4; stroke-width: 1.5; stroke-linecap: square\"/>\n   </g>\n   <g id=\"line2d_65\">\n    <path d=\"M 49.633125 85.923261 \nL 69.163125 101.040301 \nL 88.693125 111.015964 \nL 108.223125 106.223166 \nL 127.753125 118.636038 \n\" clip-path=\"url(#p691532f28c)\" style=\"fill: none; stroke-dasharray: 5.55,2.4; stroke-dashoffset: 0; stroke: #ff7f0e; stroke-width: 1.5\"/>\n   </g>\n   <g id=\"line2d_66\">\n    <path d=\"M 49.633125 26.494376 \nL 69.163125 21.798222 \nL 88.693125 17.489206 \nL 108.223125 19.509057 \nL 127.753125 15.082217 \n\" clip-path=\"url(#p691532f28c)\" style=\"fill: none; stroke-dasharray: 9.6,2.4,1.5,2.4; stroke-dashoffset: 0; stroke: #2ca02c; stroke-width: 1.5\"/>\n   </g>\n   <g id=\"line2d_67\">\n    <path d=\"M 34.954394 16.115086 \nL 44.698573 84.518195 \nL 54.442752 100.361187 \nL 64.186931 108.87378 \nL 73.93111 115.047647 \nL 83.675289 116.974712 \nL 93.419468 121.482444 \nL 103.163647 121.885939 \nL 112.907826 125.812842 \nL 122.652006 127.173603 \nL 132.396185 130.119833 \n\" clip-path=\"url(#p691532f28c)\" style=\"fill: none; stroke: #1f77b4; stroke-width: 1.5; stroke-linecap: square\"/>\n   </g>\n   <g id=\"line2d_68\">\n    <path d=\"M 49.633125 85.923261 \nL 69.163125 101.040301 \nL 88.693125 111.015964 \nL 108.223125 106.223166 \nL 127.753125 118.636038 \n\" clip-path=\"url(#p691532f28c)\" style=\"fill: none; stroke-dasharray: 5.55,2.4; stroke-dashoffset: 0; stroke: #ff7f0e; stroke-width: 1.5\"/>\n   </g>\n   <g id=\"line2d_69\">\n    <path d=\"M 49.633125 26.494376 \nL 69.163125 21.798222 \nL 88.693125 17.489206 \nL 108.223125 19.509057 \nL 127.753125 15.082217 \n\" clip-path=\"url(#p691532f28c)\" style=\"fill: none; stroke-dasharray: 9.6,2.4,1.5,2.4; stroke-dashoffset: 0; stroke: #2ca02c; stroke-width: 1.5\"/>\n   </g>\n   <g id=\"line2d_70\">\n    <path d=\"M 34.954394 16.115086 \nL 44.698573 84.518195 \nL 54.442752 100.361187 \nL 64.186931 108.87378 \nL 73.93111 115.047647 \nL 83.675289 116.974712 \nL 93.419468 121.482444 \nL 103.163647 121.885939 \nL 112.907826 125.812842 \nL 122.652006 127.173603 \nL 132.396185 130.119833 \nL 142.140364 128.874205 \n\" clip-path=\"url(#p691532f28c)\" style=\"fill: none; stroke: #1f77b4; stroke-width: 1.5; stroke-linecap: square\"/>\n   </g>\n   <g id=\"line2d_71\">\n    <path d=\"M 49.633125 85.923261 \nL 69.163125 101.040301 \nL 88.693125 111.015964 \nL 108.223125 106.223166 \nL 127.753125 118.636038 \n\" clip-path=\"url(#p691532f28c)\" style=\"fill: none; stroke-dasharray: 5.55,2.4; stroke-dashoffset: 0; stroke: #ff7f0e; stroke-width: 1.5\"/>\n   </g>\n   <g id=\"line2d_72\">\n    <path d=\"M 49.633125 26.494376 \nL 69.163125 21.798222 \nL 88.693125 17.489206 \nL 108.223125 19.509057 \nL 127.753125 15.082217 \n\" clip-path=\"url(#p691532f28c)\" style=\"fill: none; stroke-dasharray: 9.6,2.4,1.5,2.4; stroke-dashoffset: 0; stroke: #2ca02c; stroke-width: 1.5\"/>\n   </g>\n   <g id=\"line2d_73\">\n    <path d=\"M 34.954394 16.115086 \nL 44.698573 84.518195 \nL 54.442752 100.361187 \nL 64.186931 108.87378 \nL 73.93111 115.047647 \nL 83.675289 116.974712 \nL 93.419468 121.482444 \nL 103.163647 121.885939 \nL 112.907826 125.812842 \nL 122.652006 127.173603 \nL 132.396185 130.119833 \nL 142.140364 128.874205 \n\" clip-path=\"url(#p691532f28c)\" style=\"fill: none; stroke: #1f77b4; stroke-width: 1.5; stroke-linecap: square\"/>\n   </g>\n   <g id=\"line2d_74\">\n    <path d=\"M 49.633125 85.923261 \nL 69.163125 101.040301 \nL 88.693125 111.015964 \nL 108.223125 106.223166 \nL 127.753125 118.636038 \nL 147.283125 99.763866 \n\" clip-path=\"url(#p691532f28c)\" style=\"fill: none; stroke-dasharray: 5.55,2.4; stroke-dashoffset: 0; stroke: #ff7f0e; stroke-width: 1.5\"/>\n   </g>\n   <g id=\"line2d_75\">\n    <path d=\"M 49.633125 26.494376 \nL 69.163125 21.798222 \nL 88.693125 17.489206 \nL 108.223125 19.509057 \nL 127.753125 15.082217 \n\" clip-path=\"url(#p691532f28c)\" style=\"fill: none; stroke-dasharray: 9.6,2.4,1.5,2.4; stroke-dashoffset: 0; stroke: #2ca02c; stroke-width: 1.5\"/>\n   </g>\n   <g id=\"line2d_76\">\n    <path d=\"M 34.954394 16.115086 \nL 44.698573 84.518195 \nL 54.442752 100.361187 \nL 64.186931 108.87378 \nL 73.93111 115.047647 \nL 83.675289 116.974712 \nL 93.419468 121.482444 \nL 103.163647 121.885939 \nL 112.907826 125.812842 \nL 122.652006 127.173603 \nL 132.396185 130.119833 \nL 142.140364 128.874205 \n\" clip-path=\"url(#p691532f28c)\" style=\"fill: none; stroke: #1f77b4; stroke-width: 1.5; stroke-linecap: square\"/>\n   </g>\n   <g id=\"line2d_77\">\n    <path d=\"M 49.633125 85.923261 \nL 69.163125 101.040301 \nL 88.693125 111.015964 \nL 108.223125 106.223166 \nL 127.753125 118.636038 \nL 147.283125 99.763866 \n\" clip-path=\"url(#p691532f28c)\" style=\"fill: none; stroke-dasharray: 5.55,2.4; stroke-dashoffset: 0; stroke: #ff7f0e; stroke-width: 1.5\"/>\n   </g>\n   <g id=\"line2d_78\">\n    <path d=\"M 49.633125 26.494376 \nL 69.163125 21.798222 \nL 88.693125 17.489206 \nL 108.223125 19.509057 \nL 127.753125 15.082217 \nL 147.283125 20.569479 \n\" clip-path=\"url(#p691532f28c)\" style=\"fill: none; stroke-dasharray: 9.6,2.4,1.5,2.4; stroke-dashoffset: 0; stroke: #2ca02c; stroke-width: 1.5\"/>\n   </g>\n   <g id=\"line2d_79\">\n    <path d=\"M 34.954394 16.115086 \nL 44.698573 84.518195 \nL 54.442752 100.361187 \nL 64.186931 108.87378 \nL 73.93111 115.047647 \nL 83.675289 116.974712 \nL 93.419468 121.482444 \nL 103.163647 121.885939 \nL 112.907826 125.812842 \nL 122.652006 127.173603 \nL 132.396185 130.119833 \nL 142.140364 128.874205 \nL 151.884543 132.907679 \n\" clip-path=\"url(#p691532f28c)\" style=\"fill: none; stroke: #1f77b4; stroke-width: 1.5; stroke-linecap: square\"/>\n   </g>\n   <g id=\"line2d_80\">\n    <path d=\"M 49.633125 85.923261 \nL 69.163125 101.040301 \nL 88.693125 111.015964 \nL 108.223125 106.223166 \nL 127.753125 118.636038 \nL 147.283125 99.763866 \n\" clip-path=\"url(#p691532f28c)\" style=\"fill: none; stroke-dasharray: 5.55,2.4; stroke-dashoffset: 0; stroke: #ff7f0e; stroke-width: 1.5\"/>\n   </g>\n   <g id=\"line2d_81\">\n    <path d=\"M 49.633125 26.494376 \nL 69.163125 21.798222 \nL 88.693125 17.489206 \nL 108.223125 19.509057 \nL 127.753125 15.082217 \nL 147.283125 20.569479 \n\" clip-path=\"url(#p691532f28c)\" style=\"fill: none; stroke-dasharray: 9.6,2.4,1.5,2.4; stroke-dashoffset: 0; stroke: #2ca02c; stroke-width: 1.5\"/>\n   </g>\n   <g id=\"line2d_82\">\n    <path d=\"M 34.954394 16.115086 \nL 44.698573 84.518195 \nL 54.442752 100.361187 \nL 64.186931 108.87378 \nL 73.93111 115.047647 \nL 83.675289 116.974712 \nL 93.419468 121.482444 \nL 103.163647 121.885939 \nL 112.907826 125.812842 \nL 122.652006 127.173603 \nL 132.396185 130.119833 \nL 142.140364 128.874205 \nL 151.884543 132.907679 \nL 161.628722 132.47908 \n\" clip-path=\"url(#p691532f28c)\" style=\"fill: none; stroke: #1f77b4; stroke-width: 1.5; stroke-linecap: square\"/>\n   </g>\n   <g id=\"line2d_83\">\n    <path d=\"M 49.633125 85.923261 \nL 69.163125 101.040301 \nL 88.693125 111.015964 \nL 108.223125 106.223166 \nL 127.753125 118.636038 \nL 147.283125 99.763866 \n\" clip-path=\"url(#p691532f28c)\" style=\"fill: none; stroke-dasharray: 5.55,2.4; stroke-dashoffset: 0; stroke: #ff7f0e; stroke-width: 1.5\"/>\n   </g>\n   <g id=\"line2d_84\">\n    <path d=\"M 49.633125 26.494376 \nL 69.163125 21.798222 \nL 88.693125 17.489206 \nL 108.223125 19.509057 \nL 127.753125 15.082217 \nL 147.283125 20.569479 \n\" clip-path=\"url(#p691532f28c)\" style=\"fill: none; stroke-dasharray: 9.6,2.4,1.5,2.4; stroke-dashoffset: 0; stroke: #2ca02c; stroke-width: 1.5\"/>\n   </g>\n   <g id=\"line2d_85\">\n    <path d=\"M 34.954394 16.115086 \nL 44.698573 84.518195 \nL 54.442752 100.361187 \nL 64.186931 108.87378 \nL 73.93111 115.047647 \nL 83.675289 116.974712 \nL 93.419468 121.482444 \nL 103.163647 121.885939 \nL 112.907826 125.812842 \nL 122.652006 127.173603 \nL 132.396185 130.119833 \nL 142.140364 128.874205 \nL 151.884543 132.907679 \nL 161.628722 132.47908 \n\" clip-path=\"url(#p691532f28c)\" style=\"fill: none; stroke: #1f77b4; stroke-width: 1.5; stroke-linecap: square\"/>\n   </g>\n   <g id=\"line2d_86\">\n    <path d=\"M 49.633125 85.923261 \nL 69.163125 101.040301 \nL 88.693125 111.015964 \nL 108.223125 106.223166 \nL 127.753125 118.636038 \nL 147.283125 99.763866 \nL 166.813125 114.913613 \n\" clip-path=\"url(#p691532f28c)\" style=\"fill: none; stroke-dasharray: 5.55,2.4; stroke-dashoffset: 0; stroke: #ff7f0e; stroke-width: 1.5\"/>\n   </g>\n   <g id=\"line2d_87\">\n    <path d=\"M 49.633125 26.494376 \nL 69.163125 21.798222 \nL 88.693125 17.489206 \nL 108.223125 19.509057 \nL 127.753125 15.082217 \nL 147.283125 20.569479 \n\" clip-path=\"url(#p691532f28c)\" style=\"fill: none; stroke-dasharray: 9.6,2.4,1.5,2.4; stroke-dashoffset: 0; stroke: #2ca02c; stroke-width: 1.5\"/>\n   </g>\n   <g id=\"line2d_88\">\n    <path d=\"M 34.954394 16.115086 \nL 44.698573 84.518195 \nL 54.442752 100.361187 \nL 64.186931 108.87378 \nL 73.93111 115.047647 \nL 83.675289 116.974712 \nL 93.419468 121.482444 \nL 103.163647 121.885939 \nL 112.907826 125.812842 \nL 122.652006 127.173603 \nL 132.396185 130.119833 \nL 142.140364 128.874205 \nL 151.884543 132.907679 \nL 161.628722 132.47908 \n\" clip-path=\"url(#p691532f28c)\" style=\"fill: none; stroke: #1f77b4; stroke-width: 1.5; stroke-linecap: square\"/>\n   </g>\n   <g id=\"line2d_89\">\n    <path d=\"M 49.633125 85.923261 \nL 69.163125 101.040301 \nL 88.693125 111.015964 \nL 108.223125 106.223166 \nL 127.753125 118.636038 \nL 147.283125 99.763866 \nL 166.813125 114.913613 \n\" clip-path=\"url(#p691532f28c)\" style=\"fill: none; stroke-dasharray: 5.55,2.4; stroke-dashoffset: 0; stroke: #ff7f0e; stroke-width: 1.5\"/>\n   </g>\n   <g id=\"line2d_90\">\n    <path d=\"M 49.633125 26.494376 \nL 69.163125 21.798222 \nL 88.693125 17.489206 \nL 108.223125 19.509057 \nL 127.753125 15.082217 \nL 147.283125 20.569479 \nL 166.813125 16.984243 \n\" clip-path=\"url(#p691532f28c)\" style=\"fill: none; stroke-dasharray: 9.6,2.4,1.5,2.4; stroke-dashoffset: 0; stroke: #2ca02c; stroke-width: 1.5\"/>\n   </g>\n   <g id=\"line2d_91\">\n    <path d=\"M 34.954394 16.115086 \nL 44.698573 84.518195 \nL 54.442752 100.361187 \nL 64.186931 108.87378 \nL 73.93111 115.047647 \nL 83.675289 116.974712 \nL 93.419468 121.482444 \nL 103.163647 121.885939 \nL 112.907826 125.812842 \nL 122.652006 127.173603 \nL 132.396185 130.119833 \nL 142.140364 128.874205 \nL 151.884543 132.907679 \nL 161.628722 132.47908 \nL 171.372901 135.151648 \n\" clip-path=\"url(#p691532f28c)\" style=\"fill: none; stroke: #1f77b4; stroke-width: 1.5; stroke-linecap: square\"/>\n   </g>\n   <g id=\"line2d_92\">\n    <path d=\"M 49.633125 85.923261 \nL 69.163125 101.040301 \nL 88.693125 111.015964 \nL 108.223125 106.223166 \nL 127.753125 118.636038 \nL 147.283125 99.763866 \nL 166.813125 114.913613 \n\" clip-path=\"url(#p691532f28c)\" style=\"fill: none; stroke-dasharray: 5.55,2.4; stroke-dashoffset: 0; stroke: #ff7f0e; stroke-width: 1.5\"/>\n   </g>\n   <g id=\"line2d_93\">\n    <path d=\"M 49.633125 26.494376 \nL 69.163125 21.798222 \nL 88.693125 17.489206 \nL 108.223125 19.509057 \nL 127.753125 15.082217 \nL 147.283125 20.569479 \nL 166.813125 16.984243 \n\" clip-path=\"url(#p691532f28c)\" style=\"fill: none; stroke-dasharray: 9.6,2.4,1.5,2.4; stroke-dashoffset: 0; stroke: #2ca02c; stroke-width: 1.5\"/>\n   </g>\n   <g id=\"line2d_94\">\n    <path d=\"M 34.954394 16.115086 \nL 44.698573 84.518195 \nL 54.442752 100.361187 \nL 64.186931 108.87378 \nL 73.93111 115.047647 \nL 83.675289 116.974712 \nL 93.419468 121.482444 \nL 103.163647 121.885939 \nL 112.907826 125.812842 \nL 122.652006 127.173603 \nL 132.396185 130.119833 \nL 142.140364 128.874205 \nL 151.884543 132.907679 \nL 161.628722 132.47908 \nL 171.372901 135.151648 \nL 181.11708 135.025944 \n\" clip-path=\"url(#p691532f28c)\" style=\"fill: none; stroke: #1f77b4; stroke-width: 1.5; stroke-linecap: square\"/>\n   </g>\n   <g id=\"line2d_95\">\n    <path d=\"M 49.633125 85.923261 \nL 69.163125 101.040301 \nL 88.693125 111.015964 \nL 108.223125 106.223166 \nL 127.753125 118.636038 \nL 147.283125 99.763866 \nL 166.813125 114.913613 \n\" clip-path=\"url(#p691532f28c)\" style=\"fill: none; stroke-dasharray: 5.55,2.4; stroke-dashoffset: 0; stroke: #ff7f0e; stroke-width: 1.5\"/>\n   </g>\n   <g id=\"line2d_96\">\n    <path d=\"M 49.633125 26.494376 \nL 69.163125 21.798222 \nL 88.693125 17.489206 \nL 108.223125 19.509057 \nL 127.753125 15.082217 \nL 147.283125 20.569479 \nL 166.813125 16.984243 \n\" clip-path=\"url(#p691532f28c)\" style=\"fill: none; stroke-dasharray: 9.6,2.4,1.5,2.4; stroke-dashoffset: 0; stroke: #2ca02c; stroke-width: 1.5\"/>\n   </g>\n   <g id=\"line2d_97\">\n    <path d=\"M 34.954394 16.115086 \nL 44.698573 84.518195 \nL 54.442752 100.361187 \nL 64.186931 108.87378 \nL 73.93111 115.047647 \nL 83.675289 116.974712 \nL 93.419468 121.482444 \nL 103.163647 121.885939 \nL 112.907826 125.812842 \nL 122.652006 127.173603 \nL 132.396185 130.119833 \nL 142.140364 128.874205 \nL 151.884543 132.907679 \nL 161.628722 132.47908 \nL 171.372901 135.151648 \nL 181.11708 135.025944 \n\" clip-path=\"url(#p691532f28c)\" style=\"fill: none; stroke: #1f77b4; stroke-width: 1.5; stroke-linecap: square\"/>\n   </g>\n   <g id=\"line2d_98\">\n    <path d=\"M 49.633125 85.923261 \nL 69.163125 101.040301 \nL 88.693125 111.015964 \nL 108.223125 106.223166 \nL 127.753125 118.636038 \nL 147.283125 99.763866 \nL 166.813125 114.913613 \nL 186.343125 113.465425 \n\" clip-path=\"url(#p691532f28c)\" style=\"fill: none; stroke-dasharray: 5.55,2.4; stroke-dashoffset: 0; stroke: #ff7f0e; stroke-width: 1.5\"/>\n   </g>\n   <g id=\"line2d_99\">\n    <path d=\"M 49.633125 26.494376 \nL 69.163125 21.798222 \nL 88.693125 17.489206 \nL 108.223125 19.509057 \nL 127.753125 15.082217 \nL 147.283125 20.569479 \nL 166.813125 16.984243 \n\" clip-path=\"url(#p691532f28c)\" style=\"fill: none; stroke-dasharray: 9.6,2.4,1.5,2.4; stroke-dashoffset: 0; stroke: #2ca02c; stroke-width: 1.5\"/>\n   </g>\n   <g id=\"line2d_100\">\n    <path d=\"M 34.954394 16.115086 \nL 44.698573 84.518195 \nL 54.442752 100.361187 \nL 64.186931 108.87378 \nL 73.93111 115.047647 \nL 83.675289 116.974712 \nL 93.419468 121.482444 \nL 103.163647 121.885939 \nL 112.907826 125.812842 \nL 122.652006 127.173603 \nL 132.396185 130.119833 \nL 142.140364 128.874205 \nL 151.884543 132.907679 \nL 161.628722 132.47908 \nL 171.372901 135.151648 \nL 181.11708 135.025944 \n\" clip-path=\"url(#p691532f28c)\" style=\"fill: none; stroke: #1f77b4; stroke-width: 1.5; stroke-linecap: square\"/>\n   </g>\n   <g id=\"line2d_101\">\n    <path d=\"M 49.633125 85.923261 \nL 69.163125 101.040301 \nL 88.693125 111.015964 \nL 108.223125 106.223166 \nL 127.753125 118.636038 \nL 147.283125 99.763866 \nL 166.813125 114.913613 \nL 186.343125 113.465425 \n\" clip-path=\"url(#p691532f28c)\" style=\"fill: none; stroke-dasharray: 5.55,2.4; stroke-dashoffset: 0; stroke: #ff7f0e; stroke-width: 1.5\"/>\n   </g>\n   <g id=\"line2d_102\">\n    <path d=\"M 49.633125 26.494376 \nL 69.163125 21.798222 \nL 88.693125 17.489206 \nL 108.223125 19.509057 \nL 127.753125 15.082217 \nL 147.283125 20.569479 \nL 166.813125 16.984243 \nL 186.343125 16.260463 \n\" clip-path=\"url(#p691532f28c)\" style=\"fill: none; stroke-dasharray: 9.6,2.4,1.5,2.4; stroke-dashoffset: 0; stroke: #2ca02c; stroke-width: 1.5\"/>\n   </g>\n   <g id=\"line2d_103\">\n    <path d=\"M 34.954394 16.115086 \nL 44.698573 84.518195 \nL 54.442752 100.361187 \nL 64.186931 108.87378 \nL 73.93111 115.047647 \nL 83.675289 116.974712 \nL 93.419468 121.482444 \nL 103.163647 121.885939 \nL 112.907826 125.812842 \nL 122.652006 127.173603 \nL 132.396185 130.119833 \nL 142.140364 128.874205 \nL 151.884543 132.907679 \nL 161.628722 132.47908 \nL 171.372901 135.151648 \nL 181.11708 135.025944 \nL 190.861259 138.488429 \n\" clip-path=\"url(#p691532f28c)\" style=\"fill: none; stroke: #1f77b4; stroke-width: 1.5; stroke-linecap: square\"/>\n   </g>\n   <g id=\"line2d_104\">\n    <path d=\"M 49.633125 85.923261 \nL 69.163125 101.040301 \nL 88.693125 111.015964 \nL 108.223125 106.223166 \nL 127.753125 118.636038 \nL 147.283125 99.763866 \nL 166.813125 114.913613 \nL 186.343125 113.465425 \n\" clip-path=\"url(#p691532f28c)\" style=\"fill: none; stroke-dasharray: 5.55,2.4; stroke-dashoffset: 0; stroke: #ff7f0e; stroke-width: 1.5\"/>\n   </g>\n   <g id=\"line2d_105\">\n    <path d=\"M 49.633125 26.494376 \nL 69.163125 21.798222 \nL 88.693125 17.489206 \nL 108.223125 19.509057 \nL 127.753125 15.082217 \nL 147.283125 20.569479 \nL 166.813125 16.984243 \nL 186.343125 16.260463 \n\" clip-path=\"url(#p691532f28c)\" style=\"fill: none; stroke-dasharray: 9.6,2.4,1.5,2.4; stroke-dashoffset: 0; stroke: #2ca02c; stroke-width: 1.5\"/>\n   </g>\n   <g id=\"line2d_106\">\n    <path d=\"M 34.954394 16.115086 \nL 44.698573 84.518195 \nL 54.442752 100.361187 \nL 64.186931 108.87378 \nL 73.93111 115.047647 \nL 83.675289 116.974712 \nL 93.419468 121.482444 \nL 103.163647 121.885939 \nL 112.907826 125.812842 \nL 122.652006 127.173603 \nL 132.396185 130.119833 \nL 142.140364 128.874205 \nL 151.884543 132.907679 \nL 161.628722 132.47908 \nL 171.372901 135.151648 \nL 181.11708 135.025944 \nL 190.861259 138.488429 \nL 200.605438 136.607847 \n\" clip-path=\"url(#p691532f28c)\" style=\"fill: none; stroke: #1f77b4; stroke-width: 1.5; stroke-linecap: square\"/>\n   </g>\n   <g id=\"line2d_107\">\n    <path d=\"M 49.633125 85.923261 \nL 69.163125 101.040301 \nL 88.693125 111.015964 \nL 108.223125 106.223166 \nL 127.753125 118.636038 \nL 147.283125 99.763866 \nL 166.813125 114.913613 \nL 186.343125 113.465425 \n\" clip-path=\"url(#p691532f28c)\" style=\"fill: none; stroke-dasharray: 5.55,2.4; stroke-dashoffset: 0; stroke: #ff7f0e; stroke-width: 1.5\"/>\n   </g>\n   <g id=\"line2d_108\">\n    <path d=\"M 49.633125 26.494376 \nL 69.163125 21.798222 \nL 88.693125 17.489206 \nL 108.223125 19.509057 \nL 127.753125 15.082217 \nL 147.283125 20.569479 \nL 166.813125 16.984243 \nL 186.343125 16.260463 \n\" clip-path=\"url(#p691532f28c)\" style=\"fill: none; stroke-dasharray: 9.6,2.4,1.5,2.4; stroke-dashoffset: 0; stroke: #2ca02c; stroke-width: 1.5\"/>\n   </g>\n   <g id=\"line2d_109\">\n    <path d=\"M 34.954394 16.115086 \nL 44.698573 84.518195 \nL 54.442752 100.361187 \nL 64.186931 108.87378 \nL 73.93111 115.047647 \nL 83.675289 116.974712 \nL 93.419468 121.482444 \nL 103.163647 121.885939 \nL 112.907826 125.812842 \nL 122.652006 127.173603 \nL 132.396185 130.119833 \nL 142.140364 128.874205 \nL 151.884543 132.907679 \nL 161.628722 132.47908 \nL 171.372901 135.151648 \nL 181.11708 135.025944 \nL 190.861259 138.488429 \nL 200.605438 136.607847 \n\" clip-path=\"url(#p691532f28c)\" style=\"fill: none; stroke: #1f77b4; stroke-width: 1.5; stroke-linecap: square\"/>\n   </g>\n   <g id=\"line2d_110\">\n    <path d=\"M 49.633125 85.923261 \nL 69.163125 101.040301 \nL 88.693125 111.015964 \nL 108.223125 106.223166 \nL 127.753125 118.636038 \nL 147.283125 99.763866 \nL 166.813125 114.913613 \nL 186.343125 113.465425 \nL 205.873125 100.123623 \n\" clip-path=\"url(#p691532f28c)\" style=\"fill: none; stroke-dasharray: 5.55,2.4; stroke-dashoffset: 0; stroke: #ff7f0e; stroke-width: 1.5\"/>\n   </g>\n   <g id=\"line2d_111\">\n    <path d=\"M 49.633125 26.494376 \nL 69.163125 21.798222 \nL 88.693125 17.489206 \nL 108.223125 19.509057 \nL 127.753125 15.082217 \nL 147.283125 20.569479 \nL 166.813125 16.984243 \nL 186.343125 16.260463 \n\" clip-path=\"url(#p691532f28c)\" style=\"fill: none; stroke-dasharray: 9.6,2.4,1.5,2.4; stroke-dashoffset: 0; stroke: #2ca02c; stroke-width: 1.5\"/>\n   </g>\n   <g id=\"line2d_112\">\n    <path d=\"M 34.954394 16.115086 \nL 44.698573 84.518195 \nL 54.442752 100.361187 \nL 64.186931 108.87378 \nL 73.93111 115.047647 \nL 83.675289 116.974712 \nL 93.419468 121.482444 \nL 103.163647 121.885939 \nL 112.907826 125.812842 \nL 122.652006 127.173603 \nL 132.396185 130.119833 \nL 142.140364 128.874205 \nL 151.884543 132.907679 \nL 161.628722 132.47908 \nL 171.372901 135.151648 \nL 181.11708 135.025944 \nL 190.861259 138.488429 \nL 200.605438 136.607847 \n\" clip-path=\"url(#p691532f28c)\" style=\"fill: none; stroke: #1f77b4; stroke-width: 1.5; stroke-linecap: square\"/>\n   </g>\n   <g id=\"line2d_113\">\n    <path d=\"M 49.633125 85.923261 \nL 69.163125 101.040301 \nL 88.693125 111.015964 \nL 108.223125 106.223166 \nL 127.753125 118.636038 \nL 147.283125 99.763866 \nL 166.813125 114.913613 \nL 186.343125 113.465425 \nL 205.873125 100.123623 \n\" clip-path=\"url(#p691532f28c)\" style=\"fill: none; stroke-dasharray: 5.55,2.4; stroke-dashoffset: 0; stroke: #ff7f0e; stroke-width: 1.5\"/>\n   </g>\n   <g id=\"line2d_114\">\n    <path d=\"M 49.633125 26.494376 \nL 69.163125 21.798222 \nL 88.693125 17.489206 \nL 108.223125 19.509057 \nL 127.753125 15.082217 \nL 147.283125 20.569479 \nL 166.813125 16.984243 \nL 186.343125 16.260463 \nL 205.873125 20.636808 \n\" clip-path=\"url(#p691532f28c)\" style=\"fill: none; stroke-dasharray: 9.6,2.4,1.5,2.4; stroke-dashoffset: 0; stroke: #2ca02c; stroke-width: 1.5\"/>\n   </g>\n   <g id=\"line2d_115\">\n    <path d=\"M 34.954394 16.115086 \nL 44.698573 84.518195 \nL 54.442752 100.361187 \nL 64.186931 108.87378 \nL 73.93111 115.047647 \nL 83.675289 116.974712 \nL 93.419468 121.482444 \nL 103.163647 121.885939 \nL 112.907826 125.812842 \nL 122.652006 127.173603 \nL 132.396185 130.119833 \nL 142.140364 128.874205 \nL 151.884543 132.907679 \nL 161.628722 132.47908 \nL 171.372901 135.151648 \nL 181.11708 135.025944 \nL 190.861259 138.488429 \nL 200.605438 136.607847 \nL 210.349618 139.5 \n\" clip-path=\"url(#p691532f28c)\" style=\"fill: none; stroke: #1f77b4; stroke-width: 1.5; stroke-linecap: square\"/>\n   </g>\n   <g id=\"line2d_116\">\n    <path d=\"M 49.633125 85.923261 \nL 69.163125 101.040301 \nL 88.693125 111.015964 \nL 108.223125 106.223166 \nL 127.753125 118.636038 \nL 147.283125 99.763866 \nL 166.813125 114.913613 \nL 186.343125 113.465425 \nL 205.873125 100.123623 \n\" clip-path=\"url(#p691532f28c)\" style=\"fill: none; stroke-dasharray: 5.55,2.4; stroke-dashoffset: 0; stroke: #ff7f0e; stroke-width: 1.5\"/>\n   </g>\n   <g id=\"line2d_117\">\n    <path d=\"M 49.633125 26.494376 \nL 69.163125 21.798222 \nL 88.693125 17.489206 \nL 108.223125 19.509057 \nL 127.753125 15.082217 \nL 147.283125 20.569479 \nL 166.813125 16.984243 \nL 186.343125 16.260463 \nL 205.873125 20.636808 \n\" clip-path=\"url(#p691532f28c)\" style=\"fill: none; stroke-dasharray: 9.6,2.4,1.5,2.4; stroke-dashoffset: 0; stroke: #2ca02c; stroke-width: 1.5\"/>\n   </g>\n   <g id=\"line2d_118\">\n    <path d=\"M 34.954394 16.115086 \nL 44.698573 84.518195 \nL 54.442752 100.361187 \nL 64.186931 108.87378 \nL 73.93111 115.047647 \nL 83.675289 116.974712 \nL 93.419468 121.482444 \nL 103.163647 121.885939 \nL 112.907826 125.812842 \nL 122.652006 127.173603 \nL 132.396185 130.119833 \nL 142.140364 128.874205 \nL 151.884543 132.907679 \nL 161.628722 132.47908 \nL 171.372901 135.151648 \nL 181.11708 135.025944 \nL 190.861259 138.488429 \nL 200.605438 136.607847 \nL 210.349618 139.5 \nL 220.093797 138.913562 \n\" clip-path=\"url(#p691532f28c)\" style=\"fill: none; stroke: #1f77b4; stroke-width: 1.5; stroke-linecap: square\"/>\n   </g>\n   <g id=\"line2d_119\">\n    <path d=\"M 49.633125 85.923261 \nL 69.163125 101.040301 \nL 88.693125 111.015964 \nL 108.223125 106.223166 \nL 127.753125 118.636038 \nL 147.283125 99.763866 \nL 166.813125 114.913613 \nL 186.343125 113.465425 \nL 205.873125 100.123623 \n\" clip-path=\"url(#p691532f28c)\" style=\"fill: none; stroke-dasharray: 5.55,2.4; stroke-dashoffset: 0; stroke: #ff7f0e; stroke-width: 1.5\"/>\n   </g>\n   <g id=\"line2d_120\">\n    <path d=\"M 49.633125 26.494376 \nL 69.163125 21.798222 \nL 88.693125 17.489206 \nL 108.223125 19.509057 \nL 127.753125 15.082217 \nL 147.283125 20.569479 \nL 166.813125 16.984243 \nL 186.343125 16.260463 \nL 205.873125 20.636808 \n\" clip-path=\"url(#p691532f28c)\" style=\"fill: none; stroke-dasharray: 9.6,2.4,1.5,2.4; stroke-dashoffset: 0; stroke: #2ca02c; stroke-width: 1.5\"/>\n   </g>\n   <g id=\"line2d_121\">\n    <path d=\"M 34.954394 16.115086 \nL 44.698573 84.518195 \nL 54.442752 100.361187 \nL 64.186931 108.87378 \nL 73.93111 115.047647 \nL 83.675289 116.974712 \nL 93.419468 121.482444 \nL 103.163647 121.885939 \nL 112.907826 125.812842 \nL 122.652006 127.173603 \nL 132.396185 130.119833 \nL 142.140364 128.874205 \nL 151.884543 132.907679 \nL 161.628722 132.47908 \nL 171.372901 135.151648 \nL 181.11708 135.025944 \nL 190.861259 138.488429 \nL 200.605438 136.607847 \nL 210.349618 139.5 \nL 220.093797 138.913562 \n\" clip-path=\"url(#p691532f28c)\" style=\"fill: none; stroke: #1f77b4; stroke-width: 1.5; stroke-linecap: square\"/>\n   </g>\n   <g id=\"line2d_122\">\n    <path d=\"M 49.633125 85.923261 \nL 69.163125 101.040301 \nL 88.693125 111.015964 \nL 108.223125 106.223166 \nL 127.753125 118.636038 \nL 147.283125 99.763866 \nL 166.813125 114.913613 \nL 186.343125 113.465425 \nL 205.873125 100.123623 \nL 225.403125 121.991506 \n\" clip-path=\"url(#p691532f28c)\" style=\"fill: none; stroke-dasharray: 5.55,2.4; stroke-dashoffset: 0; stroke: #ff7f0e; stroke-width: 1.5\"/>\n   </g>\n   <g id=\"line2d_123\">\n    <path d=\"M 49.633125 26.494376 \nL 69.163125 21.798222 \nL 88.693125 17.489206 \nL 108.223125 19.509057 \nL 127.753125 15.082217 \nL 147.283125 20.569479 \nL 166.813125 16.984243 \nL 186.343125 16.260463 \nL 205.873125 20.636808 \n\" clip-path=\"url(#p691532f28c)\" style=\"fill: none; stroke-dasharray: 9.6,2.4,1.5,2.4; stroke-dashoffset: 0; stroke: #2ca02c; stroke-width: 1.5\"/>\n   </g>\n   <g id=\"line2d_124\">\n    <path d=\"M 34.954394 16.115086 \nL 44.698573 84.518195 \nL 54.442752 100.361187 \nL 64.186931 108.87378 \nL 73.93111 115.047647 \nL 83.675289 116.974712 \nL 93.419468 121.482444 \nL 103.163647 121.885939 \nL 112.907826 125.812842 \nL 122.652006 127.173603 \nL 132.396185 130.119833 \nL 142.140364 128.874205 \nL 151.884543 132.907679 \nL 161.628722 132.47908 \nL 171.372901 135.151648 \nL 181.11708 135.025944 \nL 190.861259 138.488429 \nL 200.605438 136.607847 \nL 210.349618 139.5 \nL 220.093797 138.913562 \n\" clip-path=\"url(#p691532f28c)\" style=\"fill: none; stroke: #1f77b4; stroke-width: 1.5; stroke-linecap: square\"/>\n   </g>\n   <g id=\"line2d_125\">\n    <path d=\"M 49.633125 85.923261 \nL 69.163125 101.040301 \nL 88.693125 111.015964 \nL 108.223125 106.223166 \nL 127.753125 118.636038 \nL 147.283125 99.763866 \nL 166.813125 114.913613 \nL 186.343125 113.465425 \nL 205.873125 100.123623 \nL 225.403125 121.991506 \n\" clip-path=\"url(#p691532f28c)\" style=\"fill: none; stroke-dasharray: 5.55,2.4; stroke-dashoffset: 0; stroke: #ff7f0e; stroke-width: 1.5\"/>\n   </g>\n   <g id=\"line2d_126\">\n    <path d=\"M 49.633125 26.494376 \nL 69.163125 21.798222 \nL 88.693125 17.489206 \nL 108.223125 19.509057 \nL 127.753125 15.082217 \nL 147.283125 20.569479 \nL 166.813125 16.984243 \nL 186.343125 16.260463 \nL 205.873125 20.636808 \nL 225.403125 13.5 \n\" clip-path=\"url(#p691532f28c)\" style=\"fill: none; stroke-dasharray: 9.6,2.4,1.5,2.4; stroke-dashoffset: 0; stroke: #2ca02c; stroke-width: 1.5\"/>\n   </g>\n   <g id=\"patch_3\">\n    <path d=\"M 30.103125 145.8 \nL 30.103125 7.2 \n\" style=\"fill: none; stroke: #000000; stroke-width: 0.8; stroke-linejoin: miter; stroke-linecap: square\"/>\n   </g>\n   <g id=\"patch_4\">\n    <path d=\"M 225.403125 145.8 \nL 225.403125 7.2 \n\" style=\"fill: none; stroke: #000000; stroke-width: 0.8; stroke-linejoin: miter; stroke-linecap: square\"/>\n   </g>\n   <g id=\"patch_5\">\n    <path d=\"M 30.103125 145.8 \nL 225.403125 145.8 \n\" style=\"fill: none; stroke: #000000; stroke-width: 0.8; stroke-linejoin: miter; stroke-linecap: square\"/>\n   </g>\n   <g id=\"patch_6\">\n    <path d=\"M 30.103125 7.2 \nL 225.403125 7.2 \n\" style=\"fill: none; stroke: #000000; stroke-width: 0.8; stroke-linejoin: miter; stroke-linecap: square\"/>\n   </g>\n   <g id=\"legend_1\">\n    <g id=\"patch_7\">\n     <path d=\"M 87.957813 100.434375 \nL 167.548438 100.434375 \nQ 169.548438 100.434375 169.548438 98.434375 \nL 169.548438 54.565625 \nQ 169.548438 52.565625 167.548438 52.565625 \nL 87.957813 52.565625 \nQ 85.957813 52.565625 85.957813 54.565625 \nL 85.957813 98.434375 \nQ 85.957813 100.434375 87.957813 100.434375 \nz\n\" style=\"fill: #ffffff; opacity: 0.8; stroke: #cccccc; stroke-linejoin: miter\"/>\n    </g>\n    <g id=\"line2d_127\">\n     <path d=\"M 89.957813 60.664063 \nL 99.957813 60.664063 \nL 109.957813 60.664063 \n\" style=\"fill: none; stroke: #1f77b4; stroke-width: 1.5; stroke-linecap: square\"/>\n    </g>\n    <g id=\"text_12\">\n     <!-- train_loss -->\n     <g transform=\"translate(117.957813 64.164063) scale(0.1 -0.1)\">\n      <defs>\n       <path id=\"DejaVuSans-74\" d=\"M 1172 4494 \nL 1172 3500 \nL 2356 3500 \nL 2356 3053 \nL 1172 3053 \nL 1172 1153 \nQ 1172 725 1289 603 \nQ 1406 481 1766 481 \nL 2356 481 \nL 2356 0 \nL 1766 0 \nQ 1100 0 847 248 \nQ 594 497 594 1153 \nL 594 3053 \nL 172 3053 \nL 172 3500 \nL 594 3500 \nL 594 4494 \nL 1172 4494 \nz\n\" transform=\"scale(0.015625)\"/>\n       <path id=\"DejaVuSans-72\" d=\"M 2631 2963 \nQ 2534 3019 2420 3045 \nQ 2306 3072 2169 3072 \nQ 1681 3072 1420 2755 \nQ 1159 2438 1159 1844 \nL 1159 0 \nL 581 0 \nL 581 3500 \nL 1159 3500 \nL 1159 2956 \nQ 1341 3275 1631 3429 \nQ 1922 3584 2338 3584 \nQ 2397 3584 2469 3576 \nQ 2541 3569 2628 3553 \nL 2631 2963 \nz\n\" transform=\"scale(0.015625)\"/>\n       <path id=\"DejaVuSans-61\" d=\"M 2194 1759 \nQ 1497 1759 1228 1600 \nQ 959 1441 959 1056 \nQ 959 750 1161 570 \nQ 1363 391 1709 391 \nQ 2188 391 2477 730 \nQ 2766 1069 2766 1631 \nL 2766 1759 \nL 2194 1759 \nz\nM 3341 1997 \nL 3341 0 \nL 2766 0 \nL 2766 531 \nQ 2569 213 2275 61 \nQ 1981 -91 1556 -91 \nQ 1019 -91 701 211 \nQ 384 513 384 1019 \nQ 384 1609 779 1909 \nQ 1175 2209 1959 2209 \nL 2766 2209 \nL 2766 2266 \nQ 2766 2663 2505 2880 \nQ 2244 3097 1772 3097 \nQ 1472 3097 1187 3025 \nQ 903 2953 641 2809 \nL 641 3341 \nQ 956 3463 1253 3523 \nQ 1550 3584 1831 3584 \nQ 2591 3584 2966 3190 \nQ 3341 2797 3341 1997 \nz\n\" transform=\"scale(0.015625)\"/>\n       <path id=\"DejaVuSans-69\" d=\"M 603 3500 \nL 1178 3500 \nL 1178 0 \nL 603 0 \nL 603 3500 \nz\nM 603 4863 \nL 1178 4863 \nL 1178 4134 \nL 603 4134 \nL 603 4863 \nz\n\" transform=\"scale(0.015625)\"/>\n       <path id=\"DejaVuSans-6e\" d=\"M 3513 2113 \nL 3513 0 \nL 2938 0 \nL 2938 2094 \nQ 2938 2591 2744 2837 \nQ 2550 3084 2163 3084 \nQ 1697 3084 1428 2787 \nQ 1159 2491 1159 1978 \nL 1159 0 \nL 581 0 \nL 581 3500 \nL 1159 3500 \nL 1159 2956 \nQ 1366 3272 1645 3428 \nQ 1925 3584 2291 3584 \nQ 2894 3584 3203 3211 \nQ 3513 2838 3513 2113 \nz\n\" transform=\"scale(0.015625)\"/>\n       <path id=\"DejaVuSans-5f\" d=\"M 3263 -1063 \nL 3263 -1509 \nL -63 -1509 \nL -63 -1063 \nL 3263 -1063 \nz\n\" transform=\"scale(0.015625)\"/>\n       <path id=\"DejaVuSans-6c\" d=\"M 603 4863 \nL 1178 4863 \nL 1178 0 \nL 603 0 \nL 603 4863 \nz\n\" transform=\"scale(0.015625)\"/>\n       <path id=\"DejaVuSans-73\" d=\"M 2834 3397 \nL 2834 2853 \nQ 2591 2978 2328 3040 \nQ 2066 3103 1784 3103 \nQ 1356 3103 1142 2972 \nQ 928 2841 928 2578 \nQ 928 2378 1081 2264 \nQ 1234 2150 1697 2047 \nL 1894 2003 \nQ 2506 1872 2764 1633 \nQ 3022 1394 3022 966 \nQ 3022 478 2636 193 \nQ 2250 -91 1575 -91 \nQ 1294 -91 989 -36 \nQ 684 19 347 128 \nL 347 722 \nQ 666 556 975 473 \nQ 1284 391 1588 391 \nQ 1994 391 2212 530 \nQ 2431 669 2431 922 \nQ 2431 1156 2273 1281 \nQ 2116 1406 1581 1522 \nL 1381 1569 \nQ 847 1681 609 1914 \nQ 372 2147 372 2553 \nQ 372 3047 722 3315 \nQ 1072 3584 1716 3584 \nQ 2034 3584 2315 3537 \nQ 2597 3491 2834 3397 \nz\n\" transform=\"scale(0.015625)\"/>\n      </defs>\n      <use xlink:href=\"#DejaVuSans-74\"/>\n      <use xlink:href=\"#DejaVuSans-72\" x=\"39.208984\"/>\n      <use xlink:href=\"#DejaVuSans-61\" x=\"80.322266\"/>\n      <use xlink:href=\"#DejaVuSans-69\" x=\"141.601562\"/>\n      <use xlink:href=\"#DejaVuSans-6e\" x=\"169.384766\"/>\n      <use xlink:href=\"#DejaVuSans-5f\" x=\"232.763672\"/>\n      <use xlink:href=\"#DejaVuSans-6c\" x=\"282.763672\"/>\n      <use xlink:href=\"#DejaVuSans-6f\" x=\"310.546875\"/>\n      <use xlink:href=\"#DejaVuSans-73\" x=\"371.728516\"/>\n      <use xlink:href=\"#DejaVuSans-73\" x=\"423.828125\"/>\n     </g>\n    </g>\n    <g id=\"line2d_128\">\n     <path d=\"M 89.957813 75.620313 \nL 99.957813 75.620313 \nL 109.957813 75.620313 \n\" style=\"fill: none; stroke-dasharray: 5.55,2.4; stroke-dashoffset: 0; stroke: #ff7f0e; stroke-width: 1.5\"/>\n    </g>\n    <g id=\"text_13\">\n     <!-- val_loss -->\n     <g transform=\"translate(117.957813 79.120313) scale(0.1 -0.1)\">\n      <defs>\n       <path id=\"DejaVuSans-76\" d=\"M 191 3500 \nL 800 3500 \nL 1894 563 \nL 2988 3500 \nL 3597 3500 \nL 2284 0 \nL 1503 0 \nL 191 3500 \nz\n\" transform=\"scale(0.015625)\"/>\n      </defs>\n      <use xlink:href=\"#DejaVuSans-76\"/>\n      <use xlink:href=\"#DejaVuSans-61\" x=\"59.179688\"/>\n      <use xlink:href=\"#DejaVuSans-6c\" x=\"120.458984\"/>\n      <use xlink:href=\"#DejaVuSans-5f\" x=\"148.242188\"/>\n      <use xlink:href=\"#DejaVuSans-6c\" x=\"198.242188\"/>\n      <use xlink:href=\"#DejaVuSans-6f\" x=\"226.025391\"/>\n      <use xlink:href=\"#DejaVuSans-73\" x=\"287.207031\"/>\n      <use xlink:href=\"#DejaVuSans-73\" x=\"339.306641\"/>\n     </g>\n    </g>\n    <g id=\"line2d_129\">\n     <path d=\"M 89.957813 90.576563 \nL 99.957813 90.576563 \nL 109.957813 90.576563 \n\" style=\"fill: none; stroke-dasharray: 9.6,2.4,1.5,2.4; stroke-dashoffset: 0; stroke: #2ca02c; stroke-width: 1.5\"/>\n    </g>\n    <g id=\"text_14\">\n     <!-- val_acc -->\n     <g transform=\"translate(117.957813 94.076563) scale(0.1 -0.1)\">\n      <use xlink:href=\"#DejaVuSans-76\"/>\n      <use xlink:href=\"#DejaVuSans-61\" x=\"59.179688\"/>\n      <use xlink:href=\"#DejaVuSans-6c\" x=\"120.458984\"/>\n      <use xlink:href=\"#DejaVuSans-5f\" x=\"148.242188\"/>\n      <use xlink:href=\"#DejaVuSans-61\" x=\"198.242188\"/>\n      <use xlink:href=\"#DejaVuSans-63\" x=\"259.521484\"/>\n      <use xlink:href=\"#DejaVuSans-63\" x=\"314.501953\"/>\n     </g>\n    </g>\n   </g>\n  </g>\n </g>\n <defs>\n  <clipPath id=\"p691532f28c\">\n   <rect x=\"30.103125\" y=\"7.2\" width=\"195.3\" height=\"138.6\"/>\n  </clipPath>\n </defs>\n</svg>\n"
          },
          "metadata": {}
        }
      ]
    },
    {
      "cell_type": "markdown",
      "source": [
        "## 8.8.6 Exercises\n",
        "\n",
        "1. Increase the number of stages to four. Can you design a deeper RegNetX that performs better?\n",
        "\n",
        "2. De-ResNeXt-ify RegNets by replacing the ResNeXt block with the ResNet block. How does your new model perform?\n",
        "\n",
        "3. Implement multiple instances of a “VioNet” family by violating the design principles of RegNetX. How do they perform? Which of (di, ci, gi,bi) is the most important factor?\n",
        "\n",
        "4. Your goal is to design the “perfect” MLP. Can you use the design principles introduced above to find good architectures? Is it possible to extrapolate from small to large networks?"
      ],
      "metadata": {
        "id": "_M6LOuL95Z1O"
      },
      "id": "_M6LOuL95Z1O"
    },
    {
      "cell_type": "markdown",
      "source": [
        "## Jawaban Exercises 8.8.6\n",
        "\n",
        "\n",
        "---\n",
        "\n"
      ],
      "metadata": {
        "id": "r5bynE7U5te4"
      },
      "id": "r5bynE7U5te4"
    },
    {
      "cell_type": "markdown",
      "source": [
        "**1. Increase the Number of Stages to Four**\n",
        "\n",
        "**Jawaban:** Menambah jumlah stages pada RegNetX menjadi empat dapat meningkatkan performa, terutama jika setiap stage memiliki jumlah filter yang meningkat. Dengan lebih banyak stages, model dapat mempelajari representasi lebih kompleks dan mendalam.\n",
        "\n",
        "**Implementasi:** Berikut adalah implementasi modifikasi RegNetX dengan empat stages menggunakan PyTorch:"
      ],
      "metadata": {
        "id": "Fd679_Uw5zdP"
      },
      "id": "Fd679_Uw5zdP"
    },
    {
      "cell_type": "code",
      "source": [
        "import torch\n",
        "import torch.nn as nn\n",
        "import torch.nn.functional as F\n",
        "\n",
        "class RegNetXBlock(nn.Module):\n",
        "    def __init__(self, in_channels, out_channels, stride=1):\n",
        "        super(RegNetXBlock, self).__init__()\n",
        "        self.conv1 = nn.Conv2d(in_channels, out_channels, kernel_size=3, stride=stride, padding=1, bias=False)\n",
        "        self.bn1 = nn.BatchNorm2d(out_channels)\n",
        "        self.conv2 = nn.Conv2d(out_channels, out_channels, kernel_size=3, stride=1, padding=1, bias=False)\n",
        "        self.bn2 = nn.BatchNorm2d(out_channels)\n",
        "\n",
        "        self.downsample = nn.Sequential()\n",
        "        if stride != 1 or in_channels != out_channels:\n",
        "            self.downsample = nn.Sequential(\n",
        "                nn.Conv2d(in_channels, out_channels, kernel_size=1, stride=stride, bias=False),\n",
        "                nn.BatchNorm2d(out_channels)\n",
        "            )\n",
        "\n",
        "    def forward(self, x):\n",
        "        identity = self.downsample(x)\n",
        "        out = F.relu(self.bn1(self.conv1(x)))\n",
        "        out = self.bn2(self.conv2(out))\n",
        "        out += identity\n",
        "        return F.relu(out)\n",
        "\n",
        "class RegNetX(nn.Module):\n",
        "    def __init__(self, num_classes=10):\n",
        "        super(RegNetX, self).__init__()\n",
        "        self.stage1 = self._make_stage(3, 64, 2)\n",
        "        self.stage2 = self._make_stage(64, 128, 2)\n",
        "        self.stage3 = self._make_stage(128, 256, 2)\n",
        "        self.stage4 = self._make_stage(256, 512, 2)\n",
        "        self.fc = nn.Linear(512, num_classes)\n",
        "\n",
        "    def _make_stage(self, in_channels, out_channels, blocks, stride=1):\n",
        "        layers = []\n",
        "        layers.append(RegNetXBlock(in_channels, out_channels, stride))\n",
        "        for _ in range(1, blocks):\n",
        "            layers.append(RegNetXBlock(out_channels, out_channels))\n",
        "        return nn.Sequential(*layers)\n",
        "\n",
        "    def forward(self, x):\n",
        "        x = self.stage1(x)\n",
        "        x = self.stage2(x)\n",
        "        x = self.stage3(x)\n",
        "        x = self.stage4(x)\n",
        "        x = F.adaptive_avg_pool2d(x, (1, 1))\n",
        "        x = torch.flatten(x, 1)\n",
        "        x = self.fc(x)\n",
        "        return x\n",
        "\n",
        "# Menguji model\n",
        "model = RegNetX(num_classes=10)\n",
        "x = torch.randn(1, 3, 224, 224)  # Input tensor dengan ukuran (batch_size, channels, height, width)\n",
        "output = model(x)\n",
        "print(output.shape)  # Seharusnya menghasilkan (1, 10) untuk klasifikasi 10 kelas\n"
      ],
      "metadata": {
        "colab": {
          "base_uri": "https://localhost:8080/"
        },
        "id": "VtdqM0RH5RC-",
        "outputId": "e70fa443-3fb4-4acd-8820-47b566807821"
      },
      "id": "VtdqM0RH5RC-",
      "execution_count": null,
      "outputs": [
        {
          "output_type": "stream",
          "name": "stdout",
          "text": [
            "torch.Size([1, 10])\n"
          ]
        }
      ]
    },
    {
      "cell_type": "markdown",
      "source": [
        "**2. De-ResNeXt-ify RegNets by Replacing the ResNeXt Block with the ResNet Block**\n",
        "\n",
        "**Jawaban:** Mengganti ResNeXt block dengan ResNet block di RegNet akan membuat model lebih sederhana karena ResNet block tidak memiliki group convolutions yang terdapat pada ResNeXt. Hal ini dapat menyebabkan sedikit penurunan performa karena hilangnya fitur efisiensi dari group convolutions.\n",
        "\n",
        "**Implementasi:** Modifikasi ini cukup mudah; tinggal menggunakan Residual Block biasa sebagai gantinya. Contoh blok residual:"
      ],
      "metadata": {
        "id": "LWlrtvyU56Sa"
      },
      "id": "LWlrtvyU56Sa"
    },
    {
      "cell_type": "code",
      "source": [
        "class ResNetBlock(nn.Module):\n",
        "    def __init__(self, in_channels, out_channels, stride=1):\n",
        "        super(ResNetBlock, self).__init__()\n",
        "        self.conv1 = nn.Conv2d(in_channels, out_channels, kernel_size=3, stride=stride, padding=1, bias=False)\n",
        "        self.bn1 = nn.BatchNorm2d(out_channels)\n",
        "        self.conv2 = nn.Conv2d(out_channels, out_channels, kernel_size=3, stride=1, padding=1, bias=False)\n",
        "        self.bn2 = nn.BatchNorm2d(out_channels)\n",
        "\n",
        "        self.downsample = nn.Sequential()\n",
        "        if stride != 1 or in_channels != out_channels:\n",
        "            self.downsample = nn.Sequential(\n",
        "                nn.Conv2d(in_channels, out_channels, kernel_size=1, stride=stride, bias=False),\n",
        "                nn.BatchNorm2d(out_channels)\n",
        "            )\n",
        "\n",
        "    def forward(self, x):\n",
        "        identity = self.downsample(x)\n",
        "        out = F.relu(self.bn1(self.conv1(x)))\n",
        "        out = self.bn2(self.conv2(out))\n",
        "        out += identity\n",
        "        return F.relu(out)\n"
      ],
      "metadata": {
        "id": "9q6oj4Ox6ZS9"
      },
      "id": "9q6oj4Ox6ZS9",
      "execution_count": null,
      "outputs": []
    },
    {
      "cell_type": "markdown",
      "source": [
        "Model RegNetX yang menggunakan ResNetBlock dapat didefinisikan dengan mengganti RegNetXBlock dengan ResNetBlock pada implementasi sebelumnya"
      ],
      "metadata": {
        "id": "u22ERmb06buh"
      },
      "id": "u22ERmb06buh"
    },
    {
      "cell_type": "markdown",
      "source": [
        "**3. Implement Multiple Instances of a “VioNet” Family by Violating the Design Principles of RegNetX**\n",
        "\n",
        "**Jawaban:** Untuk melanggar prinsip desain RegNetX, kita dapat mencoba berbagai perubahan, seperti:\n",
        "\n",
        "   * Mengubah depth (di), width (ci), group width (gi), atau bottlenect ratio (bi)\n",
        "   * Menguji performa model dengan variasi parameter ini untuk mengetahui mana yang paling berpengaruh terhadap performa.\n",
        "\n",
        "**Implementasi:** Berikut adalah contoh untuk membuat beberapa instansi dari model \"VioNet\" dengan mengubah berbagai parameter:"
      ],
      "metadata": {
        "id": "ToKNmj2w6clM"
      },
      "id": "ToKNmj2w6clM"
    },
    {
      "cell_type": "code",
      "source": [
        "def create_vionet(depth, width, group_width, bottleneck_ratio):\n",
        "    # Implementasi sederhana dari \"VioNet\" dengan pelanggaran desain\n",
        "    class VioNet(nn.Module):\n",
        "        def __init__(self):\n",
        "            super(VioNet, self).__init__()\n",
        "            self.conv1 = nn.Conv2d(3, width, kernel_size=3, stride=1, padding=1)\n",
        "            self.bn1 = nn.BatchNorm2d(width)\n",
        "            self.blocks = self._make_blocks(depth, width, group_width, bottleneck_ratio)\n",
        "            self.fc = nn.Linear(width, 10)\n",
        "\n",
        "        def _make_blocks(self, depth, width, group_width, bottleneck_ratio):\n",
        "            layers = []\n",
        "            for _ in range(depth):\n",
        "                layers.append(\n",
        "                    nn.Conv2d(width, int(width * bottleneck_ratio), kernel_size=1, groups=group_width)\n",
        "                )\n",
        "                layers.append(nn.BatchNorm2d(int(width * bottleneck_ratio)))\n",
        "            return nn.Sequential(*layers)\n",
        "\n",
        "        def forward(self, x):\n",
        "            x = F.relu(self.bn1(self.conv1(x)))\n",
        "            x = self.blocks(x)\n",
        "            x = F.adaptive_avg_pool2d(x, (1, 1))\n",
        "            x = torch.flatten(x, 1)\n",
        "            return self.fc(x)\n",
        "\n",
        "    return VioNet()\n",
        "\n",
        "# Membuat beberapa instansi dengan parameter yang berbeda\n",
        "vionet1 = create_vionet(depth=3, width=64, group_width=8, bottleneck_ratio=0.5)\n",
        "vionet2 = create_vionet(depth=4, width=128, group_width=4, bottleneck_ratio=1.0)\n"
      ],
      "metadata": {
        "id": "xI9IA20G7BiX"
      },
      "id": "xI9IA20G7BiX",
      "execution_count": null,
      "outputs": []
    },
    {
      "cell_type": "markdown",
      "source": [
        "**4. Design the “Perfect” MLP**\n",
        "\n",
        "**Jawaban:** Untuk mendesain MLP yang \"sempurna\", kita perlu memanfaatkan prinsip-prinsip desain dari RegNet, seperti memilih depth dan width yang sesuai, serta koneksi shortcut untuk membuat model lebih stabil dan efisien. Menggunakan pendekatan modular dan penggunaan ulang fitur adalah kunci dalam membuat arsitektur yang baik.\n",
        "\n",
        "**Implementasi:** Berikut adalah contoh implementasi MLP menggunakan prinsip-prinsip tersebut:"
      ],
      "metadata": {
        "id": "I1AeiEfI7aPf"
      },
      "id": "I1AeiEfI7aPf"
    },
    {
      "cell_type": "code",
      "source": [
        "class PerfectMLP(nn.Module):\n",
        "    def __init__(self, input_size, hidden_sizes, output_size):\n",
        "        super(PerfectMLP, self).__init__()\n",
        "        self.layers = nn.ModuleList()\n",
        "        in_features = input_size\n",
        "\n",
        "        for hidden_size in hidden_sizes:\n",
        "            self.layers.append(nn.Linear(in_features, hidden_size))\n",
        "            in_features = hidden_size\n",
        "\n",
        "        self.output_layer = nn.Linear(in_features, output_size)\n",
        "\n",
        "    def forward(self, x):\n",
        "        for layer in self.layers:\n",
        "            x = F.relu(layer(x))\n",
        "        x = self.output_layer(x)\n",
        "        return x\n",
        "\n",
        "# Contoh Perfect MLP untuk klasifikasi 10 kelas\n",
        "model = PerfectMLP(input_size=784, hidden_sizes=[512, 256, 128], output_size=10)\n"
      ],
      "metadata": {
        "id": "w8jmWpcn7e_z"
      },
      "id": "w8jmWpcn7e_z",
      "execution_count": null,
      "outputs": []
    },
    {
      "cell_type": "code",
      "source": [],
      "metadata": {
        "id": "Jfz6Db1E7gPL"
      },
      "id": "Jfz6Db1E7gPL",
      "execution_count": null,
      "outputs": []
    }
  ],
  "metadata": {
    "accelerator": "GPU",
    "kernelspec": {
      "display_name": "Python 3",
      "name": "python3"
    },
    "language_info": {
      "name": "python"
    },
    "required_libs": [],
    "colab": {
      "provenance": [],
      "gpuType": "T4",
      "include_colab_link": true
    }
  },
  "nbformat": 4,
  "nbformat_minor": 5
}
